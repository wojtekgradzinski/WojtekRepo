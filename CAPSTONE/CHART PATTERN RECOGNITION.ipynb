{
    "cells": [
        {
            "cell_type": "code",
            "execution_count": 6,
            "source": [
                "\r\n",
                "# !pip install fastai==2.0.15\r\n",
                "# !pip install fastai2==0.0.30\r\n",
                "# !pip install fastcore==1.0.16\r\n",
                "from datetime import date\r\n",
                "from nsepy import get_history\r\n",
                "import pandas as pd\r\n",
                "\r\n",
                "import matplotlib.pyplot as plt\r\n",
                "import numpy as np\r\n",
                "import pandas as pd\r\n",
                "\r\n",
                "from fastai.vision import *\r\n",
                "from fastai.metrics import error_rate\r\n",
                "\r\n",
                "from fastai.callbacks.hooks import *\r\n",
                "\r\n"
            ],
            "outputs": [
                {
                    "output_type": "error",
                    "ename": "ModuleNotFoundError",
                    "evalue": "No module named 'fastai.callbacks'",
                    "traceback": [
                        "\u001b[1;31m---------------------------------------------------------------------------\u001b[0m",
                        "\u001b[1;31mModuleNotFoundError\u001b[0m                       Traceback (most recent call last)",
                        "\u001b[1;32m<ipython-input-6-0a767162d9c6>\u001b[0m in \u001b[0;36m<module>\u001b[1;34m\u001b[0m\n\u001b[0;32m     13\u001b[0m \u001b[1;32mfrom\u001b[0m \u001b[0mfastai\u001b[0m\u001b[1;33m.\u001b[0m\u001b[0mmetrics\u001b[0m \u001b[1;32mimport\u001b[0m \u001b[0merror_rate\u001b[0m\u001b[1;33m\u001b[0m\u001b[1;33m\u001b[0m\u001b[0m\n\u001b[0;32m     14\u001b[0m \u001b[1;33m\u001b[0m\u001b[0m\n\u001b[1;32m---> 15\u001b[1;33m \u001b[1;32mfrom\u001b[0m \u001b[0mfastai\u001b[0m\u001b[1;33m.\u001b[0m\u001b[0mcallbacks\u001b[0m\u001b[1;33m.\u001b[0m\u001b[0mhooks\u001b[0m \u001b[1;32mimport\u001b[0m \u001b[1;33m*\u001b[0m\u001b[1;33m\u001b[0m\u001b[1;33m\u001b[0m\u001b[0m\n\u001b[0m\u001b[0;32m     16\u001b[0m \u001b[1;33m\u001b[0m\u001b[0m\n",
                        "\u001b[1;31mModuleNotFoundError\u001b[0m: No module named 'fastai.callbacks'"
                    ]
                },
                {
                    "output_type": "stream",
                    "name": "stderr",
                    "text": [
                        "ERROR: Could not install packages due to an OSError: [WinError 5] Access is denied: 'C:\\\\Users\\\\Wojtek\\\\anaconda3\\\\envs\\\\dl\\\\Lib\\\\site-packages\\\\~~mpy\\\\.libs\\\\libopenblas.GK7GX5KEQ4F6UYO3P26ULGBQYHGQO7J4.gfortran-win_amd64.dll'\n",
                        "Consider using the `--user` option or check the permissions.\n",
                        "\n"
                    ]
                },
                {
                    "output_type": "stream",
                    "name": "stdout",
                    "text": [
                        "Collecting tensorflow\n",
                        "  Downloading tensorflow-2.5.0-cp38-cp38-win_amd64.whl (422.6 MB)\n",
                        "Requirement already satisfied: protobuf>=3.9.2 in c:\\users\\wojtek\\anaconda3\\envs\\dl\\lib\\site-packages (from tensorflow) (3.17.3)\n",
                        "Collecting tensorflow-estimator<2.6.0,>=2.5.0rc0\n",
                        "  Downloading tensorflow_estimator-2.5.0-py2.py3-none-any.whl (462 kB)\n",
                        "Collecting keras-nightly~=2.5.0.dev\n",
                        "  Downloading keras_nightly-2.5.0.dev2021032900-py2.py3-none-any.whl (1.2 MB)\n",
                        "Requirement already satisfied: astunparse~=1.6.3 in c:\\users\\wojtek\\anaconda3\\envs\\dl\\lib\\site-packages (from tensorflow) (1.6.3)\n",
                        "Requirement already satisfied: opt-einsum~=3.3.0 in c:\\users\\wojtek\\anaconda3\\envs\\dl\\lib\\site-packages (from tensorflow) (3.3.0)\n",
                        "Requirement already satisfied: wrapt~=1.12.1 in c:\\users\\wojtek\\anaconda3\\envs\\dl\\lib\\site-packages (from tensorflow) (1.12.1)\n",
                        "Collecting gast==0.4.0\n",
                        "  Downloading gast-0.4.0-py3-none-any.whl (9.8 kB)\n",
                        "Requirement already satisfied: google-pasta~=0.2 in c:\\users\\wojtek\\anaconda3\\envs\\dl\\lib\\site-packages (from tensorflow) (0.2.0)\n",
                        "Collecting grpcio~=1.34.0\n",
                        "  Downloading grpcio-1.34.1-cp38-cp38-win_amd64.whl (2.9 MB)\n",
                        "Collecting numpy~=1.19.2\n",
                        "  Downloading numpy-1.19.5-cp38-cp38-win_amd64.whl (13.3 MB)\n",
                        "Collecting flatbuffers~=1.12.0\n",
                        "  Downloading flatbuffers-1.12-py2.py3-none-any.whl (15 kB)\n",
                        "Requirement already satisfied: termcolor~=1.1.0 in c:\\users\\wojtek\\anaconda3\\envs\\dl\\lib\\site-packages (from tensorflow) (1.1.0)\n",
                        "Requirement already satisfied: wheel~=0.35 in c:\\users\\wojtek\\anaconda3\\envs\\dl\\lib\\site-packages (from tensorflow) (0.36.2)\n",
                        "Collecting h5py~=3.1.0\n",
                        "  Downloading h5py-3.1.0-cp38-cp38-win_amd64.whl (2.7 MB)\n",
                        "Requirement already satisfied: keras-preprocessing~=1.1.2 in c:\\users\\wojtek\\anaconda3\\envs\\dl\\lib\\site-packages (from tensorflow) (1.1.2)\n",
                        "Collecting six~=1.15.0\n",
                        "  Downloading six-1.15.0-py2.py3-none-any.whl (10 kB)\n",
                        "Collecting tensorboard~=2.5\n",
                        "  Downloading tensorboard-2.5.0-py3-none-any.whl (6.0 MB)\n",
                        "Requirement already satisfied: absl-py~=0.10 in c:\\users\\wojtek\\anaconda3\\envs\\dl\\lib\\site-packages (from tensorflow) (0.13.0)\n",
                        "Requirement already satisfied: typing-extensions~=3.7.4 in c:\\users\\wojtek\\anaconda3\\envs\\dl\\lib\\site-packages (from tensorflow) (3.7.4.3)\n",
                        "Requirement already satisfied: google-auth<2,>=1.6.3 in c:\\users\\wojtek\\anaconda3\\envs\\dl\\lib\\site-packages (from tensorboard~=2.5->tensorflow) (1.32.0)\n",
                        "Requirement already satisfied: google-auth-oauthlib<0.5,>=0.4.1 in c:\\users\\wojtek\\anaconda3\\envs\\dl\\lib\\site-packages (from tensorboard~=2.5->tensorflow) (0.4.4)\n",
                        "Requirement already satisfied: setuptools>=41.0.0 in c:\\users\\wojtek\\anaconda3\\envs\\dl\\lib\\site-packages (from tensorboard~=2.5->tensorflow) (52.0.0.post20210125)\n",
                        "Requirement already satisfied: werkzeug>=0.11.15 in c:\\users\\wojtek\\anaconda3\\envs\\dl\\lib\\site-packages (from tensorboard~=2.5->tensorflow) (1.0.1)\n",
                        "Requirement already satisfied: requests<3,>=2.21.0 in c:\\users\\wojtek\\anaconda3\\envs\\dl\\lib\\site-packages (from tensorboard~=2.5->tensorflow) (2.25.1)\n",
                        "Collecting tensorboard-data-server<0.7.0,>=0.6.0\n",
                        "  Downloading tensorboard_data_server-0.6.1-py3-none-any.whl (2.4 kB)\n",
                        "Requirement already satisfied: markdown>=2.6.8 in c:\\users\\wojtek\\anaconda3\\envs\\dl\\lib\\site-packages (from tensorboard~=2.5->tensorflow) (3.3.4)\n",
                        "Requirement already satisfied: tensorboard-plugin-wit>=1.6.0 in c:\\users\\wojtek\\anaconda3\\envs\\dl\\lib\\site-packages (from tensorboard~=2.5->tensorflow) (1.6.0)\n",
                        "Requirement already satisfied: pyasn1-modules>=0.2.1 in c:\\users\\wojtek\\anaconda3\\envs\\dl\\lib\\site-packages (from google-auth<2,>=1.6.3->tensorboard~=2.5->tensorflow) (0.2.8)\n",
                        "Requirement already satisfied: rsa<5,>=3.1.4 in c:\\users\\wojtek\\anaconda3\\envs\\dl\\lib\\site-packages (from google-auth<2,>=1.6.3->tensorboard~=2.5->tensorflow) (4.7.2)\n",
                        "Requirement already satisfied: cachetools<5.0,>=2.0.0 in c:\\users\\wojtek\\anaconda3\\envs\\dl\\lib\\site-packages (from google-auth<2,>=1.6.3->tensorboard~=2.5->tensorflow) (4.2.2)\n",
                        "Requirement already satisfied: requests-oauthlib>=0.7.0 in c:\\users\\wojtek\\anaconda3\\envs\\dl\\lib\\site-packages (from google-auth-oauthlib<0.5,>=0.4.1->tensorboard~=2.5->tensorflow) (1.3.0)\n",
                        "Requirement already satisfied: pyasn1<0.5.0,>=0.4.6 in c:\\users\\wojtek\\anaconda3\\envs\\dl\\lib\\site-packages (from pyasn1-modules>=0.2.1->google-auth<2,>=1.6.3->tensorboard~=2.5->tensorflow) (0.4.8)\n",
                        "Requirement already satisfied: chardet<5,>=3.0.2 in c:\\users\\wojtek\\anaconda3\\envs\\dl\\lib\\site-packages (from requests<3,>=2.21.0->tensorboard~=2.5->tensorflow) (3.0.4)\n",
                        "Requirement already satisfied: idna<3,>=2.5 in c:\\users\\wojtek\\anaconda3\\envs\\dl\\lib\\site-packages (from requests<3,>=2.21.0->tensorboard~=2.5->tensorflow) (2.10)\n",
                        "Requirement already satisfied: urllib3<1.27,>=1.21.1 in c:\\users\\wojtek\\anaconda3\\envs\\dl\\lib\\site-packages (from requests<3,>=2.21.0->tensorboard~=2.5->tensorflow) (1.26.4)\n",
                        "Requirement already satisfied: certifi>=2017.4.17 in c:\\users\\wojtek\\anaconda3\\envs\\dl\\lib\\site-packages (from requests<3,>=2.21.0->tensorboard~=2.5->tensorflow) (2021.5.30)\n",
                        "Requirement already satisfied: oauthlib>=3.0.0 in c:\\users\\wojtek\\anaconda3\\envs\\dl\\lib\\site-packages (from requests-oauthlib>=0.7.0->google-auth-oauthlib<0.5,>=0.4.1->tensorboard~=2.5->tensorflow) (3.1.0)\n",
                        "Installing collected packages: six, tensorboard-data-server, numpy, grpcio, tensorflow-estimator, tensorboard, keras-nightly, h5py, gast, flatbuffers, tensorflow\n",
                        "  Attempting uninstall: six\n",
                        "    Found existing installation: six 1.16.0\n",
                        "    Uninstalling six-1.16.0:\n",
                        "      Successfully uninstalled six-1.16.0\n",
                        "  Attempting uninstall: numpy\n",
                        "    Found existing installation: numpy 1.21.0\n",
                        "    Uninstalling numpy-1.21.0:\n",
                        "      Successfully uninstalled numpy-1.21.0\n"
                    ]
                }
            ],
            "metadata": {}
        },
        {
            "cell_type": "code",
            "execution_count": 5,
            "source": [
                "def obtain_data(ticker,start,end):\r\n",
                "    # Enter the start and end dates using the method date(yyyy,m,dd)    \r\n",
                "    stock=get_history(symbol=ticker,start=date(2010,1,1),end=date(2020,1,1))\r\n",
                "    df=stock.copy()\r\n",
                "    df=df.reset_index()\r\n",
                "    df=df.drop(['Series','Prev Close','Last','Turnover','%Deliverble','Trades'],axis=1)\r\n",
                "    df=df.rename({'Open':'open_price','Close':'close_price','High':'high','Low':'low','Volume':'volume'},axis='columns')\r\n",
                "    df.index=df.Date\r\n",
                "    return df"
            ],
            "outputs": [],
            "metadata": {}
        },
        {
            "cell_type": "code",
            "execution_count": 12,
            "source": [
                "\"\"\"This cell defineds the plot_candles function\"\"\"\r\n",
                "\r\n",
                "def plot_candles(pricing, title=None, volume_bars=False, color_function=None, technicals=None):\r\n",
                "    \"\"\" Plots a candlestick chart using quantopian pricing data.\r\n",
                "    \r\n",
                "    Author: Daniel Treiman\r\n",
                "    \r\n",
                "    Args:\r\n",
                "      pricing: A pandas dataframe with columns ['open_price', 'close_price', 'high', 'low', 'volume']\r\n",
                "      title: An optional title for the chart\r\n",
                "      volume_bars: If True, plots volume bars\r\n",
                "      color_function: A function which, given a row index and price series, returns a candle color.\r\n",
                "      technicals: A list of additional data series to add to the chart.  Must be the same length as pricing.\r\n",
                "    \"\"\"\r\n",
                "    def default_color(index, open_price, close_price, low, high):\r\n",
                "        return 'r' if open_price[index] > close_price[index] else 'g'\r\n",
                "    color_function = color_function or default_color\r\n",
                "    technicals = technicals or []\r\n",
                "    open_price = pricing['open_price']\r\n",
                "    close_price = pricing['close_price']\r\n",
                "    low = pricing['low']\r\n",
                "    high = pricing['high']\r\n",
                "    oc_min = pd.concat([open_price, close_price], axis=1).min(axis=1)\r\n",
                "    oc_max = pd.concat([open_price, close_price], axis=1).max(axis=1)\r\n",
                "    \r\n",
                "    if volume_bars:\r\n",
                "        fig, (ax1, ax2) = plt.subplots(2, 1, sharex=True, gridspec_kw={'height_ratios': [3,1]},figsize=(7,7))\r\n",
                "    else:\r\n",
                "        fig, ax1 = plt.subplots(1, 1)\r\n",
                "    if title:\r\n",
                "        ax1.set_title(title)\r\n",
                "    fig.tight_layout()\r\n",
                "    x = np.arange(len(pricing))\r\n",
                "    candle_colors = [color_function(i, open_price, close_price, low, high) for i in x]\r\n",
                "    candles = ax1.bar(x, oc_max-oc_min, bottom=oc_min, color=candle_colors, linewidth=0)\r\n",
                "    lines = ax1.vlines(x , low, high, color=candle_colors, linewidth=1)\r\n",
                "    ax1.xaxis.grid(True)\r\n",
                "    ax1.yaxis.grid(True)\r\n",
                "    ax1.xaxis.set_tick_params(which='major', length=3.0, direction='in', top='off')\r\n",
                "    ax1.set_yticklabels([])\r\n",
                "    # Assume minute frequency if first two bars are in the same day.\r\n",
                "    frequency = 'minute' if (pricing.index[1] - pricing.index[0]).days == 0 else 'day'\r\n",
                "    time_format = '%d-%m-%Y'\r\n",
                "    if frequency == 'minute':\r\n",
                "        time_format = '%H:%M'\r\n",
                "    # Set X axis tick labels.\r\n",
                "    #plt.xticks(x, [date.strftime(time_format) for date in pricing.index], rotation='vertical')\r\n",
                "    for indicator in technicals:\r\n",
                "        ax1.plot(x, indicator)\r\n",
                "    \r\n",
                "    if volume_bars:\r\n",
                "        volume = pricing['volume']\r\n",
                "        volume_scale = None\r\n",
                "        scaled_volume = volume\r\n",
                "        if volume.max() > 1000000:\r\n",
                "            volume_scale = 'M'\r\n",
                "            scaled_volume = volume / 1000000\r\n",
                "        elif volume.max() > 1000:\r\n",
                "            volume_scale = 'K'\r\n",
                "            scaled_volume = volume / 1000\r\n",
                "        ax2.bar(x, scaled_volume, color=candle_colors)\r\n",
                "        volume_title = 'Volume'\r\n",
                "        if volume_scale:\r\n",
                "            volume_title = 'Volume (%s)' % volume_scale\r\n",
                "        #ax2.set_title(volume_title)\r\n",
                "        ax2.xaxis.grid(True)\r\n",
                "        ax2.set_yticklabels([])\r\n",
                "        ax2.set_xticklabels([])\r\n",
                "    return fig"
            ],
            "outputs": [],
            "metadata": {}
        },
        {
            "cell_type": "code",
            "execution_count": null,
            "source": [
                "bs = 64\r\n",
                "# bs = 16   # uncomment this line if you run out of memory even after clicking Kernel->Restart\r\n",
                "\r\n",
                "path=Path('data/Candle Sticks/CandleData')\r\n",
                "path_save=Path('data/Candle Sticks/Processed')\r\n",
                "\r\n",
                "path.ls()"
            ],
            "outputs": [],
            "metadata": {}
        },
        {
            "cell_type": "code",
            "execution_count": null,
            "source": [
                "np.random.seed(42)\r\n",
                "data = ImageDataBunch.from_folder(path, train=\".\", valid_pct=0.2,\r\n",
                "        ds_tfms=get_transforms(flip_vert=False, max_lighting=0.1, max_zoom=1.05, max_warp=0.,max_rotate=3), size=224, num_workers=4).normalize(imagenet_stats)"
            ],
            "outputs": [],
            "metadata": {}
        },
        {
            "cell_type": "markdown",
            "source": [
                "\r\n",
                "Training the Model"
            ],
            "metadata": {}
        },
        {
            "cell_type": "markdown",
            "source": [
                "\r\n",
                "learn = cnn_learner(data, models.resnet34, metrics=error_rate)\r\n",
                "\r\n",
                "learn.fit_one_cycle(4)"
            ],
            "metadata": {}
        },
        {
            "cell_type": "code",
            "execution_count": 13,
            "source": [
                "#learn.unfreeze()"
            ],
            "outputs": [],
            "metadata": {}
        },
        {
            "cell_type": "code",
            "execution_count": null,
            "source": [
                "learn.lr_find()\r\n"
            ],
            "outputs": [],
            "metadata": {}
        },
        {
            "cell_type": "code",
            "execution_count": null,
            "source": [
                "learn.recorder.plot()"
            ],
            "outputs": [],
            "metadata": {}
        },
        {
            "cell_type": "code",
            "execution_count": null,
            "source": [
                "learn.fit_one_cycle(10, max_lr=slice(1e-6,1e-4))"
            ],
            "outputs": [],
            "metadata": {}
        },
        {
            "cell_type": "code",
            "execution_count": null,
            "source": [
                "learn.lr_find()"
            ],
            "outputs": [],
            "metadata": {}
        },
        {
            "cell_type": "code",
            "execution_count": null,
            "source": [
                "learn.recorder.plot()"
            ],
            "outputs": [],
            "metadata": {}
        },
        {
            "cell_type": "code",
            "execution_count": null,
            "source": [
                "learn.fit_one_cycle(5, max_lr=slice(1e-6,1e-4))"
            ],
            "outputs": [],
            "metadata": {}
        },
        {
            "cell_type": "code",
            "execution_count": null,
            "source": [
                "learn.lr_find()"
            ],
            "outputs": [],
            "metadata": {}
        },
        {
            "cell_type": "code",
            "execution_count": null,
            "source": [
                "learn.fit_one_cycle(5,max_lr=slice(1e-5,1e-4))"
            ],
            "outputs": [],
            "metadata": {}
        },
        {
            "cell_type": "code",
            "execution_count": null,
            "source": [
                "learn.save('First Model')"
            ],
            "outputs": [],
            "metadata": {}
        },
        {
            "cell_type": "code",
            "execution_count": null,
            "source": [
                "data = ImageDataBunch.from_folder(path, train=\".\", valid_pct=0.2,\r\n",
                "        ds_tfms=get_transforms(flip_vert=False, max_lighting=0.1, max_zoom=1.05, max_warp=0.,max_rotate=3), size=352, num_workers=4).normalize(imagenet_stats)"
            ],
            "outputs": [],
            "metadata": {}
        },
        {
            "cell_type": "code",
            "execution_count": null,
            "source": [
                "\r\n",
                "learn.data=data"
            ],
            "outputs": [],
            "metadata": {}
        },
        {
            "cell_type": "code",
            "execution_count": null,
            "source": [
                "gc.collect()\r\n",
                "learn.lr_find()"
            ],
            "outputs": [],
            "metadata": {}
        },
        {
            "cell_type": "code",
            "execution_count": null,
            "source": [
                "\r\n",
                "learn.recorder.plot()"
            ],
            "outputs": [],
            "metadata": {}
        },
        {
            "cell_type": "code",
            "execution_count": null,
            "source": [
                "learn.fit_one_cycle(5,max_lr=slice(1e-5,1e-4))"
            ],
            "outputs": [],
            "metadata": {}
        },
        {
            "cell_type": "code",
            "execution_count": null,
            "source": [
                "learn.lr_find()"
            ],
            "outputs": [],
            "metadata": {}
        },
        {
            "cell_type": "code",
            "execution_count": null,
            "source": [
                "learn.recorder.plot()"
            ],
            "outputs": [],
            "metadata": {}
        },
        {
            "cell_type": "code",
            "execution_count": null,
            "source": [
                "learn.fit_one_cycle(5,max_lr=slice(1e-6,1e-5))"
            ],
            "outputs": [],
            "metadata": {}
        },
        {
            "cell_type": "code",
            "execution_count": null,
            "source": [
                "learn.save('Model 2')"
            ],
            "outputs": [],
            "metadata": {}
        },
        {
            "cell_type": "code",
            "execution_count": null,
            "source": [
                "correcti=0\r\n",
                "list_down=[]\r\n",
                "list_up=[]\r\n",
                "for i in range(len(data.valid_ds)):\r\n",
                "    prediction=learn.predict(data.valid_ds[i][0])\r\n",
                "    if str(data.valid_ds[i][1])==\"Down\" and bool(prediction[1]==0) :\r\n",
                "        correcti=correcti+1\r\n",
                "        if prediction[2][0] >= 0.75 :\r\n",
                "            list_down=list_down + [i]\r\n",
                "            #print(prediction)\r\n",
                "            #print()\r\n",
                "    if str(data.valid_ds[i][1])==\"Up\" and bool(prediction[1]==1) :\r\n",
                "        correcti=correcti+1\r\n",
                "        if prediction[2][1] >= 0.75 :\r\n",
                "            list_up=list_up + [i]\r\n",
                "            #print(prediction)\r\n",
                "            #print()"
            ],
            "outputs": [],
            "metadata": {}
        },
        {
            "cell_type": "code",
            "execution_count": null,
            "source": [
                "len(list_down),len(list_up)"
            ],
            "outputs": [],
            "metadata": {}
        },
        {
            "cell_type": "markdown",
            "source": [
                "Finding the patterns"
            ],
            "metadata": {}
        },
        {
            "cell_type": "markdown",
            "source": [
                "idx=233\r\n",
                "x,y = data.valid_ds[idx]\r\n",
                "x.show()\r\n",
                "print(data.valid_ds.y[idx])"
            ],
            "metadata": {}
        },
        {
            "cell_type": "code",
            "execution_count": null,
            "source": [
                "xb,_ = data.one_item(x)\r\n",
                "xb_im = Image(data.denorm(xb)[0])\r\n",
                "xb = xb.cuda()"
            ],
            "outputs": [],
            "metadata": {}
        },
        {
            "cell_type": "code",
            "execution_count": null,
            "source": [
                "m = learn.model.eval()"
            ],
            "outputs": [],
            "metadata": {}
        },
        {
            "cell_type": "code",
            "execution_count": 19,
            "source": [
                "\r\n",
                "def hooked_backward(cat=y):\r\n",
                "    with hook_output(m[0]) as hook_a: \r\n",
                "        with hook_output(m[0], grad=True) as hook_g:\r\n",
                "            preds = m(xb)\r\n",
                "            preds[0,int(cat)].backward()\r\n",
                "    return hook_a,hook_g"
            ],
            "outputs": [
                {
                    "output_type": "error",
                    "ename": "NameError",
                    "evalue": "name 'y' is not defined",
                    "traceback": [
                        "\u001b[1;31m---------------------------------------------------------------------------\u001b[0m",
                        "\u001b[1;31mNameError\u001b[0m                                 Traceback (most recent call last)",
                        "\u001b[1;32m<ipython-input-19-a313f7e9c8af>\u001b[0m in \u001b[0;36m<module>\u001b[1;34m\u001b[0m\n\u001b[1;32m----> 1\u001b[1;33m \u001b[1;32mdef\u001b[0m \u001b[0mhooked_backward\u001b[0m\u001b[1;33m(\u001b[0m\u001b[0mcat\u001b[0m\u001b[1;33m=\u001b[0m\u001b[0my\u001b[0m\u001b[1;33m)\u001b[0m\u001b[1;33m:\u001b[0m\u001b[1;33m\u001b[0m\u001b[1;33m\u001b[0m\u001b[0m\n\u001b[0m\u001b[0;32m      2\u001b[0m     \u001b[1;32mwith\u001b[0m \u001b[0mhook_output\u001b[0m\u001b[1;33m(\u001b[0m\u001b[0mm\u001b[0m\u001b[1;33m[\u001b[0m\u001b[1;36m0\u001b[0m\u001b[1;33m]\u001b[0m\u001b[1;33m)\u001b[0m \u001b[1;32mas\u001b[0m \u001b[0mhook_a\u001b[0m\u001b[1;33m:\u001b[0m\u001b[1;33m\u001b[0m\u001b[1;33m\u001b[0m\u001b[0m\n\u001b[0;32m      3\u001b[0m         \u001b[1;32mwith\u001b[0m \u001b[0mhook_output\u001b[0m\u001b[1;33m(\u001b[0m\u001b[0mm\u001b[0m\u001b[1;33m[\u001b[0m\u001b[1;36m0\u001b[0m\u001b[1;33m]\u001b[0m\u001b[1;33m,\u001b[0m \u001b[0mgrad\u001b[0m\u001b[1;33m=\u001b[0m\u001b[1;32mTrue\u001b[0m\u001b[1;33m)\u001b[0m \u001b[1;32mas\u001b[0m \u001b[0mhook_g\u001b[0m\u001b[1;33m:\u001b[0m\u001b[1;33m\u001b[0m\u001b[1;33m\u001b[0m\u001b[0m\n\u001b[0;32m      4\u001b[0m             \u001b[0mpreds\u001b[0m \u001b[1;33m=\u001b[0m \u001b[0mm\u001b[0m\u001b[1;33m(\u001b[0m\u001b[0mxb\u001b[0m\u001b[1;33m)\u001b[0m\u001b[1;33m\u001b[0m\u001b[1;33m\u001b[0m\u001b[0m\n\u001b[0;32m      5\u001b[0m             \u001b[0mpreds\u001b[0m\u001b[1;33m[\u001b[0m\u001b[1;36m0\u001b[0m\u001b[1;33m,\u001b[0m\u001b[0mint\u001b[0m\u001b[1;33m(\u001b[0m\u001b[0mcat\u001b[0m\u001b[1;33m)\u001b[0m\u001b[1;33m]\u001b[0m\u001b[1;33m.\u001b[0m\u001b[0mbackward\u001b[0m\u001b[1;33m(\u001b[0m\u001b[1;33m)\u001b[0m\u001b[1;33m\u001b[0m\u001b[1;33m\u001b[0m\u001b[0m\n",
                        "\u001b[1;31mNameError\u001b[0m: name 'y' is not defined"
                    ]
                }
            ],
            "metadata": {}
        },
        {
            "cell_type": "code",
            "execution_count": null,
            "source": [
                "\r\n",
                "hook_a,hook_g = hooked_backward()"
            ],
            "outputs": [],
            "metadata": {}
        },
        {
            "cell_type": "code",
            "execution_count": null,
            "source": [
                "\r\n",
                "acts  = hook_a.stored[0].cpu()\r\n",
                "acts.shape"
            ],
            "outputs": [],
            "metadata": {}
        },
        {
            "cell_type": "code",
            "execution_count": null,
            "source": [
                "avg_acts = acts.mean(0)\r\n",
                "avg_acts.shape"
            ],
            "outputs": [],
            "metadata": {}
        },
        {
            "cell_type": "code",
            "execution_count": null,
            "source": [
                "def show_heatmap(hm):\r\n",
                "    fig,ax = plt.subplots()\r\n",
                "    xb_im.show(ax)\r\n",
                "    ax.imshow(hm, alpha=0.6, extent=(0,352,352,0),\r\n",
                "              interpolation='bilinear', cmap='magma');\r\n",
                "    return fig"
            ],
            "outputs": [],
            "metadata": {}
        },
        {
            "cell_type": "code",
            "execution_count": null,
            "source": [
                "answer=show_heatmap(avg_acts)\r\n",
                "answer.savefig(path/'trial.png')"
            ],
            "outputs": [],
            "metadata": {}
        }
    ],
    "metadata": {
        "orig_nbformat": 4,
        "language_info": {
            "name": "python",
            "version": "3.8.10",
            "mimetype": "text/x-python",
            "codemirror_mode": {
                "name": "ipython",
                "version": 3
            },
            "pygments_lexer": "ipython3",
            "nbconvert_exporter": "python",
            "file_extension": ".py"
        },
        "kernelspec": {
            "name": "python3",
            "display_name": "Python 3.8.10 64-bit ('dl': conda)"
        },
        "interpreter": {
            "hash": "6afb89b99e84bee04d6330a29f1bb71213540d48d5fe88c31e05e7f9706c13f1"
        }
    },
    "nbformat": 4,
    "nbformat_minor": 2
}