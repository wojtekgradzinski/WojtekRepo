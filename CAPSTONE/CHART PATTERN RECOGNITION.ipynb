{
    "cells": [
        {
            "cell_type": "code",
            "execution_count": 3,
            "source": [
                "\r\n",
                "# !pip install fastai==2.0.15\r\n",
                "# !pip install fastai2==0.0.30\r\n",
                "# !pip install fastcore==1.0.16\r\n",
                "\r\n",
                "from datetime import date\r\n",
                "from nsepy import get_history\r\n",
                "import pandas as pd\r\n",
                "\r\n",
                "import matplotlib.pyplot as plt\r\n",
                "import numpy as np\r\n",
                "import pandas as pd\r\n",
                "\r\n",
                "from fastai.vision import *\r\n",
                "from fastai.metrics import error_rate\r\n",
                "\r\n",
                "from fastai.callbacks.hooks import *\r\n",
                "\r\n"
            ],
            "outputs": [
                {
                    "output_type": "error",
                    "ename": "ModuleNotFoundError",
                    "evalue": "No module named 'fastai.callbacks'",
                    "traceback": [
                        "\u001b[1;31m---------------------------------------------------------------------------\u001b[0m",
                        "\u001b[1;31mModuleNotFoundError\u001b[0m                       Traceback (most recent call last)",
                        "\u001b[1;32m<ipython-input-3-d0e91790a2a0>\u001b[0m in \u001b[0;36m<module>\u001b[1;34m\u001b[0m\n\u001b[0;32m     14\u001b[0m \u001b[1;32mfrom\u001b[0m \u001b[0mfastai\u001b[0m\u001b[1;33m.\u001b[0m\u001b[0mmetrics\u001b[0m \u001b[1;32mimport\u001b[0m \u001b[0merror_rate\u001b[0m\u001b[1;33m\u001b[0m\u001b[1;33m\u001b[0m\u001b[0m\n\u001b[0;32m     15\u001b[0m \u001b[1;33m\u001b[0m\u001b[0m\n\u001b[1;32m---> 16\u001b[1;33m \u001b[1;32mfrom\u001b[0m \u001b[0mfastai\u001b[0m\u001b[1;33m.\u001b[0m\u001b[0mcallbacks\u001b[0m\u001b[1;33m.\u001b[0m\u001b[0mhooks\u001b[0m \u001b[1;32mimport\u001b[0m \u001b[1;33m*\u001b[0m\u001b[1;33m\u001b[0m\u001b[1;33m\u001b[0m\u001b[0m\n\u001b[0m\u001b[0;32m     17\u001b[0m \u001b[1;33m\u001b[0m\u001b[0m\n",
                        "\u001b[1;31mModuleNotFoundError\u001b[0m: No module named 'fastai.callbacks'"
                    ]
                }
            ],
            "metadata": {}
        },
        {
            "cell_type": "code",
            "execution_count": 8,
            "source": [
                "def obtain_data(ticker,start,end):\r\n",
                "    # Enter the start and end dates using the method date(yyyy,m,dd)    \r\n",
                "    stock=get_history(symbol=ticker,start=date(2010,1,1),end=date(2020,1,1))\r\n",
                "    df=stock.copy()\r\n",
                "    df=df.reset_index()\r\n",
                "    df=df.drop(['Series','Prev Close','Last','Turnover','%Deliverble','Trades'],axis=1)\r\n",
                "    df=df.rename({'Open':'open_price','Close':'close_price','High':'high','Low':'low','Volume':'volume'},axis='columns')\r\n",
                "    df.index=df.Date\r\n",
                "    return df"
            ],
            "outputs": [],
            "metadata": {}
        },
        {
            "cell_type": "code",
            "execution_count": 12,
            "source": [
                "\"\"\"This cell defineds the plot_candles function\"\"\"\r\n",
                "\r\n",
                "def plot_candles(pricing, title=None, volume_bars=False, color_function=None, technicals=None):\r\n",
                "    \"\"\" Plots a candlestick chart using quantopian pricing data.\r\n",
                "    \r\n",
                "    Author: Daniel Treiman\r\n",
                "    \r\n",
                "    Args:\r\n",
                "      pricing: A pandas dataframe with columns ['open_price', 'close_price', 'high', 'low', 'volume']\r\n",
                "      title: An optional title for the chart\r\n",
                "      volume_bars: If True, plots volume bars\r\n",
                "      color_function: A function which, given a row index and price series, returns a candle color.\r\n",
                "      technicals: A list of additional data series to add to the chart.  Must be the same length as pricing.\r\n",
                "    \"\"\"\r\n",
                "    def default_color(index, open_price, close_price, low, high):\r\n",
                "        return 'r' if open_price[index] > close_price[index] else 'g'\r\n",
                "    color_function = color_function or default_color\r\n",
                "    technicals = technicals or []\r\n",
                "    open_price = pricing['open_price']\r\n",
                "    close_price = pricing['close_price']\r\n",
                "    low = pricing['low']\r\n",
                "    high = pricing['high']\r\n",
                "    oc_min = pd.concat([open_price, close_price], axis=1).min(axis=1)\r\n",
                "    oc_max = pd.concat([open_price, close_price], axis=1).max(axis=1)\r\n",
                "    \r\n",
                "    if volume_bars:\r\n",
                "        fig, (ax1, ax2) = plt.subplots(2, 1, sharex=True, gridspec_kw={'height_ratios': [3,1]},figsize=(7,7))\r\n",
                "    else:\r\n",
                "        fig, ax1 = plt.subplots(1, 1)\r\n",
                "    if title:\r\n",
                "        ax1.set_title(title)\r\n",
                "    fig.tight_layout()\r\n",
                "    x = np.arange(len(pricing))\r\n",
                "    candle_colors = [color_function(i, open_price, close_price, low, high) for i in x]\r\n",
                "    candles = ax1.bar(x, oc_max-oc_min, bottom=oc_min, color=candle_colors, linewidth=0)\r\n",
                "    lines = ax1.vlines(x , low, high, color=candle_colors, linewidth=1)\r\n",
                "    ax1.xaxis.grid(True)\r\n",
                "    ax1.yaxis.grid(True)\r\n",
                "    ax1.xaxis.set_tick_params(which='major', length=3.0, direction='in', top='off')\r\n",
                "    ax1.set_yticklabels([])\r\n",
                "    # Assume minute frequency if first two bars are in the same day.\r\n",
                "    frequency = 'minute' if (pricing.index[1] - pricing.index[0]).days == 0 else 'day'\r\n",
                "    time_format = '%d-%m-%Y'\r\n",
                "    if frequency == 'minute':\r\n",
                "        time_format = '%H:%M'\r\n",
                "    # Set X axis tick labels.\r\n",
                "    #plt.xticks(x, [date.strftime(time_format) for date in pricing.index], rotation='vertical')\r\n",
                "    for indicator in technicals:\r\n",
                "        ax1.plot(x, indicator)\r\n",
                "    \r\n",
                "    if volume_bars:\r\n",
                "        volume = pricing['volume']\r\n",
                "        volume_scale = None\r\n",
                "        scaled_volume = volume\r\n",
                "        if volume.max() > 1000000:\r\n",
                "            volume_scale = 'M'\r\n",
                "            scaled_volume = volume / 1000000\r\n",
                "        elif volume.max() > 1000:\r\n",
                "            volume_scale = 'K'\r\n",
                "            scaled_volume = volume / 1000\r\n",
                "        ax2.bar(x, scaled_volume, color=candle_colors)\r\n",
                "        volume_title = 'Volume'\r\n",
                "        if volume_scale:\r\n",
                "            volume_title = 'Volume (%s)' % volume_scale\r\n",
                "        #ax2.set_title(volume_title)\r\n",
                "        ax2.xaxis.grid(True)\r\n",
                "        ax2.set_yticklabels([])\r\n",
                "        ax2.set_xticklabels([])\r\n",
                "    return fig"
            ],
            "outputs": [],
            "metadata": {}
        },
        {
            "cell_type": "code",
            "execution_count": null,
            "source": [
                "bs = 64\r\n",
                "# bs = 16   # uncomment this line if you run out of memory even after clicking Kernel->Restart\r\n",
                "\r\n",
                "path=Path('data/Candle Sticks/CandleData')\r\n",
                "path_save=Path('data/Candle Sticks/Processed')\r\n",
                "\r\n",
                "path.ls()"
            ],
            "outputs": [],
            "metadata": {}
        },
        {
            "cell_type": "code",
            "execution_count": null,
            "source": [
                "np.random.seed(42)\r\n",
                "data = ImageDataBunch.from_folder(path, train=\".\", valid_pct=0.2,\r\n",
                "        ds_tfms=get_transforms(flip_vert=False, max_lighting=0.1, max_zoom=1.05, max_warp=0.,max_rotate=3), size=224, num_workers=4).normalize(imagenet_stats)"
            ],
            "outputs": [],
            "metadata": {}
        },
        {
            "cell_type": "markdown",
            "source": [
                "\r\n",
                "Training the Model"
            ],
            "metadata": {}
        },
        {
            "cell_type": "markdown",
            "source": [
                "\r\n",
                "learn = cnn_learner(data, models.resnet34, metrics=error_rate)\r\n",
                "\r\n",
                "learn.fit_one_cycle(4)"
            ],
            "metadata": {}
        },
        {
            "cell_type": "code",
            "execution_count": 13,
            "source": [
                "#learn.unfreeze()"
            ],
            "outputs": [],
            "metadata": {}
        },
        {
            "cell_type": "code",
            "execution_count": null,
            "source": [
                "learn.lr_find()\r\n"
            ],
            "outputs": [],
            "metadata": {}
        },
        {
            "cell_type": "code",
            "execution_count": null,
            "source": [
                "learn.recorder.plot()"
            ],
            "outputs": [],
            "metadata": {}
        },
        {
            "cell_type": "code",
            "execution_count": null,
            "source": [
                "learn.fit_one_cycle(10, max_lr=slice(1e-6,1e-4))"
            ],
            "outputs": [],
            "metadata": {}
        },
        {
            "cell_type": "code",
            "execution_count": null,
            "source": [
                "learn.lr_find()"
            ],
            "outputs": [],
            "metadata": {}
        },
        {
            "cell_type": "code",
            "execution_count": null,
            "source": [
                "learn.recorder.plot()"
            ],
            "outputs": [],
            "metadata": {}
        },
        {
            "cell_type": "code",
            "execution_count": null,
            "source": [
                "learn.fit_one_cycle(5, max_lr=slice(1e-6,1e-4))"
            ],
            "outputs": [],
            "metadata": {}
        },
        {
            "cell_type": "code",
            "execution_count": null,
            "source": [
                "learn.lr_find()"
            ],
            "outputs": [],
            "metadata": {}
        },
        {
            "cell_type": "code",
            "execution_count": null,
            "source": [
                "learn.fit_one_cycle(5,max_lr=slice(1e-5,1e-4))"
            ],
            "outputs": [],
            "metadata": {}
        },
        {
            "cell_type": "code",
            "execution_count": null,
            "source": [
                "learn.save('First Model')"
            ],
            "outputs": [],
            "metadata": {}
        },
        {
            "cell_type": "code",
            "execution_count": null,
            "source": [
                "data = ImageDataBunch.from_folder(path, train=\".\", valid_pct=0.2,\r\n",
                "        ds_tfms=get_transforms(flip_vert=False, max_lighting=0.1, max_zoom=1.05, max_warp=0.,max_rotate=3), size=352, num_workers=4).normalize(imagenet_stats)"
            ],
            "outputs": [],
            "metadata": {}
        },
        {
            "cell_type": "code",
            "execution_count": null,
            "source": [
                "\r\n",
                "learn.data=data"
            ],
            "outputs": [],
            "metadata": {}
        },
        {
            "cell_type": "code",
            "execution_count": null,
            "source": [
                "gc.collect()\r\n",
                "learn.lr_find()"
            ],
            "outputs": [],
            "metadata": {}
        },
        {
            "cell_type": "code",
            "execution_count": null,
            "source": [
                "\r\n",
                "learn.recorder.plot()"
            ],
            "outputs": [],
            "metadata": {}
        },
        {
            "cell_type": "code",
            "execution_count": null,
            "source": [
                "learn.fit_one_cycle(5,max_lr=slice(1e-5,1e-4))"
            ],
            "outputs": [],
            "metadata": {}
        },
        {
            "cell_type": "code",
            "execution_count": null,
            "source": [
                "learn.lr_find()"
            ],
            "outputs": [],
            "metadata": {}
        },
        {
            "cell_type": "code",
            "execution_count": null,
            "source": [
                "learn.recorder.plot()"
            ],
            "outputs": [],
            "metadata": {}
        },
        {
            "cell_type": "code",
            "execution_count": null,
            "source": [
                "learn.fit_one_cycle(5,max_lr=slice(1e-6,1e-5))"
            ],
            "outputs": [],
            "metadata": {}
        },
        {
            "cell_type": "code",
            "execution_count": null,
            "source": [
                "learn.save('Model 2')"
            ],
            "outputs": [],
            "metadata": {}
        },
        {
            "cell_type": "code",
            "execution_count": null,
            "source": [
                "correcti=0\r\n",
                "list_down=[]\r\n",
                "list_up=[]\r\n",
                "for i in range(len(data.valid_ds)):\r\n",
                "    prediction=learn.predict(data.valid_ds[i][0])\r\n",
                "    if str(data.valid_ds[i][1])==\"Down\" and bool(prediction[1]==0) :\r\n",
                "        correcti=correcti+1\r\n",
                "        if prediction[2][0] >= 0.75 :\r\n",
                "            list_down=list_down + [i]\r\n",
                "            #print(prediction)\r\n",
                "            #print()\r\n",
                "    if str(data.valid_ds[i][1])==\"Up\" and bool(prediction[1]==1) :\r\n",
                "        correcti=correcti+1\r\n",
                "        if prediction[2][1] >= 0.75 :\r\n",
                "            list_up=list_up + [i]\r\n",
                "            #print(prediction)\r\n",
                "            #print()"
            ],
            "outputs": [],
            "metadata": {}
        },
        {
            "cell_type": "code",
            "execution_count": null,
            "source": [
                "len(list_down),len(list_up)"
            ],
            "outputs": [],
            "metadata": {}
        },
        {
            "cell_type": "markdown",
            "source": [
                "Finding the patterns"
            ],
            "metadata": {}
        },
        {
            "cell_type": "markdown",
            "source": [
                "idx=233\r\n",
                "x,y = data.valid_ds[idx]\r\n",
                "x.show()\r\n",
                "print(data.valid_ds.y[idx])"
            ],
            "metadata": {}
        },
        {
            "cell_type": "code",
            "execution_count": null,
            "source": [
                "xb,_ = data.one_item(x)\r\n",
                "xb_im = Image(data.denorm(xb)[0])\r\n",
                "xb = xb.cuda()"
            ],
            "outputs": [],
            "metadata": {}
        },
        {
            "cell_type": "code",
            "execution_count": null,
            "source": [
                "m = learn.model.eval()"
            ],
            "outputs": [],
            "metadata": {}
        },
        {
            "cell_type": "code",
            "execution_count": 19,
            "source": [
                "\r\n",
                "def hooked_backward(cat=y):\r\n",
                "    with hook_output(m[0]) as hook_a: \r\n",
                "        with hook_output(m[0], grad=True) as hook_g:\r\n",
                "            preds = m(xb)\r\n",
                "            preds[0,int(cat)].backward()\r\n",
                "    return hook_a,hook_g"
            ],
            "outputs": [
                {
                    "output_type": "error",
                    "ename": "NameError",
                    "evalue": "name 'y' is not defined",
                    "traceback": [
                        "\u001b[1;31m---------------------------------------------------------------------------\u001b[0m",
                        "\u001b[1;31mNameError\u001b[0m                                 Traceback (most recent call last)",
                        "\u001b[1;32m<ipython-input-19-a313f7e9c8af>\u001b[0m in \u001b[0;36m<module>\u001b[1;34m\u001b[0m\n\u001b[1;32m----> 1\u001b[1;33m \u001b[1;32mdef\u001b[0m \u001b[0mhooked_backward\u001b[0m\u001b[1;33m(\u001b[0m\u001b[0mcat\u001b[0m\u001b[1;33m=\u001b[0m\u001b[0my\u001b[0m\u001b[1;33m)\u001b[0m\u001b[1;33m:\u001b[0m\u001b[1;33m\u001b[0m\u001b[1;33m\u001b[0m\u001b[0m\n\u001b[0m\u001b[0;32m      2\u001b[0m     \u001b[1;32mwith\u001b[0m \u001b[0mhook_output\u001b[0m\u001b[1;33m(\u001b[0m\u001b[0mm\u001b[0m\u001b[1;33m[\u001b[0m\u001b[1;36m0\u001b[0m\u001b[1;33m]\u001b[0m\u001b[1;33m)\u001b[0m \u001b[1;32mas\u001b[0m \u001b[0mhook_a\u001b[0m\u001b[1;33m:\u001b[0m\u001b[1;33m\u001b[0m\u001b[1;33m\u001b[0m\u001b[0m\n\u001b[0;32m      3\u001b[0m         \u001b[1;32mwith\u001b[0m \u001b[0mhook_output\u001b[0m\u001b[1;33m(\u001b[0m\u001b[0mm\u001b[0m\u001b[1;33m[\u001b[0m\u001b[1;36m0\u001b[0m\u001b[1;33m]\u001b[0m\u001b[1;33m,\u001b[0m \u001b[0mgrad\u001b[0m\u001b[1;33m=\u001b[0m\u001b[1;32mTrue\u001b[0m\u001b[1;33m)\u001b[0m \u001b[1;32mas\u001b[0m \u001b[0mhook_g\u001b[0m\u001b[1;33m:\u001b[0m\u001b[1;33m\u001b[0m\u001b[1;33m\u001b[0m\u001b[0m\n\u001b[0;32m      4\u001b[0m             \u001b[0mpreds\u001b[0m \u001b[1;33m=\u001b[0m \u001b[0mm\u001b[0m\u001b[1;33m(\u001b[0m\u001b[0mxb\u001b[0m\u001b[1;33m)\u001b[0m\u001b[1;33m\u001b[0m\u001b[1;33m\u001b[0m\u001b[0m\n\u001b[0;32m      5\u001b[0m             \u001b[0mpreds\u001b[0m\u001b[1;33m[\u001b[0m\u001b[1;36m0\u001b[0m\u001b[1;33m,\u001b[0m\u001b[0mint\u001b[0m\u001b[1;33m(\u001b[0m\u001b[0mcat\u001b[0m\u001b[1;33m)\u001b[0m\u001b[1;33m]\u001b[0m\u001b[1;33m.\u001b[0m\u001b[0mbackward\u001b[0m\u001b[1;33m(\u001b[0m\u001b[1;33m)\u001b[0m\u001b[1;33m\u001b[0m\u001b[1;33m\u001b[0m\u001b[0m\n",
                        "\u001b[1;31mNameError\u001b[0m: name 'y' is not defined"
                    ]
                }
            ],
            "metadata": {}
        },
        {
            "cell_type": "code",
            "execution_count": null,
            "source": [
                "\r\n",
                "hook_a,hook_g = hooked_backward()"
            ],
            "outputs": [],
            "metadata": {}
        },
        {
            "cell_type": "code",
            "execution_count": null,
            "source": [
                "\r\n",
                "acts  = hook_a.stored[0].cpu()\r\n",
                "acts.shape"
            ],
            "outputs": [],
            "metadata": {}
        },
        {
            "cell_type": "code",
            "execution_count": null,
            "source": [
                "avg_acts = acts.mean(0)\r\n",
                "avg_acts.shape"
            ],
            "outputs": [],
            "metadata": {}
        },
        {
            "cell_type": "code",
            "execution_count": null,
            "source": [
                "def show_heatmap(hm):\r\n",
                "    fig,ax = plt.subplots()\r\n",
                "    xb_im.show(ax)\r\n",
                "    ax.imshow(hm, alpha=0.6, extent=(0,352,352,0),\r\n",
                "              interpolation='bilinear', cmap='magma');\r\n",
                "    return fig"
            ],
            "outputs": [],
            "metadata": {}
        },
        {
            "cell_type": "code",
            "execution_count": null,
            "source": [
                "answer=show_heatmap(avg_acts)\r\n",
                "answer.savefig(path/'trial.png')"
            ],
            "outputs": [],
            "metadata": {}
        }
    ],
    "metadata": {
        "orig_nbformat": 4,
        "language_info": {
            "name": "python",
            "version": "3.8.10",
            "mimetype": "text/x-python",
            "codemirror_mode": {
                "name": "ipython",
                "version": 3
            },
            "pygments_lexer": "ipython3",
            "nbconvert_exporter": "python",
            "file_extension": ".py"
        },
        "kernelspec": {
            "name": "python3",
            "display_name": "Python 3.8.10 64-bit ('dl': conda)"
        },
        "interpreter": {
            "hash": "6afb89b99e84bee04d6330a29f1bb71213540d48d5fe88c31e05e7f9706c13f1"
        }
    },
    "nbformat": 4,
    "nbformat_minor": 2
}