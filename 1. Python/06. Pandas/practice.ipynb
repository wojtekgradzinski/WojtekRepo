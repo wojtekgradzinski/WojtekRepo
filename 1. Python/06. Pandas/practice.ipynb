{
 "metadata": {
  "language_info": {
   "codemirror_mode": {
    "name": "ipython",
    "version": 3
   },
   "file_extension": ".py",
   "mimetype": "text/x-python",
   "name": "python",
   "nbconvert_exporter": "python",
   "pygments_lexer": "ipython3",
   "version": "3.8.10"
  },
  "orig_nbformat": 2,
  "kernelspec": {
   "name": "python3810jvsc74a57bd0273e4cd330c9365d0d8fc6d704b08084cf297120c969e21fb6416b510b92ba85",
   "display_name": "Python 3.8.10 64-bit ('wojtek': conda)"
  }
 },
 "nbformat": 4,
 "nbformat_minor": 2,
 "cells": [
  {
   "cell_type": "code",
   "execution_count": 1,
   "metadata": {},
   "outputs": [
    {
     "output_type": "error",
     "ename": "NameError",
     "evalue": "name 'table' is not defined",
     "traceback": [
      "\u001b[1;31m---------------------------------------------------------------------------\u001b[0m",
      "\u001b[1;31mNameError\u001b[0m                                 Traceback (most recent call last)",
      "\u001b[1;32m<ipython-input-1-2d10641c190c>\u001b[0m in \u001b[0;36m<module>\u001b[1;34m\u001b[0m\n\u001b[0;32m     19\u001b[0m \u001b[1;33m\u001b[0m\u001b[0m\n\u001b[0;32m     20\u001b[0m \u001b[0mindexes\u001b[0m \u001b[1;33m=\u001b[0m \u001b[1;33m[\u001b[0m\u001b[1;33m]\u001b[0m\u001b[1;33m\u001b[0m\u001b[1;33m\u001b[0m\u001b[0m\n\u001b[1;32m---> 21\u001b[1;33m \u001b[1;32mfor\u001b[0m \u001b[0mindex\u001b[0m\u001b[1;33m,\u001b[0m \u001b[0mrow\u001b[0m \u001b[1;32min\u001b[0m \u001b[0mtable\u001b[0m\u001b[1;33m.\u001b[0m\u001b[0miterrows\u001b[0m\u001b[1;33m(\u001b[0m\u001b[1;33m)\u001b[0m\u001b[1;33m:\u001b[0m\u001b[1;33m\u001b[0m\u001b[1;33m\u001b[0m\u001b[0m\n\u001b[0m\u001b[0;32m     22\u001b[0m     \u001b[0mcounter\u001b[0m \u001b[1;33m=\u001b[0m \u001b[1;36m0\u001b[0m\u001b[1;33m\u001b[0m\u001b[1;33m\u001b[0m\u001b[0m\n\u001b[0;32m     23\u001b[0m     \u001b[1;32mif\u001b[0m \u001b[0mindex\u001b[0m \u001b[1;33m%\u001b[0m \u001b[0mn\u001b[0m \u001b[1;33m==\u001b[0m \u001b[1;36m0\u001b[0m\u001b[1;33m:\u001b[0m\u001b[1;33m\u001b[0m\u001b[1;33m\u001b[0m\u001b[0m\n",
      "\u001b[1;31mNameError\u001b[0m: name 'table' is not defined"
     ]
    }
   ],
   "source": [
    "import pandas as pd\n",
    "import numpy as np\n",
    "\n",
    "data = {\n",
    "1:[2,2,1,4,5],\n",
    "2:[2,2,1,4,5],\n",
    "3:[2,2,1,4,5],\n",
    "4:[1,2,2,1,4],\n",
    "5:[1,2,2,2,1],\n",
    "6:[1,2,2,1,4],\n",
    "7:[1,2,3,4,5],\n",
    "8:[1,2,2,1,4],\n",
    "9:[1,2,3,4,2],\n",
    "10:[1,2,2,1,3]}\n",
    "\n",
    "n = 2\n",
    "df_26 = pd.DataFrame(data)\n",
    "#print(df_26)\n",
    "\n",
    "indexes = []\n",
    "for index, row in table.iterrows():\n",
    "    counter = 0\n",
    "    if index % n == 0:\n",
    "        counter +=1\n",
    "        indexes.append(index)\n",
    "\n",
    "\n",
    "    \n",
    "print(indexes)"
   ]
  },
  {
   "cell_type": "code",
   "execution_count": 5,
   "metadata": {},
   "outputs": [
    {
     "output_type": "error",
     "ename": "SyntaxError",
     "evalue": "unexpected EOF while parsing (<ipython-input-5-be5f55f72c2b>, line 15)",
     "traceback": [
      "\u001b[1;36m  File \u001b[1;32m\"<ipython-input-5-be5f55f72c2b>\"\u001b[1;36m, line \u001b[1;32m15\u001b[0m\n\u001b[1;33m    \u001b[0m\n\u001b[1;37m    ^\u001b[0m\n\u001b[1;31mSyntaxError\u001b[0m\u001b[1;31m:\u001b[0m unexpected EOF while parsing\n"
     ]
    }
   ],
   "source": [
    "data = {\n",
    "1:[np.nan,2,np.nan,4,5],\n",
    "2:[np.nan,2,3,np.nan,5],\n",
    "3:[np.nan,2,np.nan,4,5],\n",
    "4:[1,np.nan,3,np.nan,np.nan],\n",
    "5:[1,2,np.nan,4,5],\n",
    "6:[1,np.nan,3,np.nan,np.nan],\n",
    "7:[1,2,3,4,5],\n",
    "8:[1,np.nan,3,np.nan,np.nan],\n",
    "9:[1,2,3,4,np.nan],\n",
    "10:[1,np.nan,3,4,5]}\n",
    "\n",
    "\n",
    "for el in data:\n",
    "    "
   ]
  },
  {
   "cell_type": "code",
   "execution_count": 34,
   "metadata": {},
   "outputs": [
    {
     "output_type": "stream",
     "name": "stdout",
     "text": [
      "[1, 2, 3, 4, 5, 6, 7, 8, 9, 10, 11, 12, 13, 14, 15, 16, 17, 18, 19, 20, 21, 22, 23, 24, 25, 26, 27, 28, 29, 30, 31, 32, 33, 34, 35, 36, 37, 38, 39, 40, 41, 42, 43, 44, 45, 46, 47, 48, 49]\n543\n"
     ]
    }
   ],
   "source": [
    "#add every 3rd \n",
    "\n",
    "total = 0\n",
    "for i in range(1,50):\n",
    "    if i % 3 == 0 or i % 5 == 0:\n",
    "        total += i\n",
    "print(list(range(1,50)))        \n",
    "print(total)  \n"
   ]
  },
  {
   "cell_type": "code",
   "execution_count": 44,
   "metadata": {},
   "outputs": [
    {
     "output_type": "stream",
     "name": "stdout",
     "text": [
      "[100 200 300 400 500]\nlast element =  500\nevery 2nd element : [200 400]\n"
     ]
    }
   ],
   "source": [
    "cf= np.array([100,200,300,400,500])\n",
    "print(cf)\n",
    "print('last element = ',cf[-1])\n",
    "print('every 2nd element :',cf[1:4:2])"
   ]
  },
  {
   "cell_type": "code",
   "execution_count": 32,
   "metadata": {},
   "outputs": [],
   "source": [
    "arr = np.array([[1,2,3,4],[3,4,5,6],[3,4,5,6]])\n",
    "arr2 = np.zeros((1,2,3,4))"
   ]
  },
  {
   "cell_type": "code",
   "execution_count": 33,
   "metadata": {},
   "outputs": [
    {
     "output_type": "stream",
     "name": "stdout",
     "text": [
      "2\n(3, 4)\n"
     ]
    },
    {
     "output_type": "execute_result",
     "data": {
      "text/plain": [
       "4"
      ]
     },
     "metadata": {},
     "execution_count": 33
    }
   ],
   "source": [
    "print(arr.ndim)\n",
    "print(arr.shape)\n",
    "arr2.ndim\n",
    "\n"
   ]
  },
  {
   "cell_type": "code",
   "execution_count": 34,
   "metadata": {},
   "outputs": [
    {
     "output_type": "stream",
     "name": "stdout",
     "text": [
      "2\n"
     ]
    }
   ],
   "source": [
    "arr = np.array([[1,2,3,4],[3,4,5,6],[3,4,5,6]])\n",
    "print(arr.ndim)"
   ]
  },
  {
   "cell_type": "code",
   "execution_count": 44,
   "metadata": {},
   "outputs": [
    {
     "output_type": "execute_result",
     "data": {
      "text/plain": [
       "array([ 1,  2,  3,  4,  5, 67], dtype=int32)"
      ]
     },
     "metadata": {},
     "execution_count": 44
    }
   ],
   "source": [
    "a = 5\n",
    "arr = np.array([1,2,3,4,5,67], dtype='i')\n",
    "arr"
   ]
  },
  {
   "cell_type": "code",
   "execution_count": 48,
   "metadata": {},
   "outputs": [
    {
     "output_type": "execute_result",
     "data": {
      "text/plain": [
       "array([ 1,  2,  3,  4,  5, 67], dtype=int32)"
      ]
     },
     "metadata": {},
     "execution_count": 48
    }
   ],
   "source": [
    "arr.shape\n",
    "arr"
   ]
  },
  {
   "cell_type": "code",
   "execution_count": 47,
   "metadata": {},
   "outputs": [
    {
     "output_type": "execute_result",
     "data": {
      "text/plain": [
       "array([ 1,  2,  3,  4,  5, 67], dtype=int32)"
      ]
     },
     "metadata": {},
     "execution_count": 47
    }
   ],
   "source": [
    "arr.reshape\n",
    "arr"
   ]
  },
  {
   "cell_type": "code",
   "execution_count": 51,
   "metadata": {},
   "outputs": [
    {
     "output_type": "execute_result",
     "data": {
      "text/plain": [
       "array([[1., 0., 0., 0., 0., 0., 0., 0., 0.],\n",
       "       [0., 1., 0., 0., 0., 0., 0., 0., 0.],\n",
       "       [0., 0., 1., 0., 0., 0., 0., 0., 0.],\n",
       "       [0., 0., 0., 1., 0., 0., 0., 0., 0.],\n",
       "       [0., 0., 0., 0., 1., 0., 0., 0., 0.],\n",
       "       [0., 0., 0., 0., 0., 1., 0., 0., 0.],\n",
       "       [0., 0., 0., 0., 0., 0., 1., 0., 0.],\n",
       "       [0., 0., 0., 0., 0., 0., 0., 1., 0.],\n",
       "       [0., 0., 0., 0., 0., 0., 0., 0., 1.]])"
      ]
     },
     "metadata": {},
     "execution_count": 51
    }
   ],
   "source": [
    "eye =np.eye(9)\n",
    "eye"
   ]
  },
  {
   "cell_type": "code",
   "execution_count": 54,
   "metadata": {},
   "outputs": [
    {
     "output_type": "execute_result",
     "data": {
      "text/plain": [
       "(9, 9, 9, 9, 9, 9, 9, 9)"
      ]
     },
     "metadata": {},
     "execution_count": 54
    }
   ],
   "source": [
    "eye.shape * 4"
   ]
  },
  {
   "cell_type": "code",
   "execution_count": 56,
   "metadata": {},
   "outputs": [
    {
     "output_type": "execute_result",
     "data": {
      "text/plain": [
       "array([[1., 0., 0., 0., 0., 0., 0., 0., 0.],\n",
       "       [0., 1., 0., 0., 0., 0., 0., 0., 0.],\n",
       "       [0., 0., 1., 0., 0., 0., 0., 0., 0.],\n",
       "       [0., 0., 0., 1., 0., 0., 0., 0., 0.],\n",
       "       [0., 0., 0., 0., 1., 0., 0., 0., 0.],\n",
       "       [0., 0., 0., 0., 0., 1., 0., 0., 0.],\n",
       "       [0., 0., 0., 0., 0., 0., 1., 0., 0.],\n",
       "       [0., 0., 0., 0., 0., 0., 0., 1., 0.],\n",
       "       [0., 0., 0., 0., 0., 0., 0., 0., 1.]])"
      ]
     },
     "metadata": {},
     "execution_count": 56
    }
   ],
   "source": [
    "eye.reshape\n",
    "eye"
   ]
  },
  {
   "cell_type": "code",
   "execution_count": 57,
   "metadata": {},
   "outputs": [],
   "source": [
    "arr = np.array([1,2,3,4,5,6])"
   ]
  },
  {
   "cell_type": "code",
   "execution_count": 62,
   "metadata": {},
   "outputs": [
    {
     "output_type": "execute_result",
     "data": {
      "text/plain": [
       "array([333333, 333333,      3,      4,      5,      6])"
      ]
     },
     "metadata": {},
     "execution_count": 62
    }
   ],
   "source": [
    "arr[0:2] = 333333\n",
    "\n",
    "arr"
   ]
  },
  {
   "cell_type": "code",
   "execution_count": 65,
   "metadata": {},
   "outputs": [],
   "source": [
    "arr2 = arr.copy()"
   ]
  },
  {
   "cell_type": "code",
   "execution_count": 66,
   "metadata": {},
   "outputs": [
    {
     "output_type": "execute_result",
     "data": {
      "text/plain": [
       "array([333333, 333333,      3,      4,      5,      6])"
      ]
     },
     "metadata": {},
     "execution_count": 66
    }
   ],
   "source": [
    "arr2"
   ]
  },
  {
   "cell_type": "code",
   "execution_count": 74,
   "metadata": {},
   "outputs": [
    {
     "output_type": "execute_result",
     "data": {
      "text/plain": [
       "array([[1, 3, 4],\n",
       "       [2, 2, 5],\n",
       "       [3, 1, 6]])"
      ]
     },
     "metadata": {},
     "execution_count": 74
    }
   ],
   "source": [
    "new_arr = np.array([[1,2,3],[3,2,1],[4,5,6]])\n",
    "new_arrT = new_arr.T\n",
    "new_arrT"
   ]
  },
  {
   "cell_type": "code",
   "execution_count": 78,
   "metadata": {},
   "outputs": [
    {
     "output_type": "execute_result",
     "data": {
      "text/plain": [
       "array([[1, 2, 3],\n",
       "       [3, 2, 1],\n",
       "       [4, 5, 6]])"
      ]
     },
     "metadata": {},
     "execution_count": 78
    }
   ],
   "source": [
    "new_arr2 = np.array([[1,2,3],[3,2,1],[4,5,6]])\n",
    "arr_reashaped = new_arr2.reshape(3,3)\n",
    "arr_reashaped"
   ]
  },
  {
   "cell_type": "code",
   "execution_count": 80,
   "metadata": {},
   "outputs": [
    {
     "output_type": "execute_result",
     "data": {
      "text/plain": [
       "matrix([[1, 2, 3],\n",
       "        [3, 2, 1],\n",
       "        [4, 5, 6]])"
      ]
     },
     "metadata": {},
     "execution_count": 80
    }
   ],
   "source": [
    "new_arr3 = np.array([[1,2,3],[3,2,1],[4,5,6]])\n",
    "arr_matrix = np.matrix(new_arr3)\n",
    "arr_matrix"
   ]
  },
  {
   "cell_type": "code",
   "execution_count": 84,
   "metadata": {},
   "outputs": [
    {
     "output_type": "execute_result",
     "data": {
      "text/plain": [
       "array([[-0.29505042, -0.38153564, -0.4725924 , ..., -1.11083216,\n",
       "        -1.20555066, -1.29660742],\n",
       "       [-0.34517004, -0.43165526, -0.52271202, ..., -1.16095178,\n",
       "        -1.25567028, -1.34672705],\n",
       "       [-0.38640516, -0.47289038, -0.56394714, ..., -1.2021869 ,\n",
       "        -1.2969054 , -1.38796217],\n",
       "       ...,\n",
       "       [-0.41834377, -0.50482899, -0.59588575, ..., -1.23412551,\n",
       "        -1.32884401, -1.41990077],\n",
       "       [-0.38640516, -0.47289038, -0.56394714, ..., -1.2021869 ,\n",
       "        -1.2969054 , -1.38796217],\n",
       "       [-0.34517004, -0.43165526, -0.52271202, ..., -1.16095178,\n",
       "        -1.25567028, -1.34672705]])"
      ]
     },
     "metadata": {},
     "execution_count": 84
    }
   ],
   "source": [
    "points = np.arange(-10,10,0.1)\n",
    "xs,ys = np.meshgrid(points,points)\n",
    "zs = np.sin(xs) + np.cos(ys)\n",
    "zs"
   ]
  },
  {
   "cell_type": "code",
   "execution_count": 88,
   "metadata": {},
   "outputs": [
    {
     "output_type": "execute_result",
     "data": {
      "text/plain": [
       "array([[-1.72776177,  1.01563828, -0.18073551,  1.46819316],\n",
       "       [ 0.73982592,  2.11216374, -0.34510956,  0.87962166],\n",
       "       [-0.38282389,  0.08635154,  1.28142739, -1.12945417],\n",
       "       [ 0.42971451,  1.33413058, -0.39803443, -0.16643367],\n",
       "       [-0.75463486,  0.55748481, -0.0178315 ,  1.14145179]])"
      ]
     },
     "metadata": {},
     "execution_count": 88
    }
   ],
   "source": [
    "array = np.random.normal(size=(5,4))\n",
    "array"
   ]
  },
  {
   "cell_type": "code",
   "execution_count": 108,
   "metadata": {},
   "outputs": [
    {
     "output_type": "execute_result",
     "data": {
      "text/plain": [
       "array([-0.27122975,  3.43275993,  2.10650636,  4.63552638, -0.88556098,\n",
       "        3.07483879,  1.51792357,  4.67397872,  2.36940567,  4.79156957])"
      ]
     },
     "metadata": {},
     "execution_count": 108
    }
   ],
   "source": [
    "np.random.uniform(-1,5,10)"
   ]
  },
  {
   "cell_type": "code",
   "execution_count": 104,
   "metadata": {},
   "outputs": [
    {
     "output_type": "execute_result",
     "data": {
      "text/plain": [
       "array([14, 18, 17,  8, 16,  9,  3,  4, 10, 11,  7, 12,  2, 15,  1, 13,  6,\n",
       "        0,  5])"
      ]
     },
     "metadata": {},
     "execution_count": 104
    }
   ],
   "source": [
    "arr = np.arange(19)\n",
    "\n",
    "np.random.shuffle(arr)\n",
    "arr"
   ]
  },
  {
   "cell_type": "code",
   "execution_count": 105,
   "metadata": {},
   "outputs": [
    {
     "output_type": "execute_result",
     "data": {
      "text/plain": [
       "array([14, 18, 17,  8, 16,  9,  3,  4, 10, 11,  7, 12,  2, 15,  1, 13,  6,\n",
       "        0,  5])"
      ]
     },
     "metadata": {},
     "execution_count": 105
    }
   ],
   "source": [
    "np.random.permutation(arr)\n",
    "arr"
   ]
  },
  {
   "cell_type": "code",
   "execution_count": 112,
   "metadata": {},
   "outputs": [
    {
     "output_type": "stream",
     "name": "stdout",
     "text": [
      "[0 1 2 3 4 5 6 7]\n[[0 1]\n [2 3]\n [4 5]\n [6 7]]\n[0 1 2 3 4 5 6 7]\n"
     ]
    }
   ],
   "source": [
    "arr = np.arange(8)\n",
    "print(arr)\n",
    "\n",
    "mat = arr.reshape((4,2))\n",
    "print(mat)\n",
    "\n",
    "mat_flat = mat.flatten()\n",
    "print(mat_flat)"
   ]
  },
  {
   "cell_type": "code",
   "execution_count": 113,
   "metadata": {},
   "outputs": [
    {
     "output_type": "stream",
     "name": "stdout",
     "text": [
      "0    4\n1    6\n2   -5\n3    3\ndtype: int64\n"
     ]
    }
   ],
   "source": [
    "a= pd.Series([4,6,-5,3])\n",
    "\n",
    "print(a)"
   ]
  },
  {
   "cell_type": "code",
   "execution_count": 115,
   "metadata": {},
   "outputs": [
    {
     "output_type": "execute_result",
     "data": {
      "text/plain": [
       "x1    4\n",
       "x2    6\n",
       "y1   -5\n",
       "y2    3\n",
       "dtype: int64"
      ]
     },
     "metadata": {},
     "execution_count": 115
    }
   ],
   "source": [
    "a= pd.Series([4,6,-5,3], index =['x1','x2','y1','y2'])\n",
    "a"
   ]
  },
  {
   "cell_type": "code",
   "execution_count": 119,
   "metadata": {},
   "outputs": [
    {
     "output_type": "execute_result",
     "data": {
      "text/plain": [
       "x1    4\n",
       "x2    6\n",
       "y1   -5\n",
       "y2    3\n",
       "dtype: int64"
      ]
     },
     "metadata": {},
     "execution_count": 119
    }
   ],
   "source": [
    "a_sum =a.sum()\n",
    "a"
   ]
  },
  {
   "cell_type": "code",
   "execution_count": 121,
   "metadata": {},
   "outputs": [
    {
     "output_type": "stream",
     "name": "stdout",
     "text": [
      "   Data1  Data2\n0    0.0    0.0\n1    0.5    0.5\n2    1.0    1.0\n"
     ]
    }
   ],
   "source": [
    "df = pd.DataFrame({\"Data1\": [ 10,20,30],  \"Data2\": [ 40,50,60]})\n",
    "\n",
    "norm_df = (df-df.min())/(df.max()-df.min())\n",
    "print(norm_df)"
   ]
  },
  {
   "cell_type": "code",
   "execution_count": 130,
   "metadata": {},
   "outputs": [
    {
     "output_type": "stream",
     "name": "stdout",
     "text": [
      "    Unnamed: 0  Unnamed: 1  Unnamed: 2  Unnamed: 3  Unnamed: 4  Unnamed: 5  \\\n0          NaN         NaN         NaN         NaN         NaN         NaN   \n1          NaN         NaN         NaN         NaN         NaN         NaN   \n2          NaN         NaN         NaN         NaN         NaN         NaN   \n3          NaN         NaN         NaN         NaN         NaN         NaN   \n4          NaN         NaN         NaN         NaN         NaN         NaN   \n5          NaN         NaN         NaN         NaN         NaN         NaN   \n6          NaN         NaN         NaN         NaN         NaN         NaN   \n7          NaN         NaN         NaN         NaN         NaN         NaN   \n8          NaN         NaN         NaN         NaN         NaN         NaN   \n9          NaN         NaN         NaN         NaN         NaN         NaN   \n10         NaN         NaN         NaN         NaN         NaN         NaN   \n11         NaN         NaN         NaN         NaN         NaN         NaN   \n\n    Unnamed: 6  Unnamed: 7  COST OF CAPITAL  0.05 Unnamed: 10 Unnamed: 11  \n0          NaN         NaN              NaN   NaN         NaN         NaN  \n1          NaN         NaN              NaN  YEAR   CASH FLOW          PV  \n2          NaN         NaN              NaN     0       -1000       -1000  \n3          NaN         NaN              NaN     1         600  571.428571  \n4          NaN         NaN              NaN     2         400  362.811791  \n5          NaN         NaN              NaN     3         300   259.15128  \n6          NaN         NaN              NaN     4         200  164.540495  \n7          NaN         NaN              NaN     5         100   78.352617  \n8          NaN         NaN              NaN   NaN  NPV MANUAL  436.284754  \n9          NaN         NaN              NaN   NaN   NPV EXCEL  436.284754  \n10         NaN         NaN              NaN   NaN         IRR    0.252768  \n11         NaN         NaN              NaN   NaN         ROI    0.436285  \n"
     ]
    }
   ],
   "source": [
    "df = pd.read_excel(r'C:\\Users\\Wojtek\\OneDrive\\Desktop\\STRIVE SCHOOL\\valuation.xlsx')\n",
    "print(df)"
   ]
  },
  {
   "cell_type": "code",
   "execution_count": 134,
   "metadata": {},
   "outputs": [
    {
     "output_type": "execute_result",
     "data": {
      "text/plain": [
       "array([[0.69725798, 0.60472345, 0.81882146, 0.66939882, 0.14884215],\n",
       "       [0.57513864, 0.05758803, 0.64869395, 0.92049127, 0.92263045],\n",
       "       [0.72647555, 0.18078893, 0.37338039, 0.37527081, 0.14694305],\n",
       "       [0.45155443, 0.95835555, 0.31343265, 0.26198607, 0.17121535],\n",
       "       [0.27398601, 0.36346079, 0.6584577 , 0.52732488, 0.44583092]])"
      ]
     },
     "metadata": {},
     "execution_count": 134
    }
   ],
   "source": [
    "w = np.random.rand(5,5)#\n",
    "w"
   ]
  },
  {
   "cell_type": "code",
   "execution_count": 136,
   "metadata": {},
   "outputs": [
    {
     "output_type": "execute_result",
     "data": {
      "text/plain": [
       "array([[0.69725798, 0.60472345, 0.81882146, 0.66939882, 0.14884215],\n",
       "       [0.57513864, 0.05758803, 0.64869395, 0.92049127, 0.92263045],\n",
       "       [0.72647555, 0.18078893, 0.37338039, 0.37527081, 0.14694305],\n",
       "       [0.45155443, 0.95835555, 0.31343265, 0.26198607, 0.17121535],\n",
       "       [0.27398601, 0.36346079, 0.6584577 , 0.52732488, 0.44583092]])"
      ]
     },
     "metadata": {},
     "execution_count": 136
    }
   ],
   "source": [
    "np.round(w)\n",
    "w"
   ]
  },
  {
   "cell_type": "code",
   "execution_count": 153,
   "metadata": {},
   "outputs": [
    {
     "output_type": "stream",
     "name": "stdout",
     "text": [
      "    name  age\nm  Maria   12\nc  Clara   65\nj   Juan   34\na    Ana   76\n                 \n   name  age\nj  Juan   34\na   Ana   76\n                 \n    name  age\nc  Clara   65\n"
     ]
    }
   ],
   "source": [
    "data={\n",
    "    'name':['Maria','Clara','Juan', 'Ana'],\n",
    "    'age':[12,65,34,76]\n",
    "}\n",
    "\n",
    "a = pd.DataFrame(data, index=['m','c','j','a'])\n",
    "\n",
    "print(a)\n",
    "print(\"                 \")\n",
    "print(a.loc['j':'a'])\n",
    "print(\"                 \")\n",
    "print(a.iloc[1:2])\n"
   ]
  },
  {
   "cell_type": "code",
   "execution_count": 166,
   "metadata": {},
   "outputs": [
    {
     "output_type": "stream",
     "name": "stdout",
     "text": [
      "    name\nm  Maria\nc  Clara\nj   Juan\na    Ana\n    name  age\nm  Maria   12\nc  Clara   65\nj   Juan   34\na    Ana   76\n"
     ]
    }
   ],
   "source": [
    "a_drop = a.drop('age',axis = 1)\n",
    "print(a_drop)\n",
    "print(a)"
   ]
  },
  {
   "cell_type": "code",
   "execution_count": 164,
   "metadata": {},
   "outputs": [
    {
     "output_type": "stream",
     "name": "stdout",
     "text": [
      "    name  age\nm  Maria   12\nc  Clara   65\nj   Juan   34\na    Ana   76\n    name  age\nm  Maria   12\nj   Juan   34\na    Ana   76\n"
     ]
    }
   ],
   "source": [
    "a_drop2 = a.drop('c')\n",
    "print(a)\n",
    "print(a_drop2)"
   ]
  },
  {
   "cell_type": "code",
   "execution_count": 170,
   "metadata": {},
   "outputs": [
    {
     "output_type": "stream",
     "name": "stdout",
     "text": [
      "200\n"
     ]
    }
   ],
   "source": [
    "x = lambda a: a*10\n",
    "print(x(20))"
   ]
  },
  {
   "cell_type": "code",
   "execution_count": 186,
   "metadata": {},
   "outputs": [
    {
     "output_type": "stream",
     "name": "stdout",
     "text": [
      "    name  age\nm  Maria   12\nc  Clara   65\nj   Juan   34\na    Ana   76\n    name  age\na    Ana   76\nc  Clara   65\nj   Juan   34\nm  Maria   12\n"
     ]
    }
   ],
   "source": [
    "print(a)\n",
    "\n",
    "a_sorted = a.sort_values(by='age', ascending =False)\n",
    "print(a_sorted)"
   ]
  },
  {
   "cell_type": "code",
   "execution_count": 190,
   "metadata": {},
   "outputs": [
    {
     "output_type": "stream",
     "name": "stdout",
     "text": [
      "1\n"
     ]
    }
   ],
   "source": [
    " i =1\n",
    " while i %3==0:\n",
    "     i += 1\n",
    "     break\n",
    "print(i)"
   ]
  },
  {
   "cell_type": "code",
   "execution_count": 191,
   "metadata": {},
   "outputs": [
    {
     "output_type": "execute_result",
     "data": {
      "text/plain": [
       "True"
      ]
     },
     "metadata": {},
     "execution_count": 191
    }
   ],
   "source": []
  }
 ]
}