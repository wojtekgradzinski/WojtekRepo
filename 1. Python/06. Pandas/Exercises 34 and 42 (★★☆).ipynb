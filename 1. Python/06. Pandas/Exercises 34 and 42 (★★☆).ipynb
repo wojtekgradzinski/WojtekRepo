{
 "cells": [
  {
   "cell_type": "markdown",
   "id": "polyphonic-finland",
   "metadata": {},
   "source": [
    "**34. How to get all the dates corresponding to the month of July 2016**"
   ]
  },
  {
   "cell_type": "code",
   "execution_count": 14,
   "id": "plastic-aaron",
   "metadata": {},
   "outputs": [],
   "source": [
    "import numpy as np\n",
    "import random"
   ]
  },
  {
   "cell_type": "code",
   "execution_count": 10,
   "metadata": {},
   "outputs": [
    {
     "output_type": "stream",
     "name": "stdout",
     "text": [
      "July 2016: \n['2016-07-01' '2016-07-02' '2016-07-03' '2016-07-04' '2016-07-05'\n '2016-07-06' '2016-07-07' '2016-07-08' '2016-07-09' '2016-07-10'\n '2016-07-11' '2016-07-12' '2016-07-13' '2016-07-14' '2016-07-15'\n '2016-07-16' '2016-07-17' '2016-07-18' '2016-07-19' '2016-07-20'\n '2016-07-21' '2016-07-22' '2016-07-23' '2016-07-24' '2016-07-25'\n '2016-07-26' '2016-07-27' '2016-07-28' '2016-07-29' '2016-07-30'\n '2016-07-31']\n"
     ]
    }
   ],
   "source": [
    "print('July 2016: ')\n",
    "\n",
    "print(np.arange('2016-07', '2016-08', dtype='datetime64[D]'))"
   ]
  },
  {
   "cell_type": "markdown",
   "id": "opposite-impact",
   "metadata": {},
   "source": [
    "**42. Consider two random array A and B, check if they are equal**"
   ]
  },
  {
   "cell_type": "code",
   "execution_count": 34,
   "id": "missing-reception",
   "metadata": {},
   "outputs": [
    {
     "output_type": "stream",
     "name": "stdout",
     "text": [
      " array x: [[0.43479915 0.22965137 0.42805446]\n [0.1237475  0.27757107 0.9576629 ]\n [0.48786575 0.36225347 0.00445222]\n [0.02234393 0.28856451 0.83244914]\n [0.91010568 0.60757588 0.18185232]\n [0.18275366 0.95463729 0.67089948]]\n array y: [[0.78524821 0.41874534 0.72242483]\n [0.52329477 0.64755329 0.95423576]\n [0.69630519 0.55717855 0.49894017]\n [0.34634367 0.71071036 0.35964049]\n [0.22836136 0.36479808 0.11331685]\n [0.23373842 0.88750281 0.58827254]]\n\nResult :  False\n"
     ]
    }
   ],
   "source": [
    "x = np.random.rand(6,3)\n",
    "y = np.random.rand(6,3)\n",
    "\n",
    "print(f' array x: {x}')\n",
    "print(f' array y: {y}')\n",
    "\n",
    "print(\"\\nResult : \", np.array_equal(x, y))"
   ]
  },
  {
   "cell_type": "code",
   "execution_count": 38,
   "metadata": {},
   "outputs": [
    {
     "output_type": "stream",
     "name": "stdout",
     "text": [
      "True\nFalse\n"
     ]
    }
   ],
   "source": [
    "a = 10000000000\n",
    "b = 10000000000\n",
    "print(a == b)\n",
    "print(a is b)"
   ]
  },
  {
   "cell_type": "code",
   "execution_count": null,
   "metadata": {},
   "outputs": [],
   "source": []
  }
 ],
 "metadata": {
  "kernelspec": {
   "name": "python388jvsc74a57bd00c49cde67c9110c377b85774f48ff0fb8d9905162e9d31e616ccb3386ade4209",
   "display_name": "Python 3.8.8 64-bit ('base': conda)"
  },
  "language_info": {
   "codemirror_mode": {
    "name": "ipython",
    "version": 3
   },
   "file_extension": ".py",
   "mimetype": "text/x-python",
   "name": "python",
   "nbconvert_exporter": "python",
   "pygments_lexer": "ipython3",
   "version": "3.8.8"
  }
 },
 "nbformat": 4,
 "nbformat_minor": 5
}