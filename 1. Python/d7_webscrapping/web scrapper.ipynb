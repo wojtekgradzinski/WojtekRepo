{
 "metadata": {
  "language_info": {
   "codemirror_mode": {
    "name": "ipython",
    "version": 3
   },
   "file_extension": ".py",
   "mimetype": "text/x-python",
   "name": "python",
   "nbconvert_exporter": "python",
   "pygments_lexer": "ipython3",
   "version": "3.8.10"
  },
  "orig_nbformat": 2,
  "kernelspec": {
   "name": "python3810jvsc74a57bd0273e4cd330c9365d0d8fc6d704b08084cf297120c969e21fb6416b510b92ba85",
   "display_name": "Python 3.8.10 64-bit ('wojtek': conda)"
  }
 },
 "nbformat": 4,
 "nbformat_minor": 2,
 "cells": [
  {
   "cell_type": "code",
   "execution_count": 4,
   "metadata": {},
   "outputs": [
    {
     "output_type": "stream",
     "name": "stdout",
     "text": [
      "['50°', '60°', '52°', '59°', '51°', '64°', '50°', '62°', '50°', '61°', '48°', '59°', '48°', '60°', '48°', '63°', '50°', '64°', '50°', '66°', '50°', '67°', '51°', '67°', '50°', '69°', '51°', '69°', '51°']\n['Tonight', 'Thu 03', 'Fri 04', 'Sat 05', 'Sun 06', 'Mon 07', 'Tue 08', 'Wed 09', 'Thu 10', 'Fri 11', 'Sat 12', 'Sun 13', 'Mon 14', 'Tue 15', 'Wed 16']\n['Some clouds. Low near 50F. Winds SW at 10 to 15 mph.', 'Sunshine along with some cloudy intervals. High near 60F. Winds WSW at 15 to 25 mph.', 'A few clouds overnight. Low 52F. Winds WSW at 10 to 20 mph.', 'Partly cloudy. Gusty winds in the afternoon. High 59F. Winds WSW at 20 to 30 mph.', 'A mostly clear sky. Low 51F. Winds WSW at 15 to 25 mph.', 'Plentiful sunshine. High 64F. Winds WSW at 10 to 20 mph.', 'A few clouds. Low near 50F. Winds SW at 10 to 20 mph.', 'Sunny. High 62F. Winds WSW at 15 to 25 mph.', 'A mostly clear sky. Low around 50F. Winds WNW at 10 to 20 mph.', 'Wind increasing. A few clouds from time to time. High 61F. Winds WNW at 20 to 30 mph.', 'Mostly clear skies. Low 48F. Winds WNW at 15 to 25 mph.', 'Sunny. High 59F. Winds WNW at 15 to 25 mph.', 'A mostly clear sky. Low 48F. Winds WNW at 15 to 25 mph.', 'Some clouds in the morning will give way to mainly sunny skies for the afternoon. High around 60F. Winds W at 15 to 25 mph.', 'Mostly clear. Low 48F. Winds WNW at 10 to 20 mph.', 'Sunny skies. High 63F. Winds WNW at 15 to 25 mph.', 'Mostly clear. Low near 50F. Winds WNW at 10 to 20 mph.', 'Sunny skies. High 64F. Winds W at 15 to 25 mph.', 'Clear skies with a few passing clouds. Low around 50F. Winds WNW at 10 to 20 mph.', 'Mostly sunny skies. High near 65F. Winds W at 15 to 25 mph.', 'Mostly clear skies. Low around 50F. Winds WNW at 10 to 20 mph.', 'Mostly sunny skies. High 67F. Winds WNW at 10 to 20 mph.', 'Partly cloudy. Low 51F. Winds WNW at 10 to 20 mph.', 'Sunshine along with some cloudy intervals. High 67F. Winds W at 10 to 20 mph.', 'A mostly clear sky. Low around 50F. Winds WNW at 10 to 20 mph.', 'Abundant sunshine. High 69F. Winds W at 10 to 20 mph.', 'Clear to partly cloudy. Low 51F. Winds W at 10 to 20 mph.', 'Partly cloudy. High 69F. Winds W at 10 to 20 mph.', 'Partly cloudy. Low 51F. Winds W at 10 to 20 mph.']\n"
     ]
    }
   ],
   "source": [
    "import requests\n",
    "from bs4 import BeautifulSoup\n",
    "import pandas as pd\n",
    "page = requests.get(\"https://weather.com/weather/tenday/l/San+Francisco+CA?canonicalCityId=dfdaba8cbe3a4d12a8796e1f7b1ccc7174b4b0a2d5ddb1c8566ae9f154fa638c\")\n",
    "\n",
    "soup = BeautifulSoup(page.content, \"html.parser\")\n",
    "\n",
    "\n",
    "temperatures = soup.find_all('span', class_= \"DailyContent--temp--_8DL5\")\n",
    "\n",
    "temperatures_text = []\n",
    "for t in temperatures:\n",
    "    temperatures_text.append(t.text)\n",
    "print(temperatures_text)    \n",
    "\n",
    "\n",
    "names = soup.find_all('h2', class_= \"DetailsSummary--daypartName--1Mebr\")\n",
    "\n",
    "names_text = []\n",
    "for n in names:\n",
    "    names_text.append(n.text)\n",
    "print(names_text)\n",
    "\n",
    "conditions = soup.find_all('p', class_ = \"DailyContent--narrative--3AcXd\")\n",
    "\n",
    "weather_conditions = []\n",
    "for i in conditions:\n",
    "    weather_conditions.append(i.text)\n",
    "print(weather_conditions)    \n",
    "\n",
    "\n"
   ]
  },
  {
   "cell_type": "code",
   "execution_count": 20,
   "metadata": {},
   "outputs": [
    {
     "output_type": "stream",
     "name": "stdout",
     "text": [
      "Day: Tonight  The temperatures will be: -- / 50° Weather Conditions: Partly Cloudy\nDay: Thu 03  The temperatures will be: 60° / 52° Weather Conditions: Mostly Sunny\nDay: Fri 04  The temperatures will be: 59° / 51° Weather Conditions: Partly Cloudy/Wind\nDay: Sat 05  The temperatures will be: 64° / 50° Weather Conditions: Mostly Sunny\nDay: Sun 06  The temperatures will be: 62° / 50° Weather Conditions: Sunny\nDay: Mon 07  The temperatures will be: 61° / 48° Weather Conditions: Partly Cloudy/Wind\nDay: Tue 08  The temperatures will be: 59° / 48° Weather Conditions: Sunny\nDay: Wed 09  The temperatures will be: 60° / 48° Weather Conditions: Partly Cloudy\nDay: Thu 10  The temperatures will be: 63° / 50° Weather Conditions: Sunny\nDay: Fri 11  The temperatures will be: 64° / 50° Weather Conditions: Sunny\nDay: Sat 12  The temperatures will be: 66° / 50° Weather Conditions: Mostly Sunny\n"
     ]
    }
   ],
   "source": [
    "\n",
    "\n",
    "def convert_fahrenheit_to_celsius(fahrenheit):\n",
    "    celsius = float(fahrenheit - 32) * 5 / 9\n",
    "    return celsius\n",
    "\n",
    "convert_fahrenheit_to_celsius(56)\n",
    "day_template = \"detailIndex\"\n",
    "\n",
    "df = pd.DataFrame({},columns = ['day','temp_u','temp_l','conditons' ])\n",
    "\n",
    "for i in range(11):\n",
    "     \n",
    "    day = soup.find('div', id = day_template+str(i) )\n",
    "\n",
    "    name = day.find('h2', class_= \"DetailsSummary--daypartName--1Mebr\").text\n",
    "    temp_u = day.find('span', class_ = \"DetailsSummary--highTempValue--3x6cL\").text\n",
    "    temp_l = day.find('span', class_ = \"DetailsSummary--lowTempValue--1DlJK\").text\n",
    "    conditions = day.find('span', class_ = \"DetailsSummary--extendedData--aaFeV\").text\n",
    "\n",
    "    print(\"Day:\", name, \" The temperatures will be:\", temp_u  ,\"/\",temp_l, \"Weather Conditions:\" , conditions )\n",
    "\n",
    "\n",
    "    \n",
    "    \n",
    "   \n"
   ]
  },
  {
   "cell_type": "code",
   "execution_count": 14,
   "metadata": {},
   "outputs": [
    {
     "output_type": "stream",
     "name": "stdout",
     "text": [
      "      Day T High/Low\n0   Today  60° / 51°\n1     Thu  60° / 51°\n2     Fri  59° / 50°\n3     Sat  63° / 50°\n4     Sun  62° / 50°\n5     Mon  61° / 48°\n6     Tue  59° / 48°\n7     Wed  61° / 49°\n8     Thu  63° / 50°\n9     Fri  63° / 50°\n10    Sat        NaN\n<class 'pandas.core.frame.DataFrame'>\n"
     ]
    }
   ],
   "source": [
    "\n",
    "\"\"\"IMPORT TO PANDAS\"\"\"\n",
    "\n",
    "\n",
    "day_of_a_week = ['Today','Thu','Fri','Sat','Sun', 'Mon', 'Tue', 'Wed', 'Thu', 'Fri', 'Sat']\n",
    "temperatures = ['60° / 51°', '60° / 51°','59° / 50°', '63° / 50°','62° / 50°','61° / 48°','59° / 48°','61° / 49°','63° / 50°','63° / 50°' ]\n",
    "\n",
    "\"\"\"Table Creation\"\"\"\n",
    "\n",
    "day_of_a_week = pd.DataFrame(day_of_a_week)\n",
    "day_of_a_week = day_of_a_week.rename(columns = {0:'Day'})\n",
    "\n",
    "temperatures = pd.DataFrame(temperatures)\n",
    "temperatures = temperatures.rename(columns = {0:'T High/Low'})\n",
    "\n",
    "\"\"\"Concatenating\"\"\"\n",
    "\n",
    "df_all = pd.concat([day_of_a_week, temperatures], axis =1)\n",
    "\n",
    "print(df_all)\n",
    "print(type(df_all))\n",
    "\n",
    "\n"
   ]
  },
  {
   "cell_type": "code",
   "execution_count": null,
   "metadata": {},
   "outputs": [],
   "source": [
    "\"\"\"Short way\"\"\"\n",
    "\n",
    "data_touples = zip(name, temp_u, temp_l,  conditions)\n",
    "\n",
    "pd_table = "
   ]
  }
 ]
}