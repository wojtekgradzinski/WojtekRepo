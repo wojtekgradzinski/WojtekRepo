{
 "cells": [
  {
   "cell_type": "markdown",
   "metadata": {},
   "source": [
    "**Exercise 2.2 (optional):** Write code that classifies a given amount of money (which you store in a variable `amount`), specified in cents, as greater monetary units. Your code lists the monetary equivalent in dollars (100 ct), quarters (25 ct), dimes (10 ct), nickels (5 ct), and pennies (1 ct). Your program should report the maximum number of dollars that fit in the amount, then the maximum number of quarters that fit in the remainder after you subtract the dollars, then the maximum number of dimes that fit in the remainder after you subtract the dollars and quarters, and so on for nickels and pennies. The result is that you express the amount as the minimum number of coins needed.  \n",
    "\n",
    "**Can you do it again? Would you change anything from the last time you had to do this?"
   ]
  },
  {
   "cell_type": "code",
   "execution_count": 7,
   "metadata": {},
   "outputs": [
    {
     "data": {
      "text/plain": [
       "{'dollars': 11, 'quarters': 2, 'dimes': 0, 'nickels': 1, 'pennies': 1}"
      ]
     },
     "execution_count": 7,
     "metadata": {},
     "output_type": "execute_result"
    }
   ],
   "source": [
    "# Cashier code\n",
    "amount = 1156\n",
    "\n",
    "def cashier(amount):\n",
    "    '''\n",
    "    Test1:\n",
    "        input: 1156\n",
    "        output: {'dollars': 11, 'quarters': 2, 'dimes': 0, 'nickels': 0, 'pennies': 2}\n",
    "    '''\n",
    "    cash = dict()\n",
    "    cash['dollars'] = amount // 100\n",
    "    cents_reminder = amount % 100\n",
    "    cash['quarters'] = cents_reminder // 25\n",
    "    cents_reminder = cents_reminder % 25\n",
    "    cash['dimes'] = cents_reminder // 10\n",
    "    cents_reminder = cents_reminder % 10\n",
    "    cash['nickels'] = cents_reminder // 5\n",
    "    cents_reminder = cents_reminder % 5\n",
    "    cash['pennies'] = cents_reminder\n",
    "    return cash\n",
    "\n",
    "cashier(1156)"
   ]
  },
  {
   "cell_type": "markdown",
   "metadata": {},
   "source": [
    "**Exercise (optional)**: The factorial of a positive integer is that integer, multiplied by all positive integers that are lower (excluding zero). You write the factorial as the number with an exclamation mark after it. E.g., the factorial of 5 is `5! = 5 * 4 * 3 * 2 * 1 = 120`. Write a function that calculates the factorial of its (integer) parameter. Test your function for different parameter values, but do not use very large numbers as factorials grow exponentially. Hint: to do this with a `while` loop, you need at least one more variable."
   ]
  },
  {
   "cell_type": "code",
   "execution_count": 8,
   "metadata": {},
   "outputs": [
    {
     "name": "stdout",
     "output_type": "stream",
     "text": [
      "120\n"
     ]
    }
   ],
   "source": [
    "# Factorial\n",
    "def factorial(number):                                \n",
    "    factorial = 1\n",
    "    while number > 1:\n",
    "        factorial *= number\n",
    "        number -= 1\n",
    "    return factorial\n",
    "\n",
    "print(factorial(5))"
   ]
  },
  {
   "cell_type": "markdown",
   "metadata": {},
   "source": [
    "**Exercise 5.1 (optional):** Write a function that prints a multiplication table for digits 1 to 10. A multiplication table for the numbers 1 to `num = 3` looks as follows:\n",
    "\n",
    "`. |  1  2  3`<br>\n",
    "`------------`<br>\n",
    "`1 |  1  2  3`<br>\n",
    "`2 |  2  4  6`<br>\n",
    "`3 |  3  6  9`\n",
    "\n",
    "So the labels on the rows are multiplied by the labels on the columns, and the result is shown in the cell that is on that row/column combination. "
   ]
  },
  {
   "cell_type": "code",
   "execution_count": 9,
   "metadata": {},
   "outputs": [
    {
     "name": "stdout",
     "output_type": "stream",
     "text": [
      ". | 1 2 3 \n",
      "---------\n",
      "1 | 1 2 3 \n",
      "2 | 2 4 6 \n",
      "3 | 3 6 9 \n"
     ]
    }
   ],
   "source": [
    "# Print multiplication table\n",
    "def print_multiplication_table(n):\n",
    "    \n",
    "    line1 = str(\". | \")\n",
    "    for x in range(1, n+1):\n",
    "        line1 += str(x) + \" \"\n",
    "    \n",
    "    print (line1)\n",
    "    print (\"---\"*n)\n",
    "    \n",
    "    for i in range (1, n+1):\n",
    "        line = str(i) + \" | \"\n",
    "        for j in range (1, n+1):\n",
    "            line += str(i*j) + \" \"\n",
    "        \n",
    "        print(line)\n",
    "        \n",
    "print_multiplication_table(3)"
   ]
  },
  {
   "cell_type": "markdown",
   "metadata": {},
   "source": [
    "**Exercise 5.2 (optional):** If you did the previous exercise with a `while` loop, then do it again with a `for` loop. If you did it with a `for` loop, then do it again with a `while` loop. If you did not use a loop at all, you should be ashamed of yourself."
   ]
  },
  {
   "cell_type": "code",
   "execution_count": 37,
   "metadata": {},
   "outputs": [
    {
     "name": "stdout",
     "output_type": "stream",
     "text": [
      ".    | 1\t2\t3\t4\t5\t\n",
      "---------------------------------------------\n",
      "1    | 1\t2\t3\t4\t5\t\n",
      "2    | 2\t4\t6\t8\t10\t\n",
      "3    | 3\t6\t9\t12\t15\t\n",
      "4    | 4\t8\t12\t16\t20\t\n",
      "5    | 5\t10\t15\t20\t25\t\n"
     ]
    }
   ],
   "source": [
    "# Print multiplication table\n",
    "def print_multiplication_table(n):\n",
    "    \n",
    "    line1 = str(\".    | \")\n",
    "    x = 1\n",
    "    while x <= n:\n",
    "        line1 += str(x) + \"\\t\"\n",
    "        x += 1\n",
    "    \n",
    "    print (line1)\n",
    "    print (\"---------\"*n)\n",
    "    \n",
    "    i = 1\n",
    "    while i <= n:\n",
    "        line = str(i) + \"    | \" \n",
    "        j = 1\n",
    "        while j <= n:\n",
    "            line += str(i * j) + \"\\t\"\n",
    "            j += 1\n",
    "        i += 1 \n",
    "        print (line)\n",
    "\n",
    "print_multiplication_table(5)"
   ]
  },
  {
   "cell_type": "markdown",
   "metadata": {},
   "source": [
    "**Exercise 6.1 (optional):** Count how many of each vowel (`a`, `e`, `i`, `o`, `u`) there are in the text string in the next cell, and print the count for each vowel with a single formatted string. Remember that vowels can be both lower and uppercase."
   ]
  },
  {
   "cell_type": "code",
   "execution_count": 38,
   "metadata": {},
   "outputs": [
    {
     "data": {
      "text/plain": [
       "'a appears 32 times, e appears 23 times, i appears 18 times, o appears 12 times, u appears 6 times'"
      ]
     },
     "execution_count": 38,
     "metadata": {},
     "output_type": "execute_result"
    }
   ],
   "source": [
    "# Counting vowels.\n",
    "text = \"\"\"And Saint Attila raised the hand grenade up on high,\n",
    "saying, \"O Lord, bless this thy hand grenade, that with it\n",
    "thou mayst blow thine enemies to tiny bits, in thy mercy.\" \n",
    "And the Lord did grin. And the people did feast upon the lambs, \n",
    "and sloths, and carp, and anchovies, and orangutans, and \n",
    "breakfast cereals, and fruit bats, and large chu...\"\"\"\n",
    "def count_vowels(text):\n",
    "    counta= 0\n",
    "    counte= 0\n",
    "    counti= 0\n",
    "    counto= 0\n",
    "    countu= 0\n",
    "    for i in text:\n",
    "        if i == \"a\" or i == \"A\":\n",
    "            counta += 1\n",
    "        if i == \"e\" or i == \"E\":\n",
    "            counte += 1\n",
    "        if i == \"i\" or i == \"I\":\n",
    "            counti += 1\n",
    "        if i == \"o\" or i == \"O\":\n",
    "            counto += 1\n",
    "        if i == \"u\" or i == \"U\":\n",
    "            countu += 1\n",
    "    return \"a appears {} times, e appears {} times, i appears {} times, o appears {} times, u appears {} times\".format(counta, counte, counti, counto, countu)\n",
    "    \n",
    "count_vowels(text)         "
   ]
  },
  {
   "cell_type": "markdown",
   "metadata": {},
   "source": [
    "**Exercise 6.5 (optional):** Typical autocorrect functions are the following: \n",
    "1. if a word starts with two capitals, followed by a lower-case letter, the second capital is made lower case; \n",
    "2. if a sentence contains a word that is immediately followed by the same word, the second occurrence is removed; \n",
    "3. if a sentence starts with a lower-case letter, that letter is turned into a capital; \n",
    "4. if a word consists entirely of capitals, except for the first letter which is lower case, then the case of the letters in the word is reversed; and \n",
    "5. if the sentence contains the name of a day (in English) which does not start with a capital, the first letter is turned into a capital. \n",
    "\n",
    "Write a program that takes a sentence and makes these auto-corrections."
   ]
  },
  {
   "cell_type": "code",
   "execution_count": 83,
   "metadata": {},
   "outputs": [
    {
     "data": {
      "text/plain": [
       "\"As it turned out our chance meeting with reverend arthur belling was to change our whole way of life, and every Sunday we'd hurry along to st loony up the cream bun and jam.\""
      ]
     },
     "execution_count": 83,
     "metadata": {},
     "output_type": "execute_result"
    }
   ],
   "source": [
    "# Autocorrect.\n",
    "sentence = \"as it turned out our chance meeting with REverend aRTHUR BElling was \\\n",
    "was to change our whole way of life, and every sunday we'd hurry along to St lOONY up the Cream BUn and Jam.\"\n",
    "\n",
    "def main(text):\n",
    "    \n",
    "    # doublewords\n",
    "    text = doublewords(text)\n",
    "    # capitals reversed\n",
    "    text = capital_s(text)\n",
    "    # capitalize days\n",
    "    text = days(text)\n",
    "    \n",
    "    return text\n",
    "\n",
    "def upperlower(w):\n",
    "    if w[0].isupper() and w[1].isupper():\n",
    "        return w.lower().capitalize()\n",
    "    return w\n",
    "\n",
    "def doublewords(text):\n",
    "    prev_w = \"\"\n",
    "    n_l = []\n",
    "    l = text.lower().split()\n",
    "    for w in l:\n",
    "        #calling upperlower here since we already loop through the words of a sentence\n",
    "        w = upperlower(w)\n",
    "        if w != prev_w:\n",
    "            n_l.append(w)\n",
    "        prev_w = w\n",
    "    return \" \".join(n_l)\n",
    "\n",
    "def capital_s(s):\n",
    "    return s.capitalize()\n",
    "\n",
    "def days(s):\n",
    "    days = [\"monday\", \"tuesday\", \"wednesday\", \"thursday\", \"friday\", \"saturday\", \"sunday\"]\n",
    "    nl = []\n",
    "    for word in s.split():\n",
    "        if word in days:\n",
    "            nl.append(word.capitalize())\n",
    "        else:\n",
    "            nl.append(word)\n",
    "    return \" \".join(nl)\n",
    "    \n",
    "if __name__ == \"__main__\":    \n",
    "    main(sentence)\n",
    "\n",
    "main(sentence)"
   ]
  },
  {
   "cell_type": "markdown",
   "metadata": {},
   "source": [
    "### Exercise 11.3 (Optional)\n",
    "In this directory you find a file `blakepoems.txt`. Write a program that processes the contents of this file, line by line. It creates an output file in the current working directory called `blkpms.txt`, which has the same contents as `blakepoems.txt`, except that all the vowels are removed (case-insensitively). At the end, display how many characters you read, and how many characters you wrote. If you want to check the contents of `blkpms.txt`, you can either open it in a text editor, or display the first 10 lines or so at the end of your program."
   ]
  },
  {
   "cell_type": "code",
   "execution_count": 40,
   "metadata": {},
   "outputs": [
    {
     "name": "stdout",
     "output_type": "stream",
     "text": [
      "Read Characters 0, written characters 27722\n"
     ]
    }
   ],
   "source": [
    "## Joby's solution is more neat than mine, piggybacking on it with a few modifications here!\n",
    "\n",
    "## Your Code Here\n",
    "import re \n",
    "fp = open(\"./text-files/blakepoems.txt\",\"r\")\n",
    "\n",
    "def readThelines(f):\n",
    "    while True:\n",
    "        buffer = f.readline()             \n",
    "        if buffer == \"\":\n",
    "            break\n",
    "        processLine(buffer)\n",
    "\n",
    "def processLine(l):\n",
    "    line = re.sub('a|e|i|o|u|A|E|I|O|U', '', l)\n",
    "    createFile(line)\n",
    "    \n",
    "def createFile(li):\n",
    "    new = open(\"blkpms.txt\", \"a+\")\n",
    "    new.writelines(li)\n",
    "    \n",
    "def characterCount(x):\n",
    "    y = open(\"blkpms.txt\", \"r\")\n",
    "    xd = x.read()\n",
    "    yd = y.read()\n",
    "    charCountOrginal = len(xd)\n",
    "    charCountNew = len(yd)\n",
    "    print(\"Read Characters {}, written characters {}\".format(charCountOrginal, charCountNew))\n",
    "\n",
    "readThelines(fp)\n",
    "characterCount(fp)"
   ]
  },
  {
   "cell_type": "code",
   "execution_count": 48,
   "metadata": {},
   "outputs": [
    {
     "name": "stdout",
     "output_type": "stream",
     "text": [
      "Begin.....\n",
      "Writting line 0.......\n",
      "Writting line 100.......\n",
      "Writting line 200.......\n",
      "Writting line 300.......\n",
      "Writting line 400.......\n",
      "Writting line 500.......\n",
      "Writting line 600.......\n",
      "Writting line 700.......\n",
      "Writting line 800.......\n",
      "Writting line 900.......\n",
      "Writting line 1000.......\n",
      "Writting line 1100.......\n",
      "Writting line 1200.......\n",
      "Writting line 1300.......\n",
      "Writting line 1400.......\n",
      "Finished!\n"
     ]
    }
   ],
   "source": [
    "def anti_vowel(text):\n",
    "    for i in \"aeiouAEIOU\":\n",
    "        text = text.replace(i,\"\")\n",
    "    return text\n",
    "\n",
    "def main():\n",
    "    with open(\"./text-files/blakepoems.txt\") as text_file:\n",
    "        file = open('./text-files/blkpms.txt', 'w+')\n",
    "        print(\"Begin.....\")\n",
    "        counter = 0\n",
    "        for line in text_file:\n",
    "            cln = anti_vowel(line)\n",
    "            file.write(cln)\n",
    "            if counter % 100 == 0:\n",
    "                print(f\"Writting line {counter}.......\",)\n",
    "            counter +=1\n",
    "                \n",
    "        print(\"Finished!\")    \n",
    "        \n",
    "        file.close()\n",
    "\n",
    "if __name__ == \"__main__\":\n",
    "    main()\n",
    "    \n",
    "# Print the contents of dictionary \n",
    "#for key in list(d.keys()): \n",
    "#    print(key, \":\", d[key]) "
   ]
  },
  {
   "cell_type": "code",
   "execution_count": null,
   "metadata": {},
   "outputs": [],
   "source": []
  }
 ],
 "metadata": {
  "kernelspec": {
   "display_name": "Python 3",
   "language": "python",
   "name": "python3"
  },
  "language_info": {
   "codemirror_mode": {
    "name": "ipython",
    "version": 3
   },
   "file_extension": ".py",
   "mimetype": "text/x-python",
   "name": "python",
   "nbconvert_exporter": "python",
   "pygments_lexer": "ipython3",
   "version": "3.8.5"
  }
 },
 "nbformat": 4,
 "nbformat_minor": 2
}
