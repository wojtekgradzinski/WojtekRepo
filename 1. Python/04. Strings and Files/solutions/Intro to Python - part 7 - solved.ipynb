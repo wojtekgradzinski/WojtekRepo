{
 "cells": [
  {
   "cell_type": "markdown",
   "metadata": {},
   "source": [
    "# Chapter 11 - Text Files"
   ]
  },
  {
   "cell_type": "markdown",
   "metadata": {},
   "source": [
    "---"
   ]
  },
  {
   "cell_type": "markdown",
   "metadata": {},
   "source": [
    "One of the most important uses of Python for data processing is the reading, changing, and writing of text files. Data is often stored in text files, because text files can be easily transferred between different programs. There are multiple standardized formats for text files, such as \"comma-separated values\" (CSV) files. Python supports particular text file formats through modules, some of which will be discussed later. This chapter focusses on opening, reading, writing, and closing of any text file, regardless of format. "
   ]
  },
  {
   "cell_type": "markdown",
   "metadata": {},
   "source": [
    "---"
   ]
  },
  {
   "cell_type": "markdown",
   "metadata": {},
   "source": [
    "## Flat text files"
   ]
  },
  {
   "cell_type": "markdown",
   "metadata": {},
   "source": [
    "When programmers refer to \"text files\" or \"flat text files\", they mean files in which all characters are meant to be read as regular characters, like you would type on a keyboard. For instance, Python program files are flat text files, as are HTML files. Word processor documents, however, are not flat text files, and neither are images. If you want to know whether a file is a text file or not, you can try to open it in a text editor (such as the editor for the IDLE environment, which comes with Python). If you see only readable text, the file is likely to be a text file. Otherwise, it is a so-called \"binary file\".\n",
    "\n",
    "Text files consist of lines of text. At the end of a line, there is a \"newline\" symbol, which in Python is the character \"`\\n`\". Different operating systems use slightly different ways of storing this character in a text file: some Windows programs store it as \"carriage return\", as well as \"line feed\" (\"`\\r\\n`\", sometimes thought as a leftover from old typewriters), while on Linux it is always stored as a single \"`\\n`\". As long as you access a file from Python as a regular text file, Python will convert the characters that it reads to the standard \"`\\n`\", and vice versa when it writes. So you do not usually need to worry about such differences (except when you need to transfer text files between operating systems).\n",
    "\n",
    "However; if you open a file in other editors, such as notepad, sometimes it does not properly understand the end-of-line characters, and shows everything on one line."
   ]
  },
  {
   "cell_type": "markdown",
   "metadata": {},
   "source": [
    "### File handles and pointers"
   ]
  },
  {
   "cell_type": "markdown",
   "metadata": {},
   "source": [
    "When you work with a file in a program, you have to open the file. Opening a file provides a so-called \"file handle\". A file handle can be seen as an access point to the file. It contains a \"pointer\" that indicates a particular place in the file. That pointer is used when you read from or write to the file. For instance, when you read from the file, it starts reading at the pointer, and moves the pointer forward in the file.\n",
    "\n",
    "When you open a file, the pointer is placed at a particular spot in the file, depending on how you opened the file. If you opened the file for reading only, the pointer is placed at the start of the file. The same is true when you open the file for both reading and writing. If you open the file for \"appending\" (i.e., to place new data at the file's end), the file pointer is positioned at the end of the file. Lastly, if you open a file for writing only, actually the file is completely emptied and the file pointer is placed at the start of the, now empty, file. To create a new file (i.e., a file with a name that does not exist yet), you open it for \"writing only\".\n",
    "\n",
    "After opening the file, the file handle is the only access point for the file. All actions you perform on the file, you perform as methods for the file handle.\n",
    "\n",
    "Note that any operating system only allows a limited number of files to be open simultaneously. Therefore you should close files that you no longer need to work with."
   ]
  },
  {
   "cell_type": "markdown",
   "metadata": {},
   "source": [
    "### Moving the file pointer"
   ]
  },
  {
   "cell_type": "markdown",
   "metadata": {},
   "source": [
    "The file pointer, that indicates where in a file you are working, is moved automatically. For instance, when you read 10 characters from a file, the file pointer indicates which is the first of those 10 characters, and, while reading, moves up 10 characters, so that its new position is 10 characters further in the file than before. When you deal with text files, the automatic movements of the file pointer are exactly what you want. You *can* position the file pointer manually using specific methods, but such methods are, in general, only used when dealing with binary files. "
   ]
  },
  {
   "cell_type": "markdown",
   "metadata": {},
   "source": [
    "### Buffering"
   ]
  },
  {
   "cell_type": "markdown",
   "metadata": {},
   "source": [
    "When you make changes to files, these often are not stored in the files immediately. Instead, the operating system \"buffers\" the changes in memory, and \"flushes\" the buffers to the actual files when it sees a need for that. You can force the flushing of the buffers by closing a file. Buffers are also flushed when your program ends normally.\n",
    "\n",
    "However, when your program crashes (for instance because of a runtime error), buffers might not be flushed, and your files will not be updated to the point where the crash took place. So you cannot take the file contents into account when trying to debug a program."
   ]
  },
  {
   "cell_type": "markdown",
   "metadata": {},
   "source": [
    "### File processing programs"
   ]
  },
  {
   "cell_type": "markdown",
   "metadata": {},
   "source": [
    "Most programs that deal with text files follow a process that, in a loop, reads contents of a file, processes those contents in some way, then writes the contents to another file. For instance, a program might read lines from a text file, and for each line sort the words, then write the sorted words to another text file. This is hardly any different from a program that asks the user the provide, in a loop, a line of text, then sorts the words in the line, and displays them using the `print()` function. \n",
    "\n",
    "However, it tends to be experienced as more complicated.\n",
    "\n",
    "When you provide input to a program manually, and see it displaying outputs, you always know more or less what lines of your code Python is processing, and you can make up tests on the fly. If you work with files, you have to prepare your files beforehand, then run the program and wait until it finishes before you can examine the contents of the output files. \n",
    "\n",
    "While working with files might give a sense of lack of control, during development of the program you can always include `print()` statements to get an insight in what the program is doing. For instance, when it reads a line, you can print that line, and when it writes a line, you can also print that line. That way, your insight in the inner workings of the program is no different regardless whether you use manual inputs and screen outputs, or file inputs and outputs."
   ]
  },
  {
   "cell_type": "markdown",
   "metadata": {},
   "source": [
    "---"
   ]
  },
  {
   "cell_type": "markdown",
   "metadata": {},
   "source": [
    "## Reading text files"
   ]
  },
  {
   "cell_type": "markdown",
   "metadata": {},
   "source": [
    "To read the contents of a file, you must first open it, then read the contents, then close it."
   ]
  },
  {
   "cell_type": "markdown",
   "metadata": {},
   "source": [
    "### Opening a file using `open()`"
   ]
  },
  {
   "cell_type": "markdown",
   "metadata": {},
   "source": [
    "To open a file, you use the `open()` function. \n",
    "\n",
    "The `open()` function gets two arguments, of which the second one is optional. The first argument is the name of the file. If the file is not in the current directory, you have to include the complete path to the file so that Python can find it. The second argument is the \"mode\". The mode indicates how you want to treat the file. The default mode (which is picked when you do not supply the second argument) is opening the file as a text file for reading only. How you set other modes is discussed later.\n",
    "\n",
    "The `open()` function returns a file handle, which you use for all the remaining functionalities.\n",
    "\n",
    "Rather than writing \"`<handle> = open( <filename> )`\", you will often see Python programs that write this as \"`open( <filename> ) as <handle>`\". These two ways of writing code are equivalent. I myself prefer the first, as that is the way it is done in most programming languages. However, the second method has an advantage that I discuss below, when talking about closing a file."
   ]
  },
  {
   "cell_type": "markdown",
   "metadata": {},
   "source": [
    "### Reading a file using `read()`"
   ]
  },
  {
   "cell_type": "markdown",
   "metadata": {},
   "source": [
    "The simplest way to read the contents of a file is using the `read()` method, without arguments, on the file handle. This returns a string that contains the complete contents of the file. `read()` can get an argument, but that's only used for binary files.\n",
    "\n",
    "Reading from a file moves the file pointer to right after the part of the file that was read. This means that if you use the `read()` method without arguments, the file pointer is moved to the end of the file. This entails that if you would try to `read()` from it a second time, nothing would be read, as there is nothing to be read after the spot where the file pointer is."
   ]
  },
  {
   "cell_type": "markdown",
   "metadata": {},
   "source": [
    "### Closing a file using `close()`"
   ]
  },
  {
   "cell_type": "markdown",
   "metadata": {},
   "source": [
    "To close a file, you use the `close()` method on the file handle. Every file that you open, you should close at some point in your program. This is especially true in these notebooks, as each notebook page is considered to be one complete program; this means that if you do not close a file, it remains open even after the bit of code that you executed ends.\n",
    "\n",
    "If everything that you need to do with a file is done in a single block, you can write this block as follows:\n",
    "\n",
    "    with open( <filename> ) as <handle>:\n",
    "        <statements>\n",
    "        \n",
    "This syntactic construction has the advantage that the file will be closed automatically after the block `<statements>` ends, so you do not need to include an explicit `close()` call. This construction is typically Python; you do not see it in many other programming languages."
   ]
  },
  {
   "cell_type": "markdown",
   "metadata": {},
   "source": [
    "### Displaying the contents of a file"
   ]
  },
  {
   "cell_type": "markdown",
   "metadata": {},
   "source": [
    "Now the first few functions and methods for dealing with text files have been introduced, I can show some code that reads the contents of a file."
   ]
  },
  {
   "cell_type": "code",
   "execution_count": 4,
   "metadata": {},
   "outputs": [
    {
     "name": "stdout",
     "output_type": "stream",
     "text": [
      "1609\n",
      "\n",
      "THE SONNETS\n",
      "\n",
      "by William Shakespeare\n",
      "\n",
      "\n",
      "\n",
      "                     1\n",
      "  From fairest creatures we desire increase,\n",
      "  That thereby beauty's rose might never die,\n",
      "  But as the riper should by time decease,\n",
      "  His tender heir might bear his memory:\n",
      "  But thou contracted to thine own bright eyes,\n",
      "  Feed'st thy light's flame with self-substantial fuel,\n",
      "  Making a famine where abundance lies,\n",
      "  Thy self thy foe, to thy sweet self too cruel:\n",
      "  Thou that art now the world's fresh ornament,\n",
      "  And only herald to the gaudy spring,\n",
      "  Within thine own bud buriest thy content,\n",
      "  And tender churl mak'st waste in niggarding:\n",
      "    Pity the world, or else this glutton be,\n",
      "    To eat the world's due, by the grave and thee.\n",
      "\n",
      "\n",
      "                     2\n",
      "  When forty winters shall besiege thy brow,\n",
      "  And dig deep trenches in thy beauty's field,\n",
      "  Thy youth's proud livery so gazed on now,\n",
      "  Will be a tattered weed of small worth held:\n",
      "  Then being asked, where all thy beauty lies,\n",
      "  Where all the treasure of thy lusty days;\n",
      "  To say within thine own deep sunken eyes,\n",
      "  Were an all-eating shame, and thriftless praise.\n",
      "  How much more praise deserved thy beauty's use,\n",
      "  If thou couldst answer 'This fair child of mine\n",
      "  Shall sum my count, and make my old excuse'\n",
      "  Proving his beauty by succession thine.\n",
      "    This were to be new made when thou art old,\n",
      "    And see thy blood warm when thou feel'st it cold.\n",
      "\n",
      "\n",
      "                     3\n",
      "  Look in thy glass and tell the face thou viewest,\n",
      "  Now is the time that face should form another,\n",
      "  Whose fresh repair if now thou not renewest,\n",
      "  Thou dost beguile the world, unbless some mother.\n",
      "  For where is she so fair whose uneared womb\n",
      "  Disdains the tillage of thy husbandry?\n",
      "  Or who is he so fond will be the tomb,\n",
      "  Of his self-love to stop posterity?\n",
      "  Thou art thy mother's glass and she in thee\n",
      "  Calls back the lovely April of her prime,\n",
      "  So thou through windows of thine age shalt see,\n",
      "  Despite of wrinkles this thy golden time.\n",
      "    But if thou live remembered not to be,\n",
      "    Die single and thine image dies with thee.\n",
      "\n",
      "\n",
      "                     4\n",
      "  Unthrifty loveliness why dost thou spend,\n",
      "  Upon thy self thy beauty's legacy?\n",
      "  Nature's bequest gives nothing but doth lend,\n",
      "  And being frank she lends to those are free:\n",
      "  Then beauteous niggard why dost thou abuse,\n",
      "  The bounteous largess given thee to give?\n",
      "  Profitless usurer why dost thou use\n",
      "  So great a sum of sums yet canst not live?\n",
      "  For having traffic with thy self alone,\n",
      "  Thou of thy self thy sweet self dost deceive,\n",
      "  Then how when nature calls thee to be gone,\n",
      "  What acceptable audit canst thou leave?\n",
      "    Thy unused beauty must be tombed with thee,\n",
      "    Which used lives th' executor to be.\n",
      "\n",
      "\n",
      "                     5\n",
      "  Those hours that with gentle work did frame\n",
      "  The lovely gaze where every eye doth dwell\n",
      "  Will play the tyrants to the very same,\n",
      "  And that unfair which fairly doth excel:\n",
      "  For never-resting time leads summer on\n",
      "  To hideous winter and confounds him there,\n",
      "  Sap checked with frost and lusty leaves quite gone,\n",
      "  Beauty o'er-snowed and bareness every where:\n",
      "  Then were not summer's distillation left\n",
      "  A liquid prisoner pent in walls of glass,\n",
      "  Beauty's effect with beauty were bereft,\n",
      "  Nor it nor no remembrance what it was.\n",
      "    But flowers distilled though they with winter meet,\n",
      "    Leese but their show, their substance still lives sweet.\n",
      "\n",
      "\n",
      "                     6\n",
      "  Then let not winter's ragged hand deface,\n",
      "  In thee thy summer ere thou be distilled:\n",
      "  Make sweet some vial; treasure thou some place,\n",
      "  With beauty's treasure ere it be self-killed:\n",
      "  That use is not forbidden usury,\n",
      "  Which happies those that pay the willing loan;\n",
      "  That's for thy self to breed another thee,\n",
      "  Or ten times happier be it ten for one,\n",
      "  Ten times thy self were happier than thou art,\n",
      "  If ten of thine ten times refigured thee:\n",
      "  Then what could death do if thou shouldst depart,\n",
      "  Leaving thee living in posterity?\n",
      "    Be not self-willed for thou art much too fair,\n",
      "    To be death's conquest and make worms thine heir.\n",
      "\n",
      "\n",
      "                     7\n",
      "  Lo in the orient when the gracious light\n",
      "  Lifts up his burning head, each under eye\n",
      "  Doth homage to his new-appearing sight,\n",
      "  Serving with looks his sacred majesty,\n",
      "  And having climbed the steep-up heavenly hill,\n",
      "  Resembling strong youth in his middle age,\n",
      "  Yet mortal looks adore his beauty still,\n",
      "  Attending on his golden pilgrimage:\n",
      "  But when from highmost pitch with weary car,\n",
      "  Like feeble age he reeleth from the day,\n",
      "  The eyes (fore duteous) now converted are\n",
      "  From his low tract and look another way:\n",
      "    So thou, thy self out-going in thy noon:\n",
      "    Unlooked on diest unless thou get a son.\n",
      "\n",
      "\n",
      "                     8\n",
      "  Music to hear, why hear'st thou music sadly?\n",
      "  Sweets with sweets war not, joy delights in joy:\n",
      "  Why lov'st thou that which thou receiv'st not gladly,\n",
      "  Or else receiv'st with pleasure thine annoy?\n",
      "  If the true concord of well-tuned sounds,\n",
      "  By unions married do offend thine ear,\n",
      "  They do but sweetly chide thee, who confounds\n",
      "  In singleness the parts that thou shouldst bear:\n",
      "  Mark how one string sweet husband to another,\n",
      "  Strikes each in each by mutual ordering;\n",
      "  Resembling sire, and child, and happy mother,\n",
      "  Who all in one, one pleasing note do sing:\n",
      "    Whose speechless song being many, seeming one,\n",
      "    Sings this to thee, 'Thou single wilt prove none'.\n",
      "\n",
      "\n",
      "                     9\n",
      "  Is it for fear to wet a widow's eye,\n",
      "  That thou consum'st thy self in single life?\n",
      "  Ah, if thou issueless shalt hap to die,\n",
      "  The world will wail thee like a makeless wife,\n",
      "  The world will be thy widow and still weep,\n",
      "  That thou no form of thee hast left behind,\n",
      "  When every private widow well may keep,\n",
      "  By children's eyes, her husband's shape in mind:\n",
      "  Look what an unthrift in the world doth spend\n",
      "  Shifts but his place, for still the world enjoys it;\n",
      "  But beauty's waste hath in the world an end,\n",
      "  And kept unused the user so destroys it:\n",
      "    No love toward others in that bosom sits\n",
      "    That on himself such murd'rous shame commits.\n",
      "\n",
      "\n",
      "                     10\n",
      "  For shame deny that thou bear'st love to any\n",
      "  Who for thy self art so unprovident.\n",
      "  Grant if thou wilt, thou art beloved of many,\n",
      "  But that thou none lov'st is most evident:\n",
      "  For thou art so possessed with murd'rous hate,\n",
      "  That 'gainst thy self thou stick'st not to conspire,\n",
      "  Seeking that beauteous roof to ruinate\n",
      "  Which to repair should be thy chief desire:\n",
      "  O change thy thought, that I may change my mind,\n",
      "  Shall hate be fairer lodged than gentle love?\n",
      "  Be as thy presence is gracious and kind,\n",
      "  Or to thy self at least kind-hearted prove,\n",
      "    Make thee another self for love of me,\n",
      "    That beauty still may live in thine or thee.\n",
      "\n",
      "\n"
     ]
    }
   ],
   "source": [
    "\n",
    "def display_contents_file(file_name):\n",
    "    #fp = open(file_name, \"r\")\n",
    "    with open( file_name ) as fp:\n",
    "        buffer = fp.read()\n",
    "    print( buffer )\n",
    "    \n",
    "display_contents_file(\"../text-files/Shakespeare.txt\")"
   ]
  },
  {
   "cell_type": "code",
   "execution_count": 5,
   "metadata": {},
   "outputs": [
    {
     "name": "stdout",
     "output_type": "stream",
     "text": [
      "1609\n",
      "\n",
      "THE SONNETS\n",
      "\n",
      "by William Shakespeare\n",
      "\n",
      "\n",
      "\n",
      "                     1\n",
      "  From fairest creatures we desire increase,\n",
      "  That thereby beauty's rose might never die,\n",
      "  But as the riper should by time decease,\n",
      "  His tender heir might bear his memory:\n",
      "  But thou contracted to thine own bright eyes,\n",
      "  Feed'st thy light's flame with self-substantial fuel,\n",
      "  Making a famine where abundance lies,\n",
      "  Thy self thy foe, to thy sweet self too cruel:\n",
      "  Thou that art now the world's fresh ornament,\n",
      "  And only herald to the gaudy spring,\n",
      "  Within thine own bud buriest thy content,\n",
      "  And tender churl mak'st waste in niggarding:\n",
      "    Pity the world, or else this glutton be,\n",
      "    To eat the world's due, by the grave and thee.\n",
      "\n",
      "\n",
      "                     2\n",
      "  When forty winters shall besiege thy brow,\n",
      "  And dig deep trenches in thy beauty's field,\n",
      "  Thy youth's proud livery so gazed on now,\n",
      "  Will be a tattered weed of small worth held:\n",
      "  Then being asked, where all thy beauty lies,\n",
      "  Where all the treasure of thy lusty days;\n",
      "  To say within thine own deep sunken eyes,\n",
      "  Were an all-eating shame, and thriftless praise.\n",
      "  How much more praise deserved thy beauty's use,\n",
      "  If thou couldst answer 'This fair child of mine\n",
      "  Shall sum my count, and make my old excuse'\n",
      "  Proving his beauty by succession thine.\n",
      "    This were to be new made when thou art old,\n",
      "    And see thy blood warm when thou feel'st it cold.\n",
      "\n",
      "\n",
      "                     3\n",
      "  Look in thy glass and tell the face thou viewest,\n",
      "  Now is the time that face should form another,\n",
      "  Whose fresh repair if now thou not renewest,\n",
      "  Thou dost beguile the world, unbless some mother.\n",
      "  For where is she so fair whose uneared womb\n",
      "  Disdains the tillage of thy husbandry?\n",
      "  Or who is he so fond will be the tomb,\n",
      "  Of his self-love to stop posterity?\n",
      "  Thou art thy mother's glass and she in thee\n",
      "  Calls back the lovely April of her prime,\n",
      "  So thou through windows of thine age shalt see,\n",
      "  Despite of wrinkles this thy golden time.\n",
      "    But if thou live remembered not to be,\n",
      "    Die single and thine image dies with thee.\n",
      "\n",
      "\n",
      "                     4\n",
      "  Unthrifty loveliness why dost thou spend,\n",
      "  Upon thy self thy beauty's legacy?\n",
      "  Nature's bequest gives nothing but doth lend,\n",
      "  And being frank she lends to those are free:\n",
      "  Then beauteous niggard why dost thou abuse,\n",
      "  The bounteous largess given thee to give?\n",
      "  Profitless usurer why dost thou use\n",
      "  So great a sum of sums yet canst not live?\n",
      "  For having traffic with thy self alone,\n",
      "  Thou of thy self thy sweet self dost deceive,\n",
      "  Then how when nature calls thee to be gone,\n",
      "  What acceptable audit canst thou leave?\n",
      "    Thy unused beauty must be tombed with thee,\n",
      "    Which used lives th' executor to be.\n",
      "\n",
      "\n",
      "                     5\n",
      "  Those hours that with gentle work did frame\n",
      "  The lovely gaze where every eye doth dwell\n",
      "  Will play the tyrants to the very same,\n",
      "  And that unfair which fairly doth excel:\n",
      "  For never-resting time leads summer on\n",
      "  To hideous winter and confounds him there,\n",
      "  Sap checked with frost and lusty leaves quite gone,\n",
      "  Beauty o'er-snowed and bareness every where:\n",
      "  Then were not summer's distillation left\n",
      "  A liquid prisoner pent in walls of glass,\n",
      "  Beauty's effect with beauty were bereft,\n",
      "  Nor it nor no remembrance what it was.\n",
      "    But flowers distilled though they with winter meet,\n",
      "    Leese but their show, their substance still lives sweet.\n",
      "\n",
      "\n",
      "                     6\n",
      "  Then let not winter's ragged hand deface,\n",
      "  In thee thy summer ere thou be distilled:\n",
      "  Make sweet some vial; treasure thou some place,\n",
      "  With beauty's treasure ere it be self-killed:\n",
      "  That use is not forbidden usury,\n",
      "  Which happies those that pay the willing loan;\n",
      "  That's for thy self to breed another thee,\n",
      "  Or ten times happier be it ten for one,\n",
      "  Ten times thy self were happier than thou art,\n",
      "  If ten of thine ten times refigured thee:\n",
      "  Then what could death do if thou shouldst depart,\n",
      "  Leaving thee living in posterity?\n",
      "    Be not self-willed for thou art much too fair,\n",
      "    To be death's conquest and make worms thine heir.\n",
      "\n",
      "\n",
      "                     7\n",
      "  Lo in the orient when the gracious light\n",
      "  Lifts up his burning head, each under eye\n",
      "  Doth homage to his new-appearing sight,\n",
      "  Serving with looks his sacred majesty,\n",
      "  And having climbed the steep-up heavenly hill,\n",
      "  Resembling strong youth in his middle age,\n",
      "  Yet mortal looks adore his beauty still,\n",
      "  Attending on his golden pilgrimage:\n",
      "  But when from highmost pitch with weary car,\n",
      "  Like feeble age he reeleth from the day,\n",
      "  The eyes (fore duteous) now converted are\n",
      "  From his low tract and look another way:\n",
      "    So thou, thy self out-going in thy noon:\n",
      "    Unlooked on diest unless thou get a son.\n",
      "\n",
      "\n",
      "                     8\n",
      "  Music to hear, why hear'st thou music sadly?\n",
      "  Sweets with sweets war not, joy delights in joy:\n",
      "  Why lov'st thou that which thou receiv'st not gladly,\n",
      "  Or else receiv'st with pleasure thine annoy?\n",
      "  If the true concord of well-tuned sounds,\n",
      "  By unions married do offend thine ear,\n",
      "  They do but sweetly chide thee, who confounds\n",
      "  In singleness the parts that thou shouldst bear:\n",
      "  Mark how one string sweet husband to another,\n",
      "  Strikes each in each by mutual ordering;\n",
      "  Resembling sire, and child, and happy mother,\n",
      "  Who all in one, one pleasing note do sing:\n",
      "    Whose speechless song being many, seeming one,\n",
      "    Sings this to thee, 'Thou single wilt prove none'.\n",
      "\n",
      "\n",
      "                     9\n",
      "  Is it for fear to wet a widow's eye,\n",
      "  That thou consum'st thy self in single life?\n",
      "  Ah, if thou issueless shalt hap to die,\n",
      "  The world will wail thee like a makeless wife,\n",
      "  The world will be thy widow and still weep,\n",
      "  That thou no form of thee hast left behind,\n",
      "  When every private widow well may keep,\n",
      "  By children's eyes, her husband's shape in mind:\n",
      "  Look what an unthrift in the world doth spend\n",
      "  Shifts but his place, for still the world enjoys it;\n",
      "  But beauty's waste hath in the world an end,\n",
      "  And kept unused the user so destroys it:\n",
      "    No love toward others in that bosom sits\n",
      "    That on himself such murd'rous shame commits.\n",
      "\n",
      "\n",
      "                     10\n",
      "  For shame deny that thou bear'st love to any\n",
      "  Who for thy self art so unprovident.\n",
      "  Grant if thou wilt, thou art beloved of many,\n",
      "  But that thou none lov'st is most evident:\n",
      "  For thou art so possessed with murd'rous hate,\n",
      "  That 'gainst thy self thou stick'st not to conspire,\n",
      "  Seeking that beauteous roof to ruinate\n",
      "  Which to repair should be thy chief desire:\n",
      "  O change thy thought, that I may change my mind,\n",
      "  Shall hate be fairer lodged than gentle love?\n",
      "  Be as thy presence is gracious and kind,\n",
      "  Or to thy self at least kind-hearted prove,\n",
      "    Make thee another self for love of me,\n",
      "    That beauty still may live in thine or thee.\n",
      "\n",
      "\n"
     ]
    }
   ],
   "source": [
    "\n",
    "def display_contents_file(file_name):\n",
    "    fp = open(file_name, \"r\")\n",
    "    #with open( file_name ) as fp:\n",
    "    buffer = fp.read()\n",
    "    print( buffer )\n",
    "    fp.close()\n",
    "display_contents_file(\"../text-files/Shakespeare.txt\")"
   ]
  },
  {
   "cell_type": "code",
   "execution_count": 7,
   "metadata": {},
   "outputs": [
    {
     "name": "stdout",
     "output_type": "stream",
     "text": [
      "1609\n",
      "\n",
      "\n",
      "\n",
      "THE SONNETS\n",
      "\n",
      "\n",
      "\n",
      "by William Shakespeare\n",
      "\n",
      "\n",
      "\n",
      "\n",
      "\n",
      "\n",
      "\n",
      "                     1\n",
      "\n",
      "  From fairest creatures we desire increase,\n",
      "\n",
      "  That thereby beauty's rose might never die,\n",
      "\n",
      "  But as the riper should by time decease,\n",
      "\n",
      "  His tender heir might bear his memory:\n",
      "\n",
      "  But thou contracted to thine own bright eyes,\n",
      "\n",
      "  Feed'st thy light's flame with self-substantial fuel,\n",
      "\n",
      "  Making a famine where abundance lies,\n",
      "\n",
      "  Thy self thy foe, to thy sweet self too cruel:\n",
      "\n",
      "  Thou that art now the world's fresh ornament,\n",
      "\n",
      "  And only herald to the gaudy spring,\n",
      "\n",
      "  Within thine own bud buriest thy content,\n",
      "\n",
      "  And tender churl mak'st waste in niggarding:\n",
      "\n",
      "    Pity the world, or else this glutton be,\n",
      "\n",
      "    To eat the world's due, by the grave and thee.\n",
      "\n",
      "\n",
      "\n",
      "\n",
      "\n",
      "                     2\n",
      "\n",
      "  When forty winters shall besiege thy brow,\n",
      "\n",
      "  And dig deep trenches in thy beauty's field,\n",
      "\n",
      "  Thy youth's proud livery so gazed on now,\n",
      "\n",
      "  Will be a tattered weed of small worth held:\n",
      "\n",
      "  Then being asked, where all thy beauty lies,\n",
      "\n",
      "  Where all the treasure of thy lusty days;\n",
      "\n",
      "  To say within thine own deep sunken eyes,\n",
      "\n",
      "  Were an all-eating shame, and thriftless praise.\n",
      "\n",
      "  How much more praise deserved thy beauty's use,\n",
      "\n",
      "  If thou couldst answer 'This fair child of mine\n",
      "\n",
      "  Shall sum my count, and make my old excuse'\n",
      "\n",
      "  Proving his beauty by succession thine.\n",
      "\n",
      "    This were to be new made when thou art old,\n",
      "\n",
      "    And see thy blood warm when thou feel'st it cold.\n",
      "\n",
      "\n",
      "\n",
      "\n",
      "\n",
      "                     3\n",
      "\n",
      "  Look in thy glass and tell the face thou viewest,\n",
      "\n",
      "  Now is the time that face should form another,\n",
      "\n",
      "  Whose fresh repair if now thou not renewest,\n",
      "\n",
      "  Thou dost beguile the world, unbless some mother.\n",
      "\n",
      "  For where is she so fair whose uneared womb\n",
      "\n",
      "  Disdains the tillage of thy husbandry?\n",
      "\n",
      "  Or who is he so fond will be the tomb,\n",
      "\n",
      "  Of his self-love to stop posterity?\n",
      "\n",
      "  Thou art thy mother's glass and she in thee\n",
      "\n",
      "  Calls back the lovely April of her prime,\n",
      "\n",
      "  So thou through windows of thine age shalt see,\n",
      "\n",
      "  Despite of wrinkles this thy golden time.\n",
      "\n",
      "    But if thou live remembered not to be,\n",
      "\n",
      "    Die single and thine image dies with thee.\n",
      "\n",
      "\n",
      "\n",
      "\n",
      "\n",
      "                     4\n",
      "\n",
      "  Unthrifty loveliness why dost thou spend,\n",
      "\n",
      "  Upon thy self thy beauty's legacy?\n",
      "\n",
      "  Nature's bequest gives nothing but doth lend,\n",
      "\n",
      "  And being frank she lends to those are free:\n",
      "\n",
      "  Then beauteous niggard why dost thou abuse,\n",
      "\n",
      "  The bounteous largess given thee to give?\n",
      "\n",
      "  Profitless usurer why dost thou use\n",
      "\n",
      "  So great a sum of sums yet canst not live?\n",
      "\n",
      "  For having traffic with thy self alone,\n",
      "\n",
      "  Thou of thy self thy sweet self dost deceive,\n",
      "\n",
      "  Then how when nature calls thee to be gone,\n",
      "\n",
      "  What acceptable audit canst thou leave?\n",
      "\n",
      "    Thy unused beauty must be tombed with thee,\n",
      "\n",
      "    Which used lives th' executor to be.\n",
      "\n",
      "\n",
      "\n",
      "\n",
      "\n",
      "                     5\n",
      "\n",
      "  Those hours that with gentle work did frame\n",
      "\n",
      "  The lovely gaze where every eye doth dwell\n",
      "\n",
      "  Will play the tyrants to the very same,\n",
      "\n",
      "  And that unfair which fairly doth excel:\n",
      "\n",
      "  For never-resting time leads summer on\n",
      "\n",
      "  To hideous winter and confounds him there,\n",
      "\n",
      "  Sap checked with frost and lusty leaves quite gone,\n",
      "\n",
      "  Beauty o'er-snowed and bareness every where:\n",
      "\n",
      "  Then were not summer's distillation left\n",
      "\n",
      "  A liquid prisoner pent in walls of glass,\n",
      "\n",
      "  Beauty's effect with beauty were bereft,\n",
      "\n",
      "  Nor it nor no remembrance what it was.\n",
      "\n",
      "    But flowers distilled though they with winter meet,\n",
      "\n",
      "    Leese but their show, their substance still lives sweet.\n",
      "\n",
      "\n",
      "\n",
      "\n",
      "\n",
      "                     6\n",
      "\n",
      "  Then let not winter's ragged hand deface,\n",
      "\n",
      "  In thee thy summer ere thou be distilled:\n",
      "\n",
      "  Make sweet some vial; treasure thou some place,\n",
      "\n",
      "  With beauty's treasure ere it be self-killed:\n",
      "\n",
      "  That use is not forbidden usury,\n",
      "\n",
      "  Which happies those that pay the willing loan;\n",
      "\n",
      "  That's for thy self to breed another thee,\n",
      "\n",
      "  Or ten times happier be it ten for one,\n",
      "\n",
      "  Ten times thy self were happier than thou art,\n",
      "\n",
      "  If ten of thine ten times refigured thee:\n",
      "\n",
      "  Then what could death do if thou shouldst depart,\n",
      "\n",
      "  Leaving thee living in posterity?\n",
      "\n",
      "    Be not self-willed for thou art much too fair,\n",
      "\n",
      "    To be death's conquest and make worms thine heir.\n",
      "\n",
      "\n",
      "\n",
      "\n",
      "\n",
      "                     7\n",
      "\n",
      "  Lo in the orient when the gracious light\n",
      "\n",
      "  Lifts up his burning head, each under eye\n",
      "\n",
      "  Doth homage to his new-appearing sight,\n",
      "\n",
      "  Serving with looks his sacred majesty,\n",
      "\n",
      "  And having climbed the steep-up heavenly hill,\n",
      "\n",
      "  Resembling strong youth in his middle age,\n",
      "\n",
      "  Yet mortal looks adore his beauty still,\n",
      "\n",
      "  Attending on his golden pilgrimage:\n",
      "\n",
      "  But when from highmost pitch with weary car,\n",
      "\n",
      "  Like feeble age he reeleth from the day,\n",
      "\n",
      "  The eyes (fore duteous) now converted are\n",
      "\n",
      "  From his low tract and look another way:\n",
      "\n",
      "    So thou, thy self out-going in thy noon:\n",
      "\n",
      "    Unlooked on diest unless thou get a son.\n",
      "\n",
      "\n",
      "\n",
      "\n",
      "\n",
      "                     8\n",
      "\n",
      "  Music to hear, why hear'st thou music sadly?\n",
      "\n",
      "  Sweets with sweets war not, joy delights in joy:\n",
      "\n",
      "  Why lov'st thou that which thou receiv'st not gladly,\n",
      "\n",
      "  Or else receiv'st with pleasure thine annoy?\n",
      "\n",
      "  If the true concord of well-tuned sounds,\n",
      "\n",
      "  By unions married do offend thine ear,\n",
      "\n",
      "  They do but sweetly chide thee, who confounds\n",
      "\n",
      "  In singleness the parts that thou shouldst bear:\n",
      "\n",
      "  Mark how one string sweet husband to another,\n",
      "\n",
      "  Strikes each in each by mutual ordering;\n",
      "\n",
      "  Resembling sire, and child, and happy mother,\n",
      "\n",
      "  Who all in one, one pleasing note do sing:\n",
      "\n",
      "    Whose speechless song being many, seeming one,\n",
      "\n",
      "    Sings this to thee, 'Thou single wilt prove none'.\n",
      "\n",
      "\n",
      "\n",
      "\n",
      "\n",
      "                     9\n",
      "\n",
      "  Is it for fear to wet a widow's eye,\n",
      "\n",
      "  That thou consum'st thy self in single life?\n",
      "\n",
      "  Ah, if thou issueless shalt hap to die,\n",
      "\n",
      "  The world will wail thee like a makeless wife,\n",
      "\n",
      "  The world will be thy widow and still weep,\n",
      "\n",
      "  That thou no form of thee hast left behind,\n",
      "\n",
      "  When every private widow well may keep,\n",
      "\n",
      "  By children's eyes, her husband's shape in mind:\n",
      "\n",
      "  Look what an unthrift in the world doth spend\n",
      "\n",
      "  Shifts but his place, for still the world enjoys it;\n",
      "\n",
      "  But beauty's waste hath in the world an end,\n",
      "\n",
      "  And kept unused the user so destroys it:\n",
      "\n",
      "    No love toward others in that bosom sits\n",
      "\n",
      "    That on himself such murd'rous shame commits.\n",
      "\n",
      "\n",
      "\n",
      "\n",
      "\n",
      "                     10\n",
      "\n",
      "  For shame deny that thou bear'st love to any\n",
      "\n",
      "  Who for thy self art so unprovident.\n",
      "\n",
      "  Grant if thou wilt, thou art beloved of many,\n",
      "\n",
      "  But that thou none lov'st is most evident:\n",
      "\n",
      "  For thou art so possessed with murd'rous hate,\n",
      "\n",
      "  That 'gainst thy self thou stick'st not to conspire,\n",
      "\n",
      "  Seeking that beauteous roof to ruinate\n",
      "\n",
      "  Which to repair should be thy chief desire:\n",
      "\n",
      "  O change thy thought, that I may change my mind,\n",
      "\n",
      "  Shall hate be fairer lodged than gentle love?\n",
      "\n",
      "  Be as thy presence is gracious and kind,\n",
      "\n",
      "  Or to thy self at least kind-hearted prove,\n",
      "\n",
      "    Make thee another self for love of me,\n",
      "\n",
      "    That beauty still may live in thine or thee.\n",
      "\n",
      "\n",
      "\n",
      "['1609\\n', '\\n', 'THE SONNETS\\n', '\\n', 'by William Shakespeare\\n', '\\n', '\\n', '\\n', '                     1\\n', '  From fairest creatures we desire increase,\\n', \"  That thereby beauty's rose might never die,\\n\", '  But as the riper should by time decease,\\n', '  His tender heir might bear his memory:\\n', '  But thou contracted to thine own bright eyes,\\n', \"  Feed'st thy light's flame with self-substantial fuel,\\n\", '  Making a famine where abundance lies,\\n', '  Thy self thy foe, to thy sweet self too cruel:\\n', \"  Thou that art now the world's fresh ornament,\\n\", '  And only herald to the gaudy spring,\\n', '  Within thine own bud buriest thy content,\\n', \"  And tender churl mak'st waste in niggarding:\\n\", '    Pity the world, or else this glutton be,\\n', \"    To eat the world's due, by the grave and thee.\\n\", '\\n', '\\n', '                     2\\n', '  When forty winters shall besiege thy brow,\\n', \"  And dig deep trenches in thy beauty's field,\\n\", \"  Thy youth's proud livery so gazed on now,\\n\", '  Will be a tattered weed of small worth held:\\n', '  Then being asked, where all thy beauty lies,\\n', '  Where all the treasure of thy lusty days;\\n', '  To say within thine own deep sunken eyes,\\n', '  Were an all-eating shame, and thriftless praise.\\n', \"  How much more praise deserved thy beauty's use,\\n\", \"  If thou couldst answer 'This fair child of mine\\n\", \"  Shall sum my count, and make my old excuse'\\n\", '  Proving his beauty by succession thine.\\n', '    This were to be new made when thou art old,\\n', \"    And see thy blood warm when thou feel'st it cold.\\n\", '\\n', '\\n', '                     3\\n', '  Look in thy glass and tell the face thou viewest,\\n', '  Now is the time that face should form another,\\n', '  Whose fresh repair if now thou not renewest,\\n', '  Thou dost beguile the world, unbless some mother.\\n', '  For where is she so fair whose uneared womb\\n', '  Disdains the tillage of thy husbandry?\\n', '  Or who is he so fond will be the tomb,\\n', '  Of his self-love to stop posterity?\\n', \"  Thou art thy mother's glass and she in thee\\n\", '  Calls back the lovely April of her prime,\\n', '  So thou through windows of thine age shalt see,\\n', '  Despite of wrinkles this thy golden time.\\n', '    But if thou live remembered not to be,\\n', '    Die single and thine image dies with thee.\\n', '\\n', '\\n', '                     4\\n', '  Unthrifty loveliness why dost thou spend,\\n', \"  Upon thy self thy beauty's legacy?\\n\", \"  Nature's bequest gives nothing but doth lend,\\n\", '  And being frank she lends to those are free:\\n', '  Then beauteous niggard why dost thou abuse,\\n', '  The bounteous largess given thee to give?\\n', '  Profitless usurer why dost thou use\\n', '  So great a sum of sums yet canst not live?\\n', '  For having traffic with thy self alone,\\n', '  Thou of thy self thy sweet self dost deceive,\\n', '  Then how when nature calls thee to be gone,\\n', '  What acceptable audit canst thou leave?\\n', '    Thy unused beauty must be tombed with thee,\\n', \"    Which used lives th' executor to be.\\n\", '\\n', '\\n', '                     5\\n', '  Those hours that with gentle work did frame\\n', '  The lovely gaze where every eye doth dwell\\n', '  Will play the tyrants to the very same,\\n', '  And that unfair which fairly doth excel:\\n', '  For never-resting time leads summer on\\n', '  To hideous winter and confounds him there,\\n', '  Sap checked with frost and lusty leaves quite gone,\\n', \"  Beauty o'er-snowed and bareness every where:\\n\", \"  Then were not summer's distillation left\\n\", '  A liquid prisoner pent in walls of glass,\\n', \"  Beauty's effect with beauty were bereft,\\n\", '  Nor it nor no remembrance what it was.\\n', '    But flowers distilled though they with winter meet,\\n', '    Leese but their show, their substance still lives sweet.\\n', '\\n', '\\n', '                     6\\n', \"  Then let not winter's ragged hand deface,\\n\", '  In thee thy summer ere thou be distilled:\\n', '  Make sweet some vial; treasure thou some place,\\n', \"  With beauty's treasure ere it be self-killed:\\n\", '  That use is not forbidden usury,\\n', '  Which happies those that pay the willing loan;\\n', \"  That's for thy self to breed another thee,\\n\", '  Or ten times happier be it ten for one,\\n', '  Ten times thy self were happier than thou art,\\n', '  If ten of thine ten times refigured thee:\\n', '  Then what could death do if thou shouldst depart,\\n', '  Leaving thee living in posterity?\\n', '    Be not self-willed for thou art much too fair,\\n', \"    To be death's conquest and make worms thine heir.\\n\", '\\n', '\\n', '                     7\\n', '  Lo in the orient when the gracious light\\n', '  Lifts up his burning head, each under eye\\n', '  Doth homage to his new-appearing sight,\\n', '  Serving with looks his sacred majesty,\\n', '  And having climbed the steep-up heavenly hill,\\n', '  Resembling strong youth in his middle age,\\n', '  Yet mortal looks adore his beauty still,\\n', '  Attending on his golden pilgrimage:\\n', '  But when from highmost pitch with weary car,\\n', '  Like feeble age he reeleth from the day,\\n', '  The eyes (fore duteous) now converted are\\n', '  From his low tract and look another way:\\n', '    So thou, thy self out-going in thy noon:\\n', '    Unlooked on diest unless thou get a son.\\n', '\\n', '\\n', '                     8\\n', \"  Music to hear, why hear'st thou music sadly?\\n\", '  Sweets with sweets war not, joy delights in joy:\\n', \"  Why lov'st thou that which thou receiv'st not gladly,\\n\", \"  Or else receiv'st with pleasure thine annoy?\\n\", '  If the true concord of well-tuned sounds,\\n', '  By unions married do offend thine ear,\\n', '  They do but sweetly chide thee, who confounds\\n', '  In singleness the parts that thou shouldst bear:\\n', '  Mark how one string sweet husband to another,\\n', '  Strikes each in each by mutual ordering;\\n', '  Resembling sire, and child, and happy mother,\\n', '  Who all in one, one pleasing note do sing:\\n', '    Whose speechless song being many, seeming one,\\n', \"    Sings this to thee, 'Thou single wilt prove none'.\\n\", '\\n', '\\n', '                     9\\n', \"  Is it for fear to wet a widow's eye,\\n\", \"  That thou consum'st thy self in single life?\\n\", '  Ah, if thou issueless shalt hap to die,\\n', '  The world will wail thee like a makeless wife,\\n', '  The world will be thy widow and still weep,\\n', '  That thou no form of thee hast left behind,\\n', '  When every private widow well may keep,\\n', \"  By children's eyes, her husband's shape in mind:\\n\", '  Look what an unthrift in the world doth spend\\n', '  Shifts but his place, for still the world enjoys it;\\n', \"  But beauty's waste hath in the world an end,\\n\", '  And kept unused the user so destroys it:\\n', '    No love toward others in that bosom sits\\n', \"    That on himself such murd'rous shame commits.\\n\", '\\n', '\\n', '                     10\\n', \"  For shame deny that thou bear'st love to any\\n\", '  Who for thy self art so unprovident.\\n', '  Grant if thou wilt, thou art beloved of many,\\n', \"  But that thou none lov'st is most evident:\\n\", \"  For thou art so possessed with murd'rous hate,\\n\", \"  That 'gainst thy self thou stick'st not to conspire,\\n\", '  Seeking that beauteous roof to ruinate\\n', '  Which to repair should be thy chief desire:\\n', '  O change thy thought, that I may change my mind,\\n', '  Shall hate be fairer lodged than gentle love?\\n', '  Be as thy presence is gracious and kind,\\n', '  Or to thy self at least kind-hearted prove,\\n', '    Make thee another self for love of me,\\n', '    That beauty still may live in thine or thee.\\n', '\\n']\n"
     ]
    }
   ],
   "source": [
    "def display_contents_file(file_name):\n",
    "    #with open( file_name ) as fp:\n",
    "    fp = open(file_name, \"r\")\n",
    "    buffer = fp.readlines()\n",
    "    for line in buffer:\n",
    "        print(line)\n",
    "    print(buffer)\n",
    "    fp.close()\n",
    "    \n",
    "display_contents_file(\"../text-files/Shakespeare.txt\")"
   ]
  },
  {
   "cell_type": "markdown",
   "metadata": {},
   "source": [
    "### Reading lines using `readline()`"
   ]
  },
  {
   "cell_type": "markdown",
   "metadata": {},
   "source": [
    "To read a text file line by line, you can use the `readline()` method. The `readline()` method reads characters starting at the file pointer up to and including the next newline character, and returns them as a string. You can recognize that you have reached the end of the file by the fact that no characters are read anymore, i.e., the string that is returned is empty."
   ]
  },
  {
   "cell_type": "code",
   "execution_count": 8,
   "metadata": {},
   "outputs": [
    {
     "name": "stdout",
     "output_type": "stream",
     "text": [
      "['1609\\n', '\\n', 'THE SONNETS\\n', '\\n', 'by William Shakespeare\\n', '\\n', '\\n', '\\n', '                     1\\n', '  From fairest creatures we desire increase,\\n', \"  That thereby beauty's rose might never die,\\n\", '  But as the riper should by time decease,\\n', '  His tender heir might bear his memory:\\n', '  But thou contracted to thine own bright eyes,\\n', \"  Feed'st thy light's flame with self-substantial fuel,\\n\", '  Making a famine where abundance lies,\\n', '  Thy self thy foe, to thy sweet self too cruel:\\n', \"  Thou that art now the world's fresh ornament,\\n\", '  And only herald to the gaudy spring,\\n', '  Within thine own bud buriest thy content,\\n', \"  And tender churl mak'st waste in niggarding:\\n\", '    Pity the world, or else this glutton be,\\n', \"    To eat the world's due, by the grave and thee.\\n\", '\\n', '\\n', '                     2\\n', '  When forty winters shall besiege thy brow,\\n', \"  And dig deep trenches in thy beauty's field,\\n\", \"  Thy youth's proud livery so gazed on now,\\n\", '  Will be a tattered weed of small worth held:\\n', '  Then being asked, where all thy beauty lies,\\n', '  Where all the treasure of thy lusty days;\\n', '  To say within thine own deep sunken eyes,\\n', '  Were an all-eating shame, and thriftless praise.\\n', \"  How much more praise deserved thy beauty's use,\\n\", \"  If thou couldst answer 'This fair child of mine\\n\", \"  Shall sum my count, and make my old excuse'\\n\", '  Proving his beauty by succession thine.\\n', '    This were to be new made when thou art old,\\n', \"    And see thy blood warm when thou feel'st it cold.\\n\", '\\n', '\\n', '                     3\\n', '  Look in thy glass and tell the face thou viewest,\\n', '  Now is the time that face should form another,\\n', '  Whose fresh repair if now thou not renewest,\\n', '  Thou dost beguile the world, unbless some mother.\\n', '  For where is she so fair whose uneared womb\\n', '  Disdains the tillage of thy husbandry?\\n', '  Or who is he so fond will be the tomb,\\n', '  Of his self-love to stop posterity?\\n', \"  Thou art thy mother's glass and she in thee\\n\", '  Calls back the lovely April of her prime,\\n', '  So thou through windows of thine age shalt see,\\n', '  Despite of wrinkles this thy golden time.\\n', '    But if thou live remembered not to be,\\n', '    Die single and thine image dies with thee.\\n', '\\n', '\\n', '                     4\\n', '  Unthrifty loveliness why dost thou spend,\\n', \"  Upon thy self thy beauty's legacy?\\n\", \"  Nature's bequest gives nothing but doth lend,\\n\", '  And being frank she lends to those are free:\\n', '  Then beauteous niggard why dost thou abuse,\\n', '  The bounteous largess given thee to give?\\n', '  Profitless usurer why dost thou use\\n', '  So great a sum of sums yet canst not live?\\n', '  For having traffic with thy self alone,\\n', '  Thou of thy self thy sweet self dost deceive,\\n', '  Then how when nature calls thee to be gone,\\n', '  What acceptable audit canst thou leave?\\n', '    Thy unused beauty must be tombed with thee,\\n', \"    Which used lives th' executor to be.\\n\", '\\n', '\\n', '                     5\\n', '  Those hours that with gentle work did frame\\n', '  The lovely gaze where every eye doth dwell\\n', '  Will play the tyrants to the very same,\\n', '  And that unfair which fairly doth excel:\\n', '  For never-resting time leads summer on\\n', '  To hideous winter and confounds him there,\\n', '  Sap checked with frost and lusty leaves quite gone,\\n', \"  Beauty o'er-snowed and bareness every where:\\n\", \"  Then were not summer's distillation left\\n\", '  A liquid prisoner pent in walls of glass,\\n', \"  Beauty's effect with beauty were bereft,\\n\", '  Nor it nor no remembrance what it was.\\n', '    But flowers distilled though they with winter meet,\\n', '    Leese but their show, their substance still lives sweet.\\n', '\\n', '\\n', '                     6\\n', \"  Then let not winter's ragged hand deface,\\n\", '  In thee thy summer ere thou be distilled:\\n', '  Make sweet some vial; treasure thou some place,\\n', \"  With beauty's treasure ere it be self-killed:\\n\", '  That use is not forbidden usury,\\n', '  Which happies those that pay the willing loan;\\n', \"  That's for thy self to breed another thee,\\n\", '  Or ten times happier be it ten for one,\\n', '  Ten times thy self were happier than thou art,\\n', '  If ten of thine ten times refigured thee:\\n', '  Then what could death do if thou shouldst depart,\\n', '  Leaving thee living in posterity?\\n', '    Be not self-willed for thou art much too fair,\\n', \"    To be death's conquest and make worms thine heir.\\n\", '\\n', '\\n', '                     7\\n', '  Lo in the orient when the gracious light\\n', '  Lifts up his burning head, each under eye\\n', '  Doth homage to his new-appearing sight,\\n', '  Serving with looks his sacred majesty,\\n', '  And having climbed the steep-up heavenly hill,\\n', '  Resembling strong youth in his middle age,\\n', '  Yet mortal looks adore his beauty still,\\n', '  Attending on his golden pilgrimage:\\n', '  But when from highmost pitch with weary car,\\n', '  Like feeble age he reeleth from the day,\\n', '  The eyes (fore duteous) now converted are\\n', '  From his low tract and look another way:\\n', '    So thou, thy self out-going in thy noon:\\n', '    Unlooked on diest unless thou get a son.\\n', '\\n', '\\n', '                     8\\n', \"  Music to hear, why hear'st thou music sadly?\\n\", '  Sweets with sweets war not, joy delights in joy:\\n', \"  Why lov'st thou that which thou receiv'st not gladly,\\n\", \"  Or else receiv'st with pleasure thine annoy?\\n\", '  If the true concord of well-tuned sounds,\\n', '  By unions married do offend thine ear,\\n', '  They do but sweetly chide thee, who confounds\\n', '  In singleness the parts that thou shouldst bear:\\n', '  Mark how one string sweet husband to another,\\n', '  Strikes each in each by mutual ordering;\\n', '  Resembling sire, and child, and happy mother,\\n', '  Who all in one, one pleasing note do sing:\\n', '    Whose speechless song being many, seeming one,\\n', \"    Sings this to thee, 'Thou single wilt prove none'.\\n\", '\\n', '\\n', '                     9\\n', \"  Is it for fear to wet a widow's eye,\\n\", \"  That thou consum'st thy self in single life?\\n\", '  Ah, if thou issueless shalt hap to die,\\n', '  The world will wail thee like a makeless wife,\\n', '  The world will be thy widow and still weep,\\n', '  That thou no form of thee hast left behind,\\n', '  When every private widow well may keep,\\n', \"  By children's eyes, her husband's shape in mind:\\n\", '  Look what an unthrift in the world doth spend\\n', '  Shifts but his place, for still the world enjoys it;\\n', \"  But beauty's waste hath in the world an end,\\n\", '  And kept unused the user so destroys it:\\n', '    No love toward others in that bosom sits\\n', \"    That on himself such murd'rous shame commits.\\n\", '\\n', '\\n', '                     10\\n', \"  For shame deny that thou bear'st love to any\\n\", '  Who for thy self art so unprovident.\\n', '  Grant if thou wilt, thou art beloved of many,\\n', \"  But that thou none lov'st is most evident:\\n\", \"  For thou art so possessed with murd'rous hate,\\n\", \"  That 'gainst thy self thou stick'st not to conspire,\\n\", '  Seeking that beauteous roof to ruinate\\n', '  Which to repair should be thy chief desire:\\n', '  O change thy thought, that I may change my mind,\\n', '  Shall hate be fairer lodged than gentle love?\\n', '  Be as thy presence is gracious and kind,\\n', '  Or to thy self at least kind-hearted prove,\\n', '    Make thee another self for love of me,\\n', '    That beauty still may live in thine or thee.\\n', '\\n']\n"
     ]
    }
   ],
   "source": [
    "def display_contents_file2(file_name):\n",
    "    fp = open( file_name , \"r\")\n",
    "    buffer = fp.readlines()\n",
    "    print(buffer)\n",
    "   # for line in buffer:\n",
    "    #    print (line)\n",
    "    #fp.close()\n",
    "    \n",
    "display_contents_file2(\"../text-files/Shakespeare.txt\")"
   ]
  },
  {
   "cell_type": "code",
   "execution_count": 9,
   "metadata": {},
   "outputs": [
    {
     "name": "stdout",
     "output_type": "stream",
     "text": [
      "1609\n",
      "\n",
      "\n",
      "\n",
      "THE SONNETS\n",
      "\n",
      "\n",
      "\n",
      "by William Shakespeare\n",
      "\n",
      "\n",
      "\n",
      "\n",
      "\n",
      "\n",
      "\n",
      "                     1\n",
      "\n",
      "  From fairest creatures we desire increase,\n",
      "\n",
      "  That thereby beauty's rose might never die,\n",
      "\n",
      "  But as the riper should by time decease,\n",
      "\n",
      "  His tender heir might bear his memory:\n",
      "\n",
      "  But thou contracted to thine own bright eyes,\n",
      "\n",
      "  Feed'st thy light's flame with self-substantial fuel,\n",
      "\n",
      "  Making a famine where abundance lies,\n",
      "\n",
      "  Thy self thy foe, to thy sweet self too cruel:\n",
      "\n",
      "  Thou that art now the world's fresh ornament,\n",
      "\n",
      "  And only herald to the gaudy spring,\n",
      "\n",
      "  Within thine own bud buriest thy content,\n",
      "\n",
      "  And tender churl mak'st waste in niggarding:\n",
      "\n",
      "    Pity the world, or else this glutton be,\n",
      "\n",
      "    To eat the world's due, by the grave and thee.\n",
      "\n",
      "\n",
      "\n",
      "\n",
      "\n",
      "                     2\n",
      "\n",
      "  When forty winters shall besiege thy brow,\n",
      "\n",
      "  And dig deep trenches in thy beauty's field,\n",
      "\n",
      "  Thy youth's proud livery so gazed on now,\n",
      "\n",
      "  Will be a tattered weed of small worth held:\n",
      "\n",
      "  Then being asked, where all thy beauty lies,\n",
      "\n",
      "  Where all the treasure of thy lusty days;\n",
      "\n",
      "  To say within thine own deep sunken eyes,\n",
      "\n",
      "  Were an all-eating shame, and thriftless praise.\n",
      "\n",
      "  How much more praise deserved thy beauty's use,\n",
      "\n",
      "  If thou couldst answer 'This fair child of mine\n",
      "\n",
      "  Shall sum my count, and make my old excuse'\n",
      "\n",
      "  Proving his beauty by succession thine.\n",
      "\n",
      "    This were to be new made when thou art old,\n",
      "\n",
      "    And see thy blood warm when thou feel'st it cold.\n",
      "\n",
      "\n",
      "\n",
      "\n",
      "\n",
      "                     3\n",
      "\n",
      "  Look in thy glass and tell the face thou viewest,\n",
      "\n",
      "  Now is the time that face should form another,\n",
      "\n",
      "  Whose fresh repair if now thou not renewest,\n",
      "\n",
      "  Thou dost beguile the world, unbless some mother.\n",
      "\n",
      "  For where is she so fair whose uneared womb\n",
      "\n",
      "  Disdains the tillage of thy husbandry?\n",
      "\n",
      "  Or who is he so fond will be the tomb,\n",
      "\n",
      "  Of his self-love to stop posterity?\n",
      "\n",
      "  Thou art thy mother's glass and she in thee\n",
      "\n",
      "  Calls back the lovely April of her prime,\n",
      "\n",
      "  So thou through windows of thine age shalt see,\n",
      "\n",
      "  Despite of wrinkles this thy golden time.\n",
      "\n",
      "    But if thou live remembered not to be,\n",
      "\n",
      "    Die single and thine image dies with thee.\n",
      "\n",
      "\n",
      "\n",
      "\n",
      "\n",
      "                     4\n",
      "\n",
      "  Unthrifty loveliness why dost thou spend,\n",
      "\n",
      "  Upon thy self thy beauty's legacy?\n",
      "\n",
      "  Nature's bequest gives nothing but doth lend,\n",
      "\n",
      "  And being frank she lends to those are free:\n",
      "\n",
      "  Then beauteous niggard why dost thou abuse,\n",
      "\n",
      "  The bounteous largess given thee to give?\n",
      "\n",
      "  Profitless usurer why dost thou use\n",
      "\n",
      "  So great a sum of sums yet canst not live?\n",
      "\n",
      "  For having traffic with thy self alone,\n",
      "\n",
      "  Thou of thy self thy sweet self dost deceive,\n",
      "\n",
      "  Then how when nature calls thee to be gone,\n",
      "\n",
      "  What acceptable audit canst thou leave?\n",
      "\n",
      "    Thy unused beauty must be tombed with thee,\n",
      "\n",
      "    Which used lives th' executor to be.\n",
      "\n",
      "\n",
      "\n",
      "\n",
      "\n",
      "                     5\n",
      "\n",
      "  Those hours that with gentle work did frame\n",
      "\n",
      "  The lovely gaze where every eye doth dwell\n",
      "\n",
      "  Will play the tyrants to the very same,\n",
      "\n",
      "  And that unfair which fairly doth excel:\n",
      "\n",
      "  For never-resting time leads summer on\n",
      "\n",
      "  To hideous winter and confounds him there,\n",
      "\n",
      "  Sap checked with frost and lusty leaves quite gone,\n",
      "\n",
      "  Beauty o'er-snowed and bareness every where:\n",
      "\n",
      "  Then were not summer's distillation left\n",
      "\n",
      "  A liquid prisoner pent in walls of glass,\n",
      "\n",
      "  Beauty's effect with beauty were bereft,\n",
      "\n",
      "  Nor it nor no remembrance what it was.\n",
      "\n",
      "    But flowers distilled though they with winter meet,\n",
      "\n",
      "    Leese but their show, their substance still lives sweet.\n",
      "\n",
      "\n",
      "\n",
      "\n",
      "\n",
      "                     6\n",
      "\n",
      "  Then let not winter's ragged hand deface,\n",
      "\n",
      "  In thee thy summer ere thou be distilled:\n",
      "\n",
      "  Make sweet some vial; treasure thou some place,\n",
      "\n",
      "  With beauty's treasure ere it be self-killed:\n",
      "\n",
      "  That use is not forbidden usury,\n",
      "\n",
      "  Which happies those that pay the willing loan;\n",
      "\n",
      "  That's for thy self to breed another thee,\n",
      "\n",
      "  Or ten times happier be it ten for one,\n",
      "\n",
      "  Ten times thy self were happier than thou art,\n",
      "\n",
      "  If ten of thine ten times refigured thee:\n",
      "\n",
      "  Then what could death do if thou shouldst depart,\n",
      "\n",
      "  Leaving thee living in posterity?\n",
      "\n",
      "    Be not self-willed for thou art much too fair,\n",
      "\n",
      "    To be death's conquest and make worms thine heir.\n",
      "\n",
      "\n",
      "\n",
      "\n",
      "\n",
      "                     7\n",
      "\n",
      "  Lo in the orient when the gracious light\n",
      "\n",
      "  Lifts up his burning head, each under eye\n",
      "\n",
      "  Doth homage to his new-appearing sight,\n",
      "\n",
      "  Serving with looks his sacred majesty,\n",
      "\n",
      "  And having climbed the steep-up heavenly hill,\n",
      "\n",
      "  Resembling strong youth in his middle age,\n",
      "\n",
      "  Yet mortal looks adore his beauty still,\n",
      "\n",
      "  Attending on his golden pilgrimage:\n",
      "\n",
      "  But when from highmost pitch with weary car,\n",
      "\n",
      "  Like feeble age he reeleth from the day,\n",
      "\n",
      "  The eyes (fore duteous) now converted are\n",
      "\n",
      "  From his low tract and look another way:\n",
      "\n",
      "    So thou, thy self out-going in thy noon:\n",
      "\n",
      "    Unlooked on diest unless thou get a son.\n",
      "\n",
      "\n",
      "\n",
      "\n",
      "\n",
      "                     8\n",
      "\n",
      "  Music to hear, why hear'st thou music sadly?\n",
      "\n",
      "  Sweets with sweets war not, joy delights in joy:\n",
      "\n",
      "  Why lov'st thou that which thou receiv'st not gladly,\n",
      "\n",
      "  Or else receiv'st with pleasure thine annoy?\n",
      "\n",
      "  If the true concord of well-tuned sounds,\n",
      "\n",
      "  By unions married do offend thine ear,\n",
      "\n",
      "  They do but sweetly chide thee, who confounds\n",
      "\n",
      "  In singleness the parts that thou shouldst bear:\n",
      "\n",
      "  Mark how one string sweet husband to another,\n",
      "\n",
      "  Strikes each in each by mutual ordering;\n",
      "\n",
      "  Resembling sire, and child, and happy mother,\n",
      "\n",
      "  Who all in one, one pleasing note do sing:\n",
      "\n",
      "    Whose speechless song being many, seeming one,\n",
      "\n",
      "    Sings this to thee, 'Thou single wilt prove none'.\n",
      "\n",
      "\n",
      "\n",
      "\n",
      "\n",
      "                     9\n",
      "\n",
      "  Is it for fear to wet a widow's eye,\n",
      "\n",
      "  That thou consum'st thy self in single life?\n",
      "\n",
      "  Ah, if thou issueless shalt hap to die,\n",
      "\n",
      "  The world will wail thee like a makeless wife,\n",
      "\n",
      "  The world will be thy widow and still weep,\n",
      "\n",
      "  That thou no form of thee hast left behind,\n",
      "\n",
      "  When every private widow well may keep,\n",
      "\n",
      "  By children's eyes, her husband's shape in mind:\n",
      "\n",
      "  Look what an unthrift in the world doth spend\n",
      "\n",
      "  Shifts but his place, for still the world enjoys it;\n",
      "\n",
      "  But beauty's waste hath in the world an end,\n",
      "\n",
      "  And kept unused the user so destroys it:\n",
      "\n",
      "    No love toward others in that bosom sits\n",
      "\n",
      "    That on himself such murd'rous shame commits.\n",
      "\n",
      "\n",
      "\n",
      "\n",
      "\n",
      "                     10\n",
      "\n",
      "  For shame deny that thou bear'st love to any\n",
      "\n",
      "  Who for thy self art so unprovident.\n",
      "\n",
      "  Grant if thou wilt, thou art beloved of many,\n",
      "\n",
      "  But that thou none lov'st is most evident:\n",
      "\n",
      "  For thou art so possessed with murd'rous hate,\n",
      "\n",
      "  That 'gainst thy self thou stick'st not to conspire,\n",
      "\n",
      "  Seeking that beauteous roof to ruinate\n",
      "\n",
      "  Which to repair should be thy chief desire:\n",
      "\n",
      "  O change thy thought, that I may change my mind,\n",
      "\n",
      "  Shall hate be fairer lodged than gentle love?\n",
      "\n",
      "  Be as thy presence is gracious and kind,\n",
      "\n",
      "  Or to thy self at least kind-hearted prove,\n",
      "\n",
      "    Make thee another self for love of me,\n",
      "\n",
      "    That beauty still may live in thine or thee.\n",
      "\n",
      "\n",
      "\n"
     ]
    }
   ],
   "source": [
    "def display_contents_file2(file_name):\n",
    "    fp = open( file_name )\n",
    "    while True:\n",
    "        buffer = fp.readline()             \n",
    "        if buffer == \"\":\n",
    "            break     \n",
    "        print( buffer )\n",
    "    fp.close()\n",
    "display_contents_file2(\"../text-files/Shakespeare.txt\")"
   ]
  },
  {
   "cell_type": "code",
   "execution_count": 10,
   "metadata": {},
   "outputs": [
    {
     "name": "stdout",
     "output_type": "stream",
     "text": [
      "1609\n",
      "\n"
     ]
    }
   ],
   "source": [
    "fp = open(\"../text-files/Shakespeare.txt\", \"r\")                                       \n",
    "list_ = fp.readline()\n",
    "print (list_)\n",
    "#for line in line:\n",
    " #   print(line)\n",
    "\n",
    "#print(fp.readline())\n",
    "fp.close ()"
   ]
  },
  {
   "cell_type": "markdown",
   "metadata": {},
   "source": [
    "Notice that the output of the code above has an empty line between each of the lines displayed. Where is that extra line coming from? Think about it.\n",
    "\n",
    "The extra line is there because the `readline()` method returns a string of the characters read, up to and *including* the newline character. So when the `buffer` is printed, it prints a newline character too. And since the `print()` function *also* moves to a new line after it is executed, there is an empty line printed after each line of text."
   ]
  },
  {
   "cell_type": "markdown",
   "metadata": {},
   "source": [
    "A collary to the `readline()` method is the `readlines()` method. `readlines()` reads all the lines in the file, and returns them as a list of strings. The strings include the newline characters."
   ]
  },
  {
   "cell_type": "markdown",
   "metadata": {},
   "source": [
    "### When to use which file-reading method"
   ]
  },
  {
   "cell_type": "markdown",
   "metadata": {},
   "source": [
    "Both the `read()` and `readlines()` method read a whole file at once. Obviously, for small files this is acceptable, but for long files you might not have enough memory to store the file contents efficiently. In such circumstances (or when you do not know the file size), you should read a file line by line with the `readline()` method.\n",
    "\n",
    "It is often a good idea, during code development, to process only the first few lines of a file. That way you limit the amount of time that the program needs to process a file, and limit its output, which makes debugging easier. For instance, the code below process the first 10 lines of one of the longer files."
   ]
  },
  {
   "cell_type": "code",
   "execution_count": 11,
   "metadata": {},
   "outputs": [
    {
     "name": "stdout",
     "output_type": "stream",
     "text": [
      "1609\n",
      "\n",
      "THE SONNETS\n",
      "\n",
      "by William Shakespeare\n",
      "\n",
      "\n",
      "\n",
      "                     1\n",
      "  From fairest creatures we desire increase,\n"
     ]
    }
   ],
   "source": [
    "def display_contents_file4(file_name):\n",
    "    fp = open(file_name)\n",
    "    count = 0\n",
    "    while count < 10:\n",
    "        buffer = fp.readline()\n",
    "        if buffer == \"\":\n",
    "            break\n",
    "        print( buffer, end=\"\" )\n",
    "        count += 1\n",
    "    fp.close()\n",
    "    \n",
    "display_contents_file4( \"../text-files/Shakespeare.txt\")"
   ]
  },
  {
   "cell_type": "markdown",
   "metadata": {},
   "source": [
    "Once the program is finished and debugged, I can remove the references to `count` and change the loop to `while True`, to process the whole file.\n",
    "\n",
    "**Exercise**: Start by copying the code above in the code block below. Then adapt it to count how often the word \"from\" (with any capitalization) occurs in the text as a whole. Print only the number of occurrences of that word. If you do it correctly, you find the answer is 14 (it occurs 3 times in the first 20 lines)."
   ]
  },
  {
   "cell_type": "code",
   "execution_count": 12,
   "metadata": {},
   "outputs": [
    {
     "name": "stdout",
     "output_type": "stream",
     "text": [
      "2\n"
     ]
    }
   ],
   "source": [
    "def display_contents_file4(file_name):\n",
    "    fp = open(file_name)\n",
    "    count = 0\n",
    "    while True:\n",
    "        buffer = fp.readline()\n",
    "        if \"from\" in buffer:\n",
    "            count+= 1\n",
    "        if buffer == \"\":\n",
    "            break\n",
    "        \n",
    "    print(count)\n",
    "        \n",
    "    fp.close()\n",
    "    \n",
    "display_contents_file4( \"../text-files/Shakespeare.txt\")"
   ]
  },
  {
   "cell_type": "code",
   "execution_count": 13,
   "metadata": {},
   "outputs": [
    {
     "data": {
      "text/plain": [
       "2"
      ]
     },
     "execution_count": 13,
     "metadata": {},
     "output_type": "execute_result"
    }
   ],
   "source": [
    "def display_cont(file_name):\n",
    "    fp = open(file_name)\n",
    "    buffer = fp.readlines()\n",
    "\n",
    "    count=0\n",
    "    for line in buffer:\n",
    "        if \"From\" in line:\n",
    "            count+= 1\n",
    "    return count\n",
    "\n",
    "display_cont(\"../text-files/Shakespeare.txt\")\n",
    "    "
   ]
  },
  {
   "cell_type": "markdown",
   "metadata": {},
   "source": []
  },
  {
   "cell_type": "markdown",
   "metadata": {},
   "source": [
    "## `os.path` methods"
   ]
  },
  {
   "cell_type": "markdown",
   "metadata": {},
   "source": [
    "At this point you know everything you need to handle text files in Python. However, there are several handy functions that make your life easier when dealing with files. These are collected in the `os.path` module. As per usual, I am not going to list all of them, but I will list the ones that you will use the most.\n",
    "\n",
    "In these functions, the term \"path\" refers to a filename or a directory name, complete with parent directories (and drive letter). The parent directories (and drive letter) do not *need* to be there explicitly, but even if they are not, implicitly they still are as each file and each directory is located in a particular place in the file system."
   ]
  },
  {
   "cell_type": "markdown",
   "metadata": {},
   "source": [
    "### `exists()`"
   ]
  },
  {
   "cell_type": "markdown",
   "metadata": {},
   "source": [
    "The function `exists()` gets a path as argument, and returns `True` if that path exists, and `False` if it does not."
   ]
  },
  {
   "cell_type": "code",
   "execution_count": 21,
   "metadata": {},
   "outputs": [
    {
     "name": "stdout",
     "output_type": "stream",
     "text": [
      "Shakespeare.txt exists\n",
      "TorresMapfre.txt does not exist\n"
     ]
    },
    {
     "data": {
      "text/plain": [
       "True"
      ]
     },
     "execution_count": 21,
     "metadata": {},
     "output_type": "execute_result"
    }
   ],
   "source": [
    "from os.path import exists\n",
    "\n",
    "def check_if_path_exists(file_name):\n",
    "    if exists(file_name ):\n",
    "        return( file_name + \" exists\" )\n",
    "    else:\n",
    "        return( file_name + \" does not exist\" )\n",
    "\n",
    "print(check_if_path_exists(\"Shakespeare.txt\"))\n",
    "print(check_if_path_exists(\"TorresMapfre.txt\"))\n",
    "\n",
    "exists(\"Shakespeare.txt\")"
   ]
  },
  {
   "cell_type": "markdown",
   "metadata": {},
   "source": [
    "### `isfile()`"
   ]
  },
  {
   "cell_type": "markdown",
   "metadata": {},
   "source": [
    "`isfile()` tests if the path that is supplied as argument is a file. If it is, it returns `True`. If it is not, it returns `False`. If the path does not exist, the function also returns `False`."
   ]
  },
  {
   "cell_type": "code",
   "execution_count": 22,
   "metadata": {},
   "outputs": [
    {
     "name": "stdout",
     "output_type": "stream",
     "text": [
      "Shakespeare.txt is a file\n"
     ]
    }
   ],
   "source": [
    "from os.path import isfile\n",
    "\n",
    "def check_if_file_exists(file_name):\n",
    "    if isfile( file_name ):\n",
    "        return( file_name + \" is a file\" )\n",
    "    else:\n",
    "        return( file_name + \" is not a file\" )\n",
    "    \n",
    "print(check_if_file_exists(\"Shakespeare.txt\"))"
   ]
  },
  {
   "cell_type": "markdown",
   "metadata": {},
   "source": [
    "### `isdir()`"
   ]
  },
  {
   "cell_type": "markdown",
   "metadata": {},
   "source": [
    "`isdir()` tests if the path that is supplied as argument is a directory. If it is, it returns `True`. If it is not, it returns `False`. If the path does not exist, the function also returns `False`."
   ]
  },
  {
   "cell_type": "code",
   "execution_count": 24,
   "metadata": {},
   "outputs": [
    {
     "name": "stdout",
     "output_type": "stream",
     "text": [
      "Shakespeare.txt is not a directory\n"
     ]
    }
   ],
   "source": [
    "from os.path import isdir\n",
    "\n",
    "def check_if_path_is_dir(file_name):\n",
    "    if isdir( file_name):\n",
    "        print( file_name + \" Sheakspeare is a directory\" )\n",
    "    else:\n",
    "        print(file_name + \" is not a directory\" )\n",
    "check_if_path_is_dir(\"Shakespeare.txt\")"
   ]
  },
  {
   "cell_type": "markdown",
   "metadata": {},
   "source": [
    "### `basename()`"
   ]
  },
  {
   "cell_type": "markdown",
   "metadata": {},
   "source": [
    "`basename()` extracts the filename from a path, and returns it. "
   ]
  },
  {
   "cell_type": "code",
   "execution_count": 27,
   "metadata": {},
   "outputs": [
    {
     "name": "stdout",
     "output_type": "stream",
     "text": [
      "readme.txt\n"
     ]
    }
   ],
   "source": [
    "from os.path import basename\n",
    "\n",
    "print( basename( \"/System/Home/readme.txt\" ) )"
   ]
  },
  {
   "cell_type": "markdown",
   "metadata": {},
   "source": [
    "### `dirname()`"
   ]
  },
  {
   "cell_type": "markdown",
   "metadata": {},
   "source": [
    "`dirname()` extracts the directory name from a path, and returns it."
   ]
  },
  {
   "cell_type": "code",
   "execution_count": 28,
   "metadata": {},
   "outputs": [
    {
     "name": "stdout",
     "output_type": "stream",
     "text": [
      "/System/Home\n"
     ]
    }
   ],
   "source": [
    "from os.path import dirname\n",
    "\n",
    "print( dirname( \"/System/Home/readme.txt\" ) )"
   ]
  },
  {
   "cell_type": "markdown",
   "metadata": {},
   "source": [
    "### `getsize()`"
   ]
  },
  {
   "cell_type": "markdown",
   "metadata": {},
   "source": [
    "`getsize()` gets the size of the file that is supplied as argument, and returns it as an integer. The file must exist, otherwise you get a runtime error."
   ]
  },
  {
   "cell_type": "code",
   "execution_count": 30,
   "metadata": {},
   "outputs": [
    {
     "name": "stdout",
     "output_type": "stream",
     "text": [
      "29\n"
     ]
    }
   ],
   "source": [
    "from os.path import getsize\n",
    "\n",
    "numbytes = getsize( \"Shakespeare.txt\" )\n",
    "print( numbytes )"
   ]
  },
  {
   "cell_type": "markdown",
   "metadata": {},
   "source": [
    "---"
   ]
  },
  {
   "cell_type": "markdown",
   "metadata": {},
   "source": [
    "## File encoding"
   ]
  },
  {
   "cell_type": "markdown",
   "metadata": {},
   "source": [
    "Text files use an \"encoding\", i.e., a system that prescribes how characters in the files are supposed to be interpreted. This encoding may differ between operating systems. You can see the preferred encoding that your system uses with a call to `sys.getfilesystemencoding()`."
   ]
  },
  {
   "cell_type": "code",
   "execution_count": 48,
   "metadata": {},
   "outputs": [
    {
     "name": "stdout",
     "output_type": "stream",
     "text": [
      "ascii\n"
     ]
    }
   ],
   "source": [
    "from sys import getfilesystemencoding\n",
    "\n",
    "print( getfilesystemencoding() )"
   ]
  },
  {
   "cell_type": "markdown",
   "metadata": {},
   "source": [
    "If you read a text file which uses a different encoding than your file system prefers, you may get a `UnicodeDecodeError`. Whether or not you get this error for a particular file, is related to your operating system. An annoying consequence of that is that when you port Python code that reads a file to another system, a file that could be read by your code previously may cause your code to crash after the port.\n",
    "\n",
    "An easy way to get around this problem is by adding an extra parameter when opening a file, which indicates the encoding mechanism that you want to use when reading the file. You do this by adding a parameter \"`encoding=<encodingname>`\", where `<encodingname>` is a string that can have a variety of values, for which some typical ones are:\n",
    "\n",
    "    ascii       7-bits encoding, supports characters with values in the range 00-7F\n",
    "    latin-1     8-bits encoding, supports characters with values in the range 00-FF\n",
    "    mbcs        2-byte encoding, that is currently getting replaced by UTF-8\n",
    "    utf-8       variable bytes encoding\n",
    "\n",
    "Typically, text files are created with `ascii` or `latin-1` encoding. Since `ascii` is incorporated in `latin-1`, you can safely open any text file by specifying `latin-1` as encoding. It is possible that for the characters beyond the `ascii` range, you get different characters than the person who created the file wanted you to see -- that depends on the encoding mechanism that your file system uses. But at least the `UnicodeDecodeError` is avoided.\n",
    "\n",
    "Note that while `utf-8` supports a much wider range of characters than `latin-1`, you may still get the `UnicodeDecodeError` when you read a text file that uses `latin-1` encoding on a system that uses `utf-8` encoding, as `utf-8` has no corresponding characters with values in the range 80-FF.\n"
   ]
  },
  {
   "cell_type": "markdown",
   "metadata": {},
   "source": [
    "If you change the encoding mechanism for this file to `utf-8`, it will enforce the `UnicodeDecodeError` as it contains characters with numbers in the range 80-FF. Try this.\n",
    "\n",
    "If you want to see which special characters are supported with values in the range 80-FF on your system, run the code below. The numerical value of a character in the table can be derived by calculating `16*row+col`, whereby `row` and `col` are the hexadecimal row and column number, respectively. I do not display the characters in the range 80-9F, as these are normally not filled in."
   ]
  },
  {
   "cell_type": "code",
   "execution_count": 31,
   "metadata": {},
   "outputs": [
    {
     "name": "stdout",
     "output_type": "stream",
     "text": [
      " 0 1 2 3 4 5 6 7 8 9 A B C D E F\n",
      "A   ¡ ¢ £ ¤ ¥ ¦ § ¨ © ª « ¬ ­ ® ¯\n",
      "B ° ± ² ³ ´ µ ¶ · ¸ ¹ º » ¼ ½ ¾ ¿\n",
      "C À Á Â Ã Ä Å Æ Ç È É Ê Ë Ì Í Î Ï\n",
      "D Ð Ñ Ò Ó Ô Õ Ö × Ø Ù Ú Û Ü Ý Þ ß\n",
      "E à á â ã ä å æ ç è é ê ë ì í î ï\n",
      "F ð ñ ò ó ô õ ö ÷ ø ù ú û ü ý þ ÿ\n"
     ]
    }
   ],
   "source": [
    "for i in range(16):\n",
    "    if i < 10:\n",
    "        print( ' '+chr( ord( '0' )+i ), end='' )\n",
    "    else:\n",
    "        print( ' '+chr( ord( 'A' )+i-10 ), end='' )\n",
    "print()\n",
    "for i in range( 10, 16 ):\n",
    "    print( chr( ord( 'A' )+i-10 ), end='' )\n",
    "    for j in range( 16 ):\n",
    "        c = i*16+j\n",
    "        print( ' '+chr( c ), end='' )\n",
    "    print()"
   ]
  },
  {
   "cell_type": "markdown",
   "metadata": {},
   "source": [
    "---"
   ]
  },
  {
   "cell_type": "markdown",
   "metadata": {},
   "source": [
    "## What you learned"
   ]
  },
  {
   "cell_type": "markdown",
   "metadata": {},
   "source": [
    "In this chapter, you learned about:\n",
    "\n",
    "- Text files\n",
    "- File pointers\n",
    "- Opening and closing files with `open()` and `close()`\n",
    "- Reading files with `read()`, `readline()`, and `readlines()`\n",
    "- Writing files with `write()` and `writelines()`\n",
    "- Appending to files\n",
    "- `os.path` methods `exists()`, `isfile()`, `isdir()`, `join()`, `basename()`, `dirname()`, and `getsize()`\n",
    "- Dealing with text files with different encoding mechanisms"
   ]
  },
  {
   "cell_type": "markdown",
   "metadata": {},
   "source": [
    "---"
   ]
  },
  {
   "cell_type": "markdown",
   "metadata": {},
   "source": [
    "## Exercises"
   ]
  },
  {
   "cell_type": "markdown",
   "metadata": {},
   "source": [
    "### Exercise 11.1"
   ]
  },
  {
   "cell_type": "markdown",
   "metadata": {},
   "source": [
    "Write a program that reads the contents of the file \"`blakepoems.txt`\", splits it into words (where everything that is not a letter is considered a word boundary), and case-insensitively builds a dictionary that stores for every word how often it occurs in the text. Then print all the words with their quantities in alphabetical order."
   ]
  },
  {
   "cell_type": "code",
   "execution_count": 20,
   "metadata": {},
   "outputs": [
    {
     "name": "stdout",
     "output_type": "stream",
     "text": [
      "[('1780', 1), ('1789', 1), ('a', 127), ('about', 1), ('abroad', 1), ('abstract', 1), ('ache', 1), ('admired', 1), ('adona', 1), ('afar', 1), ('affright', 1), ('after', 2), ('again', 3), ('against', 1), ('age', 2), ('aged', 1), ('agree', 1), ('ah', 7), ('air', 6), ('airy', 1), ('alas', 1), ('albions', 1), ('ale', 1), ('alehouse', 1), ('all', 39), ('allay', 1), ('alone', 1), ('altar', 1), ('always', 1), ('am', 16), ('ambush', 1), ('among', 8), ('an', 21), ('ancient', 3), ('and', 348), ('angel', 8), ('angelguarded', 1), ('angels', 2), ('angry', 2), ('annoy', 1), ('another', 4), ('anothers', 4), ('answer', 2), ('answerd', 3), ('answered', 2), ('anvil', 1), ('anxious', 1), ('any', 3), ('appall', 1), ('appals', 1), ('apparel', 1), ('appear', 2), ('appeared', 1), ('appears', 1), ('appendix', 1), ('apple', 1), ('are', 25), ('arise', 9), ('arm', 2), ('armed', 4), ('arms', 1), ('arose', 1), ('around', 5), ('arrow', 1), ('arrows', 1), ('art', 6), ('artful', 1), ('as', 16), ('ask', 2), ('asleep', 2), ('asleeping', 1), ('aspire', 2), ('astonishd', 1), ('at', 7), ('author', 1), ('away', 24), ('awoke', 1), ('babe', 2), ('babes', 2), ('back', 3), ('bags', 2), ('baits', 1), ('balmy', 1), ('ban', 1), ('band', 1), ('bands', 1), ('bandy', 1), ('bane', 1), ('bank', 1), ('bar', 1), ('bard', 2), ('bare', 2), ('barrel', 1), ('be', 25), ('beadles', 1), ('beams', 3), ('bear', 5), ('bearing', 1), ('bears', 1), ('beast', 1)]\n"
     ]
    }
   ],
   "source": [
    "# Counting words in blakepoems.txt.\n",
    "def readfile(file):\n",
    "    with open(file) as text_file:\n",
    "        contents = text_file.read()\n",
    "    return contents\n",
    "\n",
    "def clean_all_file(contents):\n",
    "    text = contents.replace(\"\\n\", \" \")\n",
    "    alpha_txt =''.join(e for e in text if e.isalnum() or e == \" \")\n",
    "    clean_list = alpha_txt.lower().strip().split()\n",
    "    return clean_list\n",
    "\n",
    "def build_dict(l):\n",
    "    # Create an empty dictionary \n",
    "    d = dict() \n",
    "\n",
    "    # For word in clean_list\n",
    "    for word in clean_list:  \n",
    "        # Check if the word is already in dictionary \n",
    "        if word in d: \n",
    "            # Increment count of word by 1 \n",
    "            d[word] = d[word] + 1\n",
    "        else: \n",
    "            # Add the word to dictionary with count 1 \n",
    "            d[word] = 1\n",
    "    return d\n",
    "\n",
    "def main():\n",
    "    c = readfile(\"./text-files/blakepoems.txt\")\n",
    "    l = clean_all_file(c)\n",
    "    d = build_dict(l)\n",
    "    print(sorted(d.items())[0:100])\n",
    "\n",
    "if __name__ == \"__main__\":\n",
    "    main()\n",
    "    \n",
    "# Print the contents of dictionary \n",
    "#for key in list(d.keys()): \n",
    "#    print(key, \":\", d[key]) "
   ]
  },
  {
   "cell_type": "markdown",
   "metadata": {},
   "source": [
    "### Exercise 11.2"
   ]
  },
  {
   "cell_type": "markdown",
   "metadata": {},
   "source": [
    "Do the same thing as you did for the previous exercise, but now process the text line by line. This is something that you would have to do if you had to process a very long text (as it is the case)."
   ]
  },
  {
   "cell_type": "code",
   "execution_count": null,
   "metadata": {},
   "outputs": [],
   "source": [
    "# Counting words line by line.\n",
    "\n",
    "fp = open( \"./text-files/blakepoems.txt\", \"r\")\n",
    "  \n",
    "# Create an empty dictionary \n",
    "d = dict() \n",
    "  \n",
    "# Loop through each line of the file \n",
    "for line in fp: \n",
    "    # Remove the leading spaces and newline character \n",
    "    line = line.strip() \n",
    "  \n",
    "    # Convert the characters in line to  \n",
    "    # lowercase to avoid case mismatch \n",
    "    line = line.lower() \n",
    "  \n",
    "    # Split the line into words \n",
    "    words = line.split(\" \") \n",
    "  \n",
    "    # Iterate over each word in line \n",
    "    for word in words: \n",
    "        # Check if the word is already in dictionary \n",
    "        if word in d: \n",
    "            # Increment count of word by 1 \n",
    "            d[word] = d[word] + 1\n",
    "        else: \n",
    "            # Add the word to dictionary with count 1 \n",
    "            d[word] = 1\n",
    "  \n",
    "# Print the contents of dictionary \n",
    "for key in list(d.keys()): \n",
    "    print(key, \":\", d[key]) "
   ]
  },
  {
   "cell_type": "code",
   "execution_count": 24,
   "metadata": {},
   "outputs": [
    {
     "name": "stdout",
     "output_type": "stream",
     "text": [
      "[('1780', 1441), ('1789', 1441), ('a', 183007), ('about', 1441), ('abroad', 1441), ('abstract', 1441), ('ache', 1441), ('admired', 1441), ('adona', 1441), ('afar', 1441), ('affright', 1441), ('after', 2882), ('again', 4323), ('against', 1441), ('age', 2882), ('aged', 1441), ('agree', 1441), ('ah', 10087), ('air', 8646), ('airy', 1441), ('alas', 1441), ('albions', 1441), ('ale', 1441), ('alehouse', 1441), ('all', 56199), ('allay', 1441), ('alone', 1441), ('altar', 1441), ('always', 1441), ('am', 23056), ('ambush', 1441), ('among', 11528), ('an', 30261), ('ancient', 4323), ('and', 501468), ('angel', 11528), ('angelguarded', 1441), ('angels', 2882), ('angry', 2882), ('annoy', 1441), ('another', 5764), ('anothers', 5764), ('answer', 2882), ('answerd', 4323), ('answered', 2882), ('anvil', 1441), ('anxious', 1441), ('any', 4323), ('appall', 1441), ('appals', 1441), ('apparel', 1441), ('appear', 2882), ('appeared', 1441), ('appears', 1441), ('appendix', 1441), ('apple', 1441), ('are', 36025), ('arise', 12969), ('arm', 2882), ('armed', 5764), ('arms', 1441), ('arose', 1441), ('around', 7205), ('arrow', 1441), ('arrows', 1441), ('art', 8646), ('artful', 1441), ('as', 23056), ('ask', 2882), ('asleep', 2882), ('asleeping', 1441), ('aspire', 2882), ('astonishd', 1441), ('at', 10087), ('author', 1441), ('away', 34584), ('awoke', 1441), ('babe', 2882), ('babes', 2882), ('back', 4323), ('bags', 2882), ('baits', 1441), ('balmy', 1441), ('ban', 1441), ('band', 1441), ('bands', 1441), ('bandy', 1441), ('bane', 1441), ('bank', 1441), ('bar', 1441), ('bard', 2882), ('bare', 2882), ('barrel', 1441), ('be', 36025), ('beadles', 1441), ('beams', 4323), ('bear', 7205), ('bearing', 1441), ('bears', 1441), ('beast', 1441)]\n"
     ]
    }
   ],
   "source": [
    "def readfile(file):\n",
    "    with open(file) as text_file:\n",
    "        contents = text_file.readlines()\n",
    "    return contents\n",
    "\n",
    "def clean_all_file(contents):\n",
    "    text = contents.replace(\"\\n\", \" \")\n",
    "    alpha_txt =''.join(e for e in text if e.isalnum() or e == \" \")\n",
    "    clean_list = alpha_txt.lower().strip().split()\n",
    "    return clean_list\n",
    "\n",
    "\n",
    "def build_dict(l, d):\n",
    "    # Create an empty dictionary \n",
    "    # For word in clean_list\n",
    "    for word in clean_list:  \n",
    "        # Check if the word is already in dictionary \n",
    "        if word in d: \n",
    "            # Increment count of word by 1 \n",
    "            d[word] = d[word] + 1\n",
    "        else: \n",
    "            # Add the word to dictionary with count 1 \n",
    "            d[word] = 1\n",
    "    return d\n",
    "\n",
    "def main():\n",
    "    with open(\"./text-files/blakepoems.txt\") as text_file:\n",
    "        d = {}\n",
    "        for line in text_file:\n",
    "            l = clean_all_file(line)\n",
    "            count_d = build_dict(l, d)\n",
    "    print(sorted(d.items())[0:100])\n",
    "\n",
    "if __name__ == \"__main__\":\n",
    "    main()\n",
    "    \n",
    "# Print the contents of dictionary \n",
    "#for key in list(d.keys()): \n",
    "#    print(key, \":\", d[key]) "
   ]
  },
  {
   "cell_type": "markdown",
   "metadata": {},
   "source": [
    "---"
   ]
  }
 ],
 "metadata": {
  "kernelspec": {
   "display_name": "Python 3",
   "language": "python",
   "name": "python3"
  },
  "language_info": {
   "codemirror_mode": {
    "name": "ipython",
    "version": 3
   },
   "file_extension": ".py",
   "mimetype": "text/x-python",
   "name": "python",
   "nbconvert_exporter": "python",
   "pygments_lexer": "ipython3",
   "version": "3.8.5"
  }
 },
 "nbformat": 4,
 "nbformat_minor": 1
}
