{
 "cells": [
  {
   "cell_type": "markdown",
   "source": [
    "# Perceptron"
   ],
   "metadata": {}
  },
  {
   "cell_type": "code",
   "execution_count": 1,
   "source": [
    "import numpy as np\r\n",
    "import matplotlib.pyplot as plt"
   ],
   "outputs": [],
   "metadata": {}
  },
  {
   "cell_type": "markdown",
   "source": [
    "As the **neuron** is the most fundamental unit of the brain, the **perceptron** can be considered the most fundamental unit of a deep neural network. Both the neuron and the perceptron, also called *artificial neuron*, take an input, process it, pass it through an activation function that returns the activated output. \n",
    "\n"
   ],
   "metadata": {}
  },
  {
   "cell_type": "markdown",
   "source": [
    "![image](https://miro.medium.com/max/700/1*Fyapb-JRFJ-VtnLYLLXCwg.png)\n",
    "The Perceptron model is like the one showed in the image: first you have several inputs ($x_{1}, x_{2}, ..., x_{n}$). You can think of them like the features of the data you have worked on till now. Do you remember the *wonderful features* of the build week you worked on without knowing what they stand for? Those anonymous columns? Yes, like those.\n",
    "\n",
    "You investigated them trying to see the \"importance\" of each one using the correlation with the target, or the *shap* values. \n",
    "Well, a neuron try to figure out the importance of each input feature by itself. How?\n",
    "\n",
    "Look at those $w_{1}, w_{2},..., w_{n}$: they are the *weigths* that are associated with each input entry. As you can see on the right part of the picture, each $x_{i}$ is multiplied by the corresponding $w_{i}$ and then summed together. Those weights are not there to indicate the \"importance\" of each input feature, but instead the goal is to build a binary classifier, as you can expect from the 0 and 1 in the picture above. \n",
    "\n",
    "Ok, restart. The goal of a perceptron is to build a binary classifier, meaning a classifier that outputs either 0 or 1. In the case of a neuron, it \"spikes\" electricity through the axons, or doesn't. \n",
    "\n",
    "For this reason, the $w_{i}$s are the weights, either positive or negative, such that the weighted sum $\\sum_{i}w_{i}\\cdot x_{i}$ gives either 0 or 1. What does $b$ stand for? As you can expect, it's the bias component that you are used to already.\n",
    "\n",
    "I'll give you another example. Think that you want to decide either to watch a specific movie or not. You could have some \"features\" that you may consider before taking the decision. Let's say they are three:\n",
    "- $x_{1}$ is the feature: isAvengersMovie\n",
    "- $x_{2}$ is the feature: isRomanticMovie\n",
    "- $x_{3}$ is the feature: theMovieWonAnOscar\n",
    "\n",
    "What about the *bias*? Well, maybe a movie freak would watch all the movies he could, a more selective one would watch only Avengers movies. But at the end of the day, the weights and the bias will depend on the data. "
   ],
   "metadata": {}
  },
  {
   "cell_type": "markdown",
   "source": [
    "Ok, now let's assume that I'm that kind of guy who watches all the Avengers movies and hates romantic movies unless they won an Oscar.\n",
    "(It's not my case, I don't watch romantic movies as all... Ok, only when my gf forces me.).\n",
    "\n",
    "I chose binary variables for the sake of the example, but they can be any. \n",
    "\n",
    "Our training set looks like the following:\n",
    "- \"Titanic\", 1\n",
    "- \"Avengers: Endgame\", 1\n",
    "- \"I still believe\", 0\n",
    "- \"Spiderman\", 1\n",
    "\n",
    "Test set:\n",
    "- \"Chocolat\", 1\n",
    "\n",
    "where 1 stands for \"watched\", and 0 for \"not watched\". What we want to predict is if I will watch or not the movie \"Chocolat\".\n",
    "\n",
    "Let's represent the movies with the features above:\n",
    "\n",
    "|       title        | isAvengersMovie | isRomanticMovie | theMovieWonAnOscar | watched |\n",
    "|--------------------|-----------------|-----------------|--------------------|---------|\n",
    "| \"Titanic\"          | 0               | 1               | 1                  | 1       |\n",
    "| \"Avengers: Endgame\"| 1               | 0               | 0                  | 1       |\n",
    "| \"I still believe\"  | 0               | 1               | 0                  | 0       |\n",
    "| \"Spiderman\"        | 1               | 0               | 0                  | 1       |\n",
    "| \"Chocolat\"         | 0               | 1               | 1                  | 1       |\n",
    "\n",
    "Now the Machine Learning Scientist has to set the weights $w_{1}, w_{2}, w_{3}$. How would he start? One way, is to start randomly:"
   ],
   "metadata": {}
  },
  {
   "cell_type": "code",
   "execution_count": 2,
   "source": [
    "np.random.seed(42)\r\n",
    "w1, w2, w3 = np.random.rand(3)\r\n",
    "print(w1, w2, w3)"
   ],
   "outputs": [
    {
     "output_type": "stream",
     "name": "stdout",
     "text": [
      "0.3745401188473625 0.9507143064099162 0.7319939418114051\n"
     ]
    }
   ],
   "metadata": {}
  },
  {
   "cell_type": "markdown",
   "source": [
    "I will change the sign and the scale of $w_{2}$ to have a more interesting example:"
   ],
   "metadata": {}
  },
  {
   "cell_type": "code",
   "execution_count": 3,
   "source": [
    "w2 = -2*w2"
   ],
   "outputs": [],
   "metadata": {}
  },
  {
   "cell_type": "markdown",
   "source": [
    "while the vectors of features will be:"
   ],
   "metadata": {}
  },
  {
   "cell_type": "code",
   "execution_count": 4,
   "source": [
    "x1 = np.array([0, 1, 0, 1])\r\n",
    "x2 = np.array([1, 0, 1, 0])\r\n",
    "x3 = np.array([1, 0, 0, 0])"
   ],
   "outputs": [],
   "metadata": {}
  },
  {
   "cell_type": "markdown",
   "source": [
    "and the target:"
   ],
   "metadata": {}
  },
  {
   "cell_type": "code",
   "execution_count": 5,
   "source": [
    "y = np.array([1, 1, 0, 1])"
   ],
   "outputs": [],
   "metadata": {}
  },
  {
   "cell_type": "markdown",
   "source": [
    "For the test (the movie \"Chocolat\"):"
   ],
   "metadata": {}
  },
  {
   "cell_type": "code",
   "execution_count": 6,
   "source": [
    "x1_test = 0\r\n",
    "x2_test = 1\r\n",
    "x3_test = 1"
   ],
   "outputs": [],
   "metadata": {}
  },
  {
   "cell_type": "markdown",
   "source": [
    "What's missing? The bias $b$!\n"
   ],
   "metadata": {}
  },
  {
   "cell_type": "code",
   "execution_count": 7,
   "source": [
    "np.random.seed(42)\r\n",
    "b = np.random.rand(1)[0]\r\n",
    "print(b)"
   ],
   "outputs": [
    {
     "output_type": "stream",
     "name": "stdout",
     "text": [
      "0.3745401188473625\n"
     ]
    }
   ],
   "metadata": {}
  },
  {
   "cell_type": "markdown",
   "source": [
    "Here we go. So let's start from the first sample, the \"Titanic\" movie. We have to compute:\n",
    "\n",
    "$x_{1}\\cdot w_{1} + x_{2}\\cdot w_{2} +  x_{3}\\cdot w_{3} + b$ \n",
    "\n",
    "Approximating $w_{1}, w_{2}, w_{3}, b$ to the third significant figure, and remembering that $x_{1} = 0, x_{2} = 1, x_{3}=1$, we have:\n",
    "$0.374\\cdot 0 - 1.901 \\cdot 1 + 0.732\\cdot 1 + 0.374 = - 0.795$.\n",
    "\n",
    "Now what? The result is neither 0 or 1! This is why we need an *activation function*! An activation function determines whether the neuron should be activated (“fired”) or not, based on whether each neuron's input is relevant for the model's prediction. The most *basic* activation function you can think of is the one that gives you 1 in case of a positive outcome, 0 for 0 or negative one. In mathematical terms, if $g(\\mathbf{x})$ is the activation function given the input vector $\\mathbf{x}=(x_{1},x_{2}, x_{3})$\n",
    "\n",
    "$$ g(\\mathbf{x})=\\begin{cases}\n",
    "          1, & \\text{if}\\ \\mathbf{wx}+\\mathbf{b}>0 \\\\\n",
    "          0, & \\text{otherwise}\n",
    "            \\end{cases}\n",
    "$$\n",
    "\n",
    "I used another notation here, just to make you flexible for different book notations. In some books, to distinguish scalars from vectors (*i.e.* simple numbers like 1, 1.5, -1 from (2, 1, 3.6)) it is used the bold for vectors. I recall you that $\\mathbf{wx}$ is the *dot product* between $\\mathbf{w}$ and $\\mathbf{x}$!\n",
    "\n",
    "Ok cool, what about the output of our algorithm for the \"Titanic\"? Since the output of $0.374\\cdot 0 - 1.901 \\cdot 1 + 0.732\\cdot 1 + 0.374 = - 0.795$ is negative, the activation function $g$ will make it 0.\n",
    "\n",
    "Oh, but this is a wrong prediction! We should adjust our weights!\n"
   ],
   "metadata": {}
  },
  {
   "cell_type": "markdown",
   "source": [
    "To recap:\r\n",
    "\r\n",
    "- we randomly initialised the weights $\\mathbf{w}$ and the bias $\\mathbf{b}$\r\n",
    "- we used them to compute a value\r\n",
    "- we \"activated\" the value with the activation function $g$\r\n",
    "- we got the *wrong* prediction :(\r\n",
    "\r\n",
    "We learn from mistakes, right?\r\n",
    "\r\n",
    "Let me introduce you to the... Perceptron Learning Rule!\r\n",
    "Since the prediction was 0 instead of 1.\r\n",
    "What we wished for, was the dot product $\\mathbf{wx}$ to be higher than 0, because in this way the activation function would have returned 1! Since we got a negative value, we need to edit the weights a bit so that we are more likely to get a positive value for classifying this example and get the right score. \r\n",
    "\r\n",
    "Is it clear? I'll say it again: we predicted 0 instead of 1. We predicted 0 because $\\mathbf{wx}=-0.795$ and the activation function $g$ states that we say \"0\" if $\\mathbf{wx}$ is negative, so this is the case. If we want a positive outcome from $\\mathbf{wx}$, then we should increase a bit that value. How can we? We decided the old weights just randomly picking them, so can adjust them such that $\\mathbf{wx}$ for the \"Titanic\" example will be higher!\r\n",
    "\r\n",
    "Unpacking the dot product $\\mathbf{wx}$ for each component:\r\n",
    "\r\n",
    "- $w_{1}\\cdot x_{1}$ \r\n",
    "- $w_{2}\\cdot x_{2}$\r\n",
    "- $w_{2}\\cdot x_{3}$\r\n",
    "\r\n",
    "Since the $x_{i}$ are \"fixed\", they are given from the dataset, we can increase the $w_{i}$ like:\r\n",
    "\r\n",
    "$$w_{i(new)} = w_{i(old)} + (y-\\hat{y})x_{i}$$\r\n",
    "\r\n",
    "In this way: if we have no error, it means that $(y-\\hat{y})=0$, so we don't make any update. If we predicted 0 and the label was 1, then we have $1-0=1$ and $w_{i(new)}$ would become $w_{i(old)}+x_{i}$. If we predicted 1 and the label was 0, then $0-1= -1$ and $w_{i(new)}$ would become $w_{i(old)}-x_{i}$.\r\n",
    "\r\n",
    "In our example:\r\n",
    "\r\n",
    "- $w_{1(new)} = 0.374 + 0 = 0.374$\r\n",
    "- $w_{2(new)} = -1.901 + 1 = -0.901$\r\n",
    "- $w_{3(new)} = 0.732 + 1 = 1.732$\r\n",
    "- $b_{(new)} = 0.374 + 1 = 1.374$\r\n",
    "\r\n",
    "If we try the prediction again:\r\n",
    "\r\n",
    "$0.374\\cdot 0 - 0.901 \\cdot 1 + 1.732\\cdot 1 + 1.374 = 2.749$.\r\n",
    "\r\n",
    "*N.B.* To learn the bias as well, we add another component to the input and we consider it as 1. This i why you see \"+ 1\" in $b_{(new)} = 0.374 + 1 = 1.374$!\r\n"
   ],
   "metadata": {}
  },
  {
   "cell_type": "code",
   "execution_count": 8,
   "source": [
    "w1 += x1[0]\r\n",
    "w2 += x2[0]\r\n",
    "w3 += x3[0]\r\n",
    "b  += 1\r\n",
    "\r\n"
   ],
   "outputs": [],
   "metadata": {}
  },
  {
   "cell_type": "code",
   "execution_count": 9,
   "source": [
    "w2"
   ],
   "outputs": [
    {
     "output_type": "execute_result",
     "data": {
      "text/plain": [
       "-0.9014286128198323"
      ]
     },
     "metadata": {},
     "execution_count": 9
    }
   ],
   "metadata": {}
  },
  {
   "cell_type": "code",
   "execution_count": 10,
   "source": [
    "w1*x1[0]+w2*x2[0]+w3*x3[0]+b"
   ],
   "outputs": [
    {
     "output_type": "execute_result",
     "data": {
      "text/plain": [
       "2.2051054478389354"
      ]
     },
     "metadata": {},
     "execution_count": 10
    }
   ],
   "metadata": {}
  },
  {
   "cell_type": "markdown",
   "source": [
    "We got a positive score this time. However, there's something more to point out. Learning in this way, will require a very big update of the weights at each iteration! This is why we introduce the:\r\n",
    "\r\n",
    "**Learning rate**\r\n",
    "\r\n",
    "that is the step size of the update for each iteration! The smaller the learning rate, the higher the number of iterations your algorithm will do, the bigger, the faster, but less accurate. If it is too big, sometimes you could overshoot too much.\r\n",
    "\r\n",
    "In this way, the update rule will be:\r\n",
    "\r\n",
    "$$w_{i(new)} = w_{i(old)} + \\eta(y-\\hat{y})x_{i}$$\r\n",
    "\r\n",
    "where $\\eta$ is the learning rate. "
   ],
   "metadata": {}
  },
  {
   "cell_type": "markdown",
   "source": [
    "What do we do with the rest of the samples? The idea is that we make a prediction for the first sample and update the weights, then with the second and we update the weights and then we restart from the first sample till we have classified correctly all the training set! Then, we are ready to test it on the test set!"
   ],
   "metadata": {}
  },
  {
   "cell_type": "markdown",
   "source": [
    "To recap the algorithm:\n",
    "\n",
    "while not all the samples are correctly classified do:\n",
    "\n",
    "   - pick random $x\\in$ *TrainingSamples*\n",
    "     \n",
    "   - if $\\mathbf{wx}>0$ and the label of $x$ is 0 or viceversa:\n",
    "   \n",
    "       - update weights\n",
    "\n",
    "     "
   ],
   "metadata": {}
  },
  {
   "cell_type": "markdown",
   "source": [
    "Questions that you could have so far:"
   ],
   "metadata": {}
  },
  {
   "cell_type": "markdown",
   "source": [
    "1. What if it takes thousands of iterations to converge?\n",
    "\n",
    "Set a max iteration parameter to stop early. This allows you to avoid overfitting as well."
   ],
   "metadata": {}
  },
  {
   "cell_type": "markdown",
   "source": [
    "2. What if the data are not linearly separable?\n",
    "\n",
    "Good point. Since we used a linear activation function, the algorithm converges only if there are linearly separable data. In the example below the algorithm would not converge 👇"
   ],
   "metadata": {}
  },
  {
   "cell_type": "code",
   "execution_count": 11,
   "source": [
    "from sklearn.datasets import make_circles, make_moons\r\n",
    "X_circle, y_circle = make_circles(100) # or try make_moons(100)\r\n",
    "y_circle = y_circle * 2 - 1\r\n",
    "X_circle*=4  # Make it a bit larger\r\n",
    "plt.scatter(X_circle[:,0], X_circle[:,1], c=y_circle, edgecolor='none')\r\n",
    "plt.xlim([-10,10]); plt.ylim([-10,10]); plt.grid()\r\n",
    "plt.axes().set_aspect('equal')\r\n"
   ],
   "outputs": [
    {
     "output_type": "stream",
     "name": "stderr",
     "text": [
      "<ipython-input-11-daa1bb7ff99d>:7: MatplotlibDeprecationWarning: Adding an axes using the same arguments as a previous axes currently reuses the earlier instance.  In a future version, a new instance will always be created and returned.  Meanwhile, this warning can be suppressed, and the future behavior ensured, by passing a unique label to each axes instance.\n",
      "  plt.axes().set_aspect('equal')\n"
     ]
    },
    {
     "output_type": "display_data",
     "data": {
      "text/plain": [
       "<Figure size 432x288 with 1 Axes>"
      ],
      "image/svg+xml": "<?xml version=\"1.0\" encoding=\"utf-8\" standalone=\"no\"?>\r\n<!DOCTYPE svg PUBLIC \"-//W3C//DTD SVG 1.1//EN\"\r\n  \"http://www.w3.org/Graphics/SVG/1.1/DTD/svg11.dtd\">\r\n<!-- Created with matplotlib (https://matplotlib.org/) -->\r\n<svg height=\"252.317344pt\" version=\"1.1\" viewBox=\"0 0 275.847812 252.317344\" width=\"275.847812pt\" xmlns=\"http://www.w3.org/2000/svg\" xmlns:xlink=\"http://www.w3.org/1999/xlink\">\r\n <metadata>\r\n  <rdf:RDF xmlns:cc=\"http://creativecommons.org/ns#\" xmlns:dc=\"http://purl.org/dc/elements/1.1/\" xmlns:rdf=\"http://www.w3.org/1999/02/22-rdf-syntax-ns#\">\r\n   <cc:Work>\r\n    <dc:type rdf:resource=\"http://purl.org/dc/dcmitype/StillImage\"/>\r\n    <dc:date>2021-08-18T08:21:14.912101</dc:date>\r\n    <dc:format>image/svg+xml</dc:format>\r\n    <dc:creator>\r\n     <cc:Agent>\r\n      <dc:title>Matplotlib v3.3.4, https://matplotlib.org/</dc:title>\r\n     </cc:Agent>\r\n    </dc:creator>\r\n   </cc:Work>\r\n  </rdf:RDF>\r\n </metadata>\r\n <defs>\r\n  <style type=\"text/css\">*{stroke-linecap:butt;stroke-linejoin:round;}</style>\r\n </defs>\r\n <g id=\"figure_1\">\r\n  <g id=\"patch_1\">\r\n   <path d=\"M 0 252.317344 \r\nL 275.847812 252.317344 \r\nL 275.847812 0 \r\nL 0 0 \r\nz\r\n\" style=\"fill:none;\"/>\r\n  </g>\r\n  <g id=\"axes_1\">\r\n   <g id=\"patch_2\">\r\n    <path d=\"M 44.845313 228.439219 \r\nL 262.285313 228.439219 \r\nL 262.285313 10.999219 \r\nL 44.845313 10.999219 \r\nz\r\n\" style=\"fill:#ffffff;\"/>\r\n   </g>\r\n   <g id=\"PathCollection_1\">\r\n    <defs>\r\n     <path d=\"M 0 3 \r\nC 0.795609 3 1.55874 2.683901 2.12132 2.12132 \r\nC 2.683901 1.55874 3 0.795609 3 -0 \r\nC 3 -0.795609 2.683901 -1.55874 2.12132 -2.12132 \r\nC 1.55874 -2.683901 0.795609 -3 0 -3 \r\nC -0.795609 -3 -1.55874 -2.683901 -2.12132 -2.12132 \r\nC -2.683901 -1.55874 -3 -0.795609 -3 0 \r\nC -3 0.795609 -2.683901 1.55874 -2.12132 2.12132 \r\nC -1.55874 2.683901 -0.795609 3 0 3 \r\nz\r\n\" id=\"C0_0_22f18a2d8a\"/>\r\n    </defs>\r\n    <g clip-path=\"url(#pc871fe3af1)\">\r\n     <use style=\"fill:#fde725;\" x=\"138.752281\" xlink:href=\"#C0_0_22f18a2d8a\" y=\"151.198514\"/>\r\n    </g>\r\n    <g clip-path=\"url(#pc871fe3af1)\">\r\n     <use style=\"fill:#fde725;\" x=\"181.711337\" xlink:href=\"#C0_0_22f18a2d8a\" y=\"99.269935\"/>\r\n    </g>\r\n    <g clip-path=\"url(#pc871fe3af1)\">\r\n     <use style=\"fill:#fde725;\" x=\"138.752281\" xlink:href=\"#C0_0_22f18a2d8a\" y=\"88.239924\"/>\r\n    </g>\r\n    <g clip-path=\"url(#pc871fe3af1)\">\r\n     <use style=\"fill:#fde725;\" x=\"134.923684\" xlink:href=\"#C0_0_22f18a2d8a\" y=\"90.344712\"/>\r\n    </g>\r\n    <g clip-path=\"url(#pc871fe3af1)\">\r\n     <use style=\"fill:#440154;\" x=\"188.747844\" xlink:href=\"#C0_0_22f18a2d8a\" y=\"145.280824\"/>\r\n    </g>\r\n    <g clip-path=\"url(#pc871fe3af1)\">\r\n     <use style=\"fill:#440154;\" x=\"161.714151\" xlink:href=\"#C0_0_22f18a2d8a\" y=\"162.436927\"/>\r\n    </g>\r\n    <g clip-path=\"url(#pc871fe3af1)\">\r\n     <use style=\"fill:#440154;\" x=\"113.131193\" xlink:href=\"#C0_0_22f18a2d8a\" y=\"103.710218\"/>\r\n    </g>\r\n    <g clip-path=\"url(#pc871fe3af1)\">\r\n     <use style=\"fill:#440154;\" x=\"185.2667\" xlink:href=\"#C0_0_22f18a2d8a\" y=\"149.488803\"/>\r\n    </g>\r\n    <g clip-path=\"url(#pc871fe3af1)\">\r\n     <use style=\"fill:#440154;\" x=\"167.003844\" xlink:href=\"#C0_0_22f18a2d8a\" y=\"78.359673\"/>\r\n    </g>\r\n    <g clip-path=\"url(#pc871fe3af1)\">\r\n     <use style=\"fill:#440154;\" x=\"197.053313\" xlink:href=\"#C0_0_22f18a2d8a\" y=\"119.719219\"/>\r\n    </g>\r\n    <g clip-path=\"url(#pc871fe3af1)\">\r\n     <use style=\"fill:#440154;\" x=\"125.845018\" xlink:href=\"#C0_0_22f18a2d8a\" y=\"86.211139\"/>\r\n    </g>\r\n    <g clip-path=\"url(#pc871fe3af1)\">\r\n     <use style=\"fill:#440154;\" x=\"118.382781\" xlink:href=\"#C0_0_22f18a2d8a\" y=\"145.280824\"/>\r\n    </g>\r\n    <g clip-path=\"url(#pc871fe3af1)\">\r\n     <use style=\"fill:#fde725;\" x=\"185.912608\" xlink:href=\"#C0_0_22f18a2d8a\" y=\"132.526419\"/>\r\n    </g>\r\n    <g clip-path=\"url(#pc871fe3af1)\">\r\n     <use style=\"fill:#440154;\" x=\"130.263277\" xlink:href=\"#C0_0_22f18a2d8a\" y=\"156.437352\"/>\r\n    </g>\r\n    <g clip-path=\"url(#pc871fe3af1)\">\r\n     <use style=\"fill:#fde725;\" x=\"119.867917\" xlink:href=\"#C0_0_22f18a2d8a\" y=\"128.371239\"/>\r\n    </g>\r\n    <g clip-path=\"url(#pc871fe3af1)\">\r\n     <use style=\"fill:#440154;\" x=\"191.674137\" xlink:href=\"#C0_0_22f18a2d8a\" y=\"98.768715\"/>\r\n    </g>\r\n    <g clip-path=\"url(#pc871fe3af1)\">\r\n     <use style=\"fill:#fde725;\" x=\"175.741548\" xlink:href=\"#C0_0_22f18a2d8a\" y=\"146.525683\"/>\r\n    </g>\r\n    <g clip-path=\"url(#pc871fe3af1)\">\r\n     <use style=\"fill:#fde725;\" x=\"121.218017\" xlink:href=\"#C0_0_22f18a2d8a\" y=\"132.526419\"/>\r\n    </g>\r\n    <g clip-path=\"url(#pc871fe3af1)\">\r\n     <use style=\"fill:#440154;\" x=\"156.295947\" xlink:href=\"#C0_0_22f18a2d8a\" y=\"76.317032\"/>\r\n    </g>\r\n    <g clip-path=\"url(#pc871fe3af1)\">\r\n     <use style=\"fill:#440154;\" x=\"121.863925\" xlink:href=\"#C0_0_22f18a2d8a\" y=\"149.488803\"/>\r\n    </g>\r\n    <g clip-path=\"url(#pc871fe3af1)\">\r\n     <use style=\"fill:#fde725;\" x=\"119.049245\" xlink:href=\"#C0_0_22f18a2d8a\" y=\"124.079612\"/>\r\n    </g>\r\n    <g clip-path=\"url(#pc871fe3af1)\">\r\n     <use style=\"fill:#fde725;\" x=\"160.084383\" xlink:href=\"#C0_0_22f18a2d8a\" y=\"153.893385\"/>\r\n    </g>\r\n    <g clip-path=\"url(#pc871fe3af1)\">\r\n     <use style=\"fill:#440154;\" x=\"110.420228\" xlink:href=\"#C0_0_22f18a2d8a\" y=\"125.16971\"/>\r\n    </g>\r\n    <g clip-path=\"url(#pc871fe3af1)\">\r\n     <use style=\"fill:#440154;\" x=\"176.867348\" xlink:href=\"#C0_0_22f18a2d8a\" y=\"156.437352\"/>\r\n    </g>\r\n    <g clip-path=\"url(#pc871fe3af1)\">\r\n     <use style=\"fill:#fde725;\" x=\"125.419288\" xlink:href=\"#C0_0_22f18a2d8a\" y=\"99.269935\"/>\r\n    </g>\r\n    <g clip-path=\"url(#pc871fe3af1)\">\r\n     <use style=\"fill:#440154;\" x=\"140.126781\" xlink:href=\"#C0_0_22f18a2d8a\" y=\"78.359673\"/>\r\n    </g>\r\n    <g clip-path=\"url(#pc871fe3af1)\">\r\n     <use style=\"fill:#440154;\" x=\"167.003844\" xlink:href=\"#C0_0_22f18a2d8a\" y=\"161.078765\"/>\r\n    </g>\r\n    <g clip-path=\"url(#pc871fe3af1)\">\r\n     <use style=\"fill:#fde725;\" x=\"121.218017\" xlink:href=\"#C0_0_22f18a2d8a\" y=\"106.912018\"/>\r\n    </g>\r\n    <g clip-path=\"url(#pc871fe3af1)\">\r\n     <use style=\"fill:#440154;\" x=\"172.081602\" xlink:href=\"#C0_0_22f18a2d8a\" y=\"80.3701\"/>\r\n    </g>\r\n    <g clip-path=\"url(#pc871fe3af1)\">\r\n     <use style=\"fill:#fde725;\" x=\"184.052372\" xlink:href=\"#C0_0_22f18a2d8a\" y=\"136.479622\"/>\r\n    </g>\r\n    <g clip-path=\"url(#pc871fe3af1)\">\r\n     <use style=\"fill:#440154;\" x=\"161.714151\" xlink:href=\"#C0_0_22f18a2d8a\" y=\"77.001511\"/>\r\n    </g>\r\n    <g clip-path=\"url(#pc871fe3af1)\">\r\n     <use style=\"fill:#fde725;\" x=\"168.378344\" xlink:href=\"#C0_0_22f18a2d8a\" y=\"151.198514\"/>\r\n    </g>\r\n    <g clip-path=\"url(#pc871fe3af1)\">\r\n     <use style=\"fill:#fde725;\" x=\"147.046242\" xlink:href=\"#C0_0_22f18a2d8a\" y=\"85.545052\"/>\r\n    </g>\r\n    <g clip-path=\"url(#pc871fe3af1)\">\r\n     <use style=\"fill:#440154;\" x=\"113.131193\" xlink:href=\"#C0_0_22f18a2d8a\" y=\"135.728219\"/>\r\n    </g>\r\n    <g clip-path=\"url(#pc871fe3af1)\">\r\n     <use style=\"fill:#fde725;\" x=\"134.923684\" xlink:href=\"#C0_0_22f18a2d8a\" y=\"149.093725\"/>\r\n    </g>\r\n    <g clip-path=\"url(#pc871fe3af1)\">\r\n     <use style=\"fill:#440154;\" x=\"188.747844\" xlink:href=\"#C0_0_22f18a2d8a\" y=\"94.157614\"/>\r\n    </g>\r\n    <g clip-path=\"url(#pc871fe3af1)\">\r\n     <use style=\"fill:#440154;\" x=\"193.999432\" xlink:href=\"#C0_0_22f18a2d8a\" y=\"135.728219\"/>\r\n    </g>\r\n    <g clip-path=\"url(#pc871fe3af1)\">\r\n     <use style=\"fill:#fde725;\" x=\"185.912608\" xlink:href=\"#C0_0_22f18a2d8a\" y=\"106.912018\"/>\r\n    </g>\r\n    <g clip-path=\"url(#pc871fe3af1)\">\r\n     <use style=\"fill:#440154;\" x=\"140.126781\" xlink:href=\"#C0_0_22f18a2d8a\" y=\"161.078765\"/>\r\n    </g>\r\n    <g clip-path=\"url(#pc871fe3af1)\">\r\n     <use style=\"fill:#440154;\" x=\"135.049023\" xlink:href=\"#C0_0_22f18a2d8a\" y=\"80.3701\"/>\r\n    </g>\r\n    <g clip-path=\"url(#pc871fe3af1)\">\r\n     <use style=\"fill:#fde725;\" x=\"128.204202\" xlink:href=\"#C0_0_22f18a2d8a\" y=\"143.534886\"/>\r\n    </g>\r\n    <g clip-path=\"url(#pc871fe3af1)\">\r\n     <use style=\"fill:#440154;\" x=\"135.049023\" xlink:href=\"#C0_0_22f18a2d8a\" y=\"159.068338\"/>\r\n    </g>\r\n    <g clip-path=\"url(#pc871fe3af1)\">\r\n     <use style=\"fill:#440154;\" x=\"181.285607\" xlink:href=\"#C0_0_22f18a2d8a\" y=\"86.211139\"/>\r\n    </g>\r\n    <g clip-path=\"url(#pc871fe3af1)\">\r\n     <use style=\"fill:#440154;\" x=\"181.285607\" xlink:href=\"#C0_0_22f18a2d8a\" y=\"153.227299\"/>\r\n    </g>\r\n    <g clip-path=\"url(#pc871fe3af1)\">\r\n     <use style=\"fill:#fde725;\" x=\"119.867917\" xlink:href=\"#C0_0_22f18a2d8a\" y=\"111.067198\"/>\r\n    </g>\r\n    <g clip-path=\"url(#pc871fe3af1)\">\r\n     <use style=\"fill:#440154;\" x=\"111.443568\" xlink:href=\"#C0_0_22f18a2d8a\" y=\"130.534245\"/>\r\n    </g>\r\n    <g clip-path=\"url(#pc871fe3af1)\">\r\n     <use style=\"fill:#440154;\" x=\"121.863925\" xlink:href=\"#C0_0_22f18a2d8a\" y=\"89.949634\"/>\r\n    </g>\r\n    <g clip-path=\"url(#pc871fe3af1)\">\r\n     <use style=\"fill:#fde725;\" x=\"178.926423\" xlink:href=\"#C0_0_22f18a2d8a\" y=\"143.534886\"/>\r\n    </g>\r\n    <g clip-path=\"url(#pc871fe3af1)\">\r\n     <use style=\"fill:#440154;\" x=\"110.077313\" xlink:href=\"#C0_0_22f18a2d8a\" y=\"119.719219\"/>\r\n    </g>\r\n    <g clip-path=\"url(#pc871fe3af1)\">\r\n     <use style=\"fill:#fde725;\" x=\"155.74982\" xlink:href=\"#C0_0_22f18a2d8a\" y=\"84.99747\"/>\r\n    </g>\r\n    <g clip-path=\"url(#pc871fe3af1)\">\r\n     <use style=\"fill:#440154;\" x=\"196.710397\" xlink:href=\"#C0_0_22f18a2d8a\" y=\"125.16971\"/>\r\n    </g>\r\n    <g clip-path=\"url(#pc871fe3af1)\">\r\n     <use style=\"fill:#440154;\" x=\"150.834678\" xlink:href=\"#C0_0_22f18a2d8a\" y=\"76.317032\"/>\r\n    </g>\r\n    <g clip-path=\"url(#pc871fe3af1)\">\r\n     <use style=\"fill:#440154;\" x=\"110.420228\" xlink:href=\"#C0_0_22f18a2d8a\" y=\"114.268727\"/>\r\n    </g>\r\n    <g clip-path=\"url(#pc871fe3af1)\">\r\n     <use style=\"fill:#440154;\" x=\"193.999432\" xlink:href=\"#C0_0_22f18a2d8a\" y=\"103.710218\"/>\r\n    </g>\r\n    <g clip-path=\"url(#pc871fe3af1)\">\r\n     <use style=\"fill:#440154;\" x=\"130.263277\" xlink:href=\"#C0_0_22f18a2d8a\" y=\"83.001086\"/>\r\n    </g>\r\n    <g clip-path=\"url(#pc871fe3af1)\">\r\n     <use style=\"fill:#440154;\" x=\"156.295947\" xlink:href=\"#C0_0_22f18a2d8a\" y=\"163.121405\"/>\r\n    </g>\r\n    <g clip-path=\"url(#pc871fe3af1)\">\r\n     <use style=\"fill:#440154;\" x=\"176.867348\" xlink:href=\"#C0_0_22f18a2d8a\" y=\"83.001086\"/>\r\n    </g>\r\n    <g clip-path=\"url(#pc871fe3af1)\">\r\n     <use style=\"fill:#fde725;\" x=\"123.078253\" xlink:href=\"#C0_0_22f18a2d8a\" y=\"136.479622\"/>\r\n    </g>\r\n    <g clip-path=\"url(#pc871fe3af1)\">\r\n     <use style=\"fill:#440154;\" x=\"185.2667\" xlink:href=\"#C0_0_22f18a2d8a\" y=\"89.949634\"/>\r\n    </g>\r\n    <g clip-path=\"url(#pc871fe3af1)\">\r\n     <use style=\"fill:#fde725;\" x=\"142.814488\" xlink:href=\"#C0_0_22f18a2d8a\" y=\"86.631582\"/>\r\n    </g>\r\n    <g clip-path=\"url(#pc871fe3af1)\">\r\n     <use style=\"fill:#440154;\" x=\"145.416474\" xlink:href=\"#C0_0_22f18a2d8a\" y=\"162.436927\"/>\r\n    </g>\r\n    <g clip-path=\"url(#pc871fe3af1)\">\r\n     <use style=\"fill:#fde725;\" x=\"155.74982\" xlink:href=\"#C0_0_22f18a2d8a\" y=\"154.440968\"/>\r\n    </g>\r\n    <g clip-path=\"url(#pc871fe3af1)\">\r\n     <use style=\"fill:#fde725;\" x=\"178.926423\" xlink:href=\"#C0_0_22f18a2d8a\" y=\"95.903551\"/>\r\n    </g>\r\n    <g clip-path=\"url(#pc871fe3af1)\">\r\n     <use style=\"fill:#fde725;\" x=\"188.08138\" xlink:href=\"#C0_0_22f18a2d8a\" y=\"115.358825\"/>\r\n    </g>\r\n    <g clip-path=\"url(#pc871fe3af1)\">\r\n     <use style=\"fill:#fde725;\" x=\"184.052372\" xlink:href=\"#C0_0_22f18a2d8a\" y=\"102.958816\"/>\r\n    </g>\r\n    <g clip-path=\"url(#pc871fe3af1)\">\r\n     <use style=\"fill:#fde725;\" x=\"188.355713\" xlink:href=\"#C0_0_22f18a2d8a\" y=\"119.719219\"/>\r\n    </g>\r\n    <g clip-path=\"url(#pc871fe3af1)\">\r\n     <use style=\"fill:#fde725;\" x=\"131.389077\" xlink:href=\"#C0_0_22f18a2d8a\" y=\"92.912755\"/>\r\n    </g>\r\n    <g clip-path=\"url(#pc871fe3af1)\">\r\n     <use style=\"fill:#440154;\" x=\"191.674137\" xlink:href=\"#C0_0_22f18a2d8a\" y=\"140.669723\"/>\r\n    </g>\r\n    <g clip-path=\"url(#pc871fe3af1)\">\r\n     <use style=\"fill:#fde725;\" x=\"128.204202\" xlink:href=\"#C0_0_22f18a2d8a\" y=\"95.903551\"/>\r\n    </g>\r\n    <g clip-path=\"url(#pc871fe3af1)\">\r\n     <use style=\"fill:#fde725;\" x=\"160.084383\" xlink:href=\"#C0_0_22f18a2d8a\" y=\"85.545052\"/>\r\n    </g>\r\n    <g clip-path=\"url(#pc871fe3af1)\">\r\n     <use style=\"fill:#fde725;\" x=\"187.262708\" xlink:href=\"#C0_0_22f18a2d8a\" y=\"128.371239\"/>\r\n    </g>\r\n    <g clip-path=\"url(#pc871fe3af1)\">\r\n     <use style=\"fill:#fde725;\" x=\"125.419288\" xlink:href=\"#C0_0_22f18a2d8a\" y=\"140.168503\"/>\r\n    </g>\r\n    <g clip-path=\"url(#pc871fe3af1)\">\r\n     <use style=\"fill:#440154;\" x=\"172.081602\" xlink:href=\"#C0_0_22f18a2d8a\" y=\"159.068338\"/>\r\n    </g>\r\n    <g clip-path=\"url(#pc871fe3af1)\">\r\n     <use style=\"fill:#fde725;\" x=\"172.206941\" xlink:href=\"#C0_0_22f18a2d8a\" y=\"90.344712\"/>\r\n    </g>\r\n    <g clip-path=\"url(#pc871fe3af1)\">\r\n     <use style=\"fill:#440154;\" x=\"195.687057\" xlink:href=\"#C0_0_22f18a2d8a\" y=\"130.534245\"/>\r\n    </g>\r\n    <g clip-path=\"url(#pc871fe3af1)\">\r\n     <use style=\"fill:#fde725;\" x=\"164.316137\" xlink:href=\"#C0_0_22f18a2d8a\" y=\"152.806855\"/>\r\n    </g>\r\n    <g clip-path=\"url(#pc871fe3af1)\">\r\n     <use style=\"fill:#fde725;\" x=\"175.741548\" xlink:href=\"#C0_0_22f18a2d8a\" y=\"92.912755\"/>\r\n    </g>\r\n    <g clip-path=\"url(#pc871fe3af1)\">\r\n     <use style=\"fill:#fde725;\" x=\"118.774912\" xlink:href=\"#C0_0_22f18a2d8a\" y=\"119.719219\"/>\r\n    </g>\r\n    <g clip-path=\"url(#pc871fe3af1)\">\r\n     <use style=\"fill:#440154;\" x=\"125.845018\" xlink:href=\"#C0_0_22f18a2d8a\" y=\"153.227299\"/>\r\n    </g>\r\n    <g clip-path=\"url(#pc871fe3af1)\">\r\n     <use style=\"fill:#fde725;\" x=\"181.711337\" xlink:href=\"#C0_0_22f18a2d8a\" y=\"140.168503\"/>\r\n    </g>\r\n    <g clip-path=\"url(#pc871fe3af1)\">\r\n     <use style=\"fill:#fde725;\" x=\"168.378344\" xlink:href=\"#C0_0_22f18a2d8a\" y=\"88.239924\"/>\r\n    </g>\r\n    <g clip-path=\"url(#pc871fe3af1)\">\r\n     <use style=\"fill:#fde725;\" x=\"151.380805\" xlink:href=\"#C0_0_22f18a2d8a\" y=\"84.99747\"/>\r\n    </g>\r\n    <g clip-path=\"url(#pc871fe3af1)\">\r\n     <use style=\"fill:#fde725;\" x=\"142.814488\" xlink:href=\"#C0_0_22f18a2d8a\" y=\"152.806855\"/>\r\n    </g>\r\n    <g clip-path=\"url(#pc871fe3af1)\">\r\n     <use style=\"fill:#440154;\" x=\"150.834678\" xlink:href=\"#C0_0_22f18a2d8a\" y=\"163.121405\"/>\r\n    </g>\r\n    <g clip-path=\"url(#pc871fe3af1)\">\r\n     <use style=\"fill:#440154;\" x=\"115.456488\" xlink:href=\"#C0_0_22f18a2d8a\" y=\"140.669723\"/>\r\n    </g>\r\n    <g clip-path=\"url(#pc871fe3af1)\">\r\n     <use style=\"fill:#440154;\" x=\"196.710397\" xlink:href=\"#C0_0_22f18a2d8a\" y=\"114.268727\"/>\r\n    </g>\r\n    <g clip-path=\"url(#pc871fe3af1)\">\r\n     <use style=\"fill:#fde725;\" x=\"187.262708\" xlink:href=\"#C0_0_22f18a2d8a\" y=\"111.067198\"/>\r\n    </g>\r\n    <g clip-path=\"url(#pc871fe3af1)\">\r\n     <use style=\"fill:#440154;\" x=\"115.456488\" xlink:href=\"#C0_0_22f18a2d8a\" y=\"98.768715\"/>\r\n    </g>\r\n    <g clip-path=\"url(#pc871fe3af1)\">\r\n     <use style=\"fill:#440154;\" x=\"195.687057\" xlink:href=\"#C0_0_22f18a2d8a\" y=\"108.904193\"/>\r\n    </g>\r\n    <g clip-path=\"url(#pc871fe3af1)\">\r\n     <use style=\"fill:#440154;\" x=\"111.443568\" xlink:href=\"#C0_0_22f18a2d8a\" y=\"108.904193\"/>\r\n    </g>\r\n    <g clip-path=\"url(#pc871fe3af1)\">\r\n     <use style=\"fill:#fde725;\" x=\"151.380805\" xlink:href=\"#C0_0_22f18a2d8a\" y=\"154.440968\"/>\r\n    </g>\r\n    <g clip-path=\"url(#pc871fe3af1)\">\r\n     <use style=\"fill:#fde725;\" x=\"188.08138\" xlink:href=\"#C0_0_22f18a2d8a\" y=\"124.079612\"/>\r\n    </g>\r\n    <g clip-path=\"url(#pc871fe3af1)\">\r\n     <use style=\"fill:#fde725;\" x=\"119.049245\" xlink:href=\"#C0_0_22f18a2d8a\" y=\"115.358825\"/>\r\n    </g>\r\n    <g clip-path=\"url(#pc871fe3af1)\">\r\n     <use style=\"fill:#fde725;\" x=\"147.046242\" xlink:href=\"#C0_0_22f18a2d8a\" y=\"153.893385\"/>\r\n    </g>\r\n    <g clip-path=\"url(#pc871fe3af1)\">\r\n     <use style=\"fill:#fde725;\" x=\"131.389077\" xlink:href=\"#C0_0_22f18a2d8a\" y=\"146.525683\"/>\r\n    </g>\r\n    <g clip-path=\"url(#pc871fe3af1)\">\r\n     <use style=\"fill:#440154;\" x=\"118.382781\" xlink:href=\"#C0_0_22f18a2d8a\" y=\"94.157614\"/>\r\n    </g>\r\n    <g clip-path=\"url(#pc871fe3af1)\">\r\n     <use style=\"fill:#fde725;\" x=\"164.316137\" xlink:href=\"#C0_0_22f18a2d8a\" y=\"86.631582\"/>\r\n    </g>\r\n    <g clip-path=\"url(#pc871fe3af1)\">\r\n     <use style=\"fill:#fde725;\" x=\"123.078253\" xlink:href=\"#C0_0_22f18a2d8a\" y=\"102.958816\"/>\r\n    </g>\r\n    <g clip-path=\"url(#pc871fe3af1)\">\r\n     <use style=\"fill:#440154;\" x=\"145.416474\" xlink:href=\"#C0_0_22f18a2d8a\" y=\"77.001511\"/>\r\n    </g>\r\n    <g clip-path=\"url(#pc871fe3af1)\">\r\n     <use style=\"fill:#fde725;\" x=\"172.206941\" xlink:href=\"#C0_0_22f18a2d8a\" y=\"149.093725\"/>\r\n    </g>\r\n   </g>\r\n   <g id=\"matplotlib.axis_1\">\r\n    <g id=\"xtick_1\">\r\n     <g id=\"line2d_1\">\r\n      <path clip-path=\"url(#pc871fe3af1)\" d=\"M 44.845312 228.439219 \r\nL 44.845312 10.999219 \r\n\" style=\"fill:none;stroke:#b0b0b0;stroke-linecap:square;stroke-width:0.8;\"/>\r\n     </g>\r\n     <g id=\"line2d_2\">\r\n      <defs>\r\n       <path d=\"M 0 0 \r\nL 0 3.5 \r\n\" id=\"me19e9664e2\" style=\"stroke:#000000;stroke-width:0.8;\"/>\r\n      </defs>\r\n      <g>\r\n       <use style=\"stroke:#000000;stroke-width:0.8;\" x=\"44.845312\" xlink:href=\"#me19e9664e2\" y=\"228.439219\"/>\r\n      </g>\r\n     </g>\r\n     <g id=\"text_1\">\r\n      <!-- −10 -->\r\n      <g transform=\"translate(34.292969 243.037656)scale(0.1 -0.1)\">\r\n       <defs>\r\n        <path d=\"M 10.59375 35.5 \r\nL 73.1875 35.5 \r\nL 73.1875 27.203125 \r\nL 10.59375 27.203125 \r\nz\r\n\" id=\"DejaVuSans-8722\"/>\r\n        <path d=\"M 12.40625 8.296875 \r\nL 28.515625 8.296875 \r\nL 28.515625 63.921875 \r\nL 10.984375 60.40625 \r\nL 10.984375 69.390625 \r\nL 28.421875 72.90625 \r\nL 38.28125 72.90625 \r\nL 38.28125 8.296875 \r\nL 54.390625 8.296875 \r\nL 54.390625 0 \r\nL 12.40625 0 \r\nz\r\n\" id=\"DejaVuSans-49\"/>\r\n        <path d=\"M 31.78125 66.40625 \r\nQ 24.171875 66.40625 20.328125 58.90625 \r\nQ 16.5 51.421875 16.5 36.375 \r\nQ 16.5 21.390625 20.328125 13.890625 \r\nQ 24.171875 6.390625 31.78125 6.390625 \r\nQ 39.453125 6.390625 43.28125 13.890625 \r\nQ 47.125 21.390625 47.125 36.375 \r\nQ 47.125 51.421875 43.28125 58.90625 \r\nQ 39.453125 66.40625 31.78125 66.40625 \r\nz\r\nM 31.78125 74.21875 \r\nQ 44.046875 74.21875 50.515625 64.515625 \r\nQ 56.984375 54.828125 56.984375 36.375 \r\nQ 56.984375 17.96875 50.515625 8.265625 \r\nQ 44.046875 -1.421875 31.78125 -1.421875 \r\nQ 19.53125 -1.421875 13.0625 8.265625 \r\nQ 6.59375 17.96875 6.59375 36.375 \r\nQ 6.59375 54.828125 13.0625 64.515625 \r\nQ 19.53125 74.21875 31.78125 74.21875 \r\nz\r\n\" id=\"DejaVuSans-48\"/>\r\n       </defs>\r\n       <use xlink:href=\"#DejaVuSans-8722\"/>\r\n       <use x=\"83.789062\" xlink:href=\"#DejaVuSans-49\"/>\r\n       <use x=\"147.412109\" xlink:href=\"#DejaVuSans-48\"/>\r\n      </g>\r\n     </g>\r\n    </g>\r\n    <g id=\"xtick_2\">\r\n     <g id=\"line2d_3\">\r\n      <path clip-path=\"url(#pc871fe3af1)\" d=\"M 99.205312 228.439219 \r\nL 99.205312 10.999219 \r\n\" style=\"fill:none;stroke:#b0b0b0;stroke-linecap:square;stroke-width:0.8;\"/>\r\n     </g>\r\n     <g id=\"line2d_4\">\r\n      <g>\r\n       <use style=\"stroke:#000000;stroke-width:0.8;\" x=\"99.205312\" xlink:href=\"#me19e9664e2\" y=\"228.439219\"/>\r\n      </g>\r\n     </g>\r\n     <g id=\"text_2\">\r\n      <!-- −5 -->\r\n      <g transform=\"translate(91.834219 243.037656)scale(0.1 -0.1)\">\r\n       <defs>\r\n        <path d=\"M 10.796875 72.90625 \r\nL 49.515625 72.90625 \r\nL 49.515625 64.59375 \r\nL 19.828125 64.59375 \r\nL 19.828125 46.734375 \r\nQ 21.96875 47.46875 24.109375 47.828125 \r\nQ 26.265625 48.1875 28.421875 48.1875 \r\nQ 40.625 48.1875 47.75 41.5 \r\nQ 54.890625 34.8125 54.890625 23.390625 \r\nQ 54.890625 11.625 47.5625 5.09375 \r\nQ 40.234375 -1.421875 26.90625 -1.421875 \r\nQ 22.3125 -1.421875 17.546875 -0.640625 \r\nQ 12.796875 0.140625 7.71875 1.703125 \r\nL 7.71875 11.625 \r\nQ 12.109375 9.234375 16.796875 8.0625 \r\nQ 21.484375 6.890625 26.703125 6.890625 \r\nQ 35.15625 6.890625 40.078125 11.328125 \r\nQ 45.015625 15.765625 45.015625 23.390625 \r\nQ 45.015625 31 40.078125 35.4375 \r\nQ 35.15625 39.890625 26.703125 39.890625 \r\nQ 22.75 39.890625 18.8125 39.015625 \r\nQ 14.890625 38.140625 10.796875 36.28125 \r\nz\r\n\" id=\"DejaVuSans-53\"/>\r\n       </defs>\r\n       <use xlink:href=\"#DejaVuSans-8722\"/>\r\n       <use x=\"83.789062\" xlink:href=\"#DejaVuSans-53\"/>\r\n      </g>\r\n     </g>\r\n    </g>\r\n    <g id=\"xtick_3\">\r\n     <g id=\"line2d_5\">\r\n      <path clip-path=\"url(#pc871fe3af1)\" d=\"M 153.565313 228.439219 \r\nL 153.565313 10.999219 \r\n\" style=\"fill:none;stroke:#b0b0b0;stroke-linecap:square;stroke-width:0.8;\"/>\r\n     </g>\r\n     <g id=\"line2d_6\">\r\n      <g>\r\n       <use style=\"stroke:#000000;stroke-width:0.8;\" x=\"153.565313\" xlink:href=\"#me19e9664e2\" y=\"228.439219\"/>\r\n      </g>\r\n     </g>\r\n     <g id=\"text_3\">\r\n      <!-- 0 -->\r\n      <g transform=\"translate(150.384062 243.037656)scale(0.1 -0.1)\">\r\n       <use xlink:href=\"#DejaVuSans-48\"/>\r\n      </g>\r\n     </g>\r\n    </g>\r\n    <g id=\"xtick_4\">\r\n     <g id=\"line2d_7\">\r\n      <path clip-path=\"url(#pc871fe3af1)\" d=\"M 207.925313 228.439219 \r\nL 207.925313 10.999219 \r\n\" style=\"fill:none;stroke:#b0b0b0;stroke-linecap:square;stroke-width:0.8;\"/>\r\n     </g>\r\n     <g id=\"line2d_8\">\r\n      <g>\r\n       <use style=\"stroke:#000000;stroke-width:0.8;\" x=\"207.925313\" xlink:href=\"#me19e9664e2\" y=\"228.439219\"/>\r\n      </g>\r\n     </g>\r\n     <g id=\"text_4\">\r\n      <!-- 5 -->\r\n      <g transform=\"translate(204.744063 243.037656)scale(0.1 -0.1)\">\r\n       <use xlink:href=\"#DejaVuSans-53\"/>\r\n      </g>\r\n     </g>\r\n    </g>\r\n    <g id=\"xtick_5\">\r\n     <g id=\"line2d_9\">\r\n      <path clip-path=\"url(#pc871fe3af1)\" d=\"M 262.285313 228.439219 \r\nL 262.285313 10.999219 \r\n\" style=\"fill:none;stroke:#b0b0b0;stroke-linecap:square;stroke-width:0.8;\"/>\r\n     </g>\r\n     <g id=\"line2d_10\">\r\n      <g>\r\n       <use style=\"stroke:#000000;stroke-width:0.8;\" x=\"262.285313\" xlink:href=\"#me19e9664e2\" y=\"228.439219\"/>\r\n      </g>\r\n     </g>\r\n     <g id=\"text_5\">\r\n      <!-- 10 -->\r\n      <g transform=\"translate(255.922813 243.037656)scale(0.1 -0.1)\">\r\n       <use xlink:href=\"#DejaVuSans-49\"/>\r\n       <use x=\"63.623047\" xlink:href=\"#DejaVuSans-48\"/>\r\n      </g>\r\n     </g>\r\n    </g>\r\n   </g>\r\n   <g id=\"matplotlib.axis_2\">\r\n    <g id=\"ytick_1\">\r\n     <g id=\"line2d_11\">\r\n      <path clip-path=\"url(#pc871fe3af1)\" d=\"M 44.845313 228.439219 \r\nL 262.285313 228.439219 \r\n\" style=\"fill:none;stroke:#b0b0b0;stroke-linecap:square;stroke-width:0.8;\"/>\r\n     </g>\r\n     <g id=\"line2d_12\">\r\n      <defs>\r\n       <path d=\"M 0 0 \r\nL -3.5 0 \r\n\" id=\"m1e27c1b8b9\" style=\"stroke:#000000;stroke-width:0.8;\"/>\r\n      </defs>\r\n      <g>\r\n       <use style=\"stroke:#000000;stroke-width:0.8;\" x=\"44.845313\" xlink:href=\"#m1e27c1b8b9\" y=\"228.439219\"/>\r\n      </g>\r\n     </g>\r\n     <g id=\"text_6\">\r\n      <!-- −10.0 -->\r\n      <g transform=\"translate(7.2 232.238437)scale(0.1 -0.1)\">\r\n       <defs>\r\n        <path d=\"M 10.6875 12.40625 \r\nL 21 12.40625 \r\nL 21 0 \r\nL 10.6875 0 \r\nz\r\n\" id=\"DejaVuSans-46\"/>\r\n       </defs>\r\n       <use xlink:href=\"#DejaVuSans-8722\"/>\r\n       <use x=\"83.789062\" xlink:href=\"#DejaVuSans-49\"/>\r\n       <use x=\"147.412109\" xlink:href=\"#DejaVuSans-48\"/>\r\n       <use x=\"211.035156\" xlink:href=\"#DejaVuSans-46\"/>\r\n       <use x=\"242.822266\" xlink:href=\"#DejaVuSans-48\"/>\r\n      </g>\r\n     </g>\r\n    </g>\r\n    <g id=\"ytick_2\">\r\n     <g id=\"line2d_13\">\r\n      <path clip-path=\"url(#pc871fe3af1)\" d=\"M 44.845313 201.259219 \r\nL 262.285313 201.259219 \r\n\" style=\"fill:none;stroke:#b0b0b0;stroke-linecap:square;stroke-width:0.8;\"/>\r\n     </g>\r\n     <g id=\"line2d_14\">\r\n      <g>\r\n       <use style=\"stroke:#000000;stroke-width:0.8;\" x=\"44.845313\" xlink:href=\"#m1e27c1b8b9\" y=\"201.259219\"/>\r\n      </g>\r\n     </g>\r\n     <g id=\"text_7\">\r\n      <!-- −7.5 -->\r\n      <g transform=\"translate(13.5625 205.058437)scale(0.1 -0.1)\">\r\n       <defs>\r\n        <path d=\"M 8.203125 72.90625 \r\nL 55.078125 72.90625 \r\nL 55.078125 68.703125 \r\nL 28.609375 0 \r\nL 18.3125 0 \r\nL 43.21875 64.59375 \r\nL 8.203125 64.59375 \r\nz\r\n\" id=\"DejaVuSans-55\"/>\r\n       </defs>\r\n       <use xlink:href=\"#DejaVuSans-8722\"/>\r\n       <use x=\"83.789062\" xlink:href=\"#DejaVuSans-55\"/>\r\n       <use x=\"147.412109\" xlink:href=\"#DejaVuSans-46\"/>\r\n       <use x=\"179.199219\" xlink:href=\"#DejaVuSans-53\"/>\r\n      </g>\r\n     </g>\r\n    </g>\r\n    <g id=\"ytick_3\">\r\n     <g id=\"line2d_15\">\r\n      <path clip-path=\"url(#pc871fe3af1)\" d=\"M 44.845313 174.079219 \r\nL 262.285313 174.079219 \r\n\" style=\"fill:none;stroke:#b0b0b0;stroke-linecap:square;stroke-width:0.8;\"/>\r\n     </g>\r\n     <g id=\"line2d_16\">\r\n      <g>\r\n       <use style=\"stroke:#000000;stroke-width:0.8;\" x=\"44.845313\" xlink:href=\"#m1e27c1b8b9\" y=\"174.079219\"/>\r\n      </g>\r\n     </g>\r\n     <g id=\"text_8\">\r\n      <!-- −5.0 -->\r\n      <g transform=\"translate(13.5625 177.878437)scale(0.1 -0.1)\">\r\n       <use xlink:href=\"#DejaVuSans-8722\"/>\r\n       <use x=\"83.789062\" xlink:href=\"#DejaVuSans-53\"/>\r\n       <use x=\"147.412109\" xlink:href=\"#DejaVuSans-46\"/>\r\n       <use x=\"179.199219\" xlink:href=\"#DejaVuSans-48\"/>\r\n      </g>\r\n     </g>\r\n    </g>\r\n    <g id=\"ytick_4\">\r\n     <g id=\"line2d_17\">\r\n      <path clip-path=\"url(#pc871fe3af1)\" d=\"M 44.845313 146.899219 \r\nL 262.285313 146.899219 \r\n\" style=\"fill:none;stroke:#b0b0b0;stroke-linecap:square;stroke-width:0.8;\"/>\r\n     </g>\r\n     <g id=\"line2d_18\">\r\n      <g>\r\n       <use style=\"stroke:#000000;stroke-width:0.8;\" x=\"44.845313\" xlink:href=\"#m1e27c1b8b9\" y=\"146.899219\"/>\r\n      </g>\r\n     </g>\r\n     <g id=\"text_9\">\r\n      <!-- −2.5 -->\r\n      <g transform=\"translate(13.5625 150.698437)scale(0.1 -0.1)\">\r\n       <defs>\r\n        <path d=\"M 19.1875 8.296875 \r\nL 53.609375 8.296875 \r\nL 53.609375 0 \r\nL 7.328125 0 \r\nL 7.328125 8.296875 \r\nQ 12.9375 14.109375 22.625 23.890625 \r\nQ 32.328125 33.6875 34.8125 36.53125 \r\nQ 39.546875 41.84375 41.421875 45.53125 \r\nQ 43.3125 49.21875 43.3125 52.78125 \r\nQ 43.3125 58.59375 39.234375 62.25 \r\nQ 35.15625 65.921875 28.609375 65.921875 \r\nQ 23.96875 65.921875 18.8125 64.3125 \r\nQ 13.671875 62.703125 7.8125 59.421875 \r\nL 7.8125 69.390625 \r\nQ 13.765625 71.78125 18.9375 73 \r\nQ 24.125 74.21875 28.421875 74.21875 \r\nQ 39.75 74.21875 46.484375 68.546875 \r\nQ 53.21875 62.890625 53.21875 53.421875 \r\nQ 53.21875 48.921875 51.53125 44.890625 \r\nQ 49.859375 40.875 45.40625 35.40625 \r\nQ 44.1875 33.984375 37.640625 27.21875 \r\nQ 31.109375 20.453125 19.1875 8.296875 \r\nz\r\n\" id=\"DejaVuSans-50\"/>\r\n       </defs>\r\n       <use xlink:href=\"#DejaVuSans-8722\"/>\r\n       <use x=\"83.789062\" xlink:href=\"#DejaVuSans-50\"/>\r\n       <use x=\"147.412109\" xlink:href=\"#DejaVuSans-46\"/>\r\n       <use x=\"179.199219\" xlink:href=\"#DejaVuSans-53\"/>\r\n      </g>\r\n     </g>\r\n    </g>\r\n    <g id=\"ytick_5\">\r\n     <g id=\"line2d_19\">\r\n      <path clip-path=\"url(#pc871fe3af1)\" d=\"M 44.845313 119.719219 \r\nL 262.285313 119.719219 \r\n\" style=\"fill:none;stroke:#b0b0b0;stroke-linecap:square;stroke-width:0.8;\"/>\r\n     </g>\r\n     <g id=\"line2d_20\">\r\n      <g>\r\n       <use style=\"stroke:#000000;stroke-width:0.8;\" x=\"44.845313\" xlink:href=\"#m1e27c1b8b9\" y=\"119.719219\"/>\r\n      </g>\r\n     </g>\r\n     <g id=\"text_10\">\r\n      <!-- 0.0 -->\r\n      <g transform=\"translate(21.942188 123.518437)scale(0.1 -0.1)\">\r\n       <use xlink:href=\"#DejaVuSans-48\"/>\r\n       <use x=\"63.623047\" xlink:href=\"#DejaVuSans-46\"/>\r\n       <use x=\"95.410156\" xlink:href=\"#DejaVuSans-48\"/>\r\n      </g>\r\n     </g>\r\n    </g>\r\n    <g id=\"ytick_6\">\r\n     <g id=\"line2d_21\">\r\n      <path clip-path=\"url(#pc871fe3af1)\" d=\"M 44.845313 92.539219 \r\nL 262.285313 92.539219 \r\n\" style=\"fill:none;stroke:#b0b0b0;stroke-linecap:square;stroke-width:0.8;\"/>\r\n     </g>\r\n     <g id=\"line2d_22\">\r\n      <g>\r\n       <use style=\"stroke:#000000;stroke-width:0.8;\" x=\"44.845313\" xlink:href=\"#m1e27c1b8b9\" y=\"92.539219\"/>\r\n      </g>\r\n     </g>\r\n     <g id=\"text_11\">\r\n      <!-- 2.5 -->\r\n      <g transform=\"translate(21.942188 96.338437)scale(0.1 -0.1)\">\r\n       <use xlink:href=\"#DejaVuSans-50\"/>\r\n       <use x=\"63.623047\" xlink:href=\"#DejaVuSans-46\"/>\r\n       <use x=\"95.410156\" xlink:href=\"#DejaVuSans-53\"/>\r\n      </g>\r\n     </g>\r\n    </g>\r\n    <g id=\"ytick_7\">\r\n     <g id=\"line2d_23\">\r\n      <path clip-path=\"url(#pc871fe3af1)\" d=\"M 44.845313 65.359219 \r\nL 262.285313 65.359219 \r\n\" style=\"fill:none;stroke:#b0b0b0;stroke-linecap:square;stroke-width:0.8;\"/>\r\n     </g>\r\n     <g id=\"line2d_24\">\r\n      <g>\r\n       <use style=\"stroke:#000000;stroke-width:0.8;\" x=\"44.845313\" xlink:href=\"#m1e27c1b8b9\" y=\"65.359219\"/>\r\n      </g>\r\n     </g>\r\n     <g id=\"text_12\">\r\n      <!-- 5.0 -->\r\n      <g transform=\"translate(21.942188 69.158437)scale(0.1 -0.1)\">\r\n       <use xlink:href=\"#DejaVuSans-53\"/>\r\n       <use x=\"63.623047\" xlink:href=\"#DejaVuSans-46\"/>\r\n       <use x=\"95.410156\" xlink:href=\"#DejaVuSans-48\"/>\r\n      </g>\r\n     </g>\r\n    </g>\r\n    <g id=\"ytick_8\">\r\n     <g id=\"line2d_25\">\r\n      <path clip-path=\"url(#pc871fe3af1)\" d=\"M 44.845313 38.179219 \r\nL 262.285313 38.179219 \r\n\" style=\"fill:none;stroke:#b0b0b0;stroke-linecap:square;stroke-width:0.8;\"/>\r\n     </g>\r\n     <g id=\"line2d_26\">\r\n      <g>\r\n       <use style=\"stroke:#000000;stroke-width:0.8;\" x=\"44.845313\" xlink:href=\"#m1e27c1b8b9\" y=\"38.179219\"/>\r\n      </g>\r\n     </g>\r\n     <g id=\"text_13\">\r\n      <!-- 7.5 -->\r\n      <g transform=\"translate(21.942188 41.978437)scale(0.1 -0.1)\">\r\n       <use xlink:href=\"#DejaVuSans-55\"/>\r\n       <use x=\"63.623047\" xlink:href=\"#DejaVuSans-46\"/>\r\n       <use x=\"95.410156\" xlink:href=\"#DejaVuSans-53\"/>\r\n      </g>\r\n     </g>\r\n    </g>\r\n    <g id=\"ytick_9\">\r\n     <g id=\"line2d_27\">\r\n      <path clip-path=\"url(#pc871fe3af1)\" d=\"M 44.845313 10.999219 \r\nL 262.285313 10.999219 \r\n\" style=\"fill:none;stroke:#b0b0b0;stroke-linecap:square;stroke-width:0.8;\"/>\r\n     </g>\r\n     <g id=\"line2d_28\">\r\n      <g>\r\n       <use style=\"stroke:#000000;stroke-width:0.8;\" x=\"44.845313\" xlink:href=\"#m1e27c1b8b9\" y=\"10.999219\"/>\r\n      </g>\r\n     </g>\r\n     <g id=\"text_14\">\r\n      <!-- 10.0 -->\r\n      <g transform=\"translate(15.579688 14.798437)scale(0.1 -0.1)\">\r\n       <use xlink:href=\"#DejaVuSans-49\"/>\r\n       <use x=\"63.623047\" xlink:href=\"#DejaVuSans-48\"/>\r\n       <use x=\"127.246094\" xlink:href=\"#DejaVuSans-46\"/>\r\n       <use x=\"159.033203\" xlink:href=\"#DejaVuSans-48\"/>\r\n      </g>\r\n     </g>\r\n    </g>\r\n   </g>\r\n   <g id=\"patch_3\">\r\n    <path d=\"M 44.845313 228.439219 \r\nL 44.845313 10.999219 \r\n\" style=\"fill:none;stroke:#000000;stroke-linecap:square;stroke-linejoin:miter;stroke-width:0.8;\"/>\r\n   </g>\r\n   <g id=\"patch_4\">\r\n    <path d=\"M 262.285313 228.439219 \r\nL 262.285313 10.999219 \r\n\" style=\"fill:none;stroke:#000000;stroke-linecap:square;stroke-linejoin:miter;stroke-width:0.8;\"/>\r\n   </g>\r\n   <g id=\"patch_5\">\r\n    <path d=\"M 44.845312 228.439219 \r\nL 262.285313 228.439219 \r\n\" style=\"fill:none;stroke:#000000;stroke-linecap:square;stroke-linejoin:miter;stroke-width:0.8;\"/>\r\n   </g>\r\n   <g id=\"patch_6\">\r\n    <path d=\"M 44.845312 10.999219 \r\nL 262.285313 10.999219 \r\n\" style=\"fill:none;stroke:#000000;stroke-linecap:square;stroke-linejoin:miter;stroke-width:0.8;\"/>\r\n   </g>\r\n  </g>\r\n </g>\r\n <defs>\r\n  <clipPath id=\"pc871fe3af1\">\r\n   <rect height=\"217.44\" width=\"217.44\" x=\"44.845313\" y=\"10.999219\"/>\r\n  </clipPath>\r\n </defs>\r\n</svg>\r\n",
      "image/png": "[encoded data removed]"
     },
     "metadata": {
      "needs_background": "light"
     }
    }
   ],
   "metadata": {}
  },
  {
   "cell_type": "markdown",
   "source": [
    "3. How can we choose the learning rate?\n",
    "\n",
    "You can try different ones. Common choices are 0.1, 0.01.\n"
   ],
   "metadata": {}
  },
  {
   "cell_type": "markdown",
   "source": [
    "4. Could we see some code? \n",
    "\n",
    "Yes sure.\n",
    "\n",
    "We need:\n",
    "\n",
    "- labeled input data\n",
    "- a learning rate\n",
    "- some weights\n"
   ],
   "metadata": {}
  },
  {
   "cell_type": "code",
   "execution_count": 32,
   "source": [
    "eta = 0.1\r\n",
    "input_data = [(np.array([0, 1, 1]), 1), (np.array([1, 0, 0]), 1),\r\n",
    "              (np.array([0, 1, 0]), 0), (np.array([1, 0, 0]), 1), \r\n",
    "              (np.array([0, 1, 1]), 1)]\r\n",
    "train = input_data[:-1]\r\n",
    "test = input_data[-1]\r\n",
    "weights = np.zeros(3)\r\n",
    "bias = 0\r\n",
    "max_iter = 10\r\n",
    "\r\n",
    "def perceptron(train, weights, bias, eta, max_iter):\r\n",
    "    it = 0\r\n",
    "    while it < max_iter: \r\n",
    "        new_weights = weights\r\n",
    "        new_bias = bias\r\n",
    "        for sample in train:\r\n",
    "            output = np.dot(weights, sample[0]) + bias \r\n",
    "            if output <= 0:\r\n",
    "                output = 0\r\n",
    "            else:\r\n",
    "                output = 1\r\n",
    "            if (sample[1] - output) != 0:\r\n",
    "                \r\n",
    "                weights += eta*(sample[1] - output)*sample[0]\r\n",
    "                bias += eta*(sample[1] - output)\r\n",
    "        if new_weights.all() == weights.all() and new_bias == bias:\r\n",
    "            print(f\"Convergence achieved at iteration {it}\")\r\n",
    "            break\r\n",
    "        it += 1\r\n",
    "        \r\n",
    "    return weights, bias"
   ],
   "outputs": [],
   "metadata": {}
  },
  {
   "cell_type": "code",
   "execution_count": 33,
   "source": [
    "weights, bias = perceptron(train, weights, bias, eta, max_iter)"
   ],
   "outputs": [
    {
     "output_type": "stream",
     "name": "stdout",
     "text": [
      "Convergence achieved at iteration 2\n"
     ]
    }
   ],
   "metadata": {}
  },
  {
   "cell_type": "markdown",
   "source": [
    "Testing it one the test data:"
   ],
   "metadata": {}
  },
  {
   "cell_type": "code",
   "execution_count": 34,
   "source": [
    "np.dot(weights, test[0])+bias"
   ],
   "outputs": [
    {
     "output_type": "execute_result",
     "data": {
      "text/plain": [
       "0.1"
      ]
     },
     "metadata": {},
     "execution_count": 34
    }
   ],
   "metadata": {}
  },
  {
   "cell_type": "markdown",
   "source": [
    "that is positive, so it will be classified as 1.\n",
    "What about the rest in the training set?"
   ],
   "metadata": {}
  },
  {
   "cell_type": "code",
   "execution_count": 41,
   "source": [
    "train_titles = [\"Titanic\", \"Avengers: Endgame\", \"I still believe\", \"Spiderman\"]\r\n",
    "for i, sample in enumerate(train):\r\n",
    "    output = np.dot(weights, sample[0]) + bias\r\n",
    "    print(train_titles[i], \"predicted:\", int(output>0), \"true label:\", sample[1])"
   ],
   "outputs": [
    {
     "output_type": "stream",
     "name": "stdout",
     "text": [
      "Titanic predicted: 1 true label: 1\n",
      "Avengers: Endgame predicted: 1 true label: 1\n",
      "I still believe predicted: 0 true label: 0\n",
      "Spiderman predicted: 1 true label: 1\n"
     ]
    }
   ],
   "metadata": {}
  },
  {
   "cell_type": "markdown",
   "source": [
    "That is correct for all of them!"
   ],
   "metadata": {}
  },
  {
   "cell_type": "markdown",
   "source": [
    "What about non-linearly separable data? A classical example where the perceptron fails to converge to a solution that correctly classifies all the training data is the XOR problem.\n",
    "\n",
    "You know that the table truth of the XOR is:\n",
    "\n",
    "| A | B | A xor B |\n",
    "|---|---|---|\n",
    "| 0 | 0 | 0 |\n",
    "| 0 | 1 | 1 |\n",
    "| 1 | 0 | 1 |\n",
    "| 1 | 1 | 0 |\n",
    "\n",
    "That is \"XOR is true if and only if ONLY one of the two statements is true\".\n",
    "\n",
    "![image](https://miro.medium.com/max/1400/1*E7YhKsJ2wb-VdeXpg89lvg.png)\n"
   ],
   "metadata": {}
  },
  {
   "cell_type": "markdown",
   "source": [
    "As you can see in the picture, solving the equations for all the cases lead to an impossible solution:\n",
    "\n",
    "- Since $w_{0}$ is negative ($w_{0}<0$) it means that $-w_{0}$ is positive.\n",
    "- the 2nd and the 3rd lines says that both $w2$ and $w1$ are bigger than $-w_{0}$, so they are bigger than a positive number $\\rightarrow$ they are both positive\n",
    "- the sum of two positive number is obviously greater than the individuals (say 5+4 >5 and >4). So, the sum $w_{1}+w_{2}$ must be greater than $w_{1}$ and greater than $w_{2}$, and both should be greater than $-w_{0}$: the last row is a contraddiction with the 2nd and the 3rd!\n",
    "\n",
    "Let' test it with code!"
   ],
   "metadata": {}
  },
  {
   "cell_type": "code",
   "execution_count": 44,
   "source": [
    "xor = [(np.array([0,0]),0), (np.array([0,1]),1), (np.array([1,0]),1), (np.array([1,1]),0)]"
   ],
   "outputs": [],
   "metadata": {}
  },
  {
   "cell_type": "code",
   "execution_count": 53,
   "source": [
    "w_xor, b_xor = perceptron(xor, np.random.rand(2), bias=0, eta=0.1, max_iter=1000)"
   ],
   "outputs": [
    {
     "output_type": "stream",
     "name": "stdout",
     "text": [
      "Convergence achieved at iteration 1\n"
     ]
    }
   ],
   "metadata": {}
  },
  {
   "cell_type": "code",
   "execution_count": 56,
   "source": [
    "for i, sample in enumerate(xor):\r\n",
    "    output = np.dot(w_xor, sample[0]) + b_xor\r\n",
    "    print(\"predicted:\", int(output>0), \"true label:\", sample[1])"
   ],
   "outputs": [
    {
     "output_type": "stream",
     "name": "stdout",
     "text": [
      "predicted: 0 true label: 0\n",
      "predicted: 1 true label: 1\n",
      "predicted: 0 true label: 1\n",
      "predicted: 1 true label: 0\n"
     ]
    }
   ],
   "metadata": {}
  },
  {
   "cell_type": "markdown",
   "source": [
    "As you can see, two of them have been misclassified!"
   ],
   "metadata": {}
  },
  {
   "cell_type": "markdown",
   "source": [
    "## Improve the activation function\r\n",
    "\r\n",
    "Till now we have used the step function $$ g(\\mathbf{x})=\\begin{cases}\r\n",
    "          1, & \\text{if}\\ \\mathbf{wx}+\\mathbf{b}>0 \\\\\r\n",
    "          0, & \\text{otherwise}\r\n",
    "            \\end{cases}\r\n",
    "$$\r\n",
    "as activation function. Can we do better?\r\n",
    "\r\n"
   ],
   "metadata": {}
  },
  {
   "cell_type": "code",
   "execution_count": 60,
   "source": [
    "plt.step([-1, 0,1], [0, 0,1])"
   ],
   "outputs": [
    {
     "output_type": "execute_result",
     "data": {
      "text/plain": [
       "[<matplotlib.lines.Line2D at 0x220c66d5fd0>]"
      ]
     },
     "metadata": {},
     "execution_count": 60
    },
    {
     "output_type": "display_data",
     "data": {
      "text/plain": [
       "<Figure size 432x288 with 1 Axes>"
      ],
      "image/svg+xml": "<?xml version=\"1.0\" encoding=\"utf-8\" standalone=\"no\"?>\r\n<!DOCTYPE svg PUBLIC \"-//W3C//DTD SVG 1.1//EN\"\r\n  \"http://www.w3.org/Graphics/SVG/1.1/DTD/svg11.dtd\">\r\n<!-- Created with matplotlib (https://matplotlib.org/) -->\r\n<svg height=\"248.518125pt\" version=\"1.1\" viewBox=\"0 0 372.103125 248.518125\" width=\"372.103125pt\" xmlns=\"http://www.w3.org/2000/svg\" xmlns:xlink=\"http://www.w3.org/1999/xlink\">\r\n <metadata>\r\n  <rdf:RDF xmlns:cc=\"http://creativecommons.org/ns#\" xmlns:dc=\"http://purl.org/dc/elements/1.1/\" xmlns:rdf=\"http://www.w3.org/1999/02/22-rdf-syntax-ns#\">\r\n   <cc:Work>\r\n    <dc:type rdf:resource=\"http://purl.org/dc/dcmitype/StillImage\"/>\r\n    <dc:date>2021-08-18T09:20:03.543794</dc:date>\r\n    <dc:format>image/svg+xml</dc:format>\r\n    <dc:creator>\r\n     <cc:Agent>\r\n      <dc:title>Matplotlib v3.3.4, https://matplotlib.org/</dc:title>\r\n     </cc:Agent>\r\n    </dc:creator>\r\n   </cc:Work>\r\n  </rdf:RDF>\r\n </metadata>\r\n <defs>\r\n  <style type=\"text/css\">*{stroke-linecap:butt;stroke-linejoin:round;}</style>\r\n </defs>\r\n <g id=\"figure_1\">\r\n  <g id=\"patch_1\">\r\n   <path d=\"M 0 248.518125 \r\nL 372.103125 248.518125 \r\nL 372.103125 0 \r\nL 0 0 \r\nz\r\n\" style=\"fill:none;\"/>\r\n  </g>\r\n  <g id=\"axes_1\">\r\n   <g id=\"patch_2\">\r\n    <path d=\"M 30.103125 224.64 \r\nL 364.903125 224.64 \r\nL 364.903125 7.2 \r\nL 30.103125 7.2 \r\nz\r\n\" style=\"fill:#ffffff;\"/>\r\n   </g>\r\n   <g id=\"matplotlib.axis_1\">\r\n    <g id=\"xtick_1\">\r\n     <g id=\"line2d_1\">\r\n      <defs>\r\n       <path d=\"M 0 0 \r\nL 0 3.5 \r\n\" id=\"m9d27e6bf5a\" style=\"stroke:#000000;stroke-width:0.8;\"/>\r\n      </defs>\r\n      <g>\r\n       <use style=\"stroke:#000000;stroke-width:0.8;\" x=\"45.321307\" xlink:href=\"#m9d27e6bf5a\" y=\"224.64\"/>\r\n      </g>\r\n     </g>\r\n     <g id=\"text_1\">\r\n      <!-- −1.00 -->\r\n      <g transform=\"translate(29.998651 239.238437)scale(0.1 -0.1)\">\r\n       <defs>\r\n        <path d=\"M 10.59375 35.5 \r\nL 73.1875 35.5 \r\nL 73.1875 27.203125 \r\nL 10.59375 27.203125 \r\nz\r\n\" id=\"DejaVuSans-8722\"/>\r\n        <path d=\"M 12.40625 8.296875 \r\nL 28.515625 8.296875 \r\nL 28.515625 63.921875 \r\nL 10.984375 60.40625 \r\nL 10.984375 69.390625 \r\nL 28.421875 72.90625 \r\nL 38.28125 72.90625 \r\nL 38.28125 8.296875 \r\nL 54.390625 8.296875 \r\nL 54.390625 0 \r\nL 12.40625 0 \r\nz\r\n\" id=\"DejaVuSans-49\"/>\r\n        <path d=\"M 10.6875 12.40625 \r\nL 21 12.40625 \r\nL 21 0 \r\nL 10.6875 0 \r\nz\r\n\" id=\"DejaVuSans-46\"/>\r\n        <path d=\"M 31.78125 66.40625 \r\nQ 24.171875 66.40625 20.328125 58.90625 \r\nQ 16.5 51.421875 16.5 36.375 \r\nQ 16.5 21.390625 20.328125 13.890625 \r\nQ 24.171875 6.390625 31.78125 6.390625 \r\nQ 39.453125 6.390625 43.28125 13.890625 \r\nQ 47.125 21.390625 47.125 36.375 \r\nQ 47.125 51.421875 43.28125 58.90625 \r\nQ 39.453125 66.40625 31.78125 66.40625 \r\nz\r\nM 31.78125 74.21875 \r\nQ 44.046875 74.21875 50.515625 64.515625 \r\nQ 56.984375 54.828125 56.984375 36.375 \r\nQ 56.984375 17.96875 50.515625 8.265625 \r\nQ 44.046875 -1.421875 31.78125 -1.421875 \r\nQ 19.53125 -1.421875 13.0625 8.265625 \r\nQ 6.59375 17.96875 6.59375 36.375 \r\nQ 6.59375 54.828125 13.0625 64.515625 \r\nQ 19.53125 74.21875 31.78125 74.21875 \r\nz\r\n\" id=\"DejaVuSans-48\"/>\r\n       </defs>\r\n       <use xlink:href=\"#DejaVuSans-8722\"/>\r\n       <use x=\"83.789062\" xlink:href=\"#DejaVuSans-49\"/>\r\n       <use x=\"147.412109\" xlink:href=\"#DejaVuSans-46\"/>\r\n       <use x=\"179.199219\" xlink:href=\"#DejaVuSans-48\"/>\r\n       <use x=\"242.822266\" xlink:href=\"#DejaVuSans-48\"/>\r\n      </g>\r\n     </g>\r\n    </g>\r\n    <g id=\"xtick_2\">\r\n     <g id=\"line2d_2\">\r\n      <g>\r\n       <use style=\"stroke:#000000;stroke-width:0.8;\" x=\"83.366761\" xlink:href=\"#m9d27e6bf5a\" y=\"224.64\"/>\r\n      </g>\r\n     </g>\r\n     <g id=\"text_2\">\r\n      <!-- −0.75 -->\r\n      <g transform=\"translate(68.044105 239.238437)scale(0.1 -0.1)\">\r\n       <defs>\r\n        <path d=\"M 8.203125 72.90625 \r\nL 55.078125 72.90625 \r\nL 55.078125 68.703125 \r\nL 28.609375 0 \r\nL 18.3125 0 \r\nL 43.21875 64.59375 \r\nL 8.203125 64.59375 \r\nz\r\n\" id=\"DejaVuSans-55\"/>\r\n        <path d=\"M 10.796875 72.90625 \r\nL 49.515625 72.90625 \r\nL 49.515625 64.59375 \r\nL 19.828125 64.59375 \r\nL 19.828125 46.734375 \r\nQ 21.96875 47.46875 24.109375 47.828125 \r\nQ 26.265625 48.1875 28.421875 48.1875 \r\nQ 40.625 48.1875 47.75 41.5 \r\nQ 54.890625 34.8125 54.890625 23.390625 \r\nQ 54.890625 11.625 47.5625 5.09375 \r\nQ 40.234375 -1.421875 26.90625 -1.421875 \r\nQ 22.3125 -1.421875 17.546875 -0.640625 \r\nQ 12.796875 0.140625 7.71875 1.703125 \r\nL 7.71875 11.625 \r\nQ 12.109375 9.234375 16.796875 8.0625 \r\nQ 21.484375 6.890625 26.703125 6.890625 \r\nQ 35.15625 6.890625 40.078125 11.328125 \r\nQ 45.015625 15.765625 45.015625 23.390625 \r\nQ 45.015625 31 40.078125 35.4375 \r\nQ 35.15625 39.890625 26.703125 39.890625 \r\nQ 22.75 39.890625 18.8125 39.015625 \r\nQ 14.890625 38.140625 10.796875 36.28125 \r\nz\r\n\" id=\"DejaVuSans-53\"/>\r\n       </defs>\r\n       <use xlink:href=\"#DejaVuSans-8722\"/>\r\n       <use x=\"83.789062\" xlink:href=\"#DejaVuSans-48\"/>\r\n       <use x=\"147.412109\" xlink:href=\"#DejaVuSans-46\"/>\r\n       <use x=\"179.199219\" xlink:href=\"#DejaVuSans-55\"/>\r\n       <use x=\"242.822266\" xlink:href=\"#DejaVuSans-53\"/>\r\n      </g>\r\n     </g>\r\n    </g>\r\n    <g id=\"xtick_3\">\r\n     <g id=\"line2d_3\">\r\n      <g>\r\n       <use style=\"stroke:#000000;stroke-width:0.8;\" x=\"121.412216\" xlink:href=\"#m9d27e6bf5a\" y=\"224.64\"/>\r\n      </g>\r\n     </g>\r\n     <g id=\"text_3\">\r\n      <!-- −0.50 -->\r\n      <g transform=\"translate(106.08956 239.238437)scale(0.1 -0.1)\">\r\n       <use xlink:href=\"#DejaVuSans-8722\"/>\r\n       <use x=\"83.789062\" xlink:href=\"#DejaVuSans-48\"/>\r\n       <use x=\"147.412109\" xlink:href=\"#DejaVuSans-46\"/>\r\n       <use x=\"179.199219\" xlink:href=\"#DejaVuSans-53\"/>\r\n       <use x=\"242.822266\" xlink:href=\"#DejaVuSans-48\"/>\r\n      </g>\r\n     </g>\r\n    </g>\r\n    <g id=\"xtick_4\">\r\n     <g id=\"line2d_4\">\r\n      <g>\r\n       <use style=\"stroke:#000000;stroke-width:0.8;\" x=\"159.45767\" xlink:href=\"#m9d27e6bf5a\" y=\"224.64\"/>\r\n      </g>\r\n     </g>\r\n     <g id=\"text_4\">\r\n      <!-- −0.25 -->\r\n      <g transform=\"translate(144.135014 239.238437)scale(0.1 -0.1)\">\r\n       <defs>\r\n        <path d=\"M 19.1875 8.296875 \r\nL 53.609375 8.296875 \r\nL 53.609375 0 \r\nL 7.328125 0 \r\nL 7.328125 8.296875 \r\nQ 12.9375 14.109375 22.625 23.890625 \r\nQ 32.328125 33.6875 34.8125 36.53125 \r\nQ 39.546875 41.84375 41.421875 45.53125 \r\nQ 43.3125 49.21875 43.3125 52.78125 \r\nQ 43.3125 58.59375 39.234375 62.25 \r\nQ 35.15625 65.921875 28.609375 65.921875 \r\nQ 23.96875 65.921875 18.8125 64.3125 \r\nQ 13.671875 62.703125 7.8125 59.421875 \r\nL 7.8125 69.390625 \r\nQ 13.765625 71.78125 18.9375 73 \r\nQ 24.125 74.21875 28.421875 74.21875 \r\nQ 39.75 74.21875 46.484375 68.546875 \r\nQ 53.21875 62.890625 53.21875 53.421875 \r\nQ 53.21875 48.921875 51.53125 44.890625 \r\nQ 49.859375 40.875 45.40625 35.40625 \r\nQ 44.1875 33.984375 37.640625 27.21875 \r\nQ 31.109375 20.453125 19.1875 8.296875 \r\nz\r\n\" id=\"DejaVuSans-50\"/>\r\n       </defs>\r\n       <use xlink:href=\"#DejaVuSans-8722\"/>\r\n       <use x=\"83.789062\" xlink:href=\"#DejaVuSans-48\"/>\r\n       <use x=\"147.412109\" xlink:href=\"#DejaVuSans-46\"/>\r\n       <use x=\"179.199219\" xlink:href=\"#DejaVuSans-50\"/>\r\n       <use x=\"242.822266\" xlink:href=\"#DejaVuSans-53\"/>\r\n      </g>\r\n     </g>\r\n    </g>\r\n    <g id=\"xtick_5\">\r\n     <g id=\"line2d_5\">\r\n      <g>\r\n       <use style=\"stroke:#000000;stroke-width:0.8;\" x=\"197.503125\" xlink:href=\"#m9d27e6bf5a\" y=\"224.64\"/>\r\n      </g>\r\n     </g>\r\n     <g id=\"text_5\">\r\n      <!-- 0.00 -->\r\n      <g transform=\"translate(186.370313 239.238437)scale(0.1 -0.1)\">\r\n       <use xlink:href=\"#DejaVuSans-48\"/>\r\n       <use x=\"63.623047\" xlink:href=\"#DejaVuSans-46\"/>\r\n       <use x=\"95.410156\" xlink:href=\"#DejaVuSans-48\"/>\r\n       <use x=\"159.033203\" xlink:href=\"#DejaVuSans-48\"/>\r\n      </g>\r\n     </g>\r\n    </g>\r\n    <g id=\"xtick_6\">\r\n     <g id=\"line2d_6\">\r\n      <g>\r\n       <use style=\"stroke:#000000;stroke-width:0.8;\" x=\"235.54858\" xlink:href=\"#m9d27e6bf5a\" y=\"224.64\"/>\r\n      </g>\r\n     </g>\r\n     <g id=\"text_6\">\r\n      <!-- 0.25 -->\r\n      <g transform=\"translate(224.415767 239.238437)scale(0.1 -0.1)\">\r\n       <use xlink:href=\"#DejaVuSans-48\"/>\r\n       <use x=\"63.623047\" xlink:href=\"#DejaVuSans-46\"/>\r\n       <use x=\"95.410156\" xlink:href=\"#DejaVuSans-50\"/>\r\n       <use x=\"159.033203\" xlink:href=\"#DejaVuSans-53\"/>\r\n      </g>\r\n     </g>\r\n    </g>\r\n    <g id=\"xtick_7\">\r\n     <g id=\"line2d_7\">\r\n      <g>\r\n       <use style=\"stroke:#000000;stroke-width:0.8;\" x=\"273.594034\" xlink:href=\"#m9d27e6bf5a\" y=\"224.64\"/>\r\n      </g>\r\n     </g>\r\n     <g id=\"text_7\">\r\n      <!-- 0.50 -->\r\n      <g transform=\"translate(262.461222 239.238437)scale(0.1 -0.1)\">\r\n       <use xlink:href=\"#DejaVuSans-48\"/>\r\n       <use x=\"63.623047\" xlink:href=\"#DejaVuSans-46\"/>\r\n       <use x=\"95.410156\" xlink:href=\"#DejaVuSans-53\"/>\r\n       <use x=\"159.033203\" xlink:href=\"#DejaVuSans-48\"/>\r\n      </g>\r\n     </g>\r\n    </g>\r\n    <g id=\"xtick_8\">\r\n     <g id=\"line2d_8\">\r\n      <g>\r\n       <use style=\"stroke:#000000;stroke-width:0.8;\" x=\"311.639489\" xlink:href=\"#m9d27e6bf5a\" y=\"224.64\"/>\r\n      </g>\r\n     </g>\r\n     <g id=\"text_8\">\r\n      <!-- 0.75 -->\r\n      <g transform=\"translate(300.506676 239.238437)scale(0.1 -0.1)\">\r\n       <use xlink:href=\"#DejaVuSans-48\"/>\r\n       <use x=\"63.623047\" xlink:href=\"#DejaVuSans-46\"/>\r\n       <use x=\"95.410156\" xlink:href=\"#DejaVuSans-55\"/>\r\n       <use x=\"159.033203\" xlink:href=\"#DejaVuSans-53\"/>\r\n      </g>\r\n     </g>\r\n    </g>\r\n    <g id=\"xtick_9\">\r\n     <g id=\"line2d_9\">\r\n      <g>\r\n       <use style=\"stroke:#000000;stroke-width:0.8;\" x=\"349.684943\" xlink:href=\"#m9d27e6bf5a\" y=\"224.64\"/>\r\n      </g>\r\n     </g>\r\n     <g id=\"text_9\">\r\n      <!-- 1.00 -->\r\n      <g transform=\"translate(338.552131 239.238437)scale(0.1 -0.1)\">\r\n       <use xlink:href=\"#DejaVuSans-49\"/>\r\n       <use x=\"63.623047\" xlink:href=\"#DejaVuSans-46\"/>\r\n       <use x=\"95.410156\" xlink:href=\"#DejaVuSans-48\"/>\r\n       <use x=\"159.033203\" xlink:href=\"#DejaVuSans-48\"/>\r\n      </g>\r\n     </g>\r\n    </g>\r\n   </g>\r\n   <g id=\"matplotlib.axis_2\">\r\n    <g id=\"ytick_1\">\r\n     <g id=\"line2d_10\">\r\n      <defs>\r\n       <path d=\"M 0 0 \r\nL -3.5 0 \r\n\" id=\"m46911ce455\" style=\"stroke:#000000;stroke-width:0.8;\"/>\r\n      </defs>\r\n      <g>\r\n       <use style=\"stroke:#000000;stroke-width:0.8;\" x=\"30.103125\" xlink:href=\"#m46911ce455\" y=\"214.756364\"/>\r\n      </g>\r\n     </g>\r\n     <g id=\"text_10\">\r\n      <!-- 0.0 -->\r\n      <g transform=\"translate(7.2 218.555582)scale(0.1 -0.1)\">\r\n       <use xlink:href=\"#DejaVuSans-48\"/>\r\n       <use x=\"63.623047\" xlink:href=\"#DejaVuSans-46\"/>\r\n       <use x=\"95.410156\" xlink:href=\"#DejaVuSans-48\"/>\r\n      </g>\r\n     </g>\r\n    </g>\r\n    <g id=\"ytick_2\">\r\n     <g id=\"line2d_11\">\r\n      <g>\r\n       <use style=\"stroke:#000000;stroke-width:0.8;\" x=\"30.103125\" xlink:href=\"#m46911ce455\" y=\"175.221818\"/>\r\n      </g>\r\n     </g>\r\n     <g id=\"text_11\">\r\n      <!-- 0.2 -->\r\n      <g transform=\"translate(7.2 179.021037)scale(0.1 -0.1)\">\r\n       <use xlink:href=\"#DejaVuSans-48\"/>\r\n       <use x=\"63.623047\" xlink:href=\"#DejaVuSans-46\"/>\r\n       <use x=\"95.410156\" xlink:href=\"#DejaVuSans-50\"/>\r\n      </g>\r\n     </g>\r\n    </g>\r\n    <g id=\"ytick_3\">\r\n     <g id=\"line2d_12\">\r\n      <g>\r\n       <use style=\"stroke:#000000;stroke-width:0.8;\" x=\"30.103125\" xlink:href=\"#m46911ce455\" y=\"135.687273\"/>\r\n      </g>\r\n     </g>\r\n     <g id=\"text_12\">\r\n      <!-- 0.4 -->\r\n      <g transform=\"translate(7.2 139.486491)scale(0.1 -0.1)\">\r\n       <defs>\r\n        <path d=\"M 37.796875 64.3125 \r\nL 12.890625 25.390625 \r\nL 37.796875 25.390625 \r\nz\r\nM 35.203125 72.90625 \r\nL 47.609375 72.90625 \r\nL 47.609375 25.390625 \r\nL 58.015625 25.390625 \r\nL 58.015625 17.1875 \r\nL 47.609375 17.1875 \r\nL 47.609375 0 \r\nL 37.796875 0 \r\nL 37.796875 17.1875 \r\nL 4.890625 17.1875 \r\nL 4.890625 26.703125 \r\nz\r\n\" id=\"DejaVuSans-52\"/>\r\n       </defs>\r\n       <use xlink:href=\"#DejaVuSans-48\"/>\r\n       <use x=\"63.623047\" xlink:href=\"#DejaVuSans-46\"/>\r\n       <use x=\"95.410156\" xlink:href=\"#DejaVuSans-52\"/>\r\n      </g>\r\n     </g>\r\n    </g>\r\n    <g id=\"ytick_4\">\r\n     <g id=\"line2d_13\">\r\n      <g>\r\n       <use style=\"stroke:#000000;stroke-width:0.8;\" x=\"30.103125\" xlink:href=\"#m46911ce455\" y=\"96.152727\"/>\r\n      </g>\r\n     </g>\r\n     <g id=\"text_13\">\r\n      <!-- 0.6 -->\r\n      <g transform=\"translate(7.2 99.951946)scale(0.1 -0.1)\">\r\n       <defs>\r\n        <path d=\"M 33.015625 40.375 \r\nQ 26.375 40.375 22.484375 35.828125 \r\nQ 18.609375 31.296875 18.609375 23.390625 \r\nQ 18.609375 15.53125 22.484375 10.953125 \r\nQ 26.375 6.390625 33.015625 6.390625 \r\nQ 39.65625 6.390625 43.53125 10.953125 \r\nQ 47.40625 15.53125 47.40625 23.390625 \r\nQ 47.40625 31.296875 43.53125 35.828125 \r\nQ 39.65625 40.375 33.015625 40.375 \r\nz\r\nM 52.59375 71.296875 \r\nL 52.59375 62.3125 \r\nQ 48.875 64.0625 45.09375 64.984375 \r\nQ 41.3125 65.921875 37.59375 65.921875 \r\nQ 27.828125 65.921875 22.671875 59.328125 \r\nQ 17.53125 52.734375 16.796875 39.40625 \r\nQ 19.671875 43.65625 24.015625 45.921875 \r\nQ 28.375 48.1875 33.59375 48.1875 \r\nQ 44.578125 48.1875 50.953125 41.515625 \r\nQ 57.328125 34.859375 57.328125 23.390625 \r\nQ 57.328125 12.15625 50.6875 5.359375 \r\nQ 44.046875 -1.421875 33.015625 -1.421875 \r\nQ 20.359375 -1.421875 13.671875 8.265625 \r\nQ 6.984375 17.96875 6.984375 36.375 \r\nQ 6.984375 53.65625 15.1875 63.9375 \r\nQ 23.390625 74.21875 37.203125 74.21875 \r\nQ 40.921875 74.21875 44.703125 73.484375 \r\nQ 48.484375 72.75 52.59375 71.296875 \r\nz\r\n\" id=\"DejaVuSans-54\"/>\r\n       </defs>\r\n       <use xlink:href=\"#DejaVuSans-48\"/>\r\n       <use x=\"63.623047\" xlink:href=\"#DejaVuSans-46\"/>\r\n       <use x=\"95.410156\" xlink:href=\"#DejaVuSans-54\"/>\r\n      </g>\r\n     </g>\r\n    </g>\r\n    <g id=\"ytick_5\">\r\n     <g id=\"line2d_14\">\r\n      <g>\r\n       <use style=\"stroke:#000000;stroke-width:0.8;\" x=\"30.103125\" xlink:href=\"#m46911ce455\" y=\"56.618182\"/>\r\n      </g>\r\n     </g>\r\n     <g id=\"text_14\">\r\n      <!-- 0.8 -->\r\n      <g transform=\"translate(7.2 60.417401)scale(0.1 -0.1)\">\r\n       <defs>\r\n        <path d=\"M 31.78125 34.625 \r\nQ 24.75 34.625 20.71875 30.859375 \r\nQ 16.703125 27.09375 16.703125 20.515625 \r\nQ 16.703125 13.921875 20.71875 10.15625 \r\nQ 24.75 6.390625 31.78125 6.390625 \r\nQ 38.8125 6.390625 42.859375 10.171875 \r\nQ 46.921875 13.96875 46.921875 20.515625 \r\nQ 46.921875 27.09375 42.890625 30.859375 \r\nQ 38.875 34.625 31.78125 34.625 \r\nz\r\nM 21.921875 38.8125 \r\nQ 15.578125 40.375 12.03125 44.71875 \r\nQ 8.5 49.078125 8.5 55.328125 \r\nQ 8.5 64.0625 14.71875 69.140625 \r\nQ 20.953125 74.21875 31.78125 74.21875 \r\nQ 42.671875 74.21875 48.875 69.140625 \r\nQ 55.078125 64.0625 55.078125 55.328125 \r\nQ 55.078125 49.078125 51.53125 44.71875 \r\nQ 48 40.375 41.703125 38.8125 \r\nQ 48.828125 37.15625 52.796875 32.3125 \r\nQ 56.78125 27.484375 56.78125 20.515625 \r\nQ 56.78125 9.90625 50.3125 4.234375 \r\nQ 43.84375 -1.421875 31.78125 -1.421875 \r\nQ 19.734375 -1.421875 13.25 4.234375 \r\nQ 6.78125 9.90625 6.78125 20.515625 \r\nQ 6.78125 27.484375 10.78125 32.3125 \r\nQ 14.796875 37.15625 21.921875 38.8125 \r\nz\r\nM 18.3125 54.390625 \r\nQ 18.3125 48.734375 21.84375 45.5625 \r\nQ 25.390625 42.390625 31.78125 42.390625 \r\nQ 38.140625 42.390625 41.71875 45.5625 \r\nQ 45.3125 48.734375 45.3125 54.390625 \r\nQ 45.3125 60.0625 41.71875 63.234375 \r\nQ 38.140625 66.40625 31.78125 66.40625 \r\nQ 25.390625 66.40625 21.84375 63.234375 \r\nQ 18.3125 60.0625 18.3125 54.390625 \r\nz\r\n\" id=\"DejaVuSans-56\"/>\r\n       </defs>\r\n       <use xlink:href=\"#DejaVuSans-48\"/>\r\n       <use x=\"63.623047\" xlink:href=\"#DejaVuSans-46\"/>\r\n       <use x=\"95.410156\" xlink:href=\"#DejaVuSans-56\"/>\r\n      </g>\r\n     </g>\r\n    </g>\r\n    <g id=\"ytick_6\">\r\n     <g id=\"line2d_15\">\r\n      <g>\r\n       <use style=\"stroke:#000000;stroke-width:0.8;\" x=\"30.103125\" xlink:href=\"#m46911ce455\" y=\"17.083636\"/>\r\n      </g>\r\n     </g>\r\n     <g id=\"text_15\">\r\n      <!-- 1.0 -->\r\n      <g transform=\"translate(7.2 20.882855)scale(0.1 -0.1)\">\r\n       <use xlink:href=\"#DejaVuSans-49\"/>\r\n       <use x=\"63.623047\" xlink:href=\"#DejaVuSans-46\"/>\r\n       <use x=\"95.410156\" xlink:href=\"#DejaVuSans-48\"/>\r\n      </g>\r\n     </g>\r\n    </g>\r\n   </g>\r\n   <g id=\"line2d_16\">\r\n    <path clip-path=\"url(#pec77d07ea5)\" d=\"M 45.321307 214.756364 \r\nL 45.321307 214.756364 \r\nL 197.503125 214.756364 \r\nL 197.503125 17.083636 \r\nL 349.684943 17.083636 \r\n\" style=\"fill:none;stroke:#1f77b4;stroke-linecap:square;stroke-width:1.5;\"/>\r\n   </g>\r\n   <g id=\"patch_3\">\r\n    <path d=\"M 30.103125 224.64 \r\nL 30.103125 7.2 \r\n\" style=\"fill:none;stroke:#000000;stroke-linecap:square;stroke-linejoin:miter;stroke-width:0.8;\"/>\r\n   </g>\r\n   <g id=\"patch_4\">\r\n    <path d=\"M 364.903125 224.64 \r\nL 364.903125 7.2 \r\n\" style=\"fill:none;stroke:#000000;stroke-linecap:square;stroke-linejoin:miter;stroke-width:0.8;\"/>\r\n   </g>\r\n   <g id=\"patch_5\">\r\n    <path d=\"M 30.103125 224.64 \r\nL 364.903125 224.64 \r\n\" style=\"fill:none;stroke:#000000;stroke-linecap:square;stroke-linejoin:miter;stroke-width:0.8;\"/>\r\n   </g>\r\n   <g id=\"patch_6\">\r\n    <path d=\"M 30.103125 7.2 \r\nL 364.903125 7.2 \r\n\" style=\"fill:none;stroke:#000000;stroke-linecap:square;stroke-linejoin:miter;stroke-width:0.8;\"/>\r\n   </g>\r\n  </g>\r\n </g>\r\n <defs>\r\n  <clipPath id=\"pec77d07ea5\">\r\n   <rect height=\"217.44\" width=\"334.8\" x=\"30.103125\" y=\"7.2\"/>\r\n  </clipPath>\r\n </defs>\r\n</svg>\r\n",
      "image/png": "[encoded data removed]"
     },
     "metadata": {
      "needs_background": "light"
     }
    }
   ],
   "metadata": {}
  },
  {
   "cell_type": "markdown",
   "source": [
    "As you can see in the picture above, we have a jump at 0. However, you may expect not so big difference between -0.001 and 0.001! As we did for the Logistic Regression, we may use the *sigmoid* or *logistic function* as activation function to have a smoother behaviour:"
   ],
   "metadata": {}
  },
  {
   "cell_type": "markdown",
   "source": [
    "![image](https://miro.medium.com/max/1400/1*QLtPF0YkwYRLVoSeh2w4gw.png)"
   ],
   "metadata": {}
  },
  {
   "cell_type": "markdown",
   "source": [
    "In this way, the output won't be either 0 or 1, but the probability (because we have a continuous number between 0 and 1) of 0 or 1!\n",
    "\n",
    "Let's implement the perceptron again but using the sigmoid this time:"
   ],
   "metadata": {}
  },
  {
   "cell_type": "code",
   "execution_count": 63,
   "source": [
    "def sigmoid(x):\r\n",
    "    return 1 / (1 + np.exp(-x))\r\n",
    "\r\n",
    "def perceptron_with_sigmoid(train, weights, bias, eta, max_iter):\r\n",
    "    it = 0\r\n",
    "    while it < max_iter: \r\n",
    "        new_weights = weights\r\n",
    "        new_bias = bias\r\n",
    "        for sample in train:\r\n",
    "            output = np.dot(weights, sample[0]) + bias \r\n",
    "            ## I comment the old activation function\r\n",
    "            # if output <= 0:\r\n",
    "            #     output = 0\r\n",
    "            # else:\r\n",
    "            #     output = 1\r\n",
    "            ## New activation function\r\n",
    "            output = sigmoid(output)\r\n",
    "            if (sample[1] - output) != 0:\r\n",
    "                \r\n",
    "                weights += eta*(sample[1] - output)*sample[0]\r\n",
    "                bias += eta*(sample[1] - output)\r\n",
    "        if new_weights.all() == weights.all() and new_bias == bias:\r\n",
    "            print(f\"Convergence achieved at iteration {it}\")\r\n",
    "            break\r\n",
    "        it += 1\r\n",
    "        \r\n",
    "    return weights, bias\r\n",
    "\r\n"
   ],
   "outputs": [],
   "metadata": {}
  },
  {
   "cell_type": "code",
   "execution_count": 64,
   "source": [
    "\r\n"
   ],
   "outputs": [
    {
     "output_type": "error",
     "ename": "NameError",
     "evalue": "name 'new_weights' is not defined",
     "traceback": [
      "\u001b[1;31m---------------------------------------------------------------------------\u001b[0m",
      "\u001b[1;31mNameError\u001b[0m                                 Traceback (most recent call last)",
      "\u001b[1;32m<ipython-input-64-1c3add18c700>\u001b[0m in \u001b[0;36m<module>\u001b[1;34m\u001b[0m\n\u001b[1;32m----> 1\u001b[1;33m \u001b[0mnew_weights\u001b[0m\u001b[1;33m\u001b[0m\u001b[1;33m\u001b[0m\u001b[0m\n\u001b[0m",
      "\u001b[1;31mNameError\u001b[0m: name 'new_weights' is not defined"
     ]
    }
   ],
   "metadata": {}
  },
  {
   "cell_type": "markdown",
   "source": [
    "You will see later why that having such a smooth and differentiable function helps neural network for computing the gradient of the loss function! \n",
    "\n",
    "## Conclusions\n",
    "\n",
    "We have seen the Perceptron algorithm, that is an algorithm to build a binary classifier for linearly separable data. We succesfully tested it on an example movies dataset, and unsuccesfully for the XOR problem, that contains not-linearly separable data. \n",
    "\n",
    "We learned that the Perceptron is for an artificial neural network what a neuron is for a biological one. We defined the sigmoid, a smooth and differentiable activation function that is often used in neural networks (you will meet cooler activation functions by the way!).\n",
    "\n",
    "For questions, feel free to ask! You can comment on Deepnote at this link: https://deepnote.com/project/59d3fdb3-682e-49b5-8cd1-f908f9765253"
   ],
   "metadata": {}
  },
  {
   "cell_type": "code",
   "execution_count": null,
   "source": [],
   "outputs": [],
   "metadata": {}
  }
 ],
 "metadata": {
  "kernelspec": {
   "name": "python3",
   "display_name": "Python 3.8.10 64-bit ('wojtek': conda)"
  },
  "language_info": {
   "codemirror_mode": {
    "name": "ipython",
    "version": 3
   },
   "file_extension": ".py",
   "mimetype": "text/x-python",
   "name": "python",
   "nbconvert_exporter": "python",
   "pygments_lexer": "ipython3",
   "version": "3.8.10"
  },
  "interpreter": {
   "hash": "273e4cd330c9365d0d8fc6d704b08084cf297120c969e21fb6416b510b92ba85"
  }
 },
 "nbformat": 4,
 "nbformat_minor": 4
}