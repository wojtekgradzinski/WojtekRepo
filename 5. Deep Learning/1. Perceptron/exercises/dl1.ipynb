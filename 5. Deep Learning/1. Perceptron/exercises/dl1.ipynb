{
 "cells": [
  {
   "cell_type": "markdown",
   "source": [
    "***Perceptron***\n"
   ],
   "metadata": {
    "deletable": false,
    "editable": false,
    "nbgrader": {
     "cell_type": "markdown",
     "checksum": "15b574805137b9279ac4eaf2a98dde5a",
     "grade": false,
     "grade_id": "cell-626178c48d82cf7b",
     "locked": true,
     "schema_version": 3,
     "solution": false,
     "task": false
    }
   }
  },
  {
   "cell_type": "code",
   "execution_count": 1,
   "source": [
    "import pandas as pd\r\n",
    "import numpy as np\r\n",
    "import matplotlib.pyplot as plt\r\n",
    "%matplotlib inline"
   ],
   "outputs": [
    {
     "output_type": "error",
     "ename": "ModuleNotFoundError",
     "evalue": "No module named 'pandas'",
     "traceback": [
      "\u001b[1;31m---------------------------------------------------------------------------\u001b[0m",
      "\u001b[1;31mModuleNotFoundError\u001b[0m                       Traceback (most recent call last)",
      "\u001b[1;32m<ipython-input-1-97d3abd4d095>\u001b[0m in \u001b[0;36m<module>\u001b[1;34m\u001b[0m\n\u001b[1;32m----> 1\u001b[1;33m \u001b[1;32mimport\u001b[0m \u001b[0mpandas\u001b[0m \u001b[1;32mas\u001b[0m \u001b[0mpd\u001b[0m\u001b[1;33m\u001b[0m\u001b[1;33m\u001b[0m\u001b[0m\n\u001b[0m\u001b[0;32m      2\u001b[0m \u001b[1;32mimport\u001b[0m \u001b[0mnumpy\u001b[0m \u001b[1;32mas\u001b[0m \u001b[0mnp\u001b[0m\u001b[1;33m\u001b[0m\u001b[1;33m\u001b[0m\u001b[0m\n\u001b[0;32m      3\u001b[0m \u001b[1;32mimport\u001b[0m \u001b[0mmatplotlib\u001b[0m\u001b[1;33m.\u001b[0m\u001b[0mpyplot\u001b[0m \u001b[1;32mas\u001b[0m \u001b[0mplt\u001b[0m\u001b[1;33m\u001b[0m\u001b[1;33m\u001b[0m\u001b[0m\n\u001b[0;32m      4\u001b[0m \u001b[0mget_ipython\u001b[0m\u001b[1;33m(\u001b[0m\u001b[1;33m)\u001b[0m\u001b[1;33m.\u001b[0m\u001b[0mrun_line_magic\u001b[0m\u001b[1;33m(\u001b[0m\u001b[1;34m'matplotlib'\u001b[0m\u001b[1;33m,\u001b[0m \u001b[1;34m'inline'\u001b[0m\u001b[1;33m)\u001b[0m\u001b[1;33m\u001b[0m\u001b[1;33m\u001b[0m\u001b[0m\n",
      "\u001b[1;31mModuleNotFoundError\u001b[0m: No module named 'pandas'"
     ]
    }
   ],
   "metadata": {
    "deletable": false,
    "editable": false,
    "nbgrader": {
     "cell_type": "code",
     "checksum": "ee78954366926c1b629f8d1f06370456",
     "grade": false,
     "grade_id": "cell-971c8877f1ab5326",
     "locked": true,
     "schema_version": 3,
     "solution": false,
     "task": false
    }
   }
  },
  {
   "cell_type": "markdown",
   "source": [
    "Use the `make_guassian_quantiles` function from the `sklearn.datasets`class to create 1000 2-dimensional data points with two labels. Put the data in the variable `X` and the classes in the variable `c`. Use `random_state=42`."
   ],
   "metadata": {
    "deletable": false,
    "editable": false,
    "nbgrader": {
     "cell_type": "markdown",
     "checksum": "0d8eca36c80e9886e2ce237b0a556bd5",
     "grade": false,
     "grade_id": "cell-01157c0fe6df0335",
     "locked": true,
     "schema_version": 3,
     "solution": false,
     "task": false
    }
   }
  },
  {
   "cell_type": "code",
   "execution_count": 88,
   "source": [
    "import sklearn.datasets\r\n",
    "\r\n",
    "X = 0\r\n",
    "c = 0\r\n",
    "\r\n",
    "# YOUR CODE HERE\r\n",
    "\r\n",
    "X, c = sklearn.datasets.make_gaussian_quantiles(n_samples=1000, n_features=2, n_classes=2, shuffle=True, random_state=42)\r\n",
    "\r\n",
    "\r\n",
    "\r\n",
    "\r\n"
   ],
   "outputs": [],
   "metadata": {
    "deletable": false,
    "nbgrader": {
     "cell_type": "code",
     "checksum": "b484fbae43e4fba2d1d69fc39ece9efc",
     "grade": false,
     "grade_id": "cell-63d28a4a996eb894",
     "locked": false,
     "schema_version": 3,
     "solution": true,
     "task": false
    }
   }
  },
  {
   "cell_type": "code",
   "execution_count": 92,
   "source": [],
   "outputs": [
    {
     "output_type": "execute_result",
     "data": {
      "text/plain": [
       "array([[ 1.64496771, -0.24903604],\n",
       "       [ 1.18947049, -1.22760782],\n",
       "       [ 0.06980208, -0.3853136 ],\n",
       "       ...,\n",
       "       [ 0.59740007,  0.70117274],\n",
       "       [ 2.64434335, -1.50297033],\n",
       "       [ 0.84062003,  0.54673357]])"
      ]
     },
     "metadata": {},
     "execution_count": 92
    }
   ],
   "metadata": {}
  },
  {
   "cell_type": "code",
   "execution_count": 2,
   "source": [
    "assert X.shape == (1000,2)\r\n",
    "assert c.shape == (1000,)\r\n",
    "assert c.max() == 1\r\n",
    "assert c.min() == 0"
   ],
   "outputs": [
    {
     "output_type": "error",
     "ename": "NameError",
     "evalue": "name 'X' is not defined",
     "traceback": [
      "\u001b[1;31m---------------------------------------------------------------------------\u001b[0m",
      "\u001b[1;31mNameError\u001b[0m                                 Traceback (most recent call last)",
      "\u001b[1;32m<ipython-input-2-7d96497504d8>\u001b[0m in \u001b[0;36m<module>\u001b[1;34m\u001b[0m\n\u001b[1;32m----> 1\u001b[1;33m \u001b[1;32massert\u001b[0m \u001b[0mX\u001b[0m\u001b[1;33m.\u001b[0m\u001b[0mshape\u001b[0m \u001b[1;33m==\u001b[0m \u001b[1;33m(\u001b[0m\u001b[1;36m1000\u001b[0m\u001b[1;33m,\u001b[0m\u001b[1;36m2\u001b[0m\u001b[1;33m)\u001b[0m\u001b[1;33m\u001b[0m\u001b[1;33m\u001b[0m\u001b[0m\n\u001b[0m\u001b[0;32m      2\u001b[0m \u001b[1;32massert\u001b[0m \u001b[0mc\u001b[0m\u001b[1;33m.\u001b[0m\u001b[0mshape\u001b[0m \u001b[1;33m==\u001b[0m \u001b[1;33m(\u001b[0m\u001b[1;36m1000\u001b[0m\u001b[1;33m,\u001b[0m\u001b[1;33m)\u001b[0m\u001b[1;33m\u001b[0m\u001b[1;33m\u001b[0m\u001b[0m\n\u001b[0;32m      3\u001b[0m \u001b[1;32massert\u001b[0m \u001b[0mc\u001b[0m\u001b[1;33m.\u001b[0m\u001b[0mmax\u001b[0m\u001b[1;33m(\u001b[0m\u001b[1;33m)\u001b[0m \u001b[1;33m==\u001b[0m \u001b[1;36m1\u001b[0m\u001b[1;33m\u001b[0m\u001b[1;33m\u001b[0m\u001b[0m\n\u001b[0;32m      4\u001b[0m \u001b[1;32massert\u001b[0m \u001b[0mc\u001b[0m\u001b[1;33m.\u001b[0m\u001b[0mmin\u001b[0m\u001b[1;33m(\u001b[0m\u001b[1;33m)\u001b[0m \u001b[1;33m==\u001b[0m \u001b[1;36m0\u001b[0m\u001b[1;33m\u001b[0m\u001b[1;33m\u001b[0m\u001b[0m\n",
      "\u001b[1;31mNameError\u001b[0m: name 'X' is not defined"
     ]
    }
   ],
   "metadata": {
    "deletable": false,
    "editable": false,
    "nbgrader": {
     "cell_type": "code",
     "checksum": "9f7a9ef676a2b7d5e94cb44d6bb8fb21",
     "grade": true,
     "grade_id": "cell-966bf7e3648a388c",
     "locked": true,
     "points": 1,
     "schema_version": 3,
     "solution": false,
     "task": false
    }
   }
  },
  {
   "cell_type": "markdown",
   "source": [
    "Make a scatterplot of the generated points using two different colors for the different classes."
   ],
   "metadata": {
    "deletable": false,
    "editable": false,
    "nbgrader": {
     "cell_type": "markdown",
     "checksum": "ea0269f558a7c3ea6bca25fa984de8e3",
     "grade": false,
     "grade_id": "cell-dfa16baa15d50145",
     "locked": true,
     "schema_version": 3,
     "solution": false,
     "task": false
    }
   }
  },
  {
   "cell_type": "code",
   "execution_count": 3,
   "source": [
    "\r\n",
    "# YOUR CODE HERE\r\n",
    "x_t = X.T\r\n",
    "plt.scatter(x_t[0], x_t[1], alpha = 0.6 , c=c)\r\n",
    "plt.show()\r\n",
    "\r\n"
   ],
   "outputs": [
    {
     "output_type": "error",
     "ename": "NameError",
     "evalue": "name 'X' is not defined",
     "traceback": [
      "\u001b[1;31m---------------------------------------------------------------------------\u001b[0m",
      "\u001b[1;31mNameError\u001b[0m                                 Traceback (most recent call last)",
      "\u001b[1;32m<ipython-input-3-9ecaaa535ddb>\u001b[0m in \u001b[0;36m<module>\u001b[1;34m\u001b[0m\n\u001b[0;32m      1\u001b[0m \u001b[1;31m# YOUR CODE HERE\u001b[0m\u001b[1;33m\u001b[0m\u001b[1;33m\u001b[0m\u001b[1;33m\u001b[0m\u001b[0m\n\u001b[1;32m----> 2\u001b[1;33m \u001b[0mx_t\u001b[0m \u001b[1;33m=\u001b[0m \u001b[0mX\u001b[0m\u001b[1;33m.\u001b[0m\u001b[0mT\u001b[0m\u001b[1;33m\u001b[0m\u001b[1;33m\u001b[0m\u001b[0m\n\u001b[0m\u001b[0;32m      3\u001b[0m \u001b[0mplt\u001b[0m\u001b[1;33m.\u001b[0m\u001b[0mscatter\u001b[0m\u001b[1;33m(\u001b[0m\u001b[0mx_t\u001b[0m\u001b[1;33m[\u001b[0m\u001b[1;36m0\u001b[0m\u001b[1;33m]\u001b[0m\u001b[1;33m,\u001b[0m \u001b[0mx_t\u001b[0m\u001b[1;33m[\u001b[0m\u001b[1;36m1\u001b[0m\u001b[1;33m]\u001b[0m\u001b[1;33m,\u001b[0m \u001b[0malpha\u001b[0m \u001b[1;33m=\u001b[0m \u001b[1;36m0.6\u001b[0m \u001b[1;33m,\u001b[0m \u001b[0mc\u001b[0m\u001b[1;33m=\u001b[0m\u001b[0mc\u001b[0m\u001b[1;33m)\u001b[0m\u001b[1;33m\u001b[0m\u001b[1;33m\u001b[0m\u001b[0m\n\u001b[0;32m      4\u001b[0m \u001b[0mplt\u001b[0m\u001b[1;33m.\u001b[0m\u001b[0mshow\u001b[0m\u001b[1;33m(\u001b[0m\u001b[1;33m)\u001b[0m\u001b[1;33m\u001b[0m\u001b[1;33m\u001b[0m\u001b[0m\n\u001b[0;32m      5\u001b[0m \u001b[1;33m\u001b[0m\u001b[0m\n",
      "\u001b[1;31mNameError\u001b[0m: name 'X' is not defined"
     ]
    }
   ],
   "metadata": {
    "deletable": false,
    "nbgrader": {
     "cell_type": "code",
     "checksum": "feb558928c6e6d94de09aacfb2e8cdbc",
     "grade": false,
     "grade_id": "cell-7cad454d15726ed1",
     "locked": false,
     "schema_version": 3,
     "solution": true,
     "task": false
    }
   }
  },
  {
   "cell_type": "code",
   "execution_count": null,
   "source": [
    "\r\n"
   ],
   "outputs": [],
   "metadata": {}
  },
  {
   "cell_type": "markdown",
   "source": [
    "Create a function that takes as input `x` and returns the sigmoid of `x` and test it on the given vector `v` (storing the result in the variable `v_activated`.\n",
    "\n",
    "*N.B.* The sigmoid function should accept any iterable as input, but must return a numpy array."
   ],
   "metadata": {
    "deletable": false,
    "editable": false,
    "nbgrader": {
     "cell_type": "markdown",
     "checksum": "a13ee988fb8746d643a03f7355cfc369",
     "grade": false,
     "grade_id": "cell-191c48ff3e8dde28",
     "locked": true,
     "schema_version": 3,
     "solution": false,
     "task": false
    }
   }
  },
  {
   "cell_type": "code",
   "execution_count": 15,
   "source": [
    "v = [1, 2, -1]\r\n",
    "\r\n",
    "def sigmoid(v):\r\n",
    "    l = []\r\n",
    "    \r\n",
    "    for i in v:\r\n",
    "        l.append(1/(1+ np.exp(-i)))\r\n",
    "    print(l)    \r\n",
    "        \r\n",
    "        \r\n",
    "\r\n",
    "v_activated = sigmoid(v)\r\n",
    "\r\n",
    "# YOUR CODE HERE\r\n",
    "#raise NotImplementedError()"
   ],
   "outputs": [
    {
     "output_type": "stream",
     "name": "stdout",
     "text": [
      "[0.7310585786300049, 0.8807970779778823, 0.2689414213699951]\n"
     ]
    }
   ],
   "metadata": {
    "deletable": false,
    "nbgrader": {
     "cell_type": "code",
     "checksum": "22cf27ede4a612a862662ebdaef40cf9",
     "grade": false,
     "grade_id": "cell-25c6e2ab20993a7e",
     "locked": false,
     "schema_version": 3,
     "solution": true,
     "task": false
    }
   }
  },
  {
   "cell_type": "code",
   "execution_count": 93,
   "source": [
    "assert np.round(v_activated[0], 2) == 0.73\r\n",
    "assert np.round(v_activated[1], 2) == 0.88\r\n",
    "assert np.round(v_activated[2], 2) == 0.27\r\n",
    "\r\n"
   ],
   "outputs": [
    {
     "output_type": "error",
     "ename": "AssertionError",
     "evalue": "",
     "traceback": [
      "\u001b[1;31m---------------------------------------------------------------------------\u001b[0m",
      "\u001b[1;31mAssertionError\u001b[0m                            Traceback (most recent call last)",
      "\u001b[1;32m<ipython-input-93-ed00fb84c4d1>\u001b[0m in \u001b[0;36m<module>\u001b[1;34m\u001b[0m\n\u001b[1;32m----> 1\u001b[1;33m \u001b[1;32massert\u001b[0m \u001b[0mnp\u001b[0m\u001b[1;33m.\u001b[0m\u001b[0mround\u001b[0m\u001b[1;33m(\u001b[0m\u001b[0mv_activated\u001b[0m\u001b[1;33m[\u001b[0m\u001b[1;36m0\u001b[0m\u001b[1;33m]\u001b[0m\u001b[1;33m,\u001b[0m \u001b[1;36m2\u001b[0m\u001b[1;33m)\u001b[0m \u001b[1;33m==\u001b[0m \u001b[1;36m0.73\u001b[0m\u001b[1;33m\u001b[0m\u001b[1;33m\u001b[0m\u001b[0m\n\u001b[0m\u001b[0;32m      2\u001b[0m \u001b[1;32massert\u001b[0m \u001b[0mnp\u001b[0m\u001b[1;33m.\u001b[0m\u001b[0mround\u001b[0m\u001b[1;33m(\u001b[0m\u001b[0mv_activated\u001b[0m\u001b[1;33m[\u001b[0m\u001b[1;36m1\u001b[0m\u001b[1;33m]\u001b[0m\u001b[1;33m,\u001b[0m \u001b[1;36m2\u001b[0m\u001b[1;33m)\u001b[0m \u001b[1;33m==\u001b[0m \u001b[1;36m0.88\u001b[0m\u001b[1;33m\u001b[0m\u001b[1;33m\u001b[0m\u001b[0m\n\u001b[0;32m      3\u001b[0m \u001b[1;32massert\u001b[0m \u001b[0mnp\u001b[0m\u001b[1;33m.\u001b[0m\u001b[0mround\u001b[0m\u001b[1;33m(\u001b[0m\u001b[0mv_activated\u001b[0m\u001b[1;33m[\u001b[0m\u001b[1;36m2\u001b[0m\u001b[1;33m]\u001b[0m\u001b[1;33m,\u001b[0m \u001b[1;36m2\u001b[0m\u001b[1;33m)\u001b[0m \u001b[1;33m==\u001b[0m \u001b[1;36m0.27\u001b[0m\u001b[1;33m\u001b[0m\u001b[1;33m\u001b[0m\u001b[0m\n\u001b[0;32m      4\u001b[0m \u001b[1;33m\u001b[0m\u001b[0m\n",
      "\u001b[1;31mAssertionError\u001b[0m: "
     ]
    }
   ],
   "metadata": {
    "deletable": false,
    "editable": false,
    "nbgrader": {
     "cell_type": "code",
     "checksum": "97ec1ed7a9f1776ae2b2b68eb97a0387",
     "grade": true,
     "grade_id": "cell-083dec44f74fed1a",
     "locked": true,
     "points": 1,
     "schema_version": 3,
     "solution": false,
     "task": false
    }
   }
  },
  {
   "cell_type": "markdown",
   "source": [
    "Define the step function. As for the sigmoid, create a function that takes as input `x` and returns the sigmoid of `x` and test it on the given vector `v` (storing the result in the variable `v_activated`."
   ],
   "metadata": {}
  },
  {
   "cell_type": "code",
   "execution_count": 18,
   "source": [
    "v = [1, 0, -1]\r\n",
    "\r\n",
    "def step(x):\r\n",
    "     x  = np.array(x)\r\n",
    "     return np.array(x >= 0 , dtype= float)\r\n",
    "\r\n",
    "v_activated = step(v)\r\n",
    "\r\n",
    "# YOUR CODE HERE\r\n",
    "#raise NotImplementedError()\r\n",
    "\r\n"
   ],
   "outputs": [],
   "metadata": {
    "deletable": false,
    "nbgrader": {
     "cell_type": "code",
     "checksum": "5941e50e5aa61278563e648c0f7e41cd",
     "grade": false,
     "grade_id": "cell-4f9ebef5da14c733",
     "locked": false,
     "schema_version": 3,
     "solution": true,
     "task": false
    }
   }
  },
  {
   "cell_type": "code",
   "execution_count": 19,
   "source": [
    "assert v_activated[0] == 1.0\r\n",
    "assert v_activated[1] == 1.0\r\n",
    "assert v_activated[2] == 0.0"
   ],
   "outputs": [],
   "metadata": {
    "deletable": false,
    "editable": false,
    "nbgrader": {
     "cell_type": "code",
     "checksum": "580e126d5eaeacc6b6195203cc3f7645",
     "grade": true,
     "grade_id": "cell-978a2c6edd8b6234",
     "locked": true,
     "points": 0,
     "schema_version": 3,
     "solution": false,
     "task": false
    }
   }
  },
  {
   "cell_type": "markdown",
   "source": [
    "You want to build a model to choose which book to read based on the following three variables:\n",
    "\n",
    "- average reviews on Goodreads (from 1 to 5)\n",
    "- number of 1 stars reviews on Goodreads\n",
    "- number of reviews on Goodreads\n",
    "- it's fiction or not\n",
    "\n",
    "Create a potential dataset with reasonable examples with 5 data points presented in a numpy array of the form `X = np.array([[f11,f12...], [f21, f22,...],...,[f51,f52,...]])` so that the shape of X will be (3,4). In addition, create the `y` vector with binary labels."
   ],
   "metadata": {
    "deletable": false,
    "editable": false,
    "nbgrader": {
     "cell_type": "markdown",
     "checksum": "9c4cef7d30da9534c6c7889631acfb8f",
     "grade": false,
     "grade_id": "cell-4e063c1ce286a211",
     "locked": true,
     "schema_version": 3,
     "solution": false,
     "task": false
    }
   }
  },
  {
   "cell_type": "code",
   "execution_count": 20,
   "source": [
    "\r\n",
    "X = np.array([[2, 23, 34, 0], [4, 65, 76, 1], [5, 171, 172, 1]])\r\n",
    "y = np.array([1,0,1])\r\n",
    "\r\n",
    "X.shape\r\n",
    "# YOUR CODE HERE\r\n",
    "#raise NotImplementedError()"
   ],
   "outputs": [
    {
     "output_type": "execute_result",
     "data": {
      "text/plain": [
       "(3, 4)"
      ]
     },
     "metadata": {},
     "execution_count": 20
    }
   ],
   "metadata": {
    "deletable": false,
    "nbgrader": {
     "cell_type": "code",
     "checksum": "38a5d5065218b7a4f859914537cd9d1b",
     "grade": false,
     "grade_id": "cell-e42eb35e7fbdece3",
     "locked": false,
     "schema_version": 3,
     "solution": true,
     "task": false
    }
   }
  },
  {
   "cell_type": "code",
   "execution_count": null,
   "source": [
    "assert X.shape == (3,4)\r\n",
    "assert np.array([1<=x[0]<=5 for x in X]).sum() == 3\r\n",
    "assert np.array([x[3] for x in X]).max() == 1\r\n",
    "assert np.array([x[3] for x in X]).min() == 0\r\n",
    "assert np.array([x[1]<=x[2] for x in X]).sum() == 3\r\n",
    "assert y.max() == 1\r\n",
    "assert y.min() == 0\r\n",
    "assert y.shape == (3,)\r\n",
    "\r\n"
   ],
   "outputs": [],
   "metadata": {
    "deletable": false,
    "editable": false,
    "nbgrader": {
     "cell_type": "code",
     "checksum": "646748d0004f916f932f5264110fc906",
     "grade": true,
     "grade_id": "cell-999c065e8557524e",
     "locked": true,
     "points": 0,
     "schema_version": 3,
     "solution": false,
     "task": false
    }
   }
  },
  {
   "cell_type": "markdown",
   "source": [
    "You want to define a boundary n-1 hyperplane for the data you have generated. Create the vector W containing the weights of your model initialized by following a normal distribution (you can use `numpy.random.normal`. Don't forget the bias `b`."
   ],
   "metadata": {
    "deletable": false,
    "editable": false,
    "nbgrader": {
     "cell_type": "markdown",
     "checksum": "65625bf43b456ed2514f9a7c6d3b437a",
     "grade": false,
     "grade_id": "cell-0b62cb474375bc15",
     "locked": true,
     "schema_version": 3,
     "solution": false,
     "task": false
    }
   }
  },
  {
   "cell_type": "code",
   "execution_count": 21,
   "source": [
    "W = 0\r\n",
    "b = 0\r\n",
    "\r\n",
    "# YOUR CODE HERE\r\n",
    "W = np.random.normal(size=4)\r\n",
    "#raise NotImplementedError()\r\n",
    "\r\n",
    "b = np.random.normal(size=1)\r\n",
    "b"
   ],
   "outputs": [
    {
     "output_type": "execute_result",
     "data": {
      "text/plain": [
       "array([0.60181613])"
      ]
     },
     "metadata": {},
     "execution_count": 21
    }
   ],
   "metadata": {
    "deletable": false,
    "nbgrader": {
     "cell_type": "code",
     "checksum": "4dc3090c9dfc58b45bc4199b20574962",
     "grade": false,
     "grade_id": "cell-3ada8bc49ebdd9aa",
     "locked": false,
     "schema_version": 3,
     "solution": true,
     "task": false
    }
   }
  },
  {
   "cell_type": "code",
   "execution_count": null,
   "source": [
    "assert W.shape == (4,) or W.shape == (4, 1)\r\n",
    "assert b.shape == (1,) or b.shape == (1, 1)"
   ],
   "outputs": [],
   "metadata": {
    "deletable": false,
    "editable": false,
    "nbgrader": {
     "cell_type": "code",
     "checksum": "b379abdf1a78ad42ea2dcc1a84cddb2e",
     "grade": true,
     "grade_id": "cell-c04231e0b720cac4",
     "locked": true,
     "points": 1,
     "schema_version": 3,
     "solution": false,
     "task": false
    }
   }
  },
  {
   "cell_type": "markdown",
   "source": [
    "Create an array containing the score of your random model on each of the data points you generated. Store the result in the `scores` variable. \n",
    "\n",
    "*Hint*: Use the dot product. I recommend you to reshape it at the end so that it has only one dimension, not two."
   ],
   "metadata": {
    "deletable": false,
    "editable": false,
    "nbgrader": {
     "cell_type": "markdown",
     "checksum": "ae916ac19993c416b73cc8dbfdf2fcec",
     "grade": false,
     "grade_id": "cell-49cf709fd559af84",
     "locked": true,
     "schema_version": 3,
     "solution": false,
     "task": false
    }
   }
  },
  {
   "cell_type": "code",
   "execution_count": 22,
   "source": [
    "scores = []\r\n",
    "\r\n",
    "# YOUR CODE HERE\r\n",
    "scores = np.dot(X,W)+b\r\n",
    "scores\r\n",
    "#raise NotImplementedError()"
   ],
   "outputs": [
    {
     "output_type": "execute_result",
     "data": {
      "text/plain": [
       "array([ 31.1358333 ,  79.3748337 , 198.15994425])"
      ]
     },
     "metadata": {},
     "execution_count": 22
    }
   ],
   "metadata": {
    "deletable": false,
    "nbgrader": {
     "cell_type": "code",
     "checksum": "2dc4df6186a2c501f2d35b79d3ecffe6",
     "grade": false,
     "grade_id": "cell-951dd174a94f79aa",
     "locked": false,
     "schema_version": 3,
     "solution": true,
     "task": false
    }
   }
  },
  {
   "cell_type": "code",
   "execution_count": null,
   "source": [
    "assert scores.shape == (3,)\r\n"
   ],
   "outputs": [],
   "metadata": {
    "deletable": false,
    "editable": false,
    "nbgrader": {
     "cell_type": "code",
     "checksum": "2f7fd127e1794c414bf7eb7426f44b8d",
     "grade": true,
     "grade_id": "cell-8ad99d3f33895cd4",
     "locked": true,
     "points": 0,
     "schema_version": 3,
     "solution": false,
     "task": false
    }
   }
  },
  {
   "cell_type": "markdown",
   "source": [
    "Activate all the scores by using the step function you defined before and store them in the `step_scores` variable."
   ],
   "metadata": {
    "deletable": false,
    "editable": false,
    "nbgrader": {
     "cell_type": "markdown",
     "checksum": "0b14f233b06cb98a09946daddc4704d6",
     "grade": false,
     "grade_id": "cell-0305f5e1428e07a1",
     "locked": true,
     "schema_version": 3,
     "solution": false,
     "task": false
    }
   }
  },
  {
   "cell_type": "code",
   "execution_count": 23,
   "source": [
    "\r\n",
    "step_scores = 0\r\n",
    "\r\n",
    "# YOUR CODE HERE\r\n",
    "\r\n",
    "step_scores = step(scores)\r\n",
    "\r\n",
    "step_scores.shape\r\n",
    "#raise NotImplementedError()"
   ],
   "outputs": [
    {
     "output_type": "execute_result",
     "data": {
      "text/plain": [
       "(3,)"
      ]
     },
     "metadata": {},
     "execution_count": 23
    }
   ],
   "metadata": {
    "deletable": false,
    "nbgrader": {
     "cell_type": "code",
     "checksum": "25fffadd55bd1ac5bc5dffb731fc3693",
     "grade": false,
     "grade_id": "cell-3f689055ccafa454",
     "locked": false,
     "schema_version": 3,
     "solution": true,
     "task": false
    }
   }
  },
  {
   "cell_type": "code",
   "execution_count": null,
   "source": [
    "assert step_scores.shape == (3,)"
   ],
   "outputs": [],
   "metadata": {
    "deletable": false,
    "editable": false,
    "nbgrader": {
     "cell_type": "code",
     "checksum": "1db756fc40b005b1da3b1aa39ff61724",
     "grade": true,
     "grade_id": "cell-1f0db6a939917418",
     "locked": true,
     "points": 0,
     "schema_version": 3,
     "solution": false,
     "task": false
    }
   }
  },
  {
   "cell_type": "markdown",
   "source": [
    "Activate all the scores by using the sigmoid function you defined before and store them in the `sigmoid_scores` variable."
   ],
   "metadata": {
    "deletable": false,
    "editable": false,
    "nbgrader": {
     "cell_type": "markdown",
     "checksum": "5cbe6bcb73ea5f0741441f1711cef7c6",
     "grade": false,
     "grade_id": "cell-63dec5e13d0d0024",
     "locked": true,
     "schema_version": 3,
     "solution": false,
     "task": false
    }
   }
  },
  {
   "cell_type": "code",
   "execution_count": 24,
   "source": [
    "sigmoid_scores = 0\r\n",
    "\r\n",
    "# YOUR CODE HERE\r\n",
    "sigmoid_scores = sigmoid(scores)\r\n",
    "sigmoid_scores\r\n",
    "\r\n",
    "#raise NotImplementedError()"
   ],
   "outputs": [
    {
     "output_type": "stream",
     "name": "stdout",
     "text": [
      "[0.99999999999997, 1.0, 1.0]\n"
     ]
    }
   ],
   "metadata": {
    "deletable": false,
    "nbgrader": {
     "cell_type": "code",
     "checksum": "7b2e6f1f098073a4b05943d1c34cd269",
     "grade": false,
     "grade_id": "cell-f765e664087d74f0",
     "locked": false,
     "schema_version": 3,
     "solution": true,
     "task": false
    }
   }
  },
  {
   "cell_type": "code",
   "execution_count": null,
   "source": [
    "assert sigmoid_scores.shape == (3,)"
   ],
   "outputs": [],
   "metadata": {
    "deletable": false,
    "editable": false,
    "nbgrader": {
     "cell_type": "code",
     "checksum": "59accb48455763884ad26df082df1b43",
     "grade": true,
     "grade_id": "cell-4210905859c1bf9d",
     "locked": true,
     "points": 0,
     "schema_version": 3,
     "solution": false,
     "task": false
    }
   }
  },
  {
   "cell_type": "markdown",
   "source": [
    "Take the `step_scores` as predicted scores. You know that you can update your model weights using the formula:\n",
    "$$w_{i(new)}=w_{i(old)} + \\eta(y-\\hat{y})x_{i}$$\n",
    "where $y$ is the correct label of your data point (your `y[i]`) and $\\hat{y}$ is the `step_scores`. And what about $\\eta$? It's the learning rate. \n",
    "\n",
    "Set the learning rate to 0.1, and create the function `update(W_old, b_old, X, y, step_scores, eta)` that returns the updated weigths vector and bias. Test it using as input (X,y) the first data point of your dataset (*Hint*:`X[0], y[0]`, and of course `step_score[0]`)."
   ],
   "metadata": {
    "deletable": false,
    "editable": false,
    "nbgrader": {
     "cell_type": "markdown",
     "checksum": "84b3121b89f0d0a78dc17ce6bb24e6fa",
     "grade": false,
     "grade_id": "cell-4826ac496f74789c",
     "locked": true,
     "schema_version": 3,
     "solution": false,
     "task": false
    }
   }
  },
  {
   "cell_type": "code",
   "execution_count": 25,
   "source": [
    "def update_weights(W_old, b_old, X, y, step_scores, eta):\r\n",
    "    W_new = W_old + eta * (y - step_scores) * X\r\n",
    "    b_new = b_old + eta *(y - step_scores)\r\n",
    "    \r\n",
    "    return W_new, b_new\r\n",
    "\r\n",
    "W_new, b_new = update_weights(W,b,X[0],y[0],step_scores[0],0.1)\r\n",
    "\r\n",
    "\r\n",
    "W, b, W_new, b_new\r\n",
    "# YOUR CODE HERE\r\n",
    "#raise NotImplementedError()"
   ],
   "outputs": [
    {
     "output_type": "execute_result",
     "data": {
      "text/plain": [
       "(array([ 0.20694143,  0.81670835,  0.33340713, -0.47973242]),\n",
       " array([0.60181613]),\n",
       " array([ 0.20694143,  0.81670835,  0.33340713, -0.47973242]),\n",
       " array([0.60181613]))"
      ]
     },
     "metadata": {},
     "execution_count": 25
    }
   ],
   "metadata": {
    "deletable": false,
    "nbgrader": {
     "cell_type": "code",
     "checksum": "87494e3786cf53af9cec534b0596a8fb",
     "grade": false,
     "grade_id": "cell-d26387e4b70d46a5",
     "locked": false,
     "schema_version": 3,
     "solution": true,
     "task": false
    }
   }
  },
  {
   "cell_type": "code",
   "execution_count": null,
   "source": [
    "assert W_new.shape == (4,)\r\n",
    "assert b_new.shape == (1,)"
   ],
   "outputs": [],
   "metadata": {
    "deletable": false,
    "editable": false,
    "nbgrader": {
     "cell_type": "code",
     "checksum": "2f2dfbdb9982ef1e39cfe34e87959181",
     "grade": true,
     "grade_id": "cell-8465db2dfb20da02",
     "locked": true,
     "points": 0,
     "schema_version": 3,
     "solution": false,
     "task": false
    }
   }
  },
  {
   "cell_type": "markdown",
   "source": [
    "Create a for loop to update the weights on each of the points in your dataset. In other words:\n",
    "Iterate over the data points in X and the labels in y\n",
    "- compute the `step_score` using the W, b that you have randomly inititated\n",
    "- use the `update_weights` function to update them\n",
    "- repeat\n",
    "\n",
    "Do it for 10 epochs."
   ],
   "metadata": {
    "deletable": false,
    "editable": false,
    "nbgrader": {
     "cell_type": "markdown",
     "checksum": "edc54e40c6843756eff23b13084fcc4b",
     "grade": false,
     "grade_id": "cell-12a625a98ceda43c",
     "locked": true,
     "schema_version": 3,
     "solution": false,
     "task": false
    }
   }
  },
  {
   "cell_type": "code",
   "execution_count": 28,
   "source": [
    "epochs = 0\r\n",
    "step_score = 0\r\n",
    "eta = 0\r\n",
    "for epoch in range(epochs):\r\n",
    "    for x, label in zip(X, y):\r\n",
    "        score = W @ x + b\r\n",
    "        step_scores = step(score)\r\n",
    "        W_new, b_new = update_weights(W,b,x,label, step_score,eta)\r\n",
    "        pass\r\n",
    "\r\n",
    "# YOUR CODE HERE\r\n",
    "#raise NotImplementedError()"
   ],
   "outputs": [],
   "metadata": {
    "deletable": false,
    "nbgrader": {
     "cell_type": "code",
     "checksum": "4becc3d6391f1cde47d257f19641abf4",
     "grade": false,
     "grade_id": "cell-67c5d7eaf5a420b2",
     "locked": false,
     "schema_version": 3,
     "solution": true,
     "task": false
    }
   }
  },
  {
   "cell_type": "code",
   "execution_count": 30,
   "source": [
    "assert W_new.shape == (4,)\r\n",
    "assert b_new.shape == (1,)"
   ],
   "outputs": [],
   "metadata": {
    "deletable": false,
    "editable": false,
    "nbgrader": {
     "cell_type": "code",
     "checksum": "059f8e429ddece34350bf1846d007bcd",
     "grade": true,
     "grade_id": "cell-2c08018e859be627",
     "locked": true,
     "points": 1,
     "schema_version": 3,
     "solution": false,
     "task": false
    }
   }
  },
  {
   "cell_type": "markdown",
   "source": [
    "Now that you got so far, let's try to train a model for the Iris Dataset.\n",
    "\n",
    "Maybe you don't like it, but you can't do great things using a perceptron. At the same time, understanding the steps behind it can help you a lot to build your understanding around the neural networks. \n",
    "\n",
    "In fact, a neural network is basically the combination of multiple perceptrons on the same input, and a deep neural network is a combination of multiple perceptrons on the combination of multiple perceptrons on ... on the same input! \n",
    "\n",
    "I'll help you giving an helper function that, given weights, bias, (x1,x2) coordinates and binary labels, plots the data points and the boundary line:"
   ],
   "metadata": {
    "deletable": false,
    "editable": false,
    "nbgrader": {
     "cell_type": "markdown",
     "checksum": "36f9e15188262c75b50256659121d9ec",
     "grade": false,
     "grade_id": "cell-c5747c2671ca337b",
     "locked": true,
     "schema_version": 3,
     "solution": false,
     "task": false
    }
   }
  },
  {
   "cell_type": "code",
   "execution_count": 32,
   "source": [
    "from IPython import display\r\n",
    "import time\r\n",
    "# function that plots data and linear classifier\r\n",
    "def plot_border(w1, w2, b, data, fig):\r\n",
    "    \r\n",
    "    plt.axis([0, 10, 0, 6])\r\n",
    "    plt.grid()\r\n",
    "    \r\n",
    "    # scatter data\r\n",
    "    for i in range(len(data)) :\r\n",
    "        point = data[i]\r\n",
    "        color = \"r\"\r\n",
    "        if point[2] == 0 :\r\n",
    "            color = \"b\"\r\n",
    "        plt.scatter(point[0], point[1], c=color)\r\n",
    "\r\n",
    "    # separation line\r\n",
    "    x = np.linspace(0, 10, 100)\r\n",
    "    plt.plot(x, -w1/w2*x+b/w2, '-g', label='y=w1*x+b')\r\n",
    "    plt.show()"
   ],
   "outputs": [],
   "metadata": {
    "deletable": false,
    "editable": false,
    "nbgrader": {
     "cell_type": "code",
     "checksum": "4298900d8ab7430698ca3506b9769206",
     "grade": false,
     "grade_id": "cell-b85e4f97033e7343",
     "locked": true,
     "schema_version": 3,
     "solution": false,
     "task": false
    }
   }
  },
  {
   "cell_type": "code",
   "execution_count": 51,
   "source": [
    "### load data ###\r\n",
    "\r\n",
    "# each point is a tuple (sepal length, sepal width, flower type)\r\n",
    "# types: 0 for Setosa & 1 for Versicolor\r\n",
    "\r\n",
    "data = [[ 5.1,  3.5,  0 ],\r\n",
    "       [ 4.9,  3. ,  0 ],\r\n",
    "       [ 4.7,  3.2,  0 ],\r\n",
    "       [ 4.6,  3.1,  0 ],\r\n",
    "       [ 5. ,  3.6,  0 ],\r\n",
    "       [ 5.4,  3.9,  0 ],\r\n",
    "       [ 4.6,  3.4,  0 ],\r\n",
    "       [ 5. ,  3.4,  0 ],\r\n",
    "       [ 4.4,  2.9,  0 ],\r\n",
    "       [ 4.9,  3.1,  0 ],\r\n",
    "       [ 5.4,  3.7,  0 ],\r\n",
    "       [ 4.8,  3.4,  0 ],\r\n",
    "       [ 4.8,  3. ,  0 ],\r\n",
    "       [ 4.3,  3. ,  0 ],\r\n",
    "       [ 5.8,  4. ,  0 ],\r\n",
    "       [ 5.7,  4.4,  0 ],\r\n",
    "       [ 5.4,  3.9,  0 ],\r\n",
    "       [ 5.1,  3.5,  0 ],\r\n",
    "       [ 5.7,  3.8,  0 ],\r\n",
    "       [ 5.1,  3.8,  0 ],\r\n",
    "       [ 7. ,  3.2,  1 ],\r\n",
    "       [ 6.4,  3.2,  1 ],\r\n",
    "       [ 6.9,  3.1,  1 ],\r\n",
    "       [ 5.5,  2.3,  1 ],\r\n",
    "       [ 6.5,  2.8,  1 ],\r\n",
    "       [ 5.7,  2.8,  1 ],\r\n",
    "       [ 6.3,  3.3,  1 ],\r\n",
    "       [ 4.9,  2.4,  1 ],\r\n",
    "       [ 6.6,  2.9,  1 ],\r\n",
    "       [ 5.2,  2.7,  1 ],\r\n",
    "       [ 5. ,  2. ,  1 ],\r\n",
    "       [ 5.9,  3. ,  1 ],\r\n",
    "       [ 6. ,  2.2,  1 ],\r\n",
    "       [ 6.1,  2.9,  1 ],\r\n",
    "       [ 5.6,  2.9,  1 ],\r\n",
    "       [ 6.7,  3.1,  1 ],\r\n",
    "       [ 5.6,  3. ,  1 ],\r\n",
    "       [ 5.8,  2.7,  1 ],\r\n",
    "       [ 6.2,  2.2,  1 ],\r\n",
    "       [ 5.6,  2.5,  1 ],\r\n",
    "       [ 5.9,  3.2,  1 ],\r\n",
    "       [ 6.1,  2.8,  1 ],\r\n",
    "       [ 6.3,  2.5,  1 ],\r\n",
    "       [ 6.1,  2.8,  1 ],\r\n",
    "       [ 6.4,  2.9,  1 ]]\r\n",
    "\r\n",
    "data = np.array(data)\r\n",
    "#data"
   ],
   "outputs": [],
   "metadata": {}
  },
  {
   "cell_type": "markdown",
   "source": [
    "Plot the data:"
   ],
   "metadata": {}
  },
  {
   "cell_type": "code",
   "execution_count": 95,
   "source": [
    "\r\n",
    "### visualize data ###\r\n",
    "\r\n",
    "# plt.axis([0, 10, 0, 6])\r\n",
    "# plt.grid()\r\n",
    "# for point in data:\r\n",
    "#     # your code here\r\n",
    "#     # use plt.scatter(...) function\r\n",
    "#     pass\r\n",
    "\r\n",
    "\r\n",
    "# YOUR CODE HERE\r\n",
    "plt.scatter(x=data[:,0], y= data[:,1], c=data[:,2])\r\n",
    "#raise NotImplementedError()"
   ],
   "outputs": [
    {
     "output_type": "execute_result",
     "data": {
      "text/plain": [
       "<matplotlib.collections.PathCollection at 0x1145f5209a0>"
      ]
     },
     "metadata": {},
     "execution_count": 95
    },
    {
     "output_type": "display_data",
     "data": {
      "text/plain": [
       "<Figure size 432x288 with 1 Axes>"
      ],
      "image/svg+xml": "<?xml version=\"1.0\" encoding=\"utf-8\" standalone=\"no\"?>\r\n<!DOCTYPE svg PUBLIC \"-//W3C//DTD SVG 1.1//EN\"\r\n  \"http://www.w3.org/Graphics/SVG/1.1/DTD/svg11.dtd\">\r\n<!-- Created with matplotlib (https://matplotlib.org/) -->\r\n<svg height=\"250.670071pt\" version=\"1.1\" viewBox=\"0 0 372.103125 250.670071\" width=\"372.103125pt\" xmlns=\"http://www.w3.org/2000/svg\" xmlns:xlink=\"http://www.w3.org/1999/xlink\">\r\n <metadata>\r\n  <rdf:RDF xmlns:cc=\"http://creativecommons.org/ns#\" xmlns:dc=\"http://purl.org/dc/elements/1.1/\" xmlns:rdf=\"http://www.w3.org/1999/02/22-rdf-syntax-ns#\">\r\n   <cc:Work>\r\n    <dc:type rdf:resource=\"http://purl.org/dc/dcmitype/StillImage\"/>\r\n    <dc:date>2021-08-18T15:37:41.671896</dc:date>\r\n    <dc:format>image/svg+xml</dc:format>\r\n    <dc:creator>\r\n     <cc:Agent>\r\n      <dc:title>Matplotlib v3.3.4, https://matplotlib.org/</dc:title>\r\n     </cc:Agent>\r\n    </dc:creator>\r\n   </cc:Work>\r\n  </rdf:RDF>\r\n </metadata>\r\n <defs>\r\n  <style type=\"text/css\">*{stroke-linecap:butt;stroke-linejoin:round;}</style>\r\n </defs>\r\n <g id=\"figure_1\">\r\n  <g id=\"patch_1\">\r\n   <path d=\"M 0 250.670071 \r\nL 372.103125 250.670071 \r\nL 372.103125 0 \r\nL 0 0 \r\nz\r\n\" style=\"fill:none;\"/>\r\n  </g>\r\n  <g id=\"axes_1\">\r\n   <g id=\"patch_2\">\r\n    <path d=\"M 30.103125 226.791946 \r\nL 364.903125 226.791946 \r\nL 364.903125 9.351946 \r\nL 30.103125 9.351946 \r\nz\r\n\" style=\"fill:#ffffff;\"/>\r\n   </g>\r\n   <g id=\"PathCollection_1\">\r\n    <defs>\r\n     <path d=\"M 0 3 \r\nC 0.795609 3 1.55874 2.683901 2.12132 2.12132 \r\nC 2.683901 1.55874 3 0.795609 3 -0 \r\nC 3 -0.795609 2.683901 -1.55874 2.12132 -2.12132 \r\nC 1.55874 -2.683901 0.795609 -3 0 -3 \r\nC -0.795609 -3 -1.55874 -2.683901 -2.12132 -2.12132 \r\nC -2.683901 -1.55874 -3 -0.795609 -3 0 \r\nC -3 0.795609 -2.683901 1.55874 -2.12132 2.12132 \r\nC -1.55874 2.683901 -0.795609 3 0 3 \r\nz\r\n\" id=\"C0_0_a1a1395209\"/>\r\n    </defs>\r\n    <g clip-path=\"url(#p321ba9bf25)\">\r\n     <use style=\"fill:#fde725;stroke:#fde725;\" x=\"338.412216\" xlink:href=\"#C0_0_a1a1395209\" y=\"126.30831\"/>\r\n    </g>\r\n    <g clip-path=\"url(#p321ba9bf25)\">\r\n     <use style=\"fill:#fde725;stroke:#fde725;\" x=\"191.866761\" xlink:href=\"#C0_0_a1a1395209\" y=\"175.726491\"/>\r\n    </g>\r\n    <g clip-path=\"url(#p321ba9bf25)\">\r\n     <use style=\"fill:#fde725;stroke:#fde725;\" x=\"112.95767\" xlink:href=\"#C0_0_a1a1395209\" y=\"183.962855\"/>\r\n    </g>\r\n    <g clip-path=\"url(#p321ba9bf25)\">\r\n     <use style=\"fill:#fde725;stroke:#fde725;\" x=\"225.684943\" xlink:href=\"#C0_0_a1a1395209\" y=\"134.544673\"/>\r\n    </g>\r\n    <g clip-path=\"url(#p321ba9bf25)\">\r\n     <use style=\"fill:#fde725;stroke:#fde725;\" x=\"248.230398\" xlink:href=\"#C0_0_a1a1395209\" y=\"151.017401\"/>\r\n    </g>\r\n    <g clip-path=\"url(#p321ba9bf25)\">\r\n     <use style=\"fill:#fde725;stroke:#fde725;\" x=\"214.412216\" xlink:href=\"#C0_0_a1a1395209\" y=\"159.253764\"/>\r\n    </g>\r\n    <g clip-path=\"url(#p321ba9bf25)\">\r\n     <use style=\"fill:#fde725;stroke:#fde725;\" x=\"225.684943\" xlink:href=\"#C0_0_a1a1395209\" y=\"118.071946\"/>\r\n    </g>\r\n    <g clip-path=\"url(#p321ba9bf25)\">\r\n     <use style=\"fill:#fde725;stroke:#fde725;\" x=\"349.684943\" xlink:href=\"#C0_0_a1a1395209\" y=\"118.071946\"/>\r\n    </g>\r\n    <g clip-path=\"url(#p321ba9bf25)\">\r\n     <use style=\"fill:#fde725;stroke:#fde725;\" x=\"304.594034\" xlink:href=\"#C0_0_a1a1395209\" y=\"142.781037\"/>\r\n    </g>\r\n    <g clip-path=\"url(#p321ba9bf25)\">\r\n     <use style=\"fill:#fde725;stroke:#fde725;\" x=\"293.321307\" xlink:href=\"#C0_0_a1a1395209\" y=\"151.017401\"/>\r\n    </g>\r\n    <g clip-path=\"url(#p321ba9bf25)\">\r\n     <use style=\"fill:#440154;stroke:#440154;\" x=\"135.503125\" xlink:href=\"#C0_0_a1a1395209\" y=\"93.362855\"/>\r\n    </g>\r\n    <g clip-path=\"url(#p321ba9bf25)\">\r\n     <use style=\"fill:#440154;stroke:#440154;\" x=\"56.594034\" xlink:href=\"#C0_0_a1a1395209\" y=\"142.781037\"/>\r\n    </g>\r\n    <g clip-path=\"url(#p321ba9bf25)\">\r\n     <use style=\"fill:#440154;stroke:#440154;\" x=\"101.684943\" xlink:href=\"#C0_0_a1a1395209\" y=\"134.544673\"/>\r\n    </g>\r\n    <g clip-path=\"url(#p321ba9bf25)\">\r\n     <use style=\"fill:#fde725;stroke:#fde725;\" x=\"270.775852\" xlink:href=\"#C0_0_a1a1395209\" y=\"109.835582\"/>\r\n    </g>\r\n    <g clip-path=\"url(#p321ba9bf25)\">\r\n     <use style=\"fill:#440154;stroke:#440154;\" x=\"101.684943\" xlink:href=\"#C0_0_a1a1395209\" y=\"101.599219\"/>\r\n    </g>\r\n    <g clip-path=\"url(#p321ba9bf25)\">\r\n     <use style=\"fill:#440154;stroke:#440154;\" x=\"203.139489\" xlink:href=\"#C0_0_a1a1395209\" y=\"68.653764\"/>\r\n    </g>\r\n    <g clip-path=\"url(#p321ba9bf25)\">\r\n     <use style=\"fill:#440154;stroke:#440154;\" x=\"169.321307\" xlink:href=\"#C0_0_a1a1395209\" y=\"60.417401\"/>\r\n    </g>\r\n    <g clip-path=\"url(#p321ba9bf25)\">\r\n     <use style=\"fill:#fde725;stroke:#fde725;\" x=\"191.866761\" xlink:href=\"#C0_0_a1a1395209\" y=\"142.781037\"/>\r\n    </g>\r\n    <g clip-path=\"url(#p321ba9bf25)\">\r\n     <use style=\"fill:#fde725;stroke:#fde725;\" x=\"236.95767\" xlink:href=\"#C0_0_a1a1395209\" y=\"200.435582\"/>\r\n    </g>\r\n    <g clip-path=\"url(#p321ba9bf25)\">\r\n     <use style=\"fill:#fde725;stroke:#fde725;\" x=\"124.230398\" xlink:href=\"#C0_0_a1a1395209\" y=\"216.90831\"/>\r\n    </g>\r\n    <g clip-path=\"url(#p321ba9bf25)\">\r\n     <use style=\"fill:#440154;stroke:#440154;\" x=\"90.412216\" xlink:href=\"#C0_0_a1a1395209\" y=\"118.071946\"/>\r\n    </g>\r\n    <g clip-path=\"url(#p321ba9bf25)\">\r\n     <use style=\"fill:#fde725;stroke:#fde725;\" x=\"203.139489\" xlink:href=\"#C0_0_a1a1395209\" y=\"151.017401\"/>\r\n    </g>\r\n    <g clip-path=\"url(#p321ba9bf25)\">\r\n     <use style=\"fill:#440154;stroke:#440154;\" x=\"112.95767\" xlink:href=\"#C0_0_a1a1395209\" y=\"134.544673\"/>\r\n    </g>\r\n    <g clip-path=\"url(#p321ba9bf25)\">\r\n     <use style=\"fill:#fde725;stroke:#fde725;\" x=\"180.594034\" xlink:href=\"#C0_0_a1a1395209\" y=\"192.199219\"/>\r\n    </g>\r\n    <g clip-path=\"url(#p321ba9bf25)\">\r\n     <use style=\"fill:#440154;stroke:#440154;\" x=\"79.139489\" xlink:href=\"#C0_0_a1a1395209\" y=\"126.30831\"/>\r\n    </g>\r\n    <g clip-path=\"url(#p321ba9bf25)\">\r\n     <use style=\"fill:#fde725;stroke:#fde725;\" x=\"191.866761\" xlink:href=\"#C0_0_a1a1395209\" y=\"134.544673\"/>\r\n    </g>\r\n    <g clip-path=\"url(#p321ba9bf25)\">\r\n     <use style=\"fill:#440154;stroke:#440154;\" x=\"203.139489\" xlink:href=\"#C0_0_a1a1395209\" y=\"19.235582\"/>\r\n    </g>\r\n    <g clip-path=\"url(#p321ba9bf25)\">\r\n     <use style=\"fill:#440154;stroke:#440154;\" x=\"124.230398\" xlink:href=\"#C0_0_a1a1395209\" y=\"85.126491\"/>\r\n    </g>\r\n    <g clip-path=\"url(#p321ba9bf25)\">\r\n     <use style=\"fill:#fde725;stroke:#fde725;\" x=\"248.230398\" xlink:href=\"#C0_0_a1a1395209\" y=\"151.017401\"/>\r\n    </g>\r\n    <g clip-path=\"url(#p321ba9bf25)\">\r\n     <use style=\"fill:#440154;stroke:#440154;\" x=\"124.230398\" xlink:href=\"#C0_0_a1a1395209\" y=\"101.599219\"/>\r\n    </g>\r\n    <g clip-path=\"url(#p321ba9bf25)\">\r\n     <use style=\"fill:#fde725;stroke:#fde725;\" x=\"259.503125\" xlink:href=\"#C0_0_a1a1395209\" y=\"200.435582\"/>\r\n    </g>\r\n    <g clip-path=\"url(#p321ba9bf25)\">\r\n     <use style=\"fill:#440154;stroke:#440154;\" x=\"135.503125\" xlink:href=\"#C0_0_a1a1395209\" y=\"68.653764\"/>\r\n    </g>\r\n    <g clip-path=\"url(#p321ba9bf25)\">\r\n     <use style=\"fill:#fde725;stroke:#fde725;\" x=\"146.775852\" xlink:href=\"#C0_0_a1a1395209\" y=\"159.253764\"/>\r\n    </g>\r\n    <g clip-path=\"url(#p321ba9bf25)\">\r\n     <use style=\"fill:#440154;stroke:#440154;\" x=\"112.95767\" xlink:href=\"#C0_0_a1a1395209\" y=\"126.30831\"/>\r\n    </g>\r\n    <g clip-path=\"url(#p321ba9bf25)\">\r\n     <use style=\"fill:#fde725;stroke:#fde725;\" x=\"282.04858\" xlink:href=\"#C0_0_a1a1395209\" y=\"118.071946\"/>\r\n    </g>\r\n    <g clip-path=\"url(#p321ba9bf25)\">\r\n     <use style=\"fill:#fde725;stroke:#fde725;\" x=\"270.775852\" xlink:href=\"#C0_0_a1a1395209\" y=\"175.726491\"/>\r\n    </g>\r\n    <g clip-path=\"url(#p321ba9bf25)\">\r\n     <use style=\"fill:#fde725;stroke:#fde725;\" x=\"248.230398\" xlink:href=\"#C0_0_a1a1395209\" y=\"142.781037\"/>\r\n    </g>\r\n    <g clip-path=\"url(#p321ba9bf25)\">\r\n     <use style=\"fill:#fde725;stroke:#fde725;\" x=\"282.04858\" xlink:href=\"#C0_0_a1a1395209\" y=\"142.781037\"/>\r\n    </g>\r\n    <g clip-path=\"url(#p321ba9bf25)\">\r\n     <use style=\"fill:#440154;stroke:#440154;\" x=\"169.321307\" xlink:href=\"#C0_0_a1a1395209\" y=\"60.417401\"/>\r\n    </g>\r\n    <g clip-path=\"url(#p321ba9bf25)\">\r\n     <use style=\"fill:#440154;stroke:#440154;\" x=\"45.321307\" xlink:href=\"#C0_0_a1a1395209\" y=\"134.544673\"/>\r\n    </g>\r\n    <g clip-path=\"url(#p321ba9bf25)\">\r\n     <use style=\"fill:#440154;stroke:#440154;\" x=\"79.139489\" xlink:href=\"#C0_0_a1a1395209\" y=\"101.599219\"/>\r\n    </g>\r\n    <g clip-path=\"url(#p321ba9bf25)\">\r\n     <use style=\"fill:#fde725;stroke:#fde725;\" x=\"315.866761\" xlink:href=\"#C0_0_a1a1395209\" y=\"126.30831\"/>\r\n    </g>\r\n    <g clip-path=\"url(#p321ba9bf25)\">\r\n     <use style=\"fill:#440154;stroke:#440154;\" x=\"214.412216\" xlink:href=\"#C0_0_a1a1395209\" y=\"52.181037\"/>\r\n    </g>\r\n    <g clip-path=\"url(#p321ba9bf25)\">\r\n     <use style=\"fill:#440154;stroke:#440154;\" x=\"135.503125\" xlink:href=\"#C0_0_a1a1395209\" y=\"93.362855\"/>\r\n    </g>\r\n    <g clip-path=\"url(#p321ba9bf25)\">\r\n     <use style=\"fill:#440154;stroke:#440154;\" x=\"169.321307\" xlink:href=\"#C0_0_a1a1395209\" y=\"76.890128\"/>\r\n    </g>\r\n   </g>\r\n   <g id=\"matplotlib.axis_1\">\r\n    <g id=\"xtick_1\">\r\n     <g id=\"line2d_1\">\r\n      <defs>\r\n       <path d=\"M 0 0 \r\nL 0 3.5 \r\n\" id=\"mdb96b0584a\" style=\"stroke:#000000;stroke-width:0.8;\"/>\r\n      </defs>\r\n      <g>\r\n       <use style=\"stroke:#000000;stroke-width:0.8;\" x=\"67.866761\" xlink:href=\"#mdb96b0584a\" y=\"226.791946\"/>\r\n      </g>\r\n     </g>\r\n     <g id=\"text_1\">\r\n      <!-- 4.5 -->\r\n      <g transform=\"translate(59.915199 241.390384)scale(0.1 -0.1)\">\r\n       <defs>\r\n        <path d=\"M 37.796875 64.3125 \r\nL 12.890625 25.390625 \r\nL 37.796875 25.390625 \r\nz\r\nM 35.203125 72.90625 \r\nL 47.609375 72.90625 \r\nL 47.609375 25.390625 \r\nL 58.015625 25.390625 \r\nL 58.015625 17.1875 \r\nL 47.609375 17.1875 \r\nL 47.609375 0 \r\nL 37.796875 0 \r\nL 37.796875 17.1875 \r\nL 4.890625 17.1875 \r\nL 4.890625 26.703125 \r\nz\r\n\" id=\"DejaVuSans-52\"/>\r\n        <path d=\"M 10.6875 12.40625 \r\nL 21 12.40625 \r\nL 21 0 \r\nL 10.6875 0 \r\nz\r\n\" id=\"DejaVuSans-46\"/>\r\n        <path d=\"M 10.796875 72.90625 \r\nL 49.515625 72.90625 \r\nL 49.515625 64.59375 \r\nL 19.828125 64.59375 \r\nL 19.828125 46.734375 \r\nQ 21.96875 47.46875 24.109375 47.828125 \r\nQ 26.265625 48.1875 28.421875 48.1875 \r\nQ 40.625 48.1875 47.75 41.5 \r\nQ 54.890625 34.8125 54.890625 23.390625 \r\nQ 54.890625 11.625 47.5625 5.09375 \r\nQ 40.234375 -1.421875 26.90625 -1.421875 \r\nQ 22.3125 -1.421875 17.546875 -0.640625 \r\nQ 12.796875 0.140625 7.71875 1.703125 \r\nL 7.71875 11.625 \r\nQ 12.109375 9.234375 16.796875 8.0625 \r\nQ 21.484375 6.890625 26.703125 6.890625 \r\nQ 35.15625 6.890625 40.078125 11.328125 \r\nQ 45.015625 15.765625 45.015625 23.390625 \r\nQ 45.015625 31 40.078125 35.4375 \r\nQ 35.15625 39.890625 26.703125 39.890625 \r\nQ 22.75 39.890625 18.8125 39.015625 \r\nQ 14.890625 38.140625 10.796875 36.28125 \r\nz\r\n\" id=\"DejaVuSans-53\"/>\r\n       </defs>\r\n       <use xlink:href=\"#DejaVuSans-52\"/>\r\n       <use x=\"63.623047\" xlink:href=\"#DejaVuSans-46\"/>\r\n       <use x=\"95.410156\" xlink:href=\"#DejaVuSans-53\"/>\r\n      </g>\r\n     </g>\r\n    </g>\r\n    <g id=\"xtick_2\">\r\n     <g id=\"line2d_2\">\r\n      <g>\r\n       <use style=\"stroke:#000000;stroke-width:0.8;\" x=\"124.230398\" xlink:href=\"#mdb96b0584a\" y=\"226.791946\"/>\r\n      </g>\r\n     </g>\r\n     <g id=\"text_2\">\r\n      <!-- 5.0 -->\r\n      <g transform=\"translate(116.278835 241.390384)scale(0.1 -0.1)\">\r\n       <defs>\r\n        <path d=\"M 31.78125 66.40625 \r\nQ 24.171875 66.40625 20.328125 58.90625 \r\nQ 16.5 51.421875 16.5 36.375 \r\nQ 16.5 21.390625 20.328125 13.890625 \r\nQ 24.171875 6.390625 31.78125 6.390625 \r\nQ 39.453125 6.390625 43.28125 13.890625 \r\nQ 47.125 21.390625 47.125 36.375 \r\nQ 47.125 51.421875 43.28125 58.90625 \r\nQ 39.453125 66.40625 31.78125 66.40625 \r\nz\r\nM 31.78125 74.21875 \r\nQ 44.046875 74.21875 50.515625 64.515625 \r\nQ 56.984375 54.828125 56.984375 36.375 \r\nQ 56.984375 17.96875 50.515625 8.265625 \r\nQ 44.046875 -1.421875 31.78125 -1.421875 \r\nQ 19.53125 -1.421875 13.0625 8.265625 \r\nQ 6.59375 17.96875 6.59375 36.375 \r\nQ 6.59375 54.828125 13.0625 64.515625 \r\nQ 19.53125 74.21875 31.78125 74.21875 \r\nz\r\n\" id=\"DejaVuSans-48\"/>\r\n       </defs>\r\n       <use xlink:href=\"#DejaVuSans-53\"/>\r\n       <use x=\"63.623047\" xlink:href=\"#DejaVuSans-46\"/>\r\n       <use x=\"95.410156\" xlink:href=\"#DejaVuSans-48\"/>\r\n      </g>\r\n     </g>\r\n    </g>\r\n    <g id=\"xtick_3\">\r\n     <g id=\"line2d_3\">\r\n      <g>\r\n       <use style=\"stroke:#000000;stroke-width:0.8;\" x=\"180.594034\" xlink:href=\"#mdb96b0584a\" y=\"226.791946\"/>\r\n      </g>\r\n     </g>\r\n     <g id=\"text_3\">\r\n      <!-- 5.5 -->\r\n      <g transform=\"translate(172.642472 241.390384)scale(0.1 -0.1)\">\r\n       <use xlink:href=\"#DejaVuSans-53\"/>\r\n       <use x=\"63.623047\" xlink:href=\"#DejaVuSans-46\"/>\r\n       <use x=\"95.410156\" xlink:href=\"#DejaVuSans-53\"/>\r\n      </g>\r\n     </g>\r\n    </g>\r\n    <g id=\"xtick_4\">\r\n     <g id=\"line2d_4\">\r\n      <g>\r\n       <use style=\"stroke:#000000;stroke-width:0.8;\" x=\"236.95767\" xlink:href=\"#mdb96b0584a\" y=\"226.791946\"/>\r\n      </g>\r\n     </g>\r\n     <g id=\"text_4\">\r\n      <!-- 6.0 -->\r\n      <g transform=\"translate(229.006108 241.390384)scale(0.1 -0.1)\">\r\n       <defs>\r\n        <path d=\"M 33.015625 40.375 \r\nQ 26.375 40.375 22.484375 35.828125 \r\nQ 18.609375 31.296875 18.609375 23.390625 \r\nQ 18.609375 15.53125 22.484375 10.953125 \r\nQ 26.375 6.390625 33.015625 6.390625 \r\nQ 39.65625 6.390625 43.53125 10.953125 \r\nQ 47.40625 15.53125 47.40625 23.390625 \r\nQ 47.40625 31.296875 43.53125 35.828125 \r\nQ 39.65625 40.375 33.015625 40.375 \r\nz\r\nM 52.59375 71.296875 \r\nL 52.59375 62.3125 \r\nQ 48.875 64.0625 45.09375 64.984375 \r\nQ 41.3125 65.921875 37.59375 65.921875 \r\nQ 27.828125 65.921875 22.671875 59.328125 \r\nQ 17.53125 52.734375 16.796875 39.40625 \r\nQ 19.671875 43.65625 24.015625 45.921875 \r\nQ 28.375 48.1875 33.59375 48.1875 \r\nQ 44.578125 48.1875 50.953125 41.515625 \r\nQ 57.328125 34.859375 57.328125 23.390625 \r\nQ 57.328125 12.15625 50.6875 5.359375 \r\nQ 44.046875 -1.421875 33.015625 -1.421875 \r\nQ 20.359375 -1.421875 13.671875 8.265625 \r\nQ 6.984375 17.96875 6.984375 36.375 \r\nQ 6.984375 53.65625 15.1875 63.9375 \r\nQ 23.390625 74.21875 37.203125 74.21875 \r\nQ 40.921875 74.21875 44.703125 73.484375 \r\nQ 48.484375 72.75 52.59375 71.296875 \r\nz\r\n\" id=\"DejaVuSans-54\"/>\r\n       </defs>\r\n       <use xlink:href=\"#DejaVuSans-54\"/>\r\n       <use x=\"63.623047\" xlink:href=\"#DejaVuSans-46\"/>\r\n       <use x=\"95.410156\" xlink:href=\"#DejaVuSans-48\"/>\r\n      </g>\r\n     </g>\r\n    </g>\r\n    <g id=\"xtick_5\">\r\n     <g id=\"line2d_5\">\r\n      <g>\r\n       <use style=\"stroke:#000000;stroke-width:0.8;\" x=\"293.321307\" xlink:href=\"#mdb96b0584a\" y=\"226.791946\"/>\r\n      </g>\r\n     </g>\r\n     <g id=\"text_5\">\r\n      <!-- 6.5 -->\r\n      <g transform=\"translate(285.369744 241.390384)scale(0.1 -0.1)\">\r\n       <use xlink:href=\"#DejaVuSans-54\"/>\r\n       <use x=\"63.623047\" xlink:href=\"#DejaVuSans-46\"/>\r\n       <use x=\"95.410156\" xlink:href=\"#DejaVuSans-53\"/>\r\n      </g>\r\n     </g>\r\n    </g>\r\n    <g id=\"xtick_6\">\r\n     <g id=\"line2d_6\">\r\n      <g>\r\n       <use style=\"stroke:#000000;stroke-width:0.8;\" x=\"349.684943\" xlink:href=\"#mdb96b0584a\" y=\"226.791946\"/>\r\n      </g>\r\n     </g>\r\n     <g id=\"text_6\">\r\n      <!-- 7.0 -->\r\n      <g transform=\"translate(341.733381 241.390384)scale(0.1 -0.1)\">\r\n       <defs>\r\n        <path d=\"M 8.203125 72.90625 \r\nL 55.078125 72.90625 \r\nL 55.078125 68.703125 \r\nL 28.609375 0 \r\nL 18.3125 0 \r\nL 43.21875 64.59375 \r\nL 8.203125 64.59375 \r\nz\r\n\" id=\"DejaVuSans-55\"/>\r\n       </defs>\r\n       <use xlink:href=\"#DejaVuSans-55\"/>\r\n       <use x=\"63.623047\" xlink:href=\"#DejaVuSans-46\"/>\r\n       <use x=\"95.410156\" xlink:href=\"#DejaVuSans-48\"/>\r\n      </g>\r\n     </g>\r\n    </g>\r\n   </g>\r\n   <g id=\"matplotlib.axis_2\">\r\n    <g id=\"ytick_1\">\r\n     <g id=\"line2d_7\">\r\n      <defs>\r\n       <path d=\"M 0 0 \r\nL -3.5 0 \r\n\" id=\"mec8a6d98f3\" style=\"stroke:#000000;stroke-width:0.8;\"/>\r\n      </defs>\r\n      <g>\r\n       <use style=\"stroke:#000000;stroke-width:0.8;\" x=\"30.103125\" xlink:href=\"#mec8a6d98f3\" y=\"216.90831\"/>\r\n      </g>\r\n     </g>\r\n     <g id=\"text_7\">\r\n      <!-- 2.0 -->\r\n      <g transform=\"translate(7.2 220.707528)scale(0.1 -0.1)\">\r\n       <defs>\r\n        <path d=\"M 19.1875 8.296875 \r\nL 53.609375 8.296875 \r\nL 53.609375 0 \r\nL 7.328125 0 \r\nL 7.328125 8.296875 \r\nQ 12.9375 14.109375 22.625 23.890625 \r\nQ 32.328125 33.6875 34.8125 36.53125 \r\nQ 39.546875 41.84375 41.421875 45.53125 \r\nQ 43.3125 49.21875 43.3125 52.78125 \r\nQ 43.3125 58.59375 39.234375 62.25 \r\nQ 35.15625 65.921875 28.609375 65.921875 \r\nQ 23.96875 65.921875 18.8125 64.3125 \r\nQ 13.671875 62.703125 7.8125 59.421875 \r\nL 7.8125 69.390625 \r\nQ 13.765625 71.78125 18.9375 73 \r\nQ 24.125 74.21875 28.421875 74.21875 \r\nQ 39.75 74.21875 46.484375 68.546875 \r\nQ 53.21875 62.890625 53.21875 53.421875 \r\nQ 53.21875 48.921875 51.53125 44.890625 \r\nQ 49.859375 40.875 45.40625 35.40625 \r\nQ 44.1875 33.984375 37.640625 27.21875 \r\nQ 31.109375 20.453125 19.1875 8.296875 \r\nz\r\n\" id=\"DejaVuSans-50\"/>\r\n       </defs>\r\n       <use xlink:href=\"#DejaVuSans-50\"/>\r\n       <use x=\"63.623047\" xlink:href=\"#DejaVuSans-46\"/>\r\n       <use x=\"95.410156\" xlink:href=\"#DejaVuSans-48\"/>\r\n      </g>\r\n     </g>\r\n    </g>\r\n    <g id=\"ytick_2\">\r\n     <g id=\"line2d_8\">\r\n      <g>\r\n       <use style=\"stroke:#000000;stroke-width:0.8;\" x=\"30.103125\" xlink:href=\"#mec8a6d98f3\" y=\"175.726491\"/>\r\n      </g>\r\n     </g>\r\n     <g id=\"text_8\">\r\n      <!-- 2.5 -->\r\n      <g transform=\"translate(7.2 179.52571)scale(0.1 -0.1)\">\r\n       <use xlink:href=\"#DejaVuSans-50\"/>\r\n       <use x=\"63.623047\" xlink:href=\"#DejaVuSans-46\"/>\r\n       <use x=\"95.410156\" xlink:href=\"#DejaVuSans-53\"/>\r\n      </g>\r\n     </g>\r\n    </g>\r\n    <g id=\"ytick_3\">\r\n     <g id=\"line2d_9\">\r\n      <g>\r\n       <use style=\"stroke:#000000;stroke-width:0.8;\" x=\"30.103125\" xlink:href=\"#mec8a6d98f3\" y=\"134.544673\"/>\r\n      </g>\r\n     </g>\r\n     <g id=\"text_9\">\r\n      <!-- 3.0 -->\r\n      <g transform=\"translate(7.2 138.343892)scale(0.1 -0.1)\">\r\n       <defs>\r\n        <path d=\"M 40.578125 39.3125 \r\nQ 47.65625 37.796875 51.625 33 \r\nQ 55.609375 28.21875 55.609375 21.1875 \r\nQ 55.609375 10.40625 48.1875 4.484375 \r\nQ 40.765625 -1.421875 27.09375 -1.421875 \r\nQ 22.515625 -1.421875 17.65625 -0.515625 \r\nQ 12.796875 0.390625 7.625 2.203125 \r\nL 7.625 11.71875 \r\nQ 11.71875 9.328125 16.59375 8.109375 \r\nQ 21.484375 6.890625 26.8125 6.890625 \r\nQ 36.078125 6.890625 40.9375 10.546875 \r\nQ 45.796875 14.203125 45.796875 21.1875 \r\nQ 45.796875 27.640625 41.28125 31.265625 \r\nQ 36.765625 34.90625 28.71875 34.90625 \r\nL 20.21875 34.90625 \r\nL 20.21875 43.015625 \r\nL 29.109375 43.015625 \r\nQ 36.375 43.015625 40.234375 45.921875 \r\nQ 44.09375 48.828125 44.09375 54.296875 \r\nQ 44.09375 59.90625 40.109375 62.90625 \r\nQ 36.140625 65.921875 28.71875 65.921875 \r\nQ 24.65625 65.921875 20.015625 65.03125 \r\nQ 15.375 64.15625 9.8125 62.3125 \r\nL 9.8125 71.09375 \r\nQ 15.4375 72.65625 20.34375 73.4375 \r\nQ 25.25 74.21875 29.59375 74.21875 \r\nQ 40.828125 74.21875 47.359375 69.109375 \r\nQ 53.90625 64.015625 53.90625 55.328125 \r\nQ 53.90625 49.265625 50.4375 45.09375 \r\nQ 46.96875 40.921875 40.578125 39.3125 \r\nz\r\n\" id=\"DejaVuSans-51\"/>\r\n       </defs>\r\n       <use xlink:href=\"#DejaVuSans-51\"/>\r\n       <use x=\"63.623047\" xlink:href=\"#DejaVuSans-46\"/>\r\n       <use x=\"95.410156\" xlink:href=\"#DejaVuSans-48\"/>\r\n      </g>\r\n     </g>\r\n    </g>\r\n    <g id=\"ytick_4\">\r\n     <g id=\"line2d_10\">\r\n      <g>\r\n       <use style=\"stroke:#000000;stroke-width:0.8;\" x=\"30.103125\" xlink:href=\"#mec8a6d98f3\" y=\"93.362855\"/>\r\n      </g>\r\n     </g>\r\n     <g id=\"text_10\">\r\n      <!-- 3.5 -->\r\n      <g transform=\"translate(7.2 97.162074)scale(0.1 -0.1)\">\r\n       <use xlink:href=\"#DejaVuSans-51\"/>\r\n       <use x=\"63.623047\" xlink:href=\"#DejaVuSans-46\"/>\r\n       <use x=\"95.410156\" xlink:href=\"#DejaVuSans-53\"/>\r\n      </g>\r\n     </g>\r\n    </g>\r\n    <g id=\"ytick_5\">\r\n     <g id=\"line2d_11\">\r\n      <g>\r\n       <use style=\"stroke:#000000;stroke-width:0.8;\" x=\"30.103125\" xlink:href=\"#mec8a6d98f3\" y=\"52.181037\"/>\r\n      </g>\r\n     </g>\r\n     <g id=\"text_11\">\r\n      <!-- 4.0 -->\r\n      <g transform=\"translate(7.2 55.980256)scale(0.1 -0.1)\">\r\n       <use xlink:href=\"#DejaVuSans-52\"/>\r\n       <use x=\"63.623047\" xlink:href=\"#DejaVuSans-46\"/>\r\n       <use x=\"95.410156\" xlink:href=\"#DejaVuSans-48\"/>\r\n      </g>\r\n     </g>\r\n    </g>\r\n    <g id=\"ytick_6\">\r\n     <g id=\"line2d_12\">\r\n      <g>\r\n       <use style=\"stroke:#000000;stroke-width:0.8;\" x=\"30.103125\" xlink:href=\"#mec8a6d98f3\" y=\"10.999219\"/>\r\n      </g>\r\n     </g>\r\n     <g id=\"text_12\">\r\n      <!-- 4.5 -->\r\n      <g transform=\"translate(7.2 14.798437)scale(0.1 -0.1)\">\r\n       <use xlink:href=\"#DejaVuSans-52\"/>\r\n       <use x=\"63.623047\" xlink:href=\"#DejaVuSans-46\"/>\r\n       <use x=\"95.410156\" xlink:href=\"#DejaVuSans-53\"/>\r\n      </g>\r\n     </g>\r\n    </g>\r\n   </g>\r\n   <g id=\"patch_3\">\r\n    <path d=\"M 30.103125 226.791946 \r\nL 30.103125 9.351946 \r\n\" style=\"fill:none;stroke:#000000;stroke-linecap:square;stroke-linejoin:miter;stroke-width:0.8;\"/>\r\n   </g>\r\n   <g id=\"patch_4\">\r\n    <path d=\"M 364.903125 226.791946 \r\nL 364.903125 9.351946 \r\n\" style=\"fill:none;stroke:#000000;stroke-linecap:square;stroke-linejoin:miter;stroke-width:0.8;\"/>\r\n   </g>\r\n   <g id=\"patch_5\">\r\n    <path d=\"M 30.103125 226.791946 \r\nL 364.903125 226.791946 \r\n\" style=\"fill:none;stroke:#000000;stroke-linecap:square;stroke-linejoin:miter;stroke-width:0.8;\"/>\r\n   </g>\r\n   <g id=\"patch_6\">\r\n    <path d=\"M 30.103125 9.351946 \r\nL 364.903125 9.351946 \r\n\" style=\"fill:none;stroke:#000000;stroke-linecap:square;stroke-linejoin:miter;stroke-width:0.8;\"/>\r\n   </g>\r\n  </g>\r\n </g>\r\n <defs>\r\n  <clipPath id=\"p321ba9bf25\">\r\n   <rect height=\"217.44\" width=\"334.8\" x=\"30.103125\" y=\"9.351946\"/>\r\n  </clipPath>\r\n </defs>\r\n</svg>\r\n",
      "image/png": "[encoded data removed]"
     },
     "metadata": {
      "needs_background": "light"
     }
    }
   ],
   "metadata": {
    "deletable": false,
    "nbgrader": {
     "cell_type": "code",
     "checksum": "2f508147b474170f40bd356792b4aa2c",
     "grade": true,
     "grade_id": "cell-036364c621db11d5",
     "locked": false,
     "points": 0,
     "schema_version": 3,
     "solution": true,
     "task": false
    }
   }
  },
  {
   "cell_type": "markdown",
   "source": [
    "Set the learning rate `eta` to 1, initialize the weights `w1` and `w2` by using the `np.random.rand()` method, and the bias `b` to 0. Then, run for 100 epochs the perceptron algorithm:\n",
    "- remember to shuffle the data at each epoch using the `np.random.shuffle(data)` function\n",
    "- in the for loop there's already a snippet for updating the image everytime:\n",
    "```\n",
    "plot_border(w1, w2, b, data_norm, fig)\n",
    "display.clear_output(wait=True)\n",
    "time.sleep(0.05)\n",
    "```\n",
    "- The weights here are on the form `w1` and `w2`. However, to use your previous code and so the dot product between W and the data, you need to pack `W = np.array([w1, w2])` and then to unpack `w1, w2 = W` before plotting at each epoch!\n"
   ],
   "metadata": {
    "deletable": false,
    "editable": false,
    "nbgrader": {
     "cell_type": "markdown",
     "checksum": "d5bb1c568659a522abc9707149c898db",
     "grade": false,
     "grade_id": "cell-1c1ee0a9107a6d90",
     "locked": true,
     "schema_version": 3,
     "solution": false,
     "task": false
    }
   }
  },
  {
   "cell_type": "code",
   "execution_count": 53,
   "source": [
    "eta = 1\r\n",
    "epochs = 100\r\n",
    "w1 = np.random.rand()\r\n",
    "w2 = np.random.rand()\r\n",
    "b = 0\r\n",
    "fig = plt.figure()\r\n",
    "\r\n",
    "for epoch in range(epochs):\r\n",
    "    # shuffle data\r\n",
    "    np.random.shuffle(data)\r\n",
    "    for x1, x2, y in data:\r\n",
    "        W = np.array([w1,w2])\r\n",
    "        X = np.array([x1,x2])\r\n",
    "        score = np.dot(W,X) + b\r\n",
    "        step_score = step(score)\r\n",
    "        W_new, b_new = update_weights(W,b,X,y, step_score, eta)\r\n",
    "        # remember to pack w1,w2 into a numpy array W\r\n",
    "        # remember to pack x1,x2 into a numpy array X\r\n",
    "        \r\n",
    "plot_border(w1, w2, b, data, fig)\r\n",
    "display.clear_output(wait=True)\r\n",
    "\r\n",
    "    \r\n",
    "    \r\n",
    "# YOUR CODE HERE\r\n",
    "#raise NotImplementedError()\r\n",
    "plot_border(w1, w2, b, data, fig)\r\n"
   ],
   "outputs": [
    {
     "output_type": "display_data",
     "data": {
      "text/plain": [
       "<Figure size 432x288 with 1 Axes>"
      ],
      "image/svg+xml": "<?xml version=\"1.0\" encoding=\"utf-8\" standalone=\"no\"?>\r\n<!DOCTYPE svg PUBLIC \"-//W3C//DTD SVG 1.1//EN\"\r\n  \"http://www.w3.org/Graphics/SVG/1.1/DTD/svg11.dtd\">\r\n<!-- Created with matplotlib (https://matplotlib.org/) -->\r\n<svg height=\"252.317344pt\" version=\"1.1\" viewBox=\"0 0 368.925 252.317344\" width=\"368.925pt\" xmlns=\"http://www.w3.org/2000/svg\" xmlns:xlink=\"http://www.w3.org/1999/xlink\">\r\n <metadata>\r\n  <rdf:RDF xmlns:cc=\"http://creativecommons.org/ns#\" xmlns:dc=\"http://purl.org/dc/elements/1.1/\" xmlns:rdf=\"http://www.w3.org/1999/02/22-rdf-syntax-ns#\">\r\n   <cc:Work>\r\n    <dc:type rdf:resource=\"http://purl.org/dc/dcmitype/StillImage\"/>\r\n    <dc:date>2021-08-17T21:42:39.239204</dc:date>\r\n    <dc:format>image/svg+xml</dc:format>\r\n    <dc:creator>\r\n     <cc:Agent>\r\n      <dc:title>Matplotlib v3.3.4, https://matplotlib.org/</dc:title>\r\n     </cc:Agent>\r\n    </dc:creator>\r\n   </cc:Work>\r\n  </rdf:RDF>\r\n </metadata>\r\n <defs>\r\n  <style type=\"text/css\">*{stroke-linecap:butt;stroke-linejoin:round;}</style>\r\n </defs>\r\n <g id=\"figure_1\">\r\n  <g id=\"patch_1\">\r\n   <path d=\"M 0 252.317344 \r\nL 368.925 252.317344 \r\nL 368.925 0 \r\nL 0 0 \r\nz\r\n\" style=\"fill:none;\"/>\r\n  </g>\r\n  <g id=\"axes_1\">\r\n   <g id=\"patch_2\">\r\n    <path d=\"M 20.5625 228.439219 \r\nL 355.3625 228.439219 \r\nL 355.3625 10.999219 \r\nL 20.5625 10.999219 \r\nz\r\n\" style=\"fill:#ffffff;\"/>\r\n   </g>\r\n   <g id=\"PathCollection_1\">\r\n    <defs>\r\n     <path d=\"M 0 3 \r\nC 0.795609 3 1.55874 2.683901 2.12132 2.12132 \r\nC 2.683901 1.55874 3 0.795609 3 0 \r\nC 3 -0.795609 2.683901 -1.55874 2.12132 -2.12132 \r\nC 1.55874 -2.683901 0.795609 -3 0 -3 \r\nC -0.795609 -3 -1.55874 -2.683901 -2.12132 -2.12132 \r\nC -2.683901 -1.55874 -3 -0.795609 -3 0 \r\nC -3 0.795609 -2.683901 1.55874 -2.12132 2.12132 \r\nC -1.55874 2.683901 -0.795609 3 0 3 \r\nz\r\n\" id=\"meaa262c1d6\" style=\"stroke:#ff0000;\"/>\r\n    </defs>\r\n    <g clip-path=\"url(#p41e18dd330)\">\r\n     <use style=\"fill:#ff0000;stroke:#ff0000;\" x=\"251.5745\" xlink:href=\"#meaa262c1d6\" y=\"116.095219\"/>\r\n    </g>\r\n   </g>\r\n   <g id=\"PathCollection_2\">\r\n    <g clip-path=\"url(#p41e18dd330)\">\r\n     <use style=\"fill:#ff0000;stroke:#ff0000;\" x=\"208.0505\" xlink:href=\"#meaa262c1d6\" y=\"137.839219\"/>\r\n    </g>\r\n   </g>\r\n   <g id=\"PathCollection_3\">\r\n    <g clip-path=\"url(#p41e18dd330)\">\r\n     <use style=\"fill:#ff0000;stroke:#ff0000;\" x=\"184.6145\" xlink:href=\"#meaa262c1d6\" y=\"141.463219\"/>\r\n    </g>\r\n   </g>\r\n   <g id=\"PathCollection_4\">\r\n    <g clip-path=\"url(#p41e18dd330)\">\r\n     <use style=\"fill:#ff0000;stroke:#ff0000;\" x=\"218.0945\" xlink:href=\"#meaa262c1d6\" y=\"119.719219\"/>\r\n    </g>\r\n   </g>\r\n   <g id=\"PathCollection_5\">\r\n    <g clip-path=\"url(#p41e18dd330)\">\r\n     <use style=\"fill:#ff0000;stroke:#ff0000;\" x=\"224.7905\" xlink:href=\"#meaa262c1d6\" y=\"126.967219\"/>\r\n    </g>\r\n   </g>\r\n   <g id=\"PathCollection_6\">\r\n    <g clip-path=\"url(#p41e18dd330)\">\r\n     <use style=\"fill:#ff0000;stroke:#ff0000;\" x=\"214.7465\" xlink:href=\"#meaa262c1d6\" y=\"130.591219\"/>\r\n    </g>\r\n   </g>\r\n   <g id=\"PathCollection_7\">\r\n    <g clip-path=\"url(#p41e18dd330)\">\r\n     <use style=\"fill:#ff0000;stroke:#ff0000;\" x=\"218.0945\" xlink:href=\"#meaa262c1d6\" y=\"112.471219\"/>\r\n    </g>\r\n   </g>\r\n   <g id=\"PathCollection_8\">\r\n    <g clip-path=\"url(#p41e18dd330)\">\r\n     <use style=\"fill:#ff0000;stroke:#ff0000;\" x=\"254.9225\" xlink:href=\"#meaa262c1d6\" y=\"112.471219\"/>\r\n    </g>\r\n   </g>\r\n   <g id=\"PathCollection_9\">\r\n    <g clip-path=\"url(#p41e18dd330)\">\r\n     <use style=\"fill:#ff0000;stroke:#ff0000;\" x=\"241.5305\" xlink:href=\"#meaa262c1d6\" y=\"123.343219\"/>\r\n    </g>\r\n   </g>\r\n   <g id=\"PathCollection_10\">\r\n    <g clip-path=\"url(#p41e18dd330)\">\r\n     <use style=\"fill:#ff0000;stroke:#ff0000;\" x=\"238.1825\" xlink:href=\"#meaa262c1d6\" y=\"126.967219\"/>\r\n    </g>\r\n   </g>\r\n   <g id=\"PathCollection_11\">\r\n    <defs>\r\n     <path d=\"M 0 3 \r\nC 0.795609 3 1.55874 2.683901 2.12132 2.12132 \r\nC 2.683901 1.55874 3 0.795609 3 0 \r\nC 3 -0.795609 2.683901 -1.55874 2.12132 -2.12132 \r\nC 1.55874 -2.683901 0.795609 -3 0 -3 \r\nC -0.795609 -3 -1.55874 -2.683901 -2.12132 -2.12132 \r\nC -2.683901 -1.55874 -3 -0.795609 -3 0 \r\nC -3 0.795609 -2.683901 1.55874 -2.12132 2.12132 \r\nC -1.55874 2.683901 -0.795609 3 0 3 \r\nz\r\n\" id=\"m3a01553389\" style=\"stroke:#0000ff;\"/>\r\n    </defs>\r\n    <g clip-path=\"url(#p41e18dd330)\">\r\n     <use style=\"fill:#0000ff;stroke:#0000ff;\" x=\"191.3105\" xlink:href=\"#m3a01553389\" y=\"101.599219\"/>\r\n    </g>\r\n   </g>\r\n   <g id=\"PathCollection_12\">\r\n    <g clip-path=\"url(#p41e18dd330)\">\r\n     <use style=\"fill:#0000ff;stroke:#0000ff;\" x=\"167.8745\" xlink:href=\"#m3a01553389\" y=\"123.343219\"/>\r\n    </g>\r\n   </g>\r\n   <g id=\"PathCollection_13\">\r\n    <g clip-path=\"url(#p41e18dd330)\">\r\n     <use style=\"fill:#0000ff;stroke:#0000ff;\" x=\"181.2665\" xlink:href=\"#m3a01553389\" y=\"119.719219\"/>\r\n    </g>\r\n   </g>\r\n   <g id=\"PathCollection_14\">\r\n    <g clip-path=\"url(#p41e18dd330)\">\r\n     <use style=\"fill:#ff0000;stroke:#ff0000;\" x=\"231.4865\" xlink:href=\"#meaa262c1d6\" y=\"108.847219\"/>\r\n    </g>\r\n   </g>\r\n   <g id=\"PathCollection_15\">\r\n    <g clip-path=\"url(#p41e18dd330)\">\r\n     <use style=\"fill:#0000ff;stroke:#0000ff;\" x=\"181.2665\" xlink:href=\"#m3a01553389\" y=\"105.223219\"/>\r\n    </g>\r\n   </g>\r\n   <g id=\"PathCollection_16\">\r\n    <g clip-path=\"url(#p41e18dd330)\">\r\n     <use style=\"fill:#0000ff;stroke:#0000ff;\" x=\"211.3985\" xlink:href=\"#m3a01553389\" y=\"90.727219\"/>\r\n    </g>\r\n   </g>\r\n   <g id=\"PathCollection_17\">\r\n    <g clip-path=\"url(#p41e18dd330)\">\r\n     <use style=\"fill:#0000ff;stroke:#0000ff;\" x=\"201.3545\" xlink:href=\"#m3a01553389\" y=\"87.103219\"/>\r\n    </g>\r\n   </g>\r\n   <g id=\"PathCollection_18\">\r\n    <g clip-path=\"url(#p41e18dd330)\">\r\n     <use style=\"fill:#ff0000;stroke:#ff0000;\" x=\"208.0505\" xlink:href=\"#meaa262c1d6\" y=\"123.343219\"/>\r\n    </g>\r\n   </g>\r\n   <g id=\"PathCollection_19\">\r\n    <g clip-path=\"url(#p41e18dd330)\">\r\n     <use style=\"fill:#ff0000;stroke:#ff0000;\" x=\"221.4425\" xlink:href=\"#meaa262c1d6\" y=\"148.711219\"/>\r\n    </g>\r\n   </g>\r\n   <g id=\"PathCollection_20\">\r\n    <g clip-path=\"url(#p41e18dd330)\">\r\n     <use style=\"fill:#ff0000;stroke:#ff0000;\" x=\"187.9625\" xlink:href=\"#meaa262c1d6\" y=\"155.959219\"/>\r\n    </g>\r\n   </g>\r\n   <g id=\"PathCollection_21\">\r\n    <g clip-path=\"url(#p41e18dd330)\">\r\n     <use style=\"fill:#0000ff;stroke:#0000ff;\" x=\"177.9185\" xlink:href=\"#m3a01553389\" y=\"112.471219\"/>\r\n    </g>\r\n   </g>\r\n   <g id=\"PathCollection_22\">\r\n    <g clip-path=\"url(#p41e18dd330)\">\r\n     <use style=\"fill:#ff0000;stroke:#ff0000;\" x=\"211.3985\" xlink:href=\"#meaa262c1d6\" y=\"126.967219\"/>\r\n    </g>\r\n   </g>\r\n   <g id=\"PathCollection_23\">\r\n    <g clip-path=\"url(#p41e18dd330)\">\r\n     <use style=\"fill:#0000ff;stroke:#0000ff;\" x=\"184.6145\" xlink:href=\"#m3a01553389\" y=\"119.719219\"/>\r\n    </g>\r\n   </g>\r\n   <g id=\"PathCollection_24\">\r\n    <g clip-path=\"url(#p41e18dd330)\">\r\n     <use style=\"fill:#ff0000;stroke:#ff0000;\" x=\"204.7025\" xlink:href=\"#meaa262c1d6\" y=\"145.087219\"/>\r\n    </g>\r\n   </g>\r\n   <g id=\"PathCollection_25\">\r\n    <g clip-path=\"url(#p41e18dd330)\">\r\n     <use style=\"fill:#0000ff;stroke:#0000ff;\" x=\"174.5705\" xlink:href=\"#m3a01553389\" y=\"116.095219\"/>\r\n    </g>\r\n   </g>\r\n   <g id=\"PathCollection_26\">\r\n    <g clip-path=\"url(#p41e18dd330)\">\r\n     <use style=\"fill:#ff0000;stroke:#ff0000;\" x=\"208.0505\" xlink:href=\"#meaa262c1d6\" y=\"119.719219\"/>\r\n    </g>\r\n   </g>\r\n   <g id=\"PathCollection_27\">\r\n    <g clip-path=\"url(#p41e18dd330)\">\r\n     <use style=\"fill:#0000ff;stroke:#0000ff;\" x=\"211.3985\" xlink:href=\"#m3a01553389\" y=\"68.983219\"/>\r\n    </g>\r\n   </g>\r\n   <g id=\"PathCollection_28\">\r\n    <g clip-path=\"url(#p41e18dd330)\">\r\n     <use style=\"fill:#0000ff;stroke:#0000ff;\" x=\"187.9625\" xlink:href=\"#m3a01553389\" y=\"97.975219\"/>\r\n    </g>\r\n   </g>\r\n   <g id=\"PathCollection_29\">\r\n    <g clip-path=\"url(#p41e18dd330)\">\r\n     <use style=\"fill:#ff0000;stroke:#ff0000;\" x=\"224.7905\" xlink:href=\"#meaa262c1d6\" y=\"126.967219\"/>\r\n    </g>\r\n   </g>\r\n   <g id=\"PathCollection_30\">\r\n    <g clip-path=\"url(#p41e18dd330)\">\r\n     <use style=\"fill:#0000ff;stroke:#0000ff;\" x=\"187.9625\" xlink:href=\"#m3a01553389\" y=\"105.223219\"/>\r\n    </g>\r\n   </g>\r\n   <g id=\"PathCollection_31\">\r\n    <g clip-path=\"url(#p41e18dd330)\">\r\n     <use style=\"fill:#ff0000;stroke:#ff0000;\" x=\"228.1385\" xlink:href=\"#meaa262c1d6\" y=\"148.711219\"/>\r\n    </g>\r\n   </g>\r\n   <g id=\"PathCollection_32\">\r\n    <g clip-path=\"url(#p41e18dd330)\">\r\n     <use style=\"fill:#0000ff;stroke:#0000ff;\" x=\"191.3105\" xlink:href=\"#m3a01553389\" y=\"90.727219\"/>\r\n    </g>\r\n   </g>\r\n   <g id=\"PathCollection_33\">\r\n    <g clip-path=\"url(#p41e18dd330)\">\r\n     <use style=\"fill:#ff0000;stroke:#ff0000;\" x=\"194.6585\" xlink:href=\"#meaa262c1d6\" y=\"130.591219\"/>\r\n    </g>\r\n   </g>\r\n   <g id=\"PathCollection_34\">\r\n    <g clip-path=\"url(#p41e18dd330)\">\r\n     <use style=\"fill:#0000ff;stroke:#0000ff;\" x=\"184.6145\" xlink:href=\"#m3a01553389\" y=\"116.095219\"/>\r\n    </g>\r\n   </g>\r\n   <g id=\"PathCollection_35\">\r\n    <g clip-path=\"url(#p41e18dd330)\">\r\n     <use style=\"fill:#ff0000;stroke:#ff0000;\" x=\"234.8345\" xlink:href=\"#meaa262c1d6\" y=\"112.471219\"/>\r\n    </g>\r\n   </g>\r\n   <g id=\"PathCollection_36\">\r\n    <g clip-path=\"url(#p41e18dd330)\">\r\n     <use style=\"fill:#ff0000;stroke:#ff0000;\" x=\"231.4865\" xlink:href=\"#meaa262c1d6\" y=\"137.839219\"/>\r\n    </g>\r\n   </g>\r\n   <g id=\"PathCollection_37\">\r\n    <g clip-path=\"url(#p41e18dd330)\">\r\n     <use style=\"fill:#ff0000;stroke:#ff0000;\" x=\"224.7905\" xlink:href=\"#meaa262c1d6\" y=\"123.343219\"/>\r\n    </g>\r\n   </g>\r\n   <g id=\"PathCollection_38\">\r\n    <g clip-path=\"url(#p41e18dd330)\">\r\n     <use style=\"fill:#ff0000;stroke:#ff0000;\" x=\"234.8345\" xlink:href=\"#meaa262c1d6\" y=\"123.343219\"/>\r\n    </g>\r\n   </g>\r\n   <g id=\"PathCollection_39\">\r\n    <g clip-path=\"url(#p41e18dd330)\">\r\n     <use style=\"fill:#0000ff;stroke:#0000ff;\" x=\"201.3545\" xlink:href=\"#m3a01553389\" y=\"87.103219\"/>\r\n    </g>\r\n   </g>\r\n   <g id=\"PathCollection_40\">\r\n    <g clip-path=\"url(#p41e18dd330)\">\r\n     <use style=\"fill:#0000ff;stroke:#0000ff;\" x=\"164.5265\" xlink:href=\"#m3a01553389\" y=\"119.719219\"/>\r\n    </g>\r\n   </g>\r\n   <g id=\"PathCollection_41\">\r\n    <g clip-path=\"url(#p41e18dd330)\">\r\n     <use style=\"fill:#0000ff;stroke:#0000ff;\" x=\"174.5705\" xlink:href=\"#m3a01553389\" y=\"105.223219\"/>\r\n    </g>\r\n   </g>\r\n   <g id=\"PathCollection_42\">\r\n    <g clip-path=\"url(#p41e18dd330)\">\r\n     <use style=\"fill:#ff0000;stroke:#ff0000;\" x=\"244.8785\" xlink:href=\"#meaa262c1d6\" y=\"116.095219\"/>\r\n    </g>\r\n   </g>\r\n   <g id=\"PathCollection_43\">\r\n    <g clip-path=\"url(#p41e18dd330)\">\r\n     <use style=\"fill:#0000ff;stroke:#0000ff;\" x=\"214.7465\" xlink:href=\"#m3a01553389\" y=\"83.479219\"/>\r\n    </g>\r\n   </g>\r\n   <g id=\"PathCollection_44\">\r\n    <g clip-path=\"url(#p41e18dd330)\">\r\n     <use style=\"fill:#0000ff;stroke:#0000ff;\" x=\"191.3105\" xlink:href=\"#m3a01553389\" y=\"101.599219\"/>\r\n    </g>\r\n   </g>\r\n   <g id=\"PathCollection_45\">\r\n    <g clip-path=\"url(#p41e18dd330)\">\r\n     <use style=\"fill:#0000ff;stroke:#0000ff;\" x=\"201.3545\" xlink:href=\"#m3a01553389\" y=\"94.351219\"/>\r\n    </g>\r\n   </g>\r\n   <g id=\"matplotlib.axis_1\">\r\n    <g id=\"xtick_1\">\r\n     <g id=\"line2d_1\">\r\n      <path clip-path=\"url(#p41e18dd330)\" d=\"M 20.5625 228.439219 \r\nL 20.5625 10.999219 \r\n\" style=\"fill:none;stroke:#b0b0b0;stroke-linecap:square;stroke-width:0.8;\"/>\r\n     </g>\r\n     <g id=\"line2d_2\">\r\n      <defs>\r\n       <path d=\"M 0 0 \r\nL 0 3.5 \r\n\" id=\"mbdedf07eea\" style=\"stroke:#000000;stroke-width:0.8;\"/>\r\n      </defs>\r\n      <g>\r\n       <use style=\"stroke:#000000;stroke-width:0.8;\" x=\"20.5625\" xlink:href=\"#mbdedf07eea\" y=\"228.439219\"/>\r\n      </g>\r\n     </g>\r\n     <g id=\"text_1\">\r\n      <!-- 0 -->\r\n      <g transform=\"translate(17.38125 243.037656)scale(0.1 -0.1)\">\r\n       <defs>\r\n        <path d=\"M 31.78125 66.40625 \r\nQ 24.171875 66.40625 20.328125 58.90625 \r\nQ 16.5 51.421875 16.5 36.375 \r\nQ 16.5 21.390625 20.328125 13.890625 \r\nQ 24.171875 6.390625 31.78125 6.390625 \r\nQ 39.453125 6.390625 43.28125 13.890625 \r\nQ 47.125 21.390625 47.125 36.375 \r\nQ 47.125 51.421875 43.28125 58.90625 \r\nQ 39.453125 66.40625 31.78125 66.40625 \r\nz\r\nM 31.78125 74.21875 \r\nQ 44.046875 74.21875 50.515625 64.515625 \r\nQ 56.984375 54.828125 56.984375 36.375 \r\nQ 56.984375 17.96875 50.515625 8.265625 \r\nQ 44.046875 -1.421875 31.78125 -1.421875 \r\nQ 19.53125 -1.421875 13.0625 8.265625 \r\nQ 6.59375 17.96875 6.59375 36.375 \r\nQ 6.59375 54.828125 13.0625 64.515625 \r\nQ 19.53125 74.21875 31.78125 74.21875 \r\nz\r\n\" id=\"DejaVuSans-48\"/>\r\n       </defs>\r\n       <use xlink:href=\"#DejaVuSans-48\"/>\r\n      </g>\r\n     </g>\r\n    </g>\r\n    <g id=\"xtick_2\">\r\n     <g id=\"line2d_3\">\r\n      <path clip-path=\"url(#p41e18dd330)\" d=\"M 87.5225 228.439219 \r\nL 87.5225 10.999219 \r\n\" style=\"fill:none;stroke:#b0b0b0;stroke-linecap:square;stroke-width:0.8;\"/>\r\n     </g>\r\n     <g id=\"line2d_4\">\r\n      <g>\r\n       <use style=\"stroke:#000000;stroke-width:0.8;\" x=\"87.5225\" xlink:href=\"#mbdedf07eea\" y=\"228.439219\"/>\r\n      </g>\r\n     </g>\r\n     <g id=\"text_2\">\r\n      <!-- 2 -->\r\n      <g transform=\"translate(84.34125 243.037656)scale(0.1 -0.1)\">\r\n       <defs>\r\n        <path d=\"M 19.1875 8.296875 \r\nL 53.609375 8.296875 \r\nL 53.609375 0 \r\nL 7.328125 0 \r\nL 7.328125 8.296875 \r\nQ 12.9375 14.109375 22.625 23.890625 \r\nQ 32.328125 33.6875 34.8125 36.53125 \r\nQ 39.546875 41.84375 41.421875 45.53125 \r\nQ 43.3125 49.21875 43.3125 52.78125 \r\nQ 43.3125 58.59375 39.234375 62.25 \r\nQ 35.15625 65.921875 28.609375 65.921875 \r\nQ 23.96875 65.921875 18.8125 64.3125 \r\nQ 13.671875 62.703125 7.8125 59.421875 \r\nL 7.8125 69.390625 \r\nQ 13.765625 71.78125 18.9375 73 \r\nQ 24.125 74.21875 28.421875 74.21875 \r\nQ 39.75 74.21875 46.484375 68.546875 \r\nQ 53.21875 62.890625 53.21875 53.421875 \r\nQ 53.21875 48.921875 51.53125 44.890625 \r\nQ 49.859375 40.875 45.40625 35.40625 \r\nQ 44.1875 33.984375 37.640625 27.21875 \r\nQ 31.109375 20.453125 19.1875 8.296875 \r\nz\r\n\" id=\"DejaVuSans-50\"/>\r\n       </defs>\r\n       <use xlink:href=\"#DejaVuSans-50\"/>\r\n      </g>\r\n     </g>\r\n    </g>\r\n    <g id=\"xtick_3\">\r\n     <g id=\"line2d_5\">\r\n      <path clip-path=\"url(#p41e18dd330)\" d=\"M 154.4825 228.439219 \r\nL 154.4825 10.999219 \r\n\" style=\"fill:none;stroke:#b0b0b0;stroke-linecap:square;stroke-width:0.8;\"/>\r\n     </g>\r\n     <g id=\"line2d_6\">\r\n      <g>\r\n       <use style=\"stroke:#000000;stroke-width:0.8;\" x=\"154.4825\" xlink:href=\"#mbdedf07eea\" y=\"228.439219\"/>\r\n      </g>\r\n     </g>\r\n     <g id=\"text_3\">\r\n      <!-- 4 -->\r\n      <g transform=\"translate(151.30125 243.037656)scale(0.1 -0.1)\">\r\n       <defs>\r\n        <path d=\"M 37.796875 64.3125 \r\nL 12.890625 25.390625 \r\nL 37.796875 25.390625 \r\nz\r\nM 35.203125 72.90625 \r\nL 47.609375 72.90625 \r\nL 47.609375 25.390625 \r\nL 58.015625 25.390625 \r\nL 58.015625 17.1875 \r\nL 47.609375 17.1875 \r\nL 47.609375 0 \r\nL 37.796875 0 \r\nL 37.796875 17.1875 \r\nL 4.890625 17.1875 \r\nL 4.890625 26.703125 \r\nz\r\n\" id=\"DejaVuSans-52\"/>\r\n       </defs>\r\n       <use xlink:href=\"#DejaVuSans-52\"/>\r\n      </g>\r\n     </g>\r\n    </g>\r\n    <g id=\"xtick_4\">\r\n     <g id=\"line2d_7\">\r\n      <path clip-path=\"url(#p41e18dd330)\" d=\"M 221.4425 228.439219 \r\nL 221.4425 10.999219 \r\n\" style=\"fill:none;stroke:#b0b0b0;stroke-linecap:square;stroke-width:0.8;\"/>\r\n     </g>\r\n     <g id=\"line2d_8\">\r\n      <g>\r\n       <use style=\"stroke:#000000;stroke-width:0.8;\" x=\"221.4425\" xlink:href=\"#mbdedf07eea\" y=\"228.439219\"/>\r\n      </g>\r\n     </g>\r\n     <g id=\"text_4\">\r\n      <!-- 6 -->\r\n      <g transform=\"translate(218.26125 243.037656)scale(0.1 -0.1)\">\r\n       <defs>\r\n        <path d=\"M 33.015625 40.375 \r\nQ 26.375 40.375 22.484375 35.828125 \r\nQ 18.609375 31.296875 18.609375 23.390625 \r\nQ 18.609375 15.53125 22.484375 10.953125 \r\nQ 26.375 6.390625 33.015625 6.390625 \r\nQ 39.65625 6.390625 43.53125 10.953125 \r\nQ 47.40625 15.53125 47.40625 23.390625 \r\nQ 47.40625 31.296875 43.53125 35.828125 \r\nQ 39.65625 40.375 33.015625 40.375 \r\nz\r\nM 52.59375 71.296875 \r\nL 52.59375 62.3125 \r\nQ 48.875 64.0625 45.09375 64.984375 \r\nQ 41.3125 65.921875 37.59375 65.921875 \r\nQ 27.828125 65.921875 22.671875 59.328125 \r\nQ 17.53125 52.734375 16.796875 39.40625 \r\nQ 19.671875 43.65625 24.015625 45.921875 \r\nQ 28.375 48.1875 33.59375 48.1875 \r\nQ 44.578125 48.1875 50.953125 41.515625 \r\nQ 57.328125 34.859375 57.328125 23.390625 \r\nQ 57.328125 12.15625 50.6875 5.359375 \r\nQ 44.046875 -1.421875 33.015625 -1.421875 \r\nQ 20.359375 -1.421875 13.671875 8.265625 \r\nQ 6.984375 17.96875 6.984375 36.375 \r\nQ 6.984375 53.65625 15.1875 63.9375 \r\nQ 23.390625 74.21875 37.203125 74.21875 \r\nQ 40.921875 74.21875 44.703125 73.484375 \r\nQ 48.484375 72.75 52.59375 71.296875 \r\nz\r\n\" id=\"DejaVuSans-54\"/>\r\n       </defs>\r\n       <use xlink:href=\"#DejaVuSans-54\"/>\r\n      </g>\r\n     </g>\r\n    </g>\r\n    <g id=\"xtick_5\">\r\n     <g id=\"line2d_9\">\r\n      <path clip-path=\"url(#p41e18dd330)\" d=\"M 288.4025 228.439219 \r\nL 288.4025 10.999219 \r\n\" style=\"fill:none;stroke:#b0b0b0;stroke-linecap:square;stroke-width:0.8;\"/>\r\n     </g>\r\n     <g id=\"line2d_10\">\r\n      <g>\r\n       <use style=\"stroke:#000000;stroke-width:0.8;\" x=\"288.4025\" xlink:href=\"#mbdedf07eea\" y=\"228.439219\"/>\r\n      </g>\r\n     </g>\r\n     <g id=\"text_5\">\r\n      <!-- 8 -->\r\n      <g transform=\"translate(285.22125 243.037656)scale(0.1 -0.1)\">\r\n       <defs>\r\n        <path d=\"M 31.78125 34.625 \r\nQ 24.75 34.625 20.71875 30.859375 \r\nQ 16.703125 27.09375 16.703125 20.515625 \r\nQ 16.703125 13.921875 20.71875 10.15625 \r\nQ 24.75 6.390625 31.78125 6.390625 \r\nQ 38.8125 6.390625 42.859375 10.171875 \r\nQ 46.921875 13.96875 46.921875 20.515625 \r\nQ 46.921875 27.09375 42.890625 30.859375 \r\nQ 38.875 34.625 31.78125 34.625 \r\nz\r\nM 21.921875 38.8125 \r\nQ 15.578125 40.375 12.03125 44.71875 \r\nQ 8.5 49.078125 8.5 55.328125 \r\nQ 8.5 64.0625 14.71875 69.140625 \r\nQ 20.953125 74.21875 31.78125 74.21875 \r\nQ 42.671875 74.21875 48.875 69.140625 \r\nQ 55.078125 64.0625 55.078125 55.328125 \r\nQ 55.078125 49.078125 51.53125 44.71875 \r\nQ 48 40.375 41.703125 38.8125 \r\nQ 48.828125 37.15625 52.796875 32.3125 \r\nQ 56.78125 27.484375 56.78125 20.515625 \r\nQ 56.78125 9.90625 50.3125 4.234375 \r\nQ 43.84375 -1.421875 31.78125 -1.421875 \r\nQ 19.734375 -1.421875 13.25 4.234375 \r\nQ 6.78125 9.90625 6.78125 20.515625 \r\nQ 6.78125 27.484375 10.78125 32.3125 \r\nQ 14.796875 37.15625 21.921875 38.8125 \r\nz\r\nM 18.3125 54.390625 \r\nQ 18.3125 48.734375 21.84375 45.5625 \r\nQ 25.390625 42.390625 31.78125 42.390625 \r\nQ 38.140625 42.390625 41.71875 45.5625 \r\nQ 45.3125 48.734375 45.3125 54.390625 \r\nQ 45.3125 60.0625 41.71875 63.234375 \r\nQ 38.140625 66.40625 31.78125 66.40625 \r\nQ 25.390625 66.40625 21.84375 63.234375 \r\nQ 18.3125 60.0625 18.3125 54.390625 \r\nz\r\n\" id=\"DejaVuSans-56\"/>\r\n       </defs>\r\n       <use xlink:href=\"#DejaVuSans-56\"/>\r\n      </g>\r\n     </g>\r\n    </g>\r\n    <g id=\"xtick_6\">\r\n     <g id=\"line2d_11\">\r\n      <path clip-path=\"url(#p41e18dd330)\" d=\"M 355.3625 228.439219 \r\nL 355.3625 10.999219 \r\n\" style=\"fill:none;stroke:#b0b0b0;stroke-linecap:square;stroke-width:0.8;\"/>\r\n     </g>\r\n     <g id=\"line2d_12\">\r\n      <g>\r\n       <use style=\"stroke:#000000;stroke-width:0.8;\" x=\"355.3625\" xlink:href=\"#mbdedf07eea\" y=\"228.439219\"/>\r\n      </g>\r\n     </g>\r\n     <g id=\"text_6\">\r\n      <!-- 10 -->\r\n      <g transform=\"translate(349 243.037656)scale(0.1 -0.1)\">\r\n       <defs>\r\n        <path d=\"M 12.40625 8.296875 \r\nL 28.515625 8.296875 \r\nL 28.515625 63.921875 \r\nL 10.984375 60.40625 \r\nL 10.984375 69.390625 \r\nL 28.421875 72.90625 \r\nL 38.28125 72.90625 \r\nL 38.28125 8.296875 \r\nL 54.390625 8.296875 \r\nL 54.390625 0 \r\nL 12.40625 0 \r\nz\r\n\" id=\"DejaVuSans-49\"/>\r\n       </defs>\r\n       <use xlink:href=\"#DejaVuSans-49\"/>\r\n       <use x=\"63.623047\" xlink:href=\"#DejaVuSans-48\"/>\r\n      </g>\r\n     </g>\r\n    </g>\r\n   </g>\r\n   <g id=\"matplotlib.axis_2\">\r\n    <g id=\"ytick_1\">\r\n     <g id=\"line2d_13\">\r\n      <path clip-path=\"url(#p41e18dd330)\" d=\"M 20.5625 228.439219 \r\nL 355.3625 228.439219 \r\n\" style=\"fill:none;stroke:#b0b0b0;stroke-linecap:square;stroke-width:0.8;\"/>\r\n     </g>\r\n     <g id=\"line2d_14\">\r\n      <defs>\r\n       <path d=\"M 0 0 \r\nL -3.5 0 \r\n\" id=\"m41a60ac734\" style=\"stroke:#000000;stroke-width:0.8;\"/>\r\n      </defs>\r\n      <g>\r\n       <use style=\"stroke:#000000;stroke-width:0.8;\" x=\"20.5625\" xlink:href=\"#m41a60ac734\" y=\"228.439219\"/>\r\n      </g>\r\n     </g>\r\n     <g id=\"text_7\">\r\n      <!-- 0 -->\r\n      <g transform=\"translate(7.2 232.238437)scale(0.1 -0.1)\">\r\n       <use xlink:href=\"#DejaVuSans-48\"/>\r\n      </g>\r\n     </g>\r\n    </g>\r\n    <g id=\"ytick_2\">\r\n     <g id=\"line2d_15\">\r\n      <path clip-path=\"url(#p41e18dd330)\" d=\"M 20.5625 192.199219 \r\nL 355.3625 192.199219 \r\n\" style=\"fill:none;stroke:#b0b0b0;stroke-linecap:square;stroke-width:0.8;\"/>\r\n     </g>\r\n     <g id=\"line2d_16\">\r\n      <g>\r\n       <use style=\"stroke:#000000;stroke-width:0.8;\" x=\"20.5625\" xlink:href=\"#m41a60ac734\" y=\"192.199219\"/>\r\n      </g>\r\n     </g>\r\n     <g id=\"text_8\">\r\n      <!-- 1 -->\r\n      <g transform=\"translate(7.2 195.998437)scale(0.1 -0.1)\">\r\n       <use xlink:href=\"#DejaVuSans-49\"/>\r\n      </g>\r\n     </g>\r\n    </g>\r\n    <g id=\"ytick_3\">\r\n     <g id=\"line2d_17\">\r\n      <path clip-path=\"url(#p41e18dd330)\" d=\"M 20.5625 155.959219 \r\nL 355.3625 155.959219 \r\n\" style=\"fill:none;stroke:#b0b0b0;stroke-linecap:square;stroke-width:0.8;\"/>\r\n     </g>\r\n     <g id=\"line2d_18\">\r\n      <g>\r\n       <use style=\"stroke:#000000;stroke-width:0.8;\" x=\"20.5625\" xlink:href=\"#m41a60ac734\" y=\"155.959219\"/>\r\n      </g>\r\n     </g>\r\n     <g id=\"text_9\">\r\n      <!-- 2 -->\r\n      <g transform=\"translate(7.2 159.758437)scale(0.1 -0.1)\">\r\n       <use xlink:href=\"#DejaVuSans-50\"/>\r\n      </g>\r\n     </g>\r\n    </g>\r\n    <g id=\"ytick_4\">\r\n     <g id=\"line2d_19\">\r\n      <path clip-path=\"url(#p41e18dd330)\" d=\"M 20.5625 119.719219 \r\nL 355.3625 119.719219 \r\n\" style=\"fill:none;stroke:#b0b0b0;stroke-linecap:square;stroke-width:0.8;\"/>\r\n     </g>\r\n     <g id=\"line2d_20\">\r\n      <g>\r\n       <use style=\"stroke:#000000;stroke-width:0.8;\" x=\"20.5625\" xlink:href=\"#m41a60ac734\" y=\"119.719219\"/>\r\n      </g>\r\n     </g>\r\n     <g id=\"text_10\">\r\n      <!-- 3 -->\r\n      <g transform=\"translate(7.2 123.518437)scale(0.1 -0.1)\">\r\n       <defs>\r\n        <path d=\"M 40.578125 39.3125 \r\nQ 47.65625 37.796875 51.625 33 \r\nQ 55.609375 28.21875 55.609375 21.1875 \r\nQ 55.609375 10.40625 48.1875 4.484375 \r\nQ 40.765625 -1.421875 27.09375 -1.421875 \r\nQ 22.515625 -1.421875 17.65625 -0.515625 \r\nQ 12.796875 0.390625 7.625 2.203125 \r\nL 7.625 11.71875 \r\nQ 11.71875 9.328125 16.59375 8.109375 \r\nQ 21.484375 6.890625 26.8125 6.890625 \r\nQ 36.078125 6.890625 40.9375 10.546875 \r\nQ 45.796875 14.203125 45.796875 21.1875 \r\nQ 45.796875 27.640625 41.28125 31.265625 \r\nQ 36.765625 34.90625 28.71875 34.90625 \r\nL 20.21875 34.90625 \r\nL 20.21875 43.015625 \r\nL 29.109375 43.015625 \r\nQ 36.375 43.015625 40.234375 45.921875 \r\nQ 44.09375 48.828125 44.09375 54.296875 \r\nQ 44.09375 59.90625 40.109375 62.90625 \r\nQ 36.140625 65.921875 28.71875 65.921875 \r\nQ 24.65625 65.921875 20.015625 65.03125 \r\nQ 15.375 64.15625 9.8125 62.3125 \r\nL 9.8125 71.09375 \r\nQ 15.4375 72.65625 20.34375 73.4375 \r\nQ 25.25 74.21875 29.59375 74.21875 \r\nQ 40.828125 74.21875 47.359375 69.109375 \r\nQ 53.90625 64.015625 53.90625 55.328125 \r\nQ 53.90625 49.265625 50.4375 45.09375 \r\nQ 46.96875 40.921875 40.578125 39.3125 \r\nz\r\n\" id=\"DejaVuSans-51\"/>\r\n       </defs>\r\n       <use xlink:href=\"#DejaVuSans-51\"/>\r\n      </g>\r\n     </g>\r\n    </g>\r\n    <g id=\"ytick_5\">\r\n     <g id=\"line2d_21\">\r\n      <path clip-path=\"url(#p41e18dd330)\" d=\"M 20.5625 83.479219 \r\nL 355.3625 83.479219 \r\n\" style=\"fill:none;stroke:#b0b0b0;stroke-linecap:square;stroke-width:0.8;\"/>\r\n     </g>\r\n     <g id=\"line2d_22\">\r\n      <g>\r\n       <use style=\"stroke:#000000;stroke-width:0.8;\" x=\"20.5625\" xlink:href=\"#m41a60ac734\" y=\"83.479219\"/>\r\n      </g>\r\n     </g>\r\n     <g id=\"text_11\">\r\n      <!-- 4 -->\r\n      <g transform=\"translate(7.2 87.278437)scale(0.1 -0.1)\">\r\n       <use xlink:href=\"#DejaVuSans-52\"/>\r\n      </g>\r\n     </g>\r\n    </g>\r\n    <g id=\"ytick_6\">\r\n     <g id=\"line2d_23\">\r\n      <path clip-path=\"url(#p41e18dd330)\" d=\"M 20.5625 47.239219 \r\nL 355.3625 47.239219 \r\n\" style=\"fill:none;stroke:#b0b0b0;stroke-linecap:square;stroke-width:0.8;\"/>\r\n     </g>\r\n     <g id=\"line2d_24\">\r\n      <g>\r\n       <use style=\"stroke:#000000;stroke-width:0.8;\" x=\"20.5625\" xlink:href=\"#m41a60ac734\" y=\"47.239219\"/>\r\n      </g>\r\n     </g>\r\n     <g id=\"text_12\">\r\n      <!-- 5 -->\r\n      <g transform=\"translate(7.2 51.038437)scale(0.1 -0.1)\">\r\n       <defs>\r\n        <path d=\"M 10.796875 72.90625 \r\nL 49.515625 72.90625 \r\nL 49.515625 64.59375 \r\nL 19.828125 64.59375 \r\nL 19.828125 46.734375 \r\nQ 21.96875 47.46875 24.109375 47.828125 \r\nQ 26.265625 48.1875 28.421875 48.1875 \r\nQ 40.625 48.1875 47.75 41.5 \r\nQ 54.890625 34.8125 54.890625 23.390625 \r\nQ 54.890625 11.625 47.5625 5.09375 \r\nQ 40.234375 -1.421875 26.90625 -1.421875 \r\nQ 22.3125 -1.421875 17.546875 -0.640625 \r\nQ 12.796875 0.140625 7.71875 1.703125 \r\nL 7.71875 11.625 \r\nQ 12.109375 9.234375 16.796875 8.0625 \r\nQ 21.484375 6.890625 26.703125 6.890625 \r\nQ 35.15625 6.890625 40.078125 11.328125 \r\nQ 45.015625 15.765625 45.015625 23.390625 \r\nQ 45.015625 31 40.078125 35.4375 \r\nQ 35.15625 39.890625 26.703125 39.890625 \r\nQ 22.75 39.890625 18.8125 39.015625 \r\nQ 14.890625 38.140625 10.796875 36.28125 \r\nz\r\n\" id=\"DejaVuSans-53\"/>\r\n       </defs>\r\n       <use xlink:href=\"#DejaVuSans-53\"/>\r\n      </g>\r\n     </g>\r\n    </g>\r\n    <g id=\"ytick_7\">\r\n     <g id=\"line2d_25\">\r\n      <path clip-path=\"url(#p41e18dd330)\" d=\"M 20.5625 10.999219 \r\nL 355.3625 10.999219 \r\n\" style=\"fill:none;stroke:#b0b0b0;stroke-linecap:square;stroke-width:0.8;\"/>\r\n     </g>\r\n     <g id=\"line2d_26\">\r\n      <g>\r\n       <use style=\"stroke:#000000;stroke-width:0.8;\" x=\"20.5625\" xlink:href=\"#m41a60ac734\" y=\"10.999219\"/>\r\n      </g>\r\n     </g>\r\n     <g id=\"text_13\">\r\n      <!-- 6 -->\r\n      <g transform=\"translate(7.2 14.798437)scale(0.1 -0.1)\">\r\n       <use xlink:href=\"#DejaVuSans-54\"/>\r\n      </g>\r\n     </g>\r\n    </g>\r\n   </g>\r\n   <g id=\"line2d_27\">\r\n    <path clip-path=\"url(#p41e18dd330)\" d=\"M 20.5625 228.439219 \r\nL 23.944318 232.995142 \r\nL 27.326136 237.551066 \r\nL 30.707955 242.10699 \r\nL 34.089773 246.662914 \r\nL 37.471591 251.218837 \r\nL 39.029292 253.317344 \r\n\" style=\"fill:none;stroke:#008000;stroke-linecap:square;stroke-width:1.5;\"/>\r\n   </g>\r\n   <g id=\"patch_3\">\r\n    <path d=\"M 20.5625 228.439219 \r\nL 20.5625 10.999219 \r\n\" style=\"fill:none;stroke:#000000;stroke-linecap:square;stroke-linejoin:miter;stroke-width:0.8;\"/>\r\n   </g>\r\n   <g id=\"patch_4\">\r\n    <path d=\"M 355.3625 228.439219 \r\nL 355.3625 10.999219 \r\n\" style=\"fill:none;stroke:#000000;stroke-linecap:square;stroke-linejoin:miter;stroke-width:0.8;\"/>\r\n   </g>\r\n   <g id=\"patch_5\">\r\n    <path d=\"M 20.5625 228.439219 \r\nL 355.3625 228.439219 \r\n\" style=\"fill:none;stroke:#000000;stroke-linecap:square;stroke-linejoin:miter;stroke-width:0.8;\"/>\r\n   </g>\r\n   <g id=\"patch_6\">\r\n    <path d=\"M 20.5625 10.999219 \r\nL 355.3625 10.999219 \r\n\" style=\"fill:none;stroke:#000000;stroke-linecap:square;stroke-linejoin:miter;stroke-width:0.8;\"/>\r\n   </g>\r\n  </g>\r\n </g>\r\n <defs>\r\n  <clipPath id=\"p41e18dd330\">\r\n   <rect height=\"217.44\" width=\"334.8\" x=\"20.5625\" y=\"10.999219\"/>\r\n  </clipPath>\r\n </defs>\r\n</svg>\r\n",
      "image/png": "[encoded data removed]"
     },
     "metadata": {
      "needs_background": "light"
     }
    }
   ],
   "metadata": {
    "deletable": false,
    "nbgrader": {
     "cell_type": "code",
     "checksum": "6719a9339a103326ef06123041ea9e92",
     "grade": false,
     "grade_id": "cell-b23508422bcf31b6",
     "locked": false,
     "schema_version": 3,
     "solution": true,
     "task": false
    }
   }
  },
  {
   "cell_type": "code",
   "execution_count": 57,
   "source": [
    "np.dot(W, X) + b  \r\n",
    "#W @ X + b"
   ],
   "outputs": [
    {
     "output_type": "execute_result",
     "data": {
      "text/plain": [
       "5.659043987694064"
      ]
     },
     "metadata": {},
     "execution_count": 57
    }
   ],
   "metadata": {}
  },
  {
   "cell_type": "code",
   "execution_count": 59,
   "source": [
    "W"
   ],
   "outputs": [
    {
     "output_type": "execute_result",
     "data": {
      "text/plain": [
       "array([0.67587734, 0.54305577])"
      ]
     },
     "metadata": {},
     "execution_count": 59
    }
   ],
   "metadata": {}
  },
  {
   "cell_type": "code",
   "execution_count": 58,
   "source": [
    "assert W.shape == (2,)\r\n",
    "assert W[0] == w1\r\n",
    "assert W[1] == w2"
   ],
   "outputs": [],
   "metadata": {
    "deletable": false,
    "editable": false,
    "nbgrader": {
     "cell_type": "code",
     "checksum": "3b1477cbf6069cb19a8a7f63e7fe2746",
     "grade": true,
     "grade_id": "cell-99b2cdb1e86fbbb5",
     "locked": true,
     "points": 1,
     "schema_version": 3,
     "solution": false,
     "task": false
    }
   }
  },
  {
   "cell_type": "code",
   "execution_count": 73,
   "source": [
    "b"
   ],
   "outputs": [
    {
     "output_type": "execute_result",
     "data": {
      "text/plain": [
       "0"
      ]
     },
     "metadata": {},
     "execution_count": 73
    }
   ],
   "metadata": {}
  },
  {
   "cell_type": "markdown",
   "source": [
    "Implement a function `guess_flower(sepal_length, sepal_width, W, b)` that prints Iris-setosa in case of negative score and return 0, Iris-versicolor in case of positive score and return 1."
   ],
   "metadata": {
    "deletable": false,
    "editable": false,
    "nbgrader": {
     "cell_type": "markdown",
     "checksum": "4b0331bf9ca9378f7716016c94594703",
     "grade": false,
     "grade_id": "cell-6a496aa312f453c5",
     "locked": true,
     "schema_version": 3,
     "solution": false,
     "task": false
    }
   }
  },
  {
   "cell_type": "code",
   "execution_count": 79,
   "source": [
    "\r\n",
    "# prediction function: 0 for Iris-setosa and 1 for Iris-versicolor\r\n",
    "\r\n",
    "def guess_flower(sepal_length, sepal_width, W, b):\r\n",
    "    if W[0] * sepal_length + W[1] * sepal_width + b < 0:\r\n",
    "        print('Iris-setosa')\r\n",
    "        return 0\r\n",
    "    else:\r\n",
    "        print('Iris-versicolor')\r\n",
    "        return 1\r\n",
    "# YOUR CODE HERE\r\n",
    "#raise NotImplementedError()\r\n",
    "\r\n"
   ],
   "outputs": [],
   "metadata": {
    "deletable": false,
    "nbgrader": {
     "cell_type": "code",
     "checksum": "1d42de1824f7bbb3df7a7d57f8d6a24e",
     "grade": false,
     "grade_id": "cell-42542b2b2667947c",
     "locked": false,
     "schema_version": 3,
     "solution": true,
     "task": false
    }
   }
  },
  {
   "cell_type": "code",
   "execution_count": 66,
   "source": [
    "assert guess_flower(5.4, 3.4, W, b) == 0 or guess_flower(5.4, 3.4, W, b) == 1"
   ],
   "outputs": [
    {
     "output_type": "stream",
     "name": "stdout",
     "text": [
      "Iris-versicolor\n",
      "Iris-versicolor\n"
     ]
    }
   ],
   "metadata": {
    "deletable": false,
    "editable": false,
    "nbgrader": {
     "cell_type": "code",
     "checksum": "f42eacdc4b7e7e4f680350d2810ee527",
     "grade": true,
     "grade_id": "cell-673093aba4d0b46b",
     "locked": true,
     "points": 1,
     "schema_version": 3,
     "solution": false,
     "task": false
    }
   }
  },
  {
   "cell_type": "code",
   "execution_count": 70,
   "source": [
    "test_data = [[ 5.4,  3.4,  0. ],\r\n",
    "           [ 4.6,  3.6,  0. ],\r\n",
    "           [ 5.1,  3.3,  0. ],\r\n",
    "           [ 4.8,  3.4,  0. ],\r\n",
    "           [ 5. ,  3. ,  0. ],\r\n",
    "           [ 5. ,  3.4,  0. ],\r\n",
    "           [ 5.2,  3.5,  0. ],\r\n",
    "           [ 5.2,  3.4,  0. ],\r\n",
    "           [ 4.7,  3.2,  0. ],\r\n",
    "           [ 4.8,  3.1,  0. ],\r\n",
    "           [ 5.4,  3.4,  0. ],\r\n",
    "           [ 5.2,  4.1,  0. ],\r\n",
    "           [ 5.5,  4.2,  0. ],\r\n",
    "           [ 4.9,  3.1,  0. ],\r\n",
    "           [ 5. ,  3.2,  0. ],\r\n",
    "           [ 5.5,  3.5,  0. ],\r\n",
    "           [ 4.9,  3.1,  0. ],\r\n",
    "           [ 4.4,  3. ,  0. ],\r\n",
    "           [ 5.1,  3.4,  0. ],\r\n",
    "           [ 5. ,  3.5,  0. ],\r\n",
    "           [ 4.5,  2.3,  0. ],\r\n",
    "           [ 4.4,  3.2,  0. ],\r\n",
    "           [ 5. ,  3.5,  0. ],\r\n",
    "           [ 5.1,  3.8,  0. ],\r\n",
    "           [ 4.8,  3. ,  0. ],\r\n",
    "           [ 5.1,  3.8,  0. ],\r\n",
    "           [ 4.6,  3.2,  0. ],\r\n",
    "           [ 5.3,  3.7,  0. ],\r\n",
    "           [ 5. ,  3.3,  0. ],\r\n",
    "           [ 6.8,  2.8,  1. ],\r\n",
    "           [ 6.7,  3. ,  1. ],\r\n",
    "           [ 6. ,  2.9,  1. ],\r\n",
    "           [ 5.7,  2.6,  1. ],\r\n",
    "           [ 5.5,  2.4,  1. ],\r\n",
    "           [ 5.5,  2.4,  1. ],\r\n",
    "           [ 5.8,  2.7,  1. ],\r\n",
    "           [ 6. ,  2.7,  1. ],\r\n",
    "           [ 5.4,  3. ,  1. ],\r\n",
    "           [ 6. ,  3.4,  1. ],\r\n",
    "           [ 6.7,  3.1,  1. ],\r\n",
    "           [ 6.3,  2.3,  1. ],\r\n",
    "           [ 5.6,  3. ,  1. ],\r\n",
    "           [ 5.5,  2.5,  1. ],\r\n",
    "           [ 5.5,  2.6,  1. ],\r\n",
    "           [ 6.1,  3. ,  1. ],\r\n",
    "           [ 5.8,  2.6,  1. ],\r\n",
    "           [ 5. ,  2.3,  1. ],\r\n",
    "           [ 5.6,  2.7,  1. ],\r\n",
    "           [ 5.7,  3. ,  1. ],\r\n",
    "           [ 5.7,  2.9,  1. ],\r\n",
    "           [ 6.2,  2.9,  1. ],\r\n",
    "           [ 5.1,  2.5,  1. ],\r\n",
    "           [ 5.7,  2.8,  1. ]]"
   ],
   "outputs": [],
   "metadata": {
    "deletable": false,
    "editable": false,
    "nbgrader": {
     "cell_type": "code",
     "checksum": "769530b20d3c2f8499c0f4549319734e",
     "grade": false,
     "grade_id": "cell-0acff77c129b57cb",
     "locked": true,
     "schema_version": 3,
     "solution": false,
     "task": false
    }
   }
  },
  {
   "cell_type": "markdown",
   "source": [
    "Test your model on the test set. You should be able to achieve at least 95% accuracy. Provide your model in `W` and `b` and your function `guess_flower(x1, x2, W, b)` should accept the parameters in that order."
   ],
   "metadata": {
    "deletable": false,
    "editable": false,
    "nbgrader": {
     "cell_type": "markdown",
     "checksum": "55e2eae86b7f3facd5be7d26723e0da5",
     "grade": false,
     "grade_id": "cell-b8ae92790fc39da9",
     "locked": true,
     "schema_version": 3,
     "solution": false,
     "task": false
    }
   }
  },
  {
   "cell_type": "code",
   "execution_count": 81,
   "source": [
    "# If you called W and b in a different way, here you can rename it.\r\n",
    "# Otherwise, check the accuracy you achieved\r\n",
    "\r\n",
    "# YOUR CODE HERE\r\n",
    "correct = 0\r\n",
    "\r\n",
    "for x1, x2, label in test_data:\r\n",
    "    pred = guess_flower(x1, x2, W, b)\r\n",
    "    if  pred == label:\r\n",
    "        correct +=1\r\n",
    "\r\n",
    "total = len(test_data)\r\n"
   ],
   "outputs": [
    {
     "output_type": "stream",
     "name": "stdout",
     "text": [
      "Iris-versicolor\n",
      "Iris-versicolor\n",
      "Iris-versicolor\n",
      "Iris-versicolor\n",
      "Iris-versicolor\n",
      "Iris-versicolor\n",
      "Iris-versicolor\n",
      "Iris-versicolor\n",
      "Iris-versicolor\n",
      "Iris-versicolor\n",
      "Iris-versicolor\n",
      "Iris-versicolor\n",
      "Iris-versicolor\n",
      "Iris-versicolor\n",
      "Iris-versicolor\n",
      "Iris-versicolor\n",
      "Iris-versicolor\n",
      "Iris-versicolor\n",
      "Iris-versicolor\n",
      "Iris-versicolor\n",
      "Iris-versicolor\n",
      "Iris-versicolor\n",
      "Iris-versicolor\n",
      "Iris-versicolor\n",
      "Iris-versicolor\n",
      "Iris-versicolor\n",
      "Iris-versicolor\n",
      "Iris-versicolor\n",
      "Iris-versicolor\n",
      "Iris-versicolor\n",
      "Iris-versicolor\n",
      "Iris-versicolor\n",
      "Iris-versicolor\n",
      "Iris-versicolor\n",
      "Iris-versicolor\n",
      "Iris-versicolor\n",
      "Iris-versicolor\n",
      "Iris-versicolor\n",
      "Iris-versicolor\n",
      "Iris-versicolor\n",
      "Iris-versicolor\n",
      "Iris-versicolor\n",
      "Iris-versicolor\n",
      "Iris-versicolor\n",
      "Iris-versicolor\n",
      "Iris-versicolor\n",
      "Iris-versicolor\n",
      "Iris-versicolor\n",
      "Iris-versicolor\n",
      "Iris-versicolor\n",
      "Iris-versicolor\n",
      "Iris-versicolor\n",
      "Iris-versicolor\n"
     ]
    }
   ],
   "metadata": {
    "deletable": false,
    "nbgrader": {
     "cell_type": "code",
     "checksum": "3a4465620755633de32b4b54866ddd7e",
     "grade": false,
     "grade_id": "cell-aaa30ec08a34fef2",
     "locked": false,
     "schema_version": 3,
     "solution": true,
     "task": false
    }
   }
  },
  {
   "cell_type": "code",
   "execution_count": 78,
   "source": [
    "assert correct/total >= 0.95"
   ],
   "outputs": [
    {
     "output_type": "error",
     "ename": "AssertionError",
     "evalue": "",
     "traceback": [
      "\u001b[1;31m---------------------------------------------------------------------------\u001b[0m",
      "\u001b[1;31mAssertionError\u001b[0m                            Traceback (most recent call last)",
      "\u001b[1;32m<ipython-input-78-82f29c08342b>\u001b[0m in \u001b[0;36m<module>\u001b[1;34m\u001b[0m\n\u001b[1;32m----> 1\u001b[1;33m \u001b[1;32massert\u001b[0m \u001b[0mcorrect\u001b[0m\u001b[1;33m/\u001b[0m\u001b[0mtotal\u001b[0m \u001b[1;33m>=\u001b[0m \u001b[1;36m0.95\u001b[0m\u001b[1;33m\u001b[0m\u001b[1;33m\u001b[0m\u001b[0m\n\u001b[0m",
      "\u001b[1;31mAssertionError\u001b[0m: "
     ]
    }
   ],
   "metadata": {
    "deletable": false,
    "editable": false,
    "nbgrader": {
     "cell_type": "code",
     "checksum": "e4dd631273ff4351b66ffcf572595f9f",
     "grade": true,
     "grade_id": "cell-76baa44f7564d8d4",
     "locked": true,
     "points": 1,
     "schema_version": 3,
     "solution": false,
     "task": false
    }
   }
  },
  {
   "cell_type": "markdown",
   "source": [
    "## Challenge\n",
    "\n",
    "Can you make a cool animation of the running algorithm and post it on the social? 😉\n",
    "\n",
    "If you create it directly using Python, it's a plus!"
   ],
   "metadata": {
    "deletable": false,
    "editable": false,
    "nbgrader": {
     "cell_type": "markdown",
     "checksum": "43638806c031343f5ec0544b2588ad97",
     "grade": false,
     "grade_id": "cell-992c3ee9250c6a76",
     "locked": true,
     "schema_version": 3,
     "solution": false,
     "task": false
    }
   }
  },
  {
   "cell_type": "code",
   "execution_count": null,
   "source": [],
   "outputs": [],
   "metadata": {}
  }
 ],
 "metadata": {
  "kernelspec": {
   "name": "python3",
   "display_name": "Python 3.8.11 64-bit ('deep': conda)"
  },
  "language_info": {
   "codemirror_mode": {
    "name": "ipython",
    "version": 3
   },
   "file_extension": ".py",
   "mimetype": "text/x-python",
   "name": "python",
   "nbconvert_exporter": "python",
   "pygments_lexer": "ipython3",
   "version": "3.8.11"
  },
  "interpreter": {
   "hash": "06eb6164245d5dc111fc587aaaaee211f1064893786d78224bfe45d400023d11"
  }
 },
 "nbformat": 4,
 "nbformat_minor": 2
}