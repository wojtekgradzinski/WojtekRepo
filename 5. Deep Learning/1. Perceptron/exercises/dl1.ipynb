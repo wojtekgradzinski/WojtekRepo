{
 "cells": [
  {
   "cell_type": "markdown",
   "source": [
    "***Perceptron***\n"
   ],
   "metadata": {
    "deletable": false,
    "editable": false,
    "nbgrader": {
     "cell_type": "markdown",
     "checksum": "15b574805137b9279ac4eaf2a98dde5a",
     "grade": false,
     "grade_id": "cell-626178c48d82cf7b",
     "locked": true,
     "schema_version": 3,
     "solution": false,
     "task": false
    }
   }
  },
  {
   "cell_type": "code",
   "execution_count": 2,
   "source": [
    "import pandas as pd\r\n",
    "import numpy as np\r\n",
    "import matplotlib.pyplot as plt\r\n",
    "%matplotlib inline"
   ],
   "outputs": [],
   "metadata": {
    "deletable": false,
    "editable": false,
    "nbgrader": {
     "cell_type": "code",
     "checksum": "ee78954366926c1b629f8d1f06370456",
     "grade": false,
     "grade_id": "cell-971c8877f1ab5326",
     "locked": true,
     "schema_version": 3,
     "solution": false,
     "task": false
    }
   }
  },
  {
   "cell_type": "markdown",
   "source": [
    "Use the `make_guassian_quantiles` function from the `sklearn.datasets`class to create 1000 2-dimensional data points with two labels. Put the data in the variable `X` and the classes in the variable `c`. Use `random_state=42`."
   ],
   "metadata": {
    "deletable": false,
    "editable": false,
    "nbgrader": {
     "cell_type": "markdown",
     "checksum": "0d8eca36c80e9886e2ce237b0a556bd5",
     "grade": false,
     "grade_id": "cell-01157c0fe6df0335",
     "locked": true,
     "schema_version": 3,
     "solution": false,
     "task": false
    }
   }
  },
  {
   "cell_type": "code",
   "execution_count": 3,
   "source": [
    "import sklearn.datasets\r\n",
    "\r\n",
    "X = 0\r\n",
    "c = 0\r\n",
    "\r\n",
    "# YOUR CODE HERE\r\n",
    "\r\n",
    "X, c = sklearn.datasets.make_gaussian_quantiles(n_samples=1000, n_features=2, n_classes=2, shuffle=True, random_state=42)\r\n",
    "\r\n",
    "\r\n",
    "\r\n",
    "\r\n"
   ],
   "outputs": [],
   "metadata": {
    "deletable": false,
    "nbgrader": {
     "cell_type": "code",
     "checksum": "b484fbae43e4fba2d1d69fc39ece9efc",
     "grade": false,
     "grade_id": "cell-63d28a4a996eb894",
     "locked": false,
     "schema_version": 3,
     "solution": true,
     "task": false
    }
   }
  },
  {
   "cell_type": "code",
   "execution_count": 92,
   "source": [],
   "outputs": [
    {
     "output_type": "execute_result",
     "data": {
      "text/plain": [
       "array([[ 1.64496771, -0.24903604],\n",
       "       [ 1.18947049, -1.22760782],\n",
       "       [ 0.06980208, -0.3853136 ],\n",
       "       ...,\n",
       "       [ 0.59740007,  0.70117274],\n",
       "       [ 2.64434335, -1.50297033],\n",
       "       [ 0.84062003,  0.54673357]])"
      ]
     },
     "metadata": {},
     "execution_count": 92
    }
   ],
   "metadata": {}
  },
  {
   "cell_type": "code",
   "execution_count": 2,
   "source": [
    "assert X.shape == (1000,2)\r\n",
    "assert c.shape == (1000,)\r\n",
    "assert c.max() == 1\r\n",
    "assert c.min() == 0"
   ],
   "outputs": [
    {
     "output_type": "error",
     "ename": "NameError",
     "evalue": "name 'X' is not defined",
     "traceback": [
      "\u001b[1;31m---------------------------------------------------------------------------\u001b[0m",
      "\u001b[1;31mNameError\u001b[0m                                 Traceback (most recent call last)",
      "\u001b[1;32m<ipython-input-2-7d96497504d8>\u001b[0m in \u001b[0;36m<module>\u001b[1;34m\u001b[0m\n\u001b[1;32m----> 1\u001b[1;33m \u001b[1;32massert\u001b[0m \u001b[0mX\u001b[0m\u001b[1;33m.\u001b[0m\u001b[0mshape\u001b[0m \u001b[1;33m==\u001b[0m \u001b[1;33m(\u001b[0m\u001b[1;36m1000\u001b[0m\u001b[1;33m,\u001b[0m\u001b[1;36m2\u001b[0m\u001b[1;33m)\u001b[0m\u001b[1;33m\u001b[0m\u001b[1;33m\u001b[0m\u001b[0m\n\u001b[0m\u001b[0;32m      2\u001b[0m \u001b[1;32massert\u001b[0m \u001b[0mc\u001b[0m\u001b[1;33m.\u001b[0m\u001b[0mshape\u001b[0m \u001b[1;33m==\u001b[0m \u001b[1;33m(\u001b[0m\u001b[1;36m1000\u001b[0m\u001b[1;33m,\u001b[0m\u001b[1;33m)\u001b[0m\u001b[1;33m\u001b[0m\u001b[1;33m\u001b[0m\u001b[0m\n\u001b[0;32m      3\u001b[0m \u001b[1;32massert\u001b[0m \u001b[0mc\u001b[0m\u001b[1;33m.\u001b[0m\u001b[0mmax\u001b[0m\u001b[1;33m(\u001b[0m\u001b[1;33m)\u001b[0m \u001b[1;33m==\u001b[0m \u001b[1;36m1\u001b[0m\u001b[1;33m\u001b[0m\u001b[1;33m\u001b[0m\u001b[0m\n\u001b[0;32m      4\u001b[0m \u001b[1;32massert\u001b[0m \u001b[0mc\u001b[0m\u001b[1;33m.\u001b[0m\u001b[0mmin\u001b[0m\u001b[1;33m(\u001b[0m\u001b[1;33m)\u001b[0m \u001b[1;33m==\u001b[0m \u001b[1;36m0\u001b[0m\u001b[1;33m\u001b[0m\u001b[1;33m\u001b[0m\u001b[0m\n",
      "\u001b[1;31mNameError\u001b[0m: name 'X' is not defined"
     ]
    }
   ],
   "metadata": {
    "deletable": false,
    "editable": false,
    "nbgrader": {
     "cell_type": "code",
     "checksum": "9f7a9ef676a2b7d5e94cb44d6bb8fb21",
     "grade": true,
     "grade_id": "cell-966bf7e3648a388c",
     "locked": true,
     "points": 1,
     "schema_version": 3,
     "solution": false,
     "task": false
    }
   }
  },
  {
   "cell_type": "markdown",
   "source": [
    "Make a scatterplot of the generated points using two different colors for the different classes."
   ],
   "metadata": {
    "deletable": false,
    "editable": false,
    "nbgrader": {
     "cell_type": "markdown",
     "checksum": "ea0269f558a7c3ea6bca25fa984de8e3",
     "grade": false,
     "grade_id": "cell-dfa16baa15d50145",
     "locked": true,
     "schema_version": 3,
     "solution": false,
     "task": false
    }
   }
  },
  {
   "cell_type": "code",
   "execution_count": 3,
   "source": [
    "\r\n",
    "# YOUR CODE HERE\r\n",
    "x_t = X.T\r\n",
    "plt.scatter(x_t[0], x_t[1], alpha = 0.6 , c=c)\r\n",
    "plt.show()\r\n",
    "\r\n"
   ],
   "outputs": [
    {
     "output_type": "error",
     "ename": "NameError",
     "evalue": "name 'X' is not defined",
     "traceback": [
      "\u001b[1;31m---------------------------------------------------------------------------\u001b[0m",
      "\u001b[1;31mNameError\u001b[0m                                 Traceback (most recent call last)",
      "\u001b[1;32m<ipython-input-3-9ecaaa535ddb>\u001b[0m in \u001b[0;36m<module>\u001b[1;34m\u001b[0m\n\u001b[0;32m      1\u001b[0m \u001b[1;31m# YOUR CODE HERE\u001b[0m\u001b[1;33m\u001b[0m\u001b[1;33m\u001b[0m\u001b[1;33m\u001b[0m\u001b[0m\n\u001b[1;32m----> 2\u001b[1;33m \u001b[0mx_t\u001b[0m \u001b[1;33m=\u001b[0m \u001b[0mX\u001b[0m\u001b[1;33m.\u001b[0m\u001b[0mT\u001b[0m\u001b[1;33m\u001b[0m\u001b[1;33m\u001b[0m\u001b[0m\n\u001b[0m\u001b[0;32m      3\u001b[0m \u001b[0mplt\u001b[0m\u001b[1;33m.\u001b[0m\u001b[0mscatter\u001b[0m\u001b[1;33m(\u001b[0m\u001b[0mx_t\u001b[0m\u001b[1;33m[\u001b[0m\u001b[1;36m0\u001b[0m\u001b[1;33m]\u001b[0m\u001b[1;33m,\u001b[0m \u001b[0mx_t\u001b[0m\u001b[1;33m[\u001b[0m\u001b[1;36m1\u001b[0m\u001b[1;33m]\u001b[0m\u001b[1;33m,\u001b[0m \u001b[0malpha\u001b[0m \u001b[1;33m=\u001b[0m \u001b[1;36m0.6\u001b[0m \u001b[1;33m,\u001b[0m \u001b[0mc\u001b[0m\u001b[1;33m=\u001b[0m\u001b[0mc\u001b[0m\u001b[1;33m)\u001b[0m\u001b[1;33m\u001b[0m\u001b[1;33m\u001b[0m\u001b[0m\n\u001b[0;32m      4\u001b[0m \u001b[0mplt\u001b[0m\u001b[1;33m.\u001b[0m\u001b[0mshow\u001b[0m\u001b[1;33m(\u001b[0m\u001b[1;33m)\u001b[0m\u001b[1;33m\u001b[0m\u001b[1;33m\u001b[0m\u001b[0m\n\u001b[0;32m      5\u001b[0m \u001b[1;33m\u001b[0m\u001b[0m\n",
      "\u001b[1;31mNameError\u001b[0m: name 'X' is not defined"
     ]
    }
   ],
   "metadata": {
    "deletable": false,
    "nbgrader": {
     "cell_type": "code",
     "checksum": "feb558928c6e6d94de09aacfb2e8cdbc",
     "grade": false,
     "grade_id": "cell-7cad454d15726ed1",
     "locked": false,
     "schema_version": 3,
     "solution": true,
     "task": false
    }
   }
  },
  {
   "cell_type": "code",
   "execution_count": null,
   "source": [
    "\r\n"
   ],
   "outputs": [],
   "metadata": {}
  },
  {
   "cell_type": "markdown",
   "source": [
    "Create a function that takes as input `x` and returns the sigmoid of `x` and test it on the given vector `v` (storing the result in the variable `v_activated`.\n",
    "\n",
    "*N.B.* The sigmoid function should accept any iterable as input, but must return a numpy array."
   ],
   "metadata": {
    "deletable": false,
    "editable": false,
    "nbgrader": {
     "cell_type": "markdown",
     "checksum": "a13ee988fb8746d643a03f7355cfc369",
     "grade": false,
     "grade_id": "cell-191c48ff3e8dde28",
     "locked": true,
     "schema_version": 3,
     "solution": false,
     "task": false
    }
   }
  },
  {
   "cell_type": "code",
   "execution_count": 15,
   "source": [
    "v = [1, 2, -1]\r\n",
    "\r\n",
    "def sigmoid(v):\r\n",
    "    l = []\r\n",
    "    \r\n",
    "    for i in v:\r\n",
    "        l.append(1/(1+ np.exp(-i)))\r\n",
    "    print(l)    \r\n",
    "        \r\n",
    "        \r\n",
    "\r\n",
    "v_activated = sigmoid(v)\r\n",
    "\r\n",
    "# YOUR CODE HERE\r\n",
    "#raise NotImplementedError()"
   ],
   "outputs": [
    {
     "output_type": "stream",
     "name": "stdout",
     "text": [
      "[0.7310585786300049, 0.8807970779778823, 0.2689414213699951]\n"
     ]
    }
   ],
   "metadata": {
    "deletable": false,
    "nbgrader": {
     "cell_type": "code",
     "checksum": "22cf27ede4a612a862662ebdaef40cf9",
     "grade": false,
     "grade_id": "cell-25c6e2ab20993a7e",
     "locked": false,
     "schema_version": 3,
     "solution": true,
     "task": false
    }
   }
  },
  {
   "cell_type": "code",
   "execution_count": 93,
   "source": [
    "assert np.round(v_activated[0], 2) == 0.73\r\n",
    "assert np.round(v_activated[1], 2) == 0.88\r\n",
    "assert np.round(v_activated[2], 2) == 0.27\r\n",
    "\r\n"
   ],
   "outputs": [
    {
     "output_type": "error",
     "ename": "AssertionError",
     "evalue": "",
     "traceback": [
      "\u001b[1;31m---------------------------------------------------------------------------\u001b[0m",
      "\u001b[1;31mAssertionError\u001b[0m                            Traceback (most recent call last)",
      "\u001b[1;32m<ipython-input-93-ed00fb84c4d1>\u001b[0m in \u001b[0;36m<module>\u001b[1;34m\u001b[0m\n\u001b[1;32m----> 1\u001b[1;33m \u001b[1;32massert\u001b[0m \u001b[0mnp\u001b[0m\u001b[1;33m.\u001b[0m\u001b[0mround\u001b[0m\u001b[1;33m(\u001b[0m\u001b[0mv_activated\u001b[0m\u001b[1;33m[\u001b[0m\u001b[1;36m0\u001b[0m\u001b[1;33m]\u001b[0m\u001b[1;33m,\u001b[0m \u001b[1;36m2\u001b[0m\u001b[1;33m)\u001b[0m \u001b[1;33m==\u001b[0m \u001b[1;36m0.73\u001b[0m\u001b[1;33m\u001b[0m\u001b[1;33m\u001b[0m\u001b[0m\n\u001b[0m\u001b[0;32m      2\u001b[0m \u001b[1;32massert\u001b[0m \u001b[0mnp\u001b[0m\u001b[1;33m.\u001b[0m\u001b[0mround\u001b[0m\u001b[1;33m(\u001b[0m\u001b[0mv_activated\u001b[0m\u001b[1;33m[\u001b[0m\u001b[1;36m1\u001b[0m\u001b[1;33m]\u001b[0m\u001b[1;33m,\u001b[0m \u001b[1;36m2\u001b[0m\u001b[1;33m)\u001b[0m \u001b[1;33m==\u001b[0m \u001b[1;36m0.88\u001b[0m\u001b[1;33m\u001b[0m\u001b[1;33m\u001b[0m\u001b[0m\n\u001b[0;32m      3\u001b[0m \u001b[1;32massert\u001b[0m \u001b[0mnp\u001b[0m\u001b[1;33m.\u001b[0m\u001b[0mround\u001b[0m\u001b[1;33m(\u001b[0m\u001b[0mv_activated\u001b[0m\u001b[1;33m[\u001b[0m\u001b[1;36m2\u001b[0m\u001b[1;33m]\u001b[0m\u001b[1;33m,\u001b[0m \u001b[1;36m2\u001b[0m\u001b[1;33m)\u001b[0m \u001b[1;33m==\u001b[0m \u001b[1;36m0.27\u001b[0m\u001b[1;33m\u001b[0m\u001b[1;33m\u001b[0m\u001b[0m\n\u001b[0;32m      4\u001b[0m \u001b[1;33m\u001b[0m\u001b[0m\n",
      "\u001b[1;31mAssertionError\u001b[0m: "
     ]
    }
   ],
   "metadata": {
    "deletable": false,
    "editable": false,
    "nbgrader": {
     "cell_type": "code",
     "checksum": "97ec1ed7a9f1776ae2b2b68eb97a0387",
     "grade": true,
     "grade_id": "cell-083dec44f74fed1a",
     "locked": true,
     "points": 1,
     "schema_version": 3,
     "solution": false,
     "task": false
    }
   }
  },
  {
   "cell_type": "markdown",
   "source": [
    "Define the step function. As for the sigmoid, create a function that takes as input `x` and returns the sigmoid of `x` and test it on the given vector `v` (storing the result in the variable `v_activated`."
   ],
   "metadata": {}
  },
  {
   "cell_type": "code",
   "execution_count": 18,
   "source": [
    "v = [1, 0, -1]\r\n",
    "\r\n",
    "def step(x):\r\n",
    "     x  = np.array(x)\r\n",
    "     return np.array(x >= 0 , dtype= float)\r\n",
    "\r\n",
    "v_activated = step(v)\r\n",
    "\r\n",
    "# YOUR CODE HERE\r\n",
    "#raise NotImplementedError()\r\n",
    "\r\n"
   ],
   "outputs": [],
   "metadata": {
    "deletable": false,
    "nbgrader": {
     "cell_type": "code",
     "checksum": "5941e50e5aa61278563e648c0f7e41cd",
     "grade": false,
     "grade_id": "cell-4f9ebef5da14c733",
     "locked": false,
     "schema_version": 3,
     "solution": true,
     "task": false
    }
   }
  },
  {
   "cell_type": "code",
   "execution_count": 19,
   "source": [
    "assert v_activated[0] == 1.0\r\n",
    "assert v_activated[1] == 1.0\r\n",
    "assert v_activated[2] == 0.0"
   ],
   "outputs": [],
   "metadata": {
    "deletable": false,
    "editable": false,
    "nbgrader": {
     "cell_type": "code",
     "checksum": "580e126d5eaeacc6b6195203cc3f7645",
     "grade": true,
     "grade_id": "cell-978a2c6edd8b6234",
     "locked": true,
     "points": 0,
     "schema_version": 3,
     "solution": false,
     "task": false
    }
   }
  },
  {
   "cell_type": "markdown",
   "source": [
    "You want to build a model to choose which book to read based on the following three variables:\n",
    "\n",
    "- average reviews on Goodreads (from 1 to 5)\n",
    "- number of 1 stars reviews on Goodreads\n",
    "- number of reviews on Goodreads\n",
    "- it's fiction or not\n",
    "\n",
    "Create a potential dataset with reasonable examples with 5 data points presented in a numpy array of the form `X = np.array([[f11,f12...], [f21, f22,...],...,[f51,f52,...]])` so that the shape of X will be (3,4). In addition, create the `y` vector with binary labels."
   ],
   "metadata": {
    "deletable": false,
    "editable": false,
    "nbgrader": {
     "cell_type": "markdown",
     "checksum": "9c4cef7d30da9534c6c7889631acfb8f",
     "grade": false,
     "grade_id": "cell-4e063c1ce286a211",
     "locked": true,
     "schema_version": 3,
     "solution": false,
     "task": false
    }
   }
  },
  {
   "cell_type": "code",
   "execution_count": 20,
   "source": [
    "\r\n",
    "X = np.array([[2, 23, 34, 0], [4, 65, 76, 1], [5, 171, 172, 1]])\r\n",
    "y = np.array([1,0,1])\r\n",
    "\r\n",
    "X.shape\r\n",
    "# YOUR CODE HERE\r\n",
    "#raise NotImplementedError()"
   ],
   "outputs": [
    {
     "output_type": "execute_result",
     "data": {
      "text/plain": [
       "(3, 4)"
      ]
     },
     "metadata": {},
     "execution_count": 20
    }
   ],
   "metadata": {
    "deletable": false,
    "nbgrader": {
     "cell_type": "code",
     "checksum": "38a5d5065218b7a4f859914537cd9d1b",
     "grade": false,
     "grade_id": "cell-e42eb35e7fbdece3",
     "locked": false,
     "schema_version": 3,
     "solution": true,
     "task": false
    }
   }
  },
  {
   "cell_type": "code",
   "execution_count": null,
   "source": [
    "assert X.shape == (3,4)\r\n",
    "assert np.array([1<=x[0]<=5 for x in X]).sum() == 3\r\n",
    "assert np.array([x[3] for x in X]).max() == 1\r\n",
    "assert np.array([x[3] for x in X]).min() == 0\r\n",
    "assert np.array([x[1]<=x[2] for x in X]).sum() == 3\r\n",
    "assert y.max() == 1\r\n",
    "assert y.min() == 0\r\n",
    "assert y.shape == (3,)\r\n",
    "\r\n"
   ],
   "outputs": [],
   "metadata": {
    "deletable": false,
    "editable": false,
    "nbgrader": {
     "cell_type": "code",
     "checksum": "646748d0004f916f932f5264110fc906",
     "grade": true,
     "grade_id": "cell-999c065e8557524e",
     "locked": true,
     "points": 0,
     "schema_version": 3,
     "solution": false,
     "task": false
    }
   }
  },
  {
   "cell_type": "markdown",
   "source": [
    "You want to define a boundary n-1 hyperplane for the data you have generated. Create the vector W containing the weights of your model initialized by following a normal distribution (you can use `numpy.random.normal`. Don't forget the bias `b`."
   ],
   "metadata": {
    "deletable": false,
    "editable": false,
    "nbgrader": {
     "cell_type": "markdown",
     "checksum": "65625bf43b456ed2514f9a7c6d3b437a",
     "grade": false,
     "grade_id": "cell-0b62cb474375bc15",
     "locked": true,
     "schema_version": 3,
     "solution": false,
     "task": false
    }
   }
  },
  {
   "cell_type": "code",
   "execution_count": 21,
   "source": [
    "W = 0\r\n",
    "b = 0\r\n",
    "\r\n",
    "# YOUR CODE HERE\r\n",
    "W = np.random.normal(size=4)\r\n",
    "#raise NotImplementedError()\r\n",
    "\r\n",
    "b = np.random.normal(size=1)\r\n",
    "b"
   ],
   "outputs": [
    {
     "output_type": "execute_result",
     "data": {
      "text/plain": [
       "array([0.60181613])"
      ]
     },
     "metadata": {},
     "execution_count": 21
    }
   ],
   "metadata": {
    "deletable": false,
    "nbgrader": {
     "cell_type": "code",
     "checksum": "4dc3090c9dfc58b45bc4199b20574962",
     "grade": false,
     "grade_id": "cell-3ada8bc49ebdd9aa",
     "locked": false,
     "schema_version": 3,
     "solution": true,
     "task": false
    }
   }
  },
  {
   "cell_type": "code",
   "execution_count": null,
   "source": [
    "assert W.shape == (4,) or W.shape == (4, 1)\r\n",
    "assert b.shape == (1,) or b.shape == (1, 1)"
   ],
   "outputs": [],
   "metadata": {
    "deletable": false,
    "editable": false,
    "nbgrader": {
     "cell_type": "code",
     "checksum": "b379abdf1a78ad42ea2dcc1a84cddb2e",
     "grade": true,
     "grade_id": "cell-c04231e0b720cac4",
     "locked": true,
     "points": 1,
     "schema_version": 3,
     "solution": false,
     "task": false
    }
   }
  },
  {
   "cell_type": "markdown",
   "source": [
    "Create an array containing the score of your random model on each of the data points you generated. Store the result in the `scores` variable. \n",
    "\n",
    "*Hint*: Use the dot product. I recommend you to reshape it at the end so that it has only one dimension, not two."
   ],
   "metadata": {
    "deletable": false,
    "editable": false,
    "nbgrader": {
     "cell_type": "markdown",
     "checksum": "ae916ac19993c416b73cc8dbfdf2fcec",
     "grade": false,
     "grade_id": "cell-49cf709fd559af84",
     "locked": true,
     "schema_version": 3,
     "solution": false,
     "task": false
    }
   }
  },
  {
   "cell_type": "code",
   "execution_count": 1,
   "source": [
    "scores = []\r\n",
    "\r\n",
    "# YOUR CODE HERE\r\n",
    "scores = np.dot(X,W)+b\r\n",
    "scores\r\n",
    "#raise NotImplementedError()"
   ],
   "outputs": [
    {
     "output_type": "error",
     "ename": "NameError",
     "evalue": "name 'np' is not defined",
     "traceback": [
      "\u001b[1;31m---------------------------------------------------------------------------\u001b[0m",
      "\u001b[1;31mNameError\u001b[0m                                 Traceback (most recent call last)",
      "\u001b[1;32m<ipython-input-1-fe3a224a8c73>\u001b[0m in \u001b[0;36m<module>\u001b[1;34m\u001b[0m\n\u001b[0;32m      2\u001b[0m \u001b[1;33m\u001b[0m\u001b[0m\n\u001b[0;32m      3\u001b[0m \u001b[1;31m# YOUR CODE HERE\u001b[0m\u001b[1;33m\u001b[0m\u001b[1;33m\u001b[0m\u001b[1;33m\u001b[0m\u001b[0m\n\u001b[1;32m----> 4\u001b[1;33m \u001b[0mscores\u001b[0m \u001b[1;33m=\u001b[0m \u001b[0mnp\u001b[0m\u001b[1;33m.\u001b[0m\u001b[0mdot\u001b[0m\u001b[1;33m(\u001b[0m\u001b[0mX\u001b[0m\u001b[1;33m,\u001b[0m\u001b[0mW\u001b[0m\u001b[1;33m)\u001b[0m\u001b[1;33m+\u001b[0m\u001b[0mb\u001b[0m\u001b[1;33m\u001b[0m\u001b[1;33m\u001b[0m\u001b[0m\n\u001b[0m\u001b[0;32m      5\u001b[0m \u001b[0mscores\u001b[0m\u001b[1;33m\u001b[0m\u001b[1;33m\u001b[0m\u001b[0m\n\u001b[0;32m      6\u001b[0m \u001b[1;31m#raise NotImplementedError()\u001b[0m\u001b[1;33m\u001b[0m\u001b[1;33m\u001b[0m\u001b[1;33m\u001b[0m\u001b[0m\n",
      "\u001b[1;31mNameError\u001b[0m: name 'np' is not defined"
     ]
    }
   ],
   "metadata": {
    "deletable": false,
    "nbgrader": {
     "cell_type": "code",
     "checksum": "2dc4df6186a2c501f2d35b79d3ecffe6",
     "grade": false,
     "grade_id": "cell-951dd174a94f79aa",
     "locked": false,
     "schema_version": 3,
     "solution": true,
     "task": false
    }
   }
  },
  {
   "cell_type": "code",
   "execution_count": null,
   "source": [
    "assert scores.shape == (3,)\r\n"
   ],
   "outputs": [],
   "metadata": {
    "deletable": false,
    "editable": false,
    "nbgrader": {
     "cell_type": "code",
     "checksum": "2f7fd127e1794c414bf7eb7426f44b8d",
     "grade": true,
     "grade_id": "cell-8ad99d3f33895cd4",
     "locked": true,
     "points": 0,
     "schema_version": 3,
     "solution": false,
     "task": false
    }
   }
  },
  {
   "cell_type": "markdown",
   "source": [
    "Activate all the scores by using the step function you defined before and store them in the `step_scores` variable."
   ],
   "metadata": {
    "deletable": false,
    "editable": false,
    "nbgrader": {
     "cell_type": "markdown",
     "checksum": "0b14f233b06cb98a09946daddc4704d6",
     "grade": false,
     "grade_id": "cell-0305f5e1428e07a1",
     "locked": true,
     "schema_version": 3,
     "solution": false,
     "task": false
    }
   }
  },
  {
   "cell_type": "code",
   "execution_count": 23,
   "source": [
    "\r\n",
    "step_scores = 0\r\n",
    "\r\n",
    "# YOUR CODE HERE\r\n",
    "\r\n",
    "step_scores = step(scores)\r\n",
    "\r\n",
    "step_scores.shape\r\n",
    "#raise NotImplementedError()"
   ],
   "outputs": [
    {
     "output_type": "execute_result",
     "data": {
      "text/plain": [
       "(3,)"
      ]
     },
     "metadata": {},
     "execution_count": 23
    }
   ],
   "metadata": {
    "deletable": false,
    "nbgrader": {
     "cell_type": "code",
     "checksum": "25fffadd55bd1ac5bc5dffb731fc3693",
     "grade": false,
     "grade_id": "cell-3f689055ccafa454",
     "locked": false,
     "schema_version": 3,
     "solution": true,
     "task": false
    }
   }
  },
  {
   "cell_type": "code",
   "execution_count": null,
   "source": [
    "assert step_scores.shape == (3,)"
   ],
   "outputs": [],
   "metadata": {
    "deletable": false,
    "editable": false,
    "nbgrader": {
     "cell_type": "code",
     "checksum": "1db756fc40b005b1da3b1aa39ff61724",
     "grade": true,
     "grade_id": "cell-1f0db6a939917418",
     "locked": true,
     "points": 0,
     "schema_version": 3,
     "solution": false,
     "task": false
    }
   }
  },
  {
   "cell_type": "markdown",
   "source": [
    "Activate all the scores by using the sigmoid function you defined before and store them in the `sigmoid_scores` variable."
   ],
   "metadata": {
    "deletable": false,
    "editable": false,
    "nbgrader": {
     "cell_type": "markdown",
     "checksum": "5cbe6bcb73ea5f0741441f1711cef7c6",
     "grade": false,
     "grade_id": "cell-63dec5e13d0d0024",
     "locked": true,
     "schema_version": 3,
     "solution": false,
     "task": false
    }
   }
  },
  {
   "cell_type": "code",
   "execution_count": 4,
   "source": [
    "sigmoid_scores = 0\r\n",
    "\r\n",
    "# YOUR CODE HERE\r\n",
    "sigmoid_scores = sigmoid(scores)\r\n",
    "sigmoid_scores\r\n",
    "\r\n",
    "#raise NotImplementedError()"
   ],
   "outputs": [
    {
     "output_type": "error",
     "ename": "NameError",
     "evalue": "name 'sigmoid' is not defined",
     "traceback": [
      "\u001b[1;31m---------------------------------------------------------------------------\u001b[0m",
      "\u001b[1;31mNameError\u001b[0m                                 Traceback (most recent call last)",
      "\u001b[1;32m<ipython-input-4-440702c3d17c>\u001b[0m in \u001b[0;36m<module>\u001b[1;34m\u001b[0m\n\u001b[0;32m      2\u001b[0m \u001b[1;33m\u001b[0m\u001b[0m\n\u001b[0;32m      3\u001b[0m \u001b[1;31m# YOUR CODE HERE\u001b[0m\u001b[1;33m\u001b[0m\u001b[1;33m\u001b[0m\u001b[1;33m\u001b[0m\u001b[0m\n\u001b[1;32m----> 4\u001b[1;33m \u001b[0msigmoid_scores\u001b[0m \u001b[1;33m=\u001b[0m \u001b[0msigmoid\u001b[0m\u001b[1;33m(\u001b[0m\u001b[0mscores\u001b[0m\u001b[1;33m)\u001b[0m\u001b[1;33m\u001b[0m\u001b[1;33m\u001b[0m\u001b[0m\n\u001b[0m\u001b[0;32m      5\u001b[0m \u001b[0msigmoid_scores\u001b[0m\u001b[1;33m\u001b[0m\u001b[1;33m\u001b[0m\u001b[0m\n\u001b[0;32m      6\u001b[0m \u001b[1;33m\u001b[0m\u001b[0m\n",
      "\u001b[1;31mNameError\u001b[0m: name 'sigmoid' is not defined"
     ]
    }
   ],
   "metadata": {
    "deletable": false,
    "nbgrader": {
     "cell_type": "code",
     "checksum": "7b2e6f1f098073a4b05943d1c34cd269",
     "grade": false,
     "grade_id": "cell-f765e664087d74f0",
     "locked": false,
     "schema_version": 3,
     "solution": true,
     "task": false
    }
   }
  },
  {
   "cell_type": "code",
   "execution_count": null,
   "source": [
    "assert sigmoid_scores.shape == (3,)"
   ],
   "outputs": [],
   "metadata": {
    "deletable": false,
    "editable": false,
    "nbgrader": {
     "cell_type": "code",
     "checksum": "59accb48455763884ad26df082df1b43",
     "grade": true,
     "grade_id": "cell-4210905859c1bf9d",
     "locked": true,
     "points": 0,
     "schema_version": 3,
     "solution": false,
     "task": false
    }
   }
  },
  {
   "cell_type": "markdown",
   "source": [
    "Take the `step_scores` as predicted scores. You know that you can update your model weights using the formula:\n",
    "$$w_{i(new)}=w_{i(old)} + \\eta(y-\\hat{y})x_{i}$$\n",
    "where $y$ is the correct label of your data point (your `y[i]`) and $\\hat{y}$ is the `step_scores`. And what about $\\eta$? It's the learning rate. \n",
    "\n",
    "Set the learning rate to 0.1, and create the function `update(W_old, b_old, X, y, step_scores, eta)` that returns the updated weigths vector and bias. Test it using as input (X,y) the first data point of your dataset (*Hint*:`X[0], y[0]`, and of course `step_score[0]`)."
   ],
   "metadata": {
    "deletable": false,
    "editable": false,
    "nbgrader": {
     "cell_type": "markdown",
     "checksum": "84b3121b89f0d0a78dc17ce6bb24e6fa",
     "grade": false,
     "grade_id": "cell-4826ac496f74789c",
     "locked": true,
     "schema_version": 3,
     "solution": false,
     "task": false
    }
   }
  },
  {
   "cell_type": "code",
   "execution_count": 5,
   "source": [
    "def update_weights(W_old, b_old, X, y, step_scores, eta):\r\n",
    "    W_new = W_old + eta * (y - step_scores) * X\r\n",
    "    b_new = b_old + eta *(y - step_scores)\r\n",
    "    \r\n",
    "    return W_new, b_new\r\n",
    "\r\n",
    "W_new, b_new = update_weights(W,b,X[0],y[0],step_scores[0],0.1)\r\n",
    "\r\n",
    "\r\n",
    "W, b, W_new, b_new\r\n",
    "# YOUR CODE HERE\r\n",
    "#raise NotImplementedError()"
   ],
   "outputs": [
    {
     "output_type": "error",
     "ename": "NameError",
     "evalue": "name 'W' is not defined",
     "traceback": [
      "\u001b[1;31m---------------------------------------------------------------------------\u001b[0m",
      "\u001b[1;31mNameError\u001b[0m                                 Traceback (most recent call last)",
      "\u001b[1;32m<ipython-input-5-1d9d6161d73b>\u001b[0m in \u001b[0;36m<module>\u001b[1;34m\u001b[0m\n\u001b[0;32m      5\u001b[0m     \u001b[1;32mreturn\u001b[0m \u001b[0mW_new\u001b[0m\u001b[1;33m,\u001b[0m \u001b[0mb_new\u001b[0m\u001b[1;33m\u001b[0m\u001b[1;33m\u001b[0m\u001b[0m\n\u001b[0;32m      6\u001b[0m \u001b[1;33m\u001b[0m\u001b[0m\n\u001b[1;32m----> 7\u001b[1;33m \u001b[0mW_new\u001b[0m\u001b[1;33m,\u001b[0m \u001b[0mb_new\u001b[0m \u001b[1;33m=\u001b[0m \u001b[0mupdate_weights\u001b[0m\u001b[1;33m(\u001b[0m\u001b[0mW\u001b[0m\u001b[1;33m,\u001b[0m\u001b[0mb\u001b[0m\u001b[1;33m,\u001b[0m\u001b[0mX\u001b[0m\u001b[1;33m[\u001b[0m\u001b[1;36m0\u001b[0m\u001b[1;33m]\u001b[0m\u001b[1;33m,\u001b[0m\u001b[0my\u001b[0m\u001b[1;33m[\u001b[0m\u001b[1;36m0\u001b[0m\u001b[1;33m]\u001b[0m\u001b[1;33m,\u001b[0m\u001b[0mstep_scores\u001b[0m\u001b[1;33m[\u001b[0m\u001b[1;36m0\u001b[0m\u001b[1;33m]\u001b[0m\u001b[1;33m,\u001b[0m\u001b[1;36m0.1\u001b[0m\u001b[1;33m)\u001b[0m\u001b[1;33m\u001b[0m\u001b[1;33m\u001b[0m\u001b[0m\n\u001b[0m\u001b[0;32m      8\u001b[0m \u001b[1;33m\u001b[0m\u001b[0m\n\u001b[0;32m      9\u001b[0m \u001b[1;33m\u001b[0m\u001b[0m\n",
      "\u001b[1;31mNameError\u001b[0m: name 'W' is not defined"
     ]
    }
   ],
   "metadata": {
    "deletable": false,
    "nbgrader": {
     "cell_type": "code",
     "checksum": "87494e3786cf53af9cec534b0596a8fb",
     "grade": false,
     "grade_id": "cell-d26387e4b70d46a5",
     "locked": false,
     "schema_version": 3,
     "solution": true,
     "task": false
    }
   }
  },
  {
   "cell_type": "code",
   "execution_count": null,
   "source": [
    "assert W_new.shape == (4,)\r\n",
    "assert b_new.shape == (1,)"
   ],
   "outputs": [],
   "metadata": {
    "deletable": false,
    "editable": false,
    "nbgrader": {
     "cell_type": "code",
     "checksum": "2f2dfbdb9982ef1e39cfe34e87959181",
     "grade": true,
     "grade_id": "cell-8465db2dfb20da02",
     "locked": true,
     "points": 0,
     "schema_version": 3,
     "solution": false,
     "task": false
    }
   }
  },
  {
   "cell_type": "markdown",
   "source": [
    "Create a for loop to update the weights on each of the points in your dataset. In other words:\n",
    "Iterate over the data points in X and the labels in y\n",
    "- compute the `step_score` using the W, b that you have randomly inititated\n",
    "- use the `update_weights` function to update them\n",
    "- repeat\n",
    "\n",
    "Do it for 10 epochs."
   ],
   "metadata": {
    "deletable": false,
    "editable": false,
    "nbgrader": {
     "cell_type": "markdown",
     "checksum": "edc54e40c6843756eff23b13084fcc4b",
     "grade": false,
     "grade_id": "cell-12a625a98ceda43c",
     "locked": true,
     "schema_version": 3,
     "solution": false,
     "task": false
    }
   }
  },
  {
   "cell_type": "code",
   "execution_count": 28,
   "source": [
    "epochs = 0\r\n",
    "step_score = 0\r\n",
    "eta = 0\r\n",
    "for epoch in range(epochs):\r\n",
    "    for x, label in zip(X, y):\r\n",
    "        score = W @ x + b\r\n",
    "        step_scores = step(score)\r\n",
    "        W_new, b_new = update_weights(W,b,x,label, step_score,eta)\r\n",
    "        pass\r\n",
    "\r\n",
    "# YOUR CODE HERE\r\n",
    "#raise NotImplementedError()"
   ],
   "outputs": [],
   "metadata": {
    "deletable": false,
    "nbgrader": {
     "cell_type": "code",
     "checksum": "4becc3d6391f1cde47d257f19641abf4",
     "grade": false,
     "grade_id": "cell-67c5d7eaf5a420b2",
     "locked": false,
     "schema_version": 3,
     "solution": true,
     "task": false
    }
   }
  },
  {
   "cell_type": "code",
   "execution_count": 30,
   "source": [
    "assert W_new.shape == (4,)\r\n",
    "assert b_new.shape == (1,)"
   ],
   "outputs": [],
   "metadata": {
    "deletable": false,
    "editable": false,
    "nbgrader": {
     "cell_type": "code",
     "checksum": "059f8e429ddece34350bf1846d007bcd",
     "grade": true,
     "grade_id": "cell-2c08018e859be627",
     "locked": true,
     "points": 1,
     "schema_version": 3,
     "solution": false,
     "task": false
    }
   }
  },
  {
   "cell_type": "markdown",
   "source": [
    "Now that you got so far, let's try to train a model for the Iris Dataset.\n",
    "\n",
    "Maybe you don't like it, but you can't do great things using a perceptron. At the same time, understanding the steps behind it can help you a lot to build your understanding around the neural networks. \n",
    "\n",
    "In fact, a neural network is basically the combination of multiple perceptrons on the same input, and a deep neural network is a combination of multiple perceptrons on the combination of multiple perceptrons on ... on the same input! \n",
    "\n",
    "I'll help you giving an helper function that, given weights, bias, (x1,x2) coordinates and binary labels, plots the data points and the boundary line:"
   ],
   "metadata": {
    "deletable": false,
    "editable": false,
    "nbgrader": {
     "cell_type": "markdown",
     "checksum": "36f9e15188262c75b50256659121d9ec",
     "grade": false,
     "grade_id": "cell-c5747c2671ca337b",
     "locked": true,
     "schema_version": 3,
     "solution": false,
     "task": false
    }
   }
  },
  {
   "cell_type": "code",
   "execution_count": 6,
   "source": [
    "from IPython import display\r\n",
    "import time\r\n",
    "# function that plots data and linear classifier\r\n",
    "def plot_border(w1, w2, b, data, fig):\r\n",
    "    \r\n",
    "    plt.axis([0, 10, 0, 6])\r\n",
    "    plt.grid()\r\n",
    "    \r\n",
    "    # scatter data\r\n",
    "    for i in range(len(data)) :\r\n",
    "        point = data[i]\r\n",
    "        color = \"r\"\r\n",
    "        if point[2] == 0 :\r\n",
    "            color = \"b\"\r\n",
    "        plt.scatter(point[0], point[1], c=color)\r\n",
    "\r\n",
    "    # separation line\r\n",
    "    x = np.linspace(0, 10, 100)\r\n",
    "    plt.plot(x, -w1/w2*x+b/w2, '-g', label='y=w1*x+b')\r\n",
    "    plt.show()"
   ],
   "outputs": [],
   "metadata": {
    "deletable": false,
    "editable": false,
    "nbgrader": {
     "cell_type": "code",
     "checksum": "4298900d8ab7430698ca3506b9769206",
     "grade": false,
     "grade_id": "cell-b85e4f97033e7343",
     "locked": true,
     "schema_version": 3,
     "solution": false,
     "task": false
    }
   }
  },
  {
   "cell_type": "code",
   "execution_count": 7,
   "source": [
    "### load data ###\r\n",
    "\r\n",
    "# each point is a tuple (sepal length, sepal width, flower type)\r\n",
    "# types: 0 for Setosa & 1 for Versicolor\r\n",
    "\r\n",
    "data = [[ 5.1,  3.5,  0 ],\r\n",
    "       [ 4.9,  3. ,  0 ],\r\n",
    "       [ 4.7,  3.2,  0 ],\r\n",
    "       [ 4.6,  3.1,  0 ],\r\n",
    "       [ 5. ,  3.6,  0 ],\r\n",
    "       [ 5.4,  3.9,  0 ],\r\n",
    "       [ 4.6,  3.4,  0 ],\r\n",
    "       [ 5. ,  3.4,  0 ],\r\n",
    "       [ 4.4,  2.9,  0 ],\r\n",
    "       [ 4.9,  3.1,  0 ],\r\n",
    "       [ 5.4,  3.7,  0 ],\r\n",
    "       [ 4.8,  3.4,  0 ],\r\n",
    "       [ 4.8,  3. ,  0 ],\r\n",
    "       [ 4.3,  3. ,  0 ],\r\n",
    "       [ 5.8,  4. ,  0 ],\r\n",
    "       [ 5.7,  4.4,  0 ],\r\n",
    "       [ 5.4,  3.9,  0 ],\r\n",
    "       [ 5.1,  3.5,  0 ],\r\n",
    "       [ 5.7,  3.8,  0 ],\r\n",
    "       [ 5.1,  3.8,  0 ],\r\n",
    "       [ 7. ,  3.2,  1 ],\r\n",
    "       [ 6.4,  3.2,  1 ],\r\n",
    "       [ 6.9,  3.1,  1 ],\r\n",
    "       [ 5.5,  2.3,  1 ],\r\n",
    "       [ 6.5,  2.8,  1 ],\r\n",
    "       [ 5.7,  2.8,  1 ],\r\n",
    "       [ 6.3,  3.3,  1 ],\r\n",
    "       [ 4.9,  2.4,  1 ],\r\n",
    "       [ 6.6,  2.9,  1 ],\r\n",
    "       [ 5.2,  2.7,  1 ],\r\n",
    "       [ 5. ,  2. ,  1 ],\r\n",
    "       [ 5.9,  3. ,  1 ],\r\n",
    "       [ 6. ,  2.2,  1 ],\r\n",
    "       [ 6.1,  2.9,  1 ],\r\n",
    "       [ 5.6,  2.9,  1 ],\r\n",
    "       [ 6.7,  3.1,  1 ],\r\n",
    "       [ 5.6,  3. ,  1 ],\r\n",
    "       [ 5.8,  2.7,  1 ],\r\n",
    "       [ 6.2,  2.2,  1 ],\r\n",
    "       [ 5.6,  2.5,  1 ],\r\n",
    "       [ 5.9,  3.2,  1 ],\r\n",
    "       [ 6.1,  2.8,  1 ],\r\n",
    "       [ 6.3,  2.5,  1 ],\r\n",
    "       [ 6.1,  2.8,  1 ],\r\n",
    "       [ 6.4,  2.9,  1 ]]\r\n",
    "\r\n",
    "data = np.array(data)\r\n",
    "#data"
   ],
   "outputs": [],
   "metadata": {}
  },
  {
   "cell_type": "markdown",
   "source": [
    "Plot the data:"
   ],
   "metadata": {}
  },
  {
   "cell_type": "code",
   "execution_count": 8,
   "source": [
    "\r\n",
    "### visualize data ###\r\n",
    "\r\n",
    "# plt.axis([0, 10, 0, 6])\r\n",
    "# plt.grid()\r\n",
    "# for point in data:\r\n",
    "#     # your code here\r\n",
    "#     # use plt.scatter(...) function\r\n",
    "#     pass\r\n",
    "\r\n",
    "\r\n",
    "# YOUR CODE HERE\r\n",
    "plt.scatter(x=data[:,0], y= data[:,1], c=data[:,2])\r\n",
    "#raise NotImplementedError()"
   ],
   "outputs": [
    {
     "output_type": "execute_result",
     "data": {
      "text/plain": [
       "<matplotlib.collections.PathCollection at 0x255b2becbb0>"
      ]
     },
     "metadata": {},
     "execution_count": 8
    },
    {
     "output_type": "display_data",
     "data": {
      "text/plain": [
       "<Figure size 432x288 with 1 Axes>"
      ],
      "image/svg+xml": "<?xml version=\"1.0\" encoding=\"utf-8\" standalone=\"no\"?>\r\n<!DOCTYPE svg PUBLIC \"-//W3C//DTD SVG 1.1//EN\"\r\n  \"http://www.w3.org/Graphics/SVG/1.1/DTD/svg11.dtd\">\r\n<svg height=\"250.670071pt\" version=\"1.1\" viewBox=\"0 0 372.103125 250.670071\" width=\"372.103125pt\" xmlns=\"http://www.w3.org/2000/svg\" xmlns:xlink=\"http://www.w3.org/1999/xlink\">\r\n <metadata>\r\n  <rdf:RDF xmlns:cc=\"http://creativecommons.org/ns#\" xmlns:dc=\"http://purl.org/dc/elements/1.1/\" xmlns:rdf=\"http://www.w3.org/1999/02/22-rdf-syntax-ns#\">\r\n   <cc:Work>\r\n    <dc:type rdf:resource=\"http://purl.org/dc/dcmitype/StillImage\"/>\r\n    <dc:date>2021-08-27T22:57:12.546046</dc:date>\r\n    <dc:format>image/svg+xml</dc:format>\r\n    <dc:creator>\r\n     <cc:Agent>\r\n      <dc:title>Matplotlib v3.4.2, https://matplotlib.org/</dc:title>\r\n     </cc:Agent>\r\n    </dc:creator>\r\n   </cc:Work>\r\n  </rdf:RDF>\r\n </metadata>\r\n <defs>\r\n  <style type=\"text/css\">*{stroke-linecap:butt;stroke-linejoin:round;}</style>\r\n </defs>\r\n <g id=\"figure_1\">\r\n  <g id=\"patch_1\">\r\n   <path d=\"M 0 250.670071 \r\nL 372.103125 250.670071 \r\nL 372.103125 0 \r\nL 0 0 \r\nz\r\n\" style=\"fill:none;\"/>\r\n  </g>\r\n  <g id=\"axes_1\">\r\n   <g id=\"patch_2\">\r\n    <path d=\"M 30.103125 226.791946 \r\nL 364.903125 226.791946 \r\nL 364.903125 9.351946 \r\nL 30.103125 9.351946 \r\nz\r\n\" style=\"fill:#ffffff;\"/>\r\n   </g>\r\n   <g id=\"PathCollection_1\">\r\n    <defs>\r\n     <path d=\"M 0 3 \r\nC 0.795609 3 1.55874 2.683901 2.12132 2.12132 \r\nC 2.683901 1.55874 3 0.795609 3 -0 \r\nC 3 -0.795609 2.683901 -1.55874 2.12132 -2.12132 \r\nC 1.55874 -2.683901 0.795609 -3 0 -3 \r\nC -0.795609 -3 -1.55874 -2.683901 -2.12132 -2.12132 \r\nC -2.683901 -1.55874 -3 -0.795609 -3 0 \r\nC -3 0.795609 -2.683901 1.55874 -2.12132 2.12132 \r\nC -1.55874 2.683901 -0.795609 3 0 3 \r\nz\r\n\" id=\"C0_0_b434987a63\"/>\r\n    </defs>\r\n    <g clip-path=\"url(#pd7e15d32c6)\">\r\n     <use style=\"fill:#440154;stroke:#440154;\" x=\"135.503125\" xlink:href=\"#C0_0_b434987a63\" y=\"93.362855\"/>\r\n    </g>\r\n    <g clip-path=\"url(#pd7e15d32c6)\">\r\n     <use style=\"fill:#440154;stroke:#440154;\" x=\"112.95767\" xlink:href=\"#C0_0_b434987a63\" y=\"134.544673\"/>\r\n    </g>\r\n    <g clip-path=\"url(#pd7e15d32c6)\">\r\n     <use style=\"fill:#440154;stroke:#440154;\" x=\"90.412216\" xlink:href=\"#C0_0_b434987a63\" y=\"118.071946\"/>\r\n    </g>\r\n    <g clip-path=\"url(#pd7e15d32c6)\">\r\n     <use style=\"fill:#440154;stroke:#440154;\" x=\"79.139489\" xlink:href=\"#C0_0_b434987a63\" y=\"126.30831\"/>\r\n    </g>\r\n    <g clip-path=\"url(#pd7e15d32c6)\">\r\n     <use style=\"fill:#440154;stroke:#440154;\" x=\"124.230398\" xlink:href=\"#C0_0_b434987a63\" y=\"85.126491\"/>\r\n    </g>\r\n    <g clip-path=\"url(#pd7e15d32c6)\">\r\n     <use style=\"fill:#440154;stroke:#440154;\" x=\"169.321307\" xlink:href=\"#C0_0_b434987a63\" y=\"60.417401\"/>\r\n    </g>\r\n    <g clip-path=\"url(#pd7e15d32c6)\">\r\n     <use style=\"fill:#440154;stroke:#440154;\" x=\"79.139489\" xlink:href=\"#C0_0_b434987a63\" y=\"101.599219\"/>\r\n    </g>\r\n    <g clip-path=\"url(#pd7e15d32c6)\">\r\n     <use style=\"fill:#440154;stroke:#440154;\" x=\"124.230398\" xlink:href=\"#C0_0_b434987a63\" y=\"101.599219\"/>\r\n    </g>\r\n    <g clip-path=\"url(#pd7e15d32c6)\">\r\n     <use style=\"fill:#440154;stroke:#440154;\" x=\"56.594034\" xlink:href=\"#C0_0_b434987a63\" y=\"142.781037\"/>\r\n    </g>\r\n    <g clip-path=\"url(#pd7e15d32c6)\">\r\n     <use style=\"fill:#440154;stroke:#440154;\" x=\"112.95767\" xlink:href=\"#C0_0_b434987a63\" y=\"126.30831\"/>\r\n    </g>\r\n    <g clip-path=\"url(#pd7e15d32c6)\">\r\n     <use style=\"fill:#440154;stroke:#440154;\" x=\"169.321307\" xlink:href=\"#C0_0_b434987a63\" y=\"76.890128\"/>\r\n    </g>\r\n    <g clip-path=\"url(#pd7e15d32c6)\">\r\n     <use style=\"fill:#440154;stroke:#440154;\" x=\"101.684943\" xlink:href=\"#C0_0_b434987a63\" y=\"101.599219\"/>\r\n    </g>\r\n    <g clip-path=\"url(#pd7e15d32c6)\">\r\n     <use style=\"fill:#440154;stroke:#440154;\" x=\"101.684943\" xlink:href=\"#C0_0_b434987a63\" y=\"134.544673\"/>\r\n    </g>\r\n    <g clip-path=\"url(#pd7e15d32c6)\">\r\n     <use style=\"fill:#440154;stroke:#440154;\" x=\"45.321307\" xlink:href=\"#C0_0_b434987a63\" y=\"134.544673\"/>\r\n    </g>\r\n    <g clip-path=\"url(#pd7e15d32c6)\">\r\n     <use style=\"fill:#440154;stroke:#440154;\" x=\"214.412216\" xlink:href=\"#C0_0_b434987a63\" y=\"52.181037\"/>\r\n    </g>\r\n    <g clip-path=\"url(#pd7e15d32c6)\">\r\n     <use style=\"fill:#440154;stroke:#440154;\" x=\"203.139489\" xlink:href=\"#C0_0_b434987a63\" y=\"19.235582\"/>\r\n    </g>\r\n    <g clip-path=\"url(#pd7e15d32c6)\">\r\n     <use style=\"fill:#440154;stroke:#440154;\" x=\"169.321307\" xlink:href=\"#C0_0_b434987a63\" y=\"60.417401\"/>\r\n    </g>\r\n    <g clip-path=\"url(#pd7e15d32c6)\">\r\n     <use style=\"fill:#440154;stroke:#440154;\" x=\"135.503125\" xlink:href=\"#C0_0_b434987a63\" y=\"93.362855\"/>\r\n    </g>\r\n    <g clip-path=\"url(#pd7e15d32c6)\">\r\n     <use style=\"fill:#440154;stroke:#440154;\" x=\"203.139489\" xlink:href=\"#C0_0_b434987a63\" y=\"68.653764\"/>\r\n    </g>\r\n    <g clip-path=\"url(#pd7e15d32c6)\">\r\n     <use style=\"fill:#440154;stroke:#440154;\" x=\"135.503125\" xlink:href=\"#C0_0_b434987a63\" y=\"68.653764\"/>\r\n    </g>\r\n    <g clip-path=\"url(#pd7e15d32c6)\">\r\n     <use style=\"fill:#fde725;stroke:#fde725;\" x=\"349.684943\" xlink:href=\"#C0_0_b434987a63\" y=\"118.071946\"/>\r\n    </g>\r\n    <g clip-path=\"url(#pd7e15d32c6)\">\r\n     <use style=\"fill:#fde725;stroke:#fde725;\" x=\"282.04858\" xlink:href=\"#C0_0_b434987a63\" y=\"118.071946\"/>\r\n    </g>\r\n    <g clip-path=\"url(#pd7e15d32c6)\">\r\n     <use style=\"fill:#fde725;stroke:#fde725;\" x=\"338.412216\" xlink:href=\"#C0_0_b434987a63\" y=\"126.30831\"/>\r\n    </g>\r\n    <g clip-path=\"url(#pd7e15d32c6)\">\r\n     <use style=\"fill:#fde725;stroke:#fde725;\" x=\"180.594034\" xlink:href=\"#C0_0_b434987a63\" y=\"192.199219\"/>\r\n    </g>\r\n    <g clip-path=\"url(#pd7e15d32c6)\">\r\n     <use style=\"fill:#fde725;stroke:#fde725;\" x=\"293.321307\" xlink:href=\"#C0_0_b434987a63\" y=\"151.017401\"/>\r\n    </g>\r\n    <g clip-path=\"url(#pd7e15d32c6)\">\r\n     <use style=\"fill:#fde725;stroke:#fde725;\" x=\"203.139489\" xlink:href=\"#C0_0_b434987a63\" y=\"151.017401\"/>\r\n    </g>\r\n    <g clip-path=\"url(#pd7e15d32c6)\">\r\n     <use style=\"fill:#fde725;stroke:#fde725;\" x=\"270.775852\" xlink:href=\"#C0_0_b434987a63\" y=\"109.835582\"/>\r\n    </g>\r\n    <g clip-path=\"url(#pd7e15d32c6)\">\r\n     <use style=\"fill:#fde725;stroke:#fde725;\" x=\"112.95767\" xlink:href=\"#C0_0_b434987a63\" y=\"183.962855\"/>\r\n    </g>\r\n    <g clip-path=\"url(#pd7e15d32c6)\">\r\n     <use style=\"fill:#fde725;stroke:#fde725;\" x=\"304.594034\" xlink:href=\"#C0_0_b434987a63\" y=\"142.781037\"/>\r\n    </g>\r\n    <g clip-path=\"url(#pd7e15d32c6)\">\r\n     <use style=\"fill:#fde725;stroke:#fde725;\" x=\"146.775852\" xlink:href=\"#C0_0_b434987a63\" y=\"159.253764\"/>\r\n    </g>\r\n    <g clip-path=\"url(#pd7e15d32c6)\">\r\n     <use style=\"fill:#fde725;stroke:#fde725;\" x=\"124.230398\" xlink:href=\"#C0_0_b434987a63\" y=\"216.90831\"/>\r\n    </g>\r\n    <g clip-path=\"url(#pd7e15d32c6)\">\r\n     <use style=\"fill:#fde725;stroke:#fde725;\" x=\"225.684943\" xlink:href=\"#C0_0_b434987a63\" y=\"134.544673\"/>\r\n    </g>\r\n    <g clip-path=\"url(#pd7e15d32c6)\">\r\n     <use style=\"fill:#fde725;stroke:#fde725;\" x=\"236.95767\" xlink:href=\"#C0_0_b434987a63\" y=\"200.435582\"/>\r\n    </g>\r\n    <g clip-path=\"url(#pd7e15d32c6)\">\r\n     <use style=\"fill:#fde725;stroke:#fde725;\" x=\"248.230398\" xlink:href=\"#C0_0_b434987a63\" y=\"142.781037\"/>\r\n    </g>\r\n    <g clip-path=\"url(#pd7e15d32c6)\">\r\n     <use style=\"fill:#fde725;stroke:#fde725;\" x=\"191.866761\" xlink:href=\"#C0_0_b434987a63\" y=\"142.781037\"/>\r\n    </g>\r\n    <g clip-path=\"url(#pd7e15d32c6)\">\r\n     <use style=\"fill:#fde725;stroke:#fde725;\" x=\"315.866761\" xlink:href=\"#C0_0_b434987a63\" y=\"126.30831\"/>\r\n    </g>\r\n    <g clip-path=\"url(#pd7e15d32c6)\">\r\n     <use style=\"fill:#fde725;stroke:#fde725;\" x=\"191.866761\" xlink:href=\"#C0_0_b434987a63\" y=\"134.544673\"/>\r\n    </g>\r\n    <g clip-path=\"url(#pd7e15d32c6)\">\r\n     <use style=\"fill:#fde725;stroke:#fde725;\" x=\"214.412216\" xlink:href=\"#C0_0_b434987a63\" y=\"159.253764\"/>\r\n    </g>\r\n    <g clip-path=\"url(#pd7e15d32c6)\">\r\n     <use style=\"fill:#fde725;stroke:#fde725;\" x=\"259.503125\" xlink:href=\"#C0_0_b434987a63\" y=\"200.435582\"/>\r\n    </g>\r\n    <g clip-path=\"url(#pd7e15d32c6)\">\r\n     <use style=\"fill:#fde725;stroke:#fde725;\" x=\"191.866761\" xlink:href=\"#C0_0_b434987a63\" y=\"175.726491\"/>\r\n    </g>\r\n    <g clip-path=\"url(#pd7e15d32c6)\">\r\n     <use style=\"fill:#fde725;stroke:#fde725;\" x=\"225.684943\" xlink:href=\"#C0_0_b434987a63\" y=\"118.071946\"/>\r\n    </g>\r\n    <g clip-path=\"url(#pd7e15d32c6)\">\r\n     <use style=\"fill:#fde725;stroke:#fde725;\" x=\"248.230398\" xlink:href=\"#C0_0_b434987a63\" y=\"151.017401\"/>\r\n    </g>\r\n    <g clip-path=\"url(#pd7e15d32c6)\">\r\n     <use style=\"fill:#fde725;stroke:#fde725;\" x=\"270.775852\" xlink:href=\"#C0_0_b434987a63\" y=\"175.726491\"/>\r\n    </g>\r\n    <g clip-path=\"url(#pd7e15d32c6)\">\r\n     <use style=\"fill:#fde725;stroke:#fde725;\" x=\"248.230398\" xlink:href=\"#C0_0_b434987a63\" y=\"151.017401\"/>\r\n    </g>\r\n    <g clip-path=\"url(#pd7e15d32c6)\">\r\n     <use style=\"fill:#fde725;stroke:#fde725;\" x=\"282.04858\" xlink:href=\"#C0_0_b434987a63\" y=\"142.781037\"/>\r\n    </g>\r\n   </g>\r\n   <g id=\"matplotlib.axis_1\">\r\n    <g id=\"xtick_1\">\r\n     <g id=\"line2d_1\">\r\n      <defs>\r\n       <path d=\"M 0 0 \r\nL 0 3.5 \r\n\" id=\"m61081ec422\" style=\"stroke:#000000;stroke-width:0.8;\"/>\r\n      </defs>\r\n      <g>\r\n       <use style=\"stroke:#000000;stroke-width:0.8;\" x=\"67.866761\" xlink:href=\"#m61081ec422\" y=\"226.791946\"/>\r\n      </g>\r\n     </g>\r\n     <g id=\"text_1\">\r\n      <!-- 4.5 -->\r\n      <g transform=\"translate(59.915199 241.390384)scale(0.1 -0.1)\">\r\n       <defs>\r\n        <path d=\"M 2419 4116 \r\nL 825 1625 \r\nL 2419 1625 \r\nL 2419 4116 \r\nz\r\nM 2253 4666 \r\nL 3047 4666 \r\nL 3047 1625 \r\nL 3713 1625 \r\nL 3713 1100 \r\nL 3047 1100 \r\nL 3047 0 \r\nL 2419 0 \r\nL 2419 1100 \r\nL 313 1100 \r\nL 313 1709 \r\nL 2253 4666 \r\nz\r\n\" id=\"DejaVuSans-34\" transform=\"scale(0.015625)\"/>\r\n        <path d=\"M 684 794 \r\nL 1344 794 \r\nL 1344 0 \r\nL 684 0 \r\nL 684 794 \r\nz\r\n\" id=\"DejaVuSans-2e\" transform=\"scale(0.015625)\"/>\r\n        <path d=\"M 691 4666 \r\nL 3169 4666 \r\nL 3169 4134 \r\nL 1269 4134 \r\nL 1269 2991 \r\nQ 1406 3038 1543 3061 \r\nQ 1681 3084 1819 3084 \r\nQ 2600 3084 3056 2656 \r\nQ 3513 2228 3513 1497 \r\nQ 3513 744 3044 326 \r\nQ 2575 -91 1722 -91 \r\nQ 1428 -91 1123 -41 \r\nQ 819 9 494 109 \r\nL 494 744 \r\nQ 775 591 1075 516 \r\nQ 1375 441 1709 441 \r\nQ 2250 441 2565 725 \r\nQ 2881 1009 2881 1497 \r\nQ 2881 1984 2565 2268 \r\nQ 2250 2553 1709 2553 \r\nQ 1456 2553 1204 2497 \r\nQ 953 2441 691 2322 \r\nL 691 4666 \r\nz\r\n\" id=\"DejaVuSans-35\" transform=\"scale(0.015625)\"/>\r\n       </defs>\r\n       <use xlink:href=\"#DejaVuSans-34\"/>\r\n       <use x=\"63.623047\" xlink:href=\"#DejaVuSans-2e\"/>\r\n       <use x=\"95.410156\" xlink:href=\"#DejaVuSans-35\"/>\r\n      </g>\r\n     </g>\r\n    </g>\r\n    <g id=\"xtick_2\">\r\n     <g id=\"line2d_2\">\r\n      <g>\r\n       <use style=\"stroke:#000000;stroke-width:0.8;\" x=\"124.230398\" xlink:href=\"#m61081ec422\" y=\"226.791946\"/>\r\n      </g>\r\n     </g>\r\n     <g id=\"text_2\">\r\n      <!-- 5.0 -->\r\n      <g transform=\"translate(116.278835 241.390384)scale(0.1 -0.1)\">\r\n       <defs>\r\n        <path d=\"M 2034 4250 \r\nQ 1547 4250 1301 3770 \r\nQ 1056 3291 1056 2328 \r\nQ 1056 1369 1301 889 \r\nQ 1547 409 2034 409 \r\nQ 2525 409 2770 889 \r\nQ 3016 1369 3016 2328 \r\nQ 3016 3291 2770 3770 \r\nQ 2525 4250 2034 4250 \r\nz\r\nM 2034 4750 \r\nQ 2819 4750 3233 4129 \r\nQ 3647 3509 3647 2328 \r\nQ 3647 1150 3233 529 \r\nQ 2819 -91 2034 -91 \r\nQ 1250 -91 836 529 \r\nQ 422 1150 422 2328 \r\nQ 422 3509 836 4129 \r\nQ 1250 4750 2034 4750 \r\nz\r\n\" id=\"DejaVuSans-30\" transform=\"scale(0.015625)\"/>\r\n       </defs>\r\n       <use xlink:href=\"#DejaVuSans-35\"/>\r\n       <use x=\"63.623047\" xlink:href=\"#DejaVuSans-2e\"/>\r\n       <use x=\"95.410156\" xlink:href=\"#DejaVuSans-30\"/>\r\n      </g>\r\n     </g>\r\n    </g>\r\n    <g id=\"xtick_3\">\r\n     <g id=\"line2d_3\">\r\n      <g>\r\n       <use style=\"stroke:#000000;stroke-width:0.8;\" x=\"180.594034\" xlink:href=\"#m61081ec422\" y=\"226.791946\"/>\r\n      </g>\r\n     </g>\r\n     <g id=\"text_3\">\r\n      <!-- 5.5 -->\r\n      <g transform=\"translate(172.642472 241.390384)scale(0.1 -0.1)\">\r\n       <use xlink:href=\"#DejaVuSans-35\"/>\r\n       <use x=\"63.623047\" xlink:href=\"#DejaVuSans-2e\"/>\r\n       <use x=\"95.410156\" xlink:href=\"#DejaVuSans-35\"/>\r\n      </g>\r\n     </g>\r\n    </g>\r\n    <g id=\"xtick_4\">\r\n     <g id=\"line2d_4\">\r\n      <g>\r\n       <use style=\"stroke:#000000;stroke-width:0.8;\" x=\"236.95767\" xlink:href=\"#m61081ec422\" y=\"226.791946\"/>\r\n      </g>\r\n     </g>\r\n     <g id=\"text_4\">\r\n      <!-- 6.0 -->\r\n      <g transform=\"translate(229.006108 241.390384)scale(0.1 -0.1)\">\r\n       <defs>\r\n        <path d=\"M 2113 2584 \r\nQ 1688 2584 1439 2293 \r\nQ 1191 2003 1191 1497 \r\nQ 1191 994 1439 701 \r\nQ 1688 409 2113 409 \r\nQ 2538 409 2786 701 \r\nQ 3034 994 3034 1497 \r\nQ 3034 2003 2786 2293 \r\nQ 2538 2584 2113 2584 \r\nz\r\nM 3366 4563 \r\nL 3366 3988 \r\nQ 3128 4100 2886 4159 \r\nQ 2644 4219 2406 4219 \r\nQ 1781 4219 1451 3797 \r\nQ 1122 3375 1075 2522 \r\nQ 1259 2794 1537 2939 \r\nQ 1816 3084 2150 3084 \r\nQ 2853 3084 3261 2657 \r\nQ 3669 2231 3669 1497 \r\nQ 3669 778 3244 343 \r\nQ 2819 -91 2113 -91 \r\nQ 1303 -91 875 529 \r\nQ 447 1150 447 2328 \r\nQ 447 3434 972 4092 \r\nQ 1497 4750 2381 4750 \r\nQ 2619 4750 2861 4703 \r\nQ 3103 4656 3366 4563 \r\nz\r\n\" id=\"DejaVuSans-36\" transform=\"scale(0.015625)\"/>\r\n       </defs>\r\n       <use xlink:href=\"#DejaVuSans-36\"/>\r\n       <use x=\"63.623047\" xlink:href=\"#DejaVuSans-2e\"/>\r\n       <use x=\"95.410156\" xlink:href=\"#DejaVuSans-30\"/>\r\n      </g>\r\n     </g>\r\n    </g>\r\n    <g id=\"xtick_5\">\r\n     <g id=\"line2d_5\">\r\n      <g>\r\n       <use style=\"stroke:#000000;stroke-width:0.8;\" x=\"293.321307\" xlink:href=\"#m61081ec422\" y=\"226.791946\"/>\r\n      </g>\r\n     </g>\r\n     <g id=\"text_5\">\r\n      <!-- 6.5 -->\r\n      <g transform=\"translate(285.369744 241.390384)scale(0.1 -0.1)\">\r\n       <use xlink:href=\"#DejaVuSans-36\"/>\r\n       <use x=\"63.623047\" xlink:href=\"#DejaVuSans-2e\"/>\r\n       <use x=\"95.410156\" xlink:href=\"#DejaVuSans-35\"/>\r\n      </g>\r\n     </g>\r\n    </g>\r\n    <g id=\"xtick_6\">\r\n     <g id=\"line2d_6\">\r\n      <g>\r\n       <use style=\"stroke:#000000;stroke-width:0.8;\" x=\"349.684943\" xlink:href=\"#m61081ec422\" y=\"226.791946\"/>\r\n      </g>\r\n     </g>\r\n     <g id=\"text_6\">\r\n      <!-- 7.0 -->\r\n      <g transform=\"translate(341.733381 241.390384)scale(0.1 -0.1)\">\r\n       <defs>\r\n        <path d=\"M 525 4666 \r\nL 3525 4666 \r\nL 3525 4397 \r\nL 1831 0 \r\nL 1172 0 \r\nL 2766 4134 \r\nL 525 4134 \r\nL 525 4666 \r\nz\r\n\" id=\"DejaVuSans-37\" transform=\"scale(0.015625)\"/>\r\n       </defs>\r\n       <use xlink:href=\"#DejaVuSans-37\"/>\r\n       <use x=\"63.623047\" xlink:href=\"#DejaVuSans-2e\"/>\r\n       <use x=\"95.410156\" xlink:href=\"#DejaVuSans-30\"/>\r\n      </g>\r\n     </g>\r\n    </g>\r\n   </g>\r\n   <g id=\"matplotlib.axis_2\">\r\n    <g id=\"ytick_1\">\r\n     <g id=\"line2d_7\">\r\n      <defs>\r\n       <path d=\"M 0 0 \r\nL -3.5 0 \r\n\" id=\"ma055ffc5f4\" style=\"stroke:#000000;stroke-width:0.8;\"/>\r\n      </defs>\r\n      <g>\r\n       <use style=\"stroke:#000000;stroke-width:0.8;\" x=\"30.103125\" xlink:href=\"#ma055ffc5f4\" y=\"216.90831\"/>\r\n      </g>\r\n     </g>\r\n     <g id=\"text_7\">\r\n      <!-- 2.0 -->\r\n      <g transform=\"translate(7.2 220.707528)scale(0.1 -0.1)\">\r\n       <defs>\r\n        <path d=\"M 1228 531 \r\nL 3431 531 \r\nL 3431 0 \r\nL 469 0 \r\nL 469 531 \r\nQ 828 903 1448 1529 \r\nQ 2069 2156 2228 2338 \r\nQ 2531 2678 2651 2914 \r\nQ 2772 3150 2772 3378 \r\nQ 2772 3750 2511 3984 \r\nQ 2250 4219 1831 4219 \r\nQ 1534 4219 1204 4116 \r\nQ 875 4013 500 3803 \r\nL 500 4441 \r\nQ 881 4594 1212 4672 \r\nQ 1544 4750 1819 4750 \r\nQ 2544 4750 2975 4387 \r\nQ 3406 4025 3406 3419 \r\nQ 3406 3131 3298 2873 \r\nQ 3191 2616 2906 2266 \r\nQ 2828 2175 2409 1742 \r\nQ 1991 1309 1228 531 \r\nz\r\n\" id=\"DejaVuSans-32\" transform=\"scale(0.015625)\"/>\r\n       </defs>\r\n       <use xlink:href=\"#DejaVuSans-32\"/>\r\n       <use x=\"63.623047\" xlink:href=\"#DejaVuSans-2e\"/>\r\n       <use x=\"95.410156\" xlink:href=\"#DejaVuSans-30\"/>\r\n      </g>\r\n     </g>\r\n    </g>\r\n    <g id=\"ytick_2\">\r\n     <g id=\"line2d_8\">\r\n      <g>\r\n       <use style=\"stroke:#000000;stroke-width:0.8;\" x=\"30.103125\" xlink:href=\"#ma055ffc5f4\" y=\"175.726491\"/>\r\n      </g>\r\n     </g>\r\n     <g id=\"text_8\">\r\n      <!-- 2.5 -->\r\n      <g transform=\"translate(7.2 179.52571)scale(0.1 -0.1)\">\r\n       <use xlink:href=\"#DejaVuSans-32\"/>\r\n       <use x=\"63.623047\" xlink:href=\"#DejaVuSans-2e\"/>\r\n       <use x=\"95.410156\" xlink:href=\"#DejaVuSans-35\"/>\r\n      </g>\r\n     </g>\r\n    </g>\r\n    <g id=\"ytick_3\">\r\n     <g id=\"line2d_9\">\r\n      <g>\r\n       <use style=\"stroke:#000000;stroke-width:0.8;\" x=\"30.103125\" xlink:href=\"#ma055ffc5f4\" y=\"134.544673\"/>\r\n      </g>\r\n     </g>\r\n     <g id=\"text_9\">\r\n      <!-- 3.0 -->\r\n      <g transform=\"translate(7.2 138.343892)scale(0.1 -0.1)\">\r\n       <defs>\r\n        <path d=\"M 2597 2516 \r\nQ 3050 2419 3304 2112 \r\nQ 3559 1806 3559 1356 \r\nQ 3559 666 3084 287 \r\nQ 2609 -91 1734 -91 \r\nQ 1441 -91 1130 -33 \r\nQ 819 25 488 141 \r\nL 488 750 \r\nQ 750 597 1062 519 \r\nQ 1375 441 1716 441 \r\nQ 2309 441 2620 675 \r\nQ 2931 909 2931 1356 \r\nQ 2931 1769 2642 2001 \r\nQ 2353 2234 1838 2234 \r\nL 1294 2234 \r\nL 1294 2753 \r\nL 1863 2753 \r\nQ 2328 2753 2575 2939 \r\nQ 2822 3125 2822 3475 \r\nQ 2822 3834 2567 4026 \r\nQ 2313 4219 1838 4219 \r\nQ 1578 4219 1281 4162 \r\nQ 984 4106 628 3988 \r\nL 628 4550 \r\nQ 988 4650 1302 4700 \r\nQ 1616 4750 1894 4750 \r\nQ 2613 4750 3031 4423 \r\nQ 3450 4097 3450 3541 \r\nQ 3450 3153 3228 2886 \r\nQ 3006 2619 2597 2516 \r\nz\r\n\" id=\"DejaVuSans-33\" transform=\"scale(0.015625)\"/>\r\n       </defs>\r\n       <use xlink:href=\"#DejaVuSans-33\"/>\r\n       <use x=\"63.623047\" xlink:href=\"#DejaVuSans-2e\"/>\r\n       <use x=\"95.410156\" xlink:href=\"#DejaVuSans-30\"/>\r\n      </g>\r\n     </g>\r\n    </g>\r\n    <g id=\"ytick_4\">\r\n     <g id=\"line2d_10\">\r\n      <g>\r\n       <use style=\"stroke:#000000;stroke-width:0.8;\" x=\"30.103125\" xlink:href=\"#ma055ffc5f4\" y=\"93.362855\"/>\r\n      </g>\r\n     </g>\r\n     <g id=\"text_10\">\r\n      <!-- 3.5 -->\r\n      <g transform=\"translate(7.2 97.162074)scale(0.1 -0.1)\">\r\n       <use xlink:href=\"#DejaVuSans-33\"/>\r\n       <use x=\"63.623047\" xlink:href=\"#DejaVuSans-2e\"/>\r\n       <use x=\"95.410156\" xlink:href=\"#DejaVuSans-35\"/>\r\n      </g>\r\n     </g>\r\n    </g>\r\n    <g id=\"ytick_5\">\r\n     <g id=\"line2d_11\">\r\n      <g>\r\n       <use style=\"stroke:#000000;stroke-width:0.8;\" x=\"30.103125\" xlink:href=\"#ma055ffc5f4\" y=\"52.181037\"/>\r\n      </g>\r\n     </g>\r\n     <g id=\"text_11\">\r\n      <!-- 4.0 -->\r\n      <g transform=\"translate(7.2 55.980256)scale(0.1 -0.1)\">\r\n       <use xlink:href=\"#DejaVuSans-34\"/>\r\n       <use x=\"63.623047\" xlink:href=\"#DejaVuSans-2e\"/>\r\n       <use x=\"95.410156\" xlink:href=\"#DejaVuSans-30\"/>\r\n      </g>\r\n     </g>\r\n    </g>\r\n    <g id=\"ytick_6\">\r\n     <g id=\"line2d_12\">\r\n      <g>\r\n       <use style=\"stroke:#000000;stroke-width:0.8;\" x=\"30.103125\" xlink:href=\"#ma055ffc5f4\" y=\"10.999219\"/>\r\n      </g>\r\n     </g>\r\n     <g id=\"text_12\">\r\n      <!-- 4.5 -->\r\n      <g transform=\"translate(7.2 14.798437)scale(0.1 -0.1)\">\r\n       <use xlink:href=\"#DejaVuSans-34\"/>\r\n       <use x=\"63.623047\" xlink:href=\"#DejaVuSans-2e\"/>\r\n       <use x=\"95.410156\" xlink:href=\"#DejaVuSans-35\"/>\r\n      </g>\r\n     </g>\r\n    </g>\r\n   </g>\r\n   <g id=\"patch_3\">\r\n    <path d=\"M 30.103125 226.791946 \r\nL 30.103125 9.351946 \r\n\" style=\"fill:none;stroke:#000000;stroke-linecap:square;stroke-linejoin:miter;stroke-width:0.8;\"/>\r\n   </g>\r\n   <g id=\"patch_4\">\r\n    <path d=\"M 364.903125 226.791946 \r\nL 364.903125 9.351946 \r\n\" style=\"fill:none;stroke:#000000;stroke-linecap:square;stroke-linejoin:miter;stroke-width:0.8;\"/>\r\n   </g>\r\n   <g id=\"patch_5\">\r\n    <path d=\"M 30.103125 226.791946 \r\nL 364.903125 226.791946 \r\n\" style=\"fill:none;stroke:#000000;stroke-linecap:square;stroke-linejoin:miter;stroke-width:0.8;\"/>\r\n   </g>\r\n   <g id=\"patch_6\">\r\n    <path d=\"M 30.103125 9.351946 \r\nL 364.903125 9.351946 \r\n\" style=\"fill:none;stroke:#000000;stroke-linecap:square;stroke-linejoin:miter;stroke-width:0.8;\"/>\r\n   </g>\r\n  </g>\r\n </g>\r\n <defs>\r\n  <clipPath id=\"pd7e15d32c6\">\r\n   <rect height=\"217.44\" width=\"334.8\" x=\"30.103125\" y=\"9.351946\"/>\r\n  </clipPath>\r\n </defs>\r\n</svg>\r\n",
      "image/png": "[encoded data removed]"
     },
     "metadata": {
      "needs_background": "light"
     }
    }
   ],
   "metadata": {
    "deletable": false,
    "nbgrader": {
     "cell_type": "code",
     "checksum": "2f508147b474170f40bd356792b4aa2c",
     "grade": true,
     "grade_id": "cell-036364c621db11d5",
     "locked": false,
     "points": 0,
     "schema_version": 3,
     "solution": true,
     "task": false
    }
   }
  },
  {
   "cell_type": "markdown",
   "source": [
    "Set the learning rate `eta` to 1, initialize the weights `w1` and `w2` by using the `np.random.rand()` method, and the bias `b` to 0. Then, run for 100 epochs the perceptron algorithm:\n",
    "- remember to shuffle the data at each epoch using the `np.random.shuffle(data)` function\n",
    "- in the for loop there's already a snippet for updating the image everytime:\n",
    "```\n",
    "plot_border(w1, w2, b, data_norm, fig)\n",
    "display.clear_output(wait=True)\n",
    "time.sleep(0.05)\n",
    "```\n",
    "- The weights here are on the form `w1` and `w2`. However, to use your previous code and so the dot product between W and the data, you need to pack `W = np.array([w1, w2])` and then to unpack `w1, w2 = W` before plotting at each epoch!\n"
   ],
   "metadata": {
    "deletable": false,
    "editable": false,
    "nbgrader": {
     "cell_type": "markdown",
     "checksum": "d5bb1c568659a522abc9707149c898db",
     "grade": false,
     "grade_id": "cell-1c1ee0a9107a6d90",
     "locked": true,
     "schema_version": 3,
     "solution": false,
     "task": false
    }
   }
  },
  {
   "cell_type": "code",
   "execution_count": 15,
   "source": [
    "eta = 1\r\n",
    "epochs = 100\r\n",
    "w1 = np.random.rand()\r\n",
    "w2 = np.random.rand()\r\n",
    "b = 0\r\n",
    "fig = plt.figure()\r\n",
    "\r\n",
    "for epoch in range(epochs):\r\n",
    "    # shuffle data\r\n",
    "    np.random.shuffle(data)\r\n",
    "    for x1, x2, y in data:\r\n",
    "        W = np.array([w1,w2])\r\n",
    "        X = np.array([x1,x2])\r\n",
    "        score = np.dot(W,X) + b\r\n",
    "        step_score = step(score)\r\n",
    "        W_new, b_new = update_weights(W,b,X,y, step_score, eta)\r\n",
    "        # remember to pack w1,w2 into a numpy array W\r\n",
    "        # remember to pack x1,x2 into a numpy array X\r\n",
    "        \r\n",
    "plot_border(w1, w2, b, data, fig)\r\n",
    "display.clear_output(wait=True)\r\n",
    "\r\n",
    "    \r\n",
    "    \r\n",
    "# YOUR CODE HERE\r\n",
    "#raise NotImplementedError()\r\n",
    "plot_border(w1, w2, b, data, fig)\r\n"
   ],
   "outputs": [
    {
     "output_type": "error",
     "ename": "NameError",
     "evalue": "name 'step' is not defined",
     "traceback": [
      "\u001b[1;31m---------------------------------------------------------------------------\u001b[0m",
      "\u001b[1;31mNameError\u001b[0m                                 Traceback (most recent call last)",
      "\u001b[1;32m<ipython-input-15-fad89d1928ae>\u001b[0m in \u001b[0;36m<module>\u001b[1;34m\u001b[0m\n\u001b[0;32m     13\u001b[0m         \u001b[0mX\u001b[0m \u001b[1;33m=\u001b[0m \u001b[0mnp\u001b[0m\u001b[1;33m.\u001b[0m\u001b[0marray\u001b[0m\u001b[1;33m(\u001b[0m\u001b[1;33m[\u001b[0m\u001b[0mx1\u001b[0m\u001b[1;33m,\u001b[0m\u001b[0mx2\u001b[0m\u001b[1;33m]\u001b[0m\u001b[1;33m)\u001b[0m\u001b[1;33m\u001b[0m\u001b[1;33m\u001b[0m\u001b[0m\n\u001b[0;32m     14\u001b[0m         \u001b[0mscore\u001b[0m \u001b[1;33m=\u001b[0m \u001b[0mnp\u001b[0m\u001b[1;33m.\u001b[0m\u001b[0mdot\u001b[0m\u001b[1;33m(\u001b[0m\u001b[0mW\u001b[0m\u001b[1;33m,\u001b[0m\u001b[0mX\u001b[0m\u001b[1;33m)\u001b[0m \u001b[1;33m+\u001b[0m \u001b[0mb\u001b[0m\u001b[1;33m\u001b[0m\u001b[1;33m\u001b[0m\u001b[0m\n\u001b[1;32m---> 15\u001b[1;33m         \u001b[0mstep_score\u001b[0m \u001b[1;33m=\u001b[0m \u001b[0mstep\u001b[0m\u001b[1;33m(\u001b[0m\u001b[0mscore\u001b[0m\u001b[1;33m)\u001b[0m\u001b[1;33m\u001b[0m\u001b[1;33m\u001b[0m\u001b[0m\n\u001b[0m\u001b[0;32m     16\u001b[0m         \u001b[0mW_new\u001b[0m\u001b[1;33m,\u001b[0m \u001b[0mb_new\u001b[0m \u001b[1;33m=\u001b[0m \u001b[0mupdate_weights\u001b[0m\u001b[1;33m(\u001b[0m\u001b[0mW\u001b[0m\u001b[1;33m,\u001b[0m\u001b[0mb\u001b[0m\u001b[1;33m,\u001b[0m\u001b[0mX\u001b[0m\u001b[1;33m,\u001b[0m\u001b[0my\u001b[0m\u001b[1;33m,\u001b[0m \u001b[0mstep_score\u001b[0m\u001b[1;33m,\u001b[0m \u001b[0meta\u001b[0m\u001b[1;33m)\u001b[0m\u001b[1;33m\u001b[0m\u001b[1;33m\u001b[0m\u001b[0m\n\u001b[0;32m     17\u001b[0m         \u001b[1;31m# remember to pack w1,w2 into a numpy array W\u001b[0m\u001b[1;33m\u001b[0m\u001b[1;33m\u001b[0m\u001b[1;33m\u001b[0m\u001b[0m\n",
      "\u001b[1;31mNameError\u001b[0m: name 'step' is not defined"
     ]
    },
    {
     "output_type": "display_data",
     "data": {
      "text/plain": [
       "<Figure size 432x288 with 0 Axes>"
      ]
     },
     "metadata": {}
    }
   ],
   "metadata": {
    "deletable": false,
    "nbgrader": {
     "cell_type": "code",
     "checksum": "6719a9339a103326ef06123041ea9e92",
     "grade": false,
     "grade_id": "cell-b23508422bcf31b6",
     "locked": false,
     "schema_version": 3,
     "solution": true,
     "task": false
    }
   }
  },
  {
   "cell_type": "code",
   "execution_count": 57,
   "source": [
    "np.dot(W, X) + b  \r\n",
    "#W @ X + b"
   ],
   "outputs": [
    {
     "output_type": "execute_result",
     "data": {
      "text/plain": [
       "5.659043987694064"
      ]
     },
     "metadata": {},
     "execution_count": 57
    }
   ],
   "metadata": {}
  },
  {
   "cell_type": "code",
   "execution_count": 14,
   "source": [
    "W"
   ],
   "outputs": [
    {
     "output_type": "error",
     "ename": "NameError",
     "evalue": "name 'W' is not defined",
     "traceback": [
      "\u001b[1;31m---------------------------------------------------------------------------\u001b[0m",
      "\u001b[1;31mNameError\u001b[0m                                 Traceback (most recent call last)",
      "\u001b[1;32m<ipython-input-14-f9e8b9556f03>\u001b[0m in \u001b[0;36m<module>\u001b[1;34m\u001b[0m\n\u001b[1;32m----> 1\u001b[1;33m \u001b[0mW\u001b[0m\u001b[1;33m\u001b[0m\u001b[1;33m\u001b[0m\u001b[0m\n\u001b[0m",
      "\u001b[1;31mNameError\u001b[0m: name 'W' is not defined"
     ]
    }
   ],
   "metadata": {}
  },
  {
   "cell_type": "code",
   "execution_count": 58,
   "source": [
    "assert W.shape == (2,)\r\n",
    "assert W[0] == w1\r\n",
    "assert W[1] == w2"
   ],
   "outputs": [],
   "metadata": {
    "deletable": false,
    "editable": false,
    "nbgrader": {
     "cell_type": "code",
     "checksum": "3b1477cbf6069cb19a8a7f63e7fe2746",
     "grade": true,
     "grade_id": "cell-99b2cdb1e86fbbb5",
     "locked": true,
     "points": 1,
     "schema_version": 3,
     "solution": false,
     "task": false
    }
   }
  },
  {
   "cell_type": "code",
   "execution_count": 73,
   "source": [
    "b"
   ],
   "outputs": [
    {
     "output_type": "execute_result",
     "data": {
      "text/plain": [
       "0"
      ]
     },
     "metadata": {},
     "execution_count": 73
    }
   ],
   "metadata": {}
  },
  {
   "cell_type": "markdown",
   "source": [
    "Implement a function `guess_flower(sepal_length, sepal_width, W, b)` that prints Iris-setosa in case of negative score and return 0, Iris-versicolor in case of positive score and return 1."
   ],
   "metadata": {
    "deletable": false,
    "editable": false,
    "nbgrader": {
     "cell_type": "markdown",
     "checksum": "4b0331bf9ca9378f7716016c94594703",
     "grade": false,
     "grade_id": "cell-6a496aa312f453c5",
     "locked": true,
     "schema_version": 3,
     "solution": false,
     "task": false
    }
   }
  },
  {
   "cell_type": "code",
   "execution_count": 9,
   "source": [
    "\r\n",
    "# prediction function: 0 for Iris-setosa and 1 for Iris-versicolor\r\n",
    "\r\n",
    "def guess_flower(sepal_length, sepal_width, W, b):\r\n",
    "    if W[0] * sepal_length + W[1] * sepal_width + b < 0:\r\n",
    "        print('Iris-setosa')\r\n",
    "        return 0\r\n",
    "    else:\r\n",
    "        print('Iris-versicolor')\r\n",
    "        return 1\r\n",
    "# YOUR CODE HERE\r\n",
    "#raise NotImplementedError()\r\n",
    "\r\n"
   ],
   "outputs": [],
   "metadata": {
    "deletable": false,
    "nbgrader": {
     "cell_type": "code",
     "checksum": "1d42de1824f7bbb3df7a7d57f8d6a24e",
     "grade": false,
     "grade_id": "cell-42542b2b2667947c",
     "locked": false,
     "schema_version": 3,
     "solution": true,
     "task": false
    }
   }
  },
  {
   "cell_type": "code",
   "execution_count": 10,
   "source": [
    "assert guess_flower(5.4, 3.4, W, b) == 0 or guess_flower(5.4, 3.4, W, b) == 1"
   ],
   "outputs": [
    {
     "output_type": "error",
     "ename": "NameError",
     "evalue": "name 'W' is not defined",
     "traceback": [
      "\u001b[1;31m---------------------------------------------------------------------------\u001b[0m",
      "\u001b[1;31mNameError\u001b[0m                                 Traceback (most recent call last)",
      "\u001b[1;32m<ipython-input-10-8c7fca08f665>\u001b[0m in \u001b[0;36m<module>\u001b[1;34m\u001b[0m\n\u001b[1;32m----> 1\u001b[1;33m \u001b[1;32massert\u001b[0m \u001b[0mguess_flower\u001b[0m\u001b[1;33m(\u001b[0m\u001b[1;36m5.4\u001b[0m\u001b[1;33m,\u001b[0m \u001b[1;36m3.4\u001b[0m\u001b[1;33m,\u001b[0m \u001b[0mW\u001b[0m\u001b[1;33m,\u001b[0m \u001b[0mb\u001b[0m\u001b[1;33m)\u001b[0m \u001b[1;33m==\u001b[0m \u001b[1;36m0\u001b[0m \u001b[1;32mor\u001b[0m \u001b[0mguess_flower\u001b[0m\u001b[1;33m(\u001b[0m\u001b[1;36m5.4\u001b[0m\u001b[1;33m,\u001b[0m \u001b[1;36m3.4\u001b[0m\u001b[1;33m,\u001b[0m \u001b[0mW\u001b[0m\u001b[1;33m,\u001b[0m \u001b[0mb\u001b[0m\u001b[1;33m)\u001b[0m \u001b[1;33m==\u001b[0m \u001b[1;36m1\u001b[0m\u001b[1;33m\u001b[0m\u001b[1;33m\u001b[0m\u001b[0m\n\u001b[0m",
      "\u001b[1;31mNameError\u001b[0m: name 'W' is not defined"
     ]
    }
   ],
   "metadata": {
    "deletable": false,
    "editable": false,
    "nbgrader": {
     "cell_type": "code",
     "checksum": "f42eacdc4b7e7e4f680350d2810ee527",
     "grade": true,
     "grade_id": "cell-673093aba4d0b46b",
     "locked": true,
     "points": 1,
     "schema_version": 3,
     "solution": false,
     "task": false
    }
   }
  },
  {
   "cell_type": "code",
   "execution_count": 12,
   "source": [
    "test_data = [[ 5.4,  3.4,  0. ],\r\n",
    "           [ 4.6,  3.6,  0. ],\r\n",
    "           [ 5.1,  3.3,  0. ],\r\n",
    "           [ 4.8,  3.4,  0. ],\r\n",
    "           [ 5. ,  3. ,  0. ],\r\n",
    "           [ 5. ,  3.4,  0. ],\r\n",
    "           [ 5.2,  3.5,  0. ],\r\n",
    "           [ 5.2,  3.4,  0. ],\r\n",
    "           [ 4.7,  3.2,  0. ],\r\n",
    "           [ 4.8,  3.1,  0. ],\r\n",
    "           [ 5.4,  3.4,  0. ],\r\n",
    "           [ 5.2,  4.1,  0. ],\r\n",
    "           [ 5.5,  4.2,  0. ],\r\n",
    "           [ 4.9,  3.1,  0. ],\r\n",
    "           [ 5. ,  3.2,  0. ],\r\n",
    "           [ 5.5,  3.5,  0. ],\r\n",
    "           [ 4.9,  3.1,  0. ],\r\n",
    "           [ 4.4,  3. ,  0. ],\r\n",
    "           [ 5.1,  3.4,  0. ],\r\n",
    "           [ 5. ,  3.5,  0. ],\r\n",
    "           [ 4.5,  2.3,  0. ],\r\n",
    "           [ 4.4,  3.2,  0. ],\r\n",
    "           [ 5. ,  3.5,  0. ],\r\n",
    "           [ 5.1,  3.8,  0. ],\r\n",
    "           [ 4.8,  3. ,  0. ],\r\n",
    "           [ 5.1,  3.8,  0. ],\r\n",
    "           [ 4.6,  3.2,  0. ],\r\n",
    "           [ 5.3,  3.7,  0. ],\r\n",
    "           [ 5. ,  3.3,  0. ],\r\n",
    "           [ 6.8,  2.8,  1. ],\r\n",
    "           [ 6.7,  3. ,  1. ],\r\n",
    "           [ 6. ,  2.9,  1. ],\r\n",
    "           [ 5.7,  2.6,  1. ],\r\n",
    "           [ 5.5,  2.4,  1. ],\r\n",
    "           [ 5.5,  2.4,  1. ],\r\n",
    "           [ 5.8,  2.7,  1. ],\r\n",
    "           [ 6. ,  2.7,  1. ],\r\n",
    "           [ 5.4,  3. ,  1. ],\r\n",
    "           [ 6. ,  3.4,  1. ],\r\n",
    "           [ 6.7,  3.1,  1. ],\r\n",
    "           [ 6.3,  2.3,  1. ],\r\n",
    "           [ 5.6,  3. ,  1. ],\r\n",
    "           [ 5.5,  2.5,  1. ],\r\n",
    "           [ 5.5,  2.6,  1. ],\r\n",
    "           [ 6.1,  3. ,  1. ],\r\n",
    "           [ 5.8,  2.6,  1. ],\r\n",
    "           [ 5. ,  2.3,  1. ],\r\n",
    "           [ 5.6,  2.7,  1. ],\r\n",
    "           [ 5.7,  3. ,  1. ],\r\n",
    "           [ 5.7,  2.9,  1. ],\r\n",
    "           [ 6.2,  2.9,  1. ],\r\n",
    "           [ 5.1,  2.5,  1. ],\r\n",
    "           [ 5.7,  2.8,  1. ]]"
   ],
   "outputs": [],
   "metadata": {
    "deletable": false,
    "editable": false,
    "nbgrader": {
     "cell_type": "code",
     "checksum": "769530b20d3c2f8499c0f4549319734e",
     "grade": false,
     "grade_id": "cell-0acff77c129b57cb",
     "locked": true,
     "schema_version": 3,
     "solution": false,
     "task": false
    }
   }
  },
  {
   "cell_type": "markdown",
   "source": [
    "Test your model on the test set. You should be able to achieve at least 95% accuracy. Provide your model in `W` and `b` and your function `guess_flower(x1, x2, W, b)` should accept the parameters in that order."
   ],
   "metadata": {
    "deletable": false,
    "editable": false,
    "nbgrader": {
     "cell_type": "markdown",
     "checksum": "55e2eae86b7f3facd5be7d26723e0da5",
     "grade": false,
     "grade_id": "cell-b8ae92790fc39da9",
     "locked": true,
     "schema_version": 3,
     "solution": false,
     "task": false
    }
   }
  },
  {
   "cell_type": "code",
   "execution_count": 13,
   "source": [
    "# If you called W and b in a different way, here you can rename it.\r\n",
    "# Otherwise, check the accuracy you achieved\r\n",
    "\r\n",
    "# YOUR CODE HERE\r\n",
    "correct = 0\r\n",
    "\r\n",
    "for x1, x2, label in test_data:\r\n",
    "    pred = guess_flower(x1, x2, W, b)\r\n",
    "    if  pred == label:\r\n",
    "        correct +=1\r\n",
    "\r\n",
    "total = len(test_data)\r\n"
   ],
   "outputs": [
    {
     "output_type": "error",
     "ename": "NameError",
     "evalue": "name 'W' is not defined",
     "traceback": [
      "\u001b[1;31m---------------------------------------------------------------------------\u001b[0m",
      "\u001b[1;31mNameError\u001b[0m                                 Traceback (most recent call last)",
      "\u001b[1;32m<ipython-input-13-4c9f83e2dd17>\u001b[0m in \u001b[0;36m<module>\u001b[1;34m\u001b[0m\n\u001b[0;32m      6\u001b[0m \u001b[1;33m\u001b[0m\u001b[0m\n\u001b[0;32m      7\u001b[0m \u001b[1;32mfor\u001b[0m \u001b[0mx1\u001b[0m\u001b[1;33m,\u001b[0m \u001b[0mx2\u001b[0m\u001b[1;33m,\u001b[0m \u001b[0mlabel\u001b[0m \u001b[1;32min\u001b[0m \u001b[0mtest_data\u001b[0m\u001b[1;33m:\u001b[0m\u001b[1;33m\u001b[0m\u001b[1;33m\u001b[0m\u001b[0m\n\u001b[1;32m----> 8\u001b[1;33m     \u001b[0mpred\u001b[0m \u001b[1;33m=\u001b[0m \u001b[0mguess_flower\u001b[0m\u001b[1;33m(\u001b[0m\u001b[0mx1\u001b[0m\u001b[1;33m,\u001b[0m \u001b[0mx2\u001b[0m\u001b[1;33m,\u001b[0m \u001b[0mW\u001b[0m\u001b[1;33m,\u001b[0m \u001b[0mb\u001b[0m\u001b[1;33m)\u001b[0m\u001b[1;33m\u001b[0m\u001b[1;33m\u001b[0m\u001b[0m\n\u001b[0m\u001b[0;32m      9\u001b[0m     \u001b[1;32mif\u001b[0m  \u001b[0mpred\u001b[0m \u001b[1;33m==\u001b[0m \u001b[0mlabel\u001b[0m\u001b[1;33m:\u001b[0m\u001b[1;33m\u001b[0m\u001b[1;33m\u001b[0m\u001b[0m\n\u001b[0;32m     10\u001b[0m         \u001b[0mcorrect\u001b[0m \u001b[1;33m+=\u001b[0m\u001b[1;36m1\u001b[0m\u001b[1;33m\u001b[0m\u001b[1;33m\u001b[0m\u001b[0m\n",
      "\u001b[1;31mNameError\u001b[0m: name 'W' is not defined"
     ]
    }
   ],
   "metadata": {
    "deletable": false,
    "nbgrader": {
     "cell_type": "code",
     "checksum": "3a4465620755633de32b4b54866ddd7e",
     "grade": false,
     "grade_id": "cell-aaa30ec08a34fef2",
     "locked": false,
     "schema_version": 3,
     "solution": true,
     "task": false
    }
   }
  },
  {
   "cell_type": "code",
   "execution_count": 78,
   "source": [
    "assert correct/total >= 0.95"
   ],
   "outputs": [
    {
     "output_type": "error",
     "ename": "AssertionError",
     "evalue": "",
     "traceback": [
      "\u001b[1;31m---------------------------------------------------------------------------\u001b[0m",
      "\u001b[1;31mAssertionError\u001b[0m                            Traceback (most recent call last)",
      "\u001b[1;32m<ipython-input-78-82f29c08342b>\u001b[0m in \u001b[0;36m<module>\u001b[1;34m\u001b[0m\n\u001b[1;32m----> 1\u001b[1;33m \u001b[1;32massert\u001b[0m \u001b[0mcorrect\u001b[0m\u001b[1;33m/\u001b[0m\u001b[0mtotal\u001b[0m \u001b[1;33m>=\u001b[0m \u001b[1;36m0.95\u001b[0m\u001b[1;33m\u001b[0m\u001b[1;33m\u001b[0m\u001b[0m\n\u001b[0m",
      "\u001b[1;31mAssertionError\u001b[0m: "
     ]
    }
   ],
   "metadata": {
    "deletable": false,
    "editable": false,
    "nbgrader": {
     "cell_type": "code",
     "checksum": "e4dd631273ff4351b66ffcf572595f9f",
     "grade": true,
     "grade_id": "cell-76baa44f7564d8d4",
     "locked": true,
     "points": 1,
     "schema_version": 3,
     "solution": false,
     "task": false
    }
   }
  },
  {
   "cell_type": "markdown",
   "source": [
    "## Challenge\n",
    "\n",
    "Can you make a cool animation of the running algorithm and post it on the social? 😉\n",
    "\n",
    "If you create it directly using Python, it's a plus!"
   ],
   "metadata": {
    "deletable": false,
    "editable": false,
    "nbgrader": {
     "cell_type": "markdown",
     "checksum": "43638806c031343f5ec0544b2588ad97",
     "grade": false,
     "grade_id": "cell-992c3ee9250c6a76",
     "locked": true,
     "schema_version": 3,
     "solution": false,
     "task": false
    }
   }
  },
  {
   "cell_type": "code",
   "execution_count": null,
   "source": [],
   "outputs": [],
   "metadata": {}
  }
 ],
 "metadata": {
  "kernelspec": {
   "name": "python3",
   "display_name": "Python 3.8.11 64-bit ('deep': conda)"
  },
  "language_info": {
   "codemirror_mode": {
    "name": "ipython",
    "version": 3
   },
   "file_extension": ".py",
   "mimetype": "text/x-python",
   "name": "python",
   "nbconvert_exporter": "python",
   "pygments_lexer": "ipython3",
   "version": "3.8.11"
  },
  "interpreter": {
   "hash": "06eb6164245d5dc111fc587aaaaee211f1064893786d78224bfe45d400023d11"
  }
 },
 "nbformat": 4,
 "nbformat_minor": 2
}