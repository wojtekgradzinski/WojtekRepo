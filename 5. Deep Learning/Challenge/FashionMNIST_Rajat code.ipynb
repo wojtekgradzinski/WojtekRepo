{
 "cells": [
  {
   "cell_type": "code",
   "execution_count": 49,
   "source": [
    "from collections import OrderedDict\r\n",
    "\r\n",
    "import numpy as np\r\n",
    "import matplotlib.pyplot as plt\r\n",
    "import time\r\n",
    "\r\n",
    "import torch\r\n",
    "from torch import nn\r\n",
    "from torch import optim\r\n",
    "from torch.utils.data import random_split\r\n",
    "import torch.nn.functional as F \r\n",
    "\r\n",
    "from torchvision import datasets, transforms\r\n",
    "torch.manual_seed(0) "
   ],
   "outputs": [
    {
     "output_type": "execute_result",
     "data": {
      "text/plain": [
       "<torch._C.Generator at 0x7f495eb05af0>"
      ]
     },
     "metadata": {},
     "execution_count": 49
    }
   ],
   "metadata": {
    "tags": [],
    "cell_id": "00000-2a070f4a-b20b-49c9-8324-5e54f8284471",
    "deepnote_to_be_reexecuted": false,
    "source_hash": "159b2afb",
    "execution_start": 1629460328686,
    "execution_millis": 15,
    "deepnote_cell_type": "code"
   }
  },
  {
   "cell_type": "code",
   "execution_count": 2,
   "source": [
    "def view_classify(img, ps):\r\n",
    "    \"\"\"\r\n",
    "    img: images\r\n",
    "    ps: probabilities\r\n",
    "    \"\"\"\r\n",
    "    ps = ps.data.numpy().squeeze()\r\n",
    "\r\n",
    "    fig, (ax1, ax2) = plt.subplots(figsize=(6,9), ncols=2)\r\n",
    "    ax1.imshow(img.resize_(1, 28, 28).numpy().squeeze())\r\n",
    "    ax1.axis('off')\r\n",
    "    ax2.barh(np.arange(10), ps)\r\n",
    "    ax2.set_aspect(0.1)\r\n",
    "    ax2.set_yticks(np.arange(10))\r\n",
    "    ax2.set_yticklabels(np.arange(10))\r\n",
    "    ax2.set_title('Class Probability')\r\n",
    "    ax2.set_xlim(0, 1.1)"
   ],
   "outputs": [],
   "metadata": {
    "tags": [],
    "cell_id": "00001-4ba41086-61a5-4312-b87a-68ca02a86646",
    "deepnote_to_be_reexecuted": false,
    "source_hash": "1c18fd0c",
    "execution_start": 1629454447263,
    "execution_millis": 21,
    "deepnote_cell_type": "code"
   }
  },
  {
   "cell_type": "code",
   "execution_count": 122,
   "source": [
    "# Similar to column transform in scikit\r\n",
    "transform = transforms.Compose([transforms.ToTensor()])\r\n",
    "\r\n",
    "trainset    = datasets.FashionMNIST('MNIST_data/', download=True, train=True, transform=transform)\r\n",
    "trainset, validset = random_split(trainset,[50000,10000])\r\n",
    "trainloader = torch.utils.data.DataLoader(trainset, batch_size=16, shuffle=True)\r\n",
    "validloader = torch.utils.data.DataLoader(trainset, batch_size=16, shuffle=True)\r\n",
    "\r\n",
    "# Same as above but for the testing data\r\n",
    "testset    = datasets.FashionMNIST('MNIST_data/', download=True, train=False, transform=transform)\r\n",
    "testloader = torch.utils.data.DataLoader(testset, batch_size=16, shuffle=True)"
   ],
   "outputs": [],
   "metadata": {
    "tags": [],
    "cell_id": "00003-cda7214c-731b-4cf7-b62f-e1224a35d2bd",
    "deepnote_to_be_reexecuted": false,
    "source_hash": "c964ff8e",
    "execution_start": 1629469382091,
    "execution_millis": 42,
    "deepnote_cell_type": "code"
   }
  },
  {
   "cell_type": "code",
   "execution_count": 123,
   "source": [
    "IMG_HEIGHT = iter(trainloader).next()[0].shape[-2]\r\n",
    "IMG_WIDTH = iter(trainloader).next()[0].shape[-1]"
   ],
   "outputs": [],
   "metadata": {
    "tags": [],
    "cell_id": "00003-980dbfd9-2fb9-44b6-b67c-9ffd04e46ca9",
    "deepnote_to_be_reexecuted": false,
    "source_hash": "9920778d",
    "execution_start": 1629469382828,
    "execution_millis": 17,
    "deepnote_cell_type": "code"
   }
  },
  {
   "cell_type": "code",
   "execution_count": 124,
   "source": [
    "count = {}\r\n",
    "\r\n",
    "for datapoint in trainset:\r\n",
    "\r\n",
    "    count[int(datapoint[1])] = count.get(int(datapoint[1]), 0) + 1\r\n",
    "\r\n",
    "count"
   ],
   "outputs": [
    {
     "output_type": "execute_result",
     "data": {
      "text/plain": [
       "{3: 5035,\n",
       " 4: 4946,\n",
       " 5: 5010,\n",
       " 6: 4992,\n",
       " 9: 4979,\n",
       " 1: 4968,\n",
       " 7: 5009,\n",
       " 0: 5018,\n",
       " 2: 5040,\n",
       " 8: 5003}"
      ]
     },
     "metadata": {},
     "execution_count": 124
    }
   ],
   "metadata": {
    "tags": [],
    "cell_id": "00004-f008e996-3f09-4f7a-a037-b987f0f8dc10",
    "deepnote_to_be_reexecuted": false,
    "source_hash": "7fffa3b1",
    "execution_start": 1629469383647,
    "execution_millis": 8352,
    "deepnote_cell_type": "code"
   }
  },
  {
   "cell_type": "code",
   "execution_count": 125,
   "source": [
    "dataiter = iter(trainloader)\r\n",
    "import matplotlib.pyplot as plt\r\n",
    "import random\r\n",
    "# .next() will return the next batch of data, great!\r\n",
    "images, labels = dataiter.next()\r\n",
    "# Here's the shape of a batch of images, 16 images with 1 colour, 28 pixels high by 28 pixels wide\r\n",
    "images.shape\r\n",
    "plt.imshow(images[random.randint(0,15)].numpy().squeeze(), cmap='Greys_r');"
   ],
   "outputs": [
    {
     "output_type": "display_data",
     "data": {
      "text/plain": [
       "<Figure size 432x288 with 1 Axes>"
      ],
      "image/png": "[encoded data removed]"
     },
     "metadata": {
      "needs_background": "light",
      "image/png": {
       "width": 251,
       "height": 248
      }
     }
    }
   ],
   "metadata": {
    "tags": [],
    "cell_id": "00004-38eb65ca-24ef-4987-aab0-d1ebe4f4dab7",
    "deepnote_to_be_reexecuted": false,
    "source_hash": "7c3f5a07",
    "execution_start": 1629469391995,
    "execution_millis": 188,
    "deepnote_cell_type": "code"
   }
  },
  {
   "cell_type": "code",
   "execution_count": 149,
   "source": [
    "# Neural Network\n",
    "# Input size: 784\n",
    "# Hidden sizes: Some powers of 2, e.g. 16, 32\n",
    "# Output size: 10\n",
    "\n",
    "# Input Size -> Hidden layer size -> [Optional additional layers] -> Output size\n",
    "\n",
    "class Network(nn.Module):\n",
    "    def __init__(self):\n",
    "        super().__init__()\n",
    "        # self.num_hidden = 1 # Number of Fully connected hidden layers\n",
    "        self.fc0 = nn.Linear(IMG_HEIGHT*IMG_WIDTH, 128)\n",
    "        self.fc1 = nn.Linear(128,10)\n",
    "        # self.relu = nn.ReLU() # Why use this?\n",
    "\n",
    "    # def set_num_hidden(self, value):\n",
    "    #     self.num_hidden = value\n",
    "\n",
    "    def forward(self,x):\n",
    "        x = x.view(x.shape[0],IMG_HEIGHT*IMG_WIDTH)\n",
    "        x = self.fc0(x)\n",
    "        x = F.relu(x)\n",
    "        x = self.fc1(x)\n",
    "        # x = F.softmax(x, dim=1) # Not needed when using CrossEntropyLoss?\n",
    "        \n",
    "        return x\n",
    "\n",
    "model = Network()\n",
    "model\n",
    "\n"
   ],
   "outputs": [
    {
     "output_type": "execute_result",
     "data": {
      "text/plain": [
       "Network(\n",
       "  (fc0): Linear(in_features=784, out_features=128, bias=True)\n",
       "  (fc1): Linear(in_features=128, out_features=10, bias=True)\n",
       ")"
      ]
     },
     "metadata": {},
     "execution_count": 149
    }
   ],
   "metadata": {
    "tags": [],
    "cell_id": "00006-c5fc4393-ba90-4903-9804-ef832c659df6",
    "deepnote_to_be_reexecuted": false,
    "source_hash": "bec08486",
    "execution_start": 1629471434748,
    "execution_millis": 8,
    "deepnote_cell_type": "code"
   }
  },
  {
   "cell_type": "code",
   "execution_count": 150,
   "source": [
    "criterion = nn.CrossEntropyLoss()\n",
    "optimizer = optim.Adam(model.parameters(), lr=0.01)"
   ],
   "outputs": [],
   "metadata": {
    "tags": [],
    "cell_id": "00007-993aa9a5-515a-4975-bb30-f985bd2078e4",
    "deepnote_to_be_reexecuted": false,
    "source_hash": "23366528",
    "execution_start": 1629471435204,
    "execution_millis": 3,
    "deepnote_cell_type": "code"
   }
  },
  {
   "cell_type": "code",
   "execution_count": 167,
   "source": [
    "from torch.autograd import Variable\n",
    "\n",
    "epochs = 3\n",
    "\n",
    "epoch_values = []\n",
    "loss_values = []\n",
    "valid_loss_values = []\n",
    "for e in range(epochs):\n",
    "    print(f\"Epoch:{e+1}\")\n",
    "    running_loss = 0.0\n",
    "    running_valid_loss = 0\n",
    "\n",
    "    for i, (inputs, labels) in enumerate(iter(trainloader)):\n",
    "        output = model(inputs)\n",
    "        optimizer.zero_grad()\n",
    "        loss = criterion(output, labels)\n",
    "        loss.backward()\n",
    "        optimizer.step()\n",
    "        # print statistics\n",
    "        running_loss += loss.item()\n",
    "\n",
    "        if i % 2000 == 1999:    # print every 2000 mini-batches\n",
    "            print('[%d, %5d] loss: %.3f' % (e + 1, i + 1, running_loss / 2000))\n",
    "\n",
    "    model.eval()\n",
    "    with torch.no_grad():\n",
    "        for i, (inputs, labels) in enumerate(iter(validloader)):\n",
    "            output = model(inputs)\n",
    "            valid_loss = criterion(output, labels)\n",
    "            running_valid_loss += valid_loss.item()\n",
    "\n",
    "            if i % 1000 == 999:    # print every 2000 mini-batches\n",
    "                print('[%d, %5d] loss: %.3f' % (e + 1, i + 1, running_valid_loss / 1000))\n",
    "\n",
    "    epoch_values.append(e+1)    \n",
    "    loss_values.append(running_loss/2000)\n",
    "    valid_loss_values.append(running_valid_loss/1000)\n",
    "\n",
    "plt.plot(epoch_values, loss_values)\n",
    "plt.plot(epoch_values, valid_loss_values)\n",
    "# plt.legend('')\n",
    "plt.xlabel('Epoch')\n",
    "plt.ylabel('Loss')\n",
    "plt.title('Training Loss')\n",
    "plt.xlim((1, epochs))\n",
    "plt.show()\n",
    "        "
   ],
   "outputs": [
    {
     "output_type": "stream",
     "name": "stdout",
     "text": [
      "Epoch:1\n",
      "[1,  2000] loss: 0.423\n",
      "[1,  1000] loss: 0.422\n",
      "[1,  2000] loss: 0.842\n",
      "[1,  3000] loss: 1.261\n",
      "Epoch:2\n",
      "[2,  2000] loss: 0.411\n",
      "[2,  1000] loss: 0.407\n",
      "[2,  2000] loss: 0.830\n",
      "[2,  3000] loss: 1.237\n",
      "Epoch:3\n",
      "[3,  2000] loss: 0.412\n",
      "[3,  1000] loss: 0.392\n",
      "[3,  2000] loss: 0.798\n",
      "[3,  3000] loss: 1.200\n"
     ]
    },
    {
     "output_type": "display_data",
     "data": {
      "text/plain": [
       "<Figure size 432x288 with 1 Axes>"
      ],
      "image/png": "[encoded data removed]"
     },
     "metadata": {
      "needs_background": "light",
      "image/png": {
       "width": 397,
       "height": 278
      }
     }
    }
   ],
   "metadata": {
    "tags": [],
    "cell_id": "00008-440f3834-f003-40e3-9a84-c0e349127680",
    "deepnote_to_be_reexecuted": false,
    "source_hash": "dc0fd809",
    "execution_start": 1629474208950,
    "execution_millis": 76650,
    "deepnote_cell_type": "code"
   }
  },
  {
   "cell_type": "code",
   "execution_count": 129,
   "source": [
    "torch.save(model.state_dict(), 'model1.pt')"
   ],
   "outputs": [],
   "metadata": {
    "tags": [],
    "cell_id": "00009-9a8fb869-2c6b-4e0e-950a-66c87dfb4b7f",
    "deepnote_to_be_reexecuted": false,
    "source_hash": "f6aa4cab",
    "execution_start": 1629469486011,
    "execution_millis": 7,
    "deepnote_cell_type": "code"
   }
  },
  {
   "cell_type": "code",
   "execution_count": 155,
   "source": [
    "# model.eval()\n",
    "# with torch.no_grad():\n",
    "#     for i, (inputs, labels) in enumerate(iter(validloader)):\n",
    "#         output = model(inputs)\n",
    "#         valid_loss = criterion(output, labels)\n",
    "    "
   ],
   "outputs": [],
   "metadata": {
    "tags": [],
    "cell_id": "00009-1bec7838-4339-403b-bddf-899dcb0ba895",
    "deepnote_to_be_reexecuted": false,
    "source_hash": "d056f80",
    "execution_start": 1629472744468,
    "execution_millis": 0,
    "deepnote_cell_type": "code"
   }
  },
  {
   "cell_type": "code",
   "execution_count": 143,
   "source": [
    "F.softmax(output, dim=1)"
   ],
   "outputs": [
    {
     "output_type": "execute_result",
     "data": {
      "text/plain": [
       "torch.Size([16, 10])"
      ]
     },
     "metadata": {},
     "execution_count": 143
    }
   ],
   "metadata": {
    "tags": [],
    "cell_id": "00011-751d7820-ddb6-4944-96da-77f6cf6207b8",
    "deepnote_to_be_reexecuted": false,
    "source_hash": "4364f630",
    "execution_start": 1629470565590,
    "execution_millis": 15,
    "deepnote_cell_type": "code"
   }
  },
  {
   "cell_type": "code",
   "execution_count": 145,
   "source": [
    "output.shape"
   ],
   "outputs": [
    {
     "output_type": "execute_result",
     "data": {
      "text/plain": [
       "torch.Size([16, 10])"
      ]
     },
     "metadata": {},
     "execution_count": 145
    }
   ],
   "metadata": {
    "tags": [],
    "cell_id": "00012-72d214df-c2ee-439a-9464-f8b3d4ad38e3",
    "deepnote_to_be_reexecuted": false,
    "source_hash": "e060f97d",
    "execution_start": 1629470595218,
    "execution_millis": 8,
    "deepnote_cell_type": "code"
   }
  },
  {
   "cell_type": "code",
   "execution_count": 163,
   "source": [
    "images, labels = iter(testloader).next()\n",
    "img = images[0]\n",
    "ps = F.softmax(model.forward(img)) # why this doesnt work same way without forward?\n",
    "print(img.shape)\n",
    "view_classify(img, ps)"
   ],
   "outputs": [
    {
     "output_type": "stream",
     "name": "stderr",
     "text": [
      "/shared-libs/python3.7/py-core/lib/python3.7/site-packages/ipykernel_launcher.py:3: UserWarning: Implicit dimension choice for softmax has been deprecated. Change the call to include dim=X as an argument.\n",
      "  This is separate from the ipykernel package so we can avoid doing imports until\n",
      "torch.Size([1, 28, 28])\n"
     ]
    },
    {
     "output_type": "display_data",
     "data": {
      "text/plain": [
       "<Figure size 432x648 with 2 Axes>"
      ],
      "image/png": "[encoded data removed]"
     },
     "metadata": {
      "needs_background": "light",
      "image/png": {
       "width": 349,
       "height": 196
      }
     }
    }
   ],
   "metadata": {
    "tags": [],
    "cell_id": "00013-27294fcc-f322-48ed-8112-81ba920c9bab",
    "deepnote_to_be_reexecuted": false,
    "source_hash": "33fe6606",
    "execution_start": 1629473352757,
    "execution_millis": 277,
    "deepnote_cell_type": "code"
   }
  },
  {
   "cell_type": "code",
   "execution_count": 164,
   "source": [
    "ps.data.numpy().squeeze()"
   ],
   "outputs": [
    {
     "output_type": "execute_result",
     "data": {
      "text/plain": [
       "array([1.3880788e-04, 1.5697726e-05, 1.5170876e-10, 9.9983966e-01,\n",
       "       1.4042446e-07, 1.0816978e-25, 5.6296917e-06, 0.0000000e+00,\n",
       "       9.2173721e-08, 1.6666165e-30], dtype=float32)"
      ]
     },
     "metadata": {},
     "execution_count": 164
    }
   ],
   "metadata": {
    "tags": [],
    "cell_id": "00014-e824b89f-1999-4f40-86ff-5eb4f077eff8",
    "deepnote_to_be_reexecuted": false,
    "source_hash": "dec7330a",
    "execution_start": 1629473357337,
    "execution_millis": 13,
    "deepnote_cell_type": "code"
   }
  },
  {
   "cell_type": "code",
   "execution_count": 117,
   "source": [
    "with torch.no_grad():\n",
    "    for i, (inputs, labels) in enumerate(iter(validloader)):\n",
    "        output = model(inputs)\n",
    "        = F.softmax(output)\n"
   ],
   "outputs": [
    {
     "output_type": "execute_result",
     "data": {
      "text/plain": [
       "3124"
      ]
     },
     "metadata": {},
     "execution_count": 117
    }
   ],
   "metadata": {
    "tags": [],
    "cell_id": "00010-a5c9a4ca-7485-412f-8f50-f63cc220eed5",
    "deepnote_to_be_reexecuted": false,
    "source_hash": "b8fd4f94",
    "execution_start": 1629469016396,
    "execution_millis": 13,
    "deepnote_cell_type": "code"
   }
  },
  {
   "cell_type": "code",
   "execution_count": 115,
   "source": [
    "output.shape"
   ],
   "outputs": [
    {
     "output_type": "execute_result",
     "data": {
      "text/plain": [
       "torch.Size([16, 10])"
      ]
     },
     "metadata": {},
     "execution_count": 115
    }
   ],
   "metadata": {
    "tags": [],
    "cell_id": "00010-7e5ac664-2a72-48a5-9eff-8e9a8dfe9a91",
    "deepnote_to_be_reexecuted": false,
    "source_hash": "e060f97d",
    "execution_start": 1629468839083,
    "execution_millis": 13,
    "deepnote_cell_type": "code"
   }
  },
  {
   "cell_type": "code",
   "execution_count": 110,
   "source": [
    "list(model.named_parameters())[2]"
   ],
   "outputs": [
    {
     "output_type": "execute_result",
     "data": {
      "text/plain": [
       "('fc1.weight',\n",
       " Parameter containing:\n",
       " tensor([[-0.1018, -0.0330,  0.0230,  ...,  0.1138, -0.0151,  0.0459],\n",
       "         [-0.0351, -0.0008, -0.1467,  ..., -0.1693, -0.0922,  0.0204],\n",
       "         [-0.0069, -0.0827, -0.0416,  ...,  0.0058,  0.0337,  0.0679],\n",
       "         ...,\n",
       "         [ 0.0647, -0.0840, -0.0736,  ...,  0.0564,  0.0570,  0.0590],\n",
       "         [ 0.0134, -0.0066, -0.0287,  ...,  0.0658, -0.0053,  0.1269],\n",
       "         [-0.0033,  0.0549, -0.1309,  ..., -0.0648, -0.0892,  0.0040]],\n",
       "        requires_grad=True))"
      ]
     },
     "metadata": {},
     "execution_count": 110
    }
   ],
   "metadata": {
    "tags": [],
    "cell_id": "00009-792ffb1f-c1a4-40e8-8e7a-6bfda25ab661",
    "deepnote_to_be_reexecuted": false,
    "source_hash": "d9f93596",
    "execution_start": 1629467800160,
    "execution_millis": 9,
    "deepnote_cell_type": "code"
   }
  },
  {
   "cell_type": "code",
   "execution_count": null,
   "source": [
    "for _, (images,labels) in enumerate(iter(trainloade):\n",
    "    print(images)\n",
    "    print(labels)"
   ],
   "outputs": [
    {
     "output_type": "error",
     "ename": "TypeError",
     "evalue": "'bool' object is not callable",
     "traceback": [
      "\u001b[0;31m---------------------------------------------------------------------------\u001b[0m",
      "\u001b[0;31mTypeError\u001b[0m                                 Traceback (most recent call last)",
      "\u001b[0;32m/tmp/ipykernel_805/4019251223.py\u001b[0m in \u001b[0;36m<module>\u001b[0;34m\u001b[0m\n\u001b[0;32m----> 1\u001b[0;31m \u001b[0;32mfor\u001b[0m \u001b[0m_\u001b[0m\u001b[0;34m,\u001b[0m \u001b[0;34m(\u001b[0m\u001b[0mimages\u001b[0m\u001b[0;34m,\u001b[0m\u001b[0mlabels\u001b[0m\u001b[0;34m)\u001b[0m \u001b[0;32min\u001b[0m \u001b[0menumerate\u001b[0m\u001b[0;34m(\u001b[0m\u001b[0miter\u001b[0m\u001b[0;34m(\u001b[0m\u001b[0mtrainloader\u001b[0m\u001b[0;34m)\u001b[0m\u001b[0;34m)\u001b[0m\u001b[0;34m:\u001b[0m\u001b[0;34m\u001b[0m\u001b[0;34m\u001b[0m\u001b[0m\n\u001b[0m\u001b[1;32m      2\u001b[0m     \u001b[0mprint\u001b[0m\u001b[0;34m(\u001b[0m\u001b[0mimages\u001b[0m\u001b[0;34m)\u001b[0m\u001b[0;34m\u001b[0m\u001b[0;34m\u001b[0m\u001b[0m\n\u001b[1;32m      3\u001b[0m     \u001b[0mprint\u001b[0m\u001b[0;34m(\u001b[0m\u001b[0mlabels\u001b[0m\u001b[0;34m)\u001b[0m\u001b[0;34m\u001b[0m\u001b[0;34m\u001b[0m\u001b[0m\n",
      "\u001b[0;32m/shared-libs/python3.7/py/lib/python3.7/site-packages/torch/utils/data/dataloader.py\u001b[0m in \u001b[0;36m__next__\u001b[0;34m(self)\u001b[0m\n\u001b[1;32m    519\u001b[0m             \u001b[0;32mif\u001b[0m \u001b[0mself\u001b[0m\u001b[0;34m.\u001b[0m\u001b[0m_sampler_iter\u001b[0m \u001b[0;32mis\u001b[0m \u001b[0;32mNone\u001b[0m\u001b[0;34m:\u001b[0m\u001b[0;34m\u001b[0m\u001b[0;34m\u001b[0m\u001b[0m\n\u001b[1;32m    520\u001b[0m                 \u001b[0mself\u001b[0m\u001b[0;34m.\u001b[0m\u001b[0m_reset\u001b[0m\u001b[0;34m(\u001b[0m\u001b[0;34m)\u001b[0m\u001b[0;34m\u001b[0m\u001b[0;34m\u001b[0m\u001b[0m\n\u001b[0;32m--> 521\u001b[0;31m             \u001b[0mdata\u001b[0m \u001b[0;34m=\u001b[0m \u001b[0mself\u001b[0m\u001b[0;34m.\u001b[0m\u001b[0m_next_data\u001b[0m\u001b[0;34m(\u001b[0m\u001b[0;34m)\u001b[0m\u001b[0;34m\u001b[0m\u001b[0;34m\u001b[0m\u001b[0m\n\u001b[0m\u001b[1;32m    522\u001b[0m             \u001b[0mself\u001b[0m\u001b[0;34m.\u001b[0m\u001b[0m_num_yielded\u001b[0m \u001b[0;34m+=\u001b[0m \u001b[0;36m1\u001b[0m\u001b[0;34m\u001b[0m\u001b[0;34m\u001b[0m\u001b[0m\n\u001b[1;32m    523\u001b[0m             \u001b[0;32mif\u001b[0m \u001b[0mself\u001b[0m\u001b[0;34m.\u001b[0m\u001b[0m_dataset_kind\u001b[0m \u001b[0;34m==\u001b[0m \u001b[0m_DatasetKind\u001b[0m\u001b[0;34m.\u001b[0m\u001b[0mIterable\u001b[0m \u001b[0;32mand\u001b[0m\u001b[0;31m \u001b[0m\u001b[0;31m\\\u001b[0m\u001b[0;34m\u001b[0m\u001b[0;34m\u001b[0m\u001b[0m\n",
      "\u001b[0;32m/shared-libs/python3.7/py/lib/python3.7/site-packages/torch/utils/data/dataloader.py\u001b[0m in \u001b[0;36m_next_data\u001b[0;34m(self)\u001b[0m\n\u001b[1;32m    559\u001b[0m     \u001b[0;32mdef\u001b[0m \u001b[0m_next_data\u001b[0m\u001b[0;34m(\u001b[0m\u001b[0mself\u001b[0m\u001b[0;34m)\u001b[0m\u001b[0;34m:\u001b[0m\u001b[0;34m\u001b[0m\u001b[0;34m\u001b[0m\u001b[0m\n\u001b[1;32m    560\u001b[0m         \u001b[0mindex\u001b[0m \u001b[0;34m=\u001b[0m \u001b[0mself\u001b[0m\u001b[0;34m.\u001b[0m\u001b[0m_next_index\u001b[0m\u001b[0;34m(\u001b[0m\u001b[0;34m)\u001b[0m  \u001b[0;31m# may raise StopIteration\u001b[0m\u001b[0;34m\u001b[0m\u001b[0;34m\u001b[0m\u001b[0m\n\u001b[0;32m--> 561\u001b[0;31m         \u001b[0mdata\u001b[0m \u001b[0;34m=\u001b[0m \u001b[0mself\u001b[0m\u001b[0;34m.\u001b[0m\u001b[0m_dataset_fetcher\u001b[0m\u001b[0;34m.\u001b[0m\u001b[0mfetch\u001b[0m\u001b[0;34m(\u001b[0m\u001b[0mindex\u001b[0m\u001b[0;34m)\u001b[0m  \u001b[0;31m# may raise StopIteration\u001b[0m\u001b[0;34m\u001b[0m\u001b[0;34m\u001b[0m\u001b[0m\n\u001b[0m\u001b[1;32m    562\u001b[0m         \u001b[0;32mif\u001b[0m \u001b[0mself\u001b[0m\u001b[0;34m.\u001b[0m\u001b[0m_pin_memory\u001b[0m\u001b[0;34m:\u001b[0m\u001b[0;34m\u001b[0m\u001b[0;34m\u001b[0m\u001b[0m\n\u001b[1;32m    563\u001b[0m             \u001b[0mdata\u001b[0m \u001b[0;34m=\u001b[0m \u001b[0m_utils\u001b[0m\u001b[0;34m.\u001b[0m\u001b[0mpin_memory\u001b[0m\u001b[0;34m.\u001b[0m\u001b[0mpin_memory\u001b[0m\u001b[0;34m(\u001b[0m\u001b[0mdata\u001b[0m\u001b[0;34m)\u001b[0m\u001b[0;34m\u001b[0m\u001b[0;34m\u001b[0m\u001b[0m\n",
      "\u001b[0;32m/shared-libs/python3.7/py/lib/python3.7/site-packages/torch/utils/data/_utils/fetch.py\u001b[0m in \u001b[0;36mfetch\u001b[0;34m(self, possibly_batched_index)\u001b[0m\n\u001b[1;32m     42\u001b[0m     \u001b[0;32mdef\u001b[0m \u001b[0mfetch\u001b[0m\u001b[0;34m(\u001b[0m\u001b[0mself\u001b[0m\u001b[0;34m,\u001b[0m \u001b[0mpossibly_batched_index\u001b[0m\u001b[0;34m)\u001b[0m\u001b[0;34m:\u001b[0m\u001b[0;34m\u001b[0m\u001b[0;34m\u001b[0m\u001b[0m\n\u001b[1;32m     43\u001b[0m         \u001b[0;32mif\u001b[0m \u001b[0mself\u001b[0m\u001b[0;34m.\u001b[0m\u001b[0mauto_collation\u001b[0m\u001b[0;34m:\u001b[0m\u001b[0;34m\u001b[0m\u001b[0;34m\u001b[0m\u001b[0m\n\u001b[0;32m---> 44\u001b[0;31m             \u001b[0mdata\u001b[0m \u001b[0;34m=\u001b[0m \u001b[0;34m[\u001b[0m\u001b[0mself\u001b[0m\u001b[0;34m.\u001b[0m\u001b[0mdataset\u001b[0m\u001b[0;34m[\u001b[0m\u001b[0midx\u001b[0m\u001b[0;34m]\u001b[0m \u001b[0;32mfor\u001b[0m \u001b[0midx\u001b[0m \u001b[0;32min\u001b[0m \u001b[0mpossibly_batched_index\u001b[0m\u001b[0;34m]\u001b[0m\u001b[0;34m\u001b[0m\u001b[0;34m\u001b[0m\u001b[0m\n\u001b[0m\u001b[1;32m     45\u001b[0m         \u001b[0;32melse\u001b[0m\u001b[0;34m:\u001b[0m\u001b[0;34m\u001b[0m\u001b[0;34m\u001b[0m\u001b[0m\n\u001b[1;32m     46\u001b[0m             \u001b[0mdata\u001b[0m \u001b[0;34m=\u001b[0m \u001b[0mself\u001b[0m\u001b[0;34m.\u001b[0m\u001b[0mdataset\u001b[0m\u001b[0;34m[\u001b[0m\u001b[0mpossibly_batched_index\u001b[0m\u001b[0;34m]\u001b[0m\u001b[0;34m\u001b[0m\u001b[0;34m\u001b[0m\u001b[0m\n",
      "\u001b[0;32m/shared-libs/python3.7/py/lib/python3.7/site-packages/torch/utils/data/_utils/fetch.py\u001b[0m in \u001b[0;36m<listcomp>\u001b[0;34m(.0)\u001b[0m\n\u001b[1;32m     42\u001b[0m     \u001b[0;32mdef\u001b[0m \u001b[0mfetch\u001b[0m\u001b[0;34m(\u001b[0m\u001b[0mself\u001b[0m\u001b[0;34m,\u001b[0m \u001b[0mpossibly_batched_index\u001b[0m\u001b[0;34m)\u001b[0m\u001b[0;34m:\u001b[0m\u001b[0;34m\u001b[0m\u001b[0;34m\u001b[0m\u001b[0m\n\u001b[1;32m     43\u001b[0m         \u001b[0;32mif\u001b[0m \u001b[0mself\u001b[0m\u001b[0;34m.\u001b[0m\u001b[0mauto_collation\u001b[0m\u001b[0;34m:\u001b[0m\u001b[0;34m\u001b[0m\u001b[0;34m\u001b[0m\u001b[0m\n\u001b[0;32m---> 44\u001b[0;31m             \u001b[0mdata\u001b[0m \u001b[0;34m=\u001b[0m \u001b[0;34m[\u001b[0m\u001b[0mself\u001b[0m\u001b[0;34m.\u001b[0m\u001b[0mdataset\u001b[0m\u001b[0;34m[\u001b[0m\u001b[0midx\u001b[0m\u001b[0;34m]\u001b[0m \u001b[0;32mfor\u001b[0m \u001b[0midx\u001b[0m \u001b[0;32min\u001b[0m \u001b[0mpossibly_batched_index\u001b[0m\u001b[0;34m]\u001b[0m\u001b[0;34m\u001b[0m\u001b[0;34m\u001b[0m\u001b[0m\n\u001b[0m\u001b[1;32m     45\u001b[0m         \u001b[0;32melse\u001b[0m\u001b[0;34m:\u001b[0m\u001b[0;34m\u001b[0m\u001b[0;34m\u001b[0m\u001b[0m\n\u001b[1;32m     46\u001b[0m             \u001b[0mdata\u001b[0m \u001b[0;34m=\u001b[0m \u001b[0mself\u001b[0m\u001b[0;34m.\u001b[0m\u001b[0mdataset\u001b[0m\u001b[0;34m[\u001b[0m\u001b[0mpossibly_batched_index\u001b[0m\u001b[0;34m]\u001b[0m\u001b[0;34m\u001b[0m\u001b[0;34m\u001b[0m\u001b[0m\n",
      "\u001b[0;32m/shared-libs/python3.7/py/lib/python3.7/site-packages/torchvision/datasets/mnist.py\u001b[0m in \u001b[0;36m__getitem__\u001b[0;34m(self, index)\u001b[0m\n\u001b[1;32m    132\u001b[0m \u001b[0;34m\u001b[0m\u001b[0m\n\u001b[1;32m    133\u001b[0m         \u001b[0;32mif\u001b[0m \u001b[0mself\u001b[0m\u001b[0;34m.\u001b[0m\u001b[0mtransform\u001b[0m \u001b[0;32mis\u001b[0m \u001b[0;32mnot\u001b[0m \u001b[0;32mNone\u001b[0m\u001b[0;34m:\u001b[0m\u001b[0;34m\u001b[0m\u001b[0;34m\u001b[0m\u001b[0m\n\u001b[0;32m--> 134\u001b[0;31m             \u001b[0mimg\u001b[0m \u001b[0;34m=\u001b[0m \u001b[0mself\u001b[0m\u001b[0;34m.\u001b[0m\u001b[0mtransform\u001b[0m\u001b[0;34m(\u001b[0m\u001b[0mimg\u001b[0m\u001b[0;34m)\u001b[0m\u001b[0;34m\u001b[0m\u001b[0;34m\u001b[0m\u001b[0m\n\u001b[0m\u001b[1;32m    135\u001b[0m \u001b[0;34m\u001b[0m\u001b[0m\n\u001b[1;32m    136\u001b[0m         \u001b[0;32mif\u001b[0m \u001b[0mself\u001b[0m\u001b[0;34m.\u001b[0m\u001b[0mtarget_transform\u001b[0m \u001b[0;32mis\u001b[0m \u001b[0;32mnot\u001b[0m \u001b[0;32mNone\u001b[0m\u001b[0;34m:\u001b[0m\u001b[0;34m\u001b[0m\u001b[0;34m\u001b[0m\u001b[0m\n",
      "\u001b[0;31mTypeError\u001b[0m: 'bool' object is not callable"
     ]
    }
   ],
   "metadata": {
    "tags": [],
    "cell_id": "00009-5076fde5-4c3b-4967-870c-44786f695242",
    "deepnote_to_be_reexecuted": true,
    "source_hash": "4d3911a3",
    "execution_start": 1629452596551,
    "execution_millis": 30,
    "deepnote_cell_type": "code"
   }
  },
  {
   "cell_type": "markdown",
   "source": [
    "|Label|Description|\n",
    "---|---\n",
    "|0|T-shirt/top|\n",
    "|1|Trouser|\n",
    "|2|Pullover|\n",
    "|3|Dress|\n",
    "|4|Coat|\n",
    "|5|Sandal|\n",
    "|6|Shirt|\n",
    "|7|Sneaker|\n",
    "|8|Bag|\n",
    "|9|Ankle boot|\n"
   ],
   "metadata": {
    "tags": [],
    "cell_id": "00006-f60e7ce9-97b2-4bb9-bd3e-ca0831a0785c",
    "deepnote_cell_type": "markdown"
   }
  },
  {
   "cell_type": "markdown",
   "source": [
    "<a style='text-decoration:none;line-height:16px;display:flex;color:#5B5B62;padding:10px;justify-content:end;' href='https://deepnote.com?utm_source=created-in-deepnote-cell&projectId=e82726f2-d633-41f1-a586-f5a97bd73737' target=\"_blank\">\n",
    "<img alt='Created in deepnote.com' style='display:inline;max-height:16px;margin:0px;margin-right:7.5px;' src='data:image/svg+xml;base64,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' > </img>\n",
    "Created in <span style='font-weight:600;margin-left:4px;'>Deepnote</span></a>"
   ],
   "metadata": {
    "tags": [],
    "created_in_deepnote_cell": true,
    "deepnote_cell_type": "markdown"
   }
  }
 ],
 "nbformat": 4,
 "nbformat_minor": 2,
 "metadata": {
  "orig_nbformat": 2,
  "deepnote": {
   "is_reactive": false
  },
  "deepnote_notebook_id": "af130a52-534e-43e3-b3ba-37ce752927fc",
  "deepnote_execution_queue": [],
  "language_info": {
   "name": "python"
  }
 }
}