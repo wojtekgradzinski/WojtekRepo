{
 "cells": [
  {
   "cell_type": "code",
   "execution_count": 23,
   "source": [
    "from collections import OrderedDict\r\n",
    "\r\n",
    "import numpy as np\r\n",
    "import matplotlib.pyplot as plt\r\n",
    "import time\r\n",
    "%matplotlib inline\r\n",
    "%config InlineBackend.figure_format = 'retina'\r\n",
    "import torch\r\n",
    "from torch import nn\r\n",
    "from torch import optim\r\n",
    "import torch.nn.functional as F\r\n",
    "\r\n",
    "from torchvision import datasets, transforms"
   ],
   "outputs": [],
   "metadata": {}
  },
  {
   "cell_type": "code",
   "execution_count": 2,
   "source": [
    "\r\n",
    "# Define a transform to normalize the data\r\n",
    "transform = transforms.Compose([transforms.ToTensor(),\r\n",
    "                                transforms.Normalize((0.5,), (0.5,))])\r\n",
    "# Download and load the training data\r\n",
    "trainset = datasets.FashionMNIST('/.pytorch/F_MNIST_data/', download=True, train=True, transform=transform)\r\n",
    "trainloader = torch.utils.data.DataLoader(trainset, batch_size=64, shuffle=True)\r\n",
    "\r\n",
    "# Download and load the test data\r\n",
    "testset = datasets.FashionMNIST('/.pytorch/F_MNIST_data/', download=True, train=False, transform=transform)\r\n",
    "testloader = torch.utils.data.DataLoader(testset, batch_size=64, shuffle=True)"
   ],
   "outputs": [
    {
     "output_type": "stream",
     "name": "stderr",
     "text": [
      "C:\\Users\\Wojtek\\AppData\\Roaming\\Python\\Python38\\site-packages\\torchvision\\datasets\\mnist.py:498: UserWarning: The given NumPy array is not writeable, and PyTorch does not support non-writeable tensors. This means you can write to the underlying (supposedly non-writeable) NumPy array using the tensor. You may want to copy the array to protect its data or make it writeable before converting it to a tensor. This type of warning will be suppressed for the rest of this program. (Triggered internally at  ..\\torch\\csrc\\utils\\tensor_numpy.cpp:180.)\n",
      "  return torch.from_numpy(parsed.astype(m[2], copy=False)).view(*s)\n"
     ]
    }
   ],
   "metadata": {}
  },
  {
   "cell_type": "code",
   "execution_count": 3,
   "source": [
    "def imshow(image, ax=None, title=None, normalize=True):\r\n",
    "    \"\"\"Imshow for Tensor.\"\"\"\r\n",
    "    if ax is None:\r\n",
    "        fig, ax = plt.subplots()\r\n",
    "    image = image.numpy().transpose((1, 2, 0))\r\n",
    "\r\n",
    "    if normalize:\r\n",
    "        mean = np.array([0.485, 0.456, 0.406])\r\n",
    "        std = np.array([0.229, 0.224, 0.225])\r\n",
    "        image = std * image + mean\r\n",
    "        image = np.clip(image, 0, 1)\r\n",
    "\r\n",
    "    ax.imshow(image)\r\n",
    "    ax.spines['top'].set_visible(False)\r\n",
    "    ax.spines['right'].set_visible(False)\r\n",
    "    ax.spines['left'].set_visible(False)\r\n",
    "    ax.spines['bottom'].set_visible(False)\r\n",
    "    ax.tick_params(axis='both', length=0)\r\n",
    "    ax.set_xticklabels('')\r\n",
    "    ax.set_yticklabels('')\r\n",
    "\r\n",
    "    return ax\r\n"
   ],
   "outputs": [],
   "metadata": {}
  },
  {
   "cell_type": "code",
   "execution_count": 4,
   "source": [
    "def view_classify(img, ps, version=\"MNIST\"):\r\n",
    "    ''' Function for viewing an image and it's predicted classes.\r\n",
    "    '''\r\n",
    "    ps = ps.data.numpy().squeeze()\r\n",
    "\r\n",
    "    fig, (ax1, ax2) = plt.subplots(figsize=(6,9), ncols=2)\r\n",
    "    ax1.imshow(img.resize_(1, 28, 28).numpy().squeeze())\r\n",
    "    ax1.axis('off')\r\n",
    "    ax2.barh(np.arange(10), ps)\r\n",
    "    ax2.set_aspect(0.1)\r\n",
    "    ax2.set_yticks(np.arange(10))\r\n",
    "    if version == \"MNIST\":\r\n",
    "        ax2.set_yticklabels(np.arange(10))\r\n",
    "    elif version == \"Fashion\":\r\n",
    "        ax2.set_yticklabels(['T-shirt/top',\r\n",
    "                            'Trouser',\r\n",
    "                            'Pullover',\r\n",
    "                            'Dress',\r\n",
    "                            'Coat',\r\n",
    "                            'Sandal',\r\n",
    "                            'Shirt',\r\n",
    "                            'Sneaker',\r\n",
    "                            'Bag',\r\n",
    "                            'Ankle Boot'], size='small');\r\n",
    "    ax2.set_title('Class Probability')\r\n",
    "    ax2.set_xlim(0, 1.1)\r\n",
    "\r\n",
    "    plt.tight_layout()\r\n"
   ],
   "outputs": [],
   "metadata": {}
  },
  {
   "cell_type": "code",
   "execution_count": 32,
   "source": [
    "#Model implementation\r\n",
    "\r\n",
    "class Network(nn.Module):\r\n",
    "    \r\n",
    "    # Defining the layers, 128, 64, 10 units each\r\n",
    "    def __init__(self):\r\n",
    "        super().__init__()\r\n",
    "        self.fc1 = nn.Linear(784, 32)\r\n",
    "        self.fc2 = nn.Linear(32, 16)\r\n",
    "        self.fc3 = nn.Linear(16,16)\r\n",
    "        self.fc4 = nn.Linear(16, 10)\r\n",
    "        \r\n",
    "    # Forward pass through the network, returns the output logits\r\n",
    "    def forward(self, x):\r\n",
    "        x = self.fc1(x)\r\n",
    "        x = F.relu(x)\r\n",
    "        x = self.fc2(x)\r\n",
    "        x = F.relu(x)\r\n",
    "        x = self.fc3(x)\r\n",
    "        x = F.relu(x)\r\n",
    "        x = self.fc4(x)\r\n",
    "        #x = F.softmax(x, dim=1)\r\n",
    "        return x\r\n",
    "\r\n",
    "model = Network()\r\n",
    "model"
   ],
   "outputs": [
    {
     "output_type": "execute_result",
     "data": {
      "text/plain": [
       "Network(\n",
       "  (fc1): Linear(in_features=784, out_features=32, bias=True)\n",
       "  (fc2): Linear(in_features=32, out_features=16, bias=True)\n",
       "  (fc3): Linear(in_features=16, out_features=16, bias=True)\n",
       "  (fc4): Linear(in_features=16, out_features=10, bias=True)\n",
       ")"
      ]
     },
     "metadata": {},
     "execution_count": 32
    }
   ],
   "metadata": {}
  },
  {
   "cell_type": "code",
   "execution_count": 10,
   "source": [
    "#Checking images\r\n",
    "# Grab some data \r\n",
    "dataiter = iter(trainloader)\r\n",
    "images, labels = dataiter.next()\r\n",
    "\r\n",
    "\r\n",
    "#Resizing images shapes\r\n",
    "images.resize_(images.shape[0], 1, 784)\r\n",
    "images.shape\r\n",
    "\r\n",
    "img_idx = 0\r\n",
    "images[img_idx,:].shape\r\n",
    "# Forward pass through the network\r\n",
    "img_idx = 0\r\n",
    "ps = model(images[img_idx,:])\r\n",
    "ps\r\n"
   ],
   "outputs": [
    {
     "output_type": "execute_result",
     "data": {
      "text/plain": [
       "tensor([[-0.2701, -0.0843,  0.2595,  0.1624,  0.2761,  0.1488, -0.0592, -0.2045,\n",
       "          0.2229,  0.1472]], grad_fn=<AddmmBackward>)"
      ]
     },
     "metadata": {},
     "execution_count": 10
    }
   ],
   "metadata": {}
  },
  {
   "cell_type": "code",
   "execution_count": 27,
   "source": [
    "dataiter = iter(testloader)\r\n",
    "images, labels = dataiter.next()\r\n",
    "img = images[1]\r\n",
    "img = images[img_idx]\r\n",
    "view_classify(img, ps, version='Fashion')"
   ],
   "outputs": [
    {
     "output_type": "display_data",
     "data": {
      "text/plain": [
       "<Figure size 432x648 with 2 Axes>"
      ],
      "image/png": "[encoded data removed]"
     },
     "metadata": {
      "image/png": {
       "width": 424,
       "height": 216
      },
      "needs_background": "light"
     }
    }
   ],
   "metadata": {}
  },
  {
   "cell_type": "code",
   "execution_count": 34,
   "source": [
    "criterion = nn.CrossEntropyLoss()\r\n",
    "optimizer = optim.Adam(model.parameters(), lr=0.001)"
   ],
   "outputs": [],
   "metadata": {}
  },
  {
   "cell_type": "code",
   "execution_count": 35,
   "source": [
    "#train the model\r\n",
    "\r\n",
    "epochs = 3\r\n",
    "print_every = 40\r\n",
    "\r\n",
    "for e in range(epochs):\r\n",
    "    running_loss = 0\r\n",
    "    print(f\"Epoch: {e+1}/{epochs}\")\r\n",
    "\r\n",
    "    for i, (images, labels) in enumerate(iter(trainloader)):\r\n",
    "\r\n",
    "        # Flatten MNIST images into a 784 long vector\r\n",
    "        images.resize_(images.size()[0], 784)\r\n",
    "        \r\n",
    "        optimizer.zero_grad()\r\n",
    "        \r\n",
    "        output = model(images)           # 1) Forward pass\r\n",
    "        loss = criterion(output, labels) # 2) Compute loss\r\n",
    "        loss.backward()                  # 3) Backward pass\r\n",
    "        optimizer.step()                 # 4) Update model\r\n",
    "        \r\n",
    "        running_loss += loss.item()\r\n",
    "        \r\n",
    "        if i % print_every == 0:\r\n",
    "            print(f\"\\tIteration: {i}\\t Loss: {running_loss/print_every:.4f}\")\r\n",
    "            running_loss = 0"
   ],
   "outputs": [
    {
     "output_type": "stream",
     "name": "stdout",
     "text": [
      "Epoch: 1/3\n",
      "\tIteration: 0\t Loss: 0.0576\n",
      "\tIteration: 40\t Loss: 2.0411\n",
      "\tIteration: 80\t Loss: 1.3809\n",
      "\tIteration: 120\t Loss: 0.9142\n",
      "\tIteration: 160\t Loss: 0.7179\n",
      "\tIteration: 200\t Loss: 0.6194\n",
      "\tIteration: 240\t Loss: 0.5988\n",
      "\tIteration: 280\t Loss: 0.6121\n",
      "\tIteration: 320\t Loss: 0.5824\n",
      "\tIteration: 360\t Loss: 0.5492\n",
      "\tIteration: 400\t Loss: 0.5532\n",
      "\tIteration: 440\t Loss: 0.5586\n",
      "\tIteration: 480\t Loss: 0.5451\n",
      "\tIteration: 520\t Loss: 0.5401\n",
      "\tIteration: 560\t Loss: 0.5354\n",
      "\tIteration: 600\t Loss: 0.5250\n",
      "\tIteration: 640\t Loss: 0.5162\n",
      "\tIteration: 680\t Loss: 0.5023\n",
      "\tIteration: 720\t Loss: 0.5336\n",
      "\tIteration: 760\t Loss: 0.5228\n",
      "\tIteration: 800\t Loss: 0.5052\n",
      "\tIteration: 840\t Loss: 0.4824\n",
      "\tIteration: 880\t Loss: 0.4825\n",
      "\tIteration: 920\t Loss: 0.4761\n",
      "Epoch: 2/3\n",
      "\tIteration: 0\t Loss: 0.0137\n",
      "\tIteration: 40\t Loss: 0.4741\n",
      "\tIteration: 80\t Loss: 0.4740\n",
      "\tIteration: 120\t Loss: 0.4842\n",
      "\tIteration: 160\t Loss: 0.4699\n",
      "\tIteration: 200\t Loss: 0.4544\n",
      "\tIteration: 240\t Loss: 0.4736\n",
      "\tIteration: 280\t Loss: 0.4524\n",
      "\tIteration: 320\t Loss: 0.4519\n",
      "\tIteration: 360\t Loss: 0.4464\n",
      "\tIteration: 400\t Loss: 0.4560\n",
      "\tIteration: 440\t Loss: 0.4504\n",
      "\tIteration: 480\t Loss: 0.4570\n",
      "\tIteration: 520\t Loss: 0.4576\n",
      "\tIteration: 560\t Loss: 0.4712\n",
      "\tIteration: 600\t Loss: 0.4413\n",
      "\tIteration: 640\t Loss: 0.3812\n",
      "\tIteration: 680\t Loss: 0.4514\n",
      "\tIteration: 720\t Loss: 0.4513\n",
      "\tIteration: 760\t Loss: 0.4398\n",
      "\tIteration: 800\t Loss: 0.4230\n",
      "\tIteration: 840\t Loss: 0.4701\n",
      "\tIteration: 880\t Loss: 0.4177\n",
      "\tIteration: 920\t Loss: 0.4281\n",
      "Epoch: 3/3\n",
      "\tIteration: 0\t Loss: 0.0101\n",
      "\tIteration: 40\t Loss: 0.4035\n",
      "\tIteration: 80\t Loss: 0.4246\n",
      "\tIteration: 120\t Loss: 0.4138\n",
      "\tIteration: 160\t Loss: 0.4197\n",
      "\tIteration: 200\t Loss: 0.3993\n",
      "\tIteration: 240\t Loss: 0.3942\n",
      "\tIteration: 280\t Loss: 0.4013\n",
      "\tIteration: 320\t Loss: 0.4163\n",
      "\tIteration: 360\t Loss: 0.4250\n",
      "\tIteration: 400\t Loss: 0.4053\n",
      "\tIteration: 440\t Loss: 0.4159\n",
      "\tIteration: 480\t Loss: 0.4282\n",
      "\tIteration: 520\t Loss: 0.3986\n",
      "\tIteration: 560\t Loss: 0.4174\n",
      "\tIteration: 600\t Loss: 0.3970\n",
      "\tIteration: 640\t Loss: 0.3761\n",
      "\tIteration: 680\t Loss: 0.4040\n",
      "\tIteration: 720\t Loss: 0.4385\n",
      "\tIteration: 760\t Loss: 0.4078\n",
      "\tIteration: 800\t Loss: 0.4030\n",
      "\tIteration: 840\t Loss: 0.4146\n",
      "\tIteration: 880\t Loss: 0.3918\n",
      "\tIteration: 920\t Loss: 0.4169\n"
     ]
    }
   ],
   "metadata": {}
  },
  {
   "cell_type": "code",
   "execution_count": 28,
   "source": [
    "images, labels = next(iter(trainloader))\r\n",
    "\r\n",
    "img = images[0].view(1, 784)\r\n",
    "# Turn off gradients to speed up this part\r\n",
    "with torch.no_grad():\r\n",
    "    logits = model.forward(img)\r\n",
    "\r\n",
    "# Output of the network are logits, need to take softmax for probabilities\r\n",
    "ps = F.softmax(logits, dim=1)\r\n",
    "view_classify(img, ps, version='Fashion')"
   ],
   "outputs": [
    {
     "output_type": "display_data",
     "data": {
      "text/plain": [
       "<Figure size 432x648 with 2 Axes>"
      ],
      "image/png": "[encoded data removed]"
     },
     "metadata": {
      "image/png": {
       "width": 424,
       "height": 216
      },
      "needs_background": "light"
     }
    }
   ],
   "metadata": {}
  }
 ],
 "metadata": {
  "orig_nbformat": 4,
  "language_info": {
   "name": "python",
   "version": "3.8.11",
   "mimetype": "text/x-python",
   "codemirror_mode": {
    "name": "ipython",
    "version": 3
   },
   "pygments_lexer": "ipython3",
   "nbconvert_exporter": "python",
   "file_extension": ".py"
  },
  "kernelspec": {
   "name": "python3",
   "display_name": "Python 3.8.11 64-bit ('deep': conda)"
  },
  "interpreter": {
   "hash": "06eb6164245d5dc111fc587aaaaee211f1064893786d78224bfe45d400023d11"
  }
 },
 "nbformat": 4,
 "nbformat_minor": 2
}