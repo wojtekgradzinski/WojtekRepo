{
 "cells": [
  {
   "cell_type": "code",
   "execution_count": 9,
   "source": [
    "import pandas as pd\n",
    "import numpy as np\n",
    "from sklearn.model_selection import train_test_split"
   ],
   "outputs": [],
   "metadata": {}
  },
  {
   "cell_type": "code",
   "execution_count": 13,
   "source": [
    "data = pd.read_csv(\"data/insurance.csv\")"
   ],
   "outputs": [],
   "metadata": {}
  },
  {
   "cell_type": "code",
   "execution_count": 100,
   "source": [
    "X = data.values[:, :-1]\n",
    "y = data.values[:, -1]"
   ],
   "outputs": [],
   "metadata": {}
  },
  {
   "cell_type": "code",
   "execution_count": null,
   "source": [],
   "outputs": [],
   "metadata": {}
  },
  {
   "cell_type": "code",
   "execution_count": 91,
   "source": [
    "X.shape"
   ],
   "outputs": [
    {
     "output_type": "execute_result",
     "data": {
      "text/plain": [
       "(1338, 6)"
      ]
     },
     "metadata": {},
     "execution_count": 91
    }
   ],
   "metadata": {}
  },
  {
   "cell_type": "code",
   "execution_count": 92,
   "source": [
    "def to_batches(X, y, batch_size, shuffle=True):\n",
    "\n",
    "    if shuffle:\n",
    "        #Gets the lenght of the table, shuffles it and return a list of the shuffled indexes\n",
    "        indices = np.random.permutation(len(X))\n",
    "\n",
    "        #Arranges the X and y according to the new indexes order\n",
    "        X = X[indices]\n",
    "        y = y[indices]\n",
    "        \n",
    "        #Number of batches to be created\n",
    "        n_batches = len(X) // batch_size\n",
    "\n",
    "        \n",
    "        X = np.reshape(X[:n_batches * batch_size], (n_batches, batch_size, X.shape[1]))\n",
    "        y = np.reshape(y[:n_batches * batch_size], (n_batches, batch_size, 1))\n",
    "\n",
    "    return X, y"
   ],
   "outputs": [],
   "metadata": {}
  },
  {
   "cell_type": "code",
   "execution_count": 93,
   "source": [
    "X, y = to_batches(X, y, 40)"
   ],
   "outputs": [],
   "metadata": {}
  },
  {
   "cell_type": "code",
   "execution_count": 96,
   "source": [
    "X.shape"
   ],
   "outputs": [
    {
     "output_type": "execute_result",
     "data": {
      "text/plain": [
       "(33, 40, 6)"
      ]
     },
     "metadata": {},
     "execution_count": 96
    }
   ],
   "metadata": {}
  },
  {
   "cell_type": "code",
   "execution_count": 8,
   "source": [
    "X_train, X_val, y_train, y_val = train_test_split(X, y, test_size=0.3, random_state=42)"
   ],
   "outputs": [
    {
     "output_type": "execute_result",
     "data": {
      "text/plain": [
       "age         0\n",
       "sex         0\n",
       "bmi         0\n",
       "children    0\n",
       "smoker      0\n",
       "region      0\n",
       "charges     0\n",
       "dtype: int64"
      ]
     },
     "metadata": {},
     "execution_count": 8
    }
   ],
   "metadata": {}
  },
  {
   "cell_type": "code",
   "execution_count": null,
   "source": [],
   "outputs": [],
   "metadata": {}
  }
 ],
 "metadata": {
  "orig_nbformat": 4,
  "language_info": {
   "name": "python",
   "version": "3.9.5",
   "mimetype": "text/x-python",
   "codemirror_mode": {
    "name": "ipython",
    "version": 3
   },
   "pygments_lexer": "ipython3",
   "nbconvert_exporter": "python",
   "file_extension": ".py"
  },
  "kernelspec": {
   "name": "python3",
   "display_name": "Python 3.9.5 64-bit ('femodule': conda)"
  },
  "interpreter": {
   "hash": "0fa49518242bd20e22b69faf88bb7cc63d5fb3b62653065071c24836f66ca17d"
  }
 },
 "nbformat": 4,
 "nbformat_minor": 2
}