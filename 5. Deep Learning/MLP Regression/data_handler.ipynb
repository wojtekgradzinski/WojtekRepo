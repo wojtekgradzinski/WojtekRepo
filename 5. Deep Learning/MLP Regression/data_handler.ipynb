{
 "cells": [
  {
   "cell_type": "code",
   "execution_count": 18,
   "source": [
    "#main code for data \r\n",
    "from sklearn.model_selection import train_test_split\r\n",
    "import pandas as pd\r\n",
    "import numpy as np\r\n",
    "from sklearn.preprocessing import StandardScaler\r\n",
    "\r\n",
    "\r\n",
    "#read data\r\n",
    "\r\n",
    "df = pd.read_csv('turkish_stocks.csv')\r\n",
    "\r\n",
    "df = df.drop(['date'], axis =1)\r\n",
    "\r\n",
    "#scaling data\r\n",
    "\r\n",
    "scaler = StandardScaler()\r\n",
    "normalized_data =  scaler.fit_transform(df)\r\n",
    "\r\n",
    "\r\n",
    "#time series algo\r\n",
    "def pairing(data, seq_len = 2):\r\n",
    "    x = []\r\n",
    "    y = []\r\n",
    "    for i in range(0, (normalized_data.shape[0]-1) // seq_len, seq_len + 1): #creating for loop for the sequence\r\n",
    "        seq = np.zeros((seq_len, normalized_data.shape[1])) \r\n",
    "        for j in range(seq_len):  #iterating through the sequence\r\n",
    "            seq[j] = data[i+j]\r\n",
    "        x.append(seq)\r\n",
    "        y.append(data[i+seq_len,1])  # append \r\n",
    "    return np.array(x), np.array(y)\r\n",
    "\r\n",
    "\r\n",
    "#defining x,y\r\n",
    "x, y = pairing(normalized_data)\r\n",
    "x"
   ],
   "outputs": [
    {
     "output_type": "execute_result",
     "data": {
      "text/plain": [
       "array([[[ 2.10010704,  1.74502844, -0.37803175, ...,  1.92267422,\n",
       "          0.94217563,  2.62964499],\n",
       "        [ 1.46451241,  1.43399736,  0.50735347, ...,  1.14288439,\n",
       "          0.83758341,  0.74696853]],\n",
       "\n",
       "       [[-3.9286478 , -4.08810811,  0.19517774, ...,  1.73793182,\n",
       "         -0.46475482, -1.94061901],\n",
       "        [ 0.50655311,  0.38412496, -1.57505761, ..., -0.67992633,\n",
       "         -0.88297937, -0.83289066]],\n",
       "\n",
       "       [[ 0.85029191, -0.08645579,  0.07906734, ...,  0.16755935,\n",
       "         -0.97787626, -0.54931667],\n",
       "        [-2.63377741, -1.75833244, -2.46280245, ..., -2.62057459,\n",
       "         -3.52066142, -0.91623875]],\n",
       "\n",
       "       ...,\n",
       "\n",
       "       [[ 0.02738877, -0.17192706,  0.12644122, ..., -0.58892109,\n",
       "          0.38751395,  0.13122652],\n",
       "        [-0.93210575, -0.80882813, -0.81858261, ..., -0.81317901,\n",
       "         -0.8926905 , -0.28522426]],\n",
       "\n",
       "       [[ 0.58274008,  0.2952893 , -0.04568948, ...,  0.40403224,\n",
       "          0.37183652,  0.11273081],\n",
       "        [ 0.24421259,  0.03514971, -0.8024071 , ..., -1.63227141,\n",
       "         -1.39188102, -0.95189765]],\n",
       "\n",
       "       [[-1.56842983, -1.37449535, -1.63589637, ..., -0.10740492,\n",
       "         -0.66806096, -1.26966876],\n",
       "        [ 0.22203191,  0.11369995,  0.28013466, ..., -0.7309032 ,\n",
       "         -0.62706749, -0.48416739]]])"
      ]
     },
     "metadata": {},
     "execution_count": 18
    }
   ],
   "metadata": {}
  },
  {
   "cell_type": "code",
   "execution_count": null,
   "source": [],
   "outputs": [],
   "metadata": {}
  }
 ],
 "metadata": {
  "orig_nbformat": 4,
  "language_info": {
   "name": "python",
   "version": "3.8.11",
   "mimetype": "text/x-python",
   "codemirror_mode": {
    "name": "ipython",
    "version": 3
   },
   "pygments_lexer": "ipython3",
   "nbconvert_exporter": "python",
   "file_extension": ".py"
  },
  "kernelspec": {
   "name": "python3",
   "display_name": "Python 3.8.11 64-bit ('deep': conda)"
  },
  "interpreter": {
   "hash": "06eb6164245d5dc111fc587aaaaee211f1064893786d78224bfe45d400023d11"
  }
 },
 "nbformat": 4,
 "nbformat_minor": 2
}