{
 "cells": [
  {
   "cell_type": "markdown",
   "source": [
    "Training a neural network, data is often processed in batches. For this reason, it is convenient to load the data in a\n",
    "\n",
    "```\n",
    "for epoch in range(epochs):\n",
    "    for x_batch, y_batch in data:\n",
    "        train\n",
    "```\n",
    "fashion, where `x_batch, y_batch` contain respectively a batch of samples features and labels.\n",
    "\n",
    "If we have something like:"
   ],
   "metadata": {}
  },
  {
   "cell_type": "code",
   "execution_count": null,
   "source": [
    "X = [1,2,3,4]\r\n",
    "\r\n",
    "y = [0,0,1,1]\r\n",
    "\r\n",
    "data = X, y\r\n"
   ],
   "outputs": [],
   "metadata": {
    "ExecuteTime": {
     "end_time": "2021-06-02T05:01:00.351865Z",
     "start_time": "2021-06-02T05:01:00.348363Z"
    }
   }
  },
  {
   "cell_type": "markdown",
   "source": [
    "we don't get the desired behaviour. In fact:"
   ],
   "metadata": {}
  },
  {
   "cell_type": "code",
   "execution_count": null,
   "source": [
    "for x, y in data:\r\n",
    "    print(x)\r\n",
    "    print(y)"
   ],
   "outputs": [],
   "metadata": {
    "ExecuteTime": {
     "end_time": "2021-06-02T05:01:01.078882Z",
     "start_time": "2021-06-02T05:01:01.068175Z"
    }
   }
  },
  {
   "cell_type": "markdown",
   "source": [
    "A way to achieve it is by using the `zip` function:"
   ],
   "metadata": {
    "ExecuteTime": {
     "end_time": "2021-06-02T05:01:21.510046Z",
     "start_time": "2021-06-02T05:01:21.501972Z"
    }
   }
  },
  {
   "cell_type": "code",
   "execution_count": null,
   "source": [
    "data = zip(X,y)\r\n",
    "data"
   ],
   "outputs": [],
   "metadata": {
    "ExecuteTime": {
     "end_time": "2021-06-02T05:01:38.334914Z",
     "start_time": "2021-06-02T05:01:38.330524Z"
    }
   }
  },
  {
   "cell_type": "code",
   "execution_count": null,
   "source": [
    "for x, y in zip(X, y):\r\n",
    "    print(x, y)"
   ],
   "outputs": [],
   "metadata": {
    "ExecuteTime": {
     "end_time": "2021-06-02T05:01:48.885847Z",
     "start_time": "2021-06-02T05:01:48.881626Z"
    }
   }
  },
  {
   "cell_type": "markdown",
   "source": [
    "Now it's much better! But what if we want to adjust everything in batches? What if we have data that are indexed in a csv file?\n",
    "What if we have images and we want to apply transformation to the data in the exact moment when we load them to process them? (The alternative is to preprocess all of them before loading it: it may cause a lot of storage usage! In fact, if you want to perform data augmentation for images for example, you will create a lot of copies - with slight changes - of the data!)\n",
    "\n",
    "When you have used Pytorch so far you have loaded standard datasets (MNIST, FashionMNIST...) and you have taken advantage of the Pytorch Dataloader already. Let's do the same for a custom dataset, but for that we need to override some of the method given by that class."
   ],
   "metadata": {}
  },
  {
   "cell_type": "markdown",
   "source": [
    "As usual, we import the needed libraries:"
   ],
   "metadata": {
    "ExecuteTime": {
     "end_time": "2021-06-02T05:08:37.583072Z",
     "start_time": "2021-06-02T05:08:37.570456Z"
    }
   }
  },
  {
   "cell_type": "code",
   "execution_count": null,
   "source": [
    "import torch\r\n",
    "import torchvision\r\n",
    "from torch.utils.data import Dataset, DataLoader\r\n",
    "import numpy as np\r\n",
    "import math\r\n",
    "import pandas as pd"
   ],
   "outputs": [],
   "metadata": {
    "ExecuteTime": {
     "end_time": "2021-06-02T05:09:06.744694Z",
     "start_time": "2021-06-02T05:09:03.737995Z"
    }
   }
  },
  {
   "cell_type": "markdown",
   "source": [
    "We need to inherit from the Dataset class (that we have imported from torch.utils.data):"
   ],
   "metadata": {}
  },
  {
   "cell_type": "code",
   "execution_count": null,
   "source": [
    "class CustomDataset(Dataset):\r\n",
    "    pass"
   ],
   "outputs": [],
   "metadata": {
    "ExecuteTime": {
     "end_time": "2021-06-02T05:10:12.012741Z",
     "start_time": "2021-06-02T05:10:12.005962Z"
    }
   }
  },
  {
   "cell_type": "markdown",
   "source": [
    "Awesome! Now we need to override our constructor and the `__getitem__` method. What is this about? It is the method that allows your CustomDataset to be *indexed* in a `dataset[i]` fashion.\n",
    "\n",
    "In addition, we want to override the `__len__` method as well, that is the method that returns the amount of data samples in the dataset that we are processing.\n",
    "\n",
    "Ok but the shuffling?! *I want to shuffle the data!* Don't worry, the rest of the methods from the `Dataset`class will still be working!"
   ],
   "metadata": {}
  },
  {
   "cell_type": "code",
   "execution_count": null,
   "source": [
    "class CustomDataset(Dataset):\r\n",
    "    def __init__(self, data_path, budget =300):\r\n",
    "        \r\n",
    "        #read data\r\n",
    "        df = pd.read_csv(data_path)\r\n",
    "        #get rid of shit in data\r\n",
    "        df.columns = [x.replace('\"', '').replace(' ','') for x in df.columns]\r\n",
    "        columns = [\"Living\", \"Rooms\", \"Beds\", \"Baths\", \"Age\",\"Acres\", \"Taxes\"]\r\n",
    "        \r\n",
    "        #difining x,y\r\n",
    "        self.X = df[columns].values\r\n",
    "        self.y =  (df[\"Sell\"] <= budget ).astype(int)\r\n",
    "        self.n_samples = self.X.shape[0]\r\n",
    "        \r\n",
    "    def __len__(self):\r\n",
    "        return self.n_samples\r\n",
    "    \r\n",
    "    def __getitem__(self, index):\r\n",
    "        return self.X[index], self.y[index]\r\n",
    "    \r\n",
    "    \r\n",
    "    \r\n",
    " "
   ],
   "outputs": [],
   "metadata": {
    "ExecuteTime": {
     "end_time": "2021-06-02T05:30:20.755968Z",
     "start_time": "2021-06-02T05:30:20.736754Z"
    }
   }
  },
  {
   "cell_type": "code",
   "execution_count": 15,
   "source": [
    "dataset_path = \"https://people.sc.fsu.edu/~jburkardt/data/csv/homes.csv\"\r\n",
    "import pandas as pd\r\n",
    "\r\n",
    "df = pd.read_csv(dataset_path)"
   ],
   "outputs": [],
   "metadata": {}
  },
  {
   "cell_type": "code",
   "execution_count": 24,
   "source": [
    "dataset = CustomDataset(dataset_path, budget = 300)    \r\n",
    "\r\n",
    "dataloader = DataLoader(dataset = dataset, batch_size = 5, shuffle=True)\r\n",
    "\r\n",
    "dataiter = iter(dataloader)\r\n",
    "\r\n",
    "data = dataiter.next()\r\n"
   ],
   "outputs": [
    {
     "output_type": "execute_result",
     "data": {
      "text/plain": [
       "5"
      ]
     },
     "metadata": {},
     "execution_count": 24
    }
   ],
   "metadata": {}
  },
  {
   "cell_type": "markdown",
   "source": [
    "As you can see, in the constructor I added `csv_file` as argument. The reason is that I want to create a dataloader for a dataset containing houses information."
   ],
   "metadata": {}
  },
  {
   "cell_type": "code",
   "execution_count": null,
   "source": [
    "import pandas as pd\r\n",
    "\r\n",
    "df = pd.read_csv(dataset_path)"
   ],
   "outputs": [],
   "metadata": {
    "ExecuteTime": {
     "end_time": "2021-06-02T05:35:23.163211Z",
     "start_time": "2021-06-02T05:35:22.683242Z"
    }
   }
  },
  {
   "cell_type": "code",
   "execution_count": null,
   "source": [
    "#df"
   ],
   "outputs": [],
   "metadata": {
    "ExecuteTime": {
     "end_time": "2021-06-02T05:35:23.508847Z",
     "start_time": "2021-06-02T05:35:23.476008Z"
    }
   }
  },
  {
   "cell_type": "markdown",
   "source": [
    "Let's say that our task is to use the  columns `\"Living\", \"Rooms\", \"Beds\", \"Baths\", \"Age\", \"Acres\",\"Taxes\"` to predict if the `Sell` price is over or under our budget that is, for this example, 152k."
   ],
   "metadata": {}
  },
  {
   "cell_type": "code",
   "execution_count": null,
   "source": [
    "print(\"Houses that were sold for more than 152k:\", (df.Sell > 152).sum())\r\n",
    "print(\"Houses that were sold for less than 152k:\", (df.Sell <= 152).sum())\r\n",
    "\r\n"
   ],
   "outputs": [],
   "metadata": {
    "ExecuteTime": {
     "end_time": "2021-06-02T05:46:57.397089Z",
     "start_time": "2021-06-02T05:46:57.374577Z"
    }
   }
  },
  {
   "cell_type": "code",
   "execution_count": null,
   "source": [
    "import matplotlib.pyplot as plt"
   ],
   "outputs": [],
   "metadata": {}
  },
  {
   "cell_type": "markdown",
   "source": [
    "So we have a balanced dataset for this example. Instead of preprocessing our dataset *before* feeding the dataloader, let's do it inside!"
   ],
   "metadata": {
    "ExecuteTime": {
     "end_time": "2021-06-02T05:40:36.989297Z",
     "start_time": "2021-06-02T05:40:36.981228Z"
    }
   }
  },
  {
   "cell_type": "code",
   "execution_count": null,
   "source": [
    "class HouseDataset(Dataset):\r\n",
    "    def __init__(self, csv_file, budget=152):\r\n",
    "        df = pd.read_csv(csv_file)\r\n",
    "        df.columns = [x.replace('\"', '').replace(' ', '') for x in df.columns]\r\n",
    "        columns = [\"Living\", \"Rooms\", \"Beds\", \"Baths\", \"Age\", \"Acres\",\"Taxes\"]\r\n",
    "        self.X = df[columns].values # the .values takes the numpy array\r\n",
    "        self.y = (df.Sell.values <= budget).astype(\"int\")\r\n",
    "        self.n_samples = len(self.X)\r\n",
    "    def __getitem__(self, index):\r\n",
    "        # we want to be index like dataset[index]\r\n",
    "        # to get the index-th batch\r\n",
    "        return self.X[index], self.y[index]\r\n",
    "    def __len__(self):\r\n",
    "        # to retrieve the total samples by doing len(dataset)\r\n",
    "        return self.n_samples"
   ],
   "outputs": [],
   "metadata": {
    "ExecuteTime": {
     "end_time": "2021-06-02T05:52:36.675390Z",
     "start_time": "2021-06-02T05:52:36.667671Z"
    }
   }
  },
  {
   "cell_type": "markdown",
   "source": [
    "Now we are ready to instantiate an object of the dataloader:"
   ],
   "metadata": {}
  },
  {
   "cell_type": "code",
   "execution_count": null,
   "source": [
    "dataset = HouseDataset(dataset_path, budget=152)\r\n",
    "dataloader = DataLoader(dataset=dataset, batch_size=4, shuffle=True)"
   ],
   "outputs": [],
   "metadata": {
    "ExecuteTime": {
     "end_time": "2021-06-02T05:52:38.078094Z",
     "start_time": "2021-06-02T05:52:37.567704Z"
    }
   }
  },
  {
   "cell_type": "code",
   "execution_count": 25,
   "source": [
    "dataiter = iter(dataloader)\r\n",
    "data = dataiter.next()"
   ],
   "outputs": [],
   "metadata": {
    "ExecuteTime": {
     "end_time": "2021-06-02T05:52:51.042524Z",
     "start_time": "2021-06-02T05:52:50.954338Z"
    }
   }
  },
  {
   "cell_type": "code",
   "execution_count": 26,
   "source": [
    "data"
   ],
   "outputs": [
    {
     "output_type": "execute_result",
     "data": {
      "text/plain": [
       "[tensor([[2.1000e+01, 9.0000e+00, 5.0000e+00, 2.0000e+00, 2.7000e+01, 1.3000e+00,\n",
       "          4.1620e+03],\n",
       "         [1.7000e+01, 9.0000e+00, 4.0000e+00, 1.0000e+00, 2.5000e+01, 5.2000e-01,\n",
       "          3.3740e+03],\n",
       "         [1.8000e+01, 8.0000e+00, 4.0000e+00, 2.0000e+00, 4.4000e+01, 2.2000e-01,\n",
       "          2.7830e+03],\n",
       "         [3.0000e+01, 1.0000e+01, 5.0000e+00, 2.0000e+00, 3.0000e+01, 5.3000e-01,\n",
       "          5.7020e+03],\n",
       "         [6.4000e+01, 1.1000e+01, 4.0000e+00, 4.0000e+00, 4.0000e+00, 8.5000e-01,\n",
       "          1.2192e+04]], dtype=torch.float64),\n",
       " tensor([1, 1, 1, 1, 0], dtype=torch.int32)]"
      ]
     },
     "metadata": {},
     "execution_count": 26
    }
   ],
   "metadata": {
    "ExecuteTime": {
     "end_time": "2021-06-02T05:52:53.705994Z",
     "start_time": "2021-06-02T05:52:53.698666Z"
    }
   }
  },
  {
   "cell_type": "markdown",
   "source": [
    "Here we go! We have the batches, the shuffles and all we want in a similar manner of before!"
   ],
   "metadata": {}
  },
  {
   "cell_type": "markdown",
   "source": [
    "### ImageFolder"
   ],
   "metadata": {}
  },
  {
   "cell_type": "markdown",
   "source": [
    "If you need to load an image dataset, it's more convenient to use the `ImageFolder` class from the `torchvision.datasets` module.\n",
    "\n",
    "To do so, you need to structure your data as follows:\n",
    "\n",
    "```\n",
    "root\n",
    "|_class1\n",
    "    |_xxx.png\n",
    "|_class2\n",
    "    |_xxx.png\n",
    "```\n",
    "\n",
    "that means that each class has its own directory.\n",
    "\n",
    "By giving this structure, the name of the class will be taken by the name of the folder!"
   ],
   "metadata": {}
  },
  {
   "cell_type": "code",
   "execution_count": 34,
   "source": [
    "from torchvision import datasets, transforms\r\n",
    "\r\n",
    "root_dir = 'data'\r\n",
    "\r\n",
    "train_transforms = transforms.Compose([transforms.Resize(255),\r\n",
    "                                       transforms.RandomRotation(30),\r\n",
    "                                       transforms.RandomResizedCrop(224),\r\n",
    "                                       transforms.RandomHorizontalFlip(),\r\n",
    "                                       transforms.ToTensor(),\r\n",
    "                                       transforms.Normalize([0.5, 0.5, 0.5],\r\n",
    "                                                            [0.5, 0.5, 0.5])])\r\n",
    "\r\n",
    "test_transforms = transforms.Compose([transforms.Resize(255),\r\n",
    "                                      transforms.CenterCrop(224),\r\n",
    "                                      transforms.ToTensor(),\r\n",
    "                                      transforms.Normalize([0.5, 0.5, 0.5],\r\n",
    "                                                           [0.5, 0.5, 0.5])])\r\n",
    "\r\n",
    "# Pass transforms in here, then run the next cell to see how the transforms look\r\n",
    "train_data = datasets.ImageFolder(root_dir + '/train', transform=train_transforms)\r\n",
    "#test_data = datasets.ImageFolder(data_dir + '/test', transform=test_transforms)\r\n",
    "\r\n",
    "train_data.class_to_idx"
   ],
   "outputs": [
    {
     "output_type": "execute_result",
     "data": {
      "text/plain": [
       "{'cat': 0, 'dog': 1}"
      ]
     },
     "metadata": {},
     "execution_count": 34
    }
   ],
   "metadata": {
    "ExecuteTime": {
     "end_time": "2021-06-02T06:18:18.117252Z",
     "start_time": "2021-06-02T06:18:18.087515Z"
    }
   }
  },
  {
   "cell_type": "markdown",
   "source": [
    "And then you just need to create the data loaders:"
   ],
   "metadata": {}
  },
  {
   "cell_type": "code",
   "execution_count": 30,
   "source": [
    "from torch.utils.data import DataLoader\r\n",
    "train_loader = DataLoader(train_data, batch_size=32, shuffle=True)\r\n",
    "#test_loader = DataLoader(test_data, batch_size=32, shuffle=True)"
   ],
   "outputs": [],
   "metadata": {
    "ExecuteTime": {
     "end_time": "2021-06-02T06:35:56.085748Z",
     "start_time": "2021-06-02T06:35:56.018127Z"
    }
   }
  },
  {
   "cell_type": "code",
   "execution_count": 53,
   "source": [
    "from PIL import Image\r\n",
    "\r\n",
    "Image.open('data/train/cat').convert(\"RGB\")"
   ],
   "outputs": [
    {
     "output_type": "error",
     "ename": "PermissionError",
     "evalue": "[Errno 13] Permission denied: 'data/train/cat'",
     "traceback": [
      "\u001b[1;31m---------------------------------------------------------------------------\u001b[0m",
      "\u001b[1;31mPermissionError\u001b[0m                           Traceback (most recent call last)",
      "\u001b[1;32m<ipython-input-53-bc3cb2e371b9>\u001b[0m in \u001b[0;36m<module>\u001b[1;34m\u001b[0m\n\u001b[0;32m      1\u001b[0m \u001b[1;32mfrom\u001b[0m \u001b[0mPIL\u001b[0m \u001b[1;32mimport\u001b[0m \u001b[0mImage\u001b[0m\u001b[1;33m\u001b[0m\u001b[1;33m\u001b[0m\u001b[0m\n\u001b[0;32m      2\u001b[0m \u001b[1;33m\u001b[0m\u001b[0m\n\u001b[1;32m----> 3\u001b[1;33m \u001b[0mImage\u001b[0m\u001b[1;33m.\u001b[0m\u001b[0mopen\u001b[0m\u001b[1;33m(\u001b[0m\u001b[1;34m'data/train/cat'\u001b[0m\u001b[1;33m)\u001b[0m\u001b[1;33m.\u001b[0m\u001b[0mconvert\u001b[0m\u001b[1;33m(\u001b[0m\u001b[1;34m\"RGB\"\u001b[0m\u001b[1;33m)\u001b[0m\u001b[1;33m\u001b[0m\u001b[1;33m\u001b[0m\u001b[0m\n\u001b[0m",
      "\u001b[1;32m~\\anaconda3\\envs\\deep\\lib\\site-packages\\PIL\\Image.py\u001b[0m in \u001b[0;36mopen\u001b[1;34m(fp, mode, formats)\u001b[0m\n\u001b[0;32m   2966\u001b[0m \u001b[1;33m\u001b[0m\u001b[0m\n\u001b[0;32m   2967\u001b[0m     \u001b[1;32mif\u001b[0m \u001b[0mfilename\u001b[0m\u001b[1;33m:\u001b[0m\u001b[1;33m\u001b[0m\u001b[1;33m\u001b[0m\u001b[0m\n\u001b[1;32m-> 2968\u001b[1;33m         \u001b[0mfp\u001b[0m \u001b[1;33m=\u001b[0m \u001b[0mbuiltins\u001b[0m\u001b[1;33m.\u001b[0m\u001b[0mopen\u001b[0m\u001b[1;33m(\u001b[0m\u001b[0mfilename\u001b[0m\u001b[1;33m,\u001b[0m \u001b[1;34m\"rb\"\u001b[0m\u001b[1;33m)\u001b[0m\u001b[1;33m\u001b[0m\u001b[1;33m\u001b[0m\u001b[0m\n\u001b[0m\u001b[0;32m   2969\u001b[0m         \u001b[0mexclusive_fp\u001b[0m \u001b[1;33m=\u001b[0m \u001b[1;32mTrue\u001b[0m\u001b[1;33m\u001b[0m\u001b[1;33m\u001b[0m\u001b[0m\n\u001b[0;32m   2970\u001b[0m \u001b[1;33m\u001b[0m\u001b[0m\n",
      "\u001b[1;31mPermissionError\u001b[0m: [Errno 13] Permission denied: 'data/train/cat'"
     ]
    }
   ],
   "metadata": {}
  },
  {
   "cell_type": "markdown",
   "source": [
    "### Exercise\n",
    "\n",
    "Create a dataset with three classes of images (choose the classes and download your own images. You don't need to train, so around 10 images per class will be enough).\n",
    "\n",
    "Then visualize the images with the help of the `imshow` helper function provided below:"
   ],
   "metadata": {}
  },
  {
   "cell_type": "code",
   "execution_count": null,
   "source": [
    "def imshow(image, ax=None, title=None, normalize=False):\r\n",
    "    \"\"\"Imshow for Tensor.\"\"\"\r\n",
    "    if ax is None:\r\n",
    "        fig, ax = plt.subplots()\r\n",
    "    image = image.numpy().transpose((1, 2, 0))\r\n",
    "\r\n",
    "    if normalize:\r\n",
    "        mean = np.array([0.485, 0.456, 0.406])\r\n",
    "        std = np.array([0.229, 0.224, 0.225])\r\n",
    "        image = std * image + mean\r\n",
    "        image = np.clip(image, 0, 1)\r\n",
    "\r\n",
    "    ax.imshow(image)\r\n",
    "    ax.spines['top'].set_visible(False)\r\n",
    "    ax.spines['right'].set_visible(False)\r\n",
    "    ax.spines['left'].set_visible(False)\r\n",
    "    ax.spines['bottom'].set_visible(False)\r\n",
    "    ax.tick_params(axis='both', length=0)\r\n",
    "    ax.set_xticklabels('')\r\n",
    "    ax.set_yticklabels('')\r\n",
    "\r\n",
    "    return ax\r\n",
    "\r\n",
    "\r\n",
    "# Run this to test your data loaders\r\n",
    "images, labels = next(iter(trainloader))\r\n",
    "imshow(images[0], normalize=False)"
   ],
   "outputs": [],
   "metadata": {}
  },
  {
   "cell_type": "markdown",
   "source": [
    "### Image Dataset from paths"
   ],
   "metadata": {}
  },
  {
   "cell_type": "markdown",
   "source": [
    "Sometimes, you have given a bunch of paths and labels for your dataset, because it can be not convenient to move images around. \n",
    "\n",
    "For this reason, you can create something similar to what we have done at the beginning.\n",
    "\n",
    "Let's say we have a file called `train.csv` containing the columns `path` and `label`. "
   ],
   "metadata": {}
  },
  {
   "cell_type": "code",
   "execution_count": null,
   "source": [
    "train = pd.DataFrame({\"path\": [\"my_dataset/image1.png\", \"my_dataset/image2.png\"], \"label\": [0, 1] })"
   ],
   "outputs": [],
   "metadata": {
    "ExecuteTime": {
     "end_time": "2021-06-02T06:45:25.609577Z",
     "start_time": "2021-06-02T06:45:25.548882Z"
    }
   }
  },
  {
   "cell_type": "code",
   "execution_count": null,
   "source": [
    "train"
   ],
   "outputs": [],
   "metadata": {
    "ExecuteTime": {
     "end_time": "2021-06-02T06:45:29.569167Z",
     "start_time": "2021-06-02T06:45:29.550927Z"
    }
   }
  },
  {
   "cell_type": "code",
   "execution_count": null,
   "source": [
    "train.to_csv(\"data/train.csv\")"
   ],
   "outputs": [],
   "metadata": {
    "ExecuteTime": {
     "end_time": "2021-06-02T06:46:11.305110Z",
     "start_time": "2021-06-02T06:46:11.217543Z"
    }
   }
  },
  {
   "cell_type": "markdown",
   "source": [
    "We can create a custom dataloader as before:"
   ],
   "metadata": {
    "ExecuteTime": {
     "end_time": "2021-06-02T06:46:05.323220Z",
     "start_time": "2021-06-02T06:46:04.582143Z"
    }
   }
  },
  {
   "cell_type": "code",
   "execution_count": 35,
   "source": [
    "from PIL import Image\r\n",
    "class CustomDataset(Dataset):\r\n",
    "    def __init__(self, csv_file, transform=None):\r\n",
    "        df = pd.read_csv(csv_file)\r\n",
    "        self.paths = df.path.values\r\n",
    "        self.labels = df.label.values\r\n",
    "    def __getitem__(self, index):\r\n",
    "        # we want to be index like dataset[index]\r\n",
    "        # to get the index-th batch\r\n",
    "        img = Image.open(self.paths[index]).convert(\"RGB\")\r\n",
    "        if self.transform is not None:\r\n",
    "            img = self.transform(img)\r\n",
    "        return img, self.labels[index]\r\n",
    "    \r\n",
    "    def __len__(self):\r\n",
    "        # to retrieve the total samples by doing len(dataset)\r\n",
    "        return len(self.paths)"
   ],
   "outputs": [],
   "metadata": {
    "ExecuteTime": {
     "end_time": "2021-06-02T06:51:27.202301Z",
     "start_time": "2021-06-02T06:51:27.195260Z"
    }
   }
  },
  {
   "cell_type": "markdown",
   "source": [
    "### Optional/Advanced Exercise\n",
    "\n",
    "Create the csv file of the style defined above to load the dataset that you have created."
   ],
   "metadata": {
    "ExecuteTime": {
     "end_time": "2021-06-02T06:53:50.432448Z",
     "start_time": "2021-06-02T06:53:50.415545Z"
    }
   }
  },
  {
   "cell_type": "markdown",
   "source": [
    "You can customize even more! A nice article for it is:\n",
    "   https://www.scottcondron.com/jupyter/visualisation/audio/2020/12/02/dataloaders-samplers-collate.html"
   ],
   "metadata": {}
  },
  {
   "cell_type": "code",
   "execution_count": null,
   "source": [],
   "outputs": [],
   "metadata": {}
  }
 ],
 "metadata": {
  "kernelspec": {
   "name": "python3",
   "display_name": "Python 3.8.11 64-bit ('deep': conda)"
  },
  "language_info": {
   "codemirror_mode": {
    "name": "ipython",
    "version": 3
   },
   "file_extension": ".py",
   "mimetype": "text/x-python",
   "name": "python",
   "nbconvert_exporter": "python",
   "pygments_lexer": "ipython3",
   "version": "3.8.11"
  },
  "varInspector": {
   "cols": {
    "lenName": 16,
    "lenType": 16,
    "lenVar": 40
   },
   "kernels_config": {
    "python": {
     "delete_cmd_postfix": "",
     "delete_cmd_prefix": "del ",
     "library": "var_list.py",
     "varRefreshCmd": "print(var_dic_list())"
    },
    "r": {
     "delete_cmd_postfix": ") ",
     "delete_cmd_prefix": "rm(",
     "library": "var_list.r",
     "varRefreshCmd": "cat(var_dic_list()) "
    }
   },
   "types_to_exclude": [
    "module",
    "function",
    "builtin_function_or_method",
    "instance",
    "_Feature"
   ],
   "window_display": false
  },
  "interpreter": {
   "hash": "06eb6164245d5dc111fc587aaaaee211f1064893786d78224bfe45d400023d11"
  }
 },
 "nbformat": 4,
 "nbformat_minor": 5
}