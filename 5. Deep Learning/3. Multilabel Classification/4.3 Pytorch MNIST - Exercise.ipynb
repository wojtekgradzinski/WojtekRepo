{
 "cells": [
  {
   "cell_type": "markdown",
   "source": [
    "<div style=\"background:#222222; color:#ffffff; padding:20px\">\n",
    "    <h2 align=\"center\">Deep Learning Fundamentals</h2>\n",
    "    <h2 align=\"center\" style=\"color:#01ff84\">Multiclass Classification: MNIST</h2>\n",
    "<div>"
   ],
   "metadata": {}
  },
  {
   "cell_type": "markdown",
   "source": [
    "## Imports"
   ],
   "metadata": {}
  },
  {
   "cell_type": "code",
   "execution_count": 1,
   "source": [
    "%matplotlib inline\r\n",
    "%config InlineBackend.figure_format = 'retina'\r\n",
    "\r\n",
    "from collections import OrderedDict\r\n",
    "\r\n",
    "import numpy as np\r\n",
    "import matplotlib.pyplot as plt\r\n",
    "import time\r\n",
    "\r\n",
    "import torch\r\n",
    "from torch import nn\r\n",
    "from torch import optim\r\n",
    "import torch.nn.functional as F\r\n",
    "\r\n",
    "from torchvision import datasets, transforms"
   ],
   "outputs": [],
   "metadata": {
    "ExecuteTime": {
     "end_time": "2021-05-26T22:26:36.081105Z",
     "start_time": "2021-05-26T22:26:35.040138Z"
    }
   }
  },
  {
   "cell_type": "markdown",
   "source": [
    "## Auxliary plotting function"
   ],
   "metadata": {}
  },
  {
   "cell_type": "code",
   "execution_count": 2,
   "source": [
    "# https://discuss.pytorch.org/t/view-classify-in-module-helper/30279/6\r\n",
    "\r\n",
    "def view_classify(img, ps):\r\n",
    "\r\n",
    "    ps = ps.data.numpy().squeeze()\r\n",
    "\r\n",
    "    fig, (ax1, ax2) = plt.subplots(figsize=(6,9), ncols=2)\r\n",
    "    ax1.imshow(img.resize_(1, 28, 28).numpy().squeeze())\r\n",
    "    ax1.axis('off')\r\n",
    "    ax2.barh(np.arange(10), ps)\r\n",
    "    ax2.set_aspect(0.1)\r\n",
    "    ax2.set_yticks(np.arange(10))\r\n",
    "    ax2.set_yticklabels(np.arange(10))\r\n",
    "    ax2.set_title('Class Probability')\r\n",
    "    ax2.set_xlim(0, 1.1)"
   ],
   "outputs": [],
   "metadata": {
    "ExecuteTime": {
     "end_time": "2021-05-26T22:26:37.473177Z",
     "start_time": "2021-05-26T22:26:37.465910Z"
    }
   }
  },
  {
   "cell_type": "markdown",
   "source": [
    "# Load MNIST Dataset\n",
    "First up, we need to get our dataset. This is provided through the `torchvision` package. The code below will download the MNIST dataset, then create training and test datasets for us. Don't worry too much about the details here, you'll learn more about this later."
   ],
   "metadata": {}
  },
  {
   "cell_type": "code",
   "execution_count": 3,
   "source": [
    "# Define a transform to normalize the data (Preprocessing)\r\n",
    "transform = transforms.Compose([transforms.ToTensor(), transforms.Normalize((0.5), (0.5)) ])\r\n",
    "\r\n",
    "# Download and load the training data\r\n",
    "trainset    = datasets.MNIST('MNIST_data/', download=True, train=True, transform=transform)\r\n",
    "trainloader = torch.utils.data.DataLoader(trainset, batch_size=16, shuffle=True)\r\n",
    "\r\n",
    "# Download and load the test data\r\n",
    "testset    = datasets.MNIST('MNIST_data/', download=True, train=False, transform=transform)\r\n",
    "testloader = torch.utils.data.DataLoader(testset, batch_size=16, shuffle=True)"
   ],
   "outputs": [
    {
     "output_type": "stream",
     "name": "stderr",
     "text": [
      "C:\\Users\\Wojtek\\AppData\\Roaming\\Python\\Python38\\site-packages\\torchvision\\datasets\\mnist.py:498: UserWarning: The given NumPy array is not writeable, and PyTorch does not support non-writeable tensors. This means you can write to the underlying (supposedly non-writeable) NumPy array using the tensor. You may want to copy the array to protect its data or make it writeable before converting it to a tensor. This type of warning will be suppressed for the rest of this program. (Triggered internally at  ..\\torch\\csrc\\utils\\tensor_numpy.cpp:180.)\n",
      "  return torch.from_numpy(parsed.astype(m[2], copy=False)).view(*s)\n"
     ]
    }
   ],
   "metadata": {
    "ExecuteTime": {
     "end_time": "2021-05-26T22:26:38.402766Z",
     "start_time": "2021-05-26T22:26:38.298968Z"
    }
   }
  },
  {
   "cell_type": "code",
   "execution_count": 34,
   "source": [
    "dataiter = iter(trainloader)\r\n",
    "images, labels = dataiter.next()"
   ],
   "outputs": [],
   "metadata": {
    "ExecuteTime": {
     "end_time": "2021-05-26T22:26:38.632988Z",
     "start_time": "2021-05-26T22:26:38.477558Z"
    }
   }
  },
  {
   "cell_type": "markdown",
   "source": [
    "We have the training data loaded into `trainloader` and we make that an iterator with `iter(trainloader)`. We'd use this to loop through the dataset for training, but here I'm just grabbing the first batch so we can check out the data. We can see below that `images` is just a tensor with size (64, 1, 28, 28). So, 64 images per batch, 1 color channel, and 28x28 images."
   ],
   "metadata": {}
  },
  {
   "cell_type": "code",
   "execution_count": 38,
   "source": [
    "plt.imshow(images[1].numpy().squeeze(), cmap='Greys_r');"
   ],
   "outputs": [
    {
     "output_type": "display_data",
     "data": {
      "image/png": "[encoded data removed]",
      "text/plain": [
       "<Figure size 432x288 with 1 Axes>"
      ]
     },
     "metadata": {
      "image/png": {
       "width": 251,
       "height": 248
      },
      "needs_background": "light"
     }
    }
   ],
   "metadata": {
    "ExecuteTime": {
     "end_time": "2021-05-26T22:26:39.407000Z",
     "start_time": "2021-05-26T22:26:39.265256Z"
    }
   }
  },
  {
   "cell_type": "markdown",
   "source": [
    "## Building networks with PyTorch\n",
    "\n",
    "Here I'll use PyTorch to build a simple feedfoward network to classify the MNIST images. That is, the network will receive a digit image as input and predict the digit in the image.\n",
    "\n",
    "<img src=\"assets/mlp_mnist.png\" width=600px>\n",
    "\n",
    "To build a neural network with PyTorch, you use the `torch.nn` module. The network itself is a class inheriting from `torch.nn.Module`. You define each of the operations separately, like `nn.Linear(784, 128)` for a fully connected linear layer with 784 inputs and 128 units.\n",
    "\n",
    "The class needs to include a `forward` method that implements the forward pass through the network. In this method, you pass some input tensor `x` through each of the operations you defined earlier. The `torch.nn` module also has functional equivalents for things like ReLUs in `torch.nn.functional`. This module is usually imported as `F`. Then to use a ReLU activation on some layer (which is just a tensor), you'd do `F.relu(x)`. Below are a few different commonly used activation functions.\n",
    "\n",
    "<img src=\"assets/activation.png\" width=700px>\n",
    "\n",
    "So, for this network, I'll build it with three fully connected layers, then a softmax output for predicting classes. The softmax function is similar to the sigmoid in that it squashes inputs between 0 and 1, but it's also normalized so that all the values sum to one like a proper probability distribution."
   ],
   "metadata": {}
  },
  {
   "cell_type": "code",
   "execution_count": 39,
   "source": [
    "class Network(nn.Module):\r\n",
    "    \r\n",
    "    # Defining the layers, 128, 64, 10 units each\r\n",
    "    def __init__(self):\r\n",
    "        super().__init__()\r\n",
    "        self.fc1 = nn.Linear(784, 32)\r\n",
    "        self.fc2 = nn.Linear(32, 16)\r\n",
    "        self.fc3 = nn.Linear(16, 10)\r\n",
    "        \r\n",
    "    # Forward pass through the network, returns the output logits\r\n",
    "    def forward(self, x):\r\n",
    "        x = self.fc1(x)\r\n",
    "        x = F.relu(x)\r\n",
    "        x = self.fc2(x)\r\n",
    "        x = F.relu(x)\r\n",
    "        x = self.fc3(x)\r\n",
    "        x = F.softmax(x, dim=1)\r\n",
    "        return x\r\n",
    "\r\n",
    "model = Network()\r\n",
    "model"
   ],
   "outputs": [
    {
     "output_type": "execute_result",
     "data": {
      "text/plain": [
       "Network(\n",
       "  (fc1): Linear(in_features=784, out_features=32, bias=True)\n",
       "  (fc2): Linear(in_features=32, out_features=16, bias=True)\n",
       "  (fc3): Linear(in_features=16, out_features=10, bias=True)\n",
       ")"
      ]
     },
     "metadata": {},
     "execution_count": 39
    }
   ],
   "metadata": {
    "ExecuteTime": {
     "end_time": "2021-05-26T22:26:39.961531Z",
     "start_time": "2021-05-26T22:26:39.946776Z"
    }
   }
  },
  {
   "cell_type": "markdown",
   "source": [
    "Why the input features are 784? Because the input images have size 28 pixels x 28 pixels for a total of 784 features. Since a Multilayer perceptron accepts only flatten inputs, we need to flatten a 28x28 grid into a 784 array."
   ],
   "metadata": {}
  },
  {
   "cell_type": "markdown",
   "source": [
    "### Sequential API\r\n",
    "PyTorch provides a convenient way to build networks like this where a tensor is passed sequentially through operations, `nn.Sequential` ([documentation](https://pytorch.org/docs/master/nn.html#torch.nn.Sequential)). Using this to build the equivalent network:"
   ],
   "metadata": {}
  },
  {
   "cell_type": "code",
   "execution_count": 40,
   "source": [
    "# Hyperparameters for our network\r\n",
    "input_size   = 784\r\n",
    "hidden_sizes = [4, 4]\r\n",
    "output_size   = 10\r\n",
    "\r\n",
    "# Build a feed-forward network\r\n",
    "model = nn.Sequential(nn.Linear(input_size, hidden_sizes[0]),\r\n",
    "                      nn.ReLU(),\r\n",
    "                      nn.Linear(hidden_sizes[0], hidden_sizes[1]),\r\n",
    "                      nn.ReLU(),\r\n",
    "                      nn.Linear(hidden_sizes[1], output_size),\r\n",
    "                      nn.Softmax(dim=1))\r\n",
    "print(model)"
   ],
   "outputs": [
    {
     "output_type": "stream",
     "name": "stdout",
     "text": [
      "Sequential(\n",
      "  (0): Linear(in_features=784, out_features=4, bias=True)\n",
      "  (1): ReLU()\n",
      "  (2): Linear(in_features=4, out_features=4, bias=True)\n",
      "  (3): ReLU()\n",
      "  (4): Linear(in_features=4, out_features=10, bias=True)\n",
      "  (5): Softmax(dim=1)\n",
      ")\n"
     ]
    }
   ],
   "metadata": {
    "ExecuteTime": {
     "end_time": "2021-05-26T22:26:41.213448Z",
     "start_time": "2021-05-26T22:26:41.205216Z"
    }
   }
  },
  {
   "cell_type": "markdown",
   "source": [
    "You can also pass in an `OrderedDict` to name the individual layers and operations. Note that a dictionary keys must be unique, so _each operation must have a different name_."
   ],
   "metadata": {}
  },
  {
   "cell_type": "code",
   "execution_count": 41,
   "source": [
    "model = nn.Sequential(OrderedDict([\r\n",
    "          ('fc1',   nn.Linear(input_size, hidden_sizes[0])),\r\n",
    "          ('relu1', nn.ReLU()),\r\n",
    "          ('fc2',   nn.Linear(hidden_sizes[0], hidden_sizes[1])),\r\n",
    "          ('relu2', nn.ReLU()),\r\n",
    "          ('output', nn.Linear(hidden_sizes[1], output_size)),\r\n",
    "          ('softmax', nn.Softmax(dim=1))]))\r\n",
    "model"
   ],
   "outputs": [
    {
     "output_type": "execute_result",
     "data": {
      "text/plain": [
       "Sequential(\n",
       "  (fc1): Linear(in_features=784, out_features=4, bias=True)\n",
       "  (relu1): ReLU()\n",
       "  (fc2): Linear(in_features=4, out_features=4, bias=True)\n",
       "  (relu2): ReLU()\n",
       "  (output): Linear(in_features=4, out_features=10, bias=True)\n",
       "  (softmax): Softmax(dim=1)\n",
       ")"
      ]
     },
     "metadata": {},
     "execution_count": 41
    }
   ],
   "metadata": {
    "ExecuteTime": {
     "end_time": "2021-05-26T22:26:42.300216Z",
     "start_time": "2021-05-26T22:26:42.289009Z"
    }
   }
  },
  {
   "cell_type": "markdown",
   "source": [
    "### Initializing weights and biases\n",
    "\n",
    "The weights and such are automatically initialized for you, but it's possible to customize how they are initialized. The weights and biases are tensors attached to the layer you defined, you can get them with `model.fc1.weight` for instance."
   ],
   "metadata": {}
  },
  {
   "cell_type": "code",
   "execution_count": 42,
   "source": [
    "print(model.fc1.weight)\r\n",
    "print(model.fc1.bias)"
   ],
   "outputs": [
    {
     "output_type": "stream",
     "name": "stdout",
     "text": [
      "Parameter containing:\n",
      "tensor([[ 0.0206, -0.0269,  0.0216,  ...,  0.0012, -0.0169, -0.0184],\n",
      "        [ 0.0238, -0.0016, -0.0263,  ..., -0.0038,  0.0339, -0.0089],\n",
      "        [ 0.0209, -0.0348,  0.0197,  ..., -0.0041, -0.0352, -0.0176],\n",
      "        [ 0.0342, -0.0143,  0.0298,  ...,  0.0323, -0.0025, -0.0247]],\n",
      "       requires_grad=True)\n",
      "Parameter containing:\n",
      "tensor([-0.0294, -0.0329,  0.0228, -0.0153], requires_grad=True)\n"
     ]
    }
   ],
   "metadata": {
    "ExecuteTime": {
     "end_time": "2021-05-26T22:26:42.972699Z",
     "start_time": "2021-05-26T22:26:42.963913Z"
    }
   }
  },
  {
   "cell_type": "markdown",
   "source": [
    "For custom initialization, we want to modify these tensors in place. These are actually autograd *Variables*, so we need to get back the actual tensors with `model.fc1.weight.data`. Once we have the tensors, we can fill them with zeros (for biases) or random normal values."
   ],
   "metadata": {}
  },
  {
   "cell_type": "code",
   "execution_count": 43,
   "source": [
    "# Set biases to all zeros\r\n",
    "model.fc1.bias.data.fill_(0)"
   ],
   "outputs": [
    {
     "output_type": "execute_result",
     "data": {
      "text/plain": [
       "tensor([0., 0., 0., 0.])"
      ]
     },
     "metadata": {},
     "execution_count": 43
    }
   ],
   "metadata": {
    "ExecuteTime": {
     "end_time": "2021-05-26T22:26:43.889729Z",
     "start_time": "2021-05-26T22:26:43.883940Z"
    }
   }
  },
  {
   "cell_type": "code",
   "execution_count": 11,
   "source": [
    "# sample from random normal with standard dev = 0.01\r\n",
    "model.fc1.weight.data.normal_(std=0.01)"
   ],
   "outputs": [
    {
     "output_type": "execute_result",
     "data": {
      "text/plain": [
       "tensor([[-0.0203, -0.0168,  0.0133,  ...,  0.0156, -0.0075, -0.0128],\n",
       "        [-0.0032, -0.0066, -0.0086,  ..., -0.0201, -0.0005, -0.0060],\n",
       "        [-0.0049,  0.0144, -0.0050,  ...,  0.0054, -0.0156, -0.0020],\n",
       "        [ 0.0010,  0.0087, -0.0015,  ...,  0.0150, -0.0147, -0.0074]])"
      ]
     },
     "metadata": {},
     "execution_count": 11
    }
   ],
   "metadata": {
    "ExecuteTime": {
     "end_time": "2021-05-26T22:26:44.084097Z",
     "start_time": "2021-05-26T22:26:44.076738Z"
    }
   }
  },
  {
   "cell_type": "markdown",
   "source": [
    "### STEP 1: Forward pass\n",
    "\n",
    "Now that we have a network, let's see what happens when we pass in an image. This is called the forward pass. We're going to convert the image data into a tensor, then pass it through the operations defined by the network architecture."
   ],
   "metadata": {}
  },
  {
   "cell_type": "code",
   "execution_count": 45,
   "source": [
    "# Grab some data \r\n",
    "dataiter = iter(trainloader)\r\n",
    "images, labels = dataiter.next()"
   ],
   "outputs": [],
   "metadata": {
    "ExecuteTime": {
     "end_time": "2021-05-26T22:26:44.506324Z",
     "start_time": "2021-05-26T22:26:44.491847Z"
    }
   }
  },
  {
   "cell_type": "code",
   "execution_count": 13,
   "source": [
    "images.shape"
   ],
   "outputs": [
    {
     "output_type": "execute_result",
     "data": {
      "text/plain": [
       "torch.Size([16, 1, 28, 28])"
      ]
     },
     "metadata": {},
     "execution_count": 13
    }
   ],
   "metadata": {
    "ExecuteTime": {
     "end_time": "2021-05-26T22:26:44.596541Z",
     "start_time": "2021-05-26T22:26:44.594169Z"
    }
   }
  },
  {
   "cell_type": "code",
   "execution_count": 14,
   "source": [
    "model"
   ],
   "outputs": [
    {
     "output_type": "execute_result",
     "data": {
      "text/plain": [
       "Sequential(\n",
       "  (fc1): Linear(in_features=784, out_features=4, bias=True)\n",
       "  (relu1): ReLU()\n",
       "  (fc2): Linear(in_features=4, out_features=4, bias=True)\n",
       "  (relu2): ReLU()\n",
       "  (output): Linear(in_features=4, out_features=10, bias=True)\n",
       "  (softmax): Softmax(dim=1)\n",
       ")"
      ]
     },
     "metadata": {},
     "execution_count": 14
    }
   ],
   "metadata": {
    "ExecuteTime": {
     "end_time": "2021-05-26T22:26:44.851894Z",
     "start_time": "2021-05-26T22:26:44.845888Z"
    }
   }
  },
  {
   "cell_type": "code",
   "execution_count": 46,
   "source": [
    "# Resize images into a 1D vector, new shape is (batch size, color channels, image pixels) \r\n",
    "images.resize_(images.shape[0], 1, 784)\r\n",
    "# or images.resize_(images.shape[0], 1, 784) to not automatically get batch size"
   ],
   "outputs": [
    {
     "output_type": "execute_result",
     "data": {
      "text/plain": [
       "tensor([[[-1., -1., -1.,  ..., -1., -1., -1.]],\n",
       "\n",
       "        [[-1., -1., -1.,  ..., -1., -1., -1.]],\n",
       "\n",
       "        [[-1., -1., -1.,  ..., -1., -1., -1.]],\n",
       "\n",
       "        ...,\n",
       "\n",
       "        [[-1., -1., -1.,  ..., -1., -1., -1.]],\n",
       "\n",
       "        [[-1., -1., -1.,  ..., -1., -1., -1.]],\n",
       "\n",
       "        [[-1., -1., -1.,  ..., -1., -1., -1.]]])"
      ]
     },
     "metadata": {},
     "execution_count": 46
    }
   ],
   "metadata": {
    "ExecuteTime": {
     "end_time": "2021-05-26T22:26:46.121246Z",
     "start_time": "2021-05-26T22:26:46.112022Z"
    }
   }
  },
  {
   "cell_type": "code",
   "execution_count": 16,
   "source": [
    "img_idx = 0\r\n",
    "images[img_idx,:].shape"
   ],
   "outputs": [
    {
     "output_type": "execute_result",
     "data": {
      "text/plain": [
       "torch.Size([1, 784])"
      ]
     },
     "metadata": {},
     "execution_count": 16
    }
   ],
   "metadata": {
    "ExecuteTime": {
     "end_time": "2021-05-26T22:26:46.519895Z",
     "start_time": "2021-05-26T22:26:46.514137Z"
    }
   }
  },
  {
   "cell_type": "code",
   "execution_count": 47,
   "source": [
    "# Forward pass through the network\r\n",
    "img_idx = 0\r\n",
    "ps = model(images[img_idx,:])"
   ],
   "outputs": [],
   "metadata": {
    "ExecuteTime": {
     "end_time": "2021-05-26T22:26:47.945952Z",
     "start_time": "2021-05-26T22:26:47.888846Z"
    }
   }
  },
  {
   "cell_type": "code",
   "execution_count": 53,
   "source": [
    "img = images[img_idx]\r\n",
    "view_classify(img.view(1, 28, 28), ps)"
   ],
   "outputs": [
    {
     "output_type": "display_data",
     "data": {
      "image/png": "[encoded data removed]",
      "text/plain": [
       "<Figure size 432x648 with 2 Axes>"
      ]
     },
     "metadata": {
      "image/png": {
       "width": 349,
       "height": 195
      },
      "needs_background": "light"
     }
    }
   ],
   "metadata": {
    "ExecuteTime": {
     "end_time": "2021-05-26T22:26:50.561845Z",
     "start_time": "2021-05-26T22:26:50.411449Z"
    }
   }
  },
  {
   "cell_type": "markdown",
   "source": [
    "As you can see above, our network has basically no idea what this digit is. It's because we haven't trained it yet, all the weights are random!"
   ],
   "metadata": {}
  },
  {
   "cell_type": "markdown",
   "source": [
    "# Training Neural Networks\r\n",
    "\r\n",
    "The network we built isn't so smart, it doesn't know anything about our handwritten digits. Neural networks with non-linear activations work like universal function approximators. There is some function that maps your input to the output. For example, images of handwritten digits to class probabilities. The power of neural networks is that we can train them to approximate this function, and basically any function given enough data and compute time.\r\n",
    "\r\n",
    "<img src=\"assets/function_approx.png\" width=500px>\r\n",
    "\r\n",
    "At first the network is naive, it doesn't know the function mapping the inputs to the outputs. We train the network by showing it examples of real data, then adjusting the network parameters such that it approximates this function.\r\n",
    "\r\n",
    "To find these parameters, we need to know how poorly the network is predicting the real outputs. For this we calculate a **loss function** (also called the cost), a measure of our prediction error. For example, the mean squared loss is often used in regression and binary classification problems\r\n",
    "\r\n",
    "$$\r\n",
    "\\ell = \\frac{1}{2n}\\sum_i^n{\\left(y_i - \\hat{y}_i\\right)^2}\r\n",
    "$$\r\n",
    "\r\n",
    "where $n$ is the number of training examples, $y_i$ are the true labels, and $\\hat{y}_i$ are the predicted labels.\r\n",
    "\r\n",
    "By minimizing this loss with respect to the network parameters, we can find configurations where the loss is at a minimum and the network is able to predict the correct labels with high accuracy. We find this minimum using a process called **gradient descent**. The gradient is the slope of the loss function and points in the direction of fastest change. To get to the minimum in the least amount of time, we then want to follow the gradient (downwards). You can think of this like descending a mountain by following the steepest slope to the base.\r\n",
    "\r\n",
    "<img src='assets/gradient_descent.png' width=350px>"
   ],
   "metadata": {}
  },
  {
   "cell_type": "markdown",
   "source": [
    "## Backpropagation\r\n",
    "\r\n",
    "For single layer networks, gradient descent is simple to implement. However, it's more complicated for deeper, multilayer neural networks like the one we've built. Complicated enough that it took about 30 years before researchers figured out how to train multilayer networks, although it's straightforward once you learn about it. \r\n",
    "\r\n",
    "This is done through **backpropagation** which is really just an application of the chain rule from calculus. It's easiest to understand if we convert a two layer network into a graph representation.\r\n",
    "\r\n",
    "<img src='assets/w1_backprop_graph.png' width=400px>\r\n",
    "\r\n",
    "In the forward pass through the network, our data and operations go from right to left here. To train the weights with gradient descent, we propagate the gradient of the cost backwards through the network. Mathematically, this is really just calculating the gradient of the loss with respect to the weights using the chain rule.\r\n",
    "\r\n",
    "$$\r\n",
    "\\frac{\\partial \\ell}{\\partial w_1} = \\frac{\\partial l_1}{\\partial w_1} \\frac{\\partial s}{\\partial l_1} \\frac{\\partial l_2}{\\partial s} \\frac{\\partial \\ell}{\\partial l_2}\r\n",
    "$$\r\n",
    "\r\n",
    "We update our weights using this gradient with some learning rate $\\alpha$. \r\n",
    "\r\n",
    "$$\r\n",
    "w^\\prime = w - \\alpha \\frac{\\partial \\ell}{\\partial w}\r\n",
    "$$\r\n",
    "\r\n",
    "The learning rate is set such that the weight update steps are small enough that the iterative method settles in a minimum.\r\n",
    "\r\n",
    "The first thing we need to do for training is define our loss function. In PyTorch, you'll usually see this as `criterion`. Here we're using softmax output, so we want to use `criterion = nn.CrossEntropyLoss()` as our loss. Later when training, you use `loss = criterion(output, targets)` to calculate the actual loss.\r\n",
    "\r\n",
    "We also need to define the optimizer we're using, SGD or Adam, or something along those lines. Here I'll just use SGD with `torch.optim.SGD`, passing in the network parameters and the learning rate."
   ],
   "metadata": {}
  },
  {
   "cell_type": "markdown",
   "source": [
    "## Autograd\r\n",
    "\r\n",
    "Torch provides a module, `autograd`, for automatically calculating the gradient of tensors. It does this by keeping track of operations performed on tensors. To make sure PyTorch keeps track of operations on a tensor and calculates the gradients, you need to set `requires_grad` on a tensor. You can do this at creation with the `requires_grad` keyword, or at any time with `x.requires_grad_(True)`.\r\n",
    "\r\n",
    "You can turn off gradients for a block of code with the `torch.no_grad()` content:\r\n",
    "```python\r\n",
    "x = torch.zeros(1, requires_grad=True)\r\n",
    ">>> with torch.no_grad():\r\n",
    "...     y = x * 2\r\n",
    ">>> y.requires_grad\r\n",
    "False\r\n",
    "```\r\n",
    "\r\n",
    "Also, you can turn on or off gradients altogether with `torch.set_grad_enabled(True|False)`.\r\n",
    "\r\n",
    "The gradients are computed with respect to some variable `z` with `z.backward()`. This does a backward pass through the operations that created `z`."
   ],
   "metadata": {}
  },
  {
   "cell_type": "code",
   "execution_count": 19,
   "source": [
    "x = torch.randn(2,2, requires_grad=True)\r\n",
    "print(x)"
   ],
   "outputs": [
    {
     "output_type": "stream",
     "name": "stdout",
     "text": [
      "tensor([[-0.0486, -2.2149],\n",
      "        [ 0.2726, -1.1370]], requires_grad=True)\n"
     ]
    }
   ],
   "metadata": {
    "ExecuteTime": {
     "end_time": "2021-05-26T22:26:52.867509Z",
     "start_time": "2021-05-26T22:26:52.860629Z"
    }
   }
  },
  {
   "cell_type": "code",
   "execution_count": 20,
   "source": [
    "y = x**2\r\n",
    "print(y)"
   ],
   "outputs": [
    {
     "output_type": "stream",
     "name": "stdout",
     "text": [
      "tensor([[2.3609e-03, 4.9059e+00],\n",
      "        [7.4323e-02, 1.2928e+00]], grad_fn=<PowBackward0>)\n"
     ]
    }
   ],
   "metadata": {
    "ExecuteTime": {
     "end_time": "2021-05-26T22:26:53.383436Z",
     "start_time": "2021-05-26T22:26:53.375536Z"
    }
   }
  },
  {
   "cell_type": "markdown",
   "source": [
    "Below we can see the operation that created `y`, a power operation `PowBackward0`."
   ],
   "metadata": {}
  },
  {
   "cell_type": "code",
   "execution_count": 21,
   "source": [
    "## grad_fn shows the function that generated this variable\r\n",
    "print(y.grad_fn)"
   ],
   "outputs": [
    {
     "output_type": "stream",
     "name": "stdout",
     "text": [
      "<PowBackward0 object at 0x000001B83B8DF8B0>\n"
     ]
    }
   ],
   "metadata": {
    "ExecuteTime": {
     "end_time": "2021-05-26T22:26:53.870654Z",
     "start_time": "2021-05-26T22:26:53.867424Z"
    }
   }
  },
  {
   "cell_type": "markdown",
   "source": [
    "The autgrad module keeps track of these operations and knows how to calculate the gradient for each one. In this way, it's able to calculate the gradients for a chain of operations, with respect to any one tensor. Let's reduce the tensor `y` to a scalar value, the mean."
   ],
   "metadata": {}
  },
  {
   "cell_type": "code",
   "execution_count": 22,
   "source": [
    "z = y.mean()\r\n",
    "print(z)"
   ],
   "outputs": [
    {
     "output_type": "stream",
     "name": "stdout",
     "text": [
      "tensor(1.5688, grad_fn=<MeanBackward0>)\n"
     ]
    }
   ],
   "metadata": {
    "ExecuteTime": {
     "end_time": "2021-05-26T22:26:54.831912Z",
     "start_time": "2021-05-26T22:26:54.824631Z"
    }
   }
  },
  {
   "cell_type": "markdown",
   "source": [
    "You can check the gradients for `x` and `y` but they are empty currently."
   ],
   "metadata": {}
  },
  {
   "cell_type": "code",
   "execution_count": 23,
   "source": [
    "print(x.grad)"
   ],
   "outputs": [
    {
     "output_type": "stream",
     "name": "stdout",
     "text": [
      "None\n"
     ]
    }
   ],
   "metadata": {
    "ExecuteTime": {
     "end_time": "2021-05-26T22:26:55.546143Z",
     "start_time": "2021-05-26T22:26:55.541213Z"
    }
   }
  },
  {
   "cell_type": "markdown",
   "source": [
    "To calculate the gradients, you need to run the `.backward` method on a Variable, `z` for example. This will calculate the gradient for `z` with respect to `x`\n",
    "\n",
    "$$\n",
    "\\frac{\\partial z}{\\partial x} = \\frac{\\partial}{\\partial x}\\left[\\frac{1}{n}\\sum_i^n x_i^2\\right] = \\frac{x}{2}\n",
    "$$"
   ],
   "metadata": {}
  },
  {
   "cell_type": "code",
   "execution_count": 24,
   "source": [
    "z.backward()\r\n",
    "print(x.grad)\r\n",
    "print(x/2)"
   ],
   "outputs": [
    {
     "output_type": "stream",
     "name": "stdout",
     "text": [
      "tensor([[-0.0243, -1.1075],\n",
      "        [ 0.1363, -0.5685]])\n",
      "tensor([[-0.0243, -1.1075],\n",
      "        [ 0.1363, -0.5685]], grad_fn=<DivBackward0>)\n"
     ]
    }
   ],
   "metadata": {
    "ExecuteTime": {
     "end_time": "2021-05-26T22:26:56.607560Z",
     "start_time": "2021-05-26T22:26:56.594993Z"
    }
   }
  },
  {
   "cell_type": "markdown",
   "source": [
    "These gradients calculations are particularly useful for neural networks. For training we need the gradients of the weights with respect to the cost. With PyTorch, we run data forward through the network to calculate the cost, then, go backwards to calculate the gradients with respect to the cost. Once we have the gradients we can make a gradient descent step. "
   ],
   "metadata": {}
  },
  {
   "cell_type": "markdown",
   "source": [
    "I'll build a network with `nn.Sequential` here. Only difference from the last part is I'm not actually using softmax on the output, but instead just using the raw output from the last layer. This is because the output from softmax is a probability distribution. Often, the output will have values really close to zero or really close to one. Due to [inaccuracies with representing numbers as floating points](https://docs.python.org/3/tutorial/floatingpoint.html), computations with a softmax output can lose accuracy and become unstable. To get around this, we'll use the raw output, called the **logits**, to calculate the loss."
   ],
   "metadata": {}
  },
  {
   "cell_type": "code",
   "execution_count": 55,
   "source": [
    "# Hyperparameters for our network\r\n",
    "input_size   = 784\r\n",
    "hidden_sizes = [128, 64]\r\n",
    "output_size  = 10\r\n",
    "\r\n",
    "# Build a feed-forward network\r\n",
    "model = nn.Sequential(OrderedDict([\r\n",
    "          ('fc1', nn.Linear(input_size, hidden_sizes[0])),\r\n",
    "          ('relu1', nn.ReLU()),\r\n",
    "          ('fc2', nn.Linear(hidden_sizes[0], hidden_sizes[1])),\r\n",
    "          ('relu2', nn.ReLU()),\r\n",
    "          ('logits', nn.Linear(hidden_sizes[1], output_size))]))"
   ],
   "outputs": [],
   "metadata": {
    "ExecuteTime": {
     "end_time": "2021-05-26T22:26:56.944759Z",
     "start_time": "2021-05-26T22:26:56.936939Z"
    }
   }
  },
  {
   "cell_type": "markdown",
   "source": [
    "## Training the network!\n",
    "\n",
    "The first thing we need to do for training is define our loss function. In PyTorch, you'll usually see this as `criterion`. Here we're using softmax output, so we want to use `criterion = nn.CrossEntropyLoss()` as our loss. Later when training, you use `loss = criterion(output, targets)` to calculate the actual loss.\n",
    "\n",
    "We also need to define the optimizer we're using, SGD or Adam, or something along those lines. Here I'll just use SGD with `torch.optim.SGD`, passing in the network parameters and the learning rate."
   ],
   "metadata": {}
  },
  {
   "cell_type": "code",
   "execution_count": 26,
   "source": [
    "criterion = nn.CrossEntropyLoss()\r\n",
    "optimizer = optim.SGD(model.parameters(), lr=0.01)"
   ],
   "outputs": [],
   "metadata": {
    "ExecuteTime": {
     "end_time": "2021-05-26T22:26:57.317614Z",
     "start_time": "2021-05-26T22:26:57.313022Z"
    }
   }
  },
  {
   "cell_type": "markdown",
   "source": [
    "First, let's consider just one learning step before looping through all the data. The general process with PyTorch:\n",
    "\n",
    "* Make a forward pass through the network to get the logits \n",
    "* Use the logits to calculate the loss\n",
    "* Perform a backward pass through the network with `loss.backward()` to calculate the gradients\n",
    "* Take a step with the optimizer to update the weights\n",
    "\n",
    "Below I'll go through one training step and print out the weights and gradients so you can see how it changes."
   ],
   "metadata": {}
  },
  {
   "cell_type": "code",
   "execution_count": 56,
   "source": [
    "print('Initial weights - ', model.fc1.weight)\r\n",
    "\r\n",
    "images, labels = next(iter(trainloader))\r\n",
    "images.resize_(16, 784)\r\n",
    "\r\n",
    "# Clear the gradients, do this because gradients are accumulated\r\n",
    "optimizer.zero_grad()\r\n",
    "\r\n",
    "# Forward pass, then backward pass, then update weights\r\n",
    "output = model.forward(images)\r\n",
    "loss = criterion(output, labels)\r\n",
    "loss.backward()\r\n",
    "print('Gradient -', model.fc1.weight.grad)\r\n",
    "optimizer.step()"
   ],
   "outputs": [
    {
     "output_type": "stream",
     "name": "stdout",
     "text": [
      "Initial weights -  Parameter containing:\n",
      "tensor([[-0.0135,  0.0215,  0.0055,  ...,  0.0227, -0.0143,  0.0092],\n",
      "        [-0.0232, -0.0313, -0.0341,  ...,  0.0282, -0.0102,  0.0142],\n",
      "        [-0.0129, -0.0324, -0.0209,  ..., -0.0121, -0.0186,  0.0278],\n",
      "        ...,\n",
      "        [-0.0136, -0.0288,  0.0275,  ..., -0.0230, -0.0021,  0.0281],\n",
      "        [ 0.0167, -0.0238, -0.0089,  ..., -0.0206, -0.0240,  0.0021],\n",
      "        [ 0.0340, -0.0292, -0.0146,  ..., -0.0200, -0.0166,  0.0157]],\n",
      "       requires_grad=True)\n",
      "Gradient - tensor([[-0.0101, -0.0101, -0.0101,  ..., -0.0101, -0.0101, -0.0101],\n",
      "        [ 0.0042,  0.0042,  0.0042,  ...,  0.0042,  0.0042,  0.0042],\n",
      "        [-0.0002, -0.0002, -0.0002,  ..., -0.0002, -0.0002, -0.0002],\n",
      "        ...,\n",
      "        [-0.0040, -0.0040, -0.0040,  ..., -0.0040, -0.0040, -0.0040],\n",
      "        [ 0.0016,  0.0016,  0.0016,  ...,  0.0016,  0.0016,  0.0016],\n",
      "        [-0.0029, -0.0029, -0.0029,  ..., -0.0029, -0.0029, -0.0029]])\n"
     ]
    }
   ],
   "metadata": {
    "ExecuteTime": {
     "end_time": "2021-05-26T22:27:07.408433Z",
     "start_time": "2021-05-26T22:27:07.373358Z"
    }
   }
  },
  {
   "cell_type": "code",
   "execution_count": 57,
   "source": [
    "print('Updated weights - ', model.fc1.weight)"
   ],
   "outputs": [
    {
     "output_type": "stream",
     "name": "stdout",
     "text": [
      "Updated weights -  Parameter containing:\n",
      "tensor([[-0.0135,  0.0215,  0.0055,  ...,  0.0227, -0.0143,  0.0092],\n",
      "        [-0.0232, -0.0313, -0.0341,  ...,  0.0282, -0.0102,  0.0142],\n",
      "        [-0.0129, -0.0324, -0.0209,  ..., -0.0121, -0.0186,  0.0278],\n",
      "        ...,\n",
      "        [-0.0136, -0.0288,  0.0275,  ..., -0.0230, -0.0021,  0.0281],\n",
      "        [ 0.0167, -0.0238, -0.0089,  ..., -0.0206, -0.0240,  0.0021],\n",
      "        [ 0.0340, -0.0292, -0.0146,  ..., -0.0200, -0.0166,  0.0157]],\n",
      "       requires_grad=True)\n"
     ]
    }
   ],
   "metadata": {
    "ExecuteTime": {
     "end_time": "2021-05-26T22:27:07.915247Z",
     "start_time": "2021-05-26T22:27:07.908155Z"
    }
   }
  },
  {
   "cell_type": "markdown",
   "source": [
    "### Training for real\n",
    "\n",
    "Now we'll put this algorithm into a loop so we can go through all the images. This is fairly straightforward. We'll loop through the mini-batches in our dataset, pass the data through the network to calculate the losses, get the gradients, then run the optimizer."
   ],
   "metadata": {}
  },
  {
   "cell_type": "code",
   "execution_count": 58,
   "source": [
    "optimizer = optim.SGD(model.parameters(), lr=0.003)"
   ],
   "outputs": [],
   "metadata": {
    "ExecuteTime": {
     "end_time": "2021-05-26T22:27:08.816179Z",
     "start_time": "2021-05-26T22:27:08.812807Z"
    }
   }
  },
  {
   "cell_type": "code",
   "execution_count": 59,
   "source": [
    "epochs = 3\r\n",
    "print_every = 40\r\n",
    "\r\n",
    "for e in range(epochs):\r\n",
    "    running_loss = 0\r\n",
    "    print(f\"Epoch: {e+1}/{epochs}\")\r\n",
    "\r\n",
    "    for i, (images, labels) in enumerate(iter(trainloader)):\r\n",
    "\r\n",
    "        # Flatten MNIST images into a 784 long vector\r\n",
    "        images.resize_(images.size()[0], 784)\r\n",
    "        \r\n",
    "        optimizer.zero_grad()\r\n",
    "        \r\n",
    "        output = model.forward(images)   # 1) Forward pass\r\n",
    "        loss = criterion(output, labels) # 2) Compute loss\r\n",
    "        loss.backward()                  # 3) Backward pass\r\n",
    "        optimizer.step()                 # 4) Update model\r\n",
    "        \r\n",
    "        running_loss += loss.item()\r\n",
    "        \r\n",
    "        if i % print_every == 0:\r\n",
    "            print(f\"\\tIteration: {i}\\t Loss: {running_loss/print_every:.4f}\")\r\n",
    "            running_loss = 0"
   ],
   "outputs": [
    {
     "output_type": "stream",
     "name": "stdout",
     "text": [
      "Epoch: 1/3\n",
      "\tIteration: 0\t Loss: 0.0578\n",
      "\tIteration: 40\t Loss: 2.2735\n",
      "\tIteration: 80\t Loss: 2.2604\n",
      "\tIteration: 120\t Loss: 2.2393\n",
      "\tIteration: 160\t Loss: 2.2098\n",
      "\tIteration: 200\t Loss: 2.1702\n",
      "\tIteration: 240\t Loss: 2.1570\n",
      "\tIteration: 280\t Loss: 2.1027\n",
      "\tIteration: 320\t Loss: 2.0919\n",
      "\tIteration: 360\t Loss: 2.0511\n",
      "\tIteration: 400\t Loss: 1.9894\n",
      "\tIteration: 440\t Loss: 1.9354\n",
      "\tIteration: 480\t Loss: 1.9004\n",
      "\tIteration: 520\t Loss: 1.8788\n",
      "\tIteration: 560\t Loss: 1.7636\n",
      "\tIteration: 600\t Loss: 1.7418\n",
      "\tIteration: 640\t Loss: 1.6271\n",
      "\tIteration: 680\t Loss: 1.6139\n",
      "\tIteration: 720\t Loss: 1.5069\n",
      "\tIteration: 760\t Loss: 1.4728\n",
      "\tIteration: 800\t Loss: 1.3858\n",
      "\tIteration: 840\t Loss: 1.3452\n",
      "\tIteration: 880\t Loss: 1.2708\n",
      "\tIteration: 920\t Loss: 1.1950\n",
      "\tIteration: 960\t Loss: 1.1035\n",
      "\tIteration: 1000\t Loss: 1.1273\n",
      "\tIteration: 1040\t Loss: 1.0357\n",
      "\tIteration: 1080\t Loss: 1.0551\n",
      "\tIteration: 1120\t Loss: 0.8926\n",
      "\tIteration: 1160\t Loss: 0.9575\n",
      "\tIteration: 1200\t Loss: 0.8810\n",
      "\tIteration: 1240\t Loss: 0.9080\n",
      "\tIteration: 1280\t Loss: 0.8268\n",
      "\tIteration: 1320\t Loss: 0.8243\n",
      "\tIteration: 1360\t Loss: 0.7438\n",
      "\tIteration: 1400\t Loss: 0.7373\n",
      "\tIteration: 1440\t Loss: 0.7249\n",
      "\tIteration: 1480\t Loss: 0.6905\n",
      "\tIteration: 1520\t Loss: 0.7455\n",
      "\tIteration: 1560\t Loss: 0.7033\n",
      "\tIteration: 1600\t Loss: 0.6836\n",
      "\tIteration: 1640\t Loss: 0.6173\n",
      "\tIteration: 1680\t Loss: 0.6301\n",
      "\tIteration: 1720\t Loss: 0.6490\n",
      "\tIteration: 1760\t Loss: 0.6118\n",
      "\tIteration: 1800\t Loss: 0.5867\n",
      "\tIteration: 1840\t Loss: 0.5805\n",
      "\tIteration: 1880\t Loss: 0.6063\n",
      "\tIteration: 1920\t Loss: 0.5602\n",
      "\tIteration: 1960\t Loss: 0.5852\n",
      "\tIteration: 2000\t Loss: 0.5717\n",
      "\tIteration: 2040\t Loss: 0.5301\n",
      "\tIteration: 2080\t Loss: 0.5389\n",
      "\tIteration: 2120\t Loss: 0.5553\n",
      "\tIteration: 2160\t Loss: 0.5797\n",
      "\tIteration: 2200\t Loss: 0.4849\n",
      "\tIteration: 2240\t Loss: 0.5826\n",
      "\tIteration: 2280\t Loss: 0.5154\n",
      "\tIteration: 2320\t Loss: 0.4830\n",
      "\tIteration: 2360\t Loss: 0.5103\n",
      "\tIteration: 2400\t Loss: 0.4927\n",
      "\tIteration: 2440\t Loss: 0.5162\n",
      "\tIteration: 2480\t Loss: 0.5189\n",
      "\tIteration: 2520\t Loss: 0.5101\n",
      "\tIteration: 2560\t Loss: 0.4584\n",
      "\tIteration: 2600\t Loss: 0.4823\n",
      "\tIteration: 2640\t Loss: 0.4615\n",
      "\tIteration: 2680\t Loss: 0.4683\n",
      "\tIteration: 2720\t Loss: 0.4678\n",
      "\tIteration: 2760\t Loss: 0.4388\n",
      "\tIteration: 2800\t Loss: 0.4614\n",
      "\tIteration: 2840\t Loss: 0.4400\n",
      "\tIteration: 2880\t Loss: 0.4669\n",
      "\tIteration: 2920\t Loss: 0.4869\n",
      "\tIteration: 2960\t Loss: 0.4627\n",
      "\tIteration: 3000\t Loss: 0.4574\n",
      "\tIteration: 3040\t Loss: 0.4557\n",
      "\tIteration: 3080\t Loss: 0.4248\n",
      "\tIteration: 3120\t Loss: 0.4366\n",
      "\tIteration: 3160\t Loss: 0.4618\n",
      "\tIteration: 3200\t Loss: 0.4655\n",
      "\tIteration: 3240\t Loss: 0.3855\n",
      "\tIteration: 3280\t Loss: 0.4767\n",
      "\tIteration: 3320\t Loss: 0.4529\n",
      "\tIteration: 3360\t Loss: 0.3991\n",
      "\tIteration: 3400\t Loss: 0.3827\n",
      "\tIteration: 3440\t Loss: 0.4621\n",
      "\tIteration: 3480\t Loss: 0.4070\n",
      "\tIteration: 3520\t Loss: 0.3949\n",
      "\tIteration: 3560\t Loss: 0.4202\n",
      "\tIteration: 3600\t Loss: 0.4064\n",
      "\tIteration: 3640\t Loss: 0.3986\n",
      "\tIteration: 3680\t Loss: 0.4342\n",
      "\tIteration: 3720\t Loss: 0.4056\n",
      "Epoch: 2/3\n",
      "\tIteration: 0\t Loss: 0.0103\n",
      "\tIteration: 40\t Loss: 0.4121\n",
      "\tIteration: 80\t Loss: 0.3857\n",
      "\tIteration: 120\t Loss: 0.3655\n",
      "\tIteration: 160\t Loss: 0.4248\n",
      "\tIteration: 200\t Loss: 0.3746\n",
      "\tIteration: 240\t Loss: 0.3887\n",
      "\tIteration: 280\t Loss: 0.4369\n",
      "\tIteration: 320\t Loss: 0.3917\n",
      "\tIteration: 360\t Loss: 0.3588\n",
      "\tIteration: 400\t Loss: 0.4269\n",
      "\tIteration: 440\t Loss: 0.4193\n",
      "\tIteration: 480\t Loss: 0.4358\n",
      "\tIteration: 520\t Loss: 0.3579\n",
      "\tIteration: 560\t Loss: 0.3730\n",
      "\tIteration: 600\t Loss: 0.3997\n",
      "\tIteration: 640\t Loss: 0.3254\n",
      "\tIteration: 680\t Loss: 0.3324\n",
      "\tIteration: 720\t Loss: 0.3727\n",
      "\tIteration: 760\t Loss: 0.3526\n",
      "\tIteration: 800\t Loss: 0.3629\n",
      "\tIteration: 840\t Loss: 0.4201\n",
      "\tIteration: 880\t Loss: 0.3808\n",
      "\tIteration: 920\t Loss: 0.4082\n",
      "\tIteration: 960\t Loss: 0.3745\n",
      "\tIteration: 1000\t Loss: 0.3857\n",
      "\tIteration: 1040\t Loss: 0.3497\n",
      "\tIteration: 1080\t Loss: 0.3494\n",
      "\tIteration: 1120\t Loss: 0.3554\n",
      "\tIteration: 1160\t Loss: 0.4206\n",
      "\tIteration: 1200\t Loss: 0.3979\n",
      "\tIteration: 1240\t Loss: 0.3086\n",
      "\tIteration: 1280\t Loss: 0.3520\n",
      "\tIteration: 1320\t Loss: 0.2991\n",
      "\tIteration: 1360\t Loss: 0.4398\n",
      "\tIteration: 1400\t Loss: 0.3936\n",
      "\tIteration: 1440\t Loss: 0.3275\n",
      "\tIteration: 1480\t Loss: 0.3675\n",
      "\tIteration: 1520\t Loss: 0.3093\n",
      "\tIteration: 1560\t Loss: 0.3362\n",
      "\tIteration: 1600\t Loss: 0.3368\n",
      "\tIteration: 1640\t Loss: 0.3490\n",
      "\tIteration: 1680\t Loss: 0.3358\n",
      "\tIteration: 1720\t Loss: 0.3744\n",
      "\tIteration: 1760\t Loss: 0.3538\n",
      "\tIteration: 1800\t Loss: 0.3555\n",
      "\tIteration: 1840\t Loss: 0.3777\n",
      "\tIteration: 1880\t Loss: 0.3918\n",
      "\tIteration: 1920\t Loss: 0.3134\n",
      "\tIteration: 1960\t Loss: 0.4512\n",
      "\tIteration: 2000\t Loss: 0.3537\n",
      "\tIteration: 2040\t Loss: 0.3139\n",
      "\tIteration: 2080\t Loss: 0.3403\n",
      "\tIteration: 2120\t Loss: 0.3301\n",
      "\tIteration: 2160\t Loss: 0.3404\n",
      "\tIteration: 2200\t Loss: 0.3496\n",
      "\tIteration: 2240\t Loss: 0.3441\n",
      "\tIteration: 2280\t Loss: 0.3300\n",
      "\tIteration: 2320\t Loss: 0.3471\n",
      "\tIteration: 2360\t Loss: 0.3624\n",
      "\tIteration: 2400\t Loss: 0.3338\n",
      "\tIteration: 2440\t Loss: 0.3653\n",
      "\tIteration: 2480\t Loss: 0.3615\n",
      "\tIteration: 2520\t Loss: 0.3123\n",
      "\tIteration: 2560\t Loss: 0.3559\n",
      "\tIteration: 2600\t Loss: 0.4003\n",
      "\tIteration: 2640\t Loss: 0.3420\n",
      "\tIteration: 2680\t Loss: 0.3025\n",
      "\tIteration: 2720\t Loss: 0.3319\n",
      "\tIteration: 2760\t Loss: 0.3741\n",
      "\tIteration: 2800\t Loss: 0.3836\n",
      "\tIteration: 2840\t Loss: 0.3704\n",
      "\tIteration: 2880\t Loss: 0.3189\n",
      "\tIteration: 2920\t Loss: 0.3804\n",
      "\tIteration: 2960\t Loss: 0.3369\n",
      "\tIteration: 3000\t Loss: 0.2850\n",
      "\tIteration: 3040\t Loss: 0.3092\n",
      "\tIteration: 3080\t Loss: 0.3049\n",
      "\tIteration: 3120\t Loss: 0.3019\n",
      "\tIteration: 3160\t Loss: 0.3266\n",
      "\tIteration: 3200\t Loss: 0.3406\n",
      "\tIteration: 3240\t Loss: 0.2958\n",
      "\tIteration: 3280\t Loss: 0.3090\n",
      "\tIteration: 3320\t Loss: 0.3129\n",
      "\tIteration: 3360\t Loss: 0.3306\n",
      "\tIteration: 3400\t Loss: 0.2888\n",
      "\tIteration: 3440\t Loss: 0.2899\n",
      "\tIteration: 3480\t Loss: 0.3170\n",
      "\tIteration: 3520\t Loss: 0.3123\n",
      "\tIteration: 3560\t Loss: 0.3129\n",
      "\tIteration: 3600\t Loss: 0.3523\n",
      "\tIteration: 3640\t Loss: 0.3609\n",
      "\tIteration: 3680\t Loss: 0.2937\n",
      "\tIteration: 3720\t Loss: 0.3566\n",
      "Epoch: 3/3\n",
      "\tIteration: 0\t Loss: 0.0060\n",
      "\tIteration: 40\t Loss: 0.4220\n",
      "\tIteration: 80\t Loss: 0.3938\n",
      "\tIteration: 120\t Loss: 0.2978\n",
      "\tIteration: 160\t Loss: 0.3149\n",
      "\tIteration: 200\t Loss: 0.3414\n",
      "\tIteration: 240\t Loss: 0.3587\n",
      "\tIteration: 280\t Loss: 0.2889\n",
      "\tIteration: 320\t Loss: 0.2986\n",
      "\tIteration: 360\t Loss: 0.2511\n",
      "\tIteration: 400\t Loss: 0.3585\n",
      "\tIteration: 440\t Loss: 0.3588\n",
      "\tIteration: 480\t Loss: 0.3405\n",
      "\tIteration: 520\t Loss: 0.2634\n",
      "\tIteration: 560\t Loss: 0.3076\n",
      "\tIteration: 600\t Loss: 0.2689\n",
      "\tIteration: 640\t Loss: 0.3059\n",
      "\tIteration: 680\t Loss: 0.3232\n",
      "\tIteration: 720\t Loss: 0.3001\n",
      "\tIteration: 760\t Loss: 0.2993\n",
      "\tIteration: 800\t Loss: 0.3026\n",
      "\tIteration: 840\t Loss: 0.2468\n",
      "\tIteration: 880\t Loss: 0.2875\n",
      "\tIteration: 920\t Loss: 0.3281\n",
      "\tIteration: 960\t Loss: 0.2753\n",
      "\tIteration: 1000\t Loss: 0.3616\n",
      "\tIteration: 1040\t Loss: 0.2636\n",
      "\tIteration: 1080\t Loss: 0.2798\n",
      "\tIteration: 1120\t Loss: 0.3267\n",
      "\tIteration: 1160\t Loss: 0.3052\n",
      "\tIteration: 1200\t Loss: 0.2954\n",
      "\tIteration: 1240\t Loss: 0.3310\n",
      "\tIteration: 1280\t Loss: 0.3265\n",
      "\tIteration: 1320\t Loss: 0.2901\n",
      "\tIteration: 1360\t Loss: 0.3024\n",
      "\tIteration: 1400\t Loss: 0.3131\n",
      "\tIteration: 1440\t Loss: 0.2955\n",
      "\tIteration: 1480\t Loss: 0.3519\n",
      "\tIteration: 1520\t Loss: 0.3451\n",
      "\tIteration: 1560\t Loss: 0.3532\n",
      "\tIteration: 1600\t Loss: 0.3125\n",
      "\tIteration: 1640\t Loss: 0.3448\n",
      "\tIteration: 1680\t Loss: 0.3046\n",
      "\tIteration: 1720\t Loss: 0.2862\n",
      "\tIteration: 1760\t Loss: 0.3659\n",
      "\tIteration: 1800\t Loss: 0.2938\n",
      "\tIteration: 1840\t Loss: 0.3152\n",
      "\tIteration: 1880\t Loss: 0.2733\n",
      "\tIteration: 1920\t Loss: 0.3078\n",
      "\tIteration: 1960\t Loss: 0.3236\n",
      "\tIteration: 2000\t Loss: 0.2593\n",
      "\tIteration: 2040\t Loss: 0.2969\n",
      "\tIteration: 2080\t Loss: 0.3358\n",
      "\tIteration: 2120\t Loss: 0.3609\n",
      "\tIteration: 2160\t Loss: 0.2837\n",
      "\tIteration: 2200\t Loss: 0.2867\n",
      "\tIteration: 2240\t Loss: 0.2777\n",
      "\tIteration: 2280\t Loss: 0.3594\n",
      "\tIteration: 2320\t Loss: 0.3246\n",
      "\tIteration: 2360\t Loss: 0.2623\n",
      "\tIteration: 2400\t Loss: 0.2780\n",
      "\tIteration: 2440\t Loss: 0.2409\n",
      "\tIteration: 2480\t Loss: 0.3181\n",
      "\tIteration: 2520\t Loss: 0.2484\n",
      "\tIteration: 2560\t Loss: 0.2587\n",
      "\tIteration: 2600\t Loss: 0.3201\n",
      "\tIteration: 2640\t Loss: 0.2685\n",
      "\tIteration: 2680\t Loss: 0.2703\n",
      "\tIteration: 2720\t Loss: 0.2636\n",
      "\tIteration: 2760\t Loss: 0.2760\n",
      "\tIteration: 2800\t Loss: 0.3010\n",
      "\tIteration: 2840\t Loss: 0.2957\n",
      "\tIteration: 2880\t Loss: 0.4112\n",
      "\tIteration: 2920\t Loss: 0.2412\n",
      "\tIteration: 2960\t Loss: 0.3020\n",
      "\tIteration: 3000\t Loss: 0.3172\n",
      "\tIteration: 3040\t Loss: 0.2483\n",
      "\tIteration: 3080\t Loss: 0.2640\n",
      "\tIteration: 3120\t Loss: 0.2370\n",
      "\tIteration: 3160\t Loss: 0.2633\n",
      "\tIteration: 3200\t Loss: 0.2706\n",
      "\tIteration: 3240\t Loss: 0.2648\n",
      "\tIteration: 3280\t Loss: 0.3117\n",
      "\tIteration: 3320\t Loss: 0.3054\n",
      "\tIteration: 3360\t Loss: 0.2706\n",
      "\tIteration: 3400\t Loss: 0.2793\n",
      "\tIteration: 3440\t Loss: 0.2803\n",
      "\tIteration: 3480\t Loss: 0.3040\n",
      "\tIteration: 3520\t Loss: 0.3863\n",
      "\tIteration: 3560\t Loss: 0.3159\n",
      "\tIteration: 3600\t Loss: 0.3145\n",
      "\tIteration: 3640\t Loss: 0.2841\n",
      "\tIteration: 3680\t Loss: 0.2849\n",
      "\tIteration: 3720\t Loss: 0.2641\n"
     ]
    }
   ],
   "metadata": {
    "ExecuteTime": {
     "end_time": "2021-05-26T22:27:36.083537Z",
     "start_time": "2021-05-26T22:27:09.280769Z"
    }
   }
  },
  {
   "cell_type": "markdown",
   "source": [
    "With the network trained, we can check out it's predictions."
   ],
   "metadata": {}
  },
  {
   "cell_type": "code",
   "execution_count": 68,
   "source": [
    "images, labels = next(iter(trainloader))\r\n",
    "\r\n",
    "img = images[0].view(1, 784)\r\n",
    "# Turn off gradients to speed up this part\r\n",
    "with torch.no_grad():\r\n",
    "    logits = model.forward(img)\r\n",
    "\r\n",
    "# Output of the network are logits, need to take softmax for probabilities\r\n",
    "ps = F.softmax(logits, dim=1)\r\n",
    "view_classify(img.view(1, 28, 28), ps)"
   ],
   "outputs": [
    {
     "output_type": "display_data",
     "data": {
      "image/png": "[encoded data removed]",
      "text/plain": [
       "<Figure size 432x648 with 2 Axes>"
      ]
     },
     "metadata": {
      "image/png": {
       "width": 349,
       "height": 195
      },
      "needs_background": "light"
     }
    }
   ],
   "metadata": {
    "ExecuteTime": {
     "end_time": "2021-05-26T22:30:00.206666Z",
     "start_time": "2021-05-26T22:29:59.954325Z"
    }
   }
  },
  {
   "cell_type": "code",
   "execution_count": 73,
   "source": [
    "ps"
   ],
   "outputs": [
    {
     "output_type": "execute_result",
     "data": {
      "text/plain": [
       "tensor([[1.9279e-05, 7.6192e-03, 6.4478e-02, 9.1665e-01, 9.2491e-05, 1.0381e-03,\n",
       "         5.9916e-05, 1.7749e-05, 9.9559e-03, 7.3765e-05]])"
      ]
     },
     "metadata": {},
     "execution_count": 73
    }
   ],
   "metadata": {}
  },
  {
   "cell_type": "code",
   "execution_count": 72,
   "source": [
    "#saving model\r\n",
    "import joblib\r\n",
    "model_classifier = 'DEEP_SGD.sav'\r\n",
    "joblib.dump(logits,model_classifier)"
   ],
   "outputs": [
    {
     "output_type": "execute_result",
     "data": {
      "text/plain": [
       "['DEEP_SGD.sav']"
      ]
     },
     "metadata": {},
     "execution_count": 72
    }
   ],
   "metadata": {}
  },
  {
   "cell_type": "code",
   "execution_count": null,
   "source": [
    "#loading model\r\n",
    "model_classifier = joblib.load(DEEP_SGD.sav)\r\n",
    "result = model_classifier.score()"
   ],
   "outputs": [],
   "metadata": {}
  },
  {
   "cell_type": "markdown",
   "source": [
    "Now our network is brilliant. It can accurately predict the digits in our images."
   ],
   "metadata": {}
  },
  {
   "cell_type": "markdown",
   "source": [
    "<div style=\"background:#222222; color:#ffffff; padding:20px\">\n",
    "    <h2 align=\"center\" style=\"color:#01ff84\">EMNIST Classification: Exercise</h2>\n",
    "<div>"
   ],
   "metadata": {}
  },
  {
   "cell_type": "markdown",
   "source": [
    "<div style=\"background:#222222; color:#ffffff; padding:20px\">\n",
    "  <h3 style=\"color:#01ff84; margin-top:4px\">Exercise 1:</h3>\n",
    "  <p>Now it's your turn to build a simple network, use any method I've covered so far. In the next notebook, you'll learn how to train a network so it can make good predictions.</p>\n",
    "  <p>Build a network to classify the MNIST images with 3 hidden layers. Use 16 units in the first hidden layer, 32 units in the second layer, and 8 units in the third layer. Each hidden layer should have a ReLU activation function, and use softmax on the output layer.</p>\n",
    "<div>"
   ],
   "metadata": {}
  },
  {
   "cell_type": "code",
   "execution_count": 32,
   "source": [
    "## TODO: Your network here\r\n",
    "model = "
   ],
   "outputs": [
    {
     "output_type": "error",
     "ename": "SyntaxError",
     "evalue": "invalid syntax (<ipython-input-32-9b92d9c61abb>, line 2)",
     "traceback": [
      "\u001b[1;36m  File \u001b[1;32m\"<ipython-input-32-9b92d9c61abb>\"\u001b[1;36m, line \u001b[1;32m2\u001b[0m\n\u001b[1;33m    model =\u001b[0m\n\u001b[1;37m            ^\u001b[0m\n\u001b[1;31mSyntaxError\u001b[0m\u001b[1;31m:\u001b[0m invalid syntax\n"
     ]
    }
   ],
   "metadata": {}
  },
  {
   "cell_type": "code",
   "execution_count": null,
   "source": [
    "# Run this cell with your model to make sure it works\r\n",
    "# Forward pass through the network and display output\r\n",
    "images, labels = next(iter(trainloader))\r\n",
    "images.resize_(images.shape[0], 1, 784)\r\n",
    "ps = model.forward(images[0,:])\r\n",
    "view_classify(images[0].view(1, 28, 28), ps)"
   ],
   "outputs": [
    {
     "output_type": "display_data",
     "data": {
      "image/png": "[encoded data removed]",
      "text/plain": [
       "<Figure size 432x648 with 2 Axes>"
      ]
     },
     "metadata": {
      "image/png": {
       "height": 195,
       "width": 349
      },
      "needs_background": "light"
     }
    }
   ],
   "metadata": {}
  },
  {
   "cell_type": "markdown",
   "source": [
    "<div style=\"background:#222222; color:#ffffff; padding:20px\">\n",
    "  <h3 style=\"color:#01ff84; margin-top:4px\">Exercise 2:</h3>\n",
    "  <p>Train your network implementing the Pytorch training loop and <strong style=\"color:#01ff84\">after each epoch, use the model for predicting the test (validation) MNIST data.</strong></p>\n",
    "  <p>Note: If your model does not fit with the final softmax layer, you can remove this layer.</p>\n",
    "  <p>Hint: <a href=\"https://discuss.pytorch.org/t/training-loop-checking-validation-accuracy/78399\">Training loop checking validation accuracy\n",
    "</a></p>\n",
    "  <p>Research about <code>model.train()</code>, <code>model.eval()</code> and <code>with torch.no_grad()</code> in Pytorch.\n",
    "<div>"
   ],
   "metadata": {}
  },
  {
   "cell_type": "code",
   "execution_count": null,
   "source": [
    "## TODO: Your training loop here"
   ],
   "outputs": [],
   "metadata": {}
  },
  {
   "cell_type": "code",
   "execution_count": null,
   "source": [
    "# Run this cell with your model to make sure it works and predicts well for the validation data\n",
    "images, labels = next(iter(testloader))\n",
    "images.resize_(images.shape[0], 1, 784)\n",
    "ps = model.forward(images[0,:])\n",
    "view_classify(images[0].view(1, 28, 28), ps)"
   ],
   "outputs": [],
   "metadata": {}
  },
  {
   "cell_type": "markdown",
   "source": [
    "<div style=\"background:#222222; color:#ffffff; padding:20px\">\n",
    "  <h3 style=\"color:#01ff84; margin-top:4px\">Exercise 3:</h3>\n",
    "  <p>Write the code for adding <strong style=\"color:#01ff84\">Early Stopping with patience = 2</strong> to the training loop from scratch.</p>\n",
    "  <p><strong style=\"color:#01ff84\">Hint:</strong> Monitor the Validation loss every epoch, and if in 2 epochs, the validation loss does not improve, stop the training loop with <code>break</code>.</p>\n",
    "<div>"
   ],
   "metadata": {}
  },
  {
   "cell_type": "code",
   "execution_count": null,
   "source": [
    "## TODO: Your training loop here"
   ],
   "outputs": [],
   "metadata": {}
  },
  {
   "cell_type": "markdown",
   "source": [
    "<div style=\"background:#222222; color:#ffffff; padding:20px\">\n",
    "  <h3 style=\"color:#01ff84; margin-top:4px\">Optional:</h3>\n",
    "  <p>Don't you want to use MNIST? Try EMNIST instead! Maybe using the first 10 letters of the alphabet!</p>\n"
   ],
   "metadata": {}
  },
  {
   "cell_type": "code",
   "execution_count": null,
   "source": [
    "# we will need a custom visualization function\n",
    "def view_classify_emnist(img, ps):\n",
    "\n",
    "    ps = ps.data.numpy().squeeze()\n",
    "\n",
    "    fig, (ax1, ax2) = plt.subplots(figsize=(6,9), ncols=2)\n",
    "    ax1.imshow(img.resize_(1, 28, 28).numpy().squeeze())\n",
    "    ax1.axis('off')\n",
    "    ax2.barh(list(\"abcdefghij\"), ps)\n",
    "    ax2.set_aspect(0.1)\n",
    "    ax2.set_yticks(np.arange(10))\n",
    "    ax2.set_yticklabels(np.arange(10))\n",
    "    ax2.set_title('Class Probability')\n",
    "    ax2.set_xlim(0, 1.1)"
   ],
   "outputs": [],
   "metadata": {
    "ExecuteTime": {
     "end_time": "2021-05-26T22:35:26.981584Z",
     "start_time": "2021-05-26T22:35:26.954522Z"
    }
   }
  },
  {
   "cell_type": "code",
   "execution_count": null,
   "source": [
    "# Define a transform to normalize the data (Preprocessing)\n",
    "transform = transforms.Compose([transforms.ToTensor(), transforms.Normalize((0.5), (0.5)) ])\n",
    "def my_collate(batch):\n",
    "    modified_batch = []\n",
    "    for item in batch:\n",
    "        image, label = item\n",
    "        if label < 10: # only the first ten letters\n",
    "            modified_batch.append(item)\n",
    "    return torch.utils.data._utils.collate.default_collate(modified_batch)\n",
    "\n",
    "\n",
    "# Download and load the training data\n",
    "trainset    = datasets.EMNIST('EMNIST_data/', split=\"letters\", download=True, train=True, transform=transform)\n",
    "trainloader = torch.utils.data.DataLoader(trainset, batch_size=16, shuffle=True, collate_fn=my_collate)\n",
    "\n",
    "# Download and load the test data\n",
    "testset    = datasets.EMNIST('EMNIST_data/', split=\"letters\", download=True, train=False, transform=transform)\n",
    "testloader = torch.utils.data.DataLoader(testset, batch_size=16, shuffle=True, collate_fn=my_collate)"
   ],
   "outputs": [],
   "metadata": {
    "ExecuteTime": {
     "end_time": "2021-05-26T22:50:57.571260Z",
     "start_time": "2021-05-26T22:50:57.322172Z"
    }
   }
  },
  {
   "cell_type": "code",
   "execution_count": null,
   "source": [
    "dataiter = iter(trainloader)\n",
    "images, labels = dataiter.next()"
   ],
   "outputs": [],
   "metadata": {
    "ExecuteTime": {
     "end_time": "2021-05-26T22:51:02.493175Z",
     "start_time": "2021-05-26T22:51:02.464301Z"
    }
   }
  },
  {
   "cell_type": "code",
   "execution_count": null,
   "source": [
    "plt.imshow(images[5].numpy().squeeze(), cmap='Greys_r');"
   ],
   "outputs": [
    {
     "output_type": "display_data",
     "data": {
      "image/png": "[encoded data removed]",
      "text/plain": [
       "<Figure size 432x288 with 1 Axes>"
      ]
     },
     "metadata": {
      "image/png": {
       "height": 248,
       "width": 251
      },
      "needs_background": "light"
     }
    }
   ],
   "metadata": {
    "ExecuteTime": {
     "end_time": "2021-05-26T22:51:03.118421Z",
     "start_time": "2021-05-26T22:51:02.978678Z"
    }
   }
  },
  {
   "cell_type": "code",
   "execution_count": null,
   "source": [
    "labels"
   ],
   "outputs": [
    {
     "output_type": "execute_result",
     "data": {
      "text/plain": [
       "tensor([1, 9, 6, 7, 5, 1, 9, 3])"
      ]
     },
     "metadata": {},
     "execution_count": 53
    }
   ],
   "metadata": {
    "ExecuteTime": {
     "end_time": "2021-05-26T22:51:06.653639Z",
     "start_time": "2021-05-26T22:51:06.647991Z"
    }
   }
  },
  {
   "cell_type": "code",
   "execution_count": null,
   "source": [],
   "outputs": [],
   "metadata": {}
  }
 ],
 "metadata": {
  "kernelspec": {
   "name": "python3",
   "display_name": "Python 3.8.11 64-bit ('deep': conda)"
  },
  "language_info": {
   "name": "python",
   "version": "3.8.11",
   "mimetype": "text/x-python",
   "codemirror_mode": {
    "name": "ipython",
    "version": 3
   },
   "pygments_lexer": "ipython3",
   "nbconvert_exporter": "python",
   "file_extension": ".py"
  },
  "varInspector": {
   "cols": {
    "lenName": 16,
    "lenType": 16,
    "lenVar": 40
   },
   "kernels_config": {
    "python": {
     "delete_cmd_postfix": "",
     "delete_cmd_prefix": "del ",
     "library": "var_list.py",
     "varRefreshCmd": "print(var_dic_list())"
    },
    "r": {
     "delete_cmd_postfix": ") ",
     "delete_cmd_prefix": "rm(",
     "library": "var_list.r",
     "varRefreshCmd": "cat(var_dic_list()) "
    }
   },
   "types_to_exclude": [
    "module",
    "function",
    "builtin_function_or_method",
    "instance",
    "_Feature"
   ],
   "window_display": false
  },
  "interpreter": {
   "hash": "06eb6164245d5dc111fc587aaaaee211f1064893786d78224bfe45d400023d11"
  }
 },
 "nbformat": 4,
 "nbformat_minor": 2
}