{
 "cells": [
  {
   "cell_type": "markdown",
   "metadata": {
    "deletable": false,
    "editable": false,
    "nbgrader": {
     "cell_type": "markdown",
     "checksum": "89eed0907f0119c6c6f6ef390cc54c08",
     "grade": false,
     "grade_id": "cell-33d26828be6e1038",
     "locked": true,
     "schema_version": 3,
     "solution": false,
     "task": false
    }
   },
   "source": [
    "# Exercise 10: Hierarchical clustering of the grain data\n",
    "\n",
    "In the video, you learnt that the SciPy `linkage()` function performs hierarchical clustering on an array of samples.  Use the `linkage()` function to obtain a hierarchical clustering of the grain samples, and use `dendrogram()` to visualize the result.  A sample of the grain measurements is provided in the array `samples`, while the variety of each grain sample is given by the list `varieties`.\n"
   ]
  },
  {
   "cell_type": "markdown",
   "metadata": {
    "deletable": false,
    "editable": false,
    "nbgrader": {
     "cell_type": "markdown",
     "checksum": "a6edca00fa71dea4330eb2c2ea98df0c",
     "grade": false,
     "grade_id": "cell-f184e018b98e7d52",
     "locked": true,
     "schema_version": 3,
     "solution": false,
     "task": false
    }
   },
   "source": [
    "**Step 1:** Import:\n",
    "\n",
    " + `linkage` and `dendrogram` from `scipy.cluster.hierarchy`.\n",
    " + `matplotlib.pyplot` as `plt`.\n",
    " + `pandas`\n",
    " + `load_iris` and `train_test_split`"
   ]
  },
  {
   "cell_type": "code",
   "execution_count": 185,
   "metadata": {},
   "outputs": [],
   "source": [
    "import pandas as pd\n",
    "import numpy as np\n",
    "\n",
    "from sklearn.datasets import load_iris\n",
    "from sklearn.model_selection import train_test_split\n",
    "from scipy.cluster.hierarchy import linkage, dendrogram\n",
    "\n",
    "import matplotlib.pyplot as plt\n"
   ]
  },
  {
   "cell_type": "markdown",
   "metadata": {
    "deletable": false,
    "editable": false,
    "nbgrader": {
     "cell_type": "markdown",
     "checksum": "a13bdd9c406d550c5d3a2c33173a71d4",
     "grade": false,
     "grade_id": "cell-5d407d7746dba37b",
     "locked": true,
     "schema_version": 3,
     "solution": false,
     "task": false
    }
   },
   "source": [
    "**Step 2:** Load the dataset _(done for you)_."
   ]
  },
  {
   "cell_type": "code",
   "execution_count": 186,
   "metadata": {
    "exercise": false
   },
   "outputs": [],
   "source": [
    "\n",
    "iris_data = load_iris()\n"
   ]
  },
  {
   "cell_type": "code",
   "execution_count": 187,
   "metadata": {},
   "outputs": [],
   "source": [
    "\n",
    "#iris_data"
   ]
  },
  {
   "cell_type": "code",
   "execution_count": 188,
   "metadata": {},
   "outputs": [
    {
     "output_type": "error",
     "ename": "KeyError",
     "evalue": "'target'",
     "traceback": [
      "\u001b[1;31m---------------------------------------------------------------------------\u001b[0m",
      "\u001b[1;31mKeyError\u001b[0m                                  Traceback (most recent call last)",
      "\u001b[1;32m~\\anaconda3\\envs\\wojtek\\lib\\site-packages\\pandas\\core\\indexes\\base.py\u001b[0m in \u001b[0;36mget_loc\u001b[1;34m(self, key, method, tolerance)\u001b[0m\n\u001b[0;32m   3079\u001b[0m             \u001b[1;32mtry\u001b[0m\u001b[1;33m:\u001b[0m\u001b[1;33m\u001b[0m\u001b[1;33m\u001b[0m\u001b[0m\n\u001b[1;32m-> 3080\u001b[1;33m                 \u001b[1;32mreturn\u001b[0m \u001b[0mself\u001b[0m\u001b[1;33m.\u001b[0m\u001b[0m_engine\u001b[0m\u001b[1;33m.\u001b[0m\u001b[0mget_loc\u001b[0m\u001b[1;33m(\u001b[0m\u001b[0mcasted_key\u001b[0m\u001b[1;33m)\u001b[0m\u001b[1;33m\u001b[0m\u001b[1;33m\u001b[0m\u001b[0m\n\u001b[0m\u001b[0;32m   3081\u001b[0m             \u001b[1;32mexcept\u001b[0m \u001b[0mKeyError\u001b[0m \u001b[1;32mas\u001b[0m \u001b[0merr\u001b[0m\u001b[1;33m:\u001b[0m\u001b[1;33m\u001b[0m\u001b[1;33m\u001b[0m\u001b[0m\n",
      "\u001b[1;32mpandas\\_libs\\index.pyx\u001b[0m in \u001b[0;36mpandas._libs.index.IndexEngine.get_loc\u001b[1;34m()\u001b[0m\n",
      "\u001b[1;32mpandas\\_libs\\index.pyx\u001b[0m in \u001b[0;36mpandas._libs.index.IndexEngine.get_loc\u001b[1;34m()\u001b[0m\n",
      "\u001b[1;32mpandas\\_libs\\hashtable_class_helper.pxi\u001b[0m in \u001b[0;36mpandas._libs.hashtable.PyObjectHashTable.get_item\u001b[1;34m()\u001b[0m\n",
      "\u001b[1;32mpandas\\_libs\\hashtable_class_helper.pxi\u001b[0m in \u001b[0;36mpandas._libs.hashtable.PyObjectHashTable.get_item\u001b[1;34m()\u001b[0m\n",
      "\u001b[1;31mKeyError\u001b[0m: 'target'",
      "\nThe above exception was the direct cause of the following exception:\n",
      "\u001b[1;31mKeyError\u001b[0m                                  Traceback (most recent call last)",
      "\u001b[1;32m<ipython-input-188-d2ef4420fbad>\u001b[0m in \u001b[0;36m<module>\u001b[1;34m\u001b[0m\n\u001b[1;32m----> 1\u001b[1;33m \u001b[0mdf\u001b[0m\u001b[1;33m[\u001b[0m\u001b[1;34m\"target\"\u001b[0m\u001b[1;33m]\u001b[0m\u001b[1;33m\u001b[0m\u001b[1;33m\u001b[0m\u001b[0m\n\u001b[0m",
      "\u001b[1;32m~\\anaconda3\\envs\\wojtek\\lib\\site-packages\\pandas\\core\\frame.py\u001b[0m in \u001b[0;36m__getitem__\u001b[1;34m(self, key)\u001b[0m\n\u001b[0;32m   3022\u001b[0m             \u001b[1;32mif\u001b[0m \u001b[0mself\u001b[0m\u001b[1;33m.\u001b[0m\u001b[0mcolumns\u001b[0m\u001b[1;33m.\u001b[0m\u001b[0mnlevels\u001b[0m \u001b[1;33m>\u001b[0m \u001b[1;36m1\u001b[0m\u001b[1;33m:\u001b[0m\u001b[1;33m\u001b[0m\u001b[1;33m\u001b[0m\u001b[0m\n\u001b[0;32m   3023\u001b[0m                 \u001b[1;32mreturn\u001b[0m \u001b[0mself\u001b[0m\u001b[1;33m.\u001b[0m\u001b[0m_getitem_multilevel\u001b[0m\u001b[1;33m(\u001b[0m\u001b[0mkey\u001b[0m\u001b[1;33m)\u001b[0m\u001b[1;33m\u001b[0m\u001b[1;33m\u001b[0m\u001b[0m\n\u001b[1;32m-> 3024\u001b[1;33m             \u001b[0mindexer\u001b[0m \u001b[1;33m=\u001b[0m \u001b[0mself\u001b[0m\u001b[1;33m.\u001b[0m\u001b[0mcolumns\u001b[0m\u001b[1;33m.\u001b[0m\u001b[0mget_loc\u001b[0m\u001b[1;33m(\u001b[0m\u001b[0mkey\u001b[0m\u001b[1;33m)\u001b[0m\u001b[1;33m\u001b[0m\u001b[1;33m\u001b[0m\u001b[0m\n\u001b[0m\u001b[0;32m   3025\u001b[0m             \u001b[1;32mif\u001b[0m \u001b[0mis_integer\u001b[0m\u001b[1;33m(\u001b[0m\u001b[0mindexer\u001b[0m\u001b[1;33m)\u001b[0m\u001b[1;33m:\u001b[0m\u001b[1;33m\u001b[0m\u001b[1;33m\u001b[0m\u001b[0m\n\u001b[0;32m   3026\u001b[0m                 \u001b[0mindexer\u001b[0m \u001b[1;33m=\u001b[0m \u001b[1;33m[\u001b[0m\u001b[0mindexer\u001b[0m\u001b[1;33m]\u001b[0m\u001b[1;33m\u001b[0m\u001b[1;33m\u001b[0m\u001b[0m\n",
      "\u001b[1;32m~\\anaconda3\\envs\\wojtek\\lib\\site-packages\\pandas\\core\\indexes\\base.py\u001b[0m in \u001b[0;36mget_loc\u001b[1;34m(self, key, method, tolerance)\u001b[0m\n\u001b[0;32m   3080\u001b[0m                 \u001b[1;32mreturn\u001b[0m \u001b[0mself\u001b[0m\u001b[1;33m.\u001b[0m\u001b[0m_engine\u001b[0m\u001b[1;33m.\u001b[0m\u001b[0mget_loc\u001b[0m\u001b[1;33m(\u001b[0m\u001b[0mcasted_key\u001b[0m\u001b[1;33m)\u001b[0m\u001b[1;33m\u001b[0m\u001b[1;33m\u001b[0m\u001b[0m\n\u001b[0;32m   3081\u001b[0m             \u001b[1;32mexcept\u001b[0m \u001b[0mKeyError\u001b[0m \u001b[1;32mas\u001b[0m \u001b[0merr\u001b[0m\u001b[1;33m:\u001b[0m\u001b[1;33m\u001b[0m\u001b[1;33m\u001b[0m\u001b[0m\n\u001b[1;32m-> 3082\u001b[1;33m                 \u001b[1;32mraise\u001b[0m \u001b[0mKeyError\u001b[0m\u001b[1;33m(\u001b[0m\u001b[0mkey\u001b[0m\u001b[1;33m)\u001b[0m \u001b[1;32mfrom\u001b[0m \u001b[0merr\u001b[0m\u001b[1;33m\u001b[0m\u001b[1;33m\u001b[0m\u001b[0m\n\u001b[0m\u001b[0;32m   3083\u001b[0m \u001b[1;33m\u001b[0m\u001b[0m\n\u001b[0;32m   3084\u001b[0m         \u001b[1;32mif\u001b[0m \u001b[0mtolerance\u001b[0m \u001b[1;32mis\u001b[0m \u001b[1;32mnot\u001b[0m \u001b[1;32mNone\u001b[0m\u001b[1;33m:\u001b[0m\u001b[1;33m\u001b[0m\u001b[1;33m\u001b[0m\u001b[0m\n",
      "\u001b[1;31mKeyError\u001b[0m: 'target'"
     ]
    }
   ],
   "source": [
    "df[\"target\"]"
   ]
  },
  {
   "cell_type": "code",
   "execution_count": 180,
   "metadata": {
    "deletable": false,
    "nbgrader": {
     "cell_type": "code",
     "checksum": "f54a03afd97d0d9a682f62d00c5f8dc2",
     "grade": false,
     "grade_id": "cell-5b5863d4b8ed6db7",
     "locked": false,
     "schema_version": 3,
     "solution": true,
     "task": false
    }
   },
   "outputs": [
    {
     "output_type": "execute_result",
     "data": {
      "text/plain": [
       "     sepal length  sepal width  petal length  petal width  target       class\n",
       "121           5.6          2.8           4.9          2.0       2   virginica\n",
       "47            4.6          3.2           1.4          0.2       0      setosa\n",
       "67            5.8          2.7           4.1          1.0       1  versicolor\n",
       "119           6.0          2.2           5.0          1.5       2   virginica\n",
       "29            4.7          3.2           1.6          0.2       0      setosa\n",
       "55            5.7          2.8           4.5          1.3       1  versicolor\n",
       "80            5.5          2.4           3.8          1.1       1  versicolor\n",
       "104           6.5          3.0           5.8          2.2       2   virginica\n",
       "51            6.4          3.2           4.5          1.5       1  versicolor\n",
       "110           6.5          3.2           5.1          2.0       2   virginica"
      ],
      "text/html": "<div>\n<style scoped>\n    .dataframe tbody tr th:only-of-type {\n        vertical-align: middle;\n    }\n\n    .dataframe tbody tr th {\n        vertical-align: top;\n    }\n\n    .dataframe thead th {\n        text-align: right;\n    }\n</style>\n<table border=\"1\" class=\"dataframe\">\n  <thead>\n    <tr style=\"text-align: right;\">\n      <th></th>\n      <th>sepal length</th>\n      <th>sepal width</th>\n      <th>petal length</th>\n      <th>petal width</th>\n      <th>target</th>\n      <th>class</th>\n    </tr>\n  </thead>\n  <tbody>\n    <tr>\n      <th>121</th>\n      <td>5.6</td>\n      <td>2.8</td>\n      <td>4.9</td>\n      <td>2.0</td>\n      <td>2</td>\n      <td>virginica</td>\n    </tr>\n    <tr>\n      <th>47</th>\n      <td>4.6</td>\n      <td>3.2</td>\n      <td>1.4</td>\n      <td>0.2</td>\n      <td>0</td>\n      <td>setosa</td>\n    </tr>\n    <tr>\n      <th>67</th>\n      <td>5.8</td>\n      <td>2.7</td>\n      <td>4.1</td>\n      <td>1.0</td>\n      <td>1</td>\n      <td>versicolor</td>\n    </tr>\n    <tr>\n      <th>119</th>\n      <td>6.0</td>\n      <td>2.2</td>\n      <td>5.0</td>\n      <td>1.5</td>\n      <td>2</td>\n      <td>virginica</td>\n    </tr>\n    <tr>\n      <th>29</th>\n      <td>4.7</td>\n      <td>3.2</td>\n      <td>1.6</td>\n      <td>0.2</td>\n      <td>0</td>\n      <td>setosa</td>\n    </tr>\n    <tr>\n      <th>55</th>\n      <td>5.7</td>\n      <td>2.8</td>\n      <td>4.5</td>\n      <td>1.3</td>\n      <td>1</td>\n      <td>versicolor</td>\n    </tr>\n    <tr>\n      <th>80</th>\n      <td>5.5</td>\n      <td>2.4</td>\n      <td>3.8</td>\n      <td>1.1</td>\n      <td>1</td>\n      <td>versicolor</td>\n    </tr>\n    <tr>\n      <th>104</th>\n      <td>6.5</td>\n      <td>3.0</td>\n      <td>5.8</td>\n      <td>2.2</td>\n      <td>2</td>\n      <td>virginica</td>\n    </tr>\n    <tr>\n      <th>51</th>\n      <td>6.4</td>\n      <td>3.2</td>\n      <td>4.5</td>\n      <td>1.5</td>\n      <td>1</td>\n      <td>versicolor</td>\n    </tr>\n    <tr>\n      <th>110</th>\n      <td>6.5</td>\n      <td>3.2</td>\n      <td>5.1</td>\n      <td>2.0</td>\n      <td>2</td>\n      <td>virginica</td>\n    </tr>\n  </tbody>\n</table>\n</div>"
     },
     "metadata": {},
     "execution_count": 180
    }
   ],
   "source": [
    "#Create pd DF the same way you did the first day\n",
    "#Create the class and target columns and remove de cm from the columns names\n",
    "\n",
    "def create_df():\n",
    "    \n",
    "    # YOUR CODE HERE\n",
    "    df = pd.DataFrame(iris_data['data'],columns= ['sepal length', 'sepal width', 'petal length', 'petal width'] )\n",
    "    df[\"target\"] = iris_data.target\n",
    "    df[\"class\"] = df[\"target\"].apply(lambda x: iris_data.target_names[x])\n",
    "    return df\n",
    "    #raise NotImplementedError()\n",
    "df_iris = create_df()\n",
    "df_iris.sample(n=10)"
   ]
  },
  {
   "cell_type": "code",
   "execution_count": 181,
   "metadata": {
    "deletable": false,
    "editable": false,
    "nbgrader": {
     "cell_type": "code",
     "checksum": "ae98c53b326da8480b8a565c8014a77c",
     "grade": true,
     "grade_id": "cell-632fd0e11b776633",
     "locked": true,
     "points": 2,
     "schema_version": 3,
     "solution": false,
     "task": false
    }
   },
   "outputs": [],
   "source": [
    "assert df_iris['sepal length'].shape == (150,)\n",
    "assert df_iris['sepal width'].shape == (150,)\n",
    "assert df_iris['petal length'].shape == (150,)\n",
    "assert df_iris['petal width'].shape == (150,)\n",
    "assert df_iris['target'].shape == (150,)\n",
    "assert df_iris['class'].shape == (150,)"
   ]
  },
  {
   "cell_type": "code",
   "execution_count": 182,
   "metadata": {
    "deletable": false,
    "nbgrader": {
     "cell_type": "code",
     "checksum": "18ed50b4c210650755fa99122f5721f4",
     "grade": false,
     "grade_id": "cell-1b1da2fc006dd2f6",
     "locked": false,
     "schema_version": 3,
     "solution": true,
     "task": false
    }
   },
   "outputs": [],
   "source": [
    "\n",
    "#From our data we will only get variable columns as np.array\n",
    "x = 0\n",
    "# YOUR CODE HERE\n",
    "x = df_iris[['sepal length', 'sepal width', 'petal length', 'petal width']].to_numpy()\n",
    "#raise NotImplementedError()\n",
    "#x"
   ]
  },
  {
   "cell_type": "code",
   "execution_count": 183,
   "metadata": {
    "deletable": false,
    "editable": false,
    "nbgrader": {
     "cell_type": "code",
     "checksum": "abfb4df775beb206b668987baad09223",
     "grade": true,
     "grade_id": "cell-81d6796d99e92aa3",
     "locked": true,
     "points": 0,
     "schema_version": 3,
     "solution": false,
     "task": false
    }
   },
   "outputs": [],
   "source": [
    "assert x.shape == (150,4)"
   ]
  },
  {
   "cell_type": "markdown",
   "metadata": {},
   "source": [
    "**Step 3:** Perform hierarchical clustering on `samples` using the `linkage()` function with the `method='complete'` keyword argument. Assign the result to `mergings`."
   ]
  },
  {
   "cell_type": "code",
   "execution_count": 184,
   "metadata": {
    "deletable": false,
    "nbgrader": {
     "cell_type": "code",
     "checksum": "a3c72f8ff20d9c274f3c8d0dfd349181",
     "grade": false,
     "grade_id": "cell-2a4681a4e740a6fe",
     "locked": false,
     "schema_version": 3,
     "solution": true,
     "task": false
    }
   },
   "outputs": [],
   "source": [
    "mergings = 0 \n",
    "# YOUR CODE HERE\n",
    "mergings = linkage(x)\n",
    "#raise NotImplementedError()"
   ]
  },
  {
   "cell_type": "code",
   "execution_count": null,
   "metadata": {},
   "outputs": [],
   "source": [
    "mergins = linkage(x,method='complete')"
   ]
  },
  {
   "cell_type": "code",
   "execution_count": null,
   "metadata": {},
   "outputs": [],
   "source": [
    "#mergins"
   ]
  },
  {
   "cell_type": "code",
   "execution_count": null,
   "metadata": {
    "deletable": false,
    "editable": false,
    "nbgrader": {
     "cell_type": "code",
     "checksum": "311d7567084e2d3fbc957d155aac6957",
     "grade": true,
     "grade_id": "cell-bd07f2be641ae1c5",
     "locked": true,
     "points": 3,
     "schema_version": 3,
     "solution": false,
     "task": false
    }
   },
   "outputs": [],
   "source": [
    "assert mergings.shape == (149,4)"
   ]
  },
  {
   "cell_type": "markdown",
   "metadata": {
    "deletable": false,
    "editable": false,
    "nbgrader": {
     "cell_type": "markdown",
     "checksum": "0655649d31c47a33c2de51b7316e64df",
     "grade": false,
     "grade_id": "cell-e0502f3d32a027c4",
     "locked": true,
     "schema_version": 3,
     "solution": false,
     "task": false
    }
   },
   "source": [
    "**Step 4:** Plot a dendrogram using the `dendrogram()` function on `mergings`, specifying the keyword arguments `labels=varieties`, `leaf_rotation=90`, and `leaf_font_size=6`.  Remember to call `plt.show()` afterwards, to display your plot."
   ]
  },
  {
   "cell_type": "code",
   "execution_count": null,
   "metadata": {
    "deletable": false,
    "nbgrader": {
     "cell_type": "code",
     "checksum": "8c1a8101de48297cde138f126c6c2c63",
     "grade": false,
     "grade_id": "cell-8ba6a5e72836aa92",
     "locked": false,
     "schema_version": 3,
     "solution": true,
     "task": false
    }
   },
   "outputs": [],
   "source": [
    "dn = 0\n",
    "# YOUR CODE HERE\n",
    "\n",
    "chart = plt.figure(figsize=(20,10))\n",
    "dn = dendrogram(mergings)\n",
    "plt.show()"
   ]
  },
  {
   "cell_type": "code",
   "execution_count": null,
   "metadata": {
    "deletable": false,
    "editable": false,
    "nbgrader": {
     "cell_type": "code",
     "checksum": "c7cafedfeaabce98514c30d6a2d53331",
     "grade": true,
     "grade_id": "cell-bc0248a8151d10ab",
     "locked": true,
     "points": 3,
     "schema_version": 3,
     "solution": false,
     "task": false
    }
   },
   "outputs": [],
   "source": [
    "assert type(dn) == type(dendrogram(np.random.rand(15, 4)))"
   ]
  },
  {
   "cell_type": "markdown",
   "metadata": {
    "deletable": false,
    "editable": false,
    "nbgrader": {
     "cell_type": "markdown",
     "checksum": "0359d6cc58f0adeea5ab36ea1be31ff4",
     "grade": false,
     "grade_id": "cell-6c3fb83905359f79",
     "locked": true,
     "schema_version": 3,
     "solution": false,
     "task": false
    }
   },
   "source": [
    "## K-MEANS\n",
    "\n",
    "for this next part we will use the K-Means algorithm in order to cluster your data"
   ]
  },
  {
   "cell_type": "markdown",
   "metadata": {
    "deletable": false,
    "editable": false,
    "nbgrader": {
     "cell_type": "markdown",
     "checksum": "64681468d287f185510e010c9c8f62e2",
     "grade": false,
     "grade_id": "cell-e554a1446ad626ec",
     "locked": true,
     "schema_version": 3,
     "solution": false,
     "task": false
    }
   },
   "source": [
    "**Step 1:** \n",
    "+ import `KMeans` from `sklearn.cluster`\n",
    "+ loading our new datasets"
   ]
  },
  {
   "cell_type": "code",
   "execution_count": null,
   "metadata": {},
   "outputs": [],
   "source": [
    "from sklearn.cluster import KMeans\n",
    "\n",
    "df = pd.read_csv('ch1ex1.csv')\n",
    "points = df.values\n",
    "\n",
    "new_df = pd.read_csv('ch1ex2.csv')\n",
    "new_points = new_df.values\n"
   ]
  },
  {
   "cell_type": "markdown",
   "metadata": {
    "deletable": false,
    "editable": false,
    "nbgrader": {
     "cell_type": "markdown",
     "checksum": "15993ab96197f3ecead1d8ff5a8830de",
     "grade": false,
     "grade_id": "cell-09b5216391582184",
     "locked": true,
     "schema_version": 3,
     "solution": false,
     "task": false
    }
   },
   "source": [
    "**Step 2:** Using `KMeans()`, create a `KMeans` instance called `model` to find `3` clusters. To specify the number of clusters, use the `n_clusters` keyword argument\n"
   ]
  },
  {
   "cell_type": "code",
   "execution_count": null,
   "metadata": {
    "deletable": false,
    "nbgrader": {
     "cell_type": "code",
     "checksum": "788e3cefa230e6aa2df6843ca341a12a",
     "grade": false,
     "grade_id": "cell-d4136dfc2ba753ba",
     "locked": false,
     "schema_version": 3,
     "solution": true,
     "task": false
    }
   },
   "outputs": [],
   "source": [
    "model = 0\n",
    "# YOUR CODE HERE\n",
    "model = KMeans(n_clusters=3)\n",
    "#raise NotImplementedError()"
   ]
  },
  {
   "cell_type": "code",
   "execution_count": null,
   "metadata": {
    "deletable": false,
    "editable": false,
    "nbgrader": {
     "cell_type": "code",
     "checksum": "299853ae31c16eaa5ad10a3f466137bc",
     "grade": true,
     "grade_id": "cell-a6a59ad2afd63249",
     "locked": true,
     "points": 1,
     "schema_version": 3,
     "solution": false,
     "task": false
    }
   },
   "outputs": [],
   "source": [
    "assert type(model)== type(KMeans())"
   ]
  },
  {
   "cell_type": "markdown",
   "metadata": {
    "deletable": false,
    "editable": false,
    "nbgrader": {
     "cell_type": "markdown",
     "checksum": "8cbab2680ed21b9c6d8e2eb953f283a4",
     "grade": false,
     "grade_id": "cell-3b83408ca14ce116",
     "locked": true,
     "schema_version": 3,
     "solution": false,
     "task": false
    }
   },
   "source": [
    "**Step 4:** Use the `.fit()` method of `model` to fit the model to the array of points `points`."
   ]
  },
  {
   "cell_type": "code",
   "execution_count": null,
   "metadata": {},
   "outputs": [],
   "source": [
    "points.shape"
   ]
  },
  {
   "cell_type": "code",
   "execution_count": null,
   "metadata": {
    "deletable": false,
    "nbgrader": {
     "cell_type": "code",
     "checksum": "c534d56e7496f8a3b795591aa651b78f",
     "grade": false,
     "grade_id": "cell-9a699df5bd74992a",
     "locked": false,
     "schema_version": 3,
     "solution": true,
     "task": false
    }
   },
   "outputs": [],
   "source": [
    "# YOUR CODE HERE\n",
    "\n",
    "model.fit(points)\n",
    "model\n",
    "#raise NotImplementedError()"
   ]
  },
  {
   "cell_type": "markdown",
   "metadata": {
    "deletable": false,
    "editable": false,
    "nbgrader": {
     "cell_type": "markdown",
     "checksum": "30b03b4a58715fbfbcc458ffff4a9452",
     "grade": false,
     "grade_id": "cell-5f7dc6671c80bcf3",
     "locked": true,
     "schema_version": 3,
     "solution": false,
     "task": false
    }
   },
   "source": [
    "**Step 5:** Use the `.predict()` method of `model` to predict the cluster labels of `points`, assigning the result to `labels`."
   ]
  },
  {
   "cell_type": "code",
   "execution_count": null,
   "metadata": {
    "deletable": false,
    "nbgrader": {
     "cell_type": "code",
     "checksum": "a5651a88814e14bcce46dec2a676e9c4",
     "grade": false,
     "grade_id": "cell-fe0636d9d3113913",
     "locked": false,
     "schema_version": 3,
     "solution": true,
     "task": false
    }
   },
   "outputs": [],
   "source": [
    "# YOUR CODE HERE\n",
    "labels = model.predict(points)\n",
    "#raise NotImplementedError()\n",
    "labels"
   ]
  },
  {
   "cell_type": "code",
   "execution_count": null,
   "metadata": {
    "deletable": false,
    "editable": false,
    "nbgrader": {
     "cell_type": "code",
     "checksum": "893f043c599b2d2589ffaee908b945e2",
     "grade": true,
     "grade_id": "cell-3e790b82f9bf37fc",
     "locked": true,
     "points": 2,
     "schema_version": 3,
     "solution": false,
     "task": false
    }
   },
   "outputs": [],
   "source": [
    "assert labels[labels.argmax()] == 2\n",
    "assert labels.shape == (300,)"
   ]
  },
  {
   "cell_type": "code",
   "execution_count": null,
   "metadata": {},
   "outputs": [],
   "source": [
    "model.predict(np.array([100,-10]).reshape(1,2))\n"
   ]
  },
  {
   "cell_type": "code",
   "execution_count": null,
   "metadata": {},
   "outputs": [],
   "source": [
    "data_0"
   ]
  },
  {
   "cell_type": "code",
   "execution_count": 189,
   "metadata": {
    "deletable": false,
    "nbgrader": {
     "cell_type": "code",
     "checksum": "f52e0cd3e0456fb6e8309a557b0b5e2a",
     "grade": false,
     "grade_id": "cell-917ce87ba793a518",
     "locked": false,
     "schema_version": 3,
     "solution": true,
     "task": false
    }
   },
   "outputs": [
    {
     "output_type": "stream",
     "name": "stdout",
     "text": [
      "(111, 2)\n(95, 2)\n(94, 2)\n"
     ]
    }
   ],
   "source": [
    "# Make a function that returns 3 numpy arrays each one with the points associated for each class\n",
    "#If the label is 0 they go into data_0\n",
    "#If the label is 1 they go into data_1\n",
    "#If the label is 2 they go into data_2\n",
    "def separate_labels(labels, points):\n",
    "    data_0 = []\n",
    "    data_1 = []\n",
    "    data_2 = []\n",
    "\n",
    "    # YOUR CODE HERE\n",
    "    for i in range(labels.shape[0]):\n",
    "        if labels[i] == 0:\n",
    "            data_0.append(points[i])\n",
    "        elif labels[i] == 1:\n",
    "            data_1.append(points[i])\n",
    "        else:\n",
    "            data_2.append(points[i])\n",
    "\n",
    "    #raise NotImplementedError()\n",
    "    data_0 = np.array(data_0)\n",
    "    data_1 = np.array(data_1)\n",
    "    data_2 = np.array(data_2)\n",
    "    return data_0,data_1,data_2\n",
    "\n",
    "\n",
    "data_0,data_1,data_2 = separate_labels(labels, points)\n",
    "\n",
    "print(data_0.shape);\n",
    "print(data_1.shape);\n",
    "print(data_2.shape);"
   ]
  },
  {
   "cell_type": "code",
   "execution_count": 190,
   "metadata": {},
   "outputs": [
    {
     "output_type": "execute_result",
     "data": {
      "text/plain": [
       "array([0, 1, 2, 2, 1, 1, 2, 0, 1, 1, 2, 0, 1, 2, 1, 0, 2, 2, 0, 2, 1, 0,\n",
       "       1, 0, 0, 1, 0, 0, 0, 1, 2, 2, 2, 1, 0, 1, 0, 0, 1, 0, 0, 2, 1, 1,\n",
       "       1, 0, 0, 2, 0, 2, 2, 2, 0, 0, 0, 1, 0, 0, 1, 2, 1, 0, 0, 2, 2, 1,\n",
       "       2, 1, 1, 0, 2, 1, 2, 0, 2, 1, 0, 0, 0, 2, 0, 1, 2, 1, 1, 1, 1, 0,\n",
       "       0, 2, 1, 2, 1, 0, 0, 0, 2, 1, 1, 2, 1, 0, 1, 2, 0, 2, 2, 2, 1, 1,\n",
       "       0, 1, 2, 1, 1, 1, 0, 1, 2, 2, 0, 0, 0, 0, 0, 1, 2, 0, 1, 1, 2, 2,\n",
       "       1, 0, 1, 0, 2, 1, 2, 0, 2, 2, 0, 2, 2, 0, 2, 1, 0, 0, 0, 2, 2, 1,\n",
       "       2, 1, 0, 0, 2, 1, 2, 2, 2, 1, 0, 0, 1, 2, 2, 0, 0, 2, 0, 0, 1, 0,\n",
       "       2, 2, 2, 0, 0, 2, 0, 2, 2, 0, 1, 2, 0, 0, 0, 0, 1, 2, 0, 1, 1, 1,\n",
       "       0, 1, 0, 0, 1, 2, 2, 0, 2, 0, 0, 1, 1, 0, 2, 1, 2, 0, 2, 1, 0, 1,\n",
       "       1, 1, 1, 2, 2, 2, 0, 0, 1, 0, 2, 1, 0, 0, 1, 0, 2, 2, 2, 2, 2, 1,\n",
       "       0, 0, 2, 2, 0, 1, 2, 1, 1, 0, 0, 1, 1, 1, 0, 2, 0, 1, 0, 2, 2, 2,\n",
       "       2, 2, 0, 0, 1, 0, 0, 1, 2, 2, 1, 0, 2, 2, 1, 1, 0, 0, 0, 1, 1, 0,\n",
       "       2, 1, 1, 2, 0, 0, 0, 1, 0, 0, 0, 1, 1, 1])"
      ]
     },
     "metadata": {},
     "execution_count": 190
    }
   ],
   "source": [
    "labels"
   ]
  },
  {
   "cell_type": "code",
   "execution_count": null,
   "metadata": {},
   "outputs": [],
   "source": [
    "separate_labels"
   ]
  },
  {
   "cell_type": "code",
   "execution_count": 191,
   "metadata": {
    "deletable": false,
    "editable": false,
    "nbgrader": {
     "cell_type": "code",
     "checksum": "3066f6d418963a9e453d348f0b2cf930",
     "grade": true,
     "grade_id": "cell-9d19700f8e07d490",
     "locked": true,
     "points": 2,
     "schema_version": 3,
     "solution": false,
     "task": false
    }
   },
   "outputs": [],
   "source": [
    "assert abs(data_0.shape[0] - 94) <= 20\n",
    "assert abs(data_1.shape[0] - 95) <= 20\n",
    "assert abs(data_2.shape[0] - 111) <= 20"
   ]
  },
  {
   "cell_type": "code",
   "execution_count": null,
   "metadata": {
    "deletable": false,
    "nbgrader": {
     "cell_type": "code",
     "checksum": "c5f4d0de3ac0acc26863e198506fa8b7",
     "grade": false,
     "grade_id": "cell-6ae9d7e6dfb48eda",
     "locked": false,
     "schema_version": 3,
     "solution": true,
     "task": false
    }
   },
   "outputs": [],
   "source": [
    "# plotting the data \n",
    "\n",
    "plt.scatter(data_0[:,0], data_0[:,1]);\n",
    "plt.scatter(data_1[:,0], data_1[:,1]);\n",
    "plt.scatter(data_2[:,0], data_2[:,1]);\n",
    "plt.title('claster prediction')\n",
    "\n",
    "plt.show()\n",
    "# YOUR CODE HERE\n",
    "#raise NotImplementedError()"
   ]
  },
  {
   "cell_type": "markdown",
   "metadata": {},
   "source": [
    "**Step 7:** Use the `.predict()` method of `model` to predict the cluster labels of `new_points`, assigning the result to `new_labels`.  Notice that KMeans can assign previously unseen points to the clusters it has already found!"
   ]
  },
  {
   "cell_type": "code",
   "execution_count": null,
   "metadata": {},
   "outputs": [],
   "source": [
    "#\n",
    "# ]new_points"
   ]
  },
  {
   "cell_type": "code",
   "execution_count": 192,
   "metadata": {
    "deletable": false,
    "nbgrader": {
     "cell_type": "code",
     "checksum": "c95b4da428ab89a5469c7573568e23b7",
     "grade": false,
     "grade_id": "cell-e1c6be8c2b6c48ab",
     "locked": false,
     "schema_version": 3,
     "solution": true,
     "task": false
    }
   },
   "outputs": [
    {
     "output_type": "execute_result",
     "data": {
      "text/plain": [
       "array([2, 2, 1, 1, 0, 0, 2, 0, 0, 1, 0, 0, 1, 0, 2, 2, 0, 2, 2, 0, 2, 2,\n",
       "       1, 2, 1, 0, 1, 2, 2, 2, 1, 0, 0, 1, 1, 2, 1, 1, 1, 1, 2, 0, 1, 0,\n",
       "       1, 1, 0, 2, 1, 1, 2, 2, 0, 2, 0, 2, 1, 2, 1, 1, 1, 0, 0, 0, 1, 1,\n",
       "       0, 1, 0, 1, 2, 2, 2, 0, 1, 0, 0, 0, 2, 0, 2, 0, 2, 0, 2, 1, 2, 0,\n",
       "       1, 0, 2, 2, 1, 1, 2, 2, 2, 1, 0, 1])"
      ]
     },
     "metadata": {},
     "execution_count": 192
    }
   ],
   "source": [
    "\n",
    "# YOUR CODE HERE\n",
    "new_labels = model.predict(new_points)\n",
    "#raise NotImplementedError()\n",
    "new_labels"
   ]
  },
  {
   "cell_type": "code",
   "execution_count": null,
   "metadata": {
    "deletable": false,
    "editable": false,
    "nbgrader": {
     "cell_type": "code",
     "checksum": "aa10520a3430ab954c74429812f48ee3",
     "grade": true,
     "grade_id": "cell-33a135652cf843e7",
     "locked": true,
     "points": 2,
     "schema_version": 3,
     "solution": false,
     "task": false
    }
   },
   "outputs": [],
   "source": [
    "assert new_labels[new_labels.argmax()] == 2\n",
    "assert new_labels.shape == (100,)"
   ]
  },
  {
   "cell_type": "code",
   "execution_count": null,
   "metadata": {},
   "outputs": [],
   "source": []
  },
  {
   "cell_type": "code",
   "execution_count": 193,
   "metadata": {
    "deletable": false,
    "nbgrader": {
     "cell_type": "code",
     "checksum": "1e8f9bc5a331d2950dc2f9af66927ec1",
     "grade": false,
     "grade_id": "cell-91d525783ae0a408",
     "locked": false,
     "schema_version": 3,
     "solution": true,
     "task": false
    }
   },
   "outputs": [
    {
     "output_type": "stream",
     "name": "stdout",
     "text": [
      "(32, 2)\n(34, 2)\n(34, 2)\n"
     ]
    }
   ],
   "source": [
    "#separate the data by labels like we did before\n",
    "\n",
    "new_0,new_1,new_2 = separate_labels(new_labels, new_points)\n",
    "\n",
    "print(new_0.shape);\n",
    "print(new_1.shape);\n",
    "print(new_2.shape);        \n",
    "\n",
    "#raise NotImplementedError()\n"
   ]
  },
  {
   "cell_type": "code",
   "execution_count": null,
   "metadata": {},
   "outputs": [],
   "source": [
    "new_labels.shape()"
   ]
  },
  {
   "cell_type": "code",
   "execution_count": null,
   "metadata": {
    "deletable": false,
    "editable": false,
    "nbgrader": {
     "cell_type": "code",
     "checksum": "208a9cb902182bc69798e0bd2a69641c",
     "grade": true,
     "grade_id": "cell-bbb9a9b41cb01987",
     "locked": true,
     "points": 2,
     "schema_version": 3,
     "solution": false,
     "task": false
    }
   },
   "outputs": [],
   "source": [
    "assert abs(new_0.shape[0] - 34) <= 5\n",
    "assert abs(new_1.shape[0] - 34) <= 5\n",
    "assert abs(new_2.shape[0] - 34) <= 5"
   ]
  },
  {
   "cell_type": "code",
   "execution_count": 194,
   "metadata": {
    "deletable": false,
    "nbgrader": {
     "cell_type": "code",
     "checksum": "6a0410e87bf245f30676043a001b9293",
     "grade": false,
     "grade_id": "cell-f0f51c7f91e8b4df",
     "locked": false,
     "schema_version": 3,
     "solution": true,
     "task": false
    }
   },
   "outputs": [
    {
     "output_type": "execute_result",
     "data": {
      "text/plain": [
       "<matplotlib.collections.PathCollection at 0x233bc68ddc0>"
      ]
     },
     "metadata": {},
     "execution_count": 194
    },
    {
     "output_type": "display_data",
     "data": {
      "text/plain": "<Figure size 432x288 with 1 Axes>",
      "image/svg+xml": "<?xml version=\"1.0\" encoding=\"utf-8\" standalone=\"no\"?>\r\n<!DOCTYPE svg PUBLIC \"-//W3C//DTD SVG 1.1//EN\"\r\n  \"http://www.w3.org/Graphics/SVG/1.1/DTD/svg11.dtd\">\r\n<!-- Created with matplotlib (https://matplotlib.org/) -->\r\n<svg height=\"248.518125pt\" version=\"1.1\" viewBox=\"0 0 380.482812 248.518125\" width=\"380.482812pt\" xmlns=\"http://www.w3.org/2000/svg\" xmlns:xlink=\"http://www.w3.org/1999/xlink\">\r\n <metadata>\r\n  <rdf:RDF xmlns:cc=\"http://creativecommons.org/ns#\" xmlns:dc=\"http://purl.org/dc/elements/1.1/\" xmlns:rdf=\"http://www.w3.org/1999/02/22-rdf-syntax-ns#\">\r\n   <cc:Work>\r\n    <dc:type rdf:resource=\"http://purl.org/dc/dcmitype/StillImage\"/>\r\n    <dc:date>2021-06-30T17:05:40.141269</dc:date>\r\n    <dc:format>image/svg+xml</dc:format>\r\n    <dc:creator>\r\n     <cc:Agent>\r\n      <dc:title>Matplotlib v3.3.4, https://matplotlib.org/</dc:title>\r\n     </cc:Agent>\r\n    </dc:creator>\r\n   </cc:Work>\r\n  </rdf:RDF>\r\n </metadata>\r\n <defs>\r\n  <style type=\"text/css\">*{stroke-linecap:butt;stroke-linejoin:round;}</style>\r\n </defs>\r\n <g id=\"figure_1\">\r\n  <g id=\"patch_1\">\r\n   <path d=\"M -0 248.518125 \r\nL 380.482812 248.518125 \r\nL 380.482812 0 \r\nL -0 0 \r\nz\r\n\" style=\"fill:none;\"/>\r\n  </g>\r\n  <g id=\"axes_1\">\r\n   <g id=\"patch_2\">\r\n    <path d=\"M 38.482813 224.64 \r\nL 373.282813 224.64 \r\nL 373.282813 7.2 \r\nL 38.482813 7.2 \r\nz\r\n\" style=\"fill:#ffffff;\"/>\r\n   </g>\r\n   <g id=\"PathCollection_1\">\r\n    <defs>\r\n     <path d=\"M 0 3 \r\nC 0.795609 3 1.55874 2.683901 2.12132 2.12132 \r\nC 2.683901 1.55874 3 0.795609 3 0 \r\nC 3 -0.795609 2.683901 -1.55874 2.12132 -2.12132 \r\nC 1.55874 -2.683901 0.795609 -3 0 -3 \r\nC -0.795609 -3 -1.55874 -2.683901 -2.12132 -2.12132 \r\nC -2.683901 -1.55874 -3 -0.795609 -3 0 \r\nC -3 0.795609 -2.683901 1.55874 -2.12132 2.12132 \r\nC -1.55874 2.683901 -0.795609 3 0 3 \r\nz\r\n\" id=\"m3bcaef34f6\" style=\"stroke:#008000;\"/>\r\n    </defs>\r\n    <g clip-path=\"url(#pc513a8f89d)\">\r\n     <use style=\"fill:#008000;stroke:#008000;\" x=\"297.420766\" xlink:href=\"#m3bcaef34f6\" y=\"174.360972\"/>\r\n     <use style=\"fill:#008000;stroke:#008000;\" x=\"283.641053\" xlink:href=\"#m3bcaef34f6\" y=\"207.569685\"/>\r\n     <use style=\"fill:#008000;stroke:#008000;\" x=\"248.380778\" xlink:href=\"#m3bcaef34f6\" y=\"167.995556\"/>\r\n     <use style=\"fill:#008000;stroke:#008000;\" x=\"219.447057\" xlink:href=\"#m3bcaef34f6\" y=\"197.240535\"/>\r\n     <use style=\"fill:#008000;stroke:#008000;\" x=\"238.925241\" xlink:href=\"#m3bcaef34f6\" y=\"192.285735\"/>\r\n     <use style=\"fill:#008000;stroke:#008000;\" x=\"284.640265\" xlink:href=\"#m3bcaef34f6\" y=\"199.876835\"/>\r\n     <use style=\"fill:#008000;stroke:#008000;\" x=\"224.845509\" xlink:href=\"#m3bcaef34f6\" y=\"203.055535\"/>\r\n     <use style=\"fill:#008000;stroke:#008000;\" x=\"268.353788\" xlink:href=\"#m3bcaef34f6\" y=\"209.551406\"/>\r\n     <use style=\"fill:#008000;stroke:#008000;\" x=\"255.767154\" xlink:href=\"#m3bcaef34f6\" y=\"182.426247\"/>\r\n     <use style=\"fill:#008000;stroke:#008000;\" x=\"261.568444\" xlink:href=\"#m3bcaef34f6\" y=\"157.96533\"/>\r\n     <use style=\"fill:#008000;stroke:#008000;\" x=\"269.434386\" xlink:href=\"#m3bcaef34f6\" y=\"214.756364\"/>\r\n     <use style=\"fill:#008000;stroke:#008000;\" x=\"268.48831\" xlink:href=\"#m3bcaef34f6\" y=\"174.66591\"/>\r\n     <use style=\"fill:#008000;stroke:#008000;\" x=\"226.181139\" xlink:href=\"#m3bcaef34f6\" y=\"196.837522\"/>\r\n     <use style=\"fill:#008000;stroke:#008000;\" x=\"227.932433\" xlink:href=\"#m3bcaef34f6\" y=\"176.271085\"/>\r\n     <use style=\"fill:#008000;stroke:#008000;\" x=\"236.653159\" xlink:href=\"#m3bcaef34f6\" y=\"192.681007\"/>\r\n     <use style=\"fill:#008000;stroke:#008000;\" x=\"233.859874\" xlink:href=\"#m3bcaef34f6\" y=\"198.021767\"/>\r\n     <use style=\"fill:#008000;stroke:#008000;\" x=\"213.175684\" xlink:href=\"#m3bcaef34f6\" y=\"160.758851\"/>\r\n     <use style=\"fill:#008000;stroke:#008000;\" x=\"244.200044\" xlink:href=\"#m3bcaef34f6\" y=\"159.400122\"/>\r\n     <use style=\"fill:#008000;stroke:#008000;\" x=\"276.716484\" xlink:href=\"#m3bcaef34f6\" y=\"163.268713\"/>\r\n     <use style=\"fill:#008000;stroke:#008000;\" x=\"240.151993\" xlink:href=\"#m3bcaef34f6\" y=\"180.325352\"/>\r\n     <use style=\"fill:#008000;stroke:#008000;\" x=\"191.408964\" xlink:href=\"#m3bcaef34f6\" y=\"189.8478\"/>\r\n     <use style=\"fill:#008000;stroke:#008000;\" x=\"219.368021\" xlink:href=\"#m3bcaef34f6\" y=\"164.781958\"/>\r\n     <use style=\"fill:#008000;stroke:#008000;\" x=\"289.953083\" xlink:href=\"#m3bcaef34f6\" y=\"170.68811\"/>\r\n     <use style=\"fill:#008000;stroke:#008000;\" x=\"231.295443\" xlink:href=\"#m3bcaef34f6\" y=\"158.880995\"/>\r\n     <use style=\"fill:#008000;stroke:#008000;\" x=\"260.518435\" xlink:href=\"#m3bcaef34f6\" y=\"122.387171\"/>\r\n     <use style=\"fill:#008000;stroke:#008000;\" x=\"243.271414\" xlink:href=\"#m3bcaef34f6\" y=\"154.444506\"/>\r\n     <use style=\"fill:#008000;stroke:#008000;\" x=\"257.708926\" xlink:href=\"#m3bcaef34f6\" y=\"175.899278\"/>\r\n     <use style=\"fill:#008000;stroke:#008000;\" x=\"263.830781\" xlink:href=\"#m3bcaef34f6\" y=\"170.665937\"/>\r\n     <use style=\"fill:#008000;stroke:#008000;\" x=\"230.36372\" xlink:href=\"#m3bcaef34f6\" y=\"148.882145\"/>\r\n     <use style=\"fill:#008000;stroke:#008000;\" x=\"251.019241\" xlink:href=\"#m3bcaef34f6\" y=\"152.31888\"/>\r\n     <use style=\"fill:#008000;stroke:#008000;\" x=\"266.688075\" xlink:href=\"#m3bcaef34f6\" y=\"175.753613\"/>\r\n     <use style=\"fill:#008000;stroke:#008000;\" x=\"256.441568\" xlink:href=\"#m3bcaef34f6\" y=\"135.4888\"/>\r\n    </g>\r\n   </g>\r\n   <g id=\"PathCollection_2\">\r\n    <defs>\r\n     <path d=\"M 0 3 \r\nC 0.795609 3 1.55874 2.683901 2.12132 2.12132 \r\nC 2.683901 1.55874 3 0.795609 3 0 \r\nC 3 -0.795609 2.683901 -1.55874 2.12132 -2.12132 \r\nC 1.55874 -2.683901 0.795609 -3 0 -3 \r\nC -0.795609 -3 -1.55874 -2.683901 -2.12132 -2.12132 \r\nC -2.683901 -1.55874 -3 -0.795609 -3 0 \r\nC -3 0.795609 -2.683901 1.55874 -2.12132 2.12132 \r\nC -1.55874 2.683901 -0.795609 3 0 3 \r\nz\r\n\" id=\"mb91e0dc6f0\" style=\"stroke:#00bfbf;\"/>\r\n    </defs>\r\n    <g clip-path=\"url(#pc513a8f89d)\">\r\n     <use style=\"fill:#00bfbf;stroke:#00bfbf;\" x=\"100.735249\" xlink:href=\"#mb91e0dc6f0\" y=\"96.925254\"/>\r\n     <use style=\"fill:#00bfbf;stroke:#00bfbf;\" x=\"159.458536\" xlink:href=\"#mb91e0dc6f0\" y=\"117.114714\"/>\r\n     <use style=\"fill:#00bfbf;stroke:#00bfbf;\" x=\"92.132896\" xlink:href=\"#mb91e0dc6f0\" y=\"144.180652\"/>\r\n     <use style=\"fill:#00bfbf;stroke:#00bfbf;\" x=\"144.185583\" xlink:href=\"#mb91e0dc6f0\" y=\"102.699546\"/>\r\n     <use style=\"fill:#00bfbf;stroke:#00bfbf;\" x=\"119.689906\" xlink:href=\"#mb91e0dc6f0\" y=\"119.339569\"/>\r\n     <use style=\"fill:#00bfbf;stroke:#00bfbf;\" x=\"137.683485\" xlink:href=\"#mb91e0dc6f0\" y=\"158.35281\"/>\r\n     <use style=\"fill:#00bfbf;stroke:#00bfbf;\" x=\"143.933563\" xlink:href=\"#mb91e0dc6f0\" y=\"147.481257\"/>\r\n     <use style=\"fill:#00bfbf;stroke:#00bfbf;\" x=\"145.237062\" xlink:href=\"#mb91e0dc6f0\" y=\"107.821211\"/>\r\n     <use style=\"fill:#00bfbf;stroke:#00bfbf;\" x=\"142.912598\" xlink:href=\"#mb91e0dc6f0\" y=\"133.372107\"/>\r\n     <use style=\"fill:#00bfbf;stroke:#00bfbf;\" x=\"127.106399\" xlink:href=\"#mb91e0dc6f0\" y=\"161.798417\"/>\r\n     <use style=\"fill:#00bfbf;stroke:#00bfbf;\" x=\"118.697651\" xlink:href=\"#mb91e0dc6f0\" y=\"158.336005\"/>\r\n     <use style=\"fill:#00bfbf;stroke:#00bfbf;\" x=\"126.337774\" xlink:href=\"#mb91e0dc6f0\" y=\"122.088884\"/>\r\n     <use style=\"fill:#00bfbf;stroke:#00bfbf;\" x=\"158.403244\" xlink:href=\"#mb91e0dc6f0\" y=\"121.67477\"/>\r\n     <use style=\"fill:#00bfbf;stroke:#00bfbf;\" x=\"105.025443\" xlink:href=\"#mb91e0dc6f0\" y=\"141.940589\"/>\r\n     <use style=\"fill:#00bfbf;stroke:#00bfbf;\" x=\"119.004133\" xlink:href=\"#mb91e0dc6f0\" y=\"100.906226\"/>\r\n     <use style=\"fill:#00bfbf;stroke:#00bfbf;\" x=\"135.468442\" xlink:href=\"#mb91e0dc6f0\" y=\"103.582358\"/>\r\n     <use style=\"fill:#00bfbf;stroke:#00bfbf;\" x=\"125.749233\" xlink:href=\"#mb91e0dc6f0\" y=\"153.305812\"/>\r\n     <use style=\"fill:#00bfbf;stroke:#00bfbf;\" x=\"143.008354\" xlink:href=\"#mb91e0dc6f0\" y=\"104.067849\"/>\r\n     <use style=\"fill:#00bfbf;stroke:#00bfbf;\" x=\"95.134737\" xlink:href=\"#mb91e0dc6f0\" y=\"133.925535\"/>\r\n     <use style=\"fill:#00bfbf;stroke:#00bfbf;\" x=\"101.928594\" xlink:href=\"#mb91e0dc6f0\" y=\"129.081899\"/>\r\n     <use style=\"fill:#00bfbf;stroke:#00bfbf;\" x=\"99.806265\" xlink:href=\"#mb91e0dc6f0\" y=\"158.693463\"/>\r\n     <use style=\"fill:#00bfbf;stroke:#00bfbf;\" x=\"121.27511\" xlink:href=\"#mb91e0dc6f0\" y=\"130.743817\"/>\r\n     <use style=\"fill:#00bfbf;stroke:#00bfbf;\" x=\"145.514135\" xlink:href=\"#mb91e0dc6f0\" y=\"140.35561\"/>\r\n     <use style=\"fill:#00bfbf;stroke:#00bfbf;\" x=\"127.901489\" xlink:href=\"#mb91e0dc6f0\" y=\"136.522806\"/>\r\n     <use style=\"fill:#00bfbf;stroke:#00bfbf;\" x=\"149.280967\" xlink:href=\"#mb91e0dc6f0\" y=\"140.850423\"/>\r\n     <use style=\"fill:#00bfbf;stroke:#00bfbf;\" x=\"100.472141\" xlink:href=\"#mb91e0dc6f0\" y=\"107.096244\"/>\r\n     <use style=\"fill:#00bfbf;stroke:#00bfbf;\" x=\"141.739462\" xlink:href=\"#mb91e0dc6f0\" y=\"126.880413\"/>\r\n     <use style=\"fill:#00bfbf;stroke:#00bfbf;\" x=\"122.403906\" xlink:href=\"#mb91e0dc6f0\" y=\"144.850045\"/>\r\n     <use style=\"fill:#00bfbf;stroke:#00bfbf;\" x=\"112.887919\" xlink:href=\"#mb91e0dc6f0\" y=\"149.415824\"/>\r\n     <use style=\"fill:#00bfbf;stroke:#00bfbf;\" x=\"122.086481\" xlink:href=\"#mb91e0dc6f0\" y=\"115.700209\"/>\r\n     <use style=\"fill:#00bfbf;stroke:#00bfbf;\" x=\"53.700994\" xlink:href=\"#mb91e0dc6f0\" y=\"136.30847\"/>\r\n     <use style=\"fill:#00bfbf;stroke:#00bfbf;\" x=\"131.840461\" xlink:href=\"#mb91e0dc6f0\" y=\"144.197691\"/>\r\n     <use style=\"fill:#00bfbf;stroke:#00bfbf;\" x=\"100.201881\" xlink:href=\"#mb91e0dc6f0\" y=\"169.502831\"/>\r\n     <use style=\"fill:#00bfbf;stroke:#00bfbf;\" x=\"154.27562\" xlink:href=\"#mb91e0dc6f0\" y=\"175.580752\"/>\r\n    </g>\r\n   </g>\r\n   <g id=\"PathCollection_3\">\r\n    <defs>\r\n     <path d=\"M 0 3 \r\nC 0.795609 3 1.55874 2.683901 2.12132 2.12132 \r\nC 2.683901 1.55874 3 0.795609 3 0 \r\nC 3 -0.795609 2.683901 -1.55874 2.12132 -2.12132 \r\nC 1.55874 -2.683901 0.795609 -3 0 -3 \r\nC -0.795609 -3 -1.55874 -2.683901 -2.12132 -2.12132 \r\nC -2.683901 -1.55874 -3 -0.795609 -3 0 \r\nC -3 0.795609 -2.683901 1.55874 -2.12132 2.12132 \r\nC -1.55874 2.683901 -0.795609 3 0 3 \r\nz\r\n\" id=\"m101b793085\" style=\"stroke:#bfbf00;\"/>\r\n    </defs>\r\n    <g clip-path=\"url(#pc513a8f89d)\">\r\n     <use style=\"fill:#bfbf00;stroke:#bfbf00;\" x=\"303.078012\" xlink:href=\"#m101b793085\" y=\"38.806624\"/>\r\n     <use style=\"fill:#bfbf00;stroke:#bfbf00;\" x=\"308.779302\" xlink:href=\"#m101b793085\" y=\"54.455271\"/>\r\n     <use style=\"fill:#bfbf00;stroke:#bfbf00;\" x=\"331.241454\" xlink:href=\"#m101b793085\" y=\"21.518698\"/>\r\n     <use style=\"fill:#bfbf00;stroke:#bfbf00;\" x=\"246.525665\" xlink:href=\"#m101b793085\" y=\"28.452101\"/>\r\n     <use style=\"fill:#bfbf00;stroke:#bfbf00;\" x=\"315.525279\" xlink:href=\"#m101b793085\" y=\"54.631761\"/>\r\n     <use style=\"fill:#bfbf00;stroke:#bfbf00;\" x=\"317.257553\" xlink:href=\"#m101b793085\" y=\"45.739433\"/>\r\n     <use style=\"fill:#bfbf00;stroke:#bfbf00;\" x=\"318.004727\" xlink:href=\"#m101b793085\" y=\"59.901837\"/>\r\n     <use style=\"fill:#bfbf00;stroke:#bfbf00;\" x=\"286.997827\" xlink:href=\"#m101b793085\" y=\"66.772518\"/>\r\n     <use style=\"fill:#bfbf00;stroke:#bfbf00;\" x=\"313.057657\" xlink:href=\"#m101b793085\" y=\"70.371643\"/>\r\n     <use style=\"fill:#bfbf00;stroke:#bfbf00;\" x=\"304.245638\" xlink:href=\"#m101b793085\" y=\"58.417888\"/>\r\n     <use style=\"fill:#bfbf00;stroke:#bfbf00;\" x=\"334.331502\" xlink:href=\"#m101b793085\" y=\"22.914355\"/>\r\n     <use style=\"fill:#bfbf00;stroke:#bfbf00;\" x=\"327.721672\" xlink:href=\"#m101b793085\" y=\"58.401245\"/>\r\n     <use style=\"fill:#bfbf00;stroke:#bfbf00;\" x=\"297.380156\" xlink:href=\"#m101b793085\" y=\"26.573841\"/>\r\n     <use style=\"fill:#bfbf00;stroke:#bfbf00;\" x=\"312.647128\" xlink:href=\"#m101b793085\" y=\"44.386568\"/>\r\n     <use style=\"fill:#bfbf00;stroke:#bfbf00;\" x=\"319.014469\" xlink:href=\"#m101b793085\" y=\"51.758826\"/>\r\n     <use style=\"fill:#bfbf00;stroke:#bfbf00;\" x=\"344.940829\" xlink:href=\"#m101b793085\" y=\"38.520371\"/>\r\n     <use style=\"fill:#bfbf00;stroke:#bfbf00;\" x=\"298.869526\" xlink:href=\"#m101b793085\" y=\"70.71609\"/>\r\n     <use style=\"fill:#bfbf00;stroke:#bfbf00;\" x=\"281.975403\" xlink:href=\"#m101b793085\" y=\"38.967131\"/>\r\n     <use style=\"fill:#bfbf00;stroke:#bfbf00;\" x=\"305.374593\" xlink:href=\"#m101b793085\" y=\"42.509338\"/>\r\n     <use style=\"fill:#bfbf00;stroke:#bfbf00;\" x=\"336.151806\" xlink:href=\"#m101b793085\" y=\"60.331892\"/>\r\n     <use style=\"fill:#bfbf00;stroke:#bfbf00;\" x=\"358.064631\" xlink:href=\"#m101b793085\" y=\"74.89843\"/>\r\n     <use style=\"fill:#bfbf00;stroke:#bfbf00;\" x=\"331.542875\" xlink:href=\"#m101b793085\" y=\"17.083636\"/>\r\n     <use style=\"fill:#bfbf00;stroke:#bfbf00;\" x=\"257.409927\" xlink:href=\"#m101b793085\" y=\"33.537864\"/>\r\n     <use style=\"fill:#bfbf00;stroke:#bfbf00;\" x=\"345.98361\" xlink:href=\"#m101b793085\" y=\"45.723273\"/>\r\n     <use style=\"fill:#bfbf00;stroke:#bfbf00;\" x=\"309.155682\" xlink:href=\"#m101b793085\" y=\"52.01764\"/>\r\n     <use style=\"fill:#bfbf00;stroke:#bfbf00;\" x=\"300.880791\" xlink:href=\"#m101b793085\" y=\"52.053321\"/>\r\n     <use style=\"fill:#bfbf00;stroke:#bfbf00;\" x=\"329.553536\" xlink:href=\"#m101b793085\" y=\"26.657275\"/>\r\n     <use style=\"fill:#bfbf00;stroke:#bfbf00;\" x=\"306.895354\" xlink:href=\"#m101b793085\" y=\"52.503636\"/>\r\n     <use style=\"fill:#bfbf00;stroke:#bfbf00;\" x=\"325.314817\" xlink:href=\"#m101b793085\" y=\"45.001808\"/>\r\n     <use style=\"fill:#bfbf00;stroke:#bfbf00;\" x=\"318.401632\" xlink:href=\"#m101b793085\" y=\"30.234411\"/>\r\n     <use style=\"fill:#bfbf00;stroke:#bfbf00;\" x=\"332.433687\" xlink:href=\"#m101b793085\" y=\"42.921581\"/>\r\n     <use style=\"fill:#bfbf00;stroke:#bfbf00;\" x=\"337.344989\" xlink:href=\"#m101b793085\" y=\"71.827187\"/>\r\n     <use style=\"fill:#bfbf00;stroke:#bfbf00;\" x=\"278.340822\" xlink:href=\"#m101b793085\" y=\"69.187669\"/>\r\n     <use style=\"fill:#bfbf00;stroke:#bfbf00;\" x=\"320.994448\" xlink:href=\"#m101b793085\" y=\"74.340526\"/>\r\n    </g>\r\n   </g>\r\n   <g id=\"matplotlib.axis_1\">\r\n    <g id=\"xtick_1\">\r\n     <g id=\"line2d_1\">\r\n      <defs>\r\n       <path d=\"M 0 0 \r\nL 0 3.5 \r\n\" id=\"m51bee3ef4b\" style=\"stroke:#000000;stroke-width:0.8;\"/>\r\n      </defs>\r\n      <g>\r\n       <use style=\"stroke:#000000;stroke-width:0.8;\" x=\"88.834291\" xlink:href=\"#m51bee3ef4b\" y=\"224.64\"/>\r\n      </g>\r\n     </g>\r\n     <g id=\"text_1\">\r\n      <!-- −2 -->\r\n      <g transform=\"translate(81.463197 239.238437)scale(0.1 -0.1)\">\r\n       <defs>\r\n        <path d=\"M 10.59375 35.5 \r\nL 73.1875 35.5 \r\nL 73.1875 27.203125 \r\nL 10.59375 27.203125 \r\nz\r\n\" id=\"DejaVuSans-8722\"/>\r\n        <path d=\"M 19.1875 8.296875 \r\nL 53.609375 8.296875 \r\nL 53.609375 0 \r\nL 7.328125 0 \r\nL 7.328125 8.296875 \r\nQ 12.9375 14.109375 22.625 23.890625 \r\nQ 32.328125 33.6875 34.8125 36.53125 \r\nQ 39.546875 41.84375 41.421875 45.53125 \r\nQ 43.3125 49.21875 43.3125 52.78125 \r\nQ 43.3125 58.59375 39.234375 62.25 \r\nQ 35.15625 65.921875 28.609375 65.921875 \r\nQ 23.96875 65.921875 18.8125 64.3125 \r\nQ 13.671875 62.703125 7.8125 59.421875 \r\nL 7.8125 69.390625 \r\nQ 13.765625 71.78125 18.9375 73 \r\nQ 24.125 74.21875 28.421875 74.21875 \r\nQ 39.75 74.21875 46.484375 68.546875 \r\nQ 53.21875 62.890625 53.21875 53.421875 \r\nQ 53.21875 48.921875 51.53125 44.890625 \r\nQ 49.859375 40.875 45.40625 35.40625 \r\nQ 44.1875 33.984375 37.640625 27.21875 \r\nQ 31.109375 20.453125 19.1875 8.296875 \r\nz\r\n\" id=\"DejaVuSans-50\"/>\r\n       </defs>\r\n       <use xlink:href=\"#DejaVuSans-8722\"/>\r\n       <use x=\"83.789062\" xlink:href=\"#DejaVuSans-50\"/>\r\n      </g>\r\n     </g>\r\n    </g>\r\n    <g id=\"xtick_2\">\r\n     <g id=\"line2d_2\">\r\n      <g>\r\n       <use style=\"stroke:#000000;stroke-width:0.8;\" x=\"162.793947\" xlink:href=\"#m51bee3ef4b\" y=\"224.64\"/>\r\n      </g>\r\n     </g>\r\n     <g id=\"text_2\">\r\n      <!-- −1 -->\r\n      <g transform=\"translate(155.422854 239.238437)scale(0.1 -0.1)\">\r\n       <defs>\r\n        <path d=\"M 12.40625 8.296875 \r\nL 28.515625 8.296875 \r\nL 28.515625 63.921875 \r\nL 10.984375 60.40625 \r\nL 10.984375 69.390625 \r\nL 28.421875 72.90625 \r\nL 38.28125 72.90625 \r\nL 38.28125 8.296875 \r\nL 54.390625 8.296875 \r\nL 54.390625 0 \r\nL 12.40625 0 \r\nz\r\n\" id=\"DejaVuSans-49\"/>\r\n       </defs>\r\n       <use xlink:href=\"#DejaVuSans-8722\"/>\r\n       <use x=\"83.789062\" xlink:href=\"#DejaVuSans-49\"/>\r\n      </g>\r\n     </g>\r\n    </g>\r\n    <g id=\"xtick_3\">\r\n     <g id=\"line2d_3\">\r\n      <g>\r\n       <use style=\"stroke:#000000;stroke-width:0.8;\" x=\"236.753604\" xlink:href=\"#m51bee3ef4b\" y=\"224.64\"/>\r\n      </g>\r\n     </g>\r\n     <g id=\"text_3\">\r\n      <!-- 0 -->\r\n      <g transform=\"translate(233.572354 239.238437)scale(0.1 -0.1)\">\r\n       <defs>\r\n        <path d=\"M 31.78125 66.40625 \r\nQ 24.171875 66.40625 20.328125 58.90625 \r\nQ 16.5 51.421875 16.5 36.375 \r\nQ 16.5 21.390625 20.328125 13.890625 \r\nQ 24.171875 6.390625 31.78125 6.390625 \r\nQ 39.453125 6.390625 43.28125 13.890625 \r\nQ 47.125 21.390625 47.125 36.375 \r\nQ 47.125 51.421875 43.28125 58.90625 \r\nQ 39.453125 66.40625 31.78125 66.40625 \r\nz\r\nM 31.78125 74.21875 \r\nQ 44.046875 74.21875 50.515625 64.515625 \r\nQ 56.984375 54.828125 56.984375 36.375 \r\nQ 56.984375 17.96875 50.515625 8.265625 \r\nQ 44.046875 -1.421875 31.78125 -1.421875 \r\nQ 19.53125 -1.421875 13.0625 8.265625 \r\nQ 6.59375 17.96875 6.59375 36.375 \r\nQ 6.59375 54.828125 13.0625 64.515625 \r\nQ 19.53125 74.21875 31.78125 74.21875 \r\nz\r\n\" id=\"DejaVuSans-48\"/>\r\n       </defs>\r\n       <use xlink:href=\"#DejaVuSans-48\"/>\r\n      </g>\r\n     </g>\r\n    </g>\r\n    <g id=\"xtick_4\">\r\n     <g id=\"line2d_4\">\r\n      <g>\r\n       <use style=\"stroke:#000000;stroke-width:0.8;\" x=\"310.71326\" xlink:href=\"#m51bee3ef4b\" y=\"224.64\"/>\r\n      </g>\r\n     </g>\r\n     <g id=\"text_4\">\r\n      <!-- 1 -->\r\n      <g transform=\"translate(307.53201 239.238437)scale(0.1 -0.1)\">\r\n       <use xlink:href=\"#DejaVuSans-49\"/>\r\n      </g>\r\n     </g>\r\n    </g>\r\n   </g>\r\n   <g id=\"matplotlib.axis_2\">\r\n    <g id=\"ytick_1\">\r\n     <g id=\"line2d_5\">\r\n      <defs>\r\n       <path d=\"M 0 0 \r\nL -3.5 0 \r\n\" id=\"mc4d1ec2e8a\" style=\"stroke:#000000;stroke-width:0.8;\"/>\r\n      </defs>\r\n      <g>\r\n       <use style=\"stroke:#000000;stroke-width:0.8;\" x=\"38.482813\" xlink:href=\"#mc4d1ec2e8a\" y=\"195.555138\"/>\r\n      </g>\r\n     </g>\r\n     <g id=\"text_5\">\r\n      <!-- −1.0 -->\r\n      <g transform=\"translate(7.2 199.354357)scale(0.1 -0.1)\">\r\n       <defs>\r\n        <path d=\"M 10.6875 12.40625 \r\nL 21 12.40625 \r\nL 21 0 \r\nL 10.6875 0 \r\nz\r\n\" id=\"DejaVuSans-46\"/>\r\n       </defs>\r\n       <use xlink:href=\"#DejaVuSans-8722\"/>\r\n       <use x=\"83.789062\" xlink:href=\"#DejaVuSans-49\"/>\r\n       <use x=\"147.412109\" xlink:href=\"#DejaVuSans-46\"/>\r\n       <use x=\"179.199219\" xlink:href=\"#DejaVuSans-48\"/>\r\n      </g>\r\n     </g>\r\n    </g>\r\n    <g id=\"ytick_2\">\r\n     <g id=\"line2d_6\">\r\n      <g>\r\n       <use style=\"stroke:#000000;stroke-width:0.8;\" x=\"38.482813\" xlink:href=\"#mc4d1ec2e8a\" y=\"158.985087\"/>\r\n      </g>\r\n     </g>\r\n     <g id=\"text_6\">\r\n      <!-- −0.5 -->\r\n      <g transform=\"translate(7.2 162.784306)scale(0.1 -0.1)\">\r\n       <defs>\r\n        <path d=\"M 10.796875 72.90625 \r\nL 49.515625 72.90625 \r\nL 49.515625 64.59375 \r\nL 19.828125 64.59375 \r\nL 19.828125 46.734375 \r\nQ 21.96875 47.46875 24.109375 47.828125 \r\nQ 26.265625 48.1875 28.421875 48.1875 \r\nQ 40.625 48.1875 47.75 41.5 \r\nQ 54.890625 34.8125 54.890625 23.390625 \r\nQ 54.890625 11.625 47.5625 5.09375 \r\nQ 40.234375 -1.421875 26.90625 -1.421875 \r\nQ 22.3125 -1.421875 17.546875 -0.640625 \r\nQ 12.796875 0.140625 7.71875 1.703125 \r\nL 7.71875 11.625 \r\nQ 12.109375 9.234375 16.796875 8.0625 \r\nQ 21.484375 6.890625 26.703125 6.890625 \r\nQ 35.15625 6.890625 40.078125 11.328125 \r\nQ 45.015625 15.765625 45.015625 23.390625 \r\nQ 45.015625 31 40.078125 35.4375 \r\nQ 35.15625 39.890625 26.703125 39.890625 \r\nQ 22.75 39.890625 18.8125 39.015625 \r\nQ 14.890625 38.140625 10.796875 36.28125 \r\nz\r\n\" id=\"DejaVuSans-53\"/>\r\n       </defs>\r\n       <use xlink:href=\"#DejaVuSans-8722\"/>\r\n       <use x=\"83.789062\" xlink:href=\"#DejaVuSans-48\"/>\r\n       <use x=\"147.412109\" xlink:href=\"#DejaVuSans-46\"/>\r\n       <use x=\"179.199219\" xlink:href=\"#DejaVuSans-53\"/>\r\n      </g>\r\n     </g>\r\n    </g>\r\n    <g id=\"ytick_3\">\r\n     <g id=\"line2d_7\">\r\n      <g>\r\n       <use style=\"stroke:#000000;stroke-width:0.8;\" x=\"38.482813\" xlink:href=\"#mc4d1ec2e8a\" y=\"122.415035\"/>\r\n      </g>\r\n     </g>\r\n     <g id=\"text_7\">\r\n      <!-- 0.0 -->\r\n      <g transform=\"translate(15.579688 126.214254)scale(0.1 -0.1)\">\r\n       <use xlink:href=\"#DejaVuSans-48\"/>\r\n       <use x=\"63.623047\" xlink:href=\"#DejaVuSans-46\"/>\r\n       <use x=\"95.410156\" xlink:href=\"#DejaVuSans-48\"/>\r\n      </g>\r\n     </g>\r\n    </g>\r\n    <g id=\"ytick_4\">\r\n     <g id=\"line2d_8\">\r\n      <g>\r\n       <use style=\"stroke:#000000;stroke-width:0.8;\" x=\"38.482813\" xlink:href=\"#mc4d1ec2e8a\" y=\"85.844984\"/>\r\n      </g>\r\n     </g>\r\n     <g id=\"text_8\">\r\n      <!-- 0.5 -->\r\n      <g transform=\"translate(15.579688 89.644203)scale(0.1 -0.1)\">\r\n       <use xlink:href=\"#DejaVuSans-48\"/>\r\n       <use x=\"63.623047\" xlink:href=\"#DejaVuSans-46\"/>\r\n       <use x=\"95.410156\" xlink:href=\"#DejaVuSans-53\"/>\r\n      </g>\r\n     </g>\r\n    </g>\r\n    <g id=\"ytick_5\">\r\n     <g id=\"line2d_9\">\r\n      <g>\r\n       <use style=\"stroke:#000000;stroke-width:0.8;\" x=\"38.482813\" xlink:href=\"#mc4d1ec2e8a\" y=\"49.274932\"/>\r\n      </g>\r\n     </g>\r\n     <g id=\"text_9\">\r\n      <!-- 1.0 -->\r\n      <g transform=\"translate(15.579688 53.074151)scale(0.1 -0.1)\">\r\n       <use xlink:href=\"#DejaVuSans-49\"/>\r\n       <use x=\"63.623047\" xlink:href=\"#DejaVuSans-46\"/>\r\n       <use x=\"95.410156\" xlink:href=\"#DejaVuSans-48\"/>\r\n      </g>\r\n     </g>\r\n    </g>\r\n    <g id=\"ytick_6\">\r\n     <g id=\"line2d_10\">\r\n      <g>\r\n       <use style=\"stroke:#000000;stroke-width:0.8;\" x=\"38.482813\" xlink:href=\"#mc4d1ec2e8a\" y=\"12.704881\"/>\r\n      </g>\r\n     </g>\r\n     <g id=\"text_10\">\r\n      <!-- 1.5 -->\r\n      <g transform=\"translate(15.579688 16.504099)scale(0.1 -0.1)\">\r\n       <use xlink:href=\"#DejaVuSans-49\"/>\r\n       <use x=\"63.623047\" xlink:href=\"#DejaVuSans-46\"/>\r\n       <use x=\"95.410156\" xlink:href=\"#DejaVuSans-53\"/>\r\n      </g>\r\n     </g>\r\n    </g>\r\n   </g>\r\n   <g id=\"patch_3\">\r\n    <path d=\"M 38.482813 224.64 \r\nL 38.482813 7.2 \r\n\" style=\"fill:none;stroke:#000000;stroke-linecap:square;stroke-linejoin:miter;stroke-width:0.8;\"/>\r\n   </g>\r\n   <g id=\"patch_4\">\r\n    <path d=\"M 373.282813 224.64 \r\nL 373.282813 7.2 \r\n\" style=\"fill:none;stroke:#000000;stroke-linecap:square;stroke-linejoin:miter;stroke-width:0.8;\"/>\r\n   </g>\r\n   <g id=\"patch_5\">\r\n    <path d=\"M 38.482812 224.64 \r\nL 373.282812 224.64 \r\n\" style=\"fill:none;stroke:#000000;stroke-linecap:square;stroke-linejoin:miter;stroke-width:0.8;\"/>\r\n   </g>\r\n   <g id=\"patch_6\">\r\n    <path d=\"M 38.482812 7.2 \r\nL 373.282812 7.2 \r\n\" style=\"fill:none;stroke:#000000;stroke-linecap:square;stroke-linejoin:miter;stroke-width:0.8;\"/>\r\n   </g>\r\n  </g>\r\n </g>\r\n <defs>\r\n  <clipPath id=\"pc513a8f89d\">\r\n   <rect height=\"217.44\" width=\"334.8\" x=\"38.482813\" y=\"7.2\"/>\r\n  </clipPath>\r\n </defs>\r\n</svg>\r\n",
      "image/png": "[encoded data removed]"
     },
     "metadata": {
      "needs_background": "light"
     }
    }
   ],
   "source": [
    "#plot the new labels\n",
    "plt.scatter(new_0[:,0],new_0[:,1], c ='g')\n",
    "plt.scatter(new_1[:,0],new_1[:,1], c= 'c')\n",
    "plt.scatter(new_2[:,0],new_2[:,1], c= 'y')\n",
    "# YOUR CODE HERE\n",
    "#raise NotImplementedError()"
   ]
  },
  {
   "cell_type": "code",
   "execution_count": 195,
   "metadata": {
    "deletable": false,
    "nbgrader": {
     "cell_type": "code",
     "checksum": "30dd9068ed42010daa03e359cef86058",
     "grade": false,
     "grade_id": "cell-fb66bc887cd85537",
     "locked": false,
     "schema_version": 3,
     "solution": true,
     "task": false
    }
   },
   "outputs": [
    {
     "output_type": "display_data",
     "data": {
      "text/plain": "<Figure size 432x288 with 1 Axes>",
      "image/svg+xml": "<?xml version=\"1.0\" encoding=\"utf-8\" standalone=\"no\"?>\r\n<!DOCTYPE svg PUBLIC \"-//W3C//DTD SVG 1.1//EN\"\r\n  \"http://www.w3.org/Graphics/SVG/1.1/DTD/svg11.dtd\">\r\n<!-- Created with matplotlib (https://matplotlib.org/) -->\r\n<svg height=\"263.63625pt\" version=\"1.1\" viewBox=\"0 0 380.482812 263.63625\" width=\"380.482812pt\" xmlns=\"http://www.w3.org/2000/svg\" xmlns:xlink=\"http://www.w3.org/1999/xlink\">\r\n <metadata>\r\n  <rdf:RDF xmlns:cc=\"http://creativecommons.org/ns#\" xmlns:dc=\"http://purl.org/dc/elements/1.1/\" xmlns:rdf=\"http://www.w3.org/1999/02/22-rdf-syntax-ns#\">\r\n   <cc:Work>\r\n    <dc:type rdf:resource=\"http://purl.org/dc/dcmitype/StillImage\"/>\r\n    <dc:date>2021-06-30T17:05:42.315264</dc:date>\r\n    <dc:format>image/svg+xml</dc:format>\r\n    <dc:creator>\r\n     <cc:Agent>\r\n      <dc:title>Matplotlib v3.3.4, https://matplotlib.org/</dc:title>\r\n     </cc:Agent>\r\n    </dc:creator>\r\n   </cc:Work>\r\n  </rdf:RDF>\r\n </metadata>\r\n <defs>\r\n  <style type=\"text/css\">*{stroke-linecap:butt;stroke-linejoin:round;}</style>\r\n </defs>\r\n <g id=\"figure_1\">\r\n  <g id=\"patch_1\">\r\n   <path d=\"M -0 263.63625 \r\nL 380.482812 263.63625 \r\nL 380.482812 0 \r\nL -0 0 \r\nz\r\n\" style=\"fill:none;\"/>\r\n  </g>\r\n  <g id=\"axes_1\">\r\n   <g id=\"patch_2\">\r\n    <path d=\"M 38.482813 239.758125 \r\nL 373.282813 239.758125 \r\nL 373.282813 22.318125 \r\nL 38.482813 22.318125 \r\nz\r\n\" style=\"fill:#ffffff;\"/>\r\n   </g>\r\n   <g id=\"PathCollection_1\">\r\n    <defs>\r\n     <path d=\"M 0 3 \r\nC 0.795609 3 1.55874 2.683901 2.12132 2.12132 \r\nC 2.683901 1.55874 3 0.795609 3 0 \r\nC 3 -0.795609 2.683901 -1.55874 2.12132 -2.12132 \r\nC 1.55874 -2.683901 0.795609 -3 0 -3 \r\nC -0.795609 -3 -1.55874 -2.683901 -2.12132 -2.12132 \r\nC -2.683901 -1.55874 -3 -0.795609 -3 0 \r\nC -3 0.795609 -2.683901 1.55874 -2.12132 2.12132 \r\nC -1.55874 2.683901 -0.795609 3 0 3 \r\nz\r\n\" id=\"mc00904d6a9\" style=\"stroke:#ffa500;\"/>\r\n    </defs>\r\n    <g clip-path=\"url(#p62ad58df75)\">\r\n     <use style=\"fill:#ffa500;stroke:#ffa500;\" x=\"240.388745\" xlink:href=\"#mc00904d6a9\" y=\"192.596113\"/>\r\n     <use style=\"fill:#ffa500;stroke:#ffa500;\" x=\"216.975174\" xlink:href=\"#mc00904d6a9\" y=\"183.557979\"/>\r\n     <use style=\"fill:#ffa500;stroke:#ffa500;\" x=\"265.96866\" xlink:href=\"#mc00904d6a9\" y=\"190.476379\"/>\r\n     <use style=\"fill:#ffa500;stroke:#ffa500;\" x=\"233.860428\" xlink:href=\"#mc00904d6a9\" y=\"218.884171\"/>\r\n     <use style=\"fill:#ffa500;stroke:#ffa500;\" x=\"224.689505\" xlink:href=\"#mc00904d6a9\" y=\"189.350158\"/>\r\n     <use style=\"fill:#ffa500;stroke:#ffa500;\" x=\"238.45677\" xlink:href=\"#mc00904d6a9\" y=\"191.19302\"/>\r\n     <use style=\"fill:#ffa500;stroke:#ffa500;\" x=\"281.215497\" xlink:href=\"#mc00904d6a9\" y=\"181.033162\"/>\r\n     <use style=\"fill:#ffa500;stroke:#ffa500;\" x=\"253.17798\" xlink:href=\"#mc00904d6a9\" y=\"177.697189\"/>\r\n     <use style=\"fill:#ffa500;stroke:#ffa500;\" x=\"309.578253\" xlink:href=\"#mc00904d6a9\" y=\"179.278977\"/>\r\n     <use style=\"fill:#ffa500;stroke:#ffa500;\" x=\"215.055342\" xlink:href=\"#mc00904d6a9\" y=\"169.39696\"/>\r\n     <use style=\"fill:#ffa500;stroke:#ffa500;\" x=\"250.444304\" xlink:href=\"#mc00904d6a9\" y=\"194.674425\"/>\r\n     <use style=\"fill:#ffa500;stroke:#ffa500;\" x=\"241.727643\" xlink:href=\"#mc00904d6a9\" y=\"189.262141\"/>\r\n     <use style=\"fill:#ffa500;stroke:#ffa500;\" x=\"263.457383\" xlink:href=\"#mc00904d6a9\" y=\"195.861982\"/>\r\n     <use style=\"fill:#ffa500;stroke:#ffa500;\" x=\"234.66935\" xlink:href=\"#mc00904d6a9\" y=\"205.758348\"/>\r\n     <use style=\"fill:#ffa500;stroke:#ffa500;\" x=\"243.098314\" xlink:href=\"#mc00904d6a9\" y=\"195.926536\"/>\r\n     <use style=\"fill:#ffa500;stroke:#ffa500;\" x=\"204.084638\" xlink:href=\"#mc00904d6a9\" y=\"185.581505\"/>\r\n     <use style=\"fill:#ffa500;stroke:#ffa500;\" x=\"238.656131\" xlink:href=\"#mc00904d6a9\" y=\"222.09366\"/>\r\n     <use style=\"fill:#ffa500;stroke:#ffa500;\" x=\"269.777906\" xlink:href=\"#mc00904d6a9\" y=\"215.739869\"/>\r\n     <use style=\"fill:#ffa500;stroke:#ffa500;\" x=\"230.008191\" xlink:href=\"#mc00904d6a9\" y=\"198.136553\"/>\r\n     <use style=\"fill:#ffa500;stroke:#ffa500;\" x=\"223.878812\" xlink:href=\"#mc00904d6a9\" y=\"221.972414\"/>\r\n     <use style=\"fill:#ffa500;stroke:#ffa500;\" x=\"211.533872\" xlink:href=\"#mc00904d6a9\" y=\"181.483782\"/>\r\n     <use style=\"fill:#ffa500;stroke:#ffa500;\" x=\"293.388816\" xlink:href=\"#mc00904d6a9\" y=\"190.637868\"/>\r\n     <use style=\"fill:#ffa500;stroke:#ffa500;\" x=\"274.968512\" xlink:href=\"#mc00904d6a9\" y=\"204.089126\"/>\r\n     <use style=\"fill:#ffa500;stroke:#ffa500;\" x=\"269.196829\" xlink:href=\"#mc00904d6a9\" y=\"191.406114\"/>\r\n     <use style=\"fill:#ffa500;stroke:#ffa500;\" x=\"273.011524\" xlink:href=\"#mc00904d6a9\" y=\"200.00883\"/>\r\n     <use style=\"fill:#ffa500;stroke:#ffa500;\" x=\"280.614851\" xlink:href=\"#mc00904d6a9\" y=\"218.832569\"/>\r\n     <use style=\"fill:#ffa500;stroke:#ffa500;\" x=\"260.255414\" xlink:href=\"#mc00904d6a9\" y=\"194.566106\"/>\r\n     <use style=\"fill:#ffa500;stroke:#ffa500;\" x=\"254.418773\" xlink:href=\"#mc00904d6a9\" y=\"160.654466\"/>\r\n     <use style=\"fill:#ffa500;stroke:#ffa500;\" x=\"223.023548\" xlink:href=\"#mc00904d6a9\" y=\"208.818653\"/>\r\n     <use style=\"fill:#ffa500;stroke:#ffa500;\" x=\"282.092783\" xlink:href=\"#mc00904d6a9\" y=\"186.280681\"/>\r\n     <use style=\"fill:#ffa500;stroke:#ffa500;\" x=\"265.192208\" xlink:href=\"#mc00904d6a9\" y=\"162.361387\"/>\r\n     <use style=\"fill:#ffa500;stroke:#ffa500;\" x=\"284.293466\" xlink:href=\"#mc00904d6a9\" y=\"201.791255\"/>\r\n     <use style=\"fill:#ffa500;stroke:#ffa500;\" x=\"234.956344\" xlink:href=\"#mc00904d6a9\" y=\"195.140685\"/>\r\n     <use style=\"fill:#ffa500;stroke:#ffa500;\" x=\"259.163833\" xlink:href=\"#mc00904d6a9\" y=\"195.028581\"/>\r\n     <use style=\"fill:#ffa500;stroke:#ffa500;\" x=\"194.18788\" xlink:href=\"#mc00904d6a9\" y=\"219.716385\"/>\r\n     <use style=\"fill:#ffa500;stroke:#ffa500;\" x=\"234.874639\" xlink:href=\"#mc00904d6a9\" y=\"193.603764\"/>\r\n     <use style=\"fill:#ffa500;stroke:#ffa500;\" x=\"248.127775\" xlink:href=\"#mc00904d6a9\" y=\"184.12718\"/>\r\n     <use style=\"fill:#ffa500;stroke:#ffa500;\" x=\"226.682117\" xlink:href=\"#mc00904d6a9\" y=\"209.863866\"/>\r\n     <use style=\"fill:#ffa500;stroke:#ffa500;\" x=\"223.783786\" xlink:href=\"#mc00904d6a9\" y=\"196.522341\"/>\r\n     <use style=\"fill:#ffa500;stroke:#ffa500;\" x=\"240.86741\" xlink:href=\"#mc00904d6a9\" y=\"188.052315\"/>\r\n     <use style=\"fill:#ffa500;stroke:#ffa500;\" x=\"248.849356\" xlink:href=\"#mc00904d6a9\" y=\"217.095328\"/>\r\n     <use style=\"fill:#ffa500;stroke:#ffa500;\" x=\"241.898129\" xlink:href=\"#mc00904d6a9\" y=\"194.386956\"/>\r\n     <use style=\"fill:#ffa500;stroke:#ffa500;\" x=\"220.639815\" xlink:href=\"#mc00904d6a9\" y=\"215.582281\"/>\r\n     <use style=\"fill:#ffa500;stroke:#ffa500;\" x=\"254.66551\" xlink:href=\"#mc00904d6a9\" y=\"203.848237\"/>\r\n     <use style=\"fill:#ffa500;stroke:#ffa500;\" x=\"217.40398\" xlink:href=\"#mc00904d6a9\" y=\"211.082851\"/>\r\n     <use style=\"fill:#ffa500;stroke:#ffa500;\" x=\"217.072062\" xlink:href=\"#mc00904d6a9\" y=\"191.280552\"/>\r\n     <use style=\"fill:#ffa500;stroke:#ffa500;\" x=\"267.742299\" xlink:href=\"#mc00904d6a9\" y=\"190.088138\"/>\r\n     <use style=\"fill:#ffa500;stroke:#ffa500;\" x=\"260.749251\" xlink:href=\"#mc00904d6a9\" y=\"163.434457\"/>\r\n     <use style=\"fill:#ffa500;stroke:#ffa500;\" x=\"249.132361\" xlink:href=\"#mc00904d6a9\" y=\"179.113553\"/>\r\n     <use style=\"fill:#ffa500;stroke:#ffa500;\" x=\"250.237314\" xlink:href=\"#mc00904d6a9\" y=\"209.522705\"/>\r\n     <use style=\"fill:#ffa500;stroke:#ffa500;\" x=\"231.899348\" xlink:href=\"#mc00904d6a9\" y=\"229.874489\"/>\r\n     <use style=\"fill:#ffa500;stroke:#ffa500;\" x=\"276.265836\" xlink:href=\"#mc00904d6a9\" y=\"213.20266\"/>\r\n     <use style=\"fill:#ffa500;stroke:#ffa500;\" x=\"255.539763\" xlink:href=\"#mc00904d6a9\" y=\"196.98371\"/>\r\n     <use style=\"fill:#ffa500;stroke:#ffa500;\" x=\"247.557848\" xlink:href=\"#mc00904d6a9\" y=\"194.759359\"/>\r\n     <use style=\"fill:#ffa500;stroke:#ffa500;\" x=\"263.085916\" xlink:href=\"#mc00904d6a9\" y=\"171.101479\"/>\r\n     <use style=\"fill:#ffa500;stroke:#ffa500;\" x=\"226.149073\" xlink:href=\"#mc00904d6a9\" y=\"195.024072\"/>\r\n     <use style=\"fill:#ffa500;stroke:#ffa500;\" x=\"244.67998\" xlink:href=\"#mc00904d6a9\" y=\"215.5404\"/>\r\n     <use style=\"fill:#ffa500;stroke:#ffa500;\" x=\"258.365368\" xlink:href=\"#mc00904d6a9\" y=\"228.825864\"/>\r\n     <use style=\"fill:#ffa500;stroke:#ffa500;\" x=\"245.70393\" xlink:href=\"#mc00904d6a9\" y=\"221.037781\"/>\r\n     <use style=\"fill:#ffa500;stroke:#ffa500;\" x=\"253.994774\" xlink:href=\"#mc00904d6a9\" y=\"225.082474\"/>\r\n     <use style=\"fill:#ffa500;stroke:#ffa500;\" x=\"268.027433\" xlink:href=\"#mc00904d6a9\" y=\"179.445041\"/>\r\n     <use style=\"fill:#ffa500;stroke:#ffa500;\" x=\"283.972639\" xlink:href=\"#mc00904d6a9\" y=\"178.827681\"/>\r\n     <use style=\"fill:#ffa500;stroke:#ffa500;\" x=\"251.991862\" xlink:href=\"#mc00904d6a9\" y=\"208.859037\"/>\r\n     <use style=\"fill:#ffa500;stroke:#ffa500;\" x=\"252.359543\" xlink:href=\"#mc00904d6a9\" y=\"188.812503\"/>\r\n     <use style=\"fill:#ffa500;stroke:#ffa500;\" x=\"278.37744\" xlink:href=\"#mc00904d6a9\" y=\"219.179935\"/>\r\n     <use style=\"fill:#ffa500;stroke:#ffa500;\" x=\"237.737113\" xlink:href=\"#mc00904d6a9\" y=\"171.822171\"/>\r\n     <use style=\"fill:#ffa500;stroke:#ffa500;\" x=\"251.144996\" xlink:href=\"#mc00904d6a9\" y=\"209.938251\"/>\r\n     <use style=\"fill:#ffa500;stroke:#ffa500;\" x=\"253.738596\" xlink:href=\"#mc00904d6a9\" y=\"196.194192\"/>\r\n     <use style=\"fill:#ffa500;stroke:#ffa500;\" x=\"218.597602\" xlink:href=\"#mc00904d6a9\" y=\"188.619277\"/>\r\n     <use style=\"fill:#ffa500;stroke:#ffa500;\" x=\"217.24879\" xlink:href=\"#mc00904d6a9\" y=\"195.714159\"/>\r\n     <use style=\"fill:#ffa500;stroke:#ffa500;\" x=\"278.187842\" xlink:href=\"#mc00904d6a9\" y=\"172.709136\"/>\r\n     <use style=\"fill:#ffa500;stroke:#ffa500;\" x=\"241.381438\" xlink:href=\"#mc00904d6a9\" y=\"162.643991\"/>\r\n     <use style=\"fill:#ffa500;stroke:#ffa500;\" x=\"260.601603\" xlink:href=\"#mc00904d6a9\" y=\"220.236321\"/>\r\n     <use style=\"fill:#ffa500;stroke:#ffa500;\" x=\"227.1268\" xlink:href=\"#mc00904d6a9\" y=\"182.218901\"/>\r\n     <use style=\"fill:#ffa500;stroke:#ffa500;\" x=\"257.191923\" xlink:href=\"#mc00904d6a9\" y=\"193.134874\"/>\r\n     <use style=\"fill:#ffa500;stroke:#ffa500;\" x=\"236.374925\" xlink:href=\"#mc00904d6a9\" y=\"178.147243\"/>\r\n     <use style=\"fill:#ffa500;stroke:#ffa500;\" x=\"265.309264\" xlink:href=\"#mc00904d6a9\" y=\"229.280456\"/>\r\n     <use style=\"fill:#ffa500;stroke:#ffa500;\" x=\"271.380692\" xlink:href=\"#mc00904d6a9\" y=\"193.934547\"/>\r\n     <use style=\"fill:#ffa500;stroke:#ffa500;\" x=\"261.234362\" xlink:href=\"#mc00904d6a9\" y=\"195.219701\"/>\r\n     <use style=\"fill:#ffa500;stroke:#ffa500;\" x=\"293.509424\" xlink:href=\"#mc00904d6a9\" y=\"190.360649\"/>\r\n     <use style=\"fill:#ffa500;stroke:#ffa500;\" x=\"253.089405\" xlink:href=\"#mc00904d6a9\" y=\"182.545341\"/>\r\n     <use style=\"fill:#ffa500;stroke:#ffa500;\" x=\"266.328722\" xlink:href=\"#mc00904d6a9\" y=\"188.520214\"/>\r\n     <use style=\"fill:#ffa500;stroke:#ffa500;\" x=\"249.321761\" xlink:href=\"#mc00904d6a9\" y=\"195.895197\"/>\r\n     <use style=\"fill:#ffa500;stroke:#ffa500;\" x=\"254.712039\" xlink:href=\"#mc00904d6a9\" y=\"146.937637\"/>\r\n     <use style=\"fill:#ffa500;stroke:#ffa500;\" x=\"252.929631\" xlink:href=\"#mc00904d6a9\" y=\"177.377593\"/>\r\n     <use style=\"fill:#ffa500;stroke:#ffa500;\" x=\"259.614811\" xlink:href=\"#mc00904d6a9\" y=\"198.41346\"/>\r\n     <use style=\"fill:#ffa500;stroke:#ffa500;\" x=\"247.964108\" xlink:href=\"#mc00904d6a9\" y=\"191.824307\"/>\r\n     <use style=\"fill:#ffa500;stroke:#ffa500;\" x=\"226.942619\" xlink:href=\"#mc00904d6a9\" y=\"172.966296\"/>\r\n     <use style=\"fill:#ffa500;stroke:#ffa500;\" x=\"236.581657\" xlink:href=\"#mc00904d6a9\" y=\"157.622708\"/>\r\n     <use style=\"fill:#ffa500;stroke:#ffa500;\" x=\"259.82703\" xlink:href=\"#mc00904d6a9\" y=\"191.182357\"/>\r\n     <use style=\"fill:#ffa500;stroke:#ffa500;\" x=\"235.424117\" xlink:href=\"#mc00904d6a9\" y=\"205.388158\"/>\r\n     <use style=\"fill:#ffa500;stroke:#ffa500;\" x=\"268.522033\" xlink:href=\"#mc00904d6a9\" y=\"210.946357\"/>\r\n     <use style=\"fill:#ffa500;stroke:#ffa500;\" x=\"270.74282\" xlink:href=\"#mc00904d6a9\" y=\"219.045003\"/>\r\n     <use style=\"fill:#ffa500;stroke:#ffa500;\" x=\"237.654098\" xlink:href=\"#mc00904d6a9\" y=\"194.485162\"/>\r\n     <use style=\"fill:#ffa500;stroke:#ffa500;\" x=\"269.8626\" xlink:href=\"#mc00904d6a9\" y=\"206.504303\"/>\r\n     <use style=\"fill:#ffa500;stroke:#ffa500;\" x=\"271.412023\" xlink:href=\"#mc00904d6a9\" y=\"183.482303\"/>\r\n     <use style=\"fill:#ffa500;stroke:#ffa500;\" x=\"190.378764\" xlink:href=\"#mc00904d6a9\" y=\"205.739384\"/>\r\n     <use style=\"fill:#ffa500;stroke:#ffa500;\" x=\"244.792505\" xlink:href=\"#mc00904d6a9\" y=\"202.830558\"/>\r\n     <use style=\"fill:#ffa500;stroke:#ffa500;\" x=\"197.663783\" xlink:href=\"#mc00904d6a9\" y=\"222.959511\"/>\r\n     <use style=\"fill:#ffa500;stroke:#ffa500;\" x=\"251.419584\" xlink:href=\"#mc00904d6a9\" y=\"201.024383\"/>\r\n     <use style=\"fill:#ffa500;stroke:#ffa500;\" x=\"219.647911\" xlink:href=\"#mc00904d6a9\" y=\"191.708156\"/>\r\n     <use style=\"fill:#ffa500;stroke:#ffa500;\" x=\"280.32375\" xlink:href=\"#mc00904d6a9\" y=\"208.041989\"/>\r\n     <use style=\"fill:#ffa500;stroke:#ffa500;\" x=\"245.740984\" xlink:href=\"#mc00904d6a9\" y=\"171.191624\"/>\r\n     <use style=\"fill:#ffa500;stroke:#ffa500;\" x=\"224.152022\" xlink:href=\"#mc00904d6a9\" y=\"217.429858\"/>\r\n     <use style=\"fill:#ffa500;stroke:#ffa500;\" x=\"265.123242\" xlink:href=\"#mc00904d6a9\" y=\"195.096326\"/>\r\n     <use style=\"fill:#ffa500;stroke:#ffa500;\" x=\"229.670256\" xlink:href=\"#mc00904d6a9\" y=\"205.643179\"/>\r\n     <use style=\"fill:#ffa500;stroke:#ffa500;\" x=\"249.423207\" xlink:href=\"#mc00904d6a9\" y=\"170.880262\"/>\r\n     <use style=\"fill:#ffa500;stroke:#ffa500;\" x=\"256.931844\" xlink:href=\"#mc00904d6a9\" y=\"215.541967\"/>\r\n     <use style=\"fill:#ffa500;stroke:#ffa500;\" x=\"229.953861\" xlink:href=\"#mc00904d6a9\" y=\"179.968248\"/>\r\n     <use style=\"fill:#ffa500;stroke:#ffa500;\" x=\"261.248103\" xlink:href=\"#mc00904d6a9\" y=\"216.615349\"/>\r\n     <use style=\"fill:#ffa500;stroke:#ffa500;\" x=\"237.481732\" xlink:href=\"#mc00904d6a9\" y=\"184.250856\"/>\r\n    </g>\r\n   </g>\r\n   <g id=\"PathCollection_2\">\r\n    <defs>\r\n     <path d=\"M 0 3 \r\nC 0.795609 3 1.55874 2.683901 2.12132 2.12132 \r\nC 2.683901 1.55874 3 0.795609 3 0 \r\nC 3 -0.795609 2.683901 -1.55874 2.12132 -2.12132 \r\nC 1.55874 -2.683901 0.795609 -3 0 -3 \r\nC -0.795609 -3 -1.55874 -2.683901 -2.12132 -2.12132 \r\nC -2.683901 -1.55874 -3 -0.795609 -3 0 \r\nC -3 0.795609 -2.683901 1.55874 -2.12132 2.12132 \r\nC -1.55874 2.683901 -0.795609 3 0 3 \r\nz\r\n\" id=\"md2b8dc5ea3\" style=\"stroke:#ff0000;\"/>\r\n    </defs>\r\n    <g clip-path=\"url(#p62ad58df75)\">\r\n     <use style=\"fill:#ff0000;stroke:#ff0000;\" x=\"126.292558\" xlink:href=\"#md2b8dc5ea3\" y=\"171.271155\"/>\r\n     <use style=\"fill:#ff0000;stroke:#ff0000;\" x=\"106.822725\" xlink:href=\"#md2b8dc5ea3\" y=\"164.296551\"/>\r\n     <use style=\"fill:#ff0000;stroke:#ff0000;\" x=\"118.659959\" xlink:href=\"#md2b8dc5ea3\" y=\"146.060007\"/>\r\n     <use style=\"fill:#ff0000;stroke:#ff0000;\" x=\"119.834998\" xlink:href=\"#md2b8dc5ea3\" y=\"174.434607\"/>\r\n     <use style=\"fill:#ff0000;stroke:#ff0000;\" x=\"103.803348\" xlink:href=\"#md2b8dc5ea3\" y=\"154.759503\"/>\r\n     <use style=\"fill:#ff0000;stroke:#ff0000;\" x=\"115.076165\" xlink:href=\"#md2b8dc5ea3\" y=\"137.542006\"/>\r\n     <use style=\"fill:#ff0000;stroke:#ff0000;\" x=\"123.733097\" xlink:href=\"#md2b8dc5ea3\" y=\"197.506488\"/>\r\n     <use style=\"fill:#ff0000;stroke:#ff0000;\" x=\"133.101412\" xlink:href=\"#md2b8dc5ea3\" y=\"159.235698\"/>\r\n     <use style=\"fill:#ff0000;stroke:#ff0000;\" x=\"122.237824\" xlink:href=\"#md2b8dc5ea3\" y=\"138.917444\"/>\r\n     <use style=\"fill:#ff0000;stroke:#ff0000;\" x=\"78.50711\" xlink:href=\"#md2b8dc5ea3\" y=\"113.152455\"/>\r\n     <use style=\"fill:#ff0000;stroke:#ff0000;\" x=\"149.068308\" xlink:href=\"#md2b8dc5ea3\" y=\"166.222473\"/>\r\n     <use style=\"fill:#ff0000;stroke:#ff0000;\" x=\"104.352476\" xlink:href=\"#md2b8dc5ea3\" y=\"147.305171\"/>\r\n     <use style=\"fill:#ff0000;stroke:#ff0000;\" x=\"129.105761\" xlink:href=\"#md2b8dc5ea3\" y=\"156.397657\"/>\r\n     <use style=\"fill:#ff0000;stroke:#ff0000;\" x=\"88.85934\" xlink:href=\"#md2b8dc5ea3\" y=\"145.600719\"/>\r\n     <use style=\"fill:#ff0000;stroke:#ff0000;\" x=\"121.765659\" xlink:href=\"#md2b8dc5ea3\" y=\"155.186845\"/>\r\n     <use style=\"fill:#ff0000;stroke:#ff0000;\" x=\"130.269307\" xlink:href=\"#md2b8dc5ea3\" y=\"145.64708\"/>\r\n     <use style=\"fill:#ff0000;stroke:#ff0000;\" x=\"138.7342\" xlink:href=\"#md2b8dc5ea3\" y=\"129.817513\"/>\r\n     <use style=\"fill:#ff0000;stroke:#ff0000;\" x=\"132.955673\" xlink:href=\"#md2b8dc5ea3\" y=\"179.716908\"/>\r\n     <use style=\"fill:#ff0000;stroke:#ff0000;\" x=\"127.387576\" xlink:href=\"#md2b8dc5ea3\" y=\"197.02792\"/>\r\n     <use style=\"fill:#ff0000;stroke:#ff0000;\" x=\"94.5693\" xlink:href=\"#md2b8dc5ea3\" y=\"170.140744\"/>\r\n     <use style=\"fill:#ff0000;stroke:#ff0000;\" x=\"101.417754\" xlink:href=\"#md2b8dc5ea3\" y=\"134.989645\"/>\r\n     <use style=\"fill:#ff0000;stroke:#ff0000;\" x=\"137.326837\" xlink:href=\"#md2b8dc5ea3\" y=\"126.385901\"/>\r\n     <use style=\"fill:#ff0000;stroke:#ff0000;\" x=\"106.497894\" xlink:href=\"#md2b8dc5ea3\" y=\"205.074308\"/>\r\n     <use style=\"fill:#ff0000;stroke:#ff0000;\" x=\"115.137903\" xlink:href=\"#md2b8dc5ea3\" y=\"163.481175\"/>\r\n     <use style=\"fill:#ff0000;stroke:#ff0000;\" x=\"148.551053\" xlink:href=\"#md2b8dc5ea3\" y=\"156.976204\"/>\r\n     <use style=\"fill:#ff0000;stroke:#ff0000;\" x=\"160.43908\" xlink:href=\"#md2b8dc5ea3\" y=\"144.929939\"/>\r\n     <use style=\"fill:#ff0000;stroke:#ff0000;\" x=\"128.211594\" xlink:href=\"#md2b8dc5ea3\" y=\"177.154185\"/>\r\n     <use style=\"fill:#ff0000;stroke:#ff0000;\" x=\"112.112846\" xlink:href=\"#md2b8dc5ea3\" y=\"173.296444\"/>\r\n     <use style=\"fill:#ff0000;stroke:#ff0000;\" x=\"120.500609\" xlink:href=\"#md2b8dc5ea3\" y=\"155.712549\"/>\r\n     <use style=\"fill:#ff0000;stroke:#ff0000;\" x=\"157.628094\" xlink:href=\"#md2b8dc5ea3\" y=\"149.175402\"/>\r\n     <use style=\"fill:#ff0000;stroke:#ff0000;\" x=\"140.29847\" xlink:href=\"#md2b8dc5ea3\" y=\"163.127371\"/>\r\n     <use style=\"fill:#ff0000;stroke:#ff0000;\" x=\"153.536364\" xlink:href=\"#md2b8dc5ea3\" y=\"163.378155\"/>\r\n     <use style=\"fill:#ff0000;stroke:#ff0000;\" x=\"97.264578\" xlink:href=\"#md2b8dc5ea3\" y=\"125.037687\"/>\r\n     <use style=\"fill:#ff0000;stroke:#ff0000;\" x=\"122.814601\" xlink:href=\"#md2b8dc5ea3\" y=\"161.696473\"/>\r\n     <use style=\"fill:#ff0000;stroke:#ff0000;\" x=\"117.465215\" xlink:href=\"#md2b8dc5ea3\" y=\"187.045897\"/>\r\n     <use style=\"fill:#ff0000;stroke:#ff0000;\" x=\"100.026885\" xlink:href=\"#md2b8dc5ea3\" y=\"188.332244\"/>\r\n     <use style=\"fill:#ff0000;stroke:#ff0000;\" x=\"120.384061\" xlink:href=\"#md2b8dc5ea3\" y=\"129.921482\"/>\r\n     <use style=\"fill:#ff0000;stroke:#ff0000;\" x=\"122.993273\" xlink:href=\"#md2b8dc5ea3\" y=\"150.306374\"/>\r\n     <use style=\"fill:#ff0000;stroke:#ff0000;\" x=\"135.485766\" xlink:href=\"#md2b8dc5ea3\" y=\"133.955366\"/>\r\n     <use style=\"fill:#ff0000;stroke:#ff0000;\" x=\"53.700994\" xlink:href=\"#md2b8dc5ea3\" y=\"158.780976\"/>\r\n     <use style=\"fill:#ff0000;stroke:#ff0000;\" x=\"139.428188\" xlink:href=\"#md2b8dc5ea3\" y=\"128.446674\"/>\r\n     <use style=\"fill:#ff0000;stroke:#ff0000;\" x=\"138.760015\" xlink:href=\"#md2b8dc5ea3\" y=\"156.274229\"/>\r\n     <use style=\"fill:#ff0000;stroke:#ff0000;\" x=\"141.701005\" xlink:href=\"#md2b8dc5ea3\" y=\"167.927544\"/>\r\n     <use style=\"fill:#ff0000;stroke:#ff0000;\" x=\"98.466727\" xlink:href=\"#md2b8dc5ea3\" y=\"133.927715\"/>\r\n     <use style=\"fill:#ff0000;stroke:#ff0000;\" x=\"118.491812\" xlink:href=\"#md2b8dc5ea3\" y=\"181.314761\"/>\r\n     <use style=\"fill:#ff0000;stroke:#ff0000;\" x=\"95.657794\" xlink:href=\"#md2b8dc5ea3\" y=\"150.628677\"/>\r\n     <use style=\"fill:#ff0000;stroke:#ff0000;\" x=\"112.04033\" xlink:href=\"#md2b8dc5ea3\" y=\"138.969301\"/>\r\n     <use style=\"fill:#ff0000;stroke:#ff0000;\" x=\"127.155162\" xlink:href=\"#md2b8dc5ea3\" y=\"176.276487\"/>\r\n     <use style=\"fill:#ff0000;stroke:#ff0000;\" x=\"124.813237\" xlink:href=\"#md2b8dc5ea3\" y=\"155.023823\"/>\r\n     <use style=\"fill:#ff0000;stroke:#ff0000;\" x=\"152.493401\" xlink:href=\"#md2b8dc5ea3\" y=\"179.396719\"/>\r\n     <use style=\"fill:#ff0000;stroke:#ff0000;\" x=\"102.585478\" xlink:href=\"#md2b8dc5ea3\" y=\"150.259204\"/>\r\n     <use style=\"fill:#ff0000;stroke:#ff0000;\" x=\"128.442223\" xlink:href=\"#md2b8dc5ea3\" y=\"165.172322\"/>\r\n     <use style=\"fill:#ff0000;stroke:#ff0000;\" x=\"128.973806\" xlink:href=\"#md2b8dc5ea3\" y=\"156.993016\"/>\r\n     <use style=\"fill:#ff0000;stroke:#ff0000;\" x=\"128.417493\" xlink:href=\"#md2b8dc5ea3\" y=\"164.654576\"/>\r\n     <use style=\"fill:#ff0000;stroke:#ff0000;\" x=\"124.792926\" xlink:href=\"#md2b8dc5ea3\" y=\"151.042085\"/>\r\n     <use style=\"fill:#ff0000;stroke:#ff0000;\" x=\"131.349022\" xlink:href=\"#md2b8dc5ea3\" y=\"147.375184\"/>\r\n     <use style=\"fill:#ff0000;stroke:#ff0000;\" x=\"143.706482\" xlink:href=\"#md2b8dc5ea3\" y=\"148.909372\"/>\r\n     <use style=\"fill:#ff0000;stroke:#ff0000;\" x=\"144.643364\" xlink:href=\"#md2b8dc5ea3\" y=\"136.948506\"/>\r\n     <use style=\"fill:#ff0000;stroke:#ff0000;\" x=\"84.515365\" xlink:href=\"#md2b8dc5ea3\" y=\"186.327876\"/>\r\n     <use style=\"fill:#ff0000;stroke:#ff0000;\" x=\"119.110521\" xlink:href=\"#md2b8dc5ea3\" y=\"164.835393\"/>\r\n     <use style=\"fill:#ff0000;stroke:#ff0000;\" x=\"125.635949\" xlink:href=\"#md2b8dc5ea3\" y=\"145.20636\"/>\r\n     <use style=\"fill:#ff0000;stroke:#ff0000;\" x=\"125.206734\" xlink:href=\"#md2b8dc5ea3\" y=\"163.37129\"/>\r\n     <use style=\"fill:#ff0000;stroke:#ff0000;\" x=\"140.229981\" xlink:href=\"#md2b8dc5ea3\" y=\"151.531201\"/>\r\n     <use style=\"fill:#ff0000;stroke:#ff0000;\" x=\"102.466474\" xlink:href=\"#md2b8dc5ea3\" y=\"181.406427\"/>\r\n     <use style=\"fill:#ff0000;stroke:#ff0000;\" x=\"119.797883\" xlink:href=\"#md2b8dc5ea3\" y=\"154.37106\"/>\r\n     <use style=\"fill:#ff0000;stroke:#ff0000;\" x=\"123.36438\" xlink:href=\"#md2b8dc5ea3\" y=\"149.586383\"/>\r\n     <use style=\"fill:#ff0000;stroke:#ff0000;\" x=\"95.087216\" xlink:href=\"#md2b8dc5ea3\" y=\"154.251336\"/>\r\n     <use style=\"fill:#ff0000;stroke:#ff0000;\" x=\"122.424665\" xlink:href=\"#md2b8dc5ea3\" y=\"156.48086\"/>\r\n     <use style=\"fill:#ff0000;stroke:#ff0000;\" x=\"123.219597\" xlink:href=\"#md2b8dc5ea3\" y=\"143.373107\"/>\r\n     <use style=\"fill:#ff0000;stroke:#ff0000;\" x=\"165.47487\" xlink:href=\"#md2b8dc5ea3\" y=\"140.405877\"/>\r\n     <use style=\"fill:#ff0000;stroke:#ff0000;\" x=\"129.34357\" xlink:href=\"#md2b8dc5ea3\" y=\"180.396565\"/>\r\n     <use style=\"fill:#ff0000;stroke:#ff0000;\" x=\"119.854968\" xlink:href=\"#md2b8dc5ea3\" y=\"143.719641\"/>\r\n     <use style=\"fill:#ff0000;stroke:#ff0000;\" x=\"148.428058\" xlink:href=\"#md2b8dc5ea3\" y=\"160.487127\"/>\r\n     <use style=\"fill:#ff0000;stroke:#ff0000;\" x=\"149.958976\" xlink:href=\"#md2b8dc5ea3\" y=\"190.633156\"/>\r\n     <use style=\"fill:#ff0000;stroke:#ff0000;\" x=\"118.188034\" xlink:href=\"#md2b8dc5ea3\" y=\"170.858108\"/>\r\n     <use style=\"fill:#ff0000;stroke:#ff0000;\" x=\"118.133844\" xlink:href=\"#md2b8dc5ea3\" y=\"140.944104\"/>\r\n     <use style=\"fill:#ff0000;stroke:#ff0000;\" x=\"97.577458\" xlink:href=\"#md2b8dc5ea3\" y=\"169.430676\"/>\r\n     <use style=\"fill:#ff0000;stroke:#ff0000;\" x=\"65.901648\" xlink:href=\"#md2b8dc5ea3\" y=\"189.934537\"/>\r\n     <use style=\"fill:#ff0000;stroke:#ff0000;\" x=\"162.47622\" xlink:href=\"#md2b8dc5ea3\" y=\"155.278991\"/>\r\n     <use style=\"fill:#ff0000;stroke:#ff0000;\" x=\"140.704613\" xlink:href=\"#md2b8dc5ea3\" y=\"203.346956\"/>\r\n     <use style=\"fill:#ff0000;stroke:#ff0000;\" x=\"127.661915\" xlink:href=\"#md2b8dc5ea3\" y=\"150.219022\"/>\r\n     <use style=\"fill:#ff0000;stroke:#ff0000;\" x=\"144.265961\" xlink:href=\"#md2b8dc5ea3\" y=\"178.683873\"/>\r\n     <use style=\"fill:#ff0000;stroke:#ff0000;\" x=\"139.452563\" xlink:href=\"#md2b8dc5ea3\" y=\"159.198759\"/>\r\n     <use style=\"fill:#ff0000;stroke:#ff0000;\" x=\"107.618883\" xlink:href=\"#md2b8dc5ea3\" y=\"151.880389\"/>\r\n     <use style=\"fill:#ff0000;stroke:#ff0000;\" x=\"99.544661\" xlink:href=\"#md2b8dc5ea3\" y=\"154.567923\"/>\r\n     <use style=\"fill:#ff0000;stroke:#ff0000;\" x=\"92.999585\" xlink:href=\"#md2b8dc5ea3\" y=\"167.897423\"/>\r\n     <use style=\"fill:#ff0000;stroke:#ff0000;\" x=\"144.241452\" xlink:href=\"#md2b8dc5ea3\" y=\"177.245758\"/>\r\n     <use style=\"fill:#ff0000;stroke:#ff0000;\" x=\"110.625465\" xlink:href=\"#md2b8dc5ea3\" y=\"148.055571\"/>\r\n     <use style=\"fill:#ff0000;stroke:#ff0000;\" x=\"152.22636\" xlink:href=\"#md2b8dc5ea3\" y=\"138.587587\"/>\r\n     <use style=\"fill:#ff0000;stroke:#ff0000;\" x=\"117.212445\" xlink:href=\"#md2b8dc5ea3\" y=\"169.48054\"/>\r\n     <use style=\"fill:#ff0000;stroke:#ff0000;\" x=\"153.194484\" xlink:href=\"#md2b8dc5ea3\" y=\"143.721951\"/>\r\n     <use style=\"fill:#ff0000;stroke:#ff0000;\" x=\"137.747472\" xlink:href=\"#md2b8dc5ea3\" y=\"160.014888\"/>\r\n     <use style=\"fill:#ff0000;stroke:#ff0000;\" x=\"129.030352\" xlink:href=\"#md2b8dc5ea3\" y=\"159.872115\"/>\r\n     <use style=\"fill:#ff0000;stroke:#ff0000;\" x=\"134.910083\" xlink:href=\"#md2b8dc5ea3\" y=\"128.142139\"/>\r\n     <use style=\"fill:#ff0000;stroke:#ff0000;\" x=\"93.824581\" xlink:href=\"#md2b8dc5ea3\" y=\"178.585072\"/>\r\n    </g>\r\n   </g>\r\n   <g id=\"PathCollection_3\">\r\n    <defs>\r\n     <path d=\"M 0 3 \r\nC 0.795609 3 1.55874 2.683901 2.12132 2.12132 \r\nC 2.683901 1.55874 3 0.795609 3 0 \r\nC 3 -0.795609 2.683901 -1.55874 2.12132 -2.12132 \r\nC 1.55874 -2.683901 0.795609 -3 0 -3 \r\nC -0.795609 -3 -1.55874 -2.683901 -2.12132 -2.12132 \r\nC -2.683901 -1.55874 -3 -0.795609 -3 0 \r\nC -3 0.795609 -2.683901 1.55874 -2.12132 2.12132 \r\nC -1.55874 2.683901 -0.795609 3 0 3 \r\nz\r\n\" id=\"ma45cf40fe8\" style=\"stroke:#000000;\"/>\r\n    </defs>\r\n    <g clip-path=\"url(#p62ad58df75)\">\r\n     <use style=\"stroke:#000000;\" x=\"358.064631\" xlink:href=\"#ma45cf40fe8\" y=\"100.317489\"/>\r\n     <use style=\"stroke:#000000;\" x=\"319.270124\" xlink:href=\"#ma45cf40fe8\" y=\"80.587133\"/>\r\n     <use style=\"stroke:#000000;\" x=\"322.999166\" xlink:href=\"#ma45cf40fe8\" y=\"97.325488\"/>\r\n     <use style=\"stroke:#000000;\" x=\"333.02386\" xlink:href=\"#ma45cf40fe8\" y=\"84.527755\"/>\r\n     <use style=\"stroke:#000000;\" x=\"300.558368\" xlink:href=\"#ma45cf40fe8\" y=\"75.65569\"/>\r\n     <use style=\"stroke:#000000;\" x=\"295.118064\" xlink:href=\"#ma45cf40fe8\" y=\"72.260472\"/>\r\n     <use style=\"stroke:#000000;\" x=\"323.328372\" xlink:href=\"#ma45cf40fe8\" y=\"59.330826\"/>\r\n     <use style=\"stroke:#000000;\" x=\"297.502002\" xlink:href=\"#ma45cf40fe8\" y=\"77.089717\"/>\r\n     <use style=\"stroke:#000000;\" x=\"331.180589\" xlink:href=\"#ma45cf40fe8\" y=\"95.708554\"/>\r\n     <use style=\"stroke:#000000;\" x=\"321.202905\" xlink:href=\"#ma45cf40fe8\" y=\"78.370007\"/>\r\n     <use style=\"stroke:#000000;\" x=\"306.67282\" xlink:href=\"#ma45cf40fe8\" y=\"88.170956\"/>\r\n     <use style=\"stroke:#000000;\" x=\"314.698855\" xlink:href=\"#ma45cf40fe8\" y=\"79.820903\"/>\r\n     <use style=\"stroke:#000000;\" x=\"310.365851\" xlink:href=\"#ma45cf40fe8\" y=\"92.48213\"/>\r\n     <use style=\"stroke:#000000;\" x=\"298.007378\" xlink:href=\"#ma45cf40fe8\" y=\"76.317398\"/>\r\n     <use style=\"stroke:#000000;\" x=\"336.07774\" xlink:href=\"#ma45cf40fe8\" y=\"76.649234\"/>\r\n     <use style=\"stroke:#000000;\" x=\"293.031319\" xlink:href=\"#ma45cf40fe8\" y=\"63.55889\"/>\r\n     <use style=\"stroke:#000000;\" x=\"301.098175\" xlink:href=\"#ma45cf40fe8\" y=\"49.232309\"/>\r\n     <use style=\"stroke:#000000;\" x=\"303.086519\" xlink:href=\"#ma45cf40fe8\" y=\"59.121699\"/>\r\n     <use style=\"stroke:#000000;\" x=\"276.48974\" xlink:href=\"#ma45cf40fe8\" y=\"76.956415\"/>\r\n     <use style=\"stroke:#000000;\" x=\"300.545624\" xlink:href=\"#ma45cf40fe8\" y=\"86.987537\"/>\r\n     <use style=\"stroke:#000000;\" x=\"286.068322\" xlink:href=\"#ma45cf40fe8\" y=\"81.364864\"/>\r\n     <use style=\"stroke:#000000;\" x=\"329.784881\" xlink:href=\"#ma45cf40fe8\" y=\"82.252003\"/>\r\n     <use style=\"stroke:#000000;\" x=\"301.489489\" xlink:href=\"#ma45cf40fe8\" y=\"92.466045\"/>\r\n     <use style=\"stroke:#000000;\" x=\"308.385508\" xlink:href=\"#ma45cf40fe8\" y=\"72.903708\"/>\r\n     <use style=\"stroke:#000000;\" x=\"279.575191\" xlink:href=\"#ma45cf40fe8\" y=\"32.201761\"/>\r\n     <use style=\"stroke:#000000;\" x=\"323.033605\" xlink:href=\"#ma45cf40fe8\" y=\"69.057751\"/>\r\n     <use style=\"stroke:#000000;\" x=\"298.647433\" xlink:href=\"#ma45cf40fe8\" y=\"74.107986\"/>\r\n     <use style=\"stroke:#000000;\" x=\"330.690327\" xlink:href=\"#ma45cf40fe8\" y=\"101.653885\"/>\r\n     <use style=\"stroke:#000000;\" x=\"269.794958\" xlink:href=\"#ma45cf40fe8\" y=\"67.910354\"/>\r\n     <use style=\"stroke:#000000;\" x=\"276.827586\" xlink:href=\"#ma45cf40fe8\" y=\"97.177777\"/>\r\n     <use style=\"stroke:#000000;\" x=\"293.047343\" xlink:href=\"#ma45cf40fe8\" y=\"67.393608\"/>\r\n     <use style=\"stroke:#000000;\" x=\"320.469634\" xlink:href=\"#ma45cf40fe8\" y=\"54.05015\"/>\r\n     <use style=\"stroke:#000000;\" x=\"313.606526\" xlink:href=\"#ma45cf40fe8\" y=\"103.598699\"/>\r\n     <use style=\"stroke:#000000;\" x=\"314.138405\" xlink:href=\"#ma45cf40fe8\" y=\"70.814163\"/>\r\n     <use style=\"stroke:#000000;\" x=\"242.854255\" xlink:href=\"#ma45cf40fe8\" y=\"67.232597\"/>\r\n     <use style=\"stroke:#000000;\" x=\"319.589579\" xlink:href=\"#ma45cf40fe8\" y=\"61.9917\"/>\r\n     <use style=\"stroke:#000000;\" x=\"302.269418\" xlink:href=\"#ma45cf40fe8\" y=\"113.175939\"/>\r\n     <use style=\"stroke:#000000;\" x=\"302.042029\" xlink:href=\"#ma45cf40fe8\" y=\"88.768692\"/>\r\n     <use style=\"stroke:#000000;\" x=\"325.625135\" xlink:href=\"#ma45cf40fe8\" y=\"106.012718\"/>\r\n     <use style=\"stroke:#000000;\" x=\"299.828345\" xlink:href=\"#ma45cf40fe8\" y=\"91.724036\"/>\r\n     <use style=\"stroke:#000000;\" x=\"322.701624\" xlink:href=\"#ma45cf40fe8\" y=\"66.718712\"/>\r\n     <use style=\"stroke:#000000;\" x=\"296.235627\" xlink:href=\"#ma45cf40fe8\" y=\"79.107777\"/>\r\n     <use style=\"stroke:#000000;\" x=\"273.801421\" xlink:href=\"#ma45cf40fe8\" y=\"51.598922\"/>\r\n     <use style=\"stroke:#000000;\" x=\"335.041891\" xlink:href=\"#ma45cf40fe8\" y=\"74.005223\"/>\r\n     <use style=\"stroke:#000000;\" x=\"307.761597\" xlink:href=\"#ma45cf40fe8\" y=\"79.06883\"/>\r\n     <use style=\"stroke:#000000;\" x=\"297.880891\" xlink:href=\"#ma45cf40fe8\" y=\"78.080555\"/>\r\n     <use style=\"stroke:#000000;\" x=\"317.653392\" xlink:href=\"#ma45cf40fe8\" y=\"87.883579\"/>\r\n     <use style=\"stroke:#000000;\" x=\"293.993557\" xlink:href=\"#ma45cf40fe8\" y=\"101.796186\"/>\r\n     <use style=\"stroke:#000000;\" x=\"304.804682\" xlink:href=\"#ma45cf40fe8\" y=\"87.483309\"/>\r\n     <use style=\"stroke:#000000;\" x=\"311.601483\" xlink:href=\"#ma45cf40fe8\" y=\"63.261129\"/>\r\n     <use style=\"stroke:#000000;\" x=\"318.847852\" xlink:href=\"#ma45cf40fe8\" y=\"63.258916\"/>\r\n     <use style=\"stroke:#000000;\" x=\"274.548566\" xlink:href=\"#ma45cf40fe8\" y=\"96.973317\"/>\r\n     <use style=\"stroke:#000000;\" x=\"299.550169\" xlink:href=\"#ma45cf40fe8\" y=\"81.876828\"/>\r\n     <use style=\"stroke:#000000;\" x=\"324.327624\" xlink:href=\"#ma45cf40fe8\" y=\"57.694638\"/>\r\n     <use style=\"stroke:#000000;\" x=\"325.552762\" xlink:href=\"#ma45cf40fe8\" y=\"98.971308\"/>\r\n     <use style=\"stroke:#000000;\" x=\"311.701393\" xlink:href=\"#ma45cf40fe8\" y=\"79.240247\"/>\r\n     <use style=\"stroke:#000000;\" x=\"349.968737\" xlink:href=\"#ma45cf40fe8\" y=\"74.215773\"/>\r\n     <use style=\"stroke:#000000;\" x=\"293.292468\" xlink:href=\"#ma45cf40fe8\" y=\"110.015317\"/>\r\n     <use style=\"stroke:#000000;\" x=\"318.349444\" xlink:href=\"#ma45cf40fe8\" y=\"78.644397\"/>\r\n     <use style=\"stroke:#000000;\" x=\"316.888994\" xlink:href=\"#ma45cf40fe8\" y=\"108.843451\"/>\r\n     <use style=\"stroke:#000000;\" x=\"336.637088\" xlink:href=\"#ma45cf40fe8\" y=\"79.601111\"/>\r\n     <use style=\"stroke:#000000;\" x=\"316.057291\" xlink:href=\"#ma45cf40fe8\" y=\"107.772521\"/>\r\n     <use style=\"stroke:#000000;\" x=\"345.081501\" xlink:href=\"#ma45cf40fe8\" y=\"73.947025\"/>\r\n     <use style=\"stroke:#000000;\" x=\"283.599266\" xlink:href=\"#ma45cf40fe8\" y=\"80.921129\"/>\r\n     <use style=\"stroke:#000000;\" x=\"269.698705\" xlink:href=\"#ma45cf40fe8\" y=\"94.9499\"/>\r\n     <use style=\"stroke:#000000;\" x=\"278.148804\" xlink:href=\"#ma45cf40fe8\" y=\"66.777712\"/>\r\n     <use style=\"stroke:#000000;\" x=\"275.664092\" xlink:href=\"#ma45cf40fe8\" y=\"94.692297\"/>\r\n     <use style=\"stroke:#000000;\" x=\"352.162833\" xlink:href=\"#ma45cf40fe8\" y=\"104.780826\"/>\r\n     <use style=\"stroke:#000000;\" x=\"309.094187\" xlink:href=\"#ma45cf40fe8\" y=\"88.056957\"/>\r\n     <use style=\"stroke:#000000;\" x=\"323.814829\" xlink:href=\"#ma45cf40fe8\" y=\"81.216225\"/>\r\n     <use style=\"stroke:#000000;\" x=\"306.36588\" xlink:href=\"#ma45cf40fe8\" y=\"100.755894\"/>\r\n     <use style=\"stroke:#000000;\" x=\"327.742979\" xlink:href=\"#ma45cf40fe8\" y=\"63.693458\"/>\r\n     <use style=\"stroke:#000000;\" x=\"297.138335\" xlink:href=\"#ma45cf40fe8\" y=\"84.184643\"/>\r\n     <use style=\"stroke:#000000;\" x=\"318.155145\" xlink:href=\"#ma45cf40fe8\" y=\"116.646732\"/>\r\n     <use style=\"stroke:#000000;\" x=\"343.901429\" xlink:href=\"#ma45cf40fe8\" y=\"88.407556\"/>\r\n     <use style=\"stroke:#000000;\" x=\"314.661602\" xlink:href=\"#ma45cf40fe8\" y=\"86.193058\"/>\r\n     <use style=\"stroke:#000000;\" x=\"329.426286\" xlink:href=\"#ma45cf40fe8\" y=\"107.120102\"/>\r\n     <use style=\"stroke:#000000;\" x=\"249.991964\" xlink:href=\"#ma45cf40fe8\" y=\"72.039586\"/>\r\n     <use style=\"stroke:#000000;\" x=\"293.99689\" xlink:href=\"#ma45cf40fe8\" y=\"91.103111\"/>\r\n     <use style=\"stroke:#000000;\" x=\"269.553132\" xlink:href=\"#ma45cf40fe8\" y=\"98.539961\"/>\r\n     <use style=\"stroke:#000000;\" x=\"260.540836\" xlink:href=\"#ma45cf40fe8\" y=\"66.897276\"/>\r\n     <use style=\"stroke:#000000;\" x=\"339.213626\" xlink:href=\"#ma45cf40fe8\" y=\"72.441304\"/>\r\n     <use style=\"stroke:#000000;\" x=\"308.475612\" xlink:href=\"#ma45cf40fe8\" y=\"64.741756\"/>\r\n     <use style=\"stroke:#000000;\" x=\"311.560191\" xlink:href=\"#ma45cf40fe8\" y=\"89.637337\"/>\r\n     <use style=\"stroke:#000000;\" x=\"307.41182\" xlink:href=\"#ma45cf40fe8\" y=\"57.301817\"/>\r\n     <use style=\"stroke:#000000;\" x=\"329.561744\" xlink:href=\"#ma45cf40fe8\" y=\"104.751403\"/>\r\n     <use style=\"stroke:#000000;\" x=\"316.872435\" xlink:href=\"#ma45cf40fe8\" y=\"69.844635\"/>\r\n     <use style=\"stroke:#000000;\" x=\"327.064343\" xlink:href=\"#ma45cf40fe8\" y=\"83.498364\"/>\r\n     <use style=\"stroke:#000000;\" x=\"323.862938\" xlink:href=\"#ma45cf40fe8\" y=\"148.948896\"/>\r\n     <use style=\"stroke:#000000;\" x=\"337.056684\" xlink:href=\"#ma45cf40fe8\" y=\"67.829172\"/>\r\n     <use style=\"stroke:#000000;\" x=\"278.324943\" xlink:href=\"#ma45cf40fe8\" y=\"86.150881\"/>\r\n     <use style=\"stroke:#000000;\" x=\"322.956516\" xlink:href=\"#ma45cf40fe8\" y=\"76.240405\"/>\r\n     <use style=\"stroke:#000000;\" x=\"317.823242\" xlink:href=\"#ma45cf40fe8\" y=\"95.337784\"/>\r\n     <use style=\"stroke:#000000;\" x=\"279.2786\" xlink:href=\"#ma45cf40fe8\" y=\"100.889969\"/>\r\n    </g>\r\n   </g>\r\n   <g id=\"PathCollection_4\">\r\n    <g clip-path=\"url(#p62ad58df75)\">\r\n     <use style=\"fill:#ffa500;stroke:#ffa500;\" x=\"294.40252\" xlink:href=\"#mc00904d6a9\" y=\"188.921443\"/>\r\n     <use style=\"fill:#ffa500;stroke:#ffa500;\" x=\"281.070306\" xlink:href=\"#mc00904d6a9\" y=\"217.472004\"/>\r\n     <use style=\"fill:#ffa500;stroke:#ffa500;\" x=\"246.955117\" xlink:href=\"#mc00904d6a9\" y=\"183.448896\"/>\r\n     <use style=\"fill:#ffa500;stroke:#ffa500;\" x=\"218.961026\" xlink:href=\"#mc00904d6a9\" y=\"208.591713\"/>\r\n     <use style=\"fill:#ffa500;stroke:#ffa500;\" x=\"237.806651\" xlink:href=\"#mc00904d6a9\" y=\"204.331918\"/>\r\n     <use style=\"fill:#ffa500;stroke:#ffa500;\" x=\"282.037069\" xlink:href=\"#mc00904d6a9\" y=\"210.858222\"/>\r\n     <use style=\"fill:#ffa500;stroke:#ffa500;\" x=\"224.184162\" xlink:href=\"#mc00904d6a9\" y=\"213.591049\"/>\r\n     <use style=\"fill:#ffa500;stroke:#ffa500;\" x=\"266.279499\" xlink:href=\"#mc00904d6a9\" y=\"219.175751\"/>\r\n     <use style=\"fill:#ffa500;stroke:#ffa500;\" x=\"254.101619\" xlink:href=\"#mc00904d6a9\" y=\"195.85541\"/>\r\n     <use style=\"fill:#ffa500;stroke:#ffa500;\" x=\"259.714511\" xlink:href=\"#mc00904d6a9\" y=\"174.8256\"/>\r\n     <use style=\"fill:#ffa500;stroke:#ffa500;\" x=\"267.325005\" xlink:href=\"#mc00904d6a9\" y=\"223.650615\"/>\r\n     <use style=\"fill:#ffa500;stroke:#ffa500;\" x=\"266.409652\" xlink:href=\"#mc00904d6a9\" y=\"189.183607\"/>\r\n     <use style=\"fill:#ffa500;stroke:#ffa500;\" x=\"225.476418\" xlink:href=\"#mc00904d6a9\" y=\"208.245231\"/>\r\n     <use style=\"fill:#ffa500;stroke:#ffa500;\" x=\"227.170837\" xlink:href=\"#mc00904d6a9\" y=\"190.563626\"/>\r\n     <use style=\"fill:#ffa500;stroke:#ffa500;\" x=\"235.608356\" xlink:href=\"#mc00904d6a9\" y=\"204.671745\"/>\r\n     <use style=\"fill:#ffa500;stroke:#ffa500;\" x=\"232.905784\" xlink:href=\"#mc00904d6a9\" y=\"209.263362\"/>\r\n     <use style=\"fill:#ffa500;stroke:#ffa500;\" x=\"212.893318\" xlink:href=\"#mc00904d6a9\" y=\"177.227277\"/>\r\n     <use style=\"fill:#ffa500;stroke:#ffa500;\" x=\"242.910154\" xlink:href=\"#mc00904d6a9\" y=\"176.059135\"/>\r\n     <use style=\"fill:#ffa500;stroke:#ffa500;\" x=\"274.370614\" xlink:href=\"#mc00904d6a9\" y=\"179.385083\"/>\r\n     <use style=\"fill:#ffa500;stroke:#ffa500;\" x=\"238.993565\" xlink:href=\"#mc00904d6a9\" y=\"194.049205\"/>\r\n     <use style=\"fill:#ffa500;stroke:#ffa500;\" x=\"191.833477\" xlink:href=\"#mc00904d6a9\" y=\"202.235949\"/>\r\n     <use style=\"fill:#ffa500;stroke:#ffa500;\" x=\"218.884556\" xlink:href=\"#mc00904d6a9\" y=\"180.686066\"/>\r\n     <use style=\"fill:#ffa500;stroke:#ffa500;\" x=\"287.177351\" xlink:href=\"#mc00904d6a9\" y=\"185.763769\"/>\r\n     <use style=\"fill:#ffa500;stroke:#ffa500;\" x=\"230.424633\" xlink:href=\"#mc00904d6a9\" y=\"175.612825\"/>\r\n     <use style=\"fill:#ffa500;stroke:#ffa500;\" x=\"258.698601\" xlink:href=\"#mc00904d6a9\" y=\"144.237952\"/>\r\n     <use style=\"fill:#ffa500;stroke:#ffa500;\" x=\"242.011681\" xlink:href=\"#mc00904d6a9\" y=\"171.798638\"/>\r\n     <use style=\"fill:#ffa500;stroke:#ffa500;\" x=\"255.980332\" xlink:href=\"#mc00904d6a9\" y=\"190.243972\"/>\r\n     <use style=\"fill:#ffa500;stroke:#ffa500;\" x=\"261.903378\" xlink:href=\"#mc00904d6a9\" y=\"185.744706\"/>\r\n     <use style=\"fill:#ffa500;stroke:#ffa500;\" x=\"229.523168\" xlink:href=\"#mc00904d6a9\" y=\"167.016503\"/>\r\n     <use style=\"fill:#ffa500;stroke:#ffa500;\" x=\"249.507896\" xlink:href=\"#mc00904d6a9\" y=\"169.971171\"/>\r\n     <use style=\"fill:#ffa500;stroke:#ffa500;\" x=\"264.66788\" xlink:href=\"#mc00904d6a9\" y=\"190.118739\"/>\r\n     <use style=\"fill:#ffa500;stroke:#ffa500;\" x=\"254.754131\" xlink:href=\"#mc00904d6a9\" y=\"155.501829\"/>\r\n    </g>\r\n   </g>\r\n   <g id=\"PathCollection_5\">\r\n    <g clip-path=\"url(#p62ad58df75)\">\r\n     <use style=\"fill:#ff0000;stroke:#ff0000;\" x=\"104.104413\" xlink:href=\"#md2b8dc5ea3\" y=\"122.347551\"/>\r\n     <use style=\"fill:#ff0000;stroke:#ff0000;\" x=\"160.920647\" xlink:href=\"#md2b8dc5ea3\" y=\"139.705057\"/>\r\n     <use style=\"fill:#ff0000;stroke:#ff0000;\" x=\"95.781423\" xlink:href=\"#md2b8dc5ea3\" y=\"162.974484\"/>\r\n     <use style=\"fill:#ff0000;stroke:#ff0000;\" x=\"146.143687\" xlink:href=\"#md2b8dc5ea3\" y=\"127.311889\"/>\r\n     <use style=\"fill:#ff0000;stroke:#ff0000;\" x=\"122.443513\" xlink:href=\"#md2b8dc5ea3\" y=\"141.617834\"/>\r\n     <use style=\"fill:#ff0000;stroke:#ff0000;\" x=\"139.852746\" xlink:href=\"#md2b8dc5ea3\" y=\"175.158729\"/>\r\n     <use style=\"fill:#ff0000;stroke:#ff0000;\" x=\"145.899851\" xlink:href=\"#md2b8dc5ea3\" y=\"165.812117\"/>\r\n     <use style=\"fill:#ff0000;stroke:#ff0000;\" x=\"147.161019\" xlink:href=\"#md2b8dc5ea3\" y=\"131.715144\"/>\r\n     <use style=\"fill:#ff0000;stroke:#ff0000;\" x=\"144.912042\" xlink:href=\"#md2b8dc5ea3\" y=\"153.682043\"/>\r\n     <use style=\"fill:#ff0000;stroke:#ff0000;\" x=\"129.619153\" xlink:href=\"#md2b8dc5ea3\" y=\"178.121024\"/>\r\n     <use style=\"fill:#ff0000;stroke:#ff0000;\" x=\"121.483482\" xlink:href=\"#md2b8dc5ea3\" y=\"175.144281\"/>\r\n     <use style=\"fill:#ff0000;stroke:#ff0000;\" x=\"128.87549\" xlink:href=\"#md2b8dc5ea3\" y=\"143.981506\"/>\r\n     <use style=\"fill:#ff0000;stroke:#ff0000;\" x=\"159.899626\" xlink:href=\"#md2b8dc5ea3\" y=\"143.625479\"/>\r\n     <use style=\"fill:#ff0000;stroke:#ff0000;\" x=\"108.255282\" xlink:href=\"#md2b8dc5ea3\" y=\"161.048633\"/>\r\n     <use style=\"fill:#ff0000;stroke:#ff0000;\" x=\"121.78001\" xlink:href=\"#md2b8dc5ea3\" y=\"125.770117\"/>\r\n     <use style=\"fill:#ff0000;stroke:#ff0000;\" x=\"137.709638\" xlink:href=\"#md2b8dc5ea3\" y=\"128.07087\"/>\r\n     <use style=\"fill:#ff0000;stroke:#ff0000;\" x=\"128.306062\" xlink:href=\"#md2b8dc5ea3\" y=\"170.819668\"/>\r\n     <use style=\"fill:#ff0000;stroke:#ff0000;\" x=\"145.004689\" xlink:href=\"#md2b8dc5ea3\" y=\"128.488262\"/>\r\n     <use style=\"fill:#ff0000;stroke:#ff0000;\" x=\"98.685779\" xlink:href=\"#md2b8dc5ea3\" y=\"154.157842\"/>\r\n     <use style=\"fill:#ff0000;stroke:#ff0000;\" x=\"105.259004\" xlink:href=\"#md2b8dc5ea3\" y=\"149.993617\"/>\r\n     <use style=\"fill:#ff0000;stroke:#ff0000;\" x=\"103.205598\" xlink:href=\"#md2b8dc5ea3\" y=\"175.451598\"/>\r\n     <use style=\"fill:#ff0000;stroke:#ff0000;\" x=\"123.977237\" xlink:href=\"#md2b8dc5ea3\" y=\"151.42242\"/>\r\n     <use style=\"fill:#ff0000;stroke:#ff0000;\" x=\"147.429094\" xlink:href=\"#md2b8dc5ea3\" y=\"159.685977\"/>\r\n     <use style=\"fill:#ff0000;stroke:#ff0000;\" x=\"130.388423\" xlink:href=\"#md2b8dc5ea3\" y=\"156.390797\"/>\r\n     <use style=\"fill:#ff0000;stroke:#ff0000;\" x=\"151.073597\" xlink:href=\"#md2b8dc5ea3\" y=\"160.111383\"/>\r\n     <use style=\"fill:#ff0000;stroke:#ff0000;\" x=\"103.849849\" xlink:href=\"#md2b8dc5ea3\" y=\"131.091867\"/>\r\n     <use style=\"fill:#ff0000;stroke:#ff0000;\" x=\"143.777005\" xlink:href=\"#md2b8dc5ea3\" y=\"148.100932\"/>\r\n     <use style=\"fill:#ff0000;stroke:#ff0000;\" x=\"125.069375\" xlink:href=\"#md2b8dc5ea3\" y=\"163.549982\"/>\r\n     <use style=\"fill:#ff0000;stroke:#ff0000;\" x=\"115.862422\" xlink:href=\"#md2b8dc5ea3\" y=\"167.475324\"/>\r\n     <use style=\"fill:#ff0000;stroke:#ff0000;\" x=\"124.762259\" xlink:href=\"#md2b8dc5ea3\" y=\"138.488963\"/>\r\n     <use style=\"fill:#ff0000;stroke:#ff0000;\" x=\"58.597607\" xlink:href=\"#md2b8dc5ea3\" y=\"156.206525\"/>\r\n     <use style=\"fill:#ff0000;stroke:#ff0000;\" x=\"134.199476\" xlink:href=\"#md2b8dc5ea3\" y=\"162.989133\"/>\r\n     <use style=\"fill:#ff0000;stroke:#ff0000;\" x=\"103.588366\" xlink:href=\"#md2b8dc5ea3\" y=\"184.744748\"/>\r\n     <use style=\"fill:#ff0000;stroke:#ff0000;\" x=\"155.906048\" xlink:href=\"#md2b8dc5ea3\" y=\"189.970125\"/>\r\n    </g>\r\n   </g>\r\n   <g id=\"PathCollection_6\">\r\n    <g clip-path=\"url(#p62ad58df75)\">\r\n     <use style=\"stroke:#000000;\" x=\"299.876045\" xlink:href=\"#ma45cf40fe8\" y=\"72.381161\"/>\r\n     <use style=\"stroke:#000000;\" x=\"305.392184\" xlink:href=\"#ma45cf40fe8\" y=\"85.834789\"/>\r\n     <use style=\"stroke:#000000;\" x=\"327.124872\" xlink:href=\"#ma45cf40fe8\" y=\"57.518194\"/>\r\n     <use style=\"stroke:#000000;\" x=\"245.16025\" xlink:href=\"#ma45cf40fe8\" y=\"63.479056\"/>\r\n     <use style=\"stroke:#000000;\" x=\"311.919084\" xlink:href=\"#ma45cf40fe8\" y=\"85.986523\"/>\r\n     <use style=\"stroke:#000000;\" x=\"313.595102\" xlink:href=\"#ma45cf40fe8\" y=\"78.341512\"/>\r\n     <use style=\"stroke:#000000;\" x=\"314.318011\" xlink:href=\"#ma45cf40fe8\" y=\"90.51737\"/>\r\n     <use style=\"stroke:#000000;\" x=\"284.318068\" xlink:href=\"#ma45cf40fe8\" y=\"96.424308\"/>\r\n     <use style=\"stroke:#000000;\" x=\"309.531599\" xlink:href=\"#ma45cf40fe8\" y=\"99.518587\"/>\r\n     <use style=\"stroke:#000000;\" x=\"301.005753\" xlink:href=\"#ma45cf40fe8\" y=\"89.241574\"/>\r\n     <use style=\"stroke:#000000;\" x=\"330.11457\" xlink:href=\"#ma45cf40fe8\" y=\"58.718083\"/>\r\n     <use style=\"stroke:#000000;\" x=\"323.719396\" xlink:href=\"#ma45cf40fe8\" y=\"89.227265\"/>\r\n     <use style=\"stroke:#000000;\" x=\"294.363229\" xlink:href=\"#ma45cf40fe8\" y=\"61.864257\"/>\r\n     <use style=\"stroke:#000000;\" x=\"309.134402\" xlink:href=\"#ma45cf40fe8\" y=\"77.178411\"/>\r\n     <use style=\"stroke:#000000;\" x=\"315.294963\" xlink:href=\"#ma45cf40fe8\" y=\"83.516571\"/>\r\n     <use style=\"stroke:#000000;\" x=\"340.379357\" xlink:href=\"#ma45cf40fe8\" y=\"72.13506\"/>\r\n     <use style=\"stroke:#000000;\" x=\"295.804231\" xlink:href=\"#ma45cf40fe8\" y=\"99.814719\"/>\r\n     <use style=\"stroke:#000000;\" x=\"279.458748\" xlink:href=\"#ma45cf40fe8\" y=\"72.519154\"/>\r\n     <use style=\"stroke:#000000;\" x=\"302.098044\" xlink:href=\"#ma45cf40fe8\" y=\"75.564499\"/>\r\n     <use style=\"stroke:#000000;\" x=\"331.87576\" xlink:href=\"#ma45cf40fe8\" y=\"90.887102\"/>\r\n     <use style=\"stroke:#000000;\" x=\"353.07696\" xlink:href=\"#ma45cf40fe8\" y=\"103.410407\"/>\r\n     <use style=\"stroke:#000000;\" x=\"327.416505\" xlink:href=\"#ma45cf40fe8\" y=\"53.705234\"/>\r\n     <use style=\"stroke:#000000;\" x=\"255.691043\" xlink:href=\"#ma45cf40fe8\" y=\"67.851444\"/>\r\n     <use style=\"stroke:#000000;\" x=\"341.388274\" xlink:href=\"#ma45cf40fe8\" y=\"78.327618\"/>\r\n     <use style=\"stroke:#000000;\" x=\"305.756341\" xlink:href=\"#ma45cf40fe8\" y=\"83.739081\"/>\r\n     <use style=\"stroke:#000000;\" x=\"297.750179\" xlink:href=\"#ma45cf40fe8\" y=\"83.769758\"/>\r\n     <use style=\"stroke:#000000;\" x=\"325.49177\" xlink:href=\"#ma45cf40fe8\" y=\"61.935988\"/>\r\n     <use style=\"stroke:#000000;\" x=\"303.569418\" xlink:href=\"#ma45cf40fe8\" y=\"84.156907\"/>\r\n     <use style=\"stroke:#000000;\" x=\"321.390705\" xlink:href=\"#ma45cf40fe8\" y=\"77.707353\"/>\r\n     <use style=\"stroke:#000000;\" x=\"314.702027\" xlink:href=\"#ma45cf40fe8\" y=\"65.011363\"/>\r\n     <use style=\"stroke:#000000;\" x=\"328.278388\" xlink:href=\"#ma45cf40fe8\" y=\"75.918917\"/>\r\n     <use style=\"stroke:#000000;\" x=\"333.030194\" xlink:href=\"#ma45cf40fe8\" y=\"100.769963\"/>\r\n     <use style=\"stroke:#000000;\" x=\"275.942202\" xlink:href=\"#ma45cf40fe8\" y=\"98.500688\"/>\r\n     <use style=\"stroke:#000000;\" x=\"317.210641\" xlink:href=\"#ma45cf40fe8\" y=\"102.930759\"/>\r\n    </g>\r\n   </g>\r\n   <g id=\"matplotlib.axis_1\">\r\n    <g id=\"xtick_1\">\r\n     <g id=\"line2d_1\">\r\n      <defs>\r\n       <path d=\"M 0 0 \r\nL 0 3.5 \r\n\" id=\"m30cf461503\" style=\"stroke:#000000;stroke-width:0.8;\"/>\r\n      </defs>\r\n      <g>\r\n       <use style=\"stroke:#000000;stroke-width:0.8;\" x=\"92.589942\" xlink:href=\"#m30cf461503\" y=\"239.758125\"/>\r\n      </g>\r\n     </g>\r\n     <g id=\"text_1\">\r\n      <!-- −2 -->\r\n      <g transform=\"translate(85.218848 254.356563)scale(0.1 -0.1)\">\r\n       <defs>\r\n        <path d=\"M 10.59375 35.5 \r\nL 73.1875 35.5 \r\nL 73.1875 27.203125 \r\nL 10.59375 27.203125 \r\nz\r\n\" id=\"DejaVuSans-8722\"/>\r\n        <path d=\"M 19.1875 8.296875 \r\nL 53.609375 8.296875 \r\nL 53.609375 0 \r\nL 7.328125 0 \r\nL 7.328125 8.296875 \r\nQ 12.9375 14.109375 22.625 23.890625 \r\nQ 32.328125 33.6875 34.8125 36.53125 \r\nQ 39.546875 41.84375 41.421875 45.53125 \r\nQ 43.3125 49.21875 43.3125 52.78125 \r\nQ 43.3125 58.59375 39.234375 62.25 \r\nQ 35.15625 65.921875 28.609375 65.921875 \r\nQ 23.96875 65.921875 18.8125 64.3125 \r\nQ 13.671875 62.703125 7.8125 59.421875 \r\nL 7.8125 69.390625 \r\nQ 13.765625 71.78125 18.9375 73 \r\nQ 24.125 74.21875 28.421875 74.21875 \r\nQ 39.75 74.21875 46.484375 68.546875 \r\nQ 53.21875 62.890625 53.21875 53.421875 \r\nQ 53.21875 48.921875 51.53125 44.890625 \r\nQ 49.859375 40.875 45.40625 35.40625 \r\nQ 44.1875 33.984375 37.640625 27.21875 \r\nQ 31.109375 20.453125 19.1875 8.296875 \r\nz\r\n\" id=\"DejaVuSans-50\"/>\r\n       </defs>\r\n       <use xlink:href=\"#DejaVuSans-8722\"/>\r\n       <use x=\"83.789062\" xlink:href=\"#DejaVuSans-50\"/>\r\n      </g>\r\n     </g>\r\n    </g>\r\n    <g id=\"xtick_2\">\r\n     <g id=\"line2d_2\">\r\n      <g>\r\n       <use style=\"stroke:#000000;stroke-width:0.8;\" x=\"164.14774\" xlink:href=\"#m30cf461503\" y=\"239.758125\"/>\r\n      </g>\r\n     </g>\r\n     <g id=\"text_2\">\r\n      <!-- −1 -->\r\n      <g transform=\"translate(156.776646 254.356563)scale(0.1 -0.1)\">\r\n       <defs>\r\n        <path d=\"M 12.40625 8.296875 \r\nL 28.515625 8.296875 \r\nL 28.515625 63.921875 \r\nL 10.984375 60.40625 \r\nL 10.984375 69.390625 \r\nL 28.421875 72.90625 \r\nL 38.28125 72.90625 \r\nL 38.28125 8.296875 \r\nL 54.390625 8.296875 \r\nL 54.390625 0 \r\nL 12.40625 0 \r\nz\r\n\" id=\"DejaVuSans-49\"/>\r\n       </defs>\r\n       <use xlink:href=\"#DejaVuSans-8722\"/>\r\n       <use x=\"83.789062\" xlink:href=\"#DejaVuSans-49\"/>\r\n      </g>\r\n     </g>\r\n    </g>\r\n    <g id=\"xtick_3\">\r\n     <g id=\"line2d_3\">\r\n      <g>\r\n       <use style=\"stroke:#000000;stroke-width:0.8;\" x=\"235.705539\" xlink:href=\"#m30cf461503\" y=\"239.758125\"/>\r\n      </g>\r\n     </g>\r\n     <g id=\"text_3\">\r\n      <!-- 0 -->\r\n      <g transform=\"translate(232.524289 254.356563)scale(0.1 -0.1)\">\r\n       <defs>\r\n        <path d=\"M 31.78125 66.40625 \r\nQ 24.171875 66.40625 20.328125 58.90625 \r\nQ 16.5 51.421875 16.5 36.375 \r\nQ 16.5 21.390625 20.328125 13.890625 \r\nQ 24.171875 6.390625 31.78125 6.390625 \r\nQ 39.453125 6.390625 43.28125 13.890625 \r\nQ 47.125 21.390625 47.125 36.375 \r\nQ 47.125 51.421875 43.28125 58.90625 \r\nQ 39.453125 66.40625 31.78125 66.40625 \r\nz\r\nM 31.78125 74.21875 \r\nQ 44.046875 74.21875 50.515625 64.515625 \r\nQ 56.984375 54.828125 56.984375 36.375 \r\nQ 56.984375 17.96875 50.515625 8.265625 \r\nQ 44.046875 -1.421875 31.78125 -1.421875 \r\nQ 19.53125 -1.421875 13.0625 8.265625 \r\nQ 6.59375 17.96875 6.59375 36.375 \r\nQ 6.59375 54.828125 13.0625 64.515625 \r\nQ 19.53125 74.21875 31.78125 74.21875 \r\nz\r\n\" id=\"DejaVuSans-48\"/>\r\n       </defs>\r\n       <use xlink:href=\"#DejaVuSans-48\"/>\r\n      </g>\r\n     </g>\r\n    </g>\r\n    <g id=\"xtick_4\">\r\n     <g id=\"line2d_4\">\r\n      <g>\r\n       <use style=\"stroke:#000000;stroke-width:0.8;\" x=\"307.263337\" xlink:href=\"#m30cf461503\" y=\"239.758125\"/>\r\n      </g>\r\n     </g>\r\n     <g id=\"text_4\">\r\n      <!-- 1 -->\r\n      <g transform=\"translate(304.082087 254.356563)scale(0.1 -0.1)\">\r\n       <use xlink:href=\"#DejaVuSans-49\"/>\r\n      </g>\r\n     </g>\r\n    </g>\r\n   </g>\r\n   <g id=\"matplotlib.axis_2\">\r\n    <g id=\"ytick_1\">\r\n     <g id=\"line2d_5\">\r\n      <defs>\r\n       <path d=\"M 0 0 \r\nL -3.5 0 \r\n\" id=\"ma21beb3c79\" style=\"stroke:#000000;stroke-width:0.8;\"/>\r\n      </defs>\r\n      <g>\r\n       <use style=\"stroke:#000000;stroke-width:0.8;\" x=\"38.482813\" xlink:href=\"#ma21beb3c79\" y=\"238.583134\"/>\r\n      </g>\r\n     </g>\r\n     <g id=\"text_5\">\r\n      <!-- −1.5 -->\r\n      <g transform=\"translate(7.2 242.382353)scale(0.1 -0.1)\">\r\n       <defs>\r\n        <path d=\"M 10.6875 12.40625 \r\nL 21 12.40625 \r\nL 21 0 \r\nL 10.6875 0 \r\nz\r\n\" id=\"DejaVuSans-46\"/>\r\n        <path d=\"M 10.796875 72.90625 \r\nL 49.515625 72.90625 \r\nL 49.515625 64.59375 \r\nL 19.828125 64.59375 \r\nL 19.828125 46.734375 \r\nQ 21.96875 47.46875 24.109375 47.828125 \r\nQ 26.265625 48.1875 28.421875 48.1875 \r\nQ 40.625 48.1875 47.75 41.5 \r\nQ 54.890625 34.8125 54.890625 23.390625 \r\nQ 54.890625 11.625 47.5625 5.09375 \r\nQ 40.234375 -1.421875 26.90625 -1.421875 \r\nQ 22.3125 -1.421875 17.546875 -0.640625 \r\nQ 12.796875 0.140625 7.71875 1.703125 \r\nL 7.71875 11.625 \r\nQ 12.109375 9.234375 16.796875 8.0625 \r\nQ 21.484375 6.890625 26.703125 6.890625 \r\nQ 35.15625 6.890625 40.078125 11.328125 \r\nQ 45.015625 15.765625 45.015625 23.390625 \r\nQ 45.015625 31 40.078125 35.4375 \r\nQ 35.15625 39.890625 26.703125 39.890625 \r\nQ 22.75 39.890625 18.8125 39.015625 \r\nQ 14.890625 38.140625 10.796875 36.28125 \r\nz\r\n\" id=\"DejaVuSans-53\"/>\r\n       </defs>\r\n       <use xlink:href=\"#DejaVuSans-8722\"/>\r\n       <use x=\"83.789062\" xlink:href=\"#DejaVuSans-49\"/>\r\n       <use x=\"147.412109\" xlink:href=\"#DejaVuSans-46\"/>\r\n       <use x=\"179.199219\" xlink:href=\"#DejaVuSans-53\"/>\r\n      </g>\r\n     </g>\r\n    </g>\r\n    <g id=\"ytick_2\">\r\n     <g id=\"line2d_6\">\r\n      <g>\r\n       <use style=\"stroke:#000000;stroke-width:0.8;\" x=\"38.482813\" xlink:href=\"#ma21beb3c79\" y=\"207.142725\"/>\r\n      </g>\r\n     </g>\r\n     <g id=\"text_6\">\r\n      <!-- −1.0 -->\r\n      <g transform=\"translate(7.2 210.941944)scale(0.1 -0.1)\">\r\n       <use xlink:href=\"#DejaVuSans-8722\"/>\r\n       <use x=\"83.789062\" xlink:href=\"#DejaVuSans-49\"/>\r\n       <use x=\"147.412109\" xlink:href=\"#DejaVuSans-46\"/>\r\n       <use x=\"179.199219\" xlink:href=\"#DejaVuSans-48\"/>\r\n      </g>\r\n     </g>\r\n    </g>\r\n    <g id=\"ytick_3\">\r\n     <g id=\"line2d_7\">\r\n      <g>\r\n       <use style=\"stroke:#000000;stroke-width:0.8;\" x=\"38.482813\" xlink:href=\"#ma21beb3c79\" y=\"175.702317\"/>\r\n      </g>\r\n     </g>\r\n     <g id=\"text_7\">\r\n      <!-- −0.5 -->\r\n      <g transform=\"translate(7.2 179.501535)scale(0.1 -0.1)\">\r\n       <use xlink:href=\"#DejaVuSans-8722\"/>\r\n       <use x=\"83.789062\" xlink:href=\"#DejaVuSans-48\"/>\r\n       <use x=\"147.412109\" xlink:href=\"#DejaVuSans-46\"/>\r\n       <use x=\"179.199219\" xlink:href=\"#DejaVuSans-53\"/>\r\n      </g>\r\n     </g>\r\n    </g>\r\n    <g id=\"ytick_4\">\r\n     <g id=\"line2d_8\">\r\n      <g>\r\n       <use style=\"stroke:#000000;stroke-width:0.8;\" x=\"38.482813\" xlink:href=\"#ma21beb3c79\" y=\"144.261908\"/>\r\n      </g>\r\n     </g>\r\n     <g id=\"text_8\">\r\n      <!-- 0.0 -->\r\n      <g transform=\"translate(15.579688 148.061127)scale(0.1 -0.1)\">\r\n       <use xlink:href=\"#DejaVuSans-48\"/>\r\n       <use x=\"63.623047\" xlink:href=\"#DejaVuSans-46\"/>\r\n       <use x=\"95.410156\" xlink:href=\"#DejaVuSans-48\"/>\r\n      </g>\r\n     </g>\r\n    </g>\r\n    <g id=\"ytick_5\">\r\n     <g id=\"line2d_9\">\r\n      <g>\r\n       <use style=\"stroke:#000000;stroke-width:0.8;\" x=\"38.482813\" xlink:href=\"#ma21beb3c79\" y=\"112.821499\"/>\r\n      </g>\r\n     </g>\r\n     <g id=\"text_9\">\r\n      <!-- 0.5 -->\r\n      <g transform=\"translate(15.579688 116.620718)scale(0.1 -0.1)\">\r\n       <use xlink:href=\"#DejaVuSans-48\"/>\r\n       <use x=\"63.623047\" xlink:href=\"#DejaVuSans-46\"/>\r\n       <use x=\"95.410156\" xlink:href=\"#DejaVuSans-53\"/>\r\n      </g>\r\n     </g>\r\n    </g>\r\n    <g id=\"ytick_6\">\r\n     <g id=\"line2d_10\">\r\n      <g>\r\n       <use style=\"stroke:#000000;stroke-width:0.8;\" x=\"38.482813\" xlink:href=\"#ma21beb3c79\" y=\"81.38109\"/>\r\n      </g>\r\n     </g>\r\n     <g id=\"text_10\">\r\n      <!-- 1.0 -->\r\n      <g transform=\"translate(15.579688 85.180309)scale(0.1 -0.1)\">\r\n       <use xlink:href=\"#DejaVuSans-49\"/>\r\n       <use x=\"63.623047\" xlink:href=\"#DejaVuSans-46\"/>\r\n       <use x=\"95.410156\" xlink:href=\"#DejaVuSans-48\"/>\r\n      </g>\r\n     </g>\r\n    </g>\r\n    <g id=\"ytick_7\">\r\n     <g id=\"line2d_11\">\r\n      <g>\r\n       <use style=\"stroke:#000000;stroke-width:0.8;\" x=\"38.482813\" xlink:href=\"#ma21beb3c79\" y=\"49.940681\"/>\r\n      </g>\r\n     </g>\r\n     <g id=\"text_11\">\r\n      <!-- 1.5 -->\r\n      <g transform=\"translate(15.579688 53.7399)scale(0.1 -0.1)\">\r\n       <use xlink:href=\"#DejaVuSans-49\"/>\r\n       <use x=\"63.623047\" xlink:href=\"#DejaVuSans-46\"/>\r\n       <use x=\"95.410156\" xlink:href=\"#DejaVuSans-53\"/>\r\n      </g>\r\n     </g>\r\n    </g>\r\n   </g>\r\n   <g id=\"patch_3\">\r\n    <path d=\"M 38.482813 239.758125 \r\nL 38.482813 22.318125 \r\n\" style=\"fill:none;stroke:#000000;stroke-linecap:square;stroke-linejoin:miter;stroke-width:0.8;\"/>\r\n   </g>\r\n   <g id=\"patch_4\">\r\n    <path d=\"M 373.282813 239.758125 \r\nL 373.282813 22.318125 \r\n\" style=\"fill:none;stroke:#000000;stroke-linecap:square;stroke-linejoin:miter;stroke-width:0.8;\"/>\r\n   </g>\r\n   <g id=\"patch_5\">\r\n    <path d=\"M 38.482813 239.758125 \r\nL 373.282812 239.758125 \r\n\" style=\"fill:none;stroke:#000000;stroke-linecap:square;stroke-linejoin:miter;stroke-width:0.8;\"/>\r\n   </g>\r\n   <g id=\"patch_6\">\r\n    <path d=\"M 38.482813 22.318125 \r\nL 373.282812 22.318125 \r\n\" style=\"fill:none;stroke:#000000;stroke-linecap:square;stroke-linejoin:miter;stroke-width:0.8;\"/>\r\n   </g>\r\n   <g id=\"text_12\">\r\n    <!-- What the f does it mean! -->\r\n    <g transform=\"translate(130.8875 16.318125)scale(0.12 -0.12)\">\r\n     <defs>\r\n      <path d=\"M 3.328125 72.90625 \r\nL 13.28125 72.90625 \r\nL 28.609375 11.28125 \r\nL 43.890625 72.90625 \r\nL 54.984375 72.90625 \r\nL 70.3125 11.28125 \r\nL 85.59375 72.90625 \r\nL 95.609375 72.90625 \r\nL 77.296875 0 \r\nL 64.890625 0 \r\nL 49.515625 63.28125 \r\nL 33.984375 0 \r\nL 21.578125 0 \r\nz\r\n\" id=\"DejaVuSans-87\"/>\r\n      <path d=\"M 54.890625 33.015625 \r\nL 54.890625 0 \r\nL 45.90625 0 \r\nL 45.90625 32.71875 \r\nQ 45.90625 40.484375 42.875 44.328125 \r\nQ 39.84375 48.1875 33.796875 48.1875 \r\nQ 26.515625 48.1875 22.3125 43.546875 \r\nQ 18.109375 38.921875 18.109375 30.90625 \r\nL 18.109375 0 \r\nL 9.078125 0 \r\nL 9.078125 75.984375 \r\nL 18.109375 75.984375 \r\nL 18.109375 46.1875 \r\nQ 21.34375 51.125 25.703125 53.5625 \r\nQ 30.078125 56 35.796875 56 \r\nQ 45.21875 56 50.046875 50.171875 \r\nQ 54.890625 44.34375 54.890625 33.015625 \r\nz\r\n\" id=\"DejaVuSans-104\"/>\r\n      <path d=\"M 34.28125 27.484375 \r\nQ 23.390625 27.484375 19.1875 25 \r\nQ 14.984375 22.515625 14.984375 16.5 \r\nQ 14.984375 11.71875 18.140625 8.90625 \r\nQ 21.296875 6.109375 26.703125 6.109375 \r\nQ 34.1875 6.109375 38.703125 11.40625 \r\nQ 43.21875 16.703125 43.21875 25.484375 \r\nL 43.21875 27.484375 \r\nz\r\nM 52.203125 31.203125 \r\nL 52.203125 0 \r\nL 43.21875 0 \r\nL 43.21875 8.296875 \r\nQ 40.140625 3.328125 35.546875 0.953125 \r\nQ 30.953125 -1.421875 24.3125 -1.421875 \r\nQ 15.921875 -1.421875 10.953125 3.296875 \r\nQ 6 8.015625 6 15.921875 \r\nQ 6 25.140625 12.171875 29.828125 \r\nQ 18.359375 34.515625 30.609375 34.515625 \r\nL 43.21875 34.515625 \r\nL 43.21875 35.40625 \r\nQ 43.21875 41.609375 39.140625 45 \r\nQ 35.0625 48.390625 27.6875 48.390625 \r\nQ 23 48.390625 18.546875 47.265625 \r\nQ 14.109375 46.140625 10.015625 43.890625 \r\nL 10.015625 52.203125 \r\nQ 14.9375 54.109375 19.578125 55.046875 \r\nQ 24.21875 56 28.609375 56 \r\nQ 40.484375 56 46.34375 49.84375 \r\nQ 52.203125 43.703125 52.203125 31.203125 \r\nz\r\n\" id=\"DejaVuSans-97\"/>\r\n      <path d=\"M 18.3125 70.21875 \r\nL 18.3125 54.6875 \r\nL 36.8125 54.6875 \r\nL 36.8125 47.703125 \r\nL 18.3125 47.703125 \r\nL 18.3125 18.015625 \r\nQ 18.3125 11.328125 20.140625 9.421875 \r\nQ 21.96875 7.515625 27.59375 7.515625 \r\nL 36.8125 7.515625 \r\nL 36.8125 0 \r\nL 27.59375 0 \r\nQ 17.1875 0 13.234375 3.875 \r\nQ 9.28125 7.765625 9.28125 18.015625 \r\nL 9.28125 47.703125 \r\nL 2.6875 47.703125 \r\nL 2.6875 54.6875 \r\nL 9.28125 54.6875 \r\nL 9.28125 70.21875 \r\nz\r\n\" id=\"DejaVuSans-116\"/>\r\n      <path id=\"DejaVuSans-32\"/>\r\n      <path d=\"M 56.203125 29.59375 \r\nL 56.203125 25.203125 \r\nL 14.890625 25.203125 \r\nQ 15.484375 15.921875 20.484375 11.0625 \r\nQ 25.484375 6.203125 34.421875 6.203125 \r\nQ 39.59375 6.203125 44.453125 7.46875 \r\nQ 49.3125 8.734375 54.109375 11.28125 \r\nL 54.109375 2.78125 \r\nQ 49.265625 0.734375 44.1875 -0.34375 \r\nQ 39.109375 -1.421875 33.890625 -1.421875 \r\nQ 20.796875 -1.421875 13.15625 6.1875 \r\nQ 5.515625 13.8125 5.515625 26.8125 \r\nQ 5.515625 40.234375 12.765625 48.109375 \r\nQ 20.015625 56 32.328125 56 \r\nQ 43.359375 56 49.78125 48.890625 \r\nQ 56.203125 41.796875 56.203125 29.59375 \r\nz\r\nM 47.21875 32.234375 \r\nQ 47.125 39.59375 43.09375 43.984375 \r\nQ 39.0625 48.390625 32.421875 48.390625 \r\nQ 24.90625 48.390625 20.390625 44.140625 \r\nQ 15.875 39.890625 15.1875 32.171875 \r\nz\r\n\" id=\"DejaVuSans-101\"/>\r\n      <path d=\"M 37.109375 75.984375 \r\nL 37.109375 68.5 \r\nL 28.515625 68.5 \r\nQ 23.6875 68.5 21.796875 66.546875 \r\nQ 19.921875 64.59375 19.921875 59.515625 \r\nL 19.921875 54.6875 \r\nL 34.71875 54.6875 \r\nL 34.71875 47.703125 \r\nL 19.921875 47.703125 \r\nL 19.921875 0 \r\nL 10.890625 0 \r\nL 10.890625 47.703125 \r\nL 2.296875 47.703125 \r\nL 2.296875 54.6875 \r\nL 10.890625 54.6875 \r\nL 10.890625 58.5 \r\nQ 10.890625 67.625 15.140625 71.796875 \r\nQ 19.390625 75.984375 28.609375 75.984375 \r\nz\r\n\" id=\"DejaVuSans-102\"/>\r\n      <path d=\"M 45.40625 46.390625 \r\nL 45.40625 75.984375 \r\nL 54.390625 75.984375 \r\nL 54.390625 0 \r\nL 45.40625 0 \r\nL 45.40625 8.203125 \r\nQ 42.578125 3.328125 38.25 0.953125 \r\nQ 33.9375 -1.421875 27.875 -1.421875 \r\nQ 17.96875 -1.421875 11.734375 6.484375 \r\nQ 5.515625 14.40625 5.515625 27.296875 \r\nQ 5.515625 40.1875 11.734375 48.09375 \r\nQ 17.96875 56 27.875 56 \r\nQ 33.9375 56 38.25 53.625 \r\nQ 42.578125 51.265625 45.40625 46.390625 \r\nz\r\nM 14.796875 27.296875 \r\nQ 14.796875 17.390625 18.875 11.75 \r\nQ 22.953125 6.109375 30.078125 6.109375 \r\nQ 37.203125 6.109375 41.296875 11.75 \r\nQ 45.40625 17.390625 45.40625 27.296875 \r\nQ 45.40625 37.203125 41.296875 42.84375 \r\nQ 37.203125 48.484375 30.078125 48.484375 \r\nQ 22.953125 48.484375 18.875 42.84375 \r\nQ 14.796875 37.203125 14.796875 27.296875 \r\nz\r\n\" id=\"DejaVuSans-100\"/>\r\n      <path d=\"M 30.609375 48.390625 \r\nQ 23.390625 48.390625 19.1875 42.75 \r\nQ 14.984375 37.109375 14.984375 27.296875 \r\nQ 14.984375 17.484375 19.15625 11.84375 \r\nQ 23.34375 6.203125 30.609375 6.203125 \r\nQ 37.796875 6.203125 41.984375 11.859375 \r\nQ 46.1875 17.53125 46.1875 27.296875 \r\nQ 46.1875 37.015625 41.984375 42.703125 \r\nQ 37.796875 48.390625 30.609375 48.390625 \r\nz\r\nM 30.609375 56 \r\nQ 42.328125 56 49.015625 48.375 \r\nQ 55.71875 40.765625 55.71875 27.296875 \r\nQ 55.71875 13.875 49.015625 6.21875 \r\nQ 42.328125 -1.421875 30.609375 -1.421875 \r\nQ 18.84375 -1.421875 12.171875 6.21875 \r\nQ 5.515625 13.875 5.515625 27.296875 \r\nQ 5.515625 40.765625 12.171875 48.375 \r\nQ 18.84375 56 30.609375 56 \r\nz\r\n\" id=\"DejaVuSans-111\"/>\r\n      <path d=\"M 44.28125 53.078125 \r\nL 44.28125 44.578125 \r\nQ 40.484375 46.53125 36.375 47.5 \r\nQ 32.28125 48.484375 27.875 48.484375 \r\nQ 21.1875 48.484375 17.84375 46.4375 \r\nQ 14.5 44.390625 14.5 40.28125 \r\nQ 14.5 37.15625 16.890625 35.375 \r\nQ 19.28125 33.59375 26.515625 31.984375 \r\nL 29.59375 31.296875 \r\nQ 39.15625 29.25 43.1875 25.515625 \r\nQ 47.21875 21.78125 47.21875 15.09375 \r\nQ 47.21875 7.46875 41.1875 3.015625 \r\nQ 35.15625 -1.421875 24.609375 -1.421875 \r\nQ 20.21875 -1.421875 15.453125 -0.5625 \r\nQ 10.6875 0.296875 5.421875 2 \r\nL 5.421875 11.28125 \r\nQ 10.40625 8.6875 15.234375 7.390625 \r\nQ 20.0625 6.109375 24.8125 6.109375 \r\nQ 31.15625 6.109375 34.5625 8.28125 \r\nQ 37.984375 10.453125 37.984375 14.40625 \r\nQ 37.984375 18.0625 35.515625 20.015625 \r\nQ 33.0625 21.96875 24.703125 23.78125 \r\nL 21.578125 24.515625 \r\nQ 13.234375 26.265625 9.515625 29.90625 \r\nQ 5.8125 33.546875 5.8125 39.890625 \r\nQ 5.8125 47.609375 11.28125 51.796875 \r\nQ 16.75 56 26.8125 56 \r\nQ 31.78125 56 36.171875 55.265625 \r\nQ 40.578125 54.546875 44.28125 53.078125 \r\nz\r\n\" id=\"DejaVuSans-115\"/>\r\n      <path d=\"M 9.421875 54.6875 \r\nL 18.40625 54.6875 \r\nL 18.40625 0 \r\nL 9.421875 0 \r\nz\r\nM 9.421875 75.984375 \r\nL 18.40625 75.984375 \r\nL 18.40625 64.59375 \r\nL 9.421875 64.59375 \r\nz\r\n\" id=\"DejaVuSans-105\"/>\r\n      <path d=\"M 52 44.1875 \r\nQ 55.375 50.25 60.0625 53.125 \r\nQ 64.75 56 71.09375 56 \r\nQ 79.640625 56 84.28125 50.015625 \r\nQ 88.921875 44.046875 88.921875 33.015625 \r\nL 88.921875 0 \r\nL 79.890625 0 \r\nL 79.890625 32.71875 \r\nQ 79.890625 40.578125 77.09375 44.375 \r\nQ 74.3125 48.1875 68.609375 48.1875 \r\nQ 61.625 48.1875 57.5625 43.546875 \r\nQ 53.515625 38.921875 53.515625 30.90625 \r\nL 53.515625 0 \r\nL 44.484375 0 \r\nL 44.484375 32.71875 \r\nQ 44.484375 40.625 41.703125 44.40625 \r\nQ 38.921875 48.1875 33.109375 48.1875 \r\nQ 26.21875 48.1875 22.15625 43.53125 \r\nQ 18.109375 38.875 18.109375 30.90625 \r\nL 18.109375 0 \r\nL 9.078125 0 \r\nL 9.078125 54.6875 \r\nL 18.109375 54.6875 \r\nL 18.109375 46.1875 \r\nQ 21.1875 51.21875 25.484375 53.609375 \r\nQ 29.78125 56 35.6875 56 \r\nQ 41.65625 56 45.828125 52.96875 \r\nQ 50 49.953125 52 44.1875 \r\nz\r\n\" id=\"DejaVuSans-109\"/>\r\n      <path d=\"M 54.890625 33.015625 \r\nL 54.890625 0 \r\nL 45.90625 0 \r\nL 45.90625 32.71875 \r\nQ 45.90625 40.484375 42.875 44.328125 \r\nQ 39.84375 48.1875 33.796875 48.1875 \r\nQ 26.515625 48.1875 22.3125 43.546875 \r\nQ 18.109375 38.921875 18.109375 30.90625 \r\nL 18.109375 0 \r\nL 9.078125 0 \r\nL 9.078125 54.6875 \r\nL 18.109375 54.6875 \r\nL 18.109375 46.1875 \r\nQ 21.34375 51.125 25.703125 53.5625 \r\nQ 30.078125 56 35.796875 56 \r\nQ 45.21875 56 50.046875 50.171875 \r\nQ 54.890625 44.34375 54.890625 33.015625 \r\nz\r\n\" id=\"DejaVuSans-110\"/>\r\n      <path d=\"M 15.09375 12.40625 \r\nL 25 12.40625 \r\nL 25 0 \r\nL 15.09375 0 \r\nz\r\nM 15.09375 72.90625 \r\nL 25 72.90625 \r\nL 25 40.921875 \r\nL 24.03125 23.484375 \r\nL 16.109375 23.484375 \r\nL 15.09375 40.921875 \r\nz\r\n\" id=\"DejaVuSans-33\"/>\r\n     </defs>\r\n     <use xlink:href=\"#DejaVuSans-87\"/>\r\n     <use x=\"98.876953\" xlink:href=\"#DejaVuSans-104\"/>\r\n     <use x=\"162.255859\" xlink:href=\"#DejaVuSans-97\"/>\r\n     <use x=\"223.535156\" xlink:href=\"#DejaVuSans-116\"/>\r\n     <use x=\"262.744141\" xlink:href=\"#DejaVuSans-32\"/>\r\n     <use x=\"294.53125\" xlink:href=\"#DejaVuSans-116\"/>\r\n     <use x=\"333.740234\" xlink:href=\"#DejaVuSans-104\"/>\r\n     <use x=\"397.119141\" xlink:href=\"#DejaVuSans-101\"/>\r\n     <use x=\"458.642578\" xlink:href=\"#DejaVuSans-32\"/>\r\n     <use x=\"490.429688\" xlink:href=\"#DejaVuSans-102\"/>\r\n     <use x=\"525.634766\" xlink:href=\"#DejaVuSans-32\"/>\r\n     <use x=\"557.421875\" xlink:href=\"#DejaVuSans-100\"/>\r\n     <use x=\"620.898438\" xlink:href=\"#DejaVuSans-111\"/>\r\n     <use x=\"682.080078\" xlink:href=\"#DejaVuSans-101\"/>\r\n     <use x=\"743.603516\" xlink:href=\"#DejaVuSans-115\"/>\r\n     <use x=\"795.703125\" xlink:href=\"#DejaVuSans-32\"/>\r\n     <use x=\"827.490234\" xlink:href=\"#DejaVuSans-105\"/>\r\n     <use x=\"855.273438\" xlink:href=\"#DejaVuSans-116\"/>\r\n     <use x=\"894.482422\" xlink:href=\"#DejaVuSans-32\"/>\r\n     <use x=\"926.269531\" xlink:href=\"#DejaVuSans-109\"/>\r\n     <use x=\"1023.681641\" xlink:href=\"#DejaVuSans-101\"/>\r\n     <use x=\"1085.205078\" xlink:href=\"#DejaVuSans-97\"/>\r\n     <use x=\"1146.484375\" xlink:href=\"#DejaVuSans-110\"/>\r\n     <use x=\"1209.863281\" xlink:href=\"#DejaVuSans-33\"/>\r\n    </g>\r\n   </g>\r\n  </g>\r\n </g>\r\n <defs>\r\n  <clipPath id=\"p62ad58df75\">\r\n   <rect height=\"217.44\" width=\"334.8\" x=\"38.482813\" y=\"22.318125\"/>\r\n  </clipPath>\r\n </defs>\r\n</svg>\r\n",
      "image/png": "[encoded data removed]"
     },
     "metadata": {
      "needs_background": "light"
     }
    }
   ],
   "source": [
    "#plot all the points together\n",
    "plt.scatter(data_0[:,0], data_0[:,1], c= 'orange' );\n",
    "plt.scatter(data_1[:,0], data_1[:,1], c= 'red')\n",
    "plt.scatter(data_2[:,0], data_2[:,1], c='black')\n",
    "\n",
    "plt.scatter(new_0[:,0],new_0[:,1], c= 'orange');\n",
    "plt.scatter(new_1[:,0],new_1[:,1], c= 'red');\n",
    "plt.scatter(new_2[:,0],new_2[:,1], c= 'black');\n",
    "plt.title('What the f does it mean!');\n",
    "\n",
    "# YOUR CODE HERE\n",
    "#raise NotImplementedError()"
   ]
  },
  {
   "cell_type": "code",
   "execution_count": null,
   "metadata": {},
   "outputs": [],
   "source": []
  }
 ],
 "metadata": {
  "kernelspec": {
   "name": "python3",
   "display_name": "Python 3.8.10 64-bit ('wojtek': conda)"
  },
  "language_info": {
   "codemirror_mode": {
    "name": "ipython",
    "version": 3
   },
   "file_extension": ".py",
   "mimetype": "text/x-python",
   "name": "python",
   "nbconvert_exporter": "python",
   "pygments_lexer": "ipython3",
   "version": "3.8.10"
  },
  "interpreter": {
   "hash": "273e4cd330c9365d0d8fc6d704b08084cf297120c969e21fb6416b510b92ba85"
  }
 },
 "nbformat": 4,
 "nbformat_minor": 2
}