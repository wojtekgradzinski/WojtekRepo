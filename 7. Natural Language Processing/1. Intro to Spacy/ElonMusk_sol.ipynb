{
  "cells": [
    {
      "cell_type": "markdown",
      "metadata": {
        "colab_type": "text",
        "id": "view-in-github"
      },
      "source": [
        "<a href=\"https://colab.research.google.com/github/wojtekgradzinski/WojtekRepo/blob/main/ElonMusk.ipynb\" target=\"_parent\"><img src=\"https://colab.research.google.com/assets/colab-badge.svg\" alt=\"Open In Colab\"/></a>"
      ]
    },
    {
      "cell_type": "code",
      "execution_count": 1,
      "metadata": {
        "id": "wRFQbrql86-K"
      },
      "outputs": [],
      "source": [
        "import pandas as pd"
      ]
    },
    {
      "cell_type": "code",
      "execution_count": 4,
      "metadata": {
        "colab": {
          "base_uri": "https://localhost:8080/",
          "height": 206
        },
        "id": "jZ5DYzxQ9P7L",
        "outputId": "7ba461d0-1209-43fc-bad0-d071d9b89612"
      },
      "outputs": [
        {
          "data": {
            "text/html": [
              "<div>\n",
              "<style scoped>\n",
              "    .dataframe tbody tr th:only-of-type {\n",
              "        vertical-align: middle;\n",
              "    }\n",
              "\n",
              "    .dataframe tbody tr th {\n",
              "        vertical-align: top;\n",
              "    }\n",
              "\n",
              "    .dataframe thead th {\n",
              "        text-align: right;\n",
              "    }\n",
              "</style>\n",
              "<table border=\"1\" class=\"dataframe\">\n",
              "  <thead>\n",
              "    <tr style=\"text-align: right;\">\n",
              "      <th></th>\n",
              "      <th>Timestamp</th>\n",
              "      <th>Speaker</th>\n",
              "      <th>Text</th>\n",
              "    </tr>\n",
              "  </thead>\n",
              "  <tbody>\n",
              "    <tr>\n",
              "      <th>0</th>\n",
              "      <td>[00:00:00]</td>\n",
              "      <td>Joe Rogan</td>\n",
              "      <td>Ah, ha, ha, ha. Four, three, two, one, boom. T...</td>\n",
              "    </tr>\n",
              "    <tr>\n",
              "      <th>1</th>\n",
              "      <td>[00:00:09]</td>\n",
              "      <td>Elon Musk</td>\n",
              "      <td>You're welcome.</td>\n",
              "    </tr>\n",
              "    <tr>\n",
              "      <th>2</th>\n",
              "      <td>[00:00:10]</td>\n",
              "      <td>Joe Rogan</td>\n",
              "      <td>It's very good to meet you.</td>\n",
              "    </tr>\n",
              "    <tr>\n",
              "      <th>3</th>\n",
              "      <td>[00:00:11]</td>\n",
              "      <td>Elon Musk</td>\n",
              "      <td>Nice to meet you too.</td>\n",
              "    </tr>\n",
              "    <tr>\n",
              "      <th>4</th>\n",
              "      <td>[00:00:12]</td>\n",
              "      <td>Joe Rogan</td>\n",
              "      <td>And thanks for not lighting this place on fire.</td>\n",
              "    </tr>\n",
              "  </tbody>\n",
              "</table>\n",
              "</div>"
            ],
            "text/plain": [
              "    Timestamp    Speaker                                               Text\n",
              "0  [00:00:00]  Joe Rogan  Ah, ha, ha, ha. Four, three, two, one, boom. T...\n",
              "1  [00:00:09]  Elon Musk                                    You're welcome.\n",
              "2  [00:00:10]  Joe Rogan                        It's very good to meet you.\n",
              "3  [00:00:11]  Elon Musk                              Nice to meet you too.\n",
              "4  [00:00:12]  Joe Rogan    And thanks for not lighting this place on fire."
            ]
          },
          "execution_count": 4,
          "metadata": {},
          "output_type": "execute_result"
        }
      ],
      "source": [
        "df = pd.read_csv(\"data/jre_elon_musk.csv\")\n",
        "df.head()"
      ]
    },
    {
      "cell_type": "code",
      "execution_count": 6,
      "metadata": {
        "colab": {
          "base_uri": "https://localhost:8080/"
        },
        "id": "eU2F6hyW9P9r",
        "outputId": "4077de17-56d1-4b6e-ceb9-34d80180f974"
      },
      "outputs": [
        {
          "name": "stdout",
          "output_type": "stream",
          "text": [
            "['Ah, ha, ha, ha. Four, three, two, one, boom. Thank you. Thanks for doing this, man. Really appreciate it.'\n",
            " \"You're welcome.\" \"It's very good to meet you.\" 'Nice to meet you too.'\n",
            " 'And thanks for not lighting this place on fire.'\n",
            " \"You're welcome. That's coming later.\"\n",
            " \"How does one, just in the middle of doing all the things you do, create cars, rockets, all the stuff you're doing,constantly innovating, decide to just make a flamethrower? Where do you have the time for that?\"\n",
            " \"Well, the flame, we didn't put a lot of time into the flamethrower. This was an off-the-cuff thing. It's sort of a hobbycompany called the Boring Company, which started out as a joke, and we decided to make a real, and dig a tunnelunder LA. And then, other people asked us to dig tunnels. And so, we said yes in a few cases.\"\n",
            " 'Now, who-'\n",
            " 'And then, we have a merchandise section that only has one piece of merchandise at a time. And we started off witha cap. And there was only one thing on, which is BoringCompany.com/hat. That\\'s it. And then, we sold the hats,limited edition. It just said, \"The Boring Company.\"']\n"
          ]
        }
      ],
      "source": [
        "# Print the first ten lines of text\n",
        "print(df.Text.values[0:10])"
      ]
    },
    {
      "cell_type": "code",
      "execution_count": 7,
      "metadata": {
        "id": "r4zDvqOC9QAV"
      },
      "outputs": [],
      "source": [
        "# Create a function to convert timestamp into seconds\n",
        "import re\n",
        "def convert_timestamp_into_seconds(timestamp):\n",
        "    # your code here\n",
        "    timestamp = timestamp.strip('[]').split(':')\n",
        "    hrs = int(timestamp[0])\n",
        "    mins = int(timestamp[1])\n",
        "\n",
        "    return hrs*3600 + mins*60 + int(timestamp[2])"
      ]
    },
    {
      "cell_type": "code",
      "execution_count": 8,
      "metadata": {
        "id": "fRa6mnjQ9QCE"
      },
      "outputs": [
        {
          "data": {
            "text/plain": [
              "'00'"
            ]
          },
          "execution_count": 8,
          "metadata": {},
          "output_type": "execute_result"
        }
      ],
      "source": [
        "df.Timestamp[1].strip('[,]').split(':')[0]"
      ]
    },
    {
      "cell_type": "code",
      "execution_count": 9,
      "metadata": {
        "colab": {
          "base_uri": "https://localhost:8080/",
          "height": 206
        },
        "id": "jDHjOAPS9QES",
        "outputId": "2cb6221c-495e-4906-fef5-b10d80fca198"
      },
      "outputs": [
        {
          "data": {
            "text/html": [
              "<div>\n",
              "<style scoped>\n",
              "    .dataframe tbody tr th:only-of-type {\n",
              "        vertical-align: middle;\n",
              "    }\n",
              "\n",
              "    .dataframe tbody tr th {\n",
              "        vertical-align: top;\n",
              "    }\n",
              "\n",
              "    .dataframe thead th {\n",
              "        text-align: right;\n",
              "    }\n",
              "</style>\n",
              "<table border=\"1\" class=\"dataframe\">\n",
              "  <thead>\n",
              "    <tr style=\"text-align: right;\">\n",
              "      <th></th>\n",
              "      <th>Timestamp</th>\n",
              "      <th>Speaker</th>\n",
              "      <th>Text</th>\n",
              "    </tr>\n",
              "  </thead>\n",
              "  <tbody>\n",
              "    <tr>\n",
              "      <th>1826</th>\n",
              "      <td>9401</td>\n",
              "      <td>Joe Rogan</td>\n",
              "      <td>I believe it's true too. So, thank you.</td>\n",
              "    </tr>\n",
              "    <tr>\n",
              "      <th>1827</th>\n",
              "      <td>9403</td>\n",
              "      <td>Elon Musk</td>\n",
              "      <td>You're welcome.</td>\n",
              "    </tr>\n",
              "    <tr>\n",
              "      <th>1828</th>\n",
              "      <td>9404</td>\n",
              "      <td>Joe Rogan</td>\n",
              "      <td>All you assholes out there, be nice. Be nice, ...</td>\n",
              "    </tr>\n",
              "    <tr>\n",
              "      <th>1829</th>\n",
              "      <td>9410</td>\n",
              "      <td>Elon Musk</td>\n",
              "      <td>All right, thank you.</td>\n",
              "    </tr>\n",
              "    <tr>\n",
              "      <th>1830</th>\n",
              "      <td>9410</td>\n",
              "      <td>Joe Rogan</td>\n",
              "      <td>Good night, everybody. END OF TRANSCRIPTAutoma...</td>\n",
              "    </tr>\n",
              "  </tbody>\n",
              "</table>\n",
              "</div>"
            ],
            "text/plain": [
              "      Timestamp    Speaker                                               Text\n",
              "1826       9401  Joe Rogan            I believe it's true too. So, thank you.\n",
              "1827       9403  Elon Musk                                    You're welcome.\n",
              "1828       9404  Joe Rogan  All you assholes out there, be nice. Be nice, ...\n",
              "1829       9410  Elon Musk                              All right, thank you.\n",
              "1830       9410  Joe Rogan  Good night, everybody. END OF TRANSCRIPTAutoma..."
            ]
          },
          "execution_count": 9,
          "metadata": {},
          "output_type": "execute_result"
        }
      ],
      "source": [
        "# Convert the Timestamp column using the function defined above\n",
        "\n",
        "df[\"Timestamp\"] = df[\"Timestamp\"].apply(convert_timestamp_into_seconds)\n",
        "df.tail()"
      ]
    },
    {
      "cell_type": "code",
      "execution_count": 6,
      "metadata": {
        "colab": {
          "base_uri": "https://localhost:8080/"
        },
        "id": "u61FSj289QGq",
        "outputId": "78ed519a-67cd-4d04-c3c2-8a7509c81bf0"
      },
      "outputs": [
        {
          "data": {
            "text/plain": [
              "0       9.0\n",
              "1       1.0\n",
              "2       1.0\n",
              "3       1.0\n",
              "4       1.0\n",
              "       ... \n",
              "1826    2.0\n",
              "1827    1.0\n",
              "1828    6.0\n",
              "1829    1.0\n",
              "1830    1.0\n",
              "Name: Interval, Length: 1831, dtype: float64"
            ]
          },
          "execution_count": 6,
          "metadata": {},
          "output_type": "execute_result"
        }
      ],
      "source": [
        "# Add a column with the seconds lasted by the text in the row\n",
        "# for example: the first row lasts 9 seconds, since Elon Musk\n",
        "# answer at the second 9 (Hint: use shift with period - 1).\n",
        "# In case of negative numbers, just make them 1 (minimum interval lenght is 1 second)\n",
        "import numpy as np\n",
        "def max1(x):\n",
        "    return np.maximum(1,x)\n",
        "\n",
        "\n",
        "df[\"Interval\"] =  (df['Timestamp'].shift(periods=-1, fill_value=1.0) - df['Timestamp']).apply(max1) # your code here\n",
        "df[\"Interval\"]"
      ]
    },
    {
      "cell_type": "code",
      "execution_count": 7,
      "metadata": {
        "colab": {
          "base_uri": "https://localhost:8080/"
        },
        "id": "pyH-vhgU9QIr",
        "outputId": "7e8a1d9a-1c25-4370-888c-a30cb0c87fb5"
      },
      "outputs": [
        {
          "data": {
            "text/plain": [
              "4637.0"
            ]
          },
          "execution_count": 7,
          "metadata": {},
          "output_type": "execute_result"
        }
      ],
      "source": [
        "# Total seconds spoken by Joe Rogan\n",
        "df[df['Speaker'] == 'Joe Rogan'].Interval.sum()"
      ]
    },
    {
      "cell_type": "code",
      "execution_count": 8,
      "metadata": {
        "colab": {
          "base_uri": "https://localhost:8080/"
        },
        "id": "1h2miyey9QK_",
        "outputId": "4cf7154e-6460-408c-a78b-ee4a297695b8"
      },
      "outputs": [
        {
          "data": {
            "text/plain": [
              "45.0"
            ]
          },
          "execution_count": 8,
          "metadata": {},
          "output_type": "execute_result"
        }
      ],
      "source": [
        "# Total seconds spoken by Jaime\n",
        "df[df['Speaker'] == 'Jaime'].Interval.sum()"
      ]
    },
    {
      "cell_type": "code",
      "execution_count": 9,
      "metadata": {
        "colab": {
          "base_uri": "https://localhost:8080/"
        },
        "id": "c-Mj4auo9QNW",
        "outputId": "1ee3d7a7-613f-4750-80c5-f31953478239"
      },
      "outputs": [
        {
          "data": {
            "text/plain": [
              "Speaker\n",
              "Elon Musk    5.583058\n",
              "Jaime        2.647059\n",
              "Joe Rogan    5.123757\n",
              "Name: Interval, dtype: float64"
            ]
          },
          "execution_count": 9,
          "metadata": {},
          "output_type": "execute_result"
        }
      ],
      "source": [
        "# Average speaking interval for each person\n",
        "df.groupby(by=[\"Speaker\"])[\"Interval\"].mean()"
      ]
    },
    {
      "cell_type": "code",
      "execution_count": 16,
      "metadata": {
        "id": "xkfJeC8Q-gUF"
      },
      "outputs": [],
      "source": [
        "#Preprocess the data\n",
        "import spacy\n",
        "\n",
        "nlp = spacy.load(\"en_core_web_sm\")\n",
        "\n",
        "# Create a function to remove punctuation from text\n",
        "\n",
        "def remove_punctuation(text):\n",
        "    # your code here\n",
        "    return re.sub(r'[^\\w\\s]', '', text)\n",
        "\n",
        "\n",
        "# Create a function to count the non punctuation token of a text\n",
        "\n",
        "def count_tokens(text):\n",
        "    # your code here\n",
        "    doc = nlp(text)\n",
        "    count = 0\n",
        "    for token in doc:\n",
        "        count += 1\n",
        "    return count\n",
        "    \n",
        "# Create a function to remove stop words from text\n",
        "    \n",
        "def remove_stopwords(text):\n",
        "    # your code here\n",
        "    doc = nlp(text)\n",
        "    tokens = [token.text for token in doc if not token.is_stop]\n",
        "    return ' '.join(tokens)\n",
        "\n",
        "# df[\"TextNoPunct\"] = # your code here\n",
        "df[\"TextNoPunct\"] = df.Text.apply(remove_punctuation)"
      ]
    },
    {
      "cell_type": "code",
      "execution_count": 18,
      "metadata": {
        "colab": {
          "base_uri": "https://localhost:8080/",
          "height": 597
        },
        "id": "EfRnMMh5_BTM",
        "outputId": "dbd30942-a826-4a48-a14d-b0fc715670f3"
      },
      "outputs": [
        {
          "data": {
            "text/html": [
              "<div>\n",
              "<style scoped>\n",
              "    .dataframe tbody tr th:only-of-type {\n",
              "        vertical-align: middle;\n",
              "    }\n",
              "\n",
              "    .dataframe tbody tr th {\n",
              "        vertical-align: top;\n",
              "    }\n",
              "\n",
              "    .dataframe thead th {\n",
              "        text-align: right;\n",
              "    }\n",
              "</style>\n",
              "<table border=\"1\" class=\"dataframe\">\n",
              "  <thead>\n",
              "    <tr style=\"text-align: right;\">\n",
              "      <th></th>\n",
              "      <th>Timestamp</th>\n",
              "      <th>Speaker</th>\n",
              "      <th>Text</th>\n",
              "      <th>Interval</th>\n",
              "      <th>TextNoPunct</th>\n",
              "      <th>n_tokens</th>\n",
              "    </tr>\n",
              "  </thead>\n",
              "  <tbody>\n",
              "    <tr>\n",
              "      <th>0</th>\n",
              "      <td>0</td>\n",
              "      <td>Joe Rogan</td>\n",
              "      <td>Ah, ha, ha, ha. Four, three, two, one, boom. T...</td>\n",
              "      <td>9.0</td>\n",
              "      <td>Ah ha ha ha Four three two one boom Thank you ...</td>\n",
              "      <td>19</td>\n",
              "    </tr>\n",
              "    <tr>\n",
              "      <th>1</th>\n",
              "      <td>9</td>\n",
              "      <td>Elon Musk</td>\n",
              "      <td>You're welcome.</td>\n",
              "      <td>1.0</td>\n",
              "      <td>Youre welcome</td>\n",
              "      <td>3</td>\n",
              "    </tr>\n",
              "    <tr>\n",
              "      <th>2</th>\n",
              "      <td>10</td>\n",
              "      <td>Joe Rogan</td>\n",
              "      <td>It's very good to meet you.</td>\n",
              "      <td>1.0</td>\n",
              "      <td>Its very good to meet you</td>\n",
              "      <td>6</td>\n",
              "    </tr>\n",
              "    <tr>\n",
              "      <th>3</th>\n",
              "      <td>11</td>\n",
              "      <td>Elon Musk</td>\n",
              "      <td>Nice to meet you too.</td>\n",
              "      <td>1.0</td>\n",
              "      <td>Nice to meet you too</td>\n",
              "      <td>5</td>\n",
              "    </tr>\n",
              "    <tr>\n",
              "      <th>4</th>\n",
              "      <td>12</td>\n",
              "      <td>Joe Rogan</td>\n",
              "      <td>And thanks for not lighting this place on fire.</td>\n",
              "      <td>1.0</td>\n",
              "      <td>And thanks for not lighting this place on fire</td>\n",
              "      <td>9</td>\n",
              "    </tr>\n",
              "    <tr>\n",
              "      <th>...</th>\n",
              "      <td>...</td>\n",
              "      <td>...</td>\n",
              "      <td>...</td>\n",
              "      <td>...</td>\n",
              "      <td>...</td>\n",
              "      <td>...</td>\n",
              "    </tr>\n",
              "    <tr>\n",
              "      <th>1826</th>\n",
              "      <td>9401</td>\n",
              "      <td>Joe Rogan</td>\n",
              "      <td>I believe it's true too. So, thank you.</td>\n",
              "      <td>2.0</td>\n",
              "      <td>I believe its true too So thank you</td>\n",
              "      <td>8</td>\n",
              "    </tr>\n",
              "    <tr>\n",
              "      <th>1827</th>\n",
              "      <td>9403</td>\n",
              "      <td>Elon Musk</td>\n",
              "      <td>You're welcome.</td>\n",
              "      <td>1.0</td>\n",
              "      <td>Youre welcome</td>\n",
              "      <td>3</td>\n",
              "    </tr>\n",
              "    <tr>\n",
              "      <th>1828</th>\n",
              "      <td>9404</td>\n",
              "      <td>Joe Rogan</td>\n",
              "      <td>All you assholes out there, be nice. Be nice, ...</td>\n",
              "      <td>6.0</td>\n",
              "      <td>All you assholes out there be nice Be nice bit...</td>\n",
              "      <td>18</td>\n",
              "    </tr>\n",
              "    <tr>\n",
              "      <th>1829</th>\n",
              "      <td>9410</td>\n",
              "      <td>Elon Musk</td>\n",
              "      <td>All right, thank you.</td>\n",
              "      <td>1.0</td>\n",
              "      <td>All right thank you</td>\n",
              "      <td>4</td>\n",
              "    </tr>\n",
              "    <tr>\n",
              "      <th>1830</th>\n",
              "      <td>9410</td>\n",
              "      <td>Joe Rogan</td>\n",
              "      <td>Good night, everybody. END OF TRANSCRIPTAutoma...</td>\n",
              "      <td>1.0</td>\n",
              "      <td>Good night everybody END OF TRANSCRIPTAutomate...</td>\n",
              "      <td>18</td>\n",
              "    </tr>\n",
              "  </tbody>\n",
              "</table>\n",
              "<p>1831 rows × 6 columns</p>\n",
              "</div>"
            ],
            "text/plain": [
              "      Timestamp  ... n_tokens\n",
              "0             0  ...       19\n",
              "1             9  ...        3\n",
              "2            10  ...        6\n",
              "3            11  ...        5\n",
              "4            12  ...        9\n",
              "...         ...  ...      ...\n",
              "1826       9401  ...        8\n",
              "1827       9403  ...        3\n",
              "1828       9404  ...       18\n",
              "1829       9410  ...        4\n",
              "1830       9410  ...       18\n",
              "\n",
              "[1831 rows x 6 columns]"
            ]
          },
          "execution_count": 18,
          "metadata": {},
          "output_type": "execute_result"
        }
      ],
      "source": [
        "df"
      ]
    },
    {
      "cell_type": "code",
      "execution_count": 17,
      "metadata": {
        "id": "Rpk489r3-gOs"
      },
      "outputs": [],
      "source": [
        "# Put the number of tokens of each row in a new column\n",
        "df[\"n_tokens\"] = df.TextNoPunct.apply(lambda x: count_tokens(x))"
      ]
    },
    {
      "cell_type": "code",
      "execution_count": 19,
      "metadata": {
        "id": "R7CRZnuN-gMI"
      },
      "outputs": [],
      "source": [
        "\n",
        "# Compute the velocity and store it in a new column\n",
        "\n",
        "df[\"Velocity\"] = df[\"n_tokens\"]/df[\"Interval\"]"
      ]
    },
    {
      "cell_type": "code",
      "execution_count": 20,
      "metadata": {
        "colab": {
          "base_uri": "https://localhost:8080/"
        },
        "id": "XEe566Mi-gJ2",
        "outputId": "d012252c-6ab6-4d0b-cad8-f6aa24876cba"
      },
      "outputs": [
        {
          "data": {
            "text/plain": [
              "Speaker\n",
              "Elon Musk    2.814122\n",
              "Jaime        3.453560\n",
              "Joe Rogan    2.999045\n",
              "Name: Velocity, dtype: float64"
            ]
          },
          "execution_count": 20,
          "metadata": {},
          "output_type": "execute_result"
        }
      ],
      "source": [
        "# Inspect the avg velocity of each speaker\n",
        "df.groupby(by=[\"Speaker\"])[\"Velocity\"].mean()"
      ]
    },
    {
      "cell_type": "code",
      "execution_count": null,
      "metadata": {
        "id": "1hFwMnbi-gHY"
      },
      "outputs": [],
      "source": []
    },
    {
      "cell_type": "code",
      "execution_count": null,
      "metadata": {
        "id": "UJmkiKI0-f-h"
      },
      "outputs": [],
      "source": []
    }
  ],
  "metadata": {
    "colab": {
      "authorship_tag": "ABX9TyPmyNR/3D5iaI4BDXBt877U",
      "collapsed_sections": [],
      "include_colab_link": true,
      "mount_file_id": "1wkfaqI8wWBkRS1QLXuMIXldcZIRsDDJx",
      "name": "ElonMusk.ipynb",
      "provenance": []
    },
    "interpreter": {
      "hash": "cf2ea029bfa82dea0dd2008720eb4dab9a9af23f748d757fd319e395d73232e4"
    },
    "kernelspec": {
      "display_name": "Python 3.8.11 64-bit ('nlp': conda)",
      "name": "python3"
    },
    "language_info": {
      "codemirror_mode": {
        "name": "ipython",
        "version": 3
      },
      "file_extension": ".py",
      "mimetype": "text/x-python",
      "name": "python",
      "nbconvert_exporter": "python",
      "pygments_lexer": "ipython3",
      "version": "3.8.11"
    }
  },
  "nbformat": 4,
  "nbformat_minor": 0
}
