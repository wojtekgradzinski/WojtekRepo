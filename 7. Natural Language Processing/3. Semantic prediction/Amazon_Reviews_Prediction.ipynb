{
 "cells": [
  {
   "cell_type": "markdown",
   "id": "infinite-metadata",
   "metadata": {},
   "source": [
    "To perform sentence classification, and many other classification tasks for NLP, we need to do three main steps:\n",
    "\n",
    "- Preprocessing the data\n",
    "- Prepare the dataloader\n",
    "- Build the model\n",
    "\n",
    "Of course, all of these steps requires a lot of other steps, and also they can include many different solutions. \n",
    "\n",
    "To make you to jumpstart on this task, I will provide you a pretty clean dataset, the Amazon Reviews one, that you can extensively find online, and it's also included in the `torxchtext.datasets` module. \n",
    "\n",
    "For this example, I will use just a little part of it, to give some guidance on how to start, without actually training the whole model."
   ]
  },
  {
   "cell_type": "markdown",
   "id": "quality-copper",
   "metadata": {},
   "source": [
    "### Load the data\n",
    "\n"
   ]
  },
  {
   "cell_type": "code",
   "execution_count": 14,
   "id": "personalized-access",
   "metadata": {
    "ExecuteTime": {
     "end_time": "2021-09-18T17:53:45.900707Z",
     "start_time": "2021-09-18T17:53:45.431864Z"
    }
   },
   "outputs": [],
   "source": [
    "import pandas as pd"
   ]
  },
  {
   "cell_type": "code",
   "execution_count": 15,
   "id": "surrounded-forwarding",
   "metadata": {
    "ExecuteTime": {
     "end_time": "2021-09-18T17:53:46.495853Z",
     "start_time": "2021-09-18T17:53:45.908197Z"
    }
   },
   "outputs": [],
   "source": [
    "import spacy"
   ]
  },
  {
   "cell_type": "code",
   "execution_count": 16,
   "id": "listed-criticism",
   "metadata": {
    "ExecuteTime": {
     "end_time": "2021-09-18T17:53:46.540051Z",
     "start_time": "2021-09-18T17:53:46.502284Z"
    },
    "scrolled": true
   },
   "outputs": [
    {
     "data": {
      "text/html": [
       "<div>\n",
       "<style scoped>\n",
       "    .dataframe tbody tr th:only-of-type {\n",
       "        vertical-align: middle;\n",
       "    }\n",
       "\n",
       "    .dataframe tbody tr th {\n",
       "        vertical-align: top;\n",
       "    }\n",
       "\n",
       "    .dataframe thead th {\n",
       "        text-align: right;\n",
       "    }\n",
       "</style>\n",
       "<table border=\"1\" class=\"dataframe\">\n",
       "  <thead>\n",
       "    <tr style=\"text-align: right;\">\n",
       "      <th></th>\n",
       "      <th>0</th>\n",
       "      <th>1</th>\n",
       "      <th>2</th>\n",
       "    </tr>\n",
       "  </thead>\n",
       "  <tbody>\n",
       "    <tr>\n",
       "      <th>0</th>\n",
       "      <td>1</td>\n",
       "      <td>mens ultrasheer</td>\n",
       "      <td>This model may be ok for sedentary types, but ...</td>\n",
       "    </tr>\n",
       "    <tr>\n",
       "      <th>1</th>\n",
       "      <td>4</td>\n",
       "      <td>Surprisingly delightful</td>\n",
       "      <td>This is a fast read filled with unexpected hum...</td>\n",
       "    </tr>\n",
       "    <tr>\n",
       "      <th>2</th>\n",
       "      <td>2</td>\n",
       "      <td>Works, but not as advertised</td>\n",
       "      <td>I bought one of these chargers..the instructio...</td>\n",
       "    </tr>\n",
       "    <tr>\n",
       "      <th>3</th>\n",
       "      <td>2</td>\n",
       "      <td>Oh dear</td>\n",
       "      <td>I was excited to find a book ostensibly about ...</td>\n",
       "    </tr>\n",
       "    <tr>\n",
       "      <th>4</th>\n",
       "      <td>2</td>\n",
       "      <td>Incorrect disc!</td>\n",
       "      <td>I am a big JVC fan, but I do not like this mod...</td>\n",
       "    </tr>\n",
       "    <tr>\n",
       "      <th>...</th>\n",
       "      <td>...</td>\n",
       "      <td>...</td>\n",
       "      <td>...</td>\n",
       "    </tr>\n",
       "    <tr>\n",
       "      <th>2995</th>\n",
       "      <td>2</td>\n",
       "      <td>A MAJOR ( PUN INTENDED) DISAPPOINTMENT</td>\n",
       "      <td>I was so disappointed in this book. Having rea...</td>\n",
       "    </tr>\n",
       "    <tr>\n",
       "      <th>2996</th>\n",
       "      <td>4</td>\n",
       "      <td>Good Inside look at the U.S. Open</td>\n",
       "      <td>The author does a great job of taking the read...</td>\n",
       "    </tr>\n",
       "    <tr>\n",
       "      <th>2997</th>\n",
       "      <td>1</td>\n",
       "      <td>A Good Open Spoiled</td>\n",
       "      <td>The subtitle should be, \"Inside the Port-o-Joh...</td>\n",
       "    </tr>\n",
       "    <tr>\n",
       "      <th>2998</th>\n",
       "      <td>2</td>\n",
       "      <td>Good ideas, but horrible context</td>\n",
       "      <td>I praise Ostebee and Zorn for making an attemp...</td>\n",
       "    </tr>\n",
       "    <tr>\n",
       "      <th>2999</th>\n",
       "      <td>3</td>\n",
       "      <td>High Volume of Typos</td>\n",
       "      <td>This is not a literary review of Philip Roth's...</td>\n",
       "    </tr>\n",
       "  </tbody>\n",
       "</table>\n",
       "<p>3000 rows × 3 columns</p>\n",
       "</div>"
      ],
      "text/plain": [
       "      0                                       1  \\\n",
       "0     1                         mens ultrasheer   \n",
       "1     4                 Surprisingly delightful   \n",
       "2     2            Works, but not as advertised   \n",
       "3     2                                 Oh dear   \n",
       "4     2                         Incorrect disc!   \n",
       "...  ..                                     ...   \n",
       "2995  2  A MAJOR ( PUN INTENDED) DISAPPOINTMENT   \n",
       "2996  4       Good Inside look at the U.S. Open   \n",
       "2997  1                     A Good Open Spoiled   \n",
       "2998  2        Good ideas, but horrible context   \n",
       "2999  3                    High Volume of Typos   \n",
       "\n",
       "                                                      2  \n",
       "0     This model may be ok for sedentary types, but ...  \n",
       "1     This is a fast read filled with unexpected hum...  \n",
       "2     I bought one of these chargers..the instructio...  \n",
       "3     I was excited to find a book ostensibly about ...  \n",
       "4     I am a big JVC fan, but I do not like this mod...  \n",
       "...                                                 ...  \n",
       "2995  I was so disappointed in this book. Having rea...  \n",
       "2996  The author does a great job of taking the read...  \n",
       "2997  The subtitle should be, \"Inside the Port-o-Joh...  \n",
       "2998  I praise Ostebee and Zorn for making an attemp...  \n",
       "2999  This is not a literary review of Philip Roth's...  \n",
       "\n",
       "[3000 rows x 3 columns]"
      ]
     },
     "execution_count": 16,
     "metadata": {},
     "output_type": "execute_result"
    }
   ],
   "source": [
    "df = pd.read_csv(\"test.csv\", nrows=3000, header=None)\n",
    "df"
   ]
  },
  {
   "cell_type": "code",
   "execution_count": 17,
   "id": "australian-lesson",
   "metadata": {
    "ExecuteTime": {
     "end_time": "2021-09-18T17:53:46.557125Z",
     "start_time": "2021-09-18T17:53:46.553851Z"
    }
   },
   "outputs": [],
   "source": [
    "df.rename({0:\"star\", 1:\"rating1\", 2:\"rating2\"}, axis=1, inplace=True)"
   ]
  },
  {
   "cell_type": "markdown",
   "id": "awful-transportation",
   "metadata": {},
   "source": [
    "Since we are going to predict the number of stars a certain product has got based on the semantics of the text, we could merge the title of the review together with the body of the review, just by concatenating them:"
   ]
  },
  {
   "cell_type": "code",
   "execution_count": 18,
   "id": "statutory-dragon",
   "metadata": {
    "ExecuteTime": {
     "end_time": "2021-09-18T17:53:46.728977Z",
     "start_time": "2021-09-18T17:53:46.709086Z"
    }
   },
   "outputs": [],
   "source": [
    "df[\"review\"] = df[\"rating1\"] + \" \" +  df[\"rating2\"]"
   ]
  },
  {
   "cell_type": "code",
   "execution_count": 19,
   "id": "instant-trick",
   "metadata": {
    "ExecuteTime": {
     "end_time": "2021-09-18T17:53:47.132307Z",
     "start_time": "2021-09-18T17:53:47.105675Z"
    }
   },
   "outputs": [
    {
     "data": {
      "text/html": [
       "<div>\n",
       "<style scoped>\n",
       "    .dataframe tbody tr th:only-of-type {\n",
       "        vertical-align: middle;\n",
       "    }\n",
       "\n",
       "    .dataframe tbody tr th {\n",
       "        vertical-align: top;\n",
       "    }\n",
       "\n",
       "    .dataframe thead th {\n",
       "        text-align: right;\n",
       "    }\n",
       "</style>\n",
       "<table border=\"1\" class=\"dataframe\">\n",
       "  <thead>\n",
       "    <tr style=\"text-align: right;\">\n",
       "      <th></th>\n",
       "      <th>star</th>\n",
       "      <th>rating1</th>\n",
       "      <th>rating2</th>\n",
       "      <th>review</th>\n",
       "    </tr>\n",
       "  </thead>\n",
       "  <tbody>\n",
       "    <tr>\n",
       "      <th>0</th>\n",
       "      <td>1</td>\n",
       "      <td>mens ultrasheer</td>\n",
       "      <td>This model may be ok for sedentary types, but ...</td>\n",
       "      <td>mens ultrasheer This model may be ok for seden...</td>\n",
       "    </tr>\n",
       "    <tr>\n",
       "      <th>1</th>\n",
       "      <td>4</td>\n",
       "      <td>Surprisingly delightful</td>\n",
       "      <td>This is a fast read filled with unexpected hum...</td>\n",
       "      <td>Surprisingly delightful This is a fast read fi...</td>\n",
       "    </tr>\n",
       "    <tr>\n",
       "      <th>2</th>\n",
       "      <td>2</td>\n",
       "      <td>Works, but not as advertised</td>\n",
       "      <td>I bought one of these chargers..the instructio...</td>\n",
       "      <td>Works, but not as advertised I bought one of t...</td>\n",
       "    </tr>\n",
       "    <tr>\n",
       "      <th>3</th>\n",
       "      <td>2</td>\n",
       "      <td>Oh dear</td>\n",
       "      <td>I was excited to find a book ostensibly about ...</td>\n",
       "      <td>Oh dear I was excited to find a book ostensibl...</td>\n",
       "    </tr>\n",
       "    <tr>\n",
       "      <th>4</th>\n",
       "      <td>2</td>\n",
       "      <td>Incorrect disc!</td>\n",
       "      <td>I am a big JVC fan, but I do not like this mod...</td>\n",
       "      <td>Incorrect disc! I am a big JVC fan, but I do n...</td>\n",
       "    </tr>\n",
       "    <tr>\n",
       "      <th>...</th>\n",
       "      <td>...</td>\n",
       "      <td>...</td>\n",
       "      <td>...</td>\n",
       "      <td>...</td>\n",
       "    </tr>\n",
       "    <tr>\n",
       "      <th>2995</th>\n",
       "      <td>2</td>\n",
       "      <td>A MAJOR ( PUN INTENDED) DISAPPOINTMENT</td>\n",
       "      <td>I was so disappointed in this book. Having rea...</td>\n",
       "      <td>A MAJOR ( PUN INTENDED) DISAPPOINTMENT I was s...</td>\n",
       "    </tr>\n",
       "    <tr>\n",
       "      <th>2996</th>\n",
       "      <td>4</td>\n",
       "      <td>Good Inside look at the U.S. Open</td>\n",
       "      <td>The author does a great job of taking the read...</td>\n",
       "      <td>Good Inside look at the U.S. Open The author d...</td>\n",
       "    </tr>\n",
       "    <tr>\n",
       "      <th>2997</th>\n",
       "      <td>1</td>\n",
       "      <td>A Good Open Spoiled</td>\n",
       "      <td>The subtitle should be, \"Inside the Port-o-Joh...</td>\n",
       "      <td>A Good Open Spoiled The subtitle should be, \"I...</td>\n",
       "    </tr>\n",
       "    <tr>\n",
       "      <th>2998</th>\n",
       "      <td>2</td>\n",
       "      <td>Good ideas, but horrible context</td>\n",
       "      <td>I praise Ostebee and Zorn for making an attemp...</td>\n",
       "      <td>Good ideas, but horrible context I praise Oste...</td>\n",
       "    </tr>\n",
       "    <tr>\n",
       "      <th>2999</th>\n",
       "      <td>3</td>\n",
       "      <td>High Volume of Typos</td>\n",
       "      <td>This is not a literary review of Philip Roth's...</td>\n",
       "      <td>High Volume of Typos This is not a literary re...</td>\n",
       "    </tr>\n",
       "  </tbody>\n",
       "</table>\n",
       "<p>3000 rows × 4 columns</p>\n",
       "</div>"
      ],
      "text/plain": [
       "      star                                 rating1  \\\n",
       "0        1                         mens ultrasheer   \n",
       "1        4                 Surprisingly delightful   \n",
       "2        2            Works, but not as advertised   \n",
       "3        2                                 Oh dear   \n",
       "4        2                         Incorrect disc!   \n",
       "...    ...                                     ...   \n",
       "2995     2  A MAJOR ( PUN INTENDED) DISAPPOINTMENT   \n",
       "2996     4       Good Inside look at the U.S. Open   \n",
       "2997     1                     A Good Open Spoiled   \n",
       "2998     2        Good ideas, but horrible context   \n",
       "2999     3                    High Volume of Typos   \n",
       "\n",
       "                                                rating2  \\\n",
       "0     This model may be ok for sedentary types, but ...   \n",
       "1     This is a fast read filled with unexpected hum...   \n",
       "2     I bought one of these chargers..the instructio...   \n",
       "3     I was excited to find a book ostensibly about ...   \n",
       "4     I am a big JVC fan, but I do not like this mod...   \n",
       "...                                                 ...   \n",
       "2995  I was so disappointed in this book. Having rea...   \n",
       "2996  The author does a great job of taking the read...   \n",
       "2997  The subtitle should be, \"Inside the Port-o-Joh...   \n",
       "2998  I praise Ostebee and Zorn for making an attemp...   \n",
       "2999  This is not a literary review of Philip Roth's...   \n",
       "\n",
       "                                                 review  \n",
       "0     mens ultrasheer This model may be ok for seden...  \n",
       "1     Surprisingly delightful This is a fast read fi...  \n",
       "2     Works, but not as advertised I bought one of t...  \n",
       "3     Oh dear I was excited to find a book ostensibl...  \n",
       "4     Incorrect disc! I am a big JVC fan, but I do n...  \n",
       "...                                                 ...  \n",
       "2995  A MAJOR ( PUN INTENDED) DISAPPOINTMENT I was s...  \n",
       "2996  Good Inside look at the U.S. Open The author d...  \n",
       "2997  A Good Open Spoiled The subtitle should be, \"I...  \n",
       "2998  Good ideas, but horrible context I praise Oste...  \n",
       "2999  High Volume of Typos This is not a literary re...  \n",
       "\n",
       "[3000 rows x 4 columns]"
      ]
     },
     "execution_count": 19,
     "metadata": {},
     "output_type": "execute_result"
    }
   ],
   "source": [
    "df"
   ]
  },
  {
   "cell_type": "markdown",
   "id": "auburn-instrumentation",
   "metadata": {},
   "source": [
    "and then of course we can drop the other two columns:"
   ]
  },
  {
   "cell_type": "code",
   "execution_count": 20,
   "id": "loose-coordination",
   "metadata": {
    "ExecuteTime": {
     "end_time": "2021-09-18T17:53:47.699843Z",
     "start_time": "2021-09-18T17:53:47.685235Z"
    }
   },
   "outputs": [],
   "source": [
    "df.drop(columns=[\"rating1\", \"rating2\"], inplace=True)"
   ]
  },
  {
   "cell_type": "code",
   "execution_count": 21,
   "id": "significant-twelve",
   "metadata": {
    "ExecuteTime": {
     "end_time": "2021-09-18T17:53:48.152047Z",
     "start_time": "2021-09-18T17:53:48.131870Z"
    }
   },
   "outputs": [
    {
     "data": {
      "text/html": [
       "<div>\n",
       "<style scoped>\n",
       "    .dataframe tbody tr th:only-of-type {\n",
       "        vertical-align: middle;\n",
       "    }\n",
       "\n",
       "    .dataframe tbody tr th {\n",
       "        vertical-align: top;\n",
       "    }\n",
       "\n",
       "    .dataframe thead th {\n",
       "        text-align: right;\n",
       "    }\n",
       "</style>\n",
       "<table border=\"1\" class=\"dataframe\">\n",
       "  <thead>\n",
       "    <tr style=\"text-align: right;\">\n",
       "      <th></th>\n",
       "      <th>star</th>\n",
       "      <th>review</th>\n",
       "    </tr>\n",
       "  </thead>\n",
       "  <tbody>\n",
       "    <tr>\n",
       "      <th>0</th>\n",
       "      <td>1</td>\n",
       "      <td>mens ultrasheer This model may be ok for seden...</td>\n",
       "    </tr>\n",
       "    <tr>\n",
       "      <th>1</th>\n",
       "      <td>4</td>\n",
       "      <td>Surprisingly delightful This is a fast read fi...</td>\n",
       "    </tr>\n",
       "    <tr>\n",
       "      <th>2</th>\n",
       "      <td>2</td>\n",
       "      <td>Works, but not as advertised I bought one of t...</td>\n",
       "    </tr>\n",
       "    <tr>\n",
       "      <th>3</th>\n",
       "      <td>2</td>\n",
       "      <td>Oh dear I was excited to find a book ostensibl...</td>\n",
       "    </tr>\n",
       "    <tr>\n",
       "      <th>4</th>\n",
       "      <td>2</td>\n",
       "      <td>Incorrect disc! I am a big JVC fan, but I do n...</td>\n",
       "    </tr>\n",
       "    <tr>\n",
       "      <th>...</th>\n",
       "      <td>...</td>\n",
       "      <td>...</td>\n",
       "    </tr>\n",
       "    <tr>\n",
       "      <th>2995</th>\n",
       "      <td>2</td>\n",
       "      <td>A MAJOR ( PUN INTENDED) DISAPPOINTMENT I was s...</td>\n",
       "    </tr>\n",
       "    <tr>\n",
       "      <th>2996</th>\n",
       "      <td>4</td>\n",
       "      <td>Good Inside look at the U.S. Open The author d...</td>\n",
       "    </tr>\n",
       "    <tr>\n",
       "      <th>2997</th>\n",
       "      <td>1</td>\n",
       "      <td>A Good Open Spoiled The subtitle should be, \"I...</td>\n",
       "    </tr>\n",
       "    <tr>\n",
       "      <th>2998</th>\n",
       "      <td>2</td>\n",
       "      <td>Good ideas, but horrible context I praise Oste...</td>\n",
       "    </tr>\n",
       "    <tr>\n",
       "      <th>2999</th>\n",
       "      <td>3</td>\n",
       "      <td>High Volume of Typos This is not a literary re...</td>\n",
       "    </tr>\n",
       "  </tbody>\n",
       "</table>\n",
       "<p>3000 rows × 2 columns</p>\n",
       "</div>"
      ],
      "text/plain": [
       "      star                                             review\n",
       "0        1  mens ultrasheer This model may be ok for seden...\n",
       "1        4  Surprisingly delightful This is a fast read fi...\n",
       "2        2  Works, but not as advertised I bought one of t...\n",
       "3        2  Oh dear I was excited to find a book ostensibl...\n",
       "4        2  Incorrect disc! I am a big JVC fan, but I do n...\n",
       "...    ...                                                ...\n",
       "2995     2  A MAJOR ( PUN INTENDED) DISAPPOINTMENT I was s...\n",
       "2996     4  Good Inside look at the U.S. Open The author d...\n",
       "2997     1  A Good Open Spoiled The subtitle should be, \"I...\n",
       "2998     2  Good ideas, but horrible context I praise Oste...\n",
       "2999     3  High Volume of Typos This is not a literary re...\n",
       "\n",
       "[3000 rows x 2 columns]"
      ]
     },
     "execution_count": 21,
     "metadata": {},
     "output_type": "execute_result"
    }
   ],
   "source": [
    "df"
   ]
  },
  {
   "cell_type": "markdown",
   "id": "pretty-olive",
   "metadata": {},
   "source": [
    "👏"
   ]
  },
  {
   "cell_type": "markdown",
   "id": "driving-progressive",
   "metadata": {},
   "source": [
    "The `star`column is what we want to predict, given the text of the review. I think we are all Amazon users, and we are all aware of how many stars a rating can have, but let's just double check:"
   ]
  },
  {
   "cell_type": "code",
   "execution_count": 22,
   "id": "dated-password",
   "metadata": {
    "ExecuteTime": {
     "end_time": "2021-09-18T17:53:49.138878Z",
     "start_time": "2021-09-18T17:53:49.129540Z"
    },
    "scrolled": false
   },
   "outputs": [
    {
     "data": {
      "text/plain": [
       "array([1, 4, 2, 3, 5])"
      ]
     },
     "execution_count": 22,
     "metadata": {},
     "output_type": "execute_result"
    }
   ],
   "source": [
    "df.star.unique()"
   ]
  },
  {
   "cell_type": "code",
   "execution_count": 120,
   "id": "50d1179d",
   "metadata": {
    "ExecuteTime": {
     "end_time": "2021-09-18T20:18:52.976714Z",
     "start_time": "2021-09-18T20:18:52.951201Z"
    }
   },
   "outputs": [],
   "source": [
    "df.star = df.star.apply(lambda x: int(x) -1)"
   ]
  },
  {
   "cell_type": "markdown",
   "id": "considered-labor",
   "metadata": {},
   "source": [
    "Ok, now that our data are in order, we need to preprocess them. We can take advantage of spacy for basically of the steps:"
   ]
  },
  {
   "cell_type": "code",
   "execution_count": 121,
   "id": "affiliated-concrete",
   "metadata": {
    "ExecuteTime": {
     "end_time": "2021-09-18T20:18:55.628687Z",
     "start_time": "2021-09-18T20:18:54.542813Z"
    }
   },
   "outputs": [],
   "source": [
    "nlp = spacy.load(\"en_core_web_sm\")"
   ]
  },
  {
   "cell_type": "markdown",
   "id": "opening-portal",
   "metadata": {},
   "source": [
    "Let's create a function that, given a sentence, it preprocess it by doing:\n",
    "- tokenization\n",
    "- removing stopwords\n",
    "- remove special characters/punctuation\n",
    "- make everything lower case\n",
    "- lemmatize it\n",
    "\n",
    "With spacy, we can do it in a very compact form:"
   ]
  },
  {
   "cell_type": "code",
   "execution_count": 122,
   "id": "independent-error",
   "metadata": {
    "ExecuteTime": {
     "end_time": "2021-09-18T20:18:55.667517Z",
     "start_time": "2021-09-18T20:18:55.661881Z"
    }
   },
   "outputs": [],
   "source": [
    "def preprocessing(sentence):\n",
    "    \"\"\"\n",
    "    params sentence: a str containing the sentence we want to preprocess\n",
    "    return the tokens list\n",
    "    \"\"\"\n",
    "    doc = nlp(sentence)\n",
    "    tokens = [token.lemma_ for token in doc if not token.is_punct and not token.is_stop]\n",
    "    return tokens\n",
    "    "
   ]
  },
  {
   "cell_type": "code",
   "execution_count": 123,
   "id": "interior-designation",
   "metadata": {
    "ExecuteTime": {
     "end_time": "2021-09-18T20:18:55.729419Z",
     "start_time": "2021-09-18T20:18:55.716703Z"
    }
   },
   "outputs": [
    {
     "data": {
      "text/plain": [
       "['example', 'hello']"
      ]
     },
     "execution_count": 123,
     "metadata": {},
     "output_type": "execute_result"
    }
   ],
   "source": [
    "preprocessing(\"This is an example! Hello\")"
   ]
  },
  {
   "cell_type": "markdown",
   "id": "raising-positive",
   "metadata": {},
   "source": [
    "The preprocessing phase has not finished yet. In fact, we want to create a neural network, and a neural network works with numbers. In general, computers work with numbers...\n",
    "\n",
    "So we need to use embeddings to transform a sentence into a tensor: the embeddings are usually one-dimensional, and in the following example they will have size 300, that means that if you have a sentence of 10 words (after have it preprocessed), the shape of the sentence will be $10\\times 300$. You will notice another dimension, that is the batch size. So you will train and run a model that receive as input a tensor of shape:\n",
    "\n",
    "`batch_size*length_of_the_sentence*embedding_size`.\n",
    "\n",
    "Let's do things in order:"
   ]
  },
  {
   "cell_type": "code",
   "execution_count": 124,
   "id": "registered-incidence",
   "metadata": {
    "ExecuteTime": {
     "end_time": "2021-09-18T20:18:55.785176Z",
     "start_time": "2021-09-18T20:18:55.782315Z"
    }
   },
   "outputs": [],
   "source": [
    "import torch\n",
    "from collections import Counter\n",
    "from torch.utils.data import DataLoader, Dataset\n",
    "from tqdm import tqdm, tqdm_notebook"
   ]
  },
  {
   "cell_type": "markdown",
   "id": "ahead-mistress",
   "metadata": {},
   "source": [
    "If you are using the whole dataset, you should not need to split the dataset into train and test 'cause it should be already. If not, and if you are using any other dataset, remember to split into train and test (eventually validation)."
   ]
  },
  {
   "cell_type": "code",
   "execution_count": 125,
   "id": "mental-intellectual",
   "metadata": {
    "ExecuteTime": {
     "end_time": "2021-09-18T20:18:55.833447Z",
     "start_time": "2021-09-18T20:18:55.828371Z"
    }
   },
   "outputs": [],
   "source": [
    "train_df, test_df = df.iloc[:2000], df.iloc[2000:]"
   ]
  },
  {
   "cell_type": "markdown",
   "id": "261dbe23",
   "metadata": {},
   "source": [
    "To get the vectors for each token, we are going to use some pretrained embeddings. Specifically, we are going to use the FastText embeddings that you can find at this link https://pytorch.org/text/stable/vocab.html#fasttext .\n",
    "\n",
    "We need to download and load them by doing:"
   ]
  },
  {
   "cell_type": "code",
   "execution_count": 126,
   "id": "d8ef0cc3",
   "metadata": {
    "ExecuteTime": {
     "end_time": "2021-09-18T20:18:55.875894Z",
     "start_time": "2021-09-18T20:18:55.872210Z"
    }
   },
   "outputs": [],
   "source": [
    "from torchtext.vocab import FastText"
   ]
  },
  {
   "cell_type": "code",
   "execution_count": 127,
   "id": "298a490c",
   "metadata": {
    "ExecuteTime": {
     "end_time": "2021-09-18T20:18:56.351118Z",
     "start_time": "2021-09-18T20:18:55.911030Z"
    }
   },
   "outputs": [],
   "source": [
    "fasttext = FastText(\"simple\")"
   ]
  },
  {
   "cell_type": "markdown",
   "id": "d019b59d",
   "metadata": {
    "ExecuteTime": {
     "end_time": "2021-09-18T17:25:25.972108Z",
     "start_time": "2021-09-18T17:25:25.946631Z"
    }
   },
   "source": [
    "You can run `help(fasttext)` and/or `dir(fasttext)` to get more info about the methods and the attributes this object contains."
   ]
  },
  {
   "cell_type": "code",
   "execution_count": 128,
   "id": "46953124",
   "metadata": {
    "ExecuteTime": {
     "end_time": "2021-09-18T20:18:56.378841Z",
     "start_time": "2021-09-18T20:18:56.376087Z"
    }
   },
   "outputs": [
    {
     "data": {
      "text/plain": [
       "['__class__',\n",
       " '__delattr__',\n",
       " '__dict__',\n",
       " '__dir__',\n",
       " '__doc__',\n",
       " '__eq__',\n",
       " '__format__',\n",
       " '__ge__',\n",
       " '__getattribute__',\n",
       " '__getitem__',\n",
       " '__gt__',\n",
       " '__hash__',\n",
       " '__init__',\n",
       " '__init_subclass__',\n",
       " '__le__',\n",
       " '__len__',\n",
       " '__lt__',\n",
       " '__module__',\n",
       " '__ne__',\n",
       " '__new__',\n",
       " '__reduce__',\n",
       " '__reduce_ex__',\n",
       " '__repr__',\n",
       " '__setattr__',\n",
       " '__sizeof__',\n",
       " '__str__',\n",
       " '__subclasshook__',\n",
       " '__weakref__',\n",
       " 'cache',\n",
       " 'dim',\n",
       " 'get_vecs_by_tokens',\n",
       " 'itos',\n",
       " 'stoi',\n",
       " 'unk_init',\n",
       " 'url_base',\n",
       " 'vectors']"
      ]
     },
     "execution_count": 128,
     "metadata": {},
     "output_type": "execute_result"
    }
   ],
   "source": [
    "dir(fasttext)"
   ]
  },
  {
   "cell_type": "markdown",
   "id": "cad47393",
   "metadata": {
    "ExecuteTime": {
     "end_time": "2021-09-18T17:26:50.033163Z",
     "start_time": "2021-09-18T17:26:50.028722Z"
    }
   },
   "source": [
    "I want to highlight a couple of things:\n",
    "\n",
    "- `dim` is the dimensions of the vectors (in our case it is 300)\n",
    "- `itos` stands for *index to string* and it maps an integer to the corresponding string. The reason for having such a method is that it's much lighter to store integers and use them to index the vectors instead of having a string per word (In addition to that, heuristics can be used so that the most frequent words get lower value for the index, resulting in a better memory management. I know, it sounds like minor things, but the model is going to make billions of operations!)\n",
    "- `stoi` is the opposite: it's a dictionary that given the string returns the index\n",
    "\n"
   ]
  },
  {
   "cell_type": "markdown",
   "id": "cfda4a6a",
   "metadata": {},
   "source": [
    "Above you can see the embeddings associated with the word \"hello\". Let's inspect the shape:"
   ]
  },
  {
   "cell_type": "code",
   "execution_count": 129,
   "id": "b35e84aa",
   "metadata": {
    "ExecuteTime": {
     "end_time": "2021-09-18T20:18:56.412987Z",
     "start_time": "2021-09-18T20:18:56.409755Z"
    }
   },
   "outputs": [
    {
     "data": {
      "text/plain": [
       "torch.Size([300])"
      ]
     },
     "execution_count": 129,
     "metadata": {},
     "output_type": "execute_result"
    }
   ],
   "source": [
    "fasttext[\"hello\"].shape"
   ]
  },
  {
   "cell_type": "markdown",
   "id": "c488d90e",
   "metadata": {},
   "source": [
    "300, as anticipated. \n",
    "\n",
    "Let's inspect what's the index associated with \"hello\":"
   ]
  },
  {
   "cell_type": "code",
   "execution_count": 130,
   "id": "eeebe8e6",
   "metadata": {
    "ExecuteTime": {
     "end_time": "2021-09-18T20:18:56.417035Z",
     "start_time": "2021-09-18T20:18:56.414691Z"
    }
   },
   "outputs": [
    {
     "data": {
      "text/plain": [
       "2610"
      ]
     },
     "execution_count": 130,
     "metadata": {},
     "output_type": "execute_result"
    }
   ],
   "source": [
    "fasttext.stoi[\"hello\"]"
   ]
  },
  {
   "cell_type": "markdown",
   "id": "98a40838",
   "metadata": {},
   "source": [
    "and viceversa:"
   ]
  },
  {
   "cell_type": "code",
   "execution_count": 131,
   "id": "c5dfd40e",
   "metadata": {
    "ExecuteTime": {
     "end_time": "2021-09-18T20:18:56.461735Z",
     "start_time": "2021-09-18T20:18:56.443512Z"
    }
   },
   "outputs": [
    {
     "data": {
      "text/plain": [
       "{'</s>': 0,\n",
       " '.': 1,\n",
       " ',': 2,\n",
       " 'the': 3,\n",
       " 'of': 4,\n",
       " \"'\": 5,\n",
       " 'in': 6,\n",
       " '-': 7,\n",
       " 'and': 8,\n",
       " ')': 9,\n",
       " '(': 10,\n",
       " 'a': 11,\n",
       " 'to': 12,\n",
       " 'is': 13,\n",
       " 'was': 14,\n",
       " 'it': 15,\n",
       " 'for': 16,\n",
       " 'on': 17,\n",
       " 's': 18,\n",
       " 'as': 19,\n",
       " 'that': 20,\n",
       " 'from': 21,\n",
       " 'by': 22,\n",
       " 'he': 23,\n",
       " 'are': 24,\n",
       " 'with': 25,\n",
       " 'this': 26,\n",
       " '–': 27,\n",
       " 'be': 28,\n",
       " 'an': 29,\n",
       " 'at': 30,\n",
       " 'or': 31,\n",
       " 'i': 32,\n",
       " 'not': 33,\n",
       " 'people': 34,\n",
       " '}': 35,\n",
       " 'other': 36,\n",
       " 'they': 37,\n",
       " 'his': 38,\n",
       " 'american': 39,\n",
       " 'have': 40,\n",
       " 'has': 41,\n",
       " 'utc': 42,\n",
       " 'also': 43,\n",
       " 'one': 44,\n",
       " 'were': 45,\n",
       " 'which': 46,\n",
       " 'but': 47,\n",
       " 'can': 48,\n",
       " 'talk': 49,\n",
       " 'there': 50,\n",
       " 'first': 51,\n",
       " '#': 52,\n",
       " 'new': 53,\n",
       " 'united': 54,\n",
       " 'about': 55,\n",
       " 'you': 56,\n",
       " 'their': 57,\n",
       " 'may': 58,\n",
       " 'all': 59,\n",
       " 'she': 60,\n",
       " 'd': 61,\n",
       " 'when': 62,\n",
       " 'after': 63,\n",
       " 'had': 64,\n",
       " 'states': 65,\n",
       " 'who': 66,\n",
       " 'made': 67,\n",
       " 'more': 68,\n",
       " 'if': 69,\n",
       " 'born': 70,\n",
       " 'used': 71,\n",
       " 'many': 72,\n",
       " 'city': 73,\n",
       " 'some': 74,\n",
       " 'time': 75,\n",
       " 'websites': 76,\n",
       " 'two': 77,\n",
       " 't': 78,\n",
       " 'its': 79,\n",
       " 'most': 80,\n",
       " 'called': 81,\n",
       " 'b': 82,\n",
       " 'english': 83,\n",
       " 'world': 84,\n",
       " 'been': 85,\n",
       " 'no': 86,\n",
       " '}}': 87,\n",
       " 'her': 88,\n",
       " 'do': 89,\n",
       " 'like': 90,\n",
       " 'only': 91,\n",
       " 'years': 92,\n",
       " 'th': 93,\n",
       " 'known': 94,\n",
       " 'up': 95,\n",
       " 'would': 96,\n",
       " 'into': 97,\n",
       " 'will': 98,\n",
       " 'because': 99,\n",
       " 'so': 100,\n",
       " 'than': 101,\n",
       " 'page': 102,\n",
       " 'name': 103,\n",
       " 'movie': 104,\n",
       " 'national': 105,\n",
       " 'de': 106,\n",
       " '/': 107,\n",
       " 'these': 108,\n",
       " 'very': 109,\n",
       " 'such': 110,\n",
       " 'should': 111,\n",
       " '?': 112,\n",
       " 'them': 113,\n",
       " 'we': 114,\n",
       " 'then': 115,\n",
       " 'team': 116,\n",
       " 'living': 117,\n",
       " 'river': 118,\n",
       " 'part': 119,\n",
       " 'state': 120,\n",
       " '!': 121,\n",
       " 'rowspan': 122,\n",
       " 'music': 123,\n",
       " 'war': 124,\n",
       " 'use': 125,\n",
       " 'year': 126,\n",
       " 'south': 127,\n",
       " 'during': 128,\n",
       " 'over': 129,\n",
       " 'article': 130,\n",
       " 'league': 131,\n",
       " 'january': 132,\n",
       " 'north': 133,\n",
       " 'television': 134,\n",
       " 'british': 135,\n",
       " 'football': 136,\n",
       " 'out': 137,\n",
       " 'actors': 138,\n",
       " 'france': 139,\n",
       " 'university': 140,\n",
       " 'where': 141,\n",
       " 'march': 142,\n",
       " 'what': 143,\n",
       " 'july': 144,\n",
       " 'rd': 145,\n",
       " 'august': 146,\n",
       " 'county': 147,\n",
       " 'make': 148,\n",
       " 'became': 149,\n",
       " 'june': 150,\n",
       " 'between': 151,\n",
       " 'found': 152,\n",
       " 'movies': 153,\n",
       " 'pages': 154,\n",
       " 'discussion': 155,\n",
       " 'm': 156,\n",
       " 'october': 157,\n",
       " 'series': 158,\n",
       " 'december': 159,\n",
       " 'april': 160,\n",
       " 'player': 161,\n",
       " 'september': 162,\n",
       " 'different': 163,\n",
       " 'died': 164,\n",
       " 'style': 165,\n",
       " 'three': 166,\n",
       " 'york': 167,\n",
       " 'group': 168,\n",
       " 'february': 169,\n",
       " 'him': 170,\n",
       " 'november': 171,\n",
       " 'any': 172,\n",
       " 'best': 173,\n",
       " 'just': 174,\n",
       " 'before': 175,\n",
       " 'work': 176,\n",
       " 'now': 177,\n",
       " 'well': 178,\n",
       " 'list': 179,\n",
       " 'see': 180,\n",
       " 'same': 181,\n",
       " 'french': 182,\n",
       " 'john': 183,\n",
       " 'second': 184,\n",
       " 'later': 185,\n",
       " 'history': 186,\n",
       " 'life': 187,\n",
       " 'number': 188,\n",
       " 'being': 189,\n",
       " 'since': 190,\n",
       " 'german': 191,\n",
       " 'related': 192,\n",
       " 'country': 193,\n",
       " 'could': 194,\n",
       " 'u': 195,\n",
       " 'e': 196,\n",
       " 'good': 197,\n",
       " 'birth_place': 198,\n",
       " 'area': 199,\n",
       " 'day': 200,\n",
       " 'often': 201,\n",
       " 'president': 202,\n",
       " 'played': 203,\n",
       " 'c': 204,\n",
       " 'actor': 205,\n",
       " 'king': 206,\n",
       " 'website': 207,\n",
       " 'album': 208,\n",
       " 'language': 209,\n",
       " 'official': 210,\n",
       " 'long': 211,\n",
       " 'wikipedia': 212,\n",
       " 'here': 213,\n",
       " 'did': 214,\n",
       " 'colspan': 215,\n",
       " 'get': 216,\n",
       " 'england': 217,\n",
       " 'century': 218,\n",
       " 'region': 219,\n",
       " 'way': 220,\n",
       " 'how': 221,\n",
       " '%': 222,\n",
       " 'each': 223,\n",
       " 'party': 224,\n",
       " 'west': 225,\n",
       " 'until': 226,\n",
       " 'game': 227,\n",
       " 'my': 228,\n",
       " 'think': 229,\n",
       " 'japan': 230,\n",
       " 'score': 231,\n",
       " 'articles': 232,\n",
       " 'center': 233,\n",
       " 'both': 234,\n",
       " 'released': 235,\n",
       " 'person': 236,\n",
       " 'through': 237,\n",
       " 'family': 238,\n",
       " 'example': 239,\n",
       " 'while': 240,\n",
       " 'left': 241,\n",
       " 'usually': 242,\n",
       " 'however': 243,\n",
       " 'st': 244,\n",
       " 'show': 245,\n",
       " 'won': 246,\n",
       " 'games': 247,\n",
       " 'don': 248,\n",
       " 'main': 249,\n",
       " 'much': 250,\n",
       " 'around': 251,\n",
       " 'international': 252,\n",
       " 'place': 253,\n",
       " 'ii': 254,\n",
       " 'delete': 255,\n",
       " 'templates': 256,\n",
       " 'school': 257,\n",
       " '}}}': 258,\n",
       " 'please': 259,\n",
       " 'california': 260,\n",
       " 'small': 261,\n",
       " 'japanese': 262,\n",
       " 'london': 263,\n",
       " 'singer': 264,\n",
       " 'under': 265,\n",
       " 'f': 266,\n",
       " 'said': 267,\n",
       " 'another': 268,\n",
       " 'former': 269,\n",
       " 'government': 270,\n",
       " 'old': 271,\n",
       " 'children': 272,\n",
       " 'last': 273,\n",
       " 'career': 274,\n",
       " 'east': 275,\n",
       " 'system': 276,\n",
       " 'data': 277,\n",
       " 'jpg': 278,\n",
       " 'cities': 279,\n",
       " 'action': 280,\n",
       " 'back': 281,\n",
       " 'j': 282,\n",
       " 'town': 283,\n",
       " 'started': 284,\n",
       " 'keep': 285,\n",
       " 'does': 286,\n",
       " 'department': 287,\n",
       " 'early': 288,\n",
       " 'named': 289,\n",
       " 'us': 290,\n",
       " 'actress': 291,\n",
       " 'even': 292,\n",
       " 'change': 293,\n",
       " 'several': 294,\n",
       " 'right': 295,\n",
       " 'align': 296,\n",
       " 'great': 297,\n",
       " 'award': 298,\n",
       " 'club': 299,\n",
       " 'against': 300,\n",
       " 'water': 301,\n",
       " 'still': 302,\n",
       " 'your': 303,\n",
       " 'four': 304,\n",
       " 'song': 305,\n",
       " 'important': 306,\n",
       " 'top': 307,\n",
       " 'la': 308,\n",
       " 'general': 309,\n",
       " '+': 310,\n",
       " 'high': 311,\n",
       " 'band': 312,\n",
       " 'live': 313,\n",
       " 'text': 314,\n",
       " 'house': 315,\n",
       " 'large': 316,\n",
       " 'germany': 317,\n",
       " 'district': 318,\n",
       " 'based': 319,\n",
       " 'death': 320,\n",
       " 'template': 321,\n",
       " 'things': 322,\n",
       " 'end': 323,\n",
       " 'me': 324,\n",
       " 'players': 325,\n",
       " 'island': 326,\n",
       " 'image': 327,\n",
       " 'including': 328,\n",
       " 'user': 329,\n",
       " 'using': 330,\n",
       " 'kingdom': 331,\n",
       " 'rock': 332,\n",
       " 'book': 333,\n",
       " 'label': 334,\n",
       " 'near': 335,\n",
       " 'red': 336,\n",
       " 'times': 337,\n",
       " 'need': 338,\n",
       " 'province': 339,\n",
       " 'season': 340,\n",
       " 'go': 341,\n",
       " 'means': 342,\n",
       " 'man': 343,\n",
       " 'title': 344,\n",
       " 'help': 345,\n",
       " 'australia': 346,\n",
       " '}}}}': 347,\n",
       " 'position': 348,\n",
       " 'created': 349,\n",
       " 'set': 350,\n",
       " 'simple': 351,\n",
       " 'communes': 352,\n",
       " 'sometimes': 353,\n",
       " 'politician': 354,\n",
       " 'white': 355,\n",
       " 'given': 356,\n",
       " 'deaths': 357,\n",
       " 'clubs': 358,\n",
       " 'changes': 359,\n",
       " 'type': 360,\n",
       " 'capital': 361,\n",
       " 'countries': 362,\n",
       " 'famous': 363,\n",
       " 'hockey': 364,\n",
       " 'following': 365,\n",
       " 'black': 366,\n",
       " 'species': 367,\n",
       " 'italian': 368,\n",
       " '\"': 369,\n",
       " 'church': 370,\n",
       " 'groups': 371,\n",
       " 'written': 372,\n",
       " 'major': 373,\n",
       " 'single': 374,\n",
       " 'days': 375,\n",
       " 'million': 376,\n",
       " 'line': 377,\n",
       " 'file': 378,\n",
       " 'color': 379,\n",
       " 'saint': 380,\n",
       " 'air': 381,\n",
       " 'america': 382,\n",
       " 'home': 383,\n",
       " 'common': 384,\n",
       " 'army': 385,\n",
       " 'current': 386,\n",
       " 'writer': 387,\n",
       " 'republic': 388,\n",
       " 'those': 389,\n",
       " 'company': 390,\n",
       " 'above': 391,\n",
       " 'word': 392,\n",
       " 'border': 393,\n",
       " 'battle': 394,\n",
       " 'video': 395,\n",
       " 'include': 396,\n",
       " 'own': 397,\n",
       " 'population': 398,\n",
       " 'few': 399,\n",
       " 'college': 400,\n",
       " 'information': 401,\n",
       " 'x': 402,\n",
       " 'down': 403,\n",
       " 'order': 404,\n",
       " 'commune': 405,\n",
       " 'off': 406,\n",
       " 'play': 407,\n",
       " 'know': 408,\n",
       " 'member': 409,\n",
       " 'form': 410,\n",
       " 'canadian': 411,\n",
       " 'point': 412,\n",
       " 'statistics': 413,\n",
       " 'per': 414,\n",
       " 'body': 415,\n",
       " 'take': 416,\n",
       " 'began': 417,\n",
       " 'india': 418,\n",
       " 'roman': 419,\n",
       " 'although': 420,\n",
       " 'park': 421,\n",
       " 'again': 422,\n",
       " 'too': 423,\n",
       " 'without': 424,\n",
       " 'age': 425,\n",
       " 'union': 426,\n",
       " 'built': 427,\n",
       " 'n': 428,\n",
       " 'members': 429,\n",
       " 'women': 430,\n",
       " 'big': 431,\n",
       " 'minister': 432,\n",
       " 'europe': 433,\n",
       " 'popular': 434,\n",
       " 'sea': 435,\n",
       " 'central': 436,\n",
       " 'little': 437,\n",
       " 'become': 438,\n",
       " 'municipality': 439,\n",
       " 'g': 440,\n",
       " 'p': 441,\n",
       " '•': 442,\n",
       " 'land': 443,\n",
       " 'william': 444,\n",
       " 'flag': 445,\n",
       " 'power': 446,\n",
       " 'law': 447,\n",
       " 'australian': 448,\n",
       " 'third': 449,\n",
       " 'next': 450,\n",
       " 'married': 451,\n",
       " 'total': 452,\n",
       " 'due': 453,\n",
       " 'support': 454,\n",
       " 'books': 455,\n",
       " 'request': 456,\n",
       " 'spanish': 457,\n",
       " 'james': 458,\n",
       " 'division': 459,\n",
       " 'every': 460,\n",
       " 'largest': 461,\n",
       " 'close': 462,\n",
       " 'western': 463,\n",
       " 'father': 464,\n",
       " 'short': 465,\n",
       " 'together': 466,\n",
       " 'ice': 467,\n",
       " 'men': 468,\n",
       " 'wrote': 469,\n",
       " 'done': 470,\n",
       " 'reason': 471,\n",
       " 'site': 472,\n",
       " 'northern': 473,\n",
       " 'san': 474,\n",
       " 'five': 475,\n",
       " 'military': 476,\n",
       " 'lot': 477,\n",
       " 'son': 478,\n",
       " 'version': 479,\n",
       " 'george': 480,\n",
       " 'local': 481,\n",
       " 'went': 482,\n",
       " 'px': 483,\n",
       " 'v': 484,\n",
       " 'cup': 485,\n",
       " 'canada': 486,\n",
       " 'want': 487,\n",
       " 'making': 488,\n",
       " 'civil': 489,\n",
       " 'championship': 490,\n",
       " 'occupation': 491,\n",
       " 'young': 492,\n",
       " 'lived': 493,\n",
       " 'sports': 494,\n",
       " 'songs': 495,\n",
       " 'put': 496,\n",
       " 'parts': 497,\n",
       " 'records': 498,\n",
       " 'special': 499,\n",
       " 'took': 500,\n",
       " 'something': 501,\n",
       " 'category': 502,\n",
       " 'period': 503,\n",
       " 'works': 504,\n",
       " 'free': 505,\n",
       " 'r': 506,\n",
       " 'term': 507,\n",
       " 'russian': 508,\n",
       " 'say': 509,\n",
       " 'thought': 510,\n",
       " 'came': 511,\n",
       " 'director': 512,\n",
       " 'others': 513,\n",
       " 'comments': 514,\n",
       " 'better': 515,\n",
       " 'star': 516,\n",
       " 'words': 517,\n",
       " 'moved': 518,\n",
       " 'chicago': 519,\n",
       " 'find': 520,\n",
       " 'prime': 521,\n",
       " 'link': 522,\n",
       " 'modern': 523,\n",
       " 'human': 524,\n",
       " 'public': 525,\n",
       " 'light': 526,\n",
       " 'am': 527,\n",
       " 'makes': 528,\n",
       " '—': 529,\n",
       " 'plays': 530,\n",
       " 'china': 531,\n",
       " 'must': 532,\n",
       " 'islands': 533,\n",
       " 'our': 534,\n",
       " 'though': 535,\n",
       " 'today': 536,\n",
       " 'background': 537,\n",
       " 'killed': 538,\n",
       " 'edit': 539,\n",
       " 'got': 540,\n",
       " 'los': 541,\n",
       " 'art': 542,\n",
       " '&': 543,\n",
       " 'seven': 544,\n",
       " 'story': 545,\n",
       " 'royal': 546,\n",
       " 'en': 547,\n",
       " 'love': 548,\n",
       " 'links': 549,\n",
       " 'below': 550,\n",
       " 'professional': 551,\n",
       " 'italy': 552,\n",
       " 'southern': 553,\n",
       " 'political': 554,\n",
       " 'date': 555,\n",
       " 'class': 556,\n",
       " 'awards': 557,\n",
       " 'non': 558,\n",
       " 'community': 559,\n",
       " 'size': 560,\n",
       " 'space': 561,\n",
       " 'l': 562,\n",
       " 'o': 563,\n",
       " 'david': 564,\n",
       " 'similar': 565,\n",
       " 'enough': 566,\n",
       " 'original': 567,\n",
       " 'robert': 568,\n",
       " 'either': 569,\n",
       " 'changed': 570,\n",
       " 'european': 571,\n",
       " 'sweden': 572,\n",
       " 'earth': 573,\n",
       " 'head': 574,\n",
       " 'wiki': 575,\n",
       " 're': 576,\n",
       " 'held': 577,\n",
       " 'side': 578,\n",
       " 'along': 579,\n",
       " 'look': 580,\n",
       " 'spain': 581,\n",
       " 'charles': 582,\n",
       " '$': 583,\n",
       " 'present': 584,\n",
       " 'footballers': 585,\n",
       " 'summer': 586,\n",
       " 'less': 587,\n",
       " 'stage': 588,\n",
       " 'albums': 589,\n",
       " 'science': 590,\n",
       " 'film': 591,\n",
       " 'might': 592,\n",
       " 'come': 593,\n",
       " 'food': 594,\n",
       " 'never': 595,\n",
       " 'washington': 596,\n",
       " 'published': 597,\n",
       " 'empire': 598,\n",
       " 'emperor': 599,\n",
       " 'prefecture': 600,\n",
       " 'notable': 601,\n",
       " 'computer': 602,\n",
       " 'code': 603,\n",
       " 'record': 604,\n",
       " 'force': 605,\n",
       " 'pakistan': 606,\n",
       " 'seen': 607,\n",
       " 'instead': 608,\n",
       " 'cancer': 609,\n",
       " 'building': 610,\n",
       " 'why': 611,\n",
       " 'tropical': 612,\n",
       " 'court': 613,\n",
       " 'paul': 614,\n",
       " 'mother': 615,\n",
       " 'away': 616,\n",
       " 'indian': 617,\n",
       " 'middle': 618,\n",
       " 'governor': 619,\n",
       " 'money': 620,\n",
       " 'someone': 621,\n",
       " 'texas': 622,\n",
       " 'musical': 623,\n",
       " 'case': 624,\n",
       " 'disease': 625,\n",
       " 'retired': 626,\n",
       " 'six': 627,\n",
       " 'god': 628,\n",
       " 'leader': 629,\n",
       " 'project': 630,\n",
       " 'give': 631,\n",
       " 'voice': 632,\n",
       " 'lake': 633,\n",
       " 'h': 634,\n",
       " 'languages': 635,\n",
       " 'appropriate': 636,\n",
       " 'angeles': 637,\n",
       " 'producer': 638,\n",
       " 'al': 639,\n",
       " 'rights': 640,\n",
       " 'florida': 641,\n",
       " 'station': 642,\n",
       " 'fire': 643,\n",
       " 'shows': 644,\n",
       " 'start': 645,\n",
       " 'field': 646,\n",
       " 'com': 647,\n",
       " 'having': 648,\n",
       " 'radio': 649,\n",
       " 'attack': 650,\n",
       " 'writers': 651,\n",
       " 'once': 652,\n",
       " 'users': 653,\n",
       " 'virginia': 654,\n",
       " 'natural': 655,\n",
       " 'association': 656,\n",
       " 'africa': 657,\n",
       " 'service': 658,\n",
       " 'chinese': 659,\n",
       " 'greek': 660,\n",
       " 'bc': 661,\n",
       " 'bad': 662,\n",
       " 'heart': 663,\n",
       " 'composer': 664,\n",
       " 'eastern': 665,\n",
       " 'going': 666,\n",
       " 'worked': 667,\n",
       " 'hall': 668,\n",
       " 'museum': 669,\n",
       " 'level': 670,\n",
       " 'animals': 671,\n",
       " 'really': 672,\n",
       " 'uk': 673,\n",
       " 'open': 674,\n",
       " 'nominated': 675,\n",
       " 'green': 676,\n",
       " 'role': 677,\n",
       " 'founded': 678,\n",
       " 'musicians': 679,\n",
       " 'footballer': 680,\n",
       " 'office': 681,\n",
       " 'death_place': 682,\n",
       " 'preserved': 683,\n",
       " 'character': 684,\n",
       " 'able': 685,\n",
       " 'isbn': 686,\n",
       " 'deletion': 687,\n",
       " 'mean': 688,\n",
       " 'note': 689,\n",
       " 'blue': 690,\n",
       " 'michael': 691,\n",
       " 'ancient': 692,\n",
       " 'run': 693,\n",
       " 'control': 694,\n",
       " 'places': 695,\n",
       " 'musician': 696,\n",
       " 'lost': 697,\n",
       " 'real': 698,\n",
       " 'full': 699,\n",
       " 'politicians': 700,\n",
       " 'within': 701,\n",
       " 'african': 702,\n",
       " 'formed': 703,\n",
       " 'w': 704,\n",
       " 'idea': 705,\n",
       " 'storm': 706,\n",
       " 'areas': 707,\n",
       " 'names': 708,\n",
       " 'round': 709,\n",
       " 'almost': 710,\n",
       " 'least': 711,\n",
       " 'move': 712,\n",
       " 'hurricane': 713,\n",
       " 'currently': 714,\n",
       " 'teams': 715,\n",
       " 'always': 716,\n",
       " 'edits': 717,\n",
       " 'uses': 718,\n",
       " 'added': 719,\n",
       " 'henry': 720,\n",
       " 'soviet': 721,\n",
       " 'mostly': 722,\n",
       " 'comes': 723,\n",
       " 'late': 724,\n",
       " 'problems': 725,\n",
       " 'paris': 726,\n",
       " 'queen': 727,\n",
       " 'energy': 728,\n",
       " 'probably': 729,\n",
       " 'christian': 730,\n",
       " 'solid': 731,\n",
       " 'prize': 732,\n",
       " 'buildings': 733,\n",
       " 'width': 734,\n",
       " 'served': 735,\n",
       " 'wrestling': 736,\n",
       " 'includes': 737,\n",
       " 'led': 738,\n",
       " 'richard': 739,\n",
       " 'road': 740,\n",
       " 'pop': 741,\n",
       " 'towns': 742,\n",
       " 've': 743,\n",
       " 'km': 744,\n",
       " 'becomes': 745,\n",
       " 'section': 746,\n",
       " 'grand': 747,\n",
       " 'types': 748,\n",
       " 'tv': 749,\n",
       " 'night': 750,\n",
       " 'hard': 751,\n",
       " 'half': 752,\n",
       " 'working': 753,\n",
       " 'problem': 754,\n",
       " 'louis': 755,\n",
       " 'closed': 756,\n",
       " 'wanted': 757,\n",
       " 'subsequent': 758,\n",
       " 'mexico': 759,\n",
       " 'metal': 760,\n",
       " 'child': 761,\n",
       " 'author': 762,\n",
       " 'svg': 763,\n",
       " 'lead': 764,\n",
       " 'taken': 765,\n",
       " 'thomas': 766,\n",
       " 'caused': 767,\n",
       " 'location': 768,\n",
       " 'gave': 769,\n",
       " 'possible': 770,\n",
       " 'municipalities': 771,\n",
       " 'playing': 772,\n",
       " 'mind': 773,\n",
       " 'village': 774,\n",
       " 'wife': 775,\n",
       " 'believe': 776,\n",
       " 'forces': 777,\n",
       " 'council': 778,\n",
       " 'artist': 779,\n",
       " 'iii': 780,\n",
       " 'included': 781,\n",
       " 'final': 782,\n",
       " 'characters': 783,\n",
       " 'peter': 784,\n",
       " 'illinois': 785,\n",
       " 'result': 786,\n",
       " 'received': 787,\n",
       " 'comedy': 788,\n",
       " 'prince': 789,\n",
       " 'drama': 790,\n",
       " 'act': 791,\n",
       " 'map': 792,\n",
       " '>': 793,\n",
       " 'already': 794,\n",
       " 'airport': 795,\n",
       " 'blood': 796,\n",
       " 'produced': 797,\n",
       " 'baseball': 798,\n",
       " 'k': 799,\n",
       " 'months': 800,\n",
       " 'russia': 801,\n",
       " 'race': 802,\n",
       " 'far': 803,\n",
       " 'certain': 804,\n",
       " 'ireland': 805,\n",
       " 'create': 806,\n",
       " 'gold': 807,\n",
       " 'social': 808,\n",
       " 'religion': 809,\n",
       " 'match': 810,\n",
       " 'asia': 811,\n",
       " 'value': 812,\n",
       " 'source': 813,\n",
       " 'society': 814,\n",
       " 'academy': 815,\n",
       " 'according': 816,\n",
       " 'bridge': 817,\n",
       " 'active': 818,\n",
       " 'cause': 819,\n",
       " 'stars': 820,\n",
       " 'further': 821,\n",
       " 'cannot': 822,\n",
       " 'kind': 823,\n",
       " 'co': 824,\n",
       " 'plants': 825,\n",
       " 'writing': 826,\n",
       " 'needed': 827,\n",
       " 'coast': 828,\n",
       " 'meaning': 829,\n",
       " 'nationality': 830,\n",
       " 'guitar': 831,\n",
       " 'let': 832,\n",
       " 'election': 833,\n",
       " 'research': 834,\n",
       " 'editor': 835,\n",
       " 'yes': 836,\n",
       " 'stop': 837,\n",
       " 'olympic': 838,\n",
       " 'brother': 839,\n",
       " 'says': 840,\n",
       " 'police': 841,\n",
       " 'stadium': 842,\n",
       " 'dutch': 843,\n",
       " 'movement': 844,\n",
       " 'especially': 845,\n",
       " 'goals': 846,\n",
       " 'add': 847,\n",
       " 'mountain': 848,\n",
       " 'car': 849,\n",
       " 'daughter': 850,\n",
       " 'block': 851,\n",
       " 'month': 852,\n",
       " 'thanks': 853,\n",
       " 'events': 854,\n",
       " 'event': 855,\n",
       " 'medal': 856,\n",
       " 'range': 857,\n",
       " 'brazil': 858,\n",
       " 'strong': 859,\n",
       " 'numbers': 860,\n",
       " 'spouse': 861,\n",
       " 'female': 862,\n",
       " 'swedish': 863,\n",
       " 'blank': 864,\n",
       " 'ever': 865,\n",
       " 'rivers': 866,\n",
       " 'scottish': 867,\n",
       " 'model': 868,\n",
       " 'scotland': 869,\n",
       " 'length': 870,\n",
       " 'needs': 871,\n",
       " 'aged': 872,\n",
       " 'chemical': 873,\n",
       " 'among': 874,\n",
       " 'latin': 875,\n",
       " 'brown': 876,\n",
       " 'process': 877,\n",
       " 'bay': 878,\n",
       " 'shown': 879,\n",
       " 'news': 880,\n",
       " 'board': 881,\n",
       " 'takes': 882,\n",
       " 'considered': 883,\n",
       " 'actually': 884,\n",
       " 'http': 885,\n",
       " 'woman': 886,\n",
       " 'lists': 887,\n",
       " 'study': 888,\n",
       " 'sure': 889,\n",
       " 'true': 890,\n",
       " 'established': 891,\n",
       " 'switzerland': 892,\n",
       " 'business': 893,\n",
       " 'inside': 894,\n",
       " 'try': 895,\n",
       " 'democratic': 896,\n",
       " 'earlier': 897,\n",
       " 'dead': 898,\n",
       " 'independent': 899,\n",
       " 'lower': 900,\n",
       " 'pope': 901,\n",
       " 'network': 902,\n",
       " 'mary': 903,\n",
       " 'personal': 904,\n",
       " 'developed': 905,\n",
       " 'sound': 906,\n",
       " 'education': 907,\n",
       " 'culture': 908,\n",
       " 'catholic': 909,\n",
       " 'himself': 910,\n",
       " 'longer': 911,\n",
       " 'low': 912,\n",
       " 'edward': 913,\n",
       " 'street': 914,\n",
       " 'rather': 915,\n",
       " 'martin': 916,\n",
       " 'return': 917,\n",
       " 'ocean': 918,\n",
       " 'program': 919,\n",
       " 'le': 920,\n",
       " 'wales': 921,\n",
       " 'sent': 922,\n",
       " 'across': 923,\n",
       " 'castle': 924,\n",
       " 'poet': 925,\n",
       " 'basketball': 926,\n",
       " 'irish': 927,\n",
       " 'singers': 928,\n",
       " 'admin': 929,\n",
       " 'thing': 930,\n",
       " 'development': 931,\n",
       " 'soon': 932,\n",
       " 'editors': 933,\n",
       " 'read': 934,\n",
       " 'mark': 935,\n",
       " 'sources': 936,\n",
       " 'various': 937,\n",
       " 'jersey': 938,\n",
       " 'atlantic': 939,\n",
       " 'vote': 940,\n",
       " 'studio': 941,\n",
       " 'opera': 942,\n",
       " 'students': 943,\n",
       " 'view': 944,\n",
       " 'duke': 945,\n",
       " 'points': 946,\n",
       " '//www': 947,\n",
       " 'sold': 948,\n",
       " 'korean': 949,\n",
       " 'hit': 950,\n",
       " 'federal': 951,\n",
       " 'lives': 952,\n",
       " 'winning': 953,\n",
       " 'aircraft': 954,\n",
       " 'release': 955,\n",
       " 'categories': 956,\n",
       " 'seed': 957,\n",
       " 'usa': 958,\n",
       " 'joined': 959,\n",
       " 'carolina': 960,\n",
       " 'songwriter': 961,\n",
       " 'track': 962,\n",
       " 'ground': 963,\n",
       " 'function': 964,\n",
       " 'elected': 965,\n",
       " 'sportspeople': 966,\n",
       " 'outside': 967,\n",
       " 'sun': 968,\n",
       " 'plant': 969,\n",
       " 'past': 970,\n",
       " 'write': 971,\n",
       " 'etc': 972,\n",
       " 'bar': 973,\n",
       " 'goes': 974,\n",
       " 'opened': 975,\n",
       " 'content': 976,\n",
       " 'available': 977,\n",
       " 'allowed': 978,\n",
       " 'theory': 979,\n",
       " 'winter': 980,\n",
       " 'genre': 981,\n",
       " 'average': 982,\n",
       " 'bands': 983,\n",
       " 'press': 984,\n",
       " 'korea': 985,\n",
       " 'front': 986,\n",
       " 'doesn': 987,\n",
       " 'hot': 988,\n",
       " 'y': 989,\n",
       " 'valley': 990,\n",
       " 'recorded': 991,\n",
       " 'standard': 992,\n",
       " 'located': 993,\n",
       " 'table': 994,\n",
       " 'ten': 995,\n",
       " 'nhl': 996,\n",
       " 'austria': 997,\n",
       " 'highest': 998,\n",
       " 'cross': 999,\n",
       " ...}"
      ]
     },
     "execution_count": 131,
     "metadata": {},
     "output_type": "execute_result"
    }
   ],
   "source": [
    "fasttext.stoi"
   ]
  },
  {
   "cell_type": "markdown",
   "id": "b2624b7f",
   "metadata": {},
   "source": [
    "We can create and *encoder* which can transform each word into an integer:"
   ]
  },
  {
   "cell_type": "code",
   "execution_count": 132,
   "id": "ae0adb33",
   "metadata": {
    "ExecuteTime": {
     "end_time": "2021-09-18T20:18:56.513383Z",
     "start_time": "2021-09-18T20:18:56.510004Z"
    }
   },
   "outputs": [],
   "source": [
    "def token_encoder(token, vec):\n",
    "    if token == \"<pad>\":\n",
    "        return 1\n",
    "    else:\n",
    "        try:\n",
    "            return vec.stoi[token]\n",
    "        except:\n",
    "            return 0"
   ]
  },
  {
   "cell_type": "code",
   "execution_count": 133,
   "id": "0c2c5f7a",
   "metadata": {
    "ExecuteTime": {
     "end_time": "2021-09-18T20:18:56.515942Z",
     "start_time": "2021-09-18T20:18:56.514362Z"
    }
   },
   "outputs": [],
   "source": [
    "def encoder(tokens, vec):\n",
    "    return [token_encoder(token, vec) for token in tokens]"
   ]
  },
  {
   "cell_type": "code",
   "execution_count": 134,
   "id": "d3c4c5a1",
   "metadata": {
    "ExecuteTime": {
     "end_time": "2021-09-18T20:18:56.569562Z",
     "start_time": "2021-09-18T20:18:56.559325Z"
    }
   },
   "outputs": [
    {
     "data": {
      "text/plain": [
       "[0, 1660, 0]"
      ]
     },
     "execution_count": 134,
     "metadata": {},
     "output_type": "execute_result"
    }
   ],
   "source": [
    "text = \"Antonio is learning Python\"\n",
    "encoder(preprocessing(text), fasttext)"
   ]
  },
  {
   "cell_type": "markdown",
   "id": "f33edde9",
   "metadata": {},
   "source": [
    "Why all those zeros?\n",
    "Well, in the function that we have defined, we have put a try and except, in which we are basically saying: if the word is not in the vocabulary, return the index 0. Clearly, Antonio and Python weren't in the corpus used by FastText!\n"
   ]
  },
  {
   "cell_type": "markdown",
   "id": "7804cb6b",
   "metadata": {},
   "source": [
    "What about the `<pad>` thing? \n",
    "\n",
    "Well, not all the reviews have same length, so we need to find a solution for it. Why? Cause our Neural Network is waiting for input that are all of the same size! It needs to know how many weights it needs to initialize!\n",
    "\n",
    "There are several possibilities, but the easiest is to just set a cap with a `max_seq_len` parameter, so that all the reviews that are shorter than that length will be padded by using a vector associated with the padding index, and all the ones that are longer than `max_seq_len` will be just cut.\n",
    "\n",
    "Do you see problems? I actually don't see that much problems for it. I think that the sentiment of a comment can be seen already from the first words of the review.\n",
    "\n",
    "In the encoder part, the `<pad>` is a made up token that we know is very unlikely to be part of the text. To that, I assigned the index 1. \n",
    "\n",
    "You may ask: what does it happen to things at index 0 and 1? Well, let's inspect them:"
   ]
  },
  {
   "cell_type": "code",
   "execution_count": 135,
   "id": "dd332b41",
   "metadata": {
    "ExecuteTime": {
     "end_time": "2021-09-18T20:18:56.598411Z",
     "start_time": "2021-09-18T20:18:56.595358Z"
    }
   },
   "outputs": [
    {
     "data": {
      "text/plain": [
       "('</s>', '.')"
      ]
     },
     "execution_count": 135,
     "metadata": {},
     "output_type": "execute_result"
    }
   ],
   "source": [
    "fasttext.itos[0], fasttext.itos[1]"
   ]
  },
  {
   "cell_type": "markdown",
   "id": "ce9c2e48",
   "metadata": {},
   "source": [
    "and in our preprocessing pipeline they can never appear! So we are fine with that!"
   ]
  },
  {
   "cell_type": "markdown",
   "id": "b5cb4a8d",
   "metadata": {},
   "source": [
    "Now let's create a function for padding:"
   ]
  },
  {
   "cell_type": "code",
   "execution_count": 136,
   "id": "opened-calculation",
   "metadata": {
    "ExecuteTime": {
     "end_time": "2021-09-18T20:18:56.625917Z",
     "start_time": "2021-09-18T20:18:56.623200Z"
    }
   },
   "outputs": [],
   "source": [
    "def padding(list_of_indexes, max_seq_len, padding_index=1):\n",
    "    output = list_of_indexes + (max_seq_len - len(list_of_indexes))*[padding_index]\n",
    "    return output[:max_seq_len]"
   ]
  },
  {
   "cell_type": "code",
   "execution_count": 137,
   "id": "5ed2b39b",
   "metadata": {
    "ExecuteTime": {
     "end_time": "2021-09-18T20:18:56.636204Z",
     "start_time": "2021-09-18T20:18:56.627044Z"
    }
   },
   "outputs": [
    {
     "data": {
      "text/plain": [
       "[3697, 1363]"
      ]
     },
     "execution_count": 137,
     "metadata": {},
     "output_type": "execute_result"
    }
   ],
   "source": [
    "text = \"this is a sample review\"\n",
    "list_of_indexes = encoder(preprocessing(text), fasttext)\n",
    "list_of_indexes"
   ]
  },
  {
   "cell_type": "code",
   "execution_count": 138,
   "id": "a2a7bb3b",
   "metadata": {
    "ExecuteTime": {
     "end_time": "2021-09-18T20:18:56.688320Z",
     "start_time": "2021-09-18T20:18:56.685453Z"
    }
   },
   "outputs": [
    {
     "data": {
      "text/plain": [
       "[3697, 1363, 1, 1, 1, 1, 1, 1, 1, 1]"
      ]
     },
     "execution_count": 138,
     "metadata": {},
     "output_type": "execute_result"
    }
   ],
   "source": [
    "padding(list_of_indexes, max_seq_len=10)"
   ]
  },
  {
   "cell_type": "markdown",
   "id": "9d884789",
   "metadata": {},
   "source": [
    "In this way, any sentence shorter than 10 becomes of length 10 and anything longer..."
   ]
  },
  {
   "cell_type": "code",
   "execution_count": 139,
   "id": "53c461f6",
   "metadata": {
    "ExecuteTime": {
     "end_time": "2021-09-18T20:18:56.703768Z",
     "start_time": "2021-09-18T20:18:56.689402Z"
    }
   },
   "outputs": [
    {
     "data": {
      "text/plain": [
       "[3697, 1363, 3697, 1363, 3697, 1363, 3697, 1363, 3697, 1363]"
      ]
     },
     "execution_count": 139,
     "metadata": {},
     "output_type": "execute_result"
    }
   ],
   "source": [
    "text = \"this is a sample review this is a sample review this is a sample review this is a sample review this is a sample review v this is a sample review this is a sample review this is a sample review this is a sample review this is a sample review\"\n",
    "list_of_indexes = encoder(preprocessing(text), fasttext)\n",
    "padding(list_of_indexes, max_seq_len=10)"
   ]
  },
  {
   "cell_type": "markdown",
   "id": "d996b662",
   "metadata": {},
   "source": [
    "...get just cut to ten!"
   ]
  },
  {
   "cell_type": "markdown",
   "id": "designing-project",
   "metadata": {},
   "source": [
    "All right. I feel confident enough to say that we have all of what we need for the preprocessing part!\n",
    "\n",
    "Now we need to create the:\n"
   ]
  },
  {
   "cell_type": "markdown",
   "id": "editorial-appointment",
   "metadata": {},
   "source": [
    "### Data Loader\n",
    "\n",
    "Yes, they are back. [Is it a good or a bad memory?](\"https://github.com/Strive-School/ai_mar21/blob/main/M5_Deep_Learning/D7/Custom%20DataLoader%20and%20Dataset.ipynb\")\n",
    "\n",
    "If you take a look at that notebook, you remember that to create a custom data loader you need to override some method of the `Dataset` class from `torch.utils.data`. Before doing so, let's define the steps we need to do while loading the data:\n",
    "\n",
    "- Receive as input a row from the dataframe that we have defined above, that contains two columns: \"star\" and \"review\"\n",
    "- we separate \"star\" from \"review\"\n",
    "- we preprocess the \"review\" columns by doing what we have so far (tokenization etc but excluding the embeddings for now)\n",
    "- Padding \n",
    "- Store a list containing the sequence of indices with the associated labels\n",
    "\n",
    "Then we need to override also the `__len__` and the `__getitem__`methods of the `Dataset` class.\n",
    "\n",
    "Ok, stop talking, more action:"
   ]
  },
  {
   "cell_type": "code",
   "execution_count": 140,
   "id": "2420d3bf",
   "metadata": {
    "ExecuteTime": {
     "end_time": "2021-09-18T20:18:56.755477Z",
     "start_time": "2021-09-18T20:18:56.751413Z"
    }
   },
   "outputs": [],
   "source": [
    "class TrainData(Dataset):\n",
    "    def __init__(self, df, max_seq_len=32): # df is the input df, max_seq_len is the max lenght allowed to a sentence before cutting or padding\n",
    "        self.max_seq_len = max_seq_len\n",
    "        \n",
    "        counter = Counter()\n",
    "        train_iter = iter(df.review.values)\n",
    "        self.vec = FastText(\"simple\")\n",
    "        self.vec.vectors[1] = -torch.ones(self.vec.vectors[1].shape[0]) # replacing the vector associated with 1 (padded value) to become a vector of -1.\n",
    "        self.vec.vectors[0] = torch.zeros(self.vec.vectors[0].shape[0]) # replacing the vector associated with 0 (unknown) to become zeros\n",
    "        self.vectorizer = lambda x: self.vec.vectors[x]\n",
    "        self.labels = df.star\n",
    "        sequences = [padding(encoder(preprocessing(sequence), self.vec), max_seq_len) for sequence in df.review.tolist()]\n",
    "        self.sequences = sequences\n",
    "    \n",
    "    def __len__(self):\n",
    "        return len(self.sequences)\n",
    "    \n",
    "    def __getitem__(self, i):\n",
    "        assert len(self.sequences[i]) == self.max_seq_len\n",
    "        return self.sequences[i], self.labels[i]"
   ]
  },
  {
   "cell_type": "code",
   "execution_count": 141,
   "id": "ready-correlation",
   "metadata": {
    "ExecuteTime": {
     "end_time": "2021-09-18T20:19:27.328453Z",
     "start_time": "2021-09-18T20:18:56.785701Z"
    }
   },
   "outputs": [],
   "source": [
    "dataset = TrainData(train_df, max_seq_len=32)"
   ]
  },
  {
   "cell_type": "markdown",
   "id": "premier-repair",
   "metadata": {},
   "source": [
    "When we index dataset with a `dataset[index]` notation, we get the pair containing the padded sequence of indices with the associated label: "
   ]
  },
  {
   "cell_type": "code",
   "execution_count": 142,
   "id": "massive-locking",
   "metadata": {
    "ExecuteTime": {
     "end_time": "2021-09-18T20:19:27.353041Z",
     "start_time": "2021-09-18T20:19:27.349795Z"
    }
   },
   "outputs": [
    {
     "data": {
      "text/plain": [
       "([468,\n",
       "  0,\n",
       "  868,\n",
       "  2613,\n",
       "  58316,\n",
       "  360,\n",
       "  818,\n",
       "  12130,\n",
       "  1044,\n",
       "  13126,\n",
       "  520,\n",
       "  42977,\n",
       "  2996,\n",
       "  14931,\n",
       "  197,\n",
       "  2901,\n",
       "  992,\n",
       "  10051,\n",
       "  42977,\n",
       "  0,\n",
       "  0,\n",
       "  2603,\n",
       "  0,\n",
       "  4085,\n",
       "  454,\n",
       "  1736,\n",
       "  631,\n",
       "  338,\n",
       "  3332,\n",
       "  10770,\n",
       "  5302,\n",
       "  5512],\n",
       " 0)"
      ]
     },
     "execution_count": 142,
     "metadata": {},
     "output_type": "execute_result"
    }
   ],
   "source": [
    "dataset[0]"
   ]
  },
  {
   "cell_type": "code",
   "execution_count": 143,
   "id": "international-bangladesh",
   "metadata": {
    "ExecuteTime": {
     "end_time": "2021-09-18T20:19:27.380289Z",
     "start_time": "2021-09-18T20:19:27.377500Z"
    }
   },
   "outputs": [
    {
     "data": {
      "text/plain": [
       "[15391,\n",
       " 47950,\n",
       " 1508,\n",
       " 934,\n",
       " 4672,\n",
       " 11584,\n",
       " 15402,\n",
       " 24369,\n",
       " 14401,\n",
       " 542,\n",
       " 71101,\n",
       " 1097,\n",
       " 3851,\n",
       " 19201,\n",
       " 0,\n",
       " 5815,\n",
       " 1,\n",
       " 1,\n",
       " 1,\n",
       " 1,\n",
       " 1,\n",
       " 1,\n",
       " 1,\n",
       " 1,\n",
       " 1,\n",
       " 1,\n",
       " 1,\n",
       " 1,\n",
       " 1,\n",
       " 1,\n",
       " 1,\n",
       " 1]"
      ]
     },
     "execution_count": 143,
     "metadata": {},
     "output_type": "execute_result"
    }
   ],
   "source": [
    "dataset[1][0]"
   ]
  },
  {
   "cell_type": "markdown",
   "id": "manual-sweden",
   "metadata": {},
   "source": [
    "What are the ones there? They are the product of the padding! \n",
    "\n",
    "What is the vector associated with the index 1?"
   ]
  },
  {
   "cell_type": "code",
   "execution_count": 144,
   "id": "constitutional-harmony",
   "metadata": {
    "ExecuteTime": {
     "end_time": "2021-09-18T20:19:27.388716Z",
     "start_time": "2021-09-18T20:19:27.381220Z"
    }
   },
   "outputs": [
    {
     "data": {
      "text/plain": [
       "tensor([-1., -1., -1., -1., -1., -1., -1., -1., -1., -1., -1., -1., -1., -1.,\n",
       "        -1., -1., -1., -1., -1., -1., -1., -1., -1., -1., -1., -1., -1., -1.,\n",
       "        -1., -1., -1., -1., -1., -1., -1., -1., -1., -1., -1., -1., -1., -1.,\n",
       "        -1., -1., -1., -1., -1., -1., -1., -1., -1., -1., -1., -1., -1., -1.,\n",
       "        -1., -1., -1., -1., -1., -1., -1., -1., -1., -1., -1., -1., -1., -1.,\n",
       "        -1., -1., -1., -1., -1., -1., -1., -1., -1., -1., -1., -1., -1., -1.,\n",
       "        -1., -1., -1., -1., -1., -1., -1., -1., -1., -1., -1., -1., -1., -1.,\n",
       "        -1., -1., -1., -1., -1., -1., -1., -1., -1., -1., -1., -1., -1., -1.,\n",
       "        -1., -1., -1., -1., -1., -1., -1., -1., -1., -1., -1., -1., -1., -1.,\n",
       "        -1., -1., -1., -1., -1., -1., -1., -1., -1., -1., -1., -1., -1., -1.,\n",
       "        -1., -1., -1., -1., -1., -1., -1., -1., -1., -1., -1., -1., -1., -1.,\n",
       "        -1., -1., -1., -1., -1., -1., -1., -1., -1., -1., -1., -1., -1., -1.,\n",
       "        -1., -1., -1., -1., -1., -1., -1., -1., -1., -1., -1., -1., -1., -1.,\n",
       "        -1., -1., -1., -1., -1., -1., -1., -1., -1., -1., -1., -1., -1., -1.,\n",
       "        -1., -1., -1., -1., -1., -1., -1., -1., -1., -1., -1., -1., -1., -1.,\n",
       "        -1., -1., -1., -1., -1., -1., -1., -1., -1., -1., -1., -1., -1., -1.,\n",
       "        -1., -1., -1., -1., -1., -1., -1., -1., -1., -1., -1., -1., -1., -1.,\n",
       "        -1., -1., -1., -1., -1., -1., -1., -1., -1., -1., -1., -1., -1., -1.,\n",
       "        -1., -1., -1., -1., -1., -1., -1., -1., -1., -1., -1., -1., -1., -1.,\n",
       "        -1., -1., -1., -1., -1., -1., -1., -1., -1., -1., -1., -1., -1., -1.,\n",
       "        -1., -1., -1., -1., -1., -1., -1., -1., -1., -1., -1., -1., -1., -1.,\n",
       "        -1., -1., -1., -1., -1., -1.])"
      ]
     },
     "execution_count": 144,
     "metadata": {},
     "output_type": "execute_result"
    }
   ],
   "source": [
    "dataset.vec.vectors[1]"
   ]
  },
  {
   "cell_type": "markdown",
   "id": "hairy-gothic",
   "metadata": {},
   "source": [
    "All negative ones! Makes sense! This is what we have defined!"
   ]
  },
  {
   "cell_type": "markdown",
   "id": "falling-domain",
   "metadata": {},
   "source": [
    "Storing into memory a lot of tensors containing all the embedded vectors, it can be very costly. This is why we load them by indexing with an integer. However, when we train our model, we need the embedded vectors!\n",
    "\n",
    "So let's define the `collate` function that will index our vocabulary only when it needs it!\n",
    "\n",
    "As argument it takes the batch (which will contains a `batch_size*max_seq_len` shape tensor) and the vectorizer. What is the vectorizer in our case? It's the vectorizer we have built in the TrainData class, that assign the vector associated with an index."
   ]
  },
  {
   "cell_type": "code",
   "execution_count": 145,
   "id": "clean-shelf",
   "metadata": {
    "ExecuteTime": {
     "end_time": "2021-09-18T20:19:27.437008Z",
     "start_time": "2021-09-18T20:19:27.434752Z"
    }
   },
   "outputs": [],
   "source": [
    "def collate(batch, vectorizer=dataset.vectorizer):\n",
    "    inputs = torch.stack([torch.stack([vectorizer(token) for token in sentence[0]]) for sentence in batch])\n",
    "    target = torch.LongTensor([item[1] for item in batch]) # Use long tensor to avoid unwanted rounding\n",
    "    return inputs, target"
   ]
  },
  {
   "cell_type": "markdown",
   "id": "marine-entrance",
   "metadata": {},
   "source": [
    "And now, we can use the `DataLoader` class as we did for images:"
   ]
  },
  {
   "cell_type": "code",
   "execution_count": 146,
   "id": "paperback-collaboration",
   "metadata": {
    "ExecuteTime": {
     "end_time": "2021-09-18T20:19:27.465335Z",
     "start_time": "2021-09-18T20:19:27.463197Z"
    }
   },
   "outputs": [],
   "source": [
    "batch_size = 16\n",
    "train_loader = DataLoader(dataset, batch_size=batch_size, collate_fn=collate)\n"
   ]
  },
  {
   "cell_type": "code",
   "execution_count": 147,
   "id": "incident-soviet",
   "metadata": {
    "ExecuteTime": {
     "end_time": "2021-09-18T20:19:27.471533Z",
     "start_time": "2021-09-18T20:19:27.466451Z"
    }
   },
   "outputs": [
    {
     "data": {
      "text/plain": [
       "torch.Size([16, 32, 300])"
      ]
     },
     "execution_count": 147,
     "metadata": {},
     "output_type": "execute_result"
    }
   ],
   "source": [
    "next(iter(train_loader))[0].shape"
   ]
  },
  {
   "cell_type": "markdown",
   "id": "southwest-sleeping",
   "metadata": {},
   "source": [
    "Ready to train? Following is a small model to *makes things to run on my computer*. You can expect to be kicked out if you come at the debrief with this model! \n",
    "\n"
   ]
  },
  {
   "cell_type": "code",
   "execution_count": 148,
   "id": "third-priority",
   "metadata": {
    "ExecuteTime": {
     "end_time": "2021-09-18T20:19:27.497792Z",
     "start_time": "2021-09-18T20:19:27.494432Z"
    }
   },
   "outputs": [],
   "source": [
    "from torch import nn\n",
    "import torch.nn.functional as F\n",
    "emb_dim = 300\n",
    "class Classifier(nn.Module):\n",
    "    def __init__(self, max_seq_len, emb_dim, hidden1=16, hidden2=16):\n",
    "        super(Classifier, self).__init__()\n",
    "        self.fc1 = nn.Linear(max_seq_len*emb_dim, hidden1)\n",
    "        self.fc2 = nn.Linear(hidden1, hidden2)\n",
    "        self.fc3 = nn.Linear(hidden2, 5)\n",
    "        self.out = nn.LogSoftmax(dim=1)\n",
    "    \n",
    "    \n",
    "    def forward(self, inputs):\n",
    "        x = F.relu(self.fc1(inputs.squeeze(1).float()))\n",
    "        x = F.relu(self.fc2(x))\n",
    "        x = self.fc3(x)\n",
    "        return self.out(x)"
   ]
  },
  {
   "cell_type": "code",
   "execution_count": 149,
   "id": "bridal-commander",
   "metadata": {
    "ExecuteTime": {
     "end_time": "2021-09-18T20:19:27.502957Z",
     "start_time": "2021-09-18T20:19:27.499144Z"
    }
   },
   "outputs": [
    {
     "data": {
      "text/plain": [
       "Classifier(\n",
       "  (fc1): Linear(in_features=9600, out_features=16, bias=True)\n",
       "  (fc2): Linear(in_features=16, out_features=16, bias=True)\n",
       "  (fc3): Linear(in_features=16, out_features=5, bias=True)\n",
       "  (out): LogSoftmax(dim=1)\n",
       ")"
      ]
     },
     "execution_count": 149,
     "metadata": {},
     "output_type": "execute_result"
    }
   ],
   "source": [
    "MAX_SEQ_LEN = 32\n",
    "model = Classifier(MAX_SEQ_LEN, 300, 16, 16)\n",
    "model"
   ]
  },
  {
   "cell_type": "code",
   "execution_count": 150,
   "id": "molecular-seventh",
   "metadata": {
    "ExecuteTime": {
     "end_time": "2021-09-18T20:19:27.570818Z",
     "start_time": "2021-09-18T20:19:27.568815Z"
    }
   },
   "outputs": [],
   "source": [
    "from torch import optim\n",
    "criterion = nn.NLLLoss()\n",
    "\n",
    "# Only train the classifier parameters, feature parameters are frozen\n",
    "optimizer = optim.Adam(model.parameters(), lr=0.003)\n"
   ]
  },
  {
   "cell_type": "code",
   "execution_count": 151,
   "id": "romantic-romance",
   "metadata": {
    "ExecuteTime": {
     "end_time": "2021-09-18T20:19:27.597418Z",
     "start_time": "2021-09-18T20:19:27.593108Z"
    }
   },
   "outputs": [],
   "source": [
    "dataiter = iter(train_loader)\n",
    "sentences, labels = dataiter.next()"
   ]
  },
  {
   "cell_type": "code",
   "execution_count": 152,
   "id": "suburban-error",
   "metadata": {
    "ExecuteTime": {
     "end_time": "2021-09-18T20:19:27.602693Z",
     "start_time": "2021-09-18T20:19:27.598474Z"
    }
   },
   "outputs": [
    {
     "data": {
      "text/plain": [
       "tensor([[0.1627, 0.1963, 0.1702, 0.2471, 0.2237]], grad_fn=<ExpBackward>)"
      ]
     },
     "execution_count": 152,
     "metadata": {},
     "output_type": "execute_result"
    }
   ],
   "source": [
    "# Forward pass through the network\n",
    "sentence_idx = 0\n",
    "sentences.resize_(16, 1, MAX_SEQ_LEN*emb_dim).shape\n",
    "log_ps = model.forward(sentences[sentence_idx,:])\n",
    "\n",
    "sentence = sentences[sentence_idx]\n",
    "torch.exp(log_ps)"
   ]
  },
  {
   "cell_type": "markdown",
   "id": "greek-prospect",
   "metadata": {},
   "source": [
    "We got 5 probabilities: one for each of the possible rating star!"
   ]
  },
  {
   "cell_type": "code",
   "execution_count": 153,
   "id": "elementary-sharing",
   "metadata": {
    "ExecuteTime": {
     "end_time": "2021-09-18T20:19:28.590821Z",
     "start_time": "2021-09-18T20:19:27.626081Z"
    }
   },
   "outputs": [
    {
     "name": "stdout",
     "output_type": "stream",
     "text": [
      "Epoch: 1/3\n",
      "\tIteration: 0\t Loss: 0.0412\n",
      "\tIteration: 40\t Loss: 1.6470\n",
      "\tIteration: 80\t Loss: 1.5952\n",
      "\tIteration: 120\t Loss: 1.6148\n",
      "Epoch: 2/3\n",
      "\tIteration: 0\t Loss: 0.0385\n",
      "\tIteration: 40\t Loss: 1.5419\n",
      "\tIteration: 80\t Loss: 1.4906\n",
      "\tIteration: 120\t Loss: 1.6104\n",
      "Epoch: 3/3\n",
      "\tIteration: 0\t Loss: 0.0343\n",
      "\tIteration: 40\t Loss: 1.4839\n",
      "\tIteration: 80\t Loss: 1.3513\n",
      "\tIteration: 120\t Loss: 1.4886\n"
     ]
    }
   ],
   "source": [
    "epochs = 3\n",
    "print_every = 40\n",
    "\n",
    "for e in range(epochs):\n",
    "    running_loss = 0\n",
    "    print(f\"Epoch: {e+1}/{epochs}\")\n",
    "\n",
    "    for i, (sentences, labels) in enumerate(iter(train_loader)):\n",
    "\n",
    "        sentences.resize_(sentences.size()[0], 32* emb_dim)\n",
    "        \n",
    "        optimizer.zero_grad()\n",
    "        \n",
    "        output = model.forward(sentences)   # 1) Forward pass\n",
    "        loss = criterion(output, labels) # 2) Compute loss\n",
    "        loss.backward()                  # 3) Backward pass\n",
    "        optimizer.step()                 # 4) Update model\n",
    "        \n",
    "        running_loss += loss.item()\n",
    "        \n",
    "        if i % print_every == 0:\n",
    "            print(f\"\\tIteration: {i}\\t Loss: {running_loss/print_every:.4f}\")\n",
    "            running_loss = 0"
   ]
  },
  {
   "cell_type": "markdown",
   "id": "contrary-palestinian",
   "metadata": {},
   "source": [
    "Eventually:"
   ]
  },
  {
   "cell_type": "code",
   "execution_count": 154,
   "id": "hungry-garden",
   "metadata": {
    "ExecuteTime": {
     "end_time": "2021-09-18T20:19:28.618668Z",
     "start_time": "2021-09-18T20:19:28.616715Z"
    }
   },
   "outputs": [],
   "source": [
    "from torchtext import datasets"
   ]
  },
  {
   "cell_type": "code",
   "execution_count": 155,
   "id": "likely-bosnia",
   "metadata": {
    "ExecuteTime": {
     "end_time": "2021-09-18T20:19:46.366793Z",
     "start_time": "2021-09-18T20:19:28.668800Z"
    }
   },
   "outputs": [
    {
     "name": "stderr",
     "output_type": "stream",
     "text": [
      "amazon_review_full_csv.tar.gz: 188MB [00:15, 12.3MB/s] \n"
     ]
    },
    {
     "ename": "KeyboardInterrupt",
     "evalue": "",
     "output_type": "error",
     "traceback": [
      "\u001b[0;31m---------------------------------------------------------------------------\u001b[0m",
      "\u001b[0;31mKeyboardInterrupt\u001b[0m                         Traceback (most recent call last)",
      "\u001b[0;32m<ipython-input-155-fdd2afb5cf11>\u001b[0m in \u001b[0;36m<module>\u001b[0;34m\u001b[0m\n\u001b[0;32m----> 1\u001b[0;31m \u001b[0mtrain\u001b[0m\u001b[0;34m,\u001b[0m \u001b[0mtest\u001b[0m \u001b[0;34m=\u001b[0m \u001b[0mdatasets\u001b[0m\u001b[0;34m.\u001b[0m\u001b[0mAmazonReviewFull\u001b[0m\u001b[0;34m(\u001b[0m\u001b[0;34m)\u001b[0m\u001b[0;34m\u001b[0m\u001b[0;34m\u001b[0m\u001b[0m\n\u001b[0m",
      "\u001b[0;32m/opt/homebrew/anaconda3/envs/condaenv/lib/python3.9/site-packages/torchtext/data/datasets_utils.py\u001b[0m in \u001b[0;36mwrapper\u001b[0;34m(root, *args, **kwargs)\u001b[0m\n\u001b[1;32m    255\u001b[0m             \u001b[0;32mif\u001b[0m \u001b[0;32mnot\u001b[0m \u001b[0mos\u001b[0m\u001b[0;34m.\u001b[0m\u001b[0mpath\u001b[0m\u001b[0;34m.\u001b[0m\u001b[0mexists\u001b[0m\u001b[0;34m(\u001b[0m\u001b[0mnew_root\u001b[0m\u001b[0;34m)\u001b[0m\u001b[0;34m:\u001b[0m\u001b[0;34m\u001b[0m\u001b[0;34m\u001b[0m\u001b[0m\n\u001b[1;32m    256\u001b[0m                 \u001b[0mos\u001b[0m\u001b[0;34m.\u001b[0m\u001b[0mmakedirs\u001b[0m\u001b[0;34m(\u001b[0m\u001b[0mnew_root\u001b[0m\u001b[0;34m)\u001b[0m\u001b[0;34m\u001b[0m\u001b[0;34m\u001b[0m\u001b[0m\n\u001b[0;32m--> 257\u001b[0;31m             \u001b[0;32mreturn\u001b[0m \u001b[0mfunc\u001b[0m\u001b[0;34m(\u001b[0m\u001b[0mroot\u001b[0m\u001b[0;34m=\u001b[0m\u001b[0mnew_root\u001b[0m\u001b[0;34m,\u001b[0m \u001b[0;34m*\u001b[0m\u001b[0margs\u001b[0m\u001b[0;34m,\u001b[0m \u001b[0;34m**\u001b[0m\u001b[0mkwargs\u001b[0m\u001b[0;34m)\u001b[0m\u001b[0;34m\u001b[0m\u001b[0;34m\u001b[0m\u001b[0m\n\u001b[0m\u001b[1;32m    258\u001b[0m \u001b[0;34m\u001b[0m\u001b[0m\n\u001b[1;32m    259\u001b[0m         \u001b[0;32mreturn\u001b[0m \u001b[0mwrapper\u001b[0m\u001b[0;34m\u001b[0m\u001b[0;34m\u001b[0m\u001b[0m\n",
      "\u001b[0;32m/opt/homebrew/anaconda3/envs/condaenv/lib/python3.9/site-packages/torchtext/data/datasets_utils.py\u001b[0m in \u001b[0;36mnew_fn\u001b[0;34m(root, split, **kwargs)\u001b[0m\n\u001b[1;32m    217\u001b[0m         \u001b[0mresult\u001b[0m \u001b[0;34m=\u001b[0m \u001b[0;34m[\u001b[0m\u001b[0;34m]\u001b[0m\u001b[0;34m\u001b[0m\u001b[0;34m\u001b[0m\u001b[0m\n\u001b[1;32m    218\u001b[0m         \u001b[0;32mfor\u001b[0m \u001b[0mitem\u001b[0m \u001b[0;32min\u001b[0m \u001b[0m_check_default_set\u001b[0m\u001b[0;34m(\u001b[0m\u001b[0msplit\u001b[0m\u001b[0;34m,\u001b[0m \u001b[0msplits\u001b[0m\u001b[0;34m,\u001b[0m \u001b[0mfn\u001b[0m\u001b[0;34m.\u001b[0m\u001b[0m__name__\u001b[0m\u001b[0;34m)\u001b[0m\u001b[0;34m:\u001b[0m\u001b[0;34m\u001b[0m\u001b[0;34m\u001b[0m\u001b[0m\n\u001b[0;32m--> 219\u001b[0;31m             \u001b[0mresult\u001b[0m\u001b[0;34m.\u001b[0m\u001b[0mappend\u001b[0m\u001b[0;34m(\u001b[0m\u001b[0mfn\u001b[0m\u001b[0;34m(\u001b[0m\u001b[0mroot\u001b[0m\u001b[0;34m,\u001b[0m \u001b[0mitem\u001b[0m\u001b[0;34m,\u001b[0m \u001b[0;34m**\u001b[0m\u001b[0mkwargs\u001b[0m\u001b[0;34m)\u001b[0m\u001b[0;34m)\u001b[0m\u001b[0;34m\u001b[0m\u001b[0;34m\u001b[0m\u001b[0m\n\u001b[0m\u001b[1;32m    220\u001b[0m         \u001b[0;32mreturn\u001b[0m \u001b[0m_wrap_datasets\u001b[0m\u001b[0;34m(\u001b[0m\u001b[0mtuple\u001b[0m\u001b[0;34m(\u001b[0m\u001b[0mresult\u001b[0m\u001b[0;34m)\u001b[0m\u001b[0;34m,\u001b[0m \u001b[0msplit\u001b[0m\u001b[0;34m)\u001b[0m\u001b[0;34m\u001b[0m\u001b[0;34m\u001b[0m\u001b[0m\n\u001b[1;32m    221\u001b[0m \u001b[0;34m\u001b[0m\u001b[0m\n",
      "\u001b[0;32m/opt/homebrew/anaconda3/envs/condaenv/lib/python3.9/site-packages/torchtext/datasets/amazonreviewfull.py\u001b[0m in \u001b[0;36mAmazonReviewFull\u001b[0;34m(root, split)\u001b[0m\n\u001b[1;32m     38\u001b[0m \u001b[0;34m@\u001b[0m\u001b[0m_wrap_split_argument\u001b[0m\u001b[0;34m(\u001b[0m\u001b[0;34m(\u001b[0m\u001b[0;34m'train'\u001b[0m\u001b[0;34m,\u001b[0m \u001b[0;34m'test'\u001b[0m\u001b[0;34m)\u001b[0m\u001b[0;34m)\u001b[0m\u001b[0;34m\u001b[0m\u001b[0;34m\u001b[0m\u001b[0m\n\u001b[1;32m     39\u001b[0m \u001b[0;32mdef\u001b[0m \u001b[0mAmazonReviewFull\u001b[0m\u001b[0;34m(\u001b[0m\u001b[0mroot\u001b[0m\u001b[0;34m,\u001b[0m \u001b[0msplit\u001b[0m\u001b[0;34m)\u001b[0m\u001b[0;34m:\u001b[0m\u001b[0;34m\u001b[0m\u001b[0;34m\u001b[0m\u001b[0m\n\u001b[0;32m---> 40\u001b[0;31m     path = _download_extract_validate(root, URL, MD5, os.path.join(root, _PATH), os.path.join(root, _EXTRACTED_FILES[split]),\n\u001b[0m\u001b[1;32m     41\u001b[0m                                       _EXTRACTED_FILES_MD5[split], hash_type=\"md5\")\n\u001b[1;32m     42\u001b[0m     \u001b[0mlogging\u001b[0m\u001b[0;34m.\u001b[0m\u001b[0minfo\u001b[0m\u001b[0;34m(\u001b[0m\u001b[0;34m'Creating {} data'\u001b[0m\u001b[0;34m.\u001b[0m\u001b[0mformat\u001b[0m\u001b[0;34m(\u001b[0m\u001b[0msplit\u001b[0m\u001b[0;34m)\u001b[0m\u001b[0;34m)\u001b[0m\u001b[0;34m\u001b[0m\u001b[0;34m\u001b[0m\u001b[0m\n",
      "\u001b[0;32m/opt/homebrew/anaconda3/envs/condaenv/lib/python3.9/site-packages/torchtext/data/datasets_utils.py\u001b[0m in \u001b[0;36m_download_extract_validate\u001b[0;34m(root, url, url_md5, downloaded_file, extracted_file, extracted_file_md5, hash_type)\u001b[0m\n\u001b[1;32m    272\u001b[0m                 \u001b[0;32mreturn\u001b[0m \u001b[0mextracted_file\u001b[0m\u001b[0;34m\u001b[0m\u001b[0;34m\u001b[0m\u001b[0m\n\u001b[1;32m    273\u001b[0m \u001b[0;34m\u001b[0m\u001b[0m\n\u001b[0;32m--> 274\u001b[0;31m     dataset_tar = download_from_url(url, path=os.path.join(root, downloaded_file),\n\u001b[0m\u001b[1;32m    275\u001b[0m                                     hash_value=url_md5, hash_type=hash_type)\n\u001b[1;32m    276\u001b[0m     \u001b[0mextracted_files\u001b[0m \u001b[0;34m=\u001b[0m \u001b[0mextract_archive\u001b[0m\u001b[0;34m(\u001b[0m\u001b[0mdataset_tar\u001b[0m\u001b[0;34m)\u001b[0m\u001b[0;34m\u001b[0m\u001b[0;34m\u001b[0m\u001b[0m\n",
      "\u001b[0;32m/opt/homebrew/anaconda3/envs/condaenv/lib/python3.9/site-packages/torchtext/utils.py\u001b[0m in \u001b[0;36mdownload_from_url\u001b[0;34m(url, path, root, overwrite, hash_value, hash_type)\u001b[0m\n\u001b[1;32m    144\u001b[0m         \u001b[0mresponse\u001b[0m \u001b[0;34m=\u001b[0m \u001b[0msession\u001b[0m\u001b[0;34m.\u001b[0m\u001b[0mget\u001b[0m\u001b[0;34m(\u001b[0m\u001b[0murl\u001b[0m\u001b[0;34m,\u001b[0m \u001b[0mstream\u001b[0m\u001b[0;34m=\u001b[0m\u001b[0;32mTrue\u001b[0m\u001b[0;34m)\u001b[0m\u001b[0;34m\u001b[0m\u001b[0;34m\u001b[0m\u001b[0m\n\u001b[1;32m    145\u001b[0m \u001b[0;34m\u001b[0m\u001b[0m\n\u001b[0;32m--> 146\u001b[0;31m     \u001b[0;32mreturn\u001b[0m \u001b[0m_process_response\u001b[0m\u001b[0;34m(\u001b[0m\u001b[0mresponse\u001b[0m\u001b[0;34m,\u001b[0m \u001b[0mroot\u001b[0m\u001b[0;34m,\u001b[0m \u001b[0mfilename\u001b[0m\u001b[0;34m)\u001b[0m\u001b[0;34m\u001b[0m\u001b[0;34m\u001b[0m\u001b[0m\n\u001b[0m\u001b[1;32m    147\u001b[0m \u001b[0;34m\u001b[0m\u001b[0m\n\u001b[1;32m    148\u001b[0m \u001b[0;34m\u001b[0m\u001b[0m\n",
      "\u001b[0;32m/opt/homebrew/anaconda3/envs/condaenv/lib/python3.9/site-packages/torchtext/utils.py\u001b[0m in \u001b[0;36m_process_response\u001b[0;34m(r, root, filename)\u001b[0m\n\u001b[1;32m     87\u001b[0m             with tqdm(total=total_size, unit='B',\n\u001b[1;32m     88\u001b[0m                       unit_scale=1, desc=path.split('/')[-1]) as t:\n\u001b[0;32m---> 89\u001b[0;31m                 \u001b[0;32mfor\u001b[0m \u001b[0mchunk\u001b[0m \u001b[0;32min\u001b[0m \u001b[0mr\u001b[0m\u001b[0;34m.\u001b[0m\u001b[0miter_content\u001b[0m\u001b[0;34m(\u001b[0m\u001b[0mchunk_size\u001b[0m\u001b[0;34m)\u001b[0m\u001b[0;34m:\u001b[0m\u001b[0;34m\u001b[0m\u001b[0;34m\u001b[0m\u001b[0m\n\u001b[0m\u001b[1;32m     90\u001b[0m                     \u001b[0;32mif\u001b[0m \u001b[0mchunk\u001b[0m\u001b[0;34m:\u001b[0m\u001b[0;34m\u001b[0m\u001b[0;34m\u001b[0m\u001b[0m\n\u001b[1;32m     91\u001b[0m                         \u001b[0mfile\u001b[0m\u001b[0;34m.\u001b[0m\u001b[0mwrite\u001b[0m\u001b[0;34m(\u001b[0m\u001b[0mchunk\u001b[0m\u001b[0;34m)\u001b[0m\u001b[0;34m\u001b[0m\u001b[0;34m\u001b[0m\u001b[0m\n",
      "\u001b[0;32m/opt/homebrew/anaconda3/envs/condaenv/lib/python3.9/site-packages/requests/models.py\u001b[0m in \u001b[0;36mgenerate\u001b[0;34m()\u001b[0m\n\u001b[1;32m    751\u001b[0m             \u001b[0;32mif\u001b[0m \u001b[0mhasattr\u001b[0m\u001b[0;34m(\u001b[0m\u001b[0mself\u001b[0m\u001b[0;34m.\u001b[0m\u001b[0mraw\u001b[0m\u001b[0;34m,\u001b[0m \u001b[0;34m'stream'\u001b[0m\u001b[0;34m)\u001b[0m\u001b[0;34m:\u001b[0m\u001b[0;34m\u001b[0m\u001b[0;34m\u001b[0m\u001b[0m\n\u001b[1;32m    752\u001b[0m                 \u001b[0;32mtry\u001b[0m\u001b[0;34m:\u001b[0m\u001b[0;34m\u001b[0m\u001b[0;34m\u001b[0m\u001b[0m\n\u001b[0;32m--> 753\u001b[0;31m                     \u001b[0;32mfor\u001b[0m \u001b[0mchunk\u001b[0m \u001b[0;32min\u001b[0m \u001b[0mself\u001b[0m\u001b[0;34m.\u001b[0m\u001b[0mraw\u001b[0m\u001b[0;34m.\u001b[0m\u001b[0mstream\u001b[0m\u001b[0;34m(\u001b[0m\u001b[0mchunk_size\u001b[0m\u001b[0;34m,\u001b[0m \u001b[0mdecode_content\u001b[0m\u001b[0;34m=\u001b[0m\u001b[0;32mTrue\u001b[0m\u001b[0;34m)\u001b[0m\u001b[0;34m:\u001b[0m\u001b[0;34m\u001b[0m\u001b[0;34m\u001b[0m\u001b[0m\n\u001b[0m\u001b[1;32m    754\u001b[0m                         \u001b[0;32myield\u001b[0m \u001b[0mchunk\u001b[0m\u001b[0;34m\u001b[0m\u001b[0;34m\u001b[0m\u001b[0m\n\u001b[1;32m    755\u001b[0m                 \u001b[0;32mexcept\u001b[0m \u001b[0mProtocolError\u001b[0m \u001b[0;32mas\u001b[0m \u001b[0me\u001b[0m\u001b[0;34m:\u001b[0m\u001b[0;34m\u001b[0m\u001b[0;34m\u001b[0m\u001b[0m\n",
      "\u001b[0;32m/opt/homebrew/anaconda3/envs/condaenv/lib/python3.9/site-packages/urllib3/response.py\u001b[0m in \u001b[0;36mstream\u001b[0;34m(self, amt, decode_content)\u001b[0m\n\u001b[1;32m    570\u001b[0m         \"\"\"\n\u001b[1;32m    571\u001b[0m         \u001b[0;32mif\u001b[0m \u001b[0mself\u001b[0m\u001b[0;34m.\u001b[0m\u001b[0mchunked\u001b[0m \u001b[0;32mand\u001b[0m \u001b[0mself\u001b[0m\u001b[0;34m.\u001b[0m\u001b[0msupports_chunked_reads\u001b[0m\u001b[0;34m(\u001b[0m\u001b[0;34m)\u001b[0m\u001b[0;34m:\u001b[0m\u001b[0;34m\u001b[0m\u001b[0;34m\u001b[0m\u001b[0m\n\u001b[0;32m--> 572\u001b[0;31m             \u001b[0;32mfor\u001b[0m \u001b[0mline\u001b[0m \u001b[0;32min\u001b[0m \u001b[0mself\u001b[0m\u001b[0;34m.\u001b[0m\u001b[0mread_chunked\u001b[0m\u001b[0;34m(\u001b[0m\u001b[0mamt\u001b[0m\u001b[0;34m,\u001b[0m \u001b[0mdecode_content\u001b[0m\u001b[0;34m=\u001b[0m\u001b[0mdecode_content\u001b[0m\u001b[0;34m)\u001b[0m\u001b[0;34m:\u001b[0m\u001b[0;34m\u001b[0m\u001b[0;34m\u001b[0m\u001b[0m\n\u001b[0m\u001b[1;32m    573\u001b[0m                 \u001b[0;32myield\u001b[0m \u001b[0mline\u001b[0m\u001b[0;34m\u001b[0m\u001b[0;34m\u001b[0m\u001b[0m\n\u001b[1;32m    574\u001b[0m         \u001b[0;32melse\u001b[0m\u001b[0;34m:\u001b[0m\u001b[0;34m\u001b[0m\u001b[0;34m\u001b[0m\u001b[0m\n",
      "\u001b[0;32m/opt/homebrew/anaconda3/envs/condaenv/lib/python3.9/site-packages/urllib3/response.py\u001b[0m in \u001b[0;36mread_chunked\u001b[0;34m(self, amt, decode_content)\u001b[0m\n\u001b[1;32m    765\u001b[0m                 \u001b[0;32mif\u001b[0m \u001b[0mself\u001b[0m\u001b[0;34m.\u001b[0m\u001b[0mchunk_left\u001b[0m \u001b[0;34m==\u001b[0m \u001b[0;36m0\u001b[0m\u001b[0;34m:\u001b[0m\u001b[0;34m\u001b[0m\u001b[0;34m\u001b[0m\u001b[0m\n\u001b[1;32m    766\u001b[0m                     \u001b[0;32mbreak\u001b[0m\u001b[0;34m\u001b[0m\u001b[0;34m\u001b[0m\u001b[0m\n\u001b[0;32m--> 767\u001b[0;31m                 \u001b[0mchunk\u001b[0m \u001b[0;34m=\u001b[0m \u001b[0mself\u001b[0m\u001b[0;34m.\u001b[0m\u001b[0m_handle_chunk\u001b[0m\u001b[0;34m(\u001b[0m\u001b[0mamt\u001b[0m\u001b[0;34m)\u001b[0m\u001b[0;34m\u001b[0m\u001b[0;34m\u001b[0m\u001b[0m\n\u001b[0m\u001b[1;32m    768\u001b[0m                 decoded = self._decode(\n\u001b[1;32m    769\u001b[0m                     \u001b[0mchunk\u001b[0m\u001b[0;34m,\u001b[0m \u001b[0mdecode_content\u001b[0m\u001b[0;34m=\u001b[0m\u001b[0mdecode_content\u001b[0m\u001b[0;34m,\u001b[0m \u001b[0mflush_decoder\u001b[0m\u001b[0;34m=\u001b[0m\u001b[0;32mFalse\u001b[0m\u001b[0;34m\u001b[0m\u001b[0;34m\u001b[0m\u001b[0m\n",
      "\u001b[0;32m/opt/homebrew/anaconda3/envs/condaenv/lib/python3.9/site-packages/urllib3/response.py\u001b[0m in \u001b[0;36m_handle_chunk\u001b[0;34m(self, amt)\u001b[0m\n\u001b[1;32m    709\u001b[0m             \u001b[0mself\u001b[0m\u001b[0;34m.\u001b[0m\u001b[0mchunk_left\u001b[0m \u001b[0;34m=\u001b[0m \u001b[0;32mNone\u001b[0m\u001b[0;34m\u001b[0m\u001b[0;34m\u001b[0m\u001b[0m\n\u001b[1;32m    710\u001b[0m         \u001b[0;32melif\u001b[0m \u001b[0mamt\u001b[0m \u001b[0;34m<\u001b[0m \u001b[0mself\u001b[0m\u001b[0;34m.\u001b[0m\u001b[0mchunk_left\u001b[0m\u001b[0;34m:\u001b[0m\u001b[0;34m\u001b[0m\u001b[0;34m\u001b[0m\u001b[0m\n\u001b[0;32m--> 711\u001b[0;31m             \u001b[0mvalue\u001b[0m \u001b[0;34m=\u001b[0m \u001b[0mself\u001b[0m\u001b[0;34m.\u001b[0m\u001b[0m_fp\u001b[0m\u001b[0;34m.\u001b[0m\u001b[0m_safe_read\u001b[0m\u001b[0;34m(\u001b[0m\u001b[0mamt\u001b[0m\u001b[0;34m)\u001b[0m\u001b[0;34m\u001b[0m\u001b[0;34m\u001b[0m\u001b[0m\n\u001b[0m\u001b[1;32m    712\u001b[0m             \u001b[0mself\u001b[0m\u001b[0;34m.\u001b[0m\u001b[0mchunk_left\u001b[0m \u001b[0;34m=\u001b[0m \u001b[0mself\u001b[0m\u001b[0;34m.\u001b[0m\u001b[0mchunk_left\u001b[0m \u001b[0;34m-\u001b[0m \u001b[0mamt\u001b[0m\u001b[0;34m\u001b[0m\u001b[0;34m\u001b[0m\u001b[0m\n\u001b[1;32m    713\u001b[0m             \u001b[0mreturned_chunk\u001b[0m \u001b[0;34m=\u001b[0m \u001b[0mvalue\u001b[0m\u001b[0;34m\u001b[0m\u001b[0;34m\u001b[0m\u001b[0m\n",
      "\u001b[0;32m/opt/homebrew/anaconda3/envs/condaenv/lib/python3.9/http/client.py\u001b[0m in \u001b[0;36m_safe_read\u001b[0;34m(self, amt)\u001b[0m\n\u001b[1;32m    607\u001b[0m         \u001b[0mIncompleteRead\u001b[0m \u001b[0mexception\u001b[0m \u001b[0mcan\u001b[0m \u001b[0mbe\u001b[0m \u001b[0mused\u001b[0m \u001b[0mto\u001b[0m \u001b[0mdetect\u001b[0m \u001b[0mthe\u001b[0m \u001b[0mproblem\u001b[0m\u001b[0;34m.\u001b[0m\u001b[0;34m\u001b[0m\u001b[0;34m\u001b[0m\u001b[0m\n\u001b[1;32m    608\u001b[0m         \"\"\"\n\u001b[0;32m--> 609\u001b[0;31m         \u001b[0mdata\u001b[0m \u001b[0;34m=\u001b[0m \u001b[0mself\u001b[0m\u001b[0;34m.\u001b[0m\u001b[0mfp\u001b[0m\u001b[0;34m.\u001b[0m\u001b[0mread\u001b[0m\u001b[0;34m(\u001b[0m\u001b[0mamt\u001b[0m\u001b[0;34m)\u001b[0m\u001b[0;34m\u001b[0m\u001b[0;34m\u001b[0m\u001b[0m\n\u001b[0m\u001b[1;32m    610\u001b[0m         \u001b[0;32mif\u001b[0m \u001b[0mlen\u001b[0m\u001b[0;34m(\u001b[0m\u001b[0mdata\u001b[0m\u001b[0;34m)\u001b[0m \u001b[0;34m<\u001b[0m \u001b[0mamt\u001b[0m\u001b[0;34m:\u001b[0m\u001b[0;34m\u001b[0m\u001b[0;34m\u001b[0m\u001b[0m\n\u001b[1;32m    611\u001b[0m             \u001b[0;32mraise\u001b[0m \u001b[0mIncompleteRead\u001b[0m\u001b[0;34m(\u001b[0m\u001b[0mdata\u001b[0m\u001b[0;34m,\u001b[0m \u001b[0mamt\u001b[0m\u001b[0;34m-\u001b[0m\u001b[0mlen\u001b[0m\u001b[0;34m(\u001b[0m\u001b[0mdata\u001b[0m\u001b[0;34m)\u001b[0m\u001b[0;34m)\u001b[0m\u001b[0;34m\u001b[0m\u001b[0;34m\u001b[0m\u001b[0m\n",
      "\u001b[0;32m/opt/homebrew/anaconda3/envs/condaenv/lib/python3.9/socket.py\u001b[0m in \u001b[0;36mreadinto\u001b[0;34m(self, b)\u001b[0m\n\u001b[1;32m    702\u001b[0m         \u001b[0;32mwhile\u001b[0m \u001b[0;32mTrue\u001b[0m\u001b[0;34m:\u001b[0m\u001b[0;34m\u001b[0m\u001b[0;34m\u001b[0m\u001b[0m\n\u001b[1;32m    703\u001b[0m             \u001b[0;32mtry\u001b[0m\u001b[0;34m:\u001b[0m\u001b[0;34m\u001b[0m\u001b[0;34m\u001b[0m\u001b[0m\n\u001b[0;32m--> 704\u001b[0;31m                 \u001b[0;32mreturn\u001b[0m \u001b[0mself\u001b[0m\u001b[0;34m.\u001b[0m\u001b[0m_sock\u001b[0m\u001b[0;34m.\u001b[0m\u001b[0mrecv_into\u001b[0m\u001b[0;34m(\u001b[0m\u001b[0mb\u001b[0m\u001b[0;34m)\u001b[0m\u001b[0;34m\u001b[0m\u001b[0;34m\u001b[0m\u001b[0m\n\u001b[0m\u001b[1;32m    705\u001b[0m             \u001b[0;32mexcept\u001b[0m \u001b[0mtimeout\u001b[0m\u001b[0;34m:\u001b[0m\u001b[0;34m\u001b[0m\u001b[0;34m\u001b[0m\u001b[0m\n\u001b[1;32m    706\u001b[0m                 \u001b[0mself\u001b[0m\u001b[0;34m.\u001b[0m\u001b[0m_timeout_occurred\u001b[0m \u001b[0;34m=\u001b[0m \u001b[0;32mTrue\u001b[0m\u001b[0;34m\u001b[0m\u001b[0;34m\u001b[0m\u001b[0m\n",
      "\u001b[0;32m/opt/homebrew/anaconda3/envs/condaenv/lib/python3.9/ssl.py\u001b[0m in \u001b[0;36mrecv_into\u001b[0;34m(self, buffer, nbytes, flags)\u001b[0m\n\u001b[1;32m   1239\u001b[0m                   \u001b[0;34m\"non-zero flags not allowed in calls to recv_into() on %s\"\u001b[0m \u001b[0;34m%\u001b[0m\u001b[0;34m\u001b[0m\u001b[0;34m\u001b[0m\u001b[0m\n\u001b[1;32m   1240\u001b[0m                   self.__class__)\n\u001b[0;32m-> 1241\u001b[0;31m             \u001b[0;32mreturn\u001b[0m \u001b[0mself\u001b[0m\u001b[0;34m.\u001b[0m\u001b[0mread\u001b[0m\u001b[0;34m(\u001b[0m\u001b[0mnbytes\u001b[0m\u001b[0;34m,\u001b[0m \u001b[0mbuffer\u001b[0m\u001b[0;34m)\u001b[0m\u001b[0;34m\u001b[0m\u001b[0;34m\u001b[0m\u001b[0m\n\u001b[0m\u001b[1;32m   1242\u001b[0m         \u001b[0;32melse\u001b[0m\u001b[0;34m:\u001b[0m\u001b[0;34m\u001b[0m\u001b[0;34m\u001b[0m\u001b[0m\n\u001b[1;32m   1243\u001b[0m             \u001b[0;32mreturn\u001b[0m \u001b[0msuper\u001b[0m\u001b[0;34m(\u001b[0m\u001b[0;34m)\u001b[0m\u001b[0;34m.\u001b[0m\u001b[0mrecv_into\u001b[0m\u001b[0;34m(\u001b[0m\u001b[0mbuffer\u001b[0m\u001b[0;34m,\u001b[0m \u001b[0mnbytes\u001b[0m\u001b[0;34m,\u001b[0m \u001b[0mflags\u001b[0m\u001b[0;34m)\u001b[0m\u001b[0;34m\u001b[0m\u001b[0;34m\u001b[0m\u001b[0m\n",
      "\u001b[0;32m/opt/homebrew/anaconda3/envs/condaenv/lib/python3.9/ssl.py\u001b[0m in \u001b[0;36mread\u001b[0;34m(self, len, buffer)\u001b[0m\n\u001b[1;32m   1097\u001b[0m         \u001b[0;32mtry\u001b[0m\u001b[0;34m:\u001b[0m\u001b[0;34m\u001b[0m\u001b[0;34m\u001b[0m\u001b[0m\n\u001b[1;32m   1098\u001b[0m             \u001b[0;32mif\u001b[0m \u001b[0mbuffer\u001b[0m \u001b[0;32mis\u001b[0m \u001b[0;32mnot\u001b[0m \u001b[0;32mNone\u001b[0m\u001b[0;34m:\u001b[0m\u001b[0;34m\u001b[0m\u001b[0;34m\u001b[0m\u001b[0m\n\u001b[0;32m-> 1099\u001b[0;31m                 \u001b[0;32mreturn\u001b[0m \u001b[0mself\u001b[0m\u001b[0;34m.\u001b[0m\u001b[0m_sslobj\u001b[0m\u001b[0;34m.\u001b[0m\u001b[0mread\u001b[0m\u001b[0;34m(\u001b[0m\u001b[0mlen\u001b[0m\u001b[0;34m,\u001b[0m \u001b[0mbuffer\u001b[0m\u001b[0;34m)\u001b[0m\u001b[0;34m\u001b[0m\u001b[0;34m\u001b[0m\u001b[0m\n\u001b[0m\u001b[1;32m   1100\u001b[0m             \u001b[0;32melse\u001b[0m\u001b[0;34m:\u001b[0m\u001b[0;34m\u001b[0m\u001b[0;34m\u001b[0m\u001b[0m\n\u001b[1;32m   1101\u001b[0m                 \u001b[0;32mreturn\u001b[0m \u001b[0mself\u001b[0m\u001b[0;34m.\u001b[0m\u001b[0m_sslobj\u001b[0m\u001b[0;34m.\u001b[0m\u001b[0mread\u001b[0m\u001b[0;34m(\u001b[0m\u001b[0mlen\u001b[0m\u001b[0;34m)\u001b[0m\u001b[0;34m\u001b[0m\u001b[0;34m\u001b[0m\u001b[0m\n",
      "\u001b[0;31mKeyboardInterrupt\u001b[0m: "
     ]
    }
   ],
   "source": [
    "# train, test = datasets.AmazonReviewFull()"
   ]
  },
  {
   "cell_type": "markdown",
   "id": "extended-nicholas",
   "metadata": {},
   "source": [
    "### Exercises\n",
    "\n",
    "- Create a real training process: use the train, val, test split for the dataset\n",
    "- Create a training loop that includes validation and test at the end\n",
    "    - You can borrow from your previous work, no need to write it from scratch\n",
    "- If you want to, feel free to change dataset\n"
   ]
  }
 ],
 "metadata": {
  "kernelspec": {
   "display_name": "Python 3",
   "language": "python",
   "name": "python3"
  },
  "language_info": {
   "codemirror_mode": {
    "name": "ipython",
    "version": 3
   },
   "file_extension": ".py",
   "mimetype": "text/x-python",
   "name": "python",
   "nbconvert_exporter": "python",
   "pygments_lexer": "ipython3",
   "version": "3.9.5"
  },
  "varInspector": {
   "cols": {
    "lenName": 16,
    "lenType": 16,
    "lenVar": 40
   },
   "kernels_config": {
    "python": {
     "delete_cmd_postfix": "",
     "delete_cmd_prefix": "del ",
     "library": "var_list.py",
     "varRefreshCmd": "print(var_dic_list())"
    },
    "r": {
     "delete_cmd_postfix": ") ",
     "delete_cmd_prefix": "rm(",
     "library": "var_list.r",
     "varRefreshCmd": "cat(var_dic_list()) "
    }
   },
   "types_to_exclude": [
    "module",
    "function",
    "builtin_function_or_method",
    "instance",
    "_Feature"
   ],
   "window_display": false
  }
 },
 "nbformat": 4,
 "nbformat_minor": 5
}
