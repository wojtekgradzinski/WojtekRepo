{
 "cells": [
  {
   "cell_type": "markdown",
   "metadata": {},
   "source": [
    "# MNIST Classifier\n",
    "\n",
    "In this notebook you will create both, an mnist tabular dataset and a classifier."
   ]
  },
  {
   "cell_type": "markdown",
   "metadata": {},
   "source": [
    "## 1.- import the Operating System (os) module in python and any other library you need"
   ]
  },
  {
   "cell_type": "code",
   "execution_count": 79,
   "metadata": {},
   "outputs": [],
   "source": [
    "import PIL.Image\n",
    "import os\n",
    "import numpy as np\n",
    "import pandas as pd\n"
   ]
  },
  {
   "cell_type": "markdown",
   "metadata": {},
   "source": [
    "## 2.- As you can see each class has its own folder (Do it only for train). \n",
    "\n",
    "    - Iterate folder by folder ( os.listdir() )\n",
    "    - Inside each folder: \n",
    "        1.- Read the image\n",
    "        2.- Reshape it into a flat array (784,)\n",
    "        3.- Save the data into a pandas dataframe apending the column name as the class\n",
    "    - Save the data into a CSV\n",
    "\n",
    "    Note: if it takes to long try doing only 100 images per folder and the teacher for the CSV."
   ]
  },
  {
   "cell_type": "code",
   "execution_count": 4,
   "metadata": {},
   "outputs": [],
   "source": [
    "data = 'DATA'"
   ]
  },
  {
   "cell_type": "markdown",
   "metadata": {},
   "source": [
    "## 3.- Load the CSV"
   ]
  },
  {
   "cell_type": "code",
   "execution_count": 75,
   "metadata": {},
   "outputs": [
    {
     "name": "stdout",
     "output_type": "stream",
     "text": [
      "0\n",
      "1\n",
      "2\n",
      "3\n",
      "4\n",
      "5\n",
      "6\n",
      "7\n",
      "8\n",
      "9\n"
     ]
    }
   ],
   "source": [
    "for folder in os.listdir('data'):\n",
    "    # print (folder)\n",
    "    if folder == 'trainingSet':\n",
    "        for folder_inside in os.listdir (data +'/' + folder):\n",
    "            print (folder_inside)     \n",
    "        "
   ]
  },
  {
   "cell_type": "code",
   "execution_count": 111,
   "metadata": {},
   "outputs": [
    {
     "name": "stdout",
     "output_type": "stream",
     "text": [
      "(4132, 785)\n",
      "(4684, 785)\n",
      "(4177, 785)\n",
      "(4351, 785)\n",
      "(4072, 785)\n",
      "(3795, 785)\n",
      "(4137, 785)\n",
      "(4401, 785)\n",
      "(4063, 785)\n",
      "(4188, 785)\n",
      "(4188, 785)\n"
     ]
    }
   ],
   "source": [
    "data1 = pd.DataFrame ()\n",
    "\n",
    "for folder in os.listdir('data'):\n",
    "    if folder == 'trainingSet':\n",
    "    \n",
    "        for f in os.listdir (data + '/' + folder):\n",
    "            class_data = np.zeros ( (len(os.listdir (data + '/' + folder + '/' + f )), 785) )\n",
    "            print (class_data.shape)\n",
    "        \n",
    "            for i, img_name in enumerate (os.listdir (data + '/' + folder + '/' + f )):\n",
    "\n",
    "                img = PIL.Image.open (data + '/' + folder + '/' + f + '/' + img_name)\n",
    "                img_arr = np.array (img, dtype = int)\n",
    "                img_arr = img_arr.flatten()\n",
    "                \n",
    "                class_data [i, :784] = img_arr\n",
    "                class_data [i, 784]  = int (f)\n",
    "\n",
    "            class_data = pd.DataFrame (class_data)\n",
    "            data1 = pd.concat ([data1, class_data])\n",
    "            print(data1.shape)\n",
    "\n",
    "            \n",
    "data1.to_csv ('mnist.csv')\n"
   ]
  },
  {
   "cell_type": "code",
   "execution_count": 115,
   "metadata": {},
   "outputs": [
    {
     "name": "stdout",
     "output_type": "stream",
     "text": [
      "testSample\n",
      "testSet\n",
      "trainingSample\n",
      "trainingSet\n",
      "(4132, 785)\n",
      "(4132, 785)\n",
      "(4684, 785)\n",
      "(8816, 785)\n",
      "(4177, 785)\n",
      "(12993, 785)\n",
      "(4351, 785)\n",
      "(17344, 785)\n",
      "(4072, 785)\n",
      "(21416, 785)\n",
      "(3795, 785)\n",
      "(25211, 785)\n",
      "(4137, 785)\n",
      "(29348, 785)\n",
      "(4401, 785)\n",
      "(33749, 785)\n",
      "(4063, 785)\n",
      "(37812, 785)\n",
      "(4188, 785)\n",
      "(42000, 785)\n"
     ]
    }
   ],
   "source": [
    "parent_dir = \"Data\"\n",
    "data = pd.DataFrame()\n",
    "for folder in os.listdir(parent_dir):\n",
    "\n",
    "    print(folder)\n",
    "\n",
    "    if folder == \"trainingSet\":\n",
    "        for f in os.listdir(parent_dir+\"/\"+folder):\n",
    "\n",
    "            class_data = np.zeros(  ( len(os.listdir(parent_dir+\"/\"+folder+\"/\"+f) ), 785) )\n",
    "            print(class_data.shape)\n",
    "\n",
    "            for i, img_name in enumerate(os.listdir(parent_dir+\"/\"+folder+\"/\"+f)):\n",
    "\n",
    "                img = PIL.Image.open(parent_dir+\"/\"+folder+\"/\"+f+\"/\"+img_name)\n",
    "                img_arr = np.array(img, dtype=int)\n",
    "                img_arr = img_arr.flatten()\n",
    "                class_data[i,:784] = img_arr\n",
    "                class_data[i,784] = int(f)\n",
    "\n",
    "            class_data = pd.DataFrame(class_data)\n",
    "            data = pd.concat([data, class_data])\n",
    "            print(data.shape)"
   ]
  },
  {
   "cell_type": "markdown",
   "metadata": {},
   "source": [
    "## 4.- Create a dictionary of models (No preprocessing needed, it has already been done).\n",
    "    \n",
    "    Include both, tree models and mult models."
   ]
  },
  {
   "cell_type": "code",
   "execution_count": 89,
   "metadata": {},
   "outputs": [],
   "source": [
    "import numpy    as np\n",
    "from numpy.testing._private.utils import decorate_methods\n",
    "import pandas   as pd\n",
    "import seaborn  as sb\n",
    "import matplotlib.pyplot as plt\n",
    "import sklearn  as skl\n",
    "import time\n",
    "\n",
    "from sklearn import pipeline      # Pipeline\n",
    "from sklearn import preprocessing # OrdinalEncoder, LabelEncoder\n",
    "from sklearn import impute\n",
    "from sklearn import compose\n",
    "from sklearn import model_selection # train_test_split\n",
    "from sklearn import metrics         # accuracy_score, balanced_accuracy_score, plot_confusion_matrix\n",
    "from sklearn import set_config\n",
    "\n",
    "from sklearn.tree          import DecisionTreeRegressor\n",
    "from sklearn.ensemble      import RandomForestRegressor\n",
    "from sklearn.ensemble      import ExtraTreesRegressor\n",
    "from sklearn.ensemble      import AdaBoostRegressor\n",
    "from sklearn.ensemble      import GradientBoostingRegressor\n",
    "from xgboost               import XGBRegressor\n",
    "from lightgbm              import LGBMRegressor\n",
    "from catboost              import CatBoostRegressor"
   ]
  },
  {
   "cell_type": "code",
   "execution_count": null,
   "metadata": {},
   "outputs": [],
   "source": [
    "tree_classifiers = {\n",
    "  \"Decision Tree\": DecisionTreeRegressor(),\n",
    "  \"Extra Trees\":   ExtraTreesRegressor(n_estimators=100),\n",
    "  \"Random Forest\": RandomForestRegressor(n_estimators=100),\n",
    "  \"AdaBoost\":      AdaBoostRegressor(n_estimators=100),\n",
    "  \"Skl GBM\":       GradientBoostingRegressor(n_estimators=100),\n",
    "  \"XGBoost\":       XGBRegressor(n_estimators=100),\n",
    "  \"LightGBM\":      LGBMRegressor(n_estimators=100),\n",
    "  \"CatBoost\":      CatBoostRegressor(n_estimators=100),\n",
    "}"
   ]
  },
  {
   "cell_type": "markdown",
   "metadata": {},
   "source": [
    "## 5.- Using either cross validation or stratification find out which is the best model\n",
    "    - Base your code on the previous two days examples"
   ]
  },
  {
   "cell_type": "code",
   "execution_count": 108,
   "metadata": {},
   "outputs": [
    {
     "data": {
      "text/plain": [
       "(8376, 785)"
      ]
     },
     "execution_count": 108,
     "metadata": {},
     "output_type": "execute_result"
    }
   ],
   "source": [
    "df = pd.read_csv ('mnist.csv', index_col=0)\n",
    "df.shape"
   ]
  },
  {
   "cell_type": "code",
   "execution_count": null,
   "metadata": {},
   "outputs": [],
   "source": [
    "x_train, x_test, y_train, y_test = model_seection.train_test_split (x , )"
   ]
  },
  {
   "cell_type": "markdown",
   "metadata": {},
   "source": [
    "## Optional: Can you rotate an image?"
   ]
  },
  {
   "cell_type": "code",
   "execution_count": null,
   "metadata": {},
   "outputs": [],
   "source": []
  }
 ],
 "metadata": {
  "interpreter": {
   "hash": "ac01c5efbd5180fc3f6912ceaf7ad74947631d05541cb808706bfb8a780458b5"
  },
  "kernelspec": {
   "display_name": "Python 3",
   "language": "python",
   "name": "python3"
  },
  "language_info": {
   "codemirror_mode": {
    "name": "ipython",
    "version": 3
   },
   "file_extension": ".py",
   "mimetype": "text/x-python",
   "name": "python",
   "nbconvert_exporter": "python",
   "pygments_lexer": "ipython3",
   "version": "3.9.5"
  }
 },
 "nbformat": 4,
 "nbformat_minor": 2
}
