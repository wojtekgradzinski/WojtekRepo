{
 "cells": [
  {
   "cell_type": "code",
   "execution_count": 49,
   "source": [
    "import os\r\n",
    "import time\r\n",
    "from PIL import Image\r\n",
    "from IPython.display import clear_output\r\n",
    "import numpy    as np\r\n",
    "import pandas   as pd\r\n",
    "import seaborn  as sb\r\n",
    "import matplotlib.pyplot as plt\r\n",
    "import sklearn  as skl\r\n",
    "\r\n",
    "from sklearn import pipeline      # Pipeline\r\n",
    "from sklearn import preprocessing # OrdinalEncoder, LabelEncoder\r\n",
    "from sklearn import impute\r\n",
    "from sklearn import compose\r\n",
    "from sklearn import model_selection # train_test_split\r\n",
    "from sklearn import metrics         # accuracy_score, balanced_accuracy_score, plot_confusion_matrix\r\n",
    "from sklearn import set_config\r\n",
    "from sklearn.tree          import DecisionTreeClassifier\r\n",
    "from sklearn.ensemble      import RandomForestClassifier\r\n",
    "from sklearn.ensemble      import ExtraTreesClassifier\r\n",
    "from sklearn.ensemble      import AdaBoostClassifier\r\n",
    "from sklearn.ensemble      import GradientBoostingClassifier\r\n",
    "from sklearn.experimental  import enable_hist_gradient_boosting # Necesary for HistGradientBoostingClassifier\r\n",
    "from sklearn.ensemble      import HistGradientBoostingClassifier\r\n",
    "from xgboost               import XGBClassifier\r\n",
    "from lightgbm              import LGBMClassifier\r\n",
    "from catboost              import CatBoostClassifier\r\n",
    "from tqdm import tqdm"
   ],
   "outputs": [],
   "metadata": {}
  },
  {
   "cell_type": "code",
   "execution_count": 40,
   "source": [
    "#for loop for pictures\r\n",
    "path = 'dataset2'\r\n",
    "\r\n",
    "\r\n",
    "dict = { 'cl': 0, 'ra':1, 'sh':2 ,'su':3} #labels\r\n",
    "Data = np.zeros((len(os.listdir(path)),256*256*3+1)) # add 1 to create labels(y)\r\n",
    "\r\n",
    "count = 0\r\n",
    "for i,img in enumerate(os.listdir(path)):\r\n",
    "    image = Image.open(path + '/' + img)\r\n",
    "    #print(image.size)\r\n",
    "    image = image.resize((256,256))\r\n",
    "    arr = np.array(image, float)\r\n",
    "    #print(arr.shape)\r\n",
    "    arr = arr.flatten()\r\n",
    "    #print(arr.shape)\r\n",
    "    Data[i,0] = dict[img[:2]]\r\n",
    "    if arr.size != 256*256*3:\r\n",
    "        count += 1\r\n",
    "        continue\r\n",
    "        \r\n",
    "    Data[i,1:] = arr       \r\n"
   ],
   "outputs": [],
   "metadata": {}
  },
  {
   "cell_type": "code",
   "execution_count": 42,
   "source": [
    "Data.shape"
   ],
   "outputs": [
    {
     "output_type": "execute_result",
     "data": {
      "text/plain": [
       "(1125, 196609)"
      ]
     },
     "metadata": {},
     "execution_count": 42
    }
   ],
   "metadata": {}
  },
  {
   "cell_type": "code",
   "execution_count": 45,
   "source": [
    "#defining our features and lables\r\n",
    "\r\n",
    "y = Data[:,0]\r\n",
    "x = Data[:,1:]\r\n"
   ],
   "outputs": [],
   "metadata": {}
  },
  {
   "cell_type": "code",
   "execution_count": 53,
   "source": [
    "tree_classifiers = {\r\n",
    "  \"Decision Tree\": DecisionTreeClassifier(),\r\n",
    "  \"Extra Trees\":   ExtraTreesClassifier(n_estimators=100),\r\n",
    "  \"Random Forest\": RandomForestClassifier(n_estimators=100),\r\n",
    "  \"AdaBoost\":      AdaBoostClassifier(n_estimators=100),\r\n",
    "  \"Skl GBM\":       GradientBoostingClassifier(n_estimators=100),\r\n",
    "  \"Skl HistGBM\":   HistGradientBoostingClassifier(max_iter=100),\r\n",
    "  \"XGBoost\":       XGBClassifier(n_estimators=100),\r\n",
    "  \"LightGBM\":      LGBMClassifier(n_estimators=100),\r\n",
    "  \"CatBoost\":      CatBoostClassifier(n_estimators=100),\r\n",
    "}"
   ],
   "outputs": [],
   "metadata": {}
  },
  {
   "cell_type": "code",
   "execution_count": 54,
   "source": [
    "from sklearn import model_selection\r\n",
    "x_train, x_val, y_train, y_val = model_selection.train_test_split(\r\n",
    "    x, y,\r\n",
    "    test_size=0.2,\r\n",
    "    stratify = y,   # ALWAYS RECOMMENDED FOR BETTER VALIDATION\r\n",
    "    random_state=4  # Recommended for reproducibility\r\n",
    ")\r\n",
    "\r\n",
    "\r\n",
    "results = pd.DataFrame({'Model': [], 'Accuracy': [], 'Bal Acc.': [], 'Time': []})\r\n",
    "\r\n",
    "\r\n",
    "for model_name, model in tqdm(tree_classifiers.items()):\r\n",
    "    \r\n",
    "    start_time = time.time()\r\n",
    "    model.fit(x_train, y_train)\r\n",
    "    total_time = time.time() - start_time\r\n",
    "        \r\n",
    "    pred = model.predict(x_val)\r\n",
    "    \r\n",
    "    results = results.append({\"Model\":    model_name,\r\n",
    "                              \"Accuracy\": metrics.accuracy_score(y_val, pred)*100,\r\n",
    "                              \"Bal Acc.\": metrics.balanced_accuracy_score(y_val, pred)*100,\r\n",
    "                              \"Time\":     total_time},\r\n",
    "                              ignore_index=True)\r\n",
    "### END SOLUTION\r\n",
    "\r\n",
    "\r\n",
    "results_ord = results.sort_values(by=['Accuracy'], ascending=False, ignore_index=True)\r\n",
    "results_ord.index += 1 \r\n",
    "print(results_ord)\r\n",
    "\r\n"
   ],
   "outputs": [
    {
     "output_type": "stream",
     "name": "stderr",
     "text": [
      " 44%|████▍     | 4/9 [28:20<53:24, 640.81s/it]"
     ]
    }
   ],
   "metadata": {}
  }
 ],
 "metadata": {
  "orig_nbformat": 4,
  "language_info": {
   "name": "python",
   "version": "3.8.10",
   "mimetype": "text/x-python",
   "codemirror_mode": {
    "name": "ipython",
    "version": 3
   },
   "pygments_lexer": "ipython3",
   "nbconvert_exporter": "python",
   "file_extension": ".py"
  },
  "kernelspec": {
   "name": "python3",
   "display_name": "Python 3.8.10 64-bit ('dl': conda)"
  },
  "interpreter": {
   "hash": "6afb89b99e84bee04d6330a29f1bb71213540d48d5fe88c31e05e7f9706c13f1"
  }
 },
 "nbformat": 4,
 "nbformat_minor": 2
}