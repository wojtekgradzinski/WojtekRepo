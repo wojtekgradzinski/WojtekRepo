{
 "metadata": {
  "language_info": {
   "codemirror_mode": {
    "name": "ipython",
    "version": 3
   },
   "file_extension": ".py",
   "mimetype": "text/x-python",
   "name": "python",
   "nbconvert_exporter": "python",
   "pygments_lexer": "ipython3",
   "version": "3.8.10"
  },
  "orig_nbformat": 4,
  "kernelspec": {
   "name": "python3",
   "display_name": "Python 3.8.10 64-bit ('dl': conda)"
  },
  "interpreter": {
   "hash": "6afb89b99e84bee04d6330a29f1bb71213540d48d5fe88c31e05e7f9706c13f1"
  }
 },
 "nbformat": 4,
 "nbformat_minor": 2,
 "cells": [
  {
   "source": [
    "# MNIST Classifier\n",
    "\n",
    "In this notebook you will create both, an mnist tabular dataset and a classifier."
   ],
   "cell_type": "markdown",
   "metadata": {}
  },
  {
   "source": [
    "## 1.- import the Operating System (os) module in python and any other library you need"
   ],
   "cell_type": "markdown",
   "metadata": {}
  },
  {
   "cell_type": "code",
   "execution_count": 20,
   "metadata": {},
   "outputs": [],
   "source": [
    "import numpy as np \n",
    "from PIL import Image\n",
    "import os\n",
    "import pandas as pd "
   ]
  },
  {
   "source": [
    "## 2.- As you can see each class has its own folder (Do it only for train). \n",
    "\n",
    "    - Iterate folder by folder ( os.listdir() )\n",
    "    - Inside each folder: \n",
    "        1.- Read the image\n",
    "        2.- Reshape it into a flat array (784,)\n",
    "        3.- Save the data into a pandas dataframe apending the column name as the class\n",
    "    - Save the data into a CSV\n",
    "\n",
    "    Note: if it takes to long try doing only 100 images per folder and the teacher for the CSV."
   ],
   "cell_type": "markdown",
   "metadata": {}
  },
  {
   "cell_type": "code",
   "execution_count": 21,
   "metadata": {
    "tags": []
   },
   "outputs": [
    {
     "output_type": "stream",
     "name": "stdout",
     "text": [
      "0\n",
      "(4132, 785)\n",
      "1\n",
      "(4684, 785)\n",
      "2\n",
      "(4177, 785)\n",
      "3\n",
      "(4351, 785)\n",
      "4\n",
      "(4072, 785)\n",
      "5\n",
      "(3795, 785)\n",
      "6\n",
      "(4137, 785)\n",
      "7\n",
      "(4401, 785)\n",
      "8\n",
      "(4063, 785)\n",
      "9\n",
      "(4188, 785)\n"
     ]
    }
   ],
   "source": [
    "path = 'trainingSet'\n",
    "\n",
    "for folder in  os.listdir(path):\n",
    "    class_data = np.zeros((len(os.listdir(path+'/'+ folder)),785) )\n",
    "    print(folder)\n",
    "    if folder == '0':\n",
    "        for i, img in enumerate(os.listdir(path+'/'+ folder)):\n",
    "            img =Image.open(path+'/'+ folder +'/'+ img)\n",
    "            img_arr = np.array(img, dtype=int)\n",
    "            img_arr = img_arr.flatten()\n",
    "            \n",
    "          \n",
    "    print(class_data.shape)            \n",
    "\n",
    "df = pd.DataFrame(class_data)\n",
    "df.to_csv('mnist.csv')\n"
   ]
  },
  {
   "cell_type": "code",
   "execution_count": 23,
   "metadata": {},
   "outputs": [
    {
     "output_type": "stream",
     "name": "stdout",
     "text": [
      "Help on built-in function zeros in module numpy:\n\nzeros(...)\n    zeros(shape, dtype=float, order='C', *, like=None)\n    \n    Return a new array of given shape and type, filled with zeros.\n    \n    Parameters\n    ----------\n    shape : int or tuple of ints\n        Shape of the new array, e.g., ``(2, 3)`` or ``2``.\n    dtype : data-type, optional\n        The desired data-type for the array, e.g., `numpy.int8`.  Default is\n        `numpy.float64`.\n    order : {'C', 'F'}, optional, default: 'C'\n        Whether to store multi-dimensional data in row-major\n        (C-style) or column-major (Fortran-style) order in\n        memory.\n    like : array_like\n        Reference object to allow the creation of arrays which are not\n        NumPy arrays. If an array-like passed in as ``like`` supports\n        the ``__array_function__`` protocol, the result will be defined\n        by it. In this case, it ensures the creation of an array object\n        compatible with that passed in via this argument.\n    \n        .. note::\n            The ``like`` keyword is an experimental feature pending on\n            acceptance of :ref:`NEP 35 <NEP35>`.\n    \n        .. versionadded:: 1.20.0\n    \n    Returns\n    -------\n    out : ndarray\n        Array of zeros with the given shape, dtype, and order.\n    \n    See Also\n    --------\n    zeros_like : Return an array of zeros with shape and type of input.\n    empty : Return a new uninitialized array.\n    ones : Return a new array setting values to one.\n    full : Return a new array of given shape filled with value.\n    \n    Examples\n    --------\n    >>> np.zeros(5)\n    array([ 0.,  0.,  0.,  0.,  0.])\n    \n    >>> np.zeros((5,), dtype=int)\n    array([0, 0, 0, 0, 0])\n    \n    >>> np.zeros((2, 1))\n    array([[ 0.],\n           [ 0.]])\n    \n    >>> s = (2,2)\n    >>> np.zeros(s)\n    array([[ 0.,  0.],\n           [ 0.,  0.]])\n    \n    >>> np.zeros((2,), dtype=[('x', 'i4'), ('y', 'i4')]) # custom dtype\n    array([(0, 0), (0, 0)],\n          dtype=[('x', '<i4'), ('y', '<i4')])\n\n"
     ]
    }
   ],
   "source": [
    "help(np.zeros)"
   ]
  },
  {
   "cell_type": "code",
   "execution_count": 25,
   "metadata": {},
   "outputs": [
    {
     "output_type": "execute_result",
     "data": {
      "text/plain": [
       "4188"
      ]
     },
     "metadata": {},
     "execution_count": 25
    }
   ],
   "source": [
    "len(os.listdir(path+'/'+ folder))"
   ]
  },
  {
   "source": [
    "## 3.- Load the CSV"
   ],
   "cell_type": "markdown",
   "metadata": {}
  },
  {
   "cell_type": "code",
   "execution_count": null,
   "metadata": {},
   "outputs": [],
   "source": []
  },
  {
   "source": [
    "## 4.- Create a dictionary of models (No preprocessing needed, it has already been done).\n",
    "    \n",
    "    Include both, tree models and mult models."
   ],
   "cell_type": "markdown",
   "metadata": {}
  },
  {
   "cell_type": "code",
   "execution_count": null,
   "metadata": {},
   "outputs": [],
   "source": []
  },
  {
   "source": [
    "## 5.- Using either cross validation or stratification find out which is the best model\n",
    "    - Base your code on the previous two days examples"
   ],
   "cell_type": "markdown",
   "metadata": {}
  },
  {
   "source": [
    "## Optional: Can you rotate an image?"
   ],
   "cell_type": "markdown",
   "metadata": {}
  },
  {
   "cell_type": "code",
   "execution_count": null,
   "metadata": {},
   "outputs": [],
   "source": []
  }
 ]
}