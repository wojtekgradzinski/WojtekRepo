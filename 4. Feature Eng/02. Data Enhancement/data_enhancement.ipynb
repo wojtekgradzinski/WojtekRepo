{
 "metadata": {
  "language_info": {
   "codemirror_mode": {
    "name": "ipython",
    "version": 3
   },
   "file_extension": ".py",
   "mimetype": "text/x-python",
   "name": "python",
   "nbconvert_exporter": "python",
   "pygments_lexer": "ipython3",
   "version": "3.8.10"
  },
  "orig_nbformat": 4,
  "kernelspec": {
   "name": "python3",
   "display_name": "Python 3.8.10 64-bit ('dl': conda)"
  },
  "interpreter": {
   "hash": "6afb89b99e84bee04d6330a29f1bb71213540d48d5fe88c31e05e7f9706c13f1"
  }
 },
 "nbformat": 4,
 "nbformat_minor": 2,
 "cells": [
  {
   "cell_type": "code",
   "execution_count": 1,
   "metadata": {},
   "outputs": [],
   "source": [
    "\n",
    "import pandas as pd\n",
    "import numpy as np\n",
    "import os\n",
    "import matplotlib.pyplot as plt\n",
    "plt.style.use(style='seaborn')\n",
    "%matplotlib inline\n",
    "import time\n",
    "\n",
    "from IPython.display import clear_output\n",
    "import numpy    as np\n",
    "import pandas   as pd\n",
    "import seaborn  as sb\n",
    "import matplotlib.pyplot as plt\n",
    "import sklearn  as skl\n",
    "\n",
    "from sklearn import pipeline      # Pipeline\n",
    "from sklearn import preprocessing # OrdinalEncoder, LabelEncoder\n",
    "from sklearn import impute\n",
    "from sklearn import compose\n",
    "from sklearn import model_selection # train_test_split\n",
    "from sklearn import metrics         # accuracy_score, balanced_accuracy_score, plot_confusion_matrix\n",
    "from sklearn import set_config\n",
    "\n",
    "from sklearn.tree          import DecisionTreeClassifier\n",
    "from sklearn.ensemble      import RandomForestClassifier\n",
    "from sklearn.ensemble      import ExtraTreesClassifier\n",
    "from sklearn.ensemble      import AdaBoostClassifier\n",
    "from sklearn.ensemble      import GradientBoostingClassifier\n",
    "from sklearn.experimental  import enable_hist_gradient_boosting # Necesary for HistGradientBoostingClassifier\n",
    "from sklearn.ensemble      import HistGradientBoostingClassifier\n",
    "from xgboost               import XGBClassifier\n",
    "from lightgbm              import LGBMClassifier\n",
    "from catboost              import CatBoostClassifier\n",
    "\n",
    "from sklearn.linear_model import LinearRegression\n",
    "from sklearn.linear_model import LogisticRegression\n",
    "from sklearn.linear_model import Ridge\n",
    "from sklearn import linear_model #for lasso\n",
    "from sklearn.model_selection import cross_val_predict\n",
    "from sklearn import model_selection \n"
   ]
  },
  {
   "cell_type": "code",
   "execution_count": 2,
   "metadata": {},
   "outputs": [],
   "source": [
    "df = pd.read_csv('./Data/london_merged.csv')"
   ]
  },
  {
   "cell_type": "code",
   "execution_count": 3,
   "metadata": {},
   "outputs": [
    {
     "output_type": "execute_result",
     "data": {
      "text/plain": [
       "                 timestamp   cnt    t1    t2   hum  wind_speed  weather_code  \\\n",
       "5598   2015-08-25 21:00:00   834  18.0  18.0  78.0        24.0           2.0   \n",
       "5678   2015-08-29 05:00:00   126  16.0  16.0  80.0         6.5           1.0   \n",
       "8714   2016-01-03 23:00:00   140   8.0   6.5  87.0         9.0           1.0   \n",
       "12092  2016-05-24 17:00:00  3982  16.0  16.0  48.0        24.0           2.0   \n",
       "13195  2016-07-10 07:00:00   237  19.0  19.0  80.5        20.0           4.0   \n",
       "\n",
       "       is_holiday  is_weekend  season  \n",
       "5598          0.0         0.0     1.0  \n",
       "5678          0.0         1.0     1.0  \n",
       "8714          0.0         1.0     3.0  \n",
       "12092         0.0         0.0     0.0  \n",
       "13195         0.0         1.0     1.0  "
      ],
      "text/html": "<div>\n<style scoped>\n    .dataframe tbody tr th:only-of-type {\n        vertical-align: middle;\n    }\n\n    .dataframe tbody tr th {\n        vertical-align: top;\n    }\n\n    .dataframe thead th {\n        text-align: right;\n    }\n</style>\n<table border=\"1\" class=\"dataframe\">\n  <thead>\n    <tr style=\"text-align: right;\">\n      <th></th>\n      <th>timestamp</th>\n      <th>cnt</th>\n      <th>t1</th>\n      <th>t2</th>\n      <th>hum</th>\n      <th>wind_speed</th>\n      <th>weather_code</th>\n      <th>is_holiday</th>\n      <th>is_weekend</th>\n      <th>season</th>\n    </tr>\n  </thead>\n  <tbody>\n    <tr>\n      <th>5598</th>\n      <td>2015-08-25 21:00:00</td>\n      <td>834</td>\n      <td>18.0</td>\n      <td>18.0</td>\n      <td>78.0</td>\n      <td>24.0</td>\n      <td>2.0</td>\n      <td>0.0</td>\n      <td>0.0</td>\n      <td>1.0</td>\n    </tr>\n    <tr>\n      <th>5678</th>\n      <td>2015-08-29 05:00:00</td>\n      <td>126</td>\n      <td>16.0</td>\n      <td>16.0</td>\n      <td>80.0</td>\n      <td>6.5</td>\n      <td>1.0</td>\n      <td>0.0</td>\n      <td>1.0</td>\n      <td>1.0</td>\n    </tr>\n    <tr>\n      <th>8714</th>\n      <td>2016-01-03 23:00:00</td>\n      <td>140</td>\n      <td>8.0</td>\n      <td>6.5</td>\n      <td>87.0</td>\n      <td>9.0</td>\n      <td>1.0</td>\n      <td>0.0</td>\n      <td>1.0</td>\n      <td>3.0</td>\n    </tr>\n    <tr>\n      <th>12092</th>\n      <td>2016-05-24 17:00:00</td>\n      <td>3982</td>\n      <td>16.0</td>\n      <td>16.0</td>\n      <td>48.0</td>\n      <td>24.0</td>\n      <td>2.0</td>\n      <td>0.0</td>\n      <td>0.0</td>\n      <td>0.0</td>\n    </tr>\n    <tr>\n      <th>13195</th>\n      <td>2016-07-10 07:00:00</td>\n      <td>237</td>\n      <td>19.0</td>\n      <td>19.0</td>\n      <td>80.5</td>\n      <td>20.0</td>\n      <td>4.0</td>\n      <td>0.0</td>\n      <td>1.0</td>\n      <td>1.0</td>\n    </tr>\n  </tbody>\n</table>\n</div>"
     },
     "metadata": {},
     "execution_count": 3
    }
   ],
   "source": [
    "df.sample(5)"
   ]
  },
  {
   "cell_type": "code",
   "execution_count": 6,
   "metadata": {},
   "outputs": [
    {
     "output_type": "execute_result",
     "data": {
      "text/plain": [
       "        cnt    t1         t2   hum  wind_speed  weather_code  is_holiday  \\\n",
       "13587  2161  22.5  22.845463  48.5   22.720196           2.0         0.0   \n",
       "12059  4640  13.5  13.500000  65.0   18.000000           1.0         0.0   \n",
       "15017   106  13.0  14.776477  77.0   11.921506           1.0         0.0   \n",
       "9372    260   7.0   5.000000  90.0   10.000000           7.0         0.0   \n",
       "5111   1638  21.0  21.000000  50.0   16.000000           1.0         0.0   \n",
       "11547   363  11.0  12.083467  77.0   19.223932           4.0         1.0   \n",
       "14497   824  18.0  19.773970  68.0   32.419467           3.0         0.0   \n",
       "2051   1053  11.5  13.223148  35.0   26.885107           1.0         0.0   \n",
       "9984    105   0.0  -3.000000  83.5    9.000000           1.0         0.0   \n",
       "6065   1386  16.0  17.350030  61.0   40.468309           2.0         0.0   \n",
       "\n",
       "       is_weekend  season  year month hour  \n",
       "13587         0.0     1.0  2016    07   15  \n",
       "12059         0.0     0.0  2016    05   08  \n",
       "15017         0.0     2.0  2016    09   01  \n",
       "9372          1.0     3.0  2016    01   09  \n",
       "5111          0.0     1.0  2015    08   14  \n",
       "11547         0.0     0.0  2016    05   00  \n",
       "14497         1.0     2.0  2016    09   09  \n",
       "2051          0.0     0.0  2015    03   14  \n",
       "9984          0.0     3.0  2016    02   05  \n",
       "6065          0.0     2.0  2015    09   16  "
      ],
      "text/html": "<div>\n<style scoped>\n    .dataframe tbody tr th:only-of-type {\n        vertical-align: middle;\n    }\n\n    .dataframe tbody tr th {\n        vertical-align: top;\n    }\n\n    .dataframe thead th {\n        text-align: right;\n    }\n</style>\n<table border=\"1\" class=\"dataframe\">\n  <thead>\n    <tr style=\"text-align: right;\">\n      <th></th>\n      <th>cnt</th>\n      <th>t1</th>\n      <th>t2</th>\n      <th>hum</th>\n      <th>wind_speed</th>\n      <th>weather_code</th>\n      <th>is_holiday</th>\n      <th>is_weekend</th>\n      <th>season</th>\n      <th>year</th>\n      <th>month</th>\n      <th>hour</th>\n    </tr>\n  </thead>\n  <tbody>\n    <tr>\n      <th>13587</th>\n      <td>2161</td>\n      <td>22.5</td>\n      <td>22.845463</td>\n      <td>48.5</td>\n      <td>22.720196</td>\n      <td>2.0</td>\n      <td>0.0</td>\n      <td>0.0</td>\n      <td>1.0</td>\n      <td>2016</td>\n      <td>07</td>\n      <td>15</td>\n    </tr>\n    <tr>\n      <th>12059</th>\n      <td>4640</td>\n      <td>13.5</td>\n      <td>13.500000</td>\n      <td>65.0</td>\n      <td>18.000000</td>\n      <td>1.0</td>\n      <td>0.0</td>\n      <td>0.0</td>\n      <td>0.0</td>\n      <td>2016</td>\n      <td>05</td>\n      <td>08</td>\n    </tr>\n    <tr>\n      <th>15017</th>\n      <td>106</td>\n      <td>13.0</td>\n      <td>14.776477</td>\n      <td>77.0</td>\n      <td>11.921506</td>\n      <td>1.0</td>\n      <td>0.0</td>\n      <td>0.0</td>\n      <td>2.0</td>\n      <td>2016</td>\n      <td>09</td>\n      <td>01</td>\n    </tr>\n    <tr>\n      <th>9372</th>\n      <td>260</td>\n      <td>7.0</td>\n      <td>5.000000</td>\n      <td>90.0</td>\n      <td>10.000000</td>\n      <td>7.0</td>\n      <td>0.0</td>\n      <td>1.0</td>\n      <td>3.0</td>\n      <td>2016</td>\n      <td>01</td>\n      <td>09</td>\n    </tr>\n    <tr>\n      <th>5111</th>\n      <td>1638</td>\n      <td>21.0</td>\n      <td>21.000000</td>\n      <td>50.0</td>\n      <td>16.000000</td>\n      <td>1.0</td>\n      <td>0.0</td>\n      <td>0.0</td>\n      <td>1.0</td>\n      <td>2015</td>\n      <td>08</td>\n      <td>14</td>\n    </tr>\n    <tr>\n      <th>11547</th>\n      <td>363</td>\n      <td>11.0</td>\n      <td>12.083467</td>\n      <td>77.0</td>\n      <td>19.223932</td>\n      <td>4.0</td>\n      <td>1.0</td>\n      <td>0.0</td>\n      <td>0.0</td>\n      <td>2016</td>\n      <td>05</td>\n      <td>00</td>\n    </tr>\n    <tr>\n      <th>14497</th>\n      <td>824</td>\n      <td>18.0</td>\n      <td>19.773970</td>\n      <td>68.0</td>\n      <td>32.419467</td>\n      <td>3.0</td>\n      <td>0.0</td>\n      <td>1.0</td>\n      <td>2.0</td>\n      <td>2016</td>\n      <td>09</td>\n      <td>09</td>\n    </tr>\n    <tr>\n      <th>2051</th>\n      <td>1053</td>\n      <td>11.5</td>\n      <td>13.223148</td>\n      <td>35.0</td>\n      <td>26.885107</td>\n      <td>1.0</td>\n      <td>0.0</td>\n      <td>0.0</td>\n      <td>0.0</td>\n      <td>2015</td>\n      <td>03</td>\n      <td>14</td>\n    </tr>\n    <tr>\n      <th>9984</th>\n      <td>105</td>\n      <td>0.0</td>\n      <td>-3.000000</td>\n      <td>83.5</td>\n      <td>9.000000</td>\n      <td>1.0</td>\n      <td>0.0</td>\n      <td>0.0</td>\n      <td>3.0</td>\n      <td>2016</td>\n      <td>02</td>\n      <td>05</td>\n    </tr>\n    <tr>\n      <th>6065</th>\n      <td>1386</td>\n      <td>16.0</td>\n      <td>17.350030</td>\n      <td>61.0</td>\n      <td>40.468309</td>\n      <td>2.0</td>\n      <td>0.0</td>\n      <td>0.0</td>\n      <td>2.0</td>\n      <td>2015</td>\n      <td>09</td>\n      <td>16</td>\n    </tr>\n  </tbody>\n</table>\n</div>"
     },
     "metadata": {},
     "execution_count": 6
    }
   ],
   "source": [
    "new_df = df.copy()\n",
    "#adding 25% features to wind speed\n",
    "new_df['wind_speed'] = new_df.apply(lambda row: row['wind_speed'] + np.random.random_sample()*10, axis=1 )\n",
    "#adding 25% features to temp \n",
    "new_df['t2']  = new_df.apply(lambda row: row['t2'] + np.random.random_sample()*2, axis=1)\n",
    "\n",
    "df = df.append(new_df.sample(int(new_df.shape[0]/4)))\n",
    "\n",
    "#enhancing data\n",
    "df['year'] = df['timestamp'].apply(lambda row: row[:4])\n",
    "df['month'] = df['timestamp'].apply(lambda row: row[5:7])\n",
    "df['hour'] = df['timestamp'].apply(lambda row: row[11:13])\n",
    "\n",
    "df = df.drop(['timestamp'], axis =1)\n",
    "df.sample(10)"
   ]
  },
  {
   "cell_type": "code",
   "execution_count": 38,
   "metadata": {},
   "outputs": [
    {
     "output_type": "execute_result",
     "data": {
      "text/plain": [
       "array([3., 0., 1., 2.])"
      ]
     },
     "metadata": {},
     "execution_count": 38
    }
   ],
   "source": [
    "df['season'].unique()"
   ]
  },
  {
   "cell_type": "code",
   "execution_count": 14,
   "metadata": {},
   "outputs": [],
   "source": [
    "#generating data\n",
    "def data_enhancement(data):\n",
    "    \n",
    "    gen_data = df.copy()\n",
    "    for season in data['season'].unique():\n",
    "        seasonal_data = gen_data[ gen_data['season'] == season]\n",
    "        \n",
    "        t1_std   = seasonal_data['t1'].std()\n",
    "        t2_std   = seasonal_data['t2'].std()\n",
    "        hum_std  = seasonal_data['hum'].std()\n",
    "        wind_std = seasonal_data['wind_speed'].std()\n",
    "\n",
    "        for i in range(seasonal_data.shape[0]):\n",
    "            if np.random.randint(2) == 1: #losuje liczbe od 0 do 1  \n",
    "                seasonal_data['t1'].values[i] += t1_std\n",
    "            else:\n",
    "                seasonal_data['t1'].values[i] -= t1_std   \n",
    "\n",
    "            if np.random.randint(2) == 1:  \n",
    "                seasonal_data['t2'].values[i] += t2_std\n",
    "            else:\n",
    "                seasonal_data['t2'].values[i] -= t2_std   \n",
    "        \n",
    "            if np.random.randint(2) == 1:   \n",
    "                seasonal_data['hum'].values[i] += hum_std\n",
    "            else:\n",
    "                seasonal_data['hum'].values[i] -= hum_std\n",
    "\n",
    "            if np.random.randint(2) == 1:  \n",
    "                seasonal_data['wind_speed'].values[i] += wind_std\n",
    "            else:\n",
    "                seasonal_data['wind_speed'].values[i] -= wind_std\n",
    "        \n",
    "    return gen_data\n",
    "\n",
    "gen = data_enhancement(df)                         \n"
   ]
  },
  {
   "cell_type": "code",
   "execution_count": 15,
   "metadata": {},
   "outputs": [
    {
     "output_type": "execute_result",
     "data": {
      "text/plain": [
       "        cnt    t1         t2    hum  wind_speed  weather_code  is_holiday  \\\n",
       "0       182   3.0   2.000000   93.0    6.000000           3.0         0.0   \n",
       "1       138   3.0   2.500000   93.0    5.000000           1.0         0.0   \n",
       "2       134   2.5   2.500000   96.5    0.000000           1.0         0.0   \n",
       "3        72   2.0   2.000000  100.0    0.000000           1.0         0.0   \n",
       "4        47   2.0   0.000000   93.0    6.500000           1.0         0.0   \n",
       "...     ...   ...        ...    ...         ...           ...         ...   \n",
       "15592   240  11.0  11.879080   77.0   19.896267           1.0         0.0   \n",
       "12238  1442  17.0  17.692359   59.0   31.291870           2.0         1.0   \n",
       "5180   2299  22.5  25.781207   59.0   25.559170           2.0         0.0   \n",
       "13697   572  17.0  18.510319   66.0   17.847646           2.0         0.0   \n",
       "12517  1738  20.0  20.176230   66.5   14.660415           2.0         0.0   \n",
       "\n",
       "       is_weekend  season  year month hour  \n",
       "0             1.0     3.0  2015    01   00  \n",
       "1             1.0     3.0  2015    01   01  \n",
       "2             1.0     3.0  2015    01   02  \n",
       "3             1.0     3.0  2015    01   03  \n",
       "4             1.0     3.0  2015    01   04  \n",
       "...           ...     ...   ...   ...  ...  \n",
       "15592         0.0     2.0  2016    10   00  \n",
       "12238         0.0     0.0  2016    05   19  \n",
       "5180          1.0     1.0  2015    08   11  \n",
       "13697         1.0     1.0  2016    07   08  \n",
       "12517         1.0     1.0  2016    06   10  \n",
       "\n",
       "[34010 rows x 12 columns]"
      ],
      "text/html": "<div>\n<style scoped>\n    .dataframe tbody tr th:only-of-type {\n        vertical-align: middle;\n    }\n\n    .dataframe tbody tr th {\n        vertical-align: top;\n    }\n\n    .dataframe thead th {\n        text-align: right;\n    }\n</style>\n<table border=\"1\" class=\"dataframe\">\n  <thead>\n    <tr style=\"text-align: right;\">\n      <th></th>\n      <th>cnt</th>\n      <th>t1</th>\n      <th>t2</th>\n      <th>hum</th>\n      <th>wind_speed</th>\n      <th>weather_code</th>\n      <th>is_holiday</th>\n      <th>is_weekend</th>\n      <th>season</th>\n      <th>year</th>\n      <th>month</th>\n      <th>hour</th>\n    </tr>\n  </thead>\n  <tbody>\n    <tr>\n      <th>0</th>\n      <td>182</td>\n      <td>3.0</td>\n      <td>2.000000</td>\n      <td>93.0</td>\n      <td>6.000000</td>\n      <td>3.0</td>\n      <td>0.0</td>\n      <td>1.0</td>\n      <td>3.0</td>\n      <td>2015</td>\n      <td>01</td>\n      <td>00</td>\n    </tr>\n    <tr>\n      <th>1</th>\n      <td>138</td>\n      <td>3.0</td>\n      <td>2.500000</td>\n      <td>93.0</td>\n      <td>5.000000</td>\n      <td>1.0</td>\n      <td>0.0</td>\n      <td>1.0</td>\n      <td>3.0</td>\n      <td>2015</td>\n      <td>01</td>\n      <td>01</td>\n    </tr>\n    <tr>\n      <th>2</th>\n      <td>134</td>\n      <td>2.5</td>\n      <td>2.500000</td>\n      <td>96.5</td>\n      <td>0.000000</td>\n      <td>1.0</td>\n      <td>0.0</td>\n      <td>1.0</td>\n      <td>3.0</td>\n      <td>2015</td>\n      <td>01</td>\n      <td>02</td>\n    </tr>\n    <tr>\n      <th>3</th>\n      <td>72</td>\n      <td>2.0</td>\n      <td>2.000000</td>\n      <td>100.0</td>\n      <td>0.000000</td>\n      <td>1.0</td>\n      <td>0.0</td>\n      <td>1.0</td>\n      <td>3.0</td>\n      <td>2015</td>\n      <td>01</td>\n      <td>03</td>\n    </tr>\n    <tr>\n      <th>4</th>\n      <td>47</td>\n      <td>2.0</td>\n      <td>0.000000</td>\n      <td>93.0</td>\n      <td>6.500000</td>\n      <td>1.0</td>\n      <td>0.0</td>\n      <td>1.0</td>\n      <td>3.0</td>\n      <td>2015</td>\n      <td>01</td>\n      <td>04</td>\n    </tr>\n    <tr>\n      <th>...</th>\n      <td>...</td>\n      <td>...</td>\n      <td>...</td>\n      <td>...</td>\n      <td>...</td>\n      <td>...</td>\n      <td>...</td>\n      <td>...</td>\n      <td>...</td>\n      <td>...</td>\n      <td>...</td>\n      <td>...</td>\n    </tr>\n    <tr>\n      <th>15592</th>\n      <td>240</td>\n      <td>11.0</td>\n      <td>11.879080</td>\n      <td>77.0</td>\n      <td>19.896267</td>\n      <td>1.0</td>\n      <td>0.0</td>\n      <td>0.0</td>\n      <td>2.0</td>\n      <td>2016</td>\n      <td>10</td>\n      <td>00</td>\n    </tr>\n    <tr>\n      <th>12238</th>\n      <td>1442</td>\n      <td>17.0</td>\n      <td>17.692359</td>\n      <td>59.0</td>\n      <td>31.291870</td>\n      <td>2.0</td>\n      <td>1.0</td>\n      <td>0.0</td>\n      <td>0.0</td>\n      <td>2016</td>\n      <td>05</td>\n      <td>19</td>\n    </tr>\n    <tr>\n      <th>5180</th>\n      <td>2299</td>\n      <td>22.5</td>\n      <td>25.781207</td>\n      <td>59.0</td>\n      <td>25.559170</td>\n      <td>2.0</td>\n      <td>0.0</td>\n      <td>1.0</td>\n      <td>1.0</td>\n      <td>2015</td>\n      <td>08</td>\n      <td>11</td>\n    </tr>\n    <tr>\n      <th>13697</th>\n      <td>572</td>\n      <td>17.0</td>\n      <td>18.510319</td>\n      <td>66.0</td>\n      <td>17.847646</td>\n      <td>2.0</td>\n      <td>0.0</td>\n      <td>1.0</td>\n      <td>1.0</td>\n      <td>2016</td>\n      <td>07</td>\n      <td>08</td>\n    </tr>\n    <tr>\n      <th>12517</th>\n      <td>1738</td>\n      <td>20.0</td>\n      <td>20.176230</td>\n      <td>66.5</td>\n      <td>14.660415</td>\n      <td>2.0</td>\n      <td>0.0</td>\n      <td>1.0</td>\n      <td>1.0</td>\n      <td>2016</td>\n      <td>06</td>\n      <td>10</td>\n    </tr>\n  </tbody>\n</table>\n<p>34010 rows × 12 columns</p>\n</div>"
     },
     "metadata": {},
     "execution_count": 15
    }
   ],
   "source": [
    "gen"
   ]
  },
  {
   "cell_type": "code",
   "execution_count": 17,
   "metadata": {},
   "outputs": [
    {
     "output_type": "execute_result",
     "data": {
      "text/plain": [
       "['t1', 't2', 'hum', 'wind_speed']"
      ]
     },
     "metadata": {},
     "execution_count": 17
    }
   ],
   "source": [
    "cat_vars = ['weather_code', 'is_holiday','is_weekend','season','year','month']\n",
    "num_var = ['t1','t2','hum','wind_speed']\n",
    "num_var"
   ]
  },
  {
   "cell_type": "code",
   "execution_count": 28,
   "metadata": {},
   "outputs": [],
   "source": [
    "y = df['cnt']\n",
    "x = df.drop(['cnt'], axis=1)\n"
   ]
  },
  {
   "cell_type": "code",
   "execution_count": 36,
   "metadata": {},
   "outputs": [],
   "source": [
    "x_train, x_val , y_train, y_val = model_selection.train_test_split(x,y ,test_size = 0.2 , random_state = 0)\n",
    "\n",
    "#generating extar samples \n",
    "\n",
    "extra_sample = gen.sample(gen.shape[0] // 3 ) # generating 30% new data\n"
   ]
  },
  {
   "cell_type": "code",
   "execution_count": 37,
   "metadata": {},
   "outputs": [
    {
     "output_type": "execute_result",
     "data": {
      "text/plain": [
       "        cnt    t1         t2   hum  wind_speed  weather_code  is_holiday  \\\n",
       "8029    100  13.0  13.000000  79.5   25.000000           7.0         0.0   \n",
       "7451   1843  14.0  14.000000  77.0   18.000000           2.0         0.0   \n",
       "9749   1731   2.5   0.893120  84.0   16.618204           1.0         0.0   \n",
       "17219   231   5.0   2.609984  76.0   19.787003           1.0         1.0   \n",
       "8642    595   7.0   4.500000  76.0   16.500000           1.0         0.0   \n",
       "...     ...   ...        ...   ...         ...           ...         ...   \n",
       "6180   2808  17.0  17.000000  56.0    7.000000           2.0         0.0   \n",
       "2188   1496  10.0   9.667466  64.5   15.670036           3.0         0.0   \n",
       "6451   2045  15.0  15.000000  65.5   19.000000           1.0         0.0   \n",
       "4152   1372  23.0  23.000000  45.5   13.000000           1.0         0.0   \n",
       "4190    685  18.0  19.913684  73.0   14.093573           1.0         0.0   \n",
       "\n",
       "       is_weekend  season  year month hour  \n",
       "8029          1.0     3.0  2015    12   06  \n",
       "7451          0.0     2.0  2015    11   19  \n",
       "9749          0.0     3.0  2016    02   09  \n",
       "17219         0.0     3.0  2016    12   21  \n",
       "8642          0.0     3.0  2015    12   23  \n",
       "...           ...     ...   ...   ...  ...  \n",
       "6180          1.0     2.0  2015    09   12  \n",
       "2188          1.0     0.0  2015    04   12  \n",
       "6451          0.0     2.0  2015    09   19  \n",
       "4152          0.0     1.0  2015    06   11  \n",
       "4190          1.0     1.0  2015    06   01  \n",
       "\n",
       "[11336 rows x 12 columns]"
      ],
      "text/html": "<div>\n<style scoped>\n    .dataframe tbody tr th:only-of-type {\n        vertical-align: middle;\n    }\n\n    .dataframe tbody tr th {\n        vertical-align: top;\n    }\n\n    .dataframe thead th {\n        text-align: right;\n    }\n</style>\n<table border=\"1\" class=\"dataframe\">\n  <thead>\n    <tr style=\"text-align: right;\">\n      <th></th>\n      <th>cnt</th>\n      <th>t1</th>\n      <th>t2</th>\n      <th>hum</th>\n      <th>wind_speed</th>\n      <th>weather_code</th>\n      <th>is_holiday</th>\n      <th>is_weekend</th>\n      <th>season</th>\n      <th>year</th>\n      <th>month</th>\n      <th>hour</th>\n    </tr>\n  </thead>\n  <tbody>\n    <tr>\n      <th>8029</th>\n      <td>100</td>\n      <td>13.0</td>\n      <td>13.000000</td>\n      <td>79.5</td>\n      <td>25.000000</td>\n      <td>7.0</td>\n      <td>0.0</td>\n      <td>1.0</td>\n      <td>3.0</td>\n      <td>2015</td>\n      <td>12</td>\n      <td>06</td>\n    </tr>\n    <tr>\n      <th>7451</th>\n      <td>1843</td>\n      <td>14.0</td>\n      <td>14.000000</td>\n      <td>77.0</td>\n      <td>18.000000</td>\n      <td>2.0</td>\n      <td>0.0</td>\n      <td>0.0</td>\n      <td>2.0</td>\n      <td>2015</td>\n      <td>11</td>\n      <td>19</td>\n    </tr>\n    <tr>\n      <th>9749</th>\n      <td>1731</td>\n      <td>2.5</td>\n      <td>0.893120</td>\n      <td>84.0</td>\n      <td>16.618204</td>\n      <td>1.0</td>\n      <td>0.0</td>\n      <td>0.0</td>\n      <td>3.0</td>\n      <td>2016</td>\n      <td>02</td>\n      <td>09</td>\n    </tr>\n    <tr>\n      <th>17219</th>\n      <td>231</td>\n      <td>5.0</td>\n      <td>2.609984</td>\n      <td>76.0</td>\n      <td>19.787003</td>\n      <td>1.0</td>\n      <td>1.0</td>\n      <td>0.0</td>\n      <td>3.0</td>\n      <td>2016</td>\n      <td>12</td>\n      <td>21</td>\n    </tr>\n    <tr>\n      <th>8642</th>\n      <td>595</td>\n      <td>7.0</td>\n      <td>4.500000</td>\n      <td>76.0</td>\n      <td>16.500000</td>\n      <td>1.0</td>\n      <td>0.0</td>\n      <td>0.0</td>\n      <td>3.0</td>\n      <td>2015</td>\n      <td>12</td>\n      <td>23</td>\n    </tr>\n    <tr>\n      <th>...</th>\n      <td>...</td>\n      <td>...</td>\n      <td>...</td>\n      <td>...</td>\n      <td>...</td>\n      <td>...</td>\n      <td>...</td>\n      <td>...</td>\n      <td>...</td>\n      <td>...</td>\n      <td>...</td>\n      <td>...</td>\n    </tr>\n    <tr>\n      <th>6180</th>\n      <td>2808</td>\n      <td>17.0</td>\n      <td>17.000000</td>\n      <td>56.0</td>\n      <td>7.000000</td>\n      <td>2.0</td>\n      <td>0.0</td>\n      <td>1.0</td>\n      <td>2.0</td>\n      <td>2015</td>\n      <td>09</td>\n      <td>12</td>\n    </tr>\n    <tr>\n      <th>2188</th>\n      <td>1496</td>\n      <td>10.0</td>\n      <td>9.667466</td>\n      <td>64.5</td>\n      <td>15.670036</td>\n      <td>3.0</td>\n      <td>0.0</td>\n      <td>1.0</td>\n      <td>0.0</td>\n      <td>2015</td>\n      <td>04</td>\n      <td>12</td>\n    </tr>\n    <tr>\n      <th>6451</th>\n      <td>2045</td>\n      <td>15.0</td>\n      <td>15.000000</td>\n      <td>65.5</td>\n      <td>19.000000</td>\n      <td>1.0</td>\n      <td>0.0</td>\n      <td>0.0</td>\n      <td>2.0</td>\n      <td>2015</td>\n      <td>09</td>\n      <td>19</td>\n    </tr>\n    <tr>\n      <th>4152</th>\n      <td>1372</td>\n      <td>23.0</td>\n      <td>23.000000</td>\n      <td>45.5</td>\n      <td>13.000000</td>\n      <td>1.0</td>\n      <td>0.0</td>\n      <td>0.0</td>\n      <td>1.0</td>\n      <td>2015</td>\n      <td>06</td>\n      <td>11</td>\n    </tr>\n    <tr>\n      <th>4190</th>\n      <td>685</td>\n      <td>18.0</td>\n      <td>19.913684</td>\n      <td>73.0</td>\n      <td>14.093573</td>\n      <td>1.0</td>\n      <td>0.0</td>\n      <td>1.0</td>\n      <td>1.0</td>\n      <td>2015</td>\n      <td>06</td>\n      <td>01</td>\n    </tr>\n  </tbody>\n</table>\n<p>11336 rows × 12 columns</p>\n</div>"
     },
     "metadata": {},
     "execution_count": 37
    }
   ],
   "source": [
    "extra_sample"
   ]
  },
  {
   "cell_type": "code",
   "execution_count": 13,
   "metadata": {},
   "outputs": [],
   "source": []
  },
  {
   "cell_type": "code",
   "execution_count": 14,
   "metadata": {},
   "outputs": [],
   "source": [
    "tree_classifiers = {\n",
    "  \"Decision Tree\": DecisionTreeClassifier(),\n",
    "  \"Extra Trees\":ExtraTreesClassifier(),\n",
    "  \"Random Forest\":RandomForestClassifier(),\n",
    "  \"AdaBoost\":AdaBoostClassifier(),\n",
    "  \"Skl GBM\":GradientBoostingClassifier(),\n",
    "  \"Skl HistGBM\":GradientBoostingClassifier(),\n",
    "  \"XGBoost\":XGBClassifier(),\n",
    "  \"LightGBM\":LGBMClassifier(),\n",
    "  \"CatBoost\":CatBoostClassifier()\n",
    "}"
   ]
  },
  {
   "cell_type": "code",
   "execution_count": 15,
   "metadata": {},
   "outputs": [
    {
     "output_type": "stream",
     "name": "stdout",
     "text": [
      "Help on float object:\n\nclass float(object)\n |  float(x=0, /)\n |  \n |  Convert a string or number to a floating point number, if possible.\n |  \n |  Methods defined here:\n |  \n |  __abs__(self, /)\n |      abs(self)\n |  \n |  __add__(self, value, /)\n |      Return self+value.\n |  \n |  __bool__(self, /)\n |      self != 0\n |  \n |  __divmod__(self, value, /)\n |      Return divmod(self, value).\n |  \n |  __eq__(self, value, /)\n |      Return self==value.\n |  \n |  __float__(self, /)\n |      float(self)\n |  \n |  __floordiv__(self, value, /)\n |      Return self//value.\n |  \n |  __format__(self, format_spec, /)\n |      Formats the float according to format_spec.\n |  \n |  __ge__(self, value, /)\n |      Return self>=value.\n |  \n |  __getattribute__(self, name, /)\n |      Return getattr(self, name).\n |  \n |  __getnewargs__(self, /)\n |  \n |  __gt__(self, value, /)\n |      Return self>value.\n |  \n |  __hash__(self, /)\n |      Return hash(self).\n |  \n |  __int__(self, /)\n |      int(self)\n |  \n |  __le__(self, value, /)\n |      Return self<=value.\n |  \n |  __lt__(self, value, /)\n |      Return self<value.\n |  \n |  __mod__(self, value, /)\n |      Return self%value.\n |  \n |  __mul__(self, value, /)\n |      Return self*value.\n |  \n |  __ne__(self, value, /)\n |      Return self!=value.\n |  \n |  __neg__(self, /)\n |      -self\n |  \n |  __pos__(self, /)\n |      +self\n |  \n |  __pow__(self, value, mod=None, /)\n |      Return pow(self, value, mod).\n |  \n |  __radd__(self, value, /)\n |      Return value+self.\n |  \n |  __rdivmod__(self, value, /)\n |      Return divmod(value, self).\n |  \n |  __repr__(self, /)\n |      Return repr(self).\n |  \n |  __rfloordiv__(self, value, /)\n |      Return value//self.\n |  \n |  __rmod__(self, value, /)\n |      Return value%self.\n |  \n |  __rmul__(self, value, /)\n |      Return value*self.\n |  \n |  __round__(self, ndigits=None, /)\n |      Return the Integral closest to x, rounding half toward even.\n |      \n |      When an argument is passed, work like built-in round(x, ndigits).\n |  \n |  __rpow__(self, value, mod=None, /)\n |      Return pow(value, self, mod).\n |  \n |  __rsub__(self, value, /)\n |      Return value-self.\n |  \n |  __rtruediv__(self, value, /)\n |      Return value/self.\n |  \n |  __sub__(self, value, /)\n |      Return self-value.\n |  \n |  __truediv__(self, value, /)\n |      Return self/value.\n |  \n |  __trunc__(self, /)\n |      Return the Integral closest to x between 0 and x.\n |  \n |  as_integer_ratio(self, /)\n |      Return integer ratio.\n |      \n |      Return a pair of integers, whose ratio is exactly equal to the original float\n |      and with a positive denominator.\n |      \n |      Raise OverflowError on infinities and a ValueError on NaNs.\n |      \n |      >>> (10.0).as_integer_ratio()\n |      (10, 1)\n |      >>> (0.0).as_integer_ratio()\n |      (0, 1)\n |      >>> (-.25).as_integer_ratio()\n |      (-1, 4)\n |  \n |  conjugate(self, /)\n |      Return self, the complex conjugate of any float.\n |  \n |  hex(self, /)\n |      Return a hexadecimal representation of a floating-point number.\n |      \n |      >>> (-0.1).hex()\n |      '-0x1.999999999999ap-4'\n |      >>> 3.14159.hex()\n |      '0x1.921f9f01b866ep+1'\n |  \n |  is_integer(self, /)\n |      Return True if the float is an integer.\n |  \n |  ----------------------------------------------------------------------\n |  Class methods defined here:\n |  \n |  __getformat__(typestr, /) from builtins.type\n |      You probably don't want to use this function.\n |      \n |        typestr\n |          Must be 'double' or 'float'.\n |      \n |      It exists mainly to be used in Python's test suite.\n |      \n |      This function returns whichever of 'unknown', 'IEEE, big-endian' or 'IEEE,\n |      little-endian' best describes the format of floating point numbers used by the\n |      C type named by typestr.\n |  \n |  __set_format__(typestr, fmt, /) from builtins.type\n |      You probably don't want to use this function.\n |      \n |        typestr\n |          Must be 'double' or 'float'.\n |        fmt\n |          Must be one of 'unknown', 'IEEE, big-endian' or 'IEEE, little-endian',\n |          and in addition can only be one of the latter two if it appears to\n |          match the underlying C reality.\n |      \n |      It exists mainly to be used in Python's test suite.\n |      \n |      Override the automatic determination of C-level floating point type.\n |      This affects how floats are converted to and from binary strings.\n |  \n |  fromhex(string, /) from builtins.type\n |      Create a floating-point number from a hexadecimal string.\n |      \n |      >>> float.fromhex('0x1.ffffp10')\n |      2047.984375\n |      >>> float.fromhex('-0x1p-1074')\n |      -5e-324\n |  \n |  ----------------------------------------------------------------------\n |  Static methods defined here:\n |  \n |  __new__(*args, **kwargs) from builtins.type\n |      Create and return a new object.  See help(type) for accurate signature.\n |  \n |  ----------------------------------------------------------------------\n |  Data descriptors defined here:\n |  \n |  imag\n |      the imaginary part of a complex number\n |  \n |  real\n |      the real part of a complex number\n\n"
     ]
    }
   ],
   "source": [
    "help(time.time())"
   ]
  },
  {
   "cell_type": "code",
   "execution_count": 16,
   "metadata": {},
   "outputs": [],
   "source": [
    "from memory_profiler import profile"
   ]
  },
  {
   "cell_type": "code",
   "execution_count": 17,
   "metadata": {},
   "outputs": [
    {
     "output_type": "stream",
     "name": "stderr",
     "text": [
      "C:\\Users\\Wojtek\\anaconda3\\envs\\dl\\lib\\site-packages\\sklearn\\metrics\\_classification.py:1854: UserWarning: y_pred contains classes not in y_true\n  warnings.warn('y_pred contains classes not in y_true')\n"
     ]
    },
    {
     "output_type": "error",
     "ename": "MemoryError",
     "evalue": "could not allocate 928776192 bytes",
     "traceback": [
      "\u001b[1;31m---------------------------------------------------------------------------\u001b[0m",
      "\u001b[1;31mMemoryError\u001b[0m                               Traceback (most recent call last)",
      "\u001b[1;32m<ipython-input-17-7e813b70e297>\u001b[0m in \u001b[0;36m<module>\u001b[1;34m\u001b[0m\n\u001b[0;32m     12\u001b[0m \u001b[1;33m\u001b[0m\u001b[0m\n\u001b[0;32m     13\u001b[0m     \u001b[0mstart_time\u001b[0m \u001b[1;33m=\u001b[0m \u001b[0mtime\u001b[0m\u001b[1;33m.\u001b[0m\u001b[0mtime\u001b[0m\u001b[1;33m(\u001b[0m\u001b[1;33m)\u001b[0m\u001b[1;33m\u001b[0m\u001b[1;33m\u001b[0m\u001b[0m\n\u001b[1;32m---> 14\u001b[1;33m     \u001b[0mmodel\u001b[0m\u001b[1;33m.\u001b[0m\u001b[0mfit\u001b[0m\u001b[1;33m(\u001b[0m\u001b[0mx_train\u001b[0m\u001b[1;33m,\u001b[0m \u001b[0my_train\u001b[0m\u001b[1;33m)\u001b[0m \u001b[1;31m#fit transforms in fit for train data.\u001b[0m\u001b[1;33m\u001b[0m\u001b[1;33m\u001b[0m\u001b[0m\n\u001b[0m\u001b[0;32m     15\u001b[0m     \u001b[0mtotal_time\u001b[0m \u001b[1;33m=\u001b[0m \u001b[0mtime\u001b[0m\u001b[1;33m.\u001b[0m\u001b[0mtime\u001b[0m\u001b[1;33m(\u001b[0m\u001b[1;33m)\u001b[0m \u001b[1;33m-\u001b[0m \u001b[0mstart_time\u001b[0m\u001b[1;33m\u001b[0m\u001b[1;33m\u001b[0m\u001b[0m\n\u001b[0;32m     16\u001b[0m \u001b[1;33m\u001b[0m\u001b[0m\n",
      "\u001b[1;32m~\\anaconda3\\envs\\dl\\lib\\site-packages\\sklearn\\ensemble\\_forest.py\u001b[0m in \u001b[0;36mfit\u001b[1;34m(self, X, y, sample_weight)\u001b[0m\n\u001b[0;32m    385\u001b[0m             \u001b[1;31m# parallel_backend contexts set at a higher level,\u001b[0m\u001b[1;33m\u001b[0m\u001b[1;33m\u001b[0m\u001b[1;33m\u001b[0m\u001b[0m\n\u001b[0;32m    386\u001b[0m             \u001b[1;31m# since correctness does not rely on using threads.\u001b[0m\u001b[1;33m\u001b[0m\u001b[1;33m\u001b[0m\u001b[1;33m\u001b[0m\u001b[0m\n\u001b[1;32m--> 387\u001b[1;33m             trees = Parallel(n_jobs=self.n_jobs, verbose=self.verbose,\n\u001b[0m\u001b[0;32m    388\u001b[0m                              \u001b[1;33m**\u001b[0m\u001b[0m_joblib_parallel_args\u001b[0m\u001b[1;33m(\u001b[0m\u001b[0mprefer\u001b[0m\u001b[1;33m=\u001b[0m\u001b[1;34m'threads'\u001b[0m\u001b[1;33m)\u001b[0m\u001b[1;33m)\u001b[0m\u001b[1;33m(\u001b[0m\u001b[1;33m\u001b[0m\u001b[1;33m\u001b[0m\u001b[0m\n\u001b[0;32m    389\u001b[0m                 delayed(_parallel_build_trees)(\n",
      "\u001b[1;32m~\\anaconda3\\envs\\dl\\lib\\site-packages\\joblib\\parallel.py\u001b[0m in \u001b[0;36m__call__\u001b[1;34m(self, iterable)\u001b[0m\n\u001b[0;32m   1042\u001b[0m                 \u001b[0mself\u001b[0m\u001b[1;33m.\u001b[0m\u001b[0m_iterating\u001b[0m \u001b[1;33m=\u001b[0m \u001b[0mself\u001b[0m\u001b[1;33m.\u001b[0m\u001b[0m_original_iterator\u001b[0m \u001b[1;32mis\u001b[0m \u001b[1;32mnot\u001b[0m \u001b[1;32mNone\u001b[0m\u001b[1;33m\u001b[0m\u001b[1;33m\u001b[0m\u001b[0m\n\u001b[0;32m   1043\u001b[0m \u001b[1;33m\u001b[0m\u001b[0m\n\u001b[1;32m-> 1044\u001b[1;33m             \u001b[1;32mwhile\u001b[0m \u001b[0mself\u001b[0m\u001b[1;33m.\u001b[0m\u001b[0mdispatch_one_batch\u001b[0m\u001b[1;33m(\u001b[0m\u001b[0miterator\u001b[0m\u001b[1;33m)\u001b[0m\u001b[1;33m:\u001b[0m\u001b[1;33m\u001b[0m\u001b[1;33m\u001b[0m\u001b[0m\n\u001b[0m\u001b[0;32m   1045\u001b[0m                 \u001b[1;32mpass\u001b[0m\u001b[1;33m\u001b[0m\u001b[1;33m\u001b[0m\u001b[0m\n\u001b[0;32m   1046\u001b[0m \u001b[1;33m\u001b[0m\u001b[0m\n",
      "\u001b[1;32m~\\anaconda3\\envs\\dl\\lib\\site-packages\\joblib\\parallel.py\u001b[0m in \u001b[0;36mdispatch_one_batch\u001b[1;34m(self, iterator)\u001b[0m\n\u001b[0;32m    857\u001b[0m                 \u001b[1;32mreturn\u001b[0m \u001b[1;32mFalse\u001b[0m\u001b[1;33m\u001b[0m\u001b[1;33m\u001b[0m\u001b[0m\n\u001b[0;32m    858\u001b[0m             \u001b[1;32melse\u001b[0m\u001b[1;33m:\u001b[0m\u001b[1;33m\u001b[0m\u001b[1;33m\u001b[0m\u001b[0m\n\u001b[1;32m--> 859\u001b[1;33m                 \u001b[0mself\u001b[0m\u001b[1;33m.\u001b[0m\u001b[0m_dispatch\u001b[0m\u001b[1;33m(\u001b[0m\u001b[0mtasks\u001b[0m\u001b[1;33m)\u001b[0m\u001b[1;33m\u001b[0m\u001b[1;33m\u001b[0m\u001b[0m\n\u001b[0m\u001b[0;32m    860\u001b[0m                 \u001b[1;32mreturn\u001b[0m \u001b[1;32mTrue\u001b[0m\u001b[1;33m\u001b[0m\u001b[1;33m\u001b[0m\u001b[0m\n\u001b[0;32m    861\u001b[0m \u001b[1;33m\u001b[0m\u001b[0m\n",
      "\u001b[1;32m~\\anaconda3\\envs\\dl\\lib\\site-packages\\joblib\\parallel.py\u001b[0m in \u001b[0;36m_dispatch\u001b[1;34m(self, batch)\u001b[0m\n\u001b[0;32m    775\u001b[0m         \u001b[1;32mwith\u001b[0m \u001b[0mself\u001b[0m\u001b[1;33m.\u001b[0m\u001b[0m_lock\u001b[0m\u001b[1;33m:\u001b[0m\u001b[1;33m\u001b[0m\u001b[1;33m\u001b[0m\u001b[0m\n\u001b[0;32m    776\u001b[0m             \u001b[0mjob_idx\u001b[0m \u001b[1;33m=\u001b[0m \u001b[0mlen\u001b[0m\u001b[1;33m(\u001b[0m\u001b[0mself\u001b[0m\u001b[1;33m.\u001b[0m\u001b[0m_jobs\u001b[0m\u001b[1;33m)\u001b[0m\u001b[1;33m\u001b[0m\u001b[1;33m\u001b[0m\u001b[0m\n\u001b[1;32m--> 777\u001b[1;33m             \u001b[0mjob\u001b[0m \u001b[1;33m=\u001b[0m \u001b[0mself\u001b[0m\u001b[1;33m.\u001b[0m\u001b[0m_backend\u001b[0m\u001b[1;33m.\u001b[0m\u001b[0mapply_async\u001b[0m\u001b[1;33m(\u001b[0m\u001b[0mbatch\u001b[0m\u001b[1;33m,\u001b[0m \u001b[0mcallback\u001b[0m\u001b[1;33m=\u001b[0m\u001b[0mcb\u001b[0m\u001b[1;33m)\u001b[0m\u001b[1;33m\u001b[0m\u001b[1;33m\u001b[0m\u001b[0m\n\u001b[0m\u001b[0;32m    778\u001b[0m             \u001b[1;31m# A job can complete so quickly than its callback is\u001b[0m\u001b[1;33m\u001b[0m\u001b[1;33m\u001b[0m\u001b[1;33m\u001b[0m\u001b[0m\n\u001b[0;32m    779\u001b[0m             \u001b[1;31m# called before we get here, causing self._jobs to\u001b[0m\u001b[1;33m\u001b[0m\u001b[1;33m\u001b[0m\u001b[1;33m\u001b[0m\u001b[0m\n",
      "\u001b[1;32m~\\anaconda3\\envs\\dl\\lib\\site-packages\\joblib\\_parallel_backends.py\u001b[0m in \u001b[0;36mapply_async\u001b[1;34m(self, func, callback)\u001b[0m\n\u001b[0;32m    206\u001b[0m     \u001b[1;32mdef\u001b[0m \u001b[0mapply_async\u001b[0m\u001b[1;33m(\u001b[0m\u001b[0mself\u001b[0m\u001b[1;33m,\u001b[0m \u001b[0mfunc\u001b[0m\u001b[1;33m,\u001b[0m \u001b[0mcallback\u001b[0m\u001b[1;33m=\u001b[0m\u001b[1;32mNone\u001b[0m\u001b[1;33m)\u001b[0m\u001b[1;33m:\u001b[0m\u001b[1;33m\u001b[0m\u001b[1;33m\u001b[0m\u001b[0m\n\u001b[0;32m    207\u001b[0m         \u001b[1;34m\"\"\"Schedule a func to be run\"\"\"\u001b[0m\u001b[1;33m\u001b[0m\u001b[1;33m\u001b[0m\u001b[0m\n\u001b[1;32m--> 208\u001b[1;33m         \u001b[0mresult\u001b[0m \u001b[1;33m=\u001b[0m \u001b[0mImmediateResult\u001b[0m\u001b[1;33m(\u001b[0m\u001b[0mfunc\u001b[0m\u001b[1;33m)\u001b[0m\u001b[1;33m\u001b[0m\u001b[1;33m\u001b[0m\u001b[0m\n\u001b[0m\u001b[0;32m    209\u001b[0m         \u001b[1;32mif\u001b[0m \u001b[0mcallback\u001b[0m\u001b[1;33m:\u001b[0m\u001b[1;33m\u001b[0m\u001b[1;33m\u001b[0m\u001b[0m\n\u001b[0;32m    210\u001b[0m             \u001b[0mcallback\u001b[0m\u001b[1;33m(\u001b[0m\u001b[0mresult\u001b[0m\u001b[1;33m)\u001b[0m\u001b[1;33m\u001b[0m\u001b[1;33m\u001b[0m\u001b[0m\n",
      "\u001b[1;32m~\\anaconda3\\envs\\dl\\lib\\site-packages\\joblib\\_parallel_backends.py\u001b[0m in \u001b[0;36m__init__\u001b[1;34m(self, batch)\u001b[0m\n\u001b[0;32m    570\u001b[0m         \u001b[1;31m# Don't delay the application, to avoid keeping the input\u001b[0m\u001b[1;33m\u001b[0m\u001b[1;33m\u001b[0m\u001b[1;33m\u001b[0m\u001b[0m\n\u001b[0;32m    571\u001b[0m         \u001b[1;31m# arguments in memory\u001b[0m\u001b[1;33m\u001b[0m\u001b[1;33m\u001b[0m\u001b[1;33m\u001b[0m\u001b[0m\n\u001b[1;32m--> 572\u001b[1;33m         \u001b[0mself\u001b[0m\u001b[1;33m.\u001b[0m\u001b[0mresults\u001b[0m \u001b[1;33m=\u001b[0m \u001b[0mbatch\u001b[0m\u001b[1;33m(\u001b[0m\u001b[1;33m)\u001b[0m\u001b[1;33m\u001b[0m\u001b[1;33m\u001b[0m\u001b[0m\n\u001b[0m\u001b[0;32m    573\u001b[0m \u001b[1;33m\u001b[0m\u001b[0m\n\u001b[0;32m    574\u001b[0m     \u001b[1;32mdef\u001b[0m \u001b[0mget\u001b[0m\u001b[1;33m(\u001b[0m\u001b[0mself\u001b[0m\u001b[1;33m)\u001b[0m\u001b[1;33m:\u001b[0m\u001b[1;33m\u001b[0m\u001b[1;33m\u001b[0m\u001b[0m\n",
      "\u001b[1;32m~\\anaconda3\\envs\\dl\\lib\\site-packages\\joblib\\parallel.py\u001b[0m in \u001b[0;36m__call__\u001b[1;34m(self)\u001b[0m\n\u001b[0;32m    260\u001b[0m         \u001b[1;31m# change the default number of processes to -1\u001b[0m\u001b[1;33m\u001b[0m\u001b[1;33m\u001b[0m\u001b[1;33m\u001b[0m\u001b[0m\n\u001b[0;32m    261\u001b[0m         \u001b[1;32mwith\u001b[0m \u001b[0mparallel_backend\u001b[0m\u001b[1;33m(\u001b[0m\u001b[0mself\u001b[0m\u001b[1;33m.\u001b[0m\u001b[0m_backend\u001b[0m\u001b[1;33m,\u001b[0m \u001b[0mn_jobs\u001b[0m\u001b[1;33m=\u001b[0m\u001b[0mself\u001b[0m\u001b[1;33m.\u001b[0m\u001b[0m_n_jobs\u001b[0m\u001b[1;33m)\u001b[0m\u001b[1;33m:\u001b[0m\u001b[1;33m\u001b[0m\u001b[1;33m\u001b[0m\u001b[0m\n\u001b[1;32m--> 262\u001b[1;33m             return [func(*args, **kwargs)\n\u001b[0m\u001b[0;32m    263\u001b[0m                     for func, args, kwargs in self.items]\n\u001b[0;32m    264\u001b[0m \u001b[1;33m\u001b[0m\u001b[0m\n",
      "\u001b[1;32m~\\anaconda3\\envs\\dl\\lib\\site-packages\\joblib\\parallel.py\u001b[0m in \u001b[0;36m<listcomp>\u001b[1;34m(.0)\u001b[0m\n\u001b[0;32m    260\u001b[0m         \u001b[1;31m# change the default number of processes to -1\u001b[0m\u001b[1;33m\u001b[0m\u001b[1;33m\u001b[0m\u001b[1;33m\u001b[0m\u001b[0m\n\u001b[0;32m    261\u001b[0m         \u001b[1;32mwith\u001b[0m \u001b[0mparallel_backend\u001b[0m\u001b[1;33m(\u001b[0m\u001b[0mself\u001b[0m\u001b[1;33m.\u001b[0m\u001b[0m_backend\u001b[0m\u001b[1;33m,\u001b[0m \u001b[0mn_jobs\u001b[0m\u001b[1;33m=\u001b[0m\u001b[0mself\u001b[0m\u001b[1;33m.\u001b[0m\u001b[0m_n_jobs\u001b[0m\u001b[1;33m)\u001b[0m\u001b[1;33m:\u001b[0m\u001b[1;33m\u001b[0m\u001b[1;33m\u001b[0m\u001b[0m\n\u001b[1;32m--> 262\u001b[1;33m             return [func(*args, **kwargs)\n\u001b[0m\u001b[0;32m    263\u001b[0m                     for func, args, kwargs in self.items]\n\u001b[0;32m    264\u001b[0m \u001b[1;33m\u001b[0m\u001b[0m\n",
      "\u001b[1;32m~\\anaconda3\\envs\\dl\\lib\\site-packages\\sklearn\\utils\\fixes.py\u001b[0m in \u001b[0;36m__call__\u001b[1;34m(self, *args, **kwargs)\u001b[0m\n\u001b[0;32m    220\u001b[0m     \u001b[1;32mdef\u001b[0m \u001b[0m__call__\u001b[0m\u001b[1;33m(\u001b[0m\u001b[0mself\u001b[0m\u001b[1;33m,\u001b[0m \u001b[1;33m*\u001b[0m\u001b[0margs\u001b[0m\u001b[1;33m,\u001b[0m \u001b[1;33m**\u001b[0m\u001b[0mkwargs\u001b[0m\u001b[1;33m)\u001b[0m\u001b[1;33m:\u001b[0m\u001b[1;33m\u001b[0m\u001b[1;33m\u001b[0m\u001b[0m\n\u001b[0;32m    221\u001b[0m         \u001b[1;32mwith\u001b[0m \u001b[0mconfig_context\u001b[0m\u001b[1;33m(\u001b[0m\u001b[1;33m**\u001b[0m\u001b[0mself\u001b[0m\u001b[1;33m.\u001b[0m\u001b[0mconfig\u001b[0m\u001b[1;33m)\u001b[0m\u001b[1;33m:\u001b[0m\u001b[1;33m\u001b[0m\u001b[1;33m\u001b[0m\u001b[0m\n\u001b[1;32m--> 222\u001b[1;33m             \u001b[1;32mreturn\u001b[0m \u001b[0mself\u001b[0m\u001b[1;33m.\u001b[0m\u001b[0mfunction\u001b[0m\u001b[1;33m(\u001b[0m\u001b[1;33m*\u001b[0m\u001b[0margs\u001b[0m\u001b[1;33m,\u001b[0m \u001b[1;33m**\u001b[0m\u001b[0mkwargs\u001b[0m\u001b[1;33m)\u001b[0m\u001b[1;33m\u001b[0m\u001b[1;33m\u001b[0m\u001b[0m\n\u001b[0m",
      "\u001b[1;32m~\\anaconda3\\envs\\dl\\lib\\site-packages\\sklearn\\ensemble\\_forest.py\u001b[0m in \u001b[0;36m_parallel_build_trees\u001b[1;34m(tree, forest, X, y, sample_weight, tree_idx, n_trees, verbose, class_weight, n_samples_bootstrap)\u001b[0m\n\u001b[0;32m    169\u001b[0m         \u001b[0mtree\u001b[0m\u001b[1;33m.\u001b[0m\u001b[0mfit\u001b[0m\u001b[1;33m(\u001b[0m\u001b[0mX\u001b[0m\u001b[1;33m,\u001b[0m \u001b[0my\u001b[0m\u001b[1;33m,\u001b[0m \u001b[0msample_weight\u001b[0m\u001b[1;33m=\u001b[0m\u001b[0mcurr_sample_weight\u001b[0m\u001b[1;33m,\u001b[0m \u001b[0mcheck_input\u001b[0m\u001b[1;33m=\u001b[0m\u001b[1;32mFalse\u001b[0m\u001b[1;33m)\u001b[0m\u001b[1;33m\u001b[0m\u001b[1;33m\u001b[0m\u001b[0m\n\u001b[0;32m    170\u001b[0m     \u001b[1;32melse\u001b[0m\u001b[1;33m:\u001b[0m\u001b[1;33m\u001b[0m\u001b[1;33m\u001b[0m\u001b[0m\n\u001b[1;32m--> 171\u001b[1;33m         \u001b[0mtree\u001b[0m\u001b[1;33m.\u001b[0m\u001b[0mfit\u001b[0m\u001b[1;33m(\u001b[0m\u001b[0mX\u001b[0m\u001b[1;33m,\u001b[0m \u001b[0my\u001b[0m\u001b[1;33m,\u001b[0m \u001b[0msample_weight\u001b[0m\u001b[1;33m=\u001b[0m\u001b[0msample_weight\u001b[0m\u001b[1;33m,\u001b[0m \u001b[0mcheck_input\u001b[0m\u001b[1;33m=\u001b[0m\u001b[1;32mFalse\u001b[0m\u001b[1;33m)\u001b[0m\u001b[1;33m\u001b[0m\u001b[1;33m\u001b[0m\u001b[0m\n\u001b[0m\u001b[0;32m    172\u001b[0m \u001b[1;33m\u001b[0m\u001b[0m\n\u001b[0;32m    173\u001b[0m     \u001b[1;32mreturn\u001b[0m \u001b[0mtree\u001b[0m\u001b[1;33m\u001b[0m\u001b[1;33m\u001b[0m\u001b[0m\n",
      "\u001b[1;32m~\\anaconda3\\envs\\dl\\lib\\site-packages\\sklearn\\tree\\_classes.py\u001b[0m in \u001b[0;36mfit\u001b[1;34m(self, X, y, sample_weight, check_input, X_idx_sorted)\u001b[0m\n\u001b[0;32m    901\u001b[0m         \"\"\"\n\u001b[0;32m    902\u001b[0m \u001b[1;33m\u001b[0m\u001b[0m\n\u001b[1;32m--> 903\u001b[1;33m         super().fit(\n\u001b[0m\u001b[0;32m    904\u001b[0m             \u001b[0mX\u001b[0m\u001b[1;33m,\u001b[0m \u001b[0my\u001b[0m\u001b[1;33m,\u001b[0m\u001b[1;33m\u001b[0m\u001b[1;33m\u001b[0m\u001b[0m\n\u001b[0;32m    905\u001b[0m             \u001b[0msample_weight\u001b[0m\u001b[1;33m=\u001b[0m\u001b[0msample_weight\u001b[0m\u001b[1;33m,\u001b[0m\u001b[1;33m\u001b[0m\u001b[1;33m\u001b[0m\u001b[0m\n",
      "\u001b[1;32m~\\anaconda3\\envs\\dl\\lib\\site-packages\\sklearn\\tree\\_classes.py\u001b[0m in \u001b[0;36mfit\u001b[1;34m(self, X, y, sample_weight, check_input, X_idx_sorted)\u001b[0m\n\u001b[0;32m    392\u001b[0m                                            min_impurity_split)\n\u001b[0;32m    393\u001b[0m \u001b[1;33m\u001b[0m\u001b[0m\n\u001b[1;32m--> 394\u001b[1;33m         \u001b[0mbuilder\u001b[0m\u001b[1;33m.\u001b[0m\u001b[0mbuild\u001b[0m\u001b[1;33m(\u001b[0m\u001b[0mself\u001b[0m\u001b[1;33m.\u001b[0m\u001b[0mtree_\u001b[0m\u001b[1;33m,\u001b[0m \u001b[0mX\u001b[0m\u001b[1;33m,\u001b[0m \u001b[0my\u001b[0m\u001b[1;33m,\u001b[0m \u001b[0msample_weight\u001b[0m\u001b[1;33m)\u001b[0m\u001b[1;33m\u001b[0m\u001b[1;33m\u001b[0m\u001b[0m\n\u001b[0m\u001b[0;32m    395\u001b[0m \u001b[1;33m\u001b[0m\u001b[0m\n\u001b[0;32m    396\u001b[0m         \u001b[1;32mif\u001b[0m \u001b[0mself\u001b[0m\u001b[1;33m.\u001b[0m\u001b[0mn_outputs_\u001b[0m \u001b[1;33m==\u001b[0m \u001b[1;36m1\u001b[0m \u001b[1;32mand\u001b[0m \u001b[0mis_classifier\u001b[0m\u001b[1;33m(\u001b[0m\u001b[0mself\u001b[0m\u001b[1;33m)\u001b[0m\u001b[1;33m:\u001b[0m\u001b[1;33m\u001b[0m\u001b[1;33m\u001b[0m\u001b[0m\n",
      "\u001b[1;32msklearn\\tree\\_tree.pyx\u001b[0m in \u001b[0;36msklearn.tree._tree.DepthFirstTreeBuilder.build\u001b[1;34m()\u001b[0m\n",
      "\u001b[1;32msklearn\\tree\\_tree.pyx\u001b[0m in \u001b[0;36msklearn.tree._tree.DepthFirstTreeBuilder.build\u001b[1;34m()\u001b[0m\n",
      "\u001b[1;32msklearn\\tree\\_tree.pyx\u001b[0m in \u001b[0;36msklearn.tree._tree.Tree._add_node\u001b[1;34m()\u001b[0m\n",
      "\u001b[1;32msklearn\\tree\\_tree.pyx\u001b[0m in \u001b[0;36msklearn.tree._tree.Tree._resize_c\u001b[1;34m()\u001b[0m\n",
      "\u001b[1;32msklearn\\tree\\_utils.pyx\u001b[0m in \u001b[0;36msklearn.tree._utils.safe_realloc\u001b[1;34m()\u001b[0m\n",
      "\u001b[1;31mMemoryError\u001b[0m: could not allocate 928776192 bytes"
     ]
    }
   ],
   "source": [
    "\n",
    "\n",
    "results = pd.DataFrame({'Model': [], 'Accuracy': [], 'Bal Acc.': [], 'Time': []})\n",
    "\n",
    "# YOUR CODE HERE\n",
    "#tree model\n",
    "x_train, x_val, y_train, y_val = model_selection.train_test_split(\n",
    "    x, y,\n",
    "    test_size=0.2, \n",
    "    random_state=42,\n",
    ")\n",
    "\n",
    "for model_name, model in tree_classifiers.items():\n",
    "\n",
    "    start_time = time.time()\n",
    "    model.fit(x_train, y_train) #fit transforms in fit for train data.\n",
    "    total_time = time.time() - start_time\n",
    "    \n",
    "    pred = model.predict(x_val)  #transforms test data here (inside predict)\n",
    "    \n",
    "    results = results.append({\"Model\":    model_name,\n",
    "                              \"Accuracy\": metrics.accuracy_score(y_val, pred)*100,\n",
    "                              \"Bal Acc.\": metrics.balanced_accuracy_score(y_val, pred)*100,\n",
    "                              \"Time\":     total_time},\n",
    "                              ignore_index=True)\n",
    "\n",
    "\n",
    "results_ord = results.sort_values(by=['Accuracy'], ascending=False, ignore_index=True)\n",
    "results_ord.index += 1 \n",
    "#results_ord.style.bar(subset=['Accuracy', 'Bal Acc.'], vmin=0, vmax=100, color='#5fba7d')\n",
    "results_ord"
   ]
  },
  {
   "cell_type": "code",
   "execution_count": null,
   "metadata": {},
   "outputs": [],
   "source": []
  }
 ]
}