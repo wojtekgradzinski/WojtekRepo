{
 "cells": [
  {
   "cell_type": "code",
   "execution_count": 1,
   "id": "deadly-douglas",
   "metadata": {},
   "outputs": [],
   "source": [
    "import pandas as pd\n",
    "\n",
    "from sklearn import preprocessing, compose, pipeline\n",
    "from sklearn import linear_model # LogisticRegression\n",
    "from sklearn import svm\n",
    "\n",
    "from sklearn import set_config\n",
    "\n",
    "set_config(display='diagram') # Useful for display the pipeline"
   ]
  },
  {
   "cell_type": "code",
   "execution_count": 2,
   "id": "outstanding-flavor",
   "metadata": {},
   "outputs": [
    {
     "data": {
      "text/html": [
       "<div>\n",
       "<style scoped>\n",
       "    .dataframe tbody tr th:only-of-type {\n",
       "        vertical-align: middle;\n",
       "    }\n",
       "\n",
       "    .dataframe tbody tr th {\n",
       "        vertical-align: top;\n",
       "    }\n",
       "\n",
       "    .dataframe thead th {\n",
       "        text-align: right;\n",
       "    }\n",
       "</style>\n",
       "<table border=\"1\" class=\"dataframe\">\n",
       "  <thead>\n",
       "    <tr style=\"text-align: right;\">\n",
       "      <th></th>\n",
       "      <th>id</th>\n",
       "      <th>cat0</th>\n",
       "      <th>cat1</th>\n",
       "      <th>cat2</th>\n",
       "      <th>cat3</th>\n",
       "      <th>cat4</th>\n",
       "      <th>cat5</th>\n",
       "      <th>cat6</th>\n",
       "      <th>cat7</th>\n",
       "      <th>cat8</th>\n",
       "      <th>...</th>\n",
       "      <th>cont5</th>\n",
       "      <th>cont6</th>\n",
       "      <th>cont7</th>\n",
       "      <th>cont8</th>\n",
       "      <th>cont9</th>\n",
       "      <th>cont10</th>\n",
       "      <th>cont11</th>\n",
       "      <th>cont12</th>\n",
       "      <th>cont13</th>\n",
       "      <th>target</th>\n",
       "    </tr>\n",
       "  </thead>\n",
       "  <tbody>\n",
       "    <tr>\n",
       "      <th>179248</th>\n",
       "      <td>298928</td>\n",
       "      <td>A</td>\n",
       "      <td>B</td>\n",
       "      <td>A</td>\n",
       "      <td>C</td>\n",
       "      <td>B</td>\n",
       "      <td>C</td>\n",
       "      <td>A</td>\n",
       "      <td>E</td>\n",
       "      <td>G</td>\n",
       "      <td>...</td>\n",
       "      <td>0.911438</td>\n",
       "      <td>0.424840</td>\n",
       "      <td>0.241187</td>\n",
       "      <td>0.849827</td>\n",
       "      <td>0.806916</td>\n",
       "      <td>0.549276</td>\n",
       "      <td>0.777521</td>\n",
       "      <td>0.907828</td>\n",
       "      <td>0.297939</td>\n",
       "      <td>8.756218</td>\n",
       "    </tr>\n",
       "    <tr>\n",
       "      <th>40756</th>\n",
       "      <td>67679</td>\n",
       "      <td>A</td>\n",
       "      <td>A</td>\n",
       "      <td>A</td>\n",
       "      <td>C</td>\n",
       "      <td>B</td>\n",
       "      <td>B</td>\n",
       "      <td>A</td>\n",
       "      <td>E</td>\n",
       "      <td>C</td>\n",
       "      <td>...</td>\n",
       "      <td>0.272124</td>\n",
       "      <td>0.282931</td>\n",
       "      <td>0.265756</td>\n",
       "      <td>0.481961</td>\n",
       "      <td>0.300509</td>\n",
       "      <td>0.394259</td>\n",
       "      <td>0.328607</td>\n",
       "      <td>0.430818</td>\n",
       "      <td>0.297132</td>\n",
       "      <td>6.167811</td>\n",
       "    </tr>\n",
       "    <tr>\n",
       "      <th>23671</th>\n",
       "      <td>39391</td>\n",
       "      <td>A</td>\n",
       "      <td>A</td>\n",
       "      <td>A</td>\n",
       "      <td>A</td>\n",
       "      <td>B</td>\n",
       "      <td>B</td>\n",
       "      <td>A</td>\n",
       "      <td>E</td>\n",
       "      <td>C</td>\n",
       "      <td>...</td>\n",
       "      <td>0.382949</td>\n",
       "      <td>0.403269</td>\n",
       "      <td>0.527175</td>\n",
       "      <td>0.374205</td>\n",
       "      <td>0.407399</td>\n",
       "      <td>0.354803</td>\n",
       "      <td>0.287555</td>\n",
       "      <td>0.319031</td>\n",
       "      <td>0.383421</td>\n",
       "      <td>8.002176</td>\n",
       "    </tr>\n",
       "    <tr>\n",
       "      <th>119389</th>\n",
       "      <td>198973</td>\n",
       "      <td>A</td>\n",
       "      <td>B</td>\n",
       "      <td>A</td>\n",
       "      <td>A</td>\n",
       "      <td>B</td>\n",
       "      <td>B</td>\n",
       "      <td>A</td>\n",
       "      <td>E</td>\n",
       "      <td>C</td>\n",
       "      <td>...</td>\n",
       "      <td>0.349340</td>\n",
       "      <td>0.376311</td>\n",
       "      <td>0.331963</td>\n",
       "      <td>0.407182</td>\n",
       "      <td>0.459181</td>\n",
       "      <td>0.504035</td>\n",
       "      <td>0.389042</td>\n",
       "      <td>0.365141</td>\n",
       "      <td>0.640940</td>\n",
       "      <td>7.681335</td>\n",
       "    </tr>\n",
       "    <tr>\n",
       "      <th>211461</th>\n",
       "      <td>352640</td>\n",
       "      <td>A</td>\n",
       "      <td>B</td>\n",
       "      <td>A</td>\n",
       "      <td>C</td>\n",
       "      <td>B</td>\n",
       "      <td>B</td>\n",
       "      <td>A</td>\n",
       "      <td>E</td>\n",
       "      <td>F</td>\n",
       "      <td>...</td>\n",
       "      <td>0.443239</td>\n",
       "      <td>0.950373</td>\n",
       "      <td>0.349333</td>\n",
       "      <td>0.485012</td>\n",
       "      <td>0.577155</td>\n",
       "      <td>0.622252</td>\n",
       "      <td>0.413454</td>\n",
       "      <td>0.352188</td>\n",
       "      <td>0.377585</td>\n",
       "      <td>8.840490</td>\n",
       "    </tr>\n",
       "  </tbody>\n",
       "</table>\n",
       "<p>5 rows × 26 columns</p>\n",
       "</div>"
      ],
      "text/plain": [
       "            id cat0 cat1 cat2 cat3 cat4 cat5 cat6 cat7 cat8  ...     cont5  \\\n",
       "179248  298928    A    B    A    C    B    C    A    E    G  ...  0.911438   \n",
       "40756    67679    A    A    A    C    B    B    A    E    C  ...  0.272124   \n",
       "23671    39391    A    A    A    A    B    B    A    E    C  ...  0.382949   \n",
       "119389  198973    A    B    A    A    B    B    A    E    C  ...  0.349340   \n",
       "211461  352640    A    B    A    C    B    B    A    E    F  ...  0.443239   \n",
       "\n",
       "           cont6     cont7     cont8     cont9    cont10    cont11    cont12  \\\n",
       "179248  0.424840  0.241187  0.849827  0.806916  0.549276  0.777521  0.907828   \n",
       "40756   0.282931  0.265756  0.481961  0.300509  0.394259  0.328607  0.430818   \n",
       "23671   0.403269  0.527175  0.374205  0.407399  0.354803  0.287555  0.319031   \n",
       "119389  0.376311  0.331963  0.407182  0.459181  0.504035  0.389042  0.365141   \n",
       "211461  0.950373  0.349333  0.485012  0.577155  0.622252  0.413454  0.352188   \n",
       "\n",
       "          cont13    target  \n",
       "179248  0.297939  8.756218  \n",
       "40756   0.297132  6.167811  \n",
       "23671   0.383421  8.002176  \n",
       "119389  0.640940  7.681335  \n",
       "211461  0.377585  8.840490  \n",
       "\n",
       "[5 rows x 26 columns]"
      ]
     },
     "execution_count": 2,
     "metadata": {},
     "output_type": "execute_result"
    }
   ],
   "source": [
    "df = pd.read_csv(\"train.csv\")\n",
    "df.sample(5)"
   ]
  },
  {
   "cell_type": "code",
   "execution_count": 3,
   "id": "tender-organic",
   "metadata": {},
   "outputs": [],
   "source": [
    "df = df.sample(1000)"
   ]
  },
  {
   "cell_type": "code",
   "execution_count": 4,
   "id": "stable-acrobat",
   "metadata": {},
   "outputs": [
    {
     "data": {
      "image/png": "[encoded data removed]",
      "text/plain": [
       "<Figure size 432x288 with 1 Axes>"
      ]
     },
     "metadata": {
      "needs_background": "light"
     },
     "output_type": "display_data"
    }
   ],
   "source": [
    "df.corr()[\"target\"].abs().sort_values().plot.barh();"
   ]
  },
  {
   "cell_type": "code",
   "execution_count": 5,
   "id": "revolutionary-character",
   "metadata": {},
   "outputs": [],
   "source": [
    "cont_features = [f for f in df.columns.tolist() if f.startswith('cont')]\n",
    "cat_features  = [f for f in df.columns.tolist() if f.startswith('cat')]"
   ]
  },
  {
   "cell_type": "markdown",
   "id": "vertical-indication",
   "metadata": {},
   "source": [
    "# Create linear model"
   ]
  },
  {
   "cell_type": "code",
   "execution_count": 6,
   "id": "neutral-character",
   "metadata": {},
   "outputs": [
    {
     "data": {
      "text/html": [
       "<style>div.sk-top-container {color: black;background-color: white;}div.sk-toggleable {background-color: white;}label.sk-toggleable__label {cursor: pointer;display: block;width: 100%;margin-bottom: 0;padding: 0.2em 0.3em;box-sizing: border-box;text-align: center;}div.sk-toggleable__content {max-height: 0;max-width: 0;overflow: hidden;text-align: left;background-color: #f0f8ff;}div.sk-toggleable__content pre {margin: 0.2em;color: black;border-radius: 0.25em;background-color: #f0f8ff;}input.sk-toggleable__control:checked~div.sk-toggleable__content {max-height: 200px;max-width: 100%;overflow: auto;}div.sk-estimator input.sk-toggleable__control:checked~label.sk-toggleable__label {background-color: #d4ebff;}div.sk-label input.sk-toggleable__control:checked~label.sk-toggleable__label {background-color: #d4ebff;}input.sk-hidden--visually {border: 0;clip: rect(1px 1px 1px 1px);clip: rect(1px, 1px, 1px, 1px);height: 1px;margin: -1px;overflow: hidden;padding: 0;position: absolute;width: 1px;}div.sk-estimator {font-family: monospace;background-color: #f0f8ff;margin: 0.25em 0.25em;border: 1px dotted black;border-radius: 0.25em;box-sizing: border-box;}div.sk-estimator:hover {background-color: #d4ebff;}div.sk-parallel-item::after {content: \"\";width: 100%;border-bottom: 1px solid gray;flex-grow: 1;}div.sk-label:hover label.sk-toggleable__label {background-color: #d4ebff;}div.sk-serial::before {content: \"\";position: absolute;border-left: 1px solid gray;box-sizing: border-box;top: 2em;bottom: 0;left: 50%;}div.sk-serial {display: flex;flex-direction: column;align-items: center;background-color: white;}div.sk-item {z-index: 1;}div.sk-parallel {display: flex;align-items: stretch;justify-content: center;background-color: white;}div.sk-parallel-item {display: flex;flex-direction: column;position: relative;background-color: white;}div.sk-parallel-item:first-child::after {align-self: flex-end;width: 50%;}div.sk-parallel-item:last-child::after {align-self: flex-start;width: 50%;}div.sk-parallel-item:only-child::after {width: 0;}div.sk-dashed-wrapped {border: 1px dashed gray;margin: 0.2em;box-sizing: border-box;padding-bottom: 0.1em;background-color: white;position: relative;}div.sk-label label {font-family: monospace;font-weight: bold;background-color: white;display: inline-block;line-height: 1.2em;}div.sk-label-container {position: relative;z-index: 2;text-align: center;}div.sk-container {display: inline-block;position: relative;}</style><div class=\"sk-top-container\"><div class=\"sk-container\"><div class=\"sk-item sk-dashed-wrapped\"><div class=\"sk-label-container\"><div class=\"sk-label sk-toggleable\"><input class=\"sk-toggleable__control sk-hidden--visually\" id=\"2fe13051-a7b5-4630-98c6-ac5cfe2d72e6\" type=\"checkbox\" ><label class=\"sk-toggleable__label\" for=\"2fe13051-a7b5-4630-98c6-ac5cfe2d72e6\">Pipeline</label><div class=\"sk-toggleable__content\"><pre>Pipeline(steps=[('prepro',\n",
       "                 ColumnTransformer(transformers=[('num',\n",
       "                                                  Pipeline(steps=[('scaler',\n",
       "                                                                   StandardScaler())]),\n",
       "                                                  ['cont0', 'cont1', 'cont2',\n",
       "                                                   'cont3', 'cont4', 'cont5',\n",
       "                                                   'cont6', 'cont7', 'cont8',\n",
       "                                                   'cont9', 'cont10', 'cont11',\n",
       "                                                   'cont12', 'cont13']),\n",
       "                                                 ('cat',\n",
       "                                                  Pipeline(steps=[('onehot',\n",
       "                                                                   OneHotEncoder(handle_unknown='ignore'))]),\n",
       "                                                  ['cat0', 'cat1', 'cat2',\n",
       "                                                   'cat3', 'cat4', 'cat5',\n",
       "                                                   'cat6', 'cat7', 'cat8',\n",
       "                                                   'cat9'])])),\n",
       "                ('model', LinearRegression())])</pre></div></div></div><div class=\"sk-serial\"><div class=\"sk-item sk-dashed-wrapped\"><div class=\"sk-label-container\"><div class=\"sk-label sk-toggleable\"><input class=\"sk-toggleable__control sk-hidden--visually\" id=\"f89db84d-a479-46ae-83b0-1853fe5957a3\" type=\"checkbox\" ><label class=\"sk-toggleable__label\" for=\"f89db84d-a479-46ae-83b0-1853fe5957a3\">prepro: ColumnTransformer</label><div class=\"sk-toggleable__content\"><pre>ColumnTransformer(transformers=[('num',\n",
       "                                 Pipeline(steps=[('scaler', StandardScaler())]),\n",
       "                                 ['cont0', 'cont1', 'cont2', 'cont3', 'cont4',\n",
       "                                  'cont5', 'cont6', 'cont7', 'cont8', 'cont9',\n",
       "                                  'cont10', 'cont11', 'cont12', 'cont13']),\n",
       "                                ('cat',\n",
       "                                 Pipeline(steps=[('onehot',\n",
       "                                                  OneHotEncoder(handle_unknown='ignore'))]),\n",
       "                                 ['cat0', 'cat1', 'cat2', 'cat3', 'cat4',\n",
       "                                  'cat5', 'cat6', 'cat7', 'cat8', 'cat9'])])</pre></div></div></div><div class=\"sk-parallel\"><div class=\"sk-parallel-item\"><div class=\"sk-item\"><div class=\"sk-label-container\"><div class=\"sk-label sk-toggleable\"><input class=\"sk-toggleable__control sk-hidden--visually\" id=\"a32413a8-98d6-4447-a913-abc18f9e37f8\" type=\"checkbox\" ><label class=\"sk-toggleable__label\" for=\"a32413a8-98d6-4447-a913-abc18f9e37f8\">num</label><div class=\"sk-toggleable__content\"><pre>['cont0', 'cont1', 'cont2', 'cont3', 'cont4', 'cont5', 'cont6', 'cont7', 'cont8', 'cont9', 'cont10', 'cont11', 'cont12', 'cont13']</pre></div></div></div><div class=\"sk-serial\"><div class=\"sk-item\"><div class=\"sk-serial\"><div class=\"sk-item\"><div class=\"sk-estimator sk-toggleable\"><input class=\"sk-toggleable__control sk-hidden--visually\" id=\"5f623a8c-9d3a-48af-b153-e8d5fc259066\" type=\"checkbox\" ><label class=\"sk-toggleable__label\" for=\"5f623a8c-9d3a-48af-b153-e8d5fc259066\">StandardScaler</label><div class=\"sk-toggleable__content\"><pre>StandardScaler()</pre></div></div></div></div></div></div></div></div><div class=\"sk-parallel-item\"><div class=\"sk-item\"><div class=\"sk-label-container\"><div class=\"sk-label sk-toggleable\"><input class=\"sk-toggleable__control sk-hidden--visually\" id=\"a429201f-73d7-4651-b018-5339bb616c60\" type=\"checkbox\" ><label class=\"sk-toggleable__label\" for=\"a429201f-73d7-4651-b018-5339bb616c60\">cat</label><div class=\"sk-toggleable__content\"><pre>['cat0', 'cat1', 'cat2', 'cat3', 'cat4', 'cat5', 'cat6', 'cat7', 'cat8', 'cat9']</pre></div></div></div><div class=\"sk-serial\"><div class=\"sk-item\"><div class=\"sk-serial\"><div class=\"sk-item\"><div class=\"sk-estimator sk-toggleable\"><input class=\"sk-toggleable__control sk-hidden--visually\" id=\"0689c203-f76c-4fec-890d-3d65d0cdd9e8\" type=\"checkbox\" ><label class=\"sk-toggleable__label\" for=\"0689c203-f76c-4fec-890d-3d65d0cdd9e8\">OneHotEncoder</label><div class=\"sk-toggleable__content\"><pre>OneHotEncoder(handle_unknown='ignore')</pre></div></div></div></div></div></div></div></div></div></div><div class=\"sk-item\"><div class=\"sk-estimator sk-toggleable\"><input class=\"sk-toggleable__control sk-hidden--visually\" id=\"f385d848-2bd9-4e47-b8e6-dcf98886575d\" type=\"checkbox\" ><label class=\"sk-toggleable__label\" for=\"f385d848-2bd9-4e47-b8e6-dcf98886575d\">LinearRegression</label><div class=\"sk-toggleable__content\"><pre>LinearRegression()</pre></div></div></div></div></div></div></div>"
      ],
      "text/plain": [
       "Pipeline(steps=[('prepro',\n",
       "                 ColumnTransformer(transformers=[('num',\n",
       "                                                  Pipeline(steps=[('scaler',\n",
       "                                                                   StandardScaler())]),\n",
       "                                                  ['cont0', 'cont1', 'cont2',\n",
       "                                                   'cont3', 'cont4', 'cont5',\n",
       "                                                   'cont6', 'cont7', 'cont8',\n",
       "                                                   'cont9', 'cont10', 'cont11',\n",
       "                                                   'cont12', 'cont13']),\n",
       "                                                 ('cat',\n",
       "                                                  Pipeline(steps=[('onehot',\n",
       "                                                                   OneHotEncoder(handle_unknown='ignore'))]),\n",
       "                                                  ['cat0', 'cat1', 'cat2',\n",
       "                                                   'cat3', 'cat4', 'cat5',\n",
       "                                                   'cat6', 'cat7', 'cat8',\n",
       "                                                   'cat9'])])),\n",
       "                ('model', LinearRegression())])"
      ]
     },
     "execution_count": 6,
     "metadata": {},
     "output_type": "execute_result"
    }
   ],
   "source": [
    "num_preprocessing = pipeline.Pipeline(steps=[\n",
    "    ('scaler', preprocessing.StandardScaler())\n",
    "])\n",
    "\n",
    "cat_preporcessing = pipeline.Pipeline(steps=[\n",
    "    ('onehot', preprocessing.OneHotEncoder(handle_unknown='ignore'))\n",
    "])\n",
    "\n",
    "prepro = compose.ColumnTransformer(transformers=[\n",
    "    ('num', num_preprocessing, cont_features),\n",
    "    ('cat', cat_preporcessing, cat_features),\n",
    "], remainder='drop') # Drop other vars not specified in num_vars or cat_vars\n",
    "\n",
    "\n",
    "model = linear_model.LinearRegression()\n",
    "\n",
    "pipe = pipeline.Pipeline(steps=[('prepro', prepro), ('model', model)])\n",
    "\n",
    "pipe"
   ]
  },
  {
   "cell_type": "markdown",
   "id": "appropriate-black",
   "metadata": {},
   "source": [
    "# Train linear model"
   ]
  },
  {
   "cell_type": "code",
   "execution_count": 7,
   "id": "educated-active",
   "metadata": {},
   "outputs": [
    {
     "data": {
      "text/html": [
       "<style>div.sk-top-container {color: black;background-color: white;}div.sk-toggleable {background-color: white;}label.sk-toggleable__label {cursor: pointer;display: block;width: 100%;margin-bottom: 0;padding: 0.2em 0.3em;box-sizing: border-box;text-align: center;}div.sk-toggleable__content {max-height: 0;max-width: 0;overflow: hidden;text-align: left;background-color: #f0f8ff;}div.sk-toggleable__content pre {margin: 0.2em;color: black;border-radius: 0.25em;background-color: #f0f8ff;}input.sk-toggleable__control:checked~div.sk-toggleable__content {max-height: 200px;max-width: 100%;overflow: auto;}div.sk-estimator input.sk-toggleable__control:checked~label.sk-toggleable__label {background-color: #d4ebff;}div.sk-label input.sk-toggleable__control:checked~label.sk-toggleable__label {background-color: #d4ebff;}input.sk-hidden--visually {border: 0;clip: rect(1px 1px 1px 1px);clip: rect(1px, 1px, 1px, 1px);height: 1px;margin: -1px;overflow: hidden;padding: 0;position: absolute;width: 1px;}div.sk-estimator {font-family: monospace;background-color: #f0f8ff;margin: 0.25em 0.25em;border: 1px dotted black;border-radius: 0.25em;box-sizing: border-box;}div.sk-estimator:hover {background-color: #d4ebff;}div.sk-parallel-item::after {content: \"\";width: 100%;border-bottom: 1px solid gray;flex-grow: 1;}div.sk-label:hover label.sk-toggleable__label {background-color: #d4ebff;}div.sk-serial::before {content: \"\";position: absolute;border-left: 1px solid gray;box-sizing: border-box;top: 2em;bottom: 0;left: 50%;}div.sk-serial {display: flex;flex-direction: column;align-items: center;background-color: white;}div.sk-item {z-index: 1;}div.sk-parallel {display: flex;align-items: stretch;justify-content: center;background-color: white;}div.sk-parallel-item {display: flex;flex-direction: column;position: relative;background-color: white;}div.sk-parallel-item:first-child::after {align-self: flex-end;width: 50%;}div.sk-parallel-item:last-child::after {align-self: flex-start;width: 50%;}div.sk-parallel-item:only-child::after {width: 0;}div.sk-dashed-wrapped {border: 1px dashed gray;margin: 0.2em;box-sizing: border-box;padding-bottom: 0.1em;background-color: white;position: relative;}div.sk-label label {font-family: monospace;font-weight: bold;background-color: white;display: inline-block;line-height: 1.2em;}div.sk-label-container {position: relative;z-index: 2;text-align: center;}div.sk-container {display: inline-block;position: relative;}</style><div class=\"sk-top-container\"><div class=\"sk-container\"><div class=\"sk-item sk-dashed-wrapped\"><div class=\"sk-label-container\"><div class=\"sk-label sk-toggleable\"><input class=\"sk-toggleable__control sk-hidden--visually\" id=\"f3fa41a3-73a7-4e6c-afa0-a7c31f0f350f\" type=\"checkbox\" ><label class=\"sk-toggleable__label\" for=\"f3fa41a3-73a7-4e6c-afa0-a7c31f0f350f\">Pipeline</label><div class=\"sk-toggleable__content\"><pre>Pipeline(steps=[('prepro',\n",
       "                 ColumnTransformer(transformers=[('num',\n",
       "                                                  Pipeline(steps=[('scaler',\n",
       "                                                                   StandardScaler())]),\n",
       "                                                  ['cont0', 'cont1', 'cont2',\n",
       "                                                   'cont3', 'cont4', 'cont5',\n",
       "                                                   'cont6', 'cont7', 'cont8',\n",
       "                                                   'cont9', 'cont10', 'cont11',\n",
       "                                                   'cont12', 'cont13']),\n",
       "                                                 ('cat',\n",
       "                                                  Pipeline(steps=[('onehot',\n",
       "                                                                   OneHotEncoder(handle_unknown='ignore'))]),\n",
       "                                                  ['cat0', 'cat1', 'cat2',\n",
       "                                                   'cat3', 'cat4', 'cat5',\n",
       "                                                   'cat6', 'cat7', 'cat8',\n",
       "                                                   'cat9'])])),\n",
       "                ('model', LinearRegression())])</pre></div></div></div><div class=\"sk-serial\"><div class=\"sk-item sk-dashed-wrapped\"><div class=\"sk-label-container\"><div class=\"sk-label sk-toggleable\"><input class=\"sk-toggleable__control sk-hidden--visually\" id=\"93760cea-dd63-442e-8adc-babb547d058e\" type=\"checkbox\" ><label class=\"sk-toggleable__label\" for=\"93760cea-dd63-442e-8adc-babb547d058e\">prepro: ColumnTransformer</label><div class=\"sk-toggleable__content\"><pre>ColumnTransformer(transformers=[('num',\n",
       "                                 Pipeline(steps=[('scaler', StandardScaler())]),\n",
       "                                 ['cont0', 'cont1', 'cont2', 'cont3', 'cont4',\n",
       "                                  'cont5', 'cont6', 'cont7', 'cont8', 'cont9',\n",
       "                                  'cont10', 'cont11', 'cont12', 'cont13']),\n",
       "                                ('cat',\n",
       "                                 Pipeline(steps=[('onehot',\n",
       "                                                  OneHotEncoder(handle_unknown='ignore'))]),\n",
       "                                 ['cat0', 'cat1', 'cat2', 'cat3', 'cat4',\n",
       "                                  'cat5', 'cat6', 'cat7', 'cat8', 'cat9'])])</pre></div></div></div><div class=\"sk-parallel\"><div class=\"sk-parallel-item\"><div class=\"sk-item\"><div class=\"sk-label-container\"><div class=\"sk-label sk-toggleable\"><input class=\"sk-toggleable__control sk-hidden--visually\" id=\"a70232ea-7253-4877-b326-50d72341d407\" type=\"checkbox\" ><label class=\"sk-toggleable__label\" for=\"a70232ea-7253-4877-b326-50d72341d407\">num</label><div class=\"sk-toggleable__content\"><pre>['cont0', 'cont1', 'cont2', 'cont3', 'cont4', 'cont5', 'cont6', 'cont7', 'cont8', 'cont9', 'cont10', 'cont11', 'cont12', 'cont13']</pre></div></div></div><div class=\"sk-serial\"><div class=\"sk-item\"><div class=\"sk-serial\"><div class=\"sk-item\"><div class=\"sk-estimator sk-toggleable\"><input class=\"sk-toggleable__control sk-hidden--visually\" id=\"3b221a29-67d7-4779-a71b-e22bd4e27ffc\" type=\"checkbox\" ><label class=\"sk-toggleable__label\" for=\"3b221a29-67d7-4779-a71b-e22bd4e27ffc\">StandardScaler</label><div class=\"sk-toggleable__content\"><pre>StandardScaler()</pre></div></div></div></div></div></div></div></div><div class=\"sk-parallel-item\"><div class=\"sk-item\"><div class=\"sk-label-container\"><div class=\"sk-label sk-toggleable\"><input class=\"sk-toggleable__control sk-hidden--visually\" id=\"17dd995b-db5a-4c64-832c-a10c5c35b610\" type=\"checkbox\" ><label class=\"sk-toggleable__label\" for=\"17dd995b-db5a-4c64-832c-a10c5c35b610\">cat</label><div class=\"sk-toggleable__content\"><pre>['cat0', 'cat1', 'cat2', 'cat3', 'cat4', 'cat5', 'cat6', 'cat7', 'cat8', 'cat9']</pre></div></div></div><div class=\"sk-serial\"><div class=\"sk-item\"><div class=\"sk-serial\"><div class=\"sk-item\"><div class=\"sk-estimator sk-toggleable\"><input class=\"sk-toggleable__control sk-hidden--visually\" id=\"42ad2786-5b2f-496e-990c-da4ed6af737d\" type=\"checkbox\" ><label class=\"sk-toggleable__label\" for=\"42ad2786-5b2f-496e-990c-da4ed6af737d\">OneHotEncoder</label><div class=\"sk-toggleable__content\"><pre>OneHotEncoder(handle_unknown='ignore')</pre></div></div></div></div></div></div></div></div></div></div><div class=\"sk-item\"><div class=\"sk-estimator sk-toggleable\"><input class=\"sk-toggleable__control sk-hidden--visually\" id=\"0dffdf65-45bc-4a89-a15d-64bcdabbb9e3\" type=\"checkbox\" ><label class=\"sk-toggleable__label\" for=\"0dffdf65-45bc-4a89-a15d-64bcdabbb9e3\">LinearRegression</label><div class=\"sk-toggleable__content\"><pre>LinearRegression()</pre></div></div></div></div></div></div></div>"
      ],
      "text/plain": [
       "Pipeline(steps=[('prepro',\n",
       "                 ColumnTransformer(transformers=[('num',\n",
       "                                                  Pipeline(steps=[('scaler',\n",
       "                                                                   StandardScaler())]),\n",
       "                                                  ['cont0', 'cont1', 'cont2',\n",
       "                                                   'cont3', 'cont4', 'cont5',\n",
       "                                                   'cont6', 'cont7', 'cont8',\n",
       "                                                   'cont9', 'cont10', 'cont11',\n",
       "                                                   'cont12', 'cont13']),\n",
       "                                                 ('cat',\n",
       "                                                  Pipeline(steps=[('onehot',\n",
       "                                                                   OneHotEncoder(handle_unknown='ignore'))]),\n",
       "                                                  ['cat0', 'cat1', 'cat2',\n",
       "                                                   'cat3', 'cat4', 'cat5',\n",
       "                                                   'cat6', 'cat7', 'cat8',\n",
       "                                                   'cat9'])])),\n",
       "                ('model', LinearRegression())])"
      ]
     },
     "execution_count": 7,
     "metadata": {},
     "output_type": "execute_result"
    }
   ],
   "source": [
    "x = df[cont_features + cat_features ]\n",
    "y = df[\"target\"]\n",
    "\n",
    "pipe.fit(x, y)"
   ]
  },
  {
   "cell_type": "markdown",
   "id": "conceptual-concentration",
   "metadata": {},
   "source": [
    "# OPTUNA + VAL STRATEGY CV?"
   ]
  },
  {
   "cell_type": "code",
   "execution_count": 8,
   "id": "driven-competition",
   "metadata": {},
   "outputs": [
    {
     "data": {
      "text/plain": [
       "'2.7.0'"
      ]
     },
     "execution_count": 8,
     "metadata": {},
     "output_type": "execute_result"
    }
   ],
   "source": [
    "import optuna\n",
    "optuna.__version__"
   ]
  },
  {
   "cell_type": "code",
   "execution_count": 9,
   "id": "spanish-toolbox",
   "metadata": {},
   "outputs": [],
   "source": [
    "from sklearn.model_selection import train_test_split\n",
    "\n",
    "x_train, x_test, y_train, y_test = train_test_split(x, y, test_size=0.33, random_state=42)"
   ]
  },
  {
   "cell_type": "code",
   "execution_count": 18,
   "id": "covered-disclaimer",
   "metadata": {},
   "outputs": [],
   "source": [
    "from sklearn.metrics import mean_squared_error\n",
    "from sklearn.model_selection import cross_val_predict\n"
   ]
  },
  {
   "cell_type": "code",
   "execution_count": 16,
   "id": "relevant-trace",
   "metadata": {},
   "outputs": [],
   "source": [
    "def objective(trial):\n",
    "    \n",
    "    ################################# 1. OPTUNA will select the hparams\n",
    "    c       = trial.suggest_loguniform('svc_c', 1e-10, 1e10)\n",
    "    kernel  = trial.suggest_categorical('kernel', ['linear', 'poly', 'rbf', 'sigmoid'])\n",
    "    epsilon = trial.suggest_uniform('epsilon', 0, 1.0) # suggest_float\n",
    "    \n",
    "    #suggest_int, suggest_discrete_uniform\n",
    "    \n",
    "    ################################# 2. with those hparams --> We create the model\n",
    "    \n",
    "    print(\"TRIAL with\", c, kernel, epsilon)\n",
    "    #model = svm.SVR(C=c, kernel='linear')\n",
    "    \n",
    "    model = linear_model.LinearRegression()\n",
    "    \n",
    "    pipe = pipeline.Pipeline(steps=[('prepro', prepro), ('model', model)])\n",
    "    \n",
    "    \n",
    "    ################################# 3. OPTIAN A: Train & Validate the model (SIMPLE SPLIT)\n",
    "    \n",
    "    pipe.fit(x_train, y_train)    \n",
    "    pred = pipe.predict(x_test)\n",
    "    valition_rmse = mean_squared_error(y_test, pred) \n",
    "    \n",
    "    ################################# 3. OPTIAN B: Train & Validate the model (CrossVal)\n",
    "    \n",
    "    oof_preds = cross_val_predict(pipe, x, y, cv=5)\n",
    "    valition_rmse = mean_squared_error(y, oof_preds)\n",
    "\n",
    "    \n",
    "    \n",
    "    return valition_rmse"
   ]
  },
  {
   "cell_type": "code",
   "execution_count": 13,
   "id": "social-catch",
   "metadata": {
    "scrolled": false
   },
   "outputs": [
    {
     "name": "stderr",
     "output_type": "stream",
     "text": [
      "\u001b[32m[I 2021-05-11 11:10:16,195]\u001b[0m A new study created in memory with name: no-name-c94d4ad0-dd6c-4780-a030-cec1754ac29a\u001b[0m\n",
      "\u001b[32m[I 2021-05-11 11:10:16,234]\u001b[0m Trial 0 finished with value: 2.005807318771757e+21 and parameters: {'svc_c': 57456111.418364614, 'kernel': 'rbf', 'epsilon': 0.27744331829394997}. Best is trial 0 with value: 2.005807318771757e+21.\u001b[0m\n",
      "\u001b[32m[I 2021-05-11 11:10:16,254]\u001b[0m Trial 1 finished with value: 2.005807318771757e+21 and parameters: {'svc_c': 4.680639511580288e-06, 'kernel': 'rbf', 'epsilon': 0.9429449923052885}. Best is trial 0 with value: 2.005807318771757e+21.\u001b[0m\n",
      "\u001b[32m[I 2021-05-11 11:10:16,273]\u001b[0m Trial 2 finished with value: 2.005807318771757e+21 and parameters: {'svc_c': 0.00042266000108055415, 'kernel': 'rbf', 'epsilon': 0.6119575296904742}. Best is trial 0 with value: 2.005807318771757e+21.\u001b[0m\n",
      "\u001b[32m[I 2021-05-11 11:10:16,294]\u001b[0m Trial 3 finished with value: 2.005807318771757e+21 and parameters: {'svc_c': 1.695331143172685e-08, 'kernel': 'poly', 'epsilon': 0.5567844011985708}. Best is trial 0 with value: 2.005807318771757e+21.\u001b[0m\n",
      "\u001b[32m[I 2021-05-11 11:10:16,314]\u001b[0m Trial 4 finished with value: 2.005807318771757e+21 and parameters: {'svc_c': 8393800.358176459, 'kernel': 'poly', 'epsilon': 0.48730777278978366}. Best is trial 0 with value: 2.005807318771757e+21.\u001b[0m\n",
      "\u001b[32m[I 2021-05-11 11:10:16,333]\u001b[0m Trial 5 finished with value: 2.005807318771757e+21 and parameters: {'svc_c': 9864425.504396463, 'kernel': 'sigmoid', 'epsilon': 0.7760056804905007}. Best is trial 0 with value: 2.005807318771757e+21.\u001b[0m\n",
      "\u001b[32m[I 2021-05-11 11:10:16,353]\u001b[0m Trial 6 finished with value: 2.005807318771757e+21 and parameters: {'svc_c': 0.012058210816172145, 'kernel': 'rbf', 'epsilon': 0.9774710697192015}. Best is trial 0 with value: 2.005807318771757e+21.\u001b[0m\n",
      "\u001b[32m[I 2021-05-11 11:10:16,372]\u001b[0m Trial 7 finished with value: 2.005807318771757e+21 and parameters: {'svc_c': 6442930937.534517, 'kernel': 'linear', 'epsilon': 0.5004433925202443}. Best is trial 0 with value: 2.005807318771757e+21.\u001b[0m\n",
      "\u001b[32m[I 2021-05-11 11:10:16,390]\u001b[0m Trial 8 finished with value: 2.005807318771757e+21 and parameters: {'svc_c': 607322.033838991, 'kernel': 'poly', 'epsilon': 0.7317135604858}. Best is trial 0 with value: 2.005807318771757e+21.\u001b[0m\n"
     ]
    },
    {
     "name": "stdout",
     "output_type": "stream",
     "text": [
      "TRIAL with 57456111.418364614 rbf 0.27744331829394997\n",
      "TRIAL with 4.680639511580288e-06 rbf 0.9429449923052885\n",
      "TRIAL with 0.00042266000108055415 rbf 0.6119575296904742\n",
      "TRIAL with 1.695331143172685e-08 poly 0.5567844011985708\n",
      "TRIAL with 8393800.358176459 poly 0.48730777278978366\n",
      "TRIAL with 9864425.504396463 sigmoid 0.7760056804905007\n",
      "TRIAL with 0.012058210816172145 rbf 0.9774710697192015\n",
      "TRIAL with 6442930937.534517 linear 0.5004433925202443\n",
      "TRIAL with 607322.033838991 poly 0.7317135604858\n",
      "TRIAL with 332.32328996712994 linear 0.621512118325667\n"
     ]
    },
    {
     "name": "stderr",
     "output_type": "stream",
     "text": [
      "\u001b[32m[I 2021-05-11 11:10:16,408]\u001b[0m Trial 9 finished with value: 2.005807318771757e+21 and parameters: {'svc_c': 332.32328996712994, 'kernel': 'linear', 'epsilon': 0.621512118325667}. Best is trial 0 with value: 2.005807318771757e+21.\u001b[0m\n",
      "\u001b[32m[I 2021-05-11 11:10:16,431]\u001b[0m Trial 10 finished with value: 2.005807318771757e+21 and parameters: {'svc_c': 92.51738946064073, 'kernel': 'rbf', 'epsilon': 0.15658743791068863}. Best is trial 0 with value: 2.005807318771757e+21.\u001b[0m\n",
      "\u001b[32m[I 2021-05-11 11:10:16,455]\u001b[0m Trial 11 finished with value: 2.005807318771757e+21 and parameters: {'svc_c': 1.680083238384529e-09, 'kernel': 'rbf', 'epsilon': 0.20961936020145555}. Best is trial 0 with value: 2.005807318771757e+21.\u001b[0m\n",
      "\u001b[32m[I 2021-05-11 11:10:16,475]\u001b[0m Trial 12 finished with value: 2.005807318771757e+21 and parameters: {'svc_c': 6.263413183923478e-06, 'kernel': 'rbf', 'epsilon': 0.28592259226714223}. Best is trial 0 with value: 2.005807318771757e+21.\u001b[0m\n",
      "\u001b[32m[I 2021-05-11 11:10:16,497]\u001b[0m Trial 13 finished with value: 2.005807318771757e+21 and parameters: {'svc_c': 8.409984827173669e-07, 'kernel': 'rbf', 'epsilon': 0.006536140688714498}. Best is trial 0 with value: 2.005807318771757e+21.\u001b[0m\n",
      "\u001b[32m[I 2021-05-11 11:10:16,521]\u001b[0m Trial 14 finished with value: 2.005807318771757e+21 and parameters: {'svc_c': 1.335399340387808, 'kernel': 'sigmoid', 'epsilon': 0.35659997298693547}. Best is trial 0 with value: 2.005807318771757e+21.\u001b[0m\n",
      "\u001b[32m[I 2021-05-11 11:10:16,542]\u001b[0m Trial 15 finished with value: 2.005807318771757e+21 and parameters: {'svc_c': 0.0031132557924434968, 'kernel': 'rbf', 'epsilon': 0.9366735747001083}. Best is trial 0 with value: 2.005807318771757e+21.\u001b[0m\n",
      "\u001b[32m[I 2021-05-11 11:10:16,566]\u001b[0m Trial 16 finished with value: 2.005807318771757e+21 and parameters: {'svc_c': 2670979436.22605, 'kernel': 'rbf', 'epsilon': 0.029715520607979218}. Best is trial 0 with value: 2.005807318771757e+21.\u001b[0m\n",
      "\u001b[32m[I 2021-05-11 11:10:16,588]\u001b[0m Trial 17 finished with value: 2.005807318771757e+21 and parameters: {'svc_c': 4188.624813873711, 'kernel': 'sigmoid', 'epsilon': 0.36383572975747397}. Best is trial 0 with value: 2.005807318771757e+21.\u001b[0m\n",
      "\u001b[32m[I 2021-05-11 11:10:16,612]\u001b[0m Trial 18 finished with value: 2.005807318771757e+21 and parameters: {'svc_c': 0.08266748813576894, 'kernel': 'rbf', 'epsilon': 0.875170494549407}. Best is trial 0 with value: 2.005807318771757e+21.\u001b[0m\n"
     ]
    },
    {
     "name": "stdout",
     "output_type": "stream",
     "text": [
      "TRIAL with 92.51738946064073 rbf 0.15658743791068863\n",
      "TRIAL with 1.680083238384529e-09 rbf 0.20961936020145555\n",
      "TRIAL with 6.263413183923478e-06 rbf 0.28592259226714223\n",
      "TRIAL with 8.409984827173669e-07 rbf 0.006536140688714498\n",
      "TRIAL with 1.335399340387808 sigmoid 0.35659997298693547\n",
      "TRIAL with 0.0031132557924434968 rbf 0.9366735747001083\n",
      "TRIAL with 2670979436.22605 rbf 0.029715520607979218\n",
      "TRIAL with 4188.624813873711 sigmoid 0.36383572975747397\n",
      "TRIAL with 0.08266748813576894 rbf 0.875170494549407\n"
     ]
    },
    {
     "name": "stderr",
     "output_type": "stream",
     "text": [
      "\u001b[32m[I 2021-05-11 11:10:16,636]\u001b[0m Trial 19 finished with value: 2.005807318771757e+21 and parameters: {'svc_c': 4007317244.003479, 'kernel': 'linear', 'epsilon': 0.027783601462732677}. Best is trial 0 with value: 2.005807318771757e+21.\u001b[0m\n",
      "\u001b[32m[I 2021-05-11 11:10:16,661]\u001b[0m Trial 20 finished with value: 2.005807318771757e+21 and parameters: {'svc_c': 6182.309728423473, 'kernel': 'sigmoid', 'epsilon': 0.37427953120613433}. Best is trial 0 with value: 2.005807318771757e+21.\u001b[0m\n",
      "\u001b[32m[I 2021-05-11 11:10:16,684]\u001b[0m Trial 21 finished with value: 2.005807318771757e+21 and parameters: {'svc_c': 1.5699988700183163, 'kernel': 'sigmoid', 'epsilon': 0.1451570156705934}. Best is trial 0 with value: 2.005807318771757e+21.\u001b[0m\n",
      "\u001b[32m[I 2021-05-11 11:10:16,705]\u001b[0m Trial 22 finished with value: 2.005807318771757e+21 and parameters: {'svc_c': 363495653.57007843, 'kernel': 'linear', 'epsilon': 0.07065649287198847}. Best is trial 0 with value: 2.005807318771757e+21.\u001b[0m\n",
      "\u001b[32m[I 2021-05-11 11:10:16,729]\u001b[0m Trial 23 finished with value: 2.005807318771757e+21 and parameters: {'svc_c': 103764.8145031247, 'kernel': 'linear', 'epsilon': 0.39124805027928405}. Best is trial 0 with value: 2.005807318771757e+21.\u001b[0m\n",
      "\u001b[32m[I 2021-05-11 11:10:16,752]\u001b[0m Trial 24 finished with value: 2.005807318771757e+21 and parameters: {'svc_c': 10.665108549562321, 'kernel': 'sigmoid', 'epsilon': 0.1562006485314677}. Best is trial 0 with value: 2.005807318771757e+21.\u001b[0m\n",
      "\u001b[32m[I 2021-05-11 11:10:16,773]\u001b[0m Trial 25 finished with value: 2.005807318771757e+21 and parameters: {'svc_c': 52304204.57050433, 'kernel': 'linear', 'epsilon': 0.09610771217543304}. Best is trial 0 with value: 2.005807318771757e+21.\u001b[0m\n",
      "\u001b[32m[I 2021-05-11 11:10:16,796]\u001b[0m Trial 26 finished with value: 2.005807318771757e+21 and parameters: {'svc_c': 176779.12902685328, 'kernel': 'linear', 'epsilon': 0.2582434688566084}. Best is trial 0 with value: 2.005807318771757e+21.\u001b[0m\n",
      "\u001b[32m[I 2021-05-11 11:10:16,820]\u001b[0m Trial 27 finished with value: 2.005807318771757e+21 and parameters: {'svc_c': 146100.9042577841, 'kernel': 'sigmoid', 'epsilon': 0.42023846488417144}. Best is trial 0 with value: 2.005807318771757e+21.\u001b[0m\n"
     ]
    },
    {
     "name": "stdout",
     "output_type": "stream",
     "text": [
      "TRIAL with 4007317244.003479 linear 0.027783601462732677\n",
      "TRIAL with 6182.309728423473 sigmoid 0.37427953120613433\n",
      "TRIAL with 1.5699988700183163 sigmoid 0.1451570156705934\n",
      "TRIAL with 363495653.57007843 linear 0.07065649287198847\n",
      "TRIAL with 103764.8145031247 linear 0.39124805027928405\n",
      "TRIAL with 10.665108549562321 sigmoid 0.1562006485314677\n",
      "TRIAL with 52304204.57050433 linear 0.09610771217543304\n",
      "TRIAL with 176779.12902685328 linear 0.2582434688566084\n",
      "TRIAL with 146100.9042577841 sigmoid 0.42023846488417144\n"
     ]
    },
    {
     "name": "stderr",
     "output_type": "stream",
     "text": [
      "\u001b[32m[I 2021-05-11 11:10:16,842]\u001b[0m Trial 28 finished with value: 2.005807318771757e+21 and parameters: {'svc_c': 48985395.276989006, 'kernel': 'linear', 'epsilon': 0.14426275995834797}. Best is trial 0 with value: 2.005807318771757e+21.\u001b[0m\n",
      "\u001b[32m[I 2021-05-11 11:10:16,866]\u001b[0m Trial 29 finished with value: 2.005807318771757e+21 and parameters: {'svc_c': 86426532.74424317, 'kernel': 'linear', 'epsilon': 0.27308455686440786}. Best is trial 0 with value: 2.005807318771757e+21.\u001b[0m\n"
     ]
    },
    {
     "name": "stdout",
     "output_type": "stream",
     "text": [
      "TRIAL with 48985395.276989006 linear 0.14426275995834797\n",
      "TRIAL with 86426532.74424317 linear 0.27308455686440786\n"
     ]
    }
   ],
   "source": [
    "#study = optuna.create_study(direction='minimize', sampler = optuna.samplers.GridSampler()) \n",
    "#study = optuna.create_study(direction='minimize', sampler = optuna.samplers.RandomSampler()) \n",
    "#study = optuna.create_study(direction='minimize', sampler = optuna.samplers.CmaEsSampler() )\n",
    "#study = optuna.create_study(direction='minimize', sampler = optuna.samplers.TPESampler(multivariate = False)) \n",
    "#study = optuna.create_study(direction='minimize', sampler = optuna.samplers.TPESampler(multivariate = True)) \n",
    "study = optuna.create_study(direction='minimize') \n",
    "\n",
    "study.optimize(objective, n_trials=300) # Recommend: 100, 200"
   ]
  },
  {
   "cell_type": "markdown",
   "id": "scientific-thompson",
   "metadata": {},
   "source": [
    "# TRAIN AGIAN WITH THE BERST HPARAMS FOUND BY OPUTNA"
   ]
  },
  {
   "cell_type": "code",
   "execution_count": 14,
   "id": "precise-authorization",
   "metadata": {},
   "outputs": [
    {
     "data": {
      "text/plain": [
       "{'svc_c': 57456111.418364614, 'kernel': 'rbf', 'epsilon': 0.27744331829394997}"
      ]
     },
     "execution_count": 14,
     "metadata": {},
     "output_type": "execute_result"
    }
   ],
   "source": [
    "study.best_params"
   ]
  },
  {
   "cell_type": "code",
   "execution_count": null,
   "id": "embedded-musical",
   "metadata": {},
   "outputs": [],
   "source": [
    "\n",
    "new_model = model(**study.best_params)"
   ]
  },
  {
   "cell_type": "markdown",
   "id": "mobile-making",
   "metadata": {},
   "source": [
    "# See coefficients"
   ]
  },
  {
   "cell_type": "code",
   "execution_count": 11,
   "id": "apart-reducing",
   "metadata": {},
   "outputs": [
    {
     "data": {
      "text/plain": [
       "70"
      ]
     },
     "execution_count": 11,
     "metadata": {},
     "output_type": "execute_result"
    }
   ],
   "source": [
    "cat_onehot_features = pipe[\"prepro\"].named_transformers_[\"cat\"]['onehot'].get_feature_names(cat_features).tolist()\n",
    "\n",
    "all_features = cont_features + cat_onehot_features\n",
    "len(all_features)"
   ]
  },
  {
   "cell_type": "code",
   "execution_count": 13,
   "id": "answering-advantage",
   "metadata": {},
   "outputs": [],
   "source": [
    "coefs = pipe[\"model\"].coef_.tolist()"
   ]
  },
  {
   "cell_type": "code",
   "execution_count": 14,
   "id": "identical-property",
   "metadata": {},
   "outputs": [
    {
     "data": {
      "text/html": [
       "<div>\n",
       "<style scoped>\n",
       "    .dataframe tbody tr th:only-of-type {\n",
       "        vertical-align: middle;\n",
       "    }\n",
       "\n",
       "    .dataframe tbody tr th {\n",
       "        vertical-align: top;\n",
       "    }\n",
       "\n",
       "    .dataframe thead th {\n",
       "        text-align: right;\n",
       "    }\n",
       "</style>\n",
       "<table border=\"1\" class=\"dataframe\">\n",
       "  <thead>\n",
       "    <tr style=\"text-align: right;\">\n",
       "      <th></th>\n",
       "      <th>Coefs</th>\n",
       "    </tr>\n",
       "  </thead>\n",
       "  <tbody>\n",
       "    <tr>\n",
       "      <th>cont0</th>\n",
       "      <td>-5.863777e-02</td>\n",
       "    </tr>\n",
       "    <tr>\n",
       "      <th>cont1</th>\n",
       "      <td>3.628011e-02</td>\n",
       "    </tr>\n",
       "    <tr>\n",
       "      <th>cont2</th>\n",
       "      <td>1.773693e-03</td>\n",
       "    </tr>\n",
       "    <tr>\n",
       "      <th>cont3</th>\n",
       "      <td>-5.698778e-03</td>\n",
       "    </tr>\n",
       "    <tr>\n",
       "      <th>cont4</th>\n",
       "      <td>-5.333955e-03</td>\n",
       "    </tr>\n",
       "    <tr>\n",
       "      <th>...</th>\n",
       "      <td>...</td>\n",
       "    </tr>\n",
       "    <tr>\n",
       "      <th>cat9_K</th>\n",
       "      <td>-8.281560e+10</td>\n",
       "    </tr>\n",
       "    <tr>\n",
       "      <th>cat9_L</th>\n",
       "      <td>-8.281560e+10</td>\n",
       "    </tr>\n",
       "    <tr>\n",
       "      <th>cat9_M</th>\n",
       "      <td>-8.281560e+10</td>\n",
       "    </tr>\n",
       "    <tr>\n",
       "      <th>cat9_N</th>\n",
       "      <td>-8.281560e+10</td>\n",
       "    </tr>\n",
       "    <tr>\n",
       "      <th>cat9_O</th>\n",
       "      <td>-8.281560e+10</td>\n",
       "    </tr>\n",
       "  </tbody>\n",
       "</table>\n",
       "<p>70 rows × 1 columns</p>\n",
       "</div>"
      ],
      "text/plain": [
       "               Coefs\n",
       "cont0  -5.863777e-02\n",
       "cont1   3.628011e-02\n",
       "cont2   1.773693e-03\n",
       "cont3  -5.698778e-03\n",
       "cont4  -5.333955e-03\n",
       "...              ...\n",
       "cat9_K -8.281560e+10\n",
       "cat9_L -8.281560e+10\n",
       "cat9_M -8.281560e+10\n",
       "cat9_N -8.281560e+10\n",
       "cat9_O -8.281560e+10\n",
       "\n",
       "[70 rows x 1 columns]"
      ]
     },
     "execution_count": 14,
     "metadata": {},
     "output_type": "execute_result"
    }
   ],
   "source": [
    "coefs_df = pd.DataFrame(data=coefs, index=all_features, columns=[\"Coefs\"])\n",
    "coefs_df"
   ]
  },
  {
   "cell_type": "code",
   "execution_count": 15,
   "id": "injured-expense",
   "metadata": {},
   "outputs": [
    {
     "data": {
      "image/png": "[encoded data removed]",
      "text/plain": [
       "<Figure size 576x1008 with 1 Axes>"
      ]
     },
     "metadata": {
      "needs_background": "light"
     },
     "output_type": "display_data"
    }
   ],
   "source": [
    "coefs_df[\"Coefs\"].abs().sort_values().plot.barh(figsize=(8,14));"
   ]
  },
  {
   "cell_type": "code",
   "execution_count": 16,
   "id": "rising-apparatus",
   "metadata": {},
   "outputs": [
    {
     "data": {
      "image/png": "[encoded data removed]",
      "text/plain": [
       "<Figure size 576x288 with 1 Axes>"
      ]
     },
     "metadata": {
      "needs_background": "light"
     },
     "output_type": "display_data"
    }
   ],
   "source": [
    "coefs_df.head(14)[\"Coefs\"].abs().sort_values().plot.barh(figsize=(8,4));"
   ]
  }
 ],
 "metadata": {
  "kernelspec": {
   "display_name": "Python 3",
   "language": "python",
   "name": "python3"
  },
  "language_info": {
   "codemirror_mode": {
    "name": "ipython",
    "version": 3
   },
   "file_extension": ".py",
   "mimetype": "text/x-python",
   "name": "python",
   "nbconvert_exporter": "python",
   "pygments_lexer": "ipython3",
   "version": "3.9.4"
  }
 },
 "nbformat": 4,
 "nbformat_minor": 5
}
