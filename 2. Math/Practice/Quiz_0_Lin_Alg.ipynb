{
 "cells": [
  {
   "cell_type": "markdown",
   "metadata": {},
   "source": [
    "# Vectors and Matrices\n",
    "Time to work! Do it with numpy first and then if you have time, manually by hand :)"
   ]
  },
  {
   "cell_type": "markdown",
   "metadata": {},
   "source": [
    "## Vectors"
   ]
  },
  {
   "cell_type": "markdown",
   "metadata": {},
   "source": [
    "Lists can be used to represent mathematical vectors. In this exercise and several that follow you will write functions to perform standard operations on vectors. Create a file named vectors.py or use the Jupyter notebook provided\n",
    "\n",
    "Write a function add_vectors(u, v) that takes two lists of numbers of the same length, and returns a new list containing the sums of the corresponding elements of each.\n",
    "\n",
    "**Note that the text in \"\"\" \"\"\" is provided for you to accurately verify that your function works :)**"
   ]
  },
  {
   "cell_type": "code",
   "execution_count": 5,
   "metadata": {},
   "outputs": [
    {
     "output_type": "execute_result",
     "data": {
      "text/plain": [
       "'\\n  >>> add_vectors([1, 0], [1, 1])\\n  [2, 1]\\n  >>> add_vectors([1, 2], [1, 4])\\n  [2, 6]\\n  >>> add_vectors([1, 2, 1], [1, 4, 3])\\n  [2, 6, 4]\\n  >>> add_vectors([11, 0, -4, 5], [2, -4, 17, 0])\\n  [13, -4, 13, 5]\\n  >>> a = [1, 2, 3]\\n  >>> b = [1, 1, 1]\\n  >>> add_vectors(a, b)\\n  [2, 3, 4]\\n  >>> a\\n  [1, 2, 3]\\n  >>> b\\n  [1, 1, 1]\\n'"
      ]
     },
     "metadata": {},
     "execution_count": 5
    }
   ],
   "source": [
    "\n",
    "\n",
    "    \n",
    "\n",
    "\n",
    "\n",
    "\n",
    "    \"\"\"\n",
    "      >>> add_vectors([1, 0], [1, 1])\n",
    "      [2, 1]\n",
    "      >>> add_vectors([1, 2], [1, 4])\n",
    "      [2, 6]\n",
    "      >>> add_vectors([1, 2, 1], [1, 4, 3])\n",
    "      [2, 6, 4]\n",
    "      >>> add_vectors([11, 0, -4, 5], [2, -4, 17, 0])\n",
    "      [13, -4, 13, 5]\n",
    "      >>> a = [1, 2, 3]\n",
    "      >>> b = [1, 1, 1]\n",
    "      >>> add_vectors(a, b)\n",
    "      [2, 3, 4]\n",
    "      >>> a\n",
    "      [1, 2, 3]\n",
    "      >>> b\n",
    "      [1, 1, 1]\n",
    "    \"\"\"\n"
   ]
  },
  {
   "cell_type": "code",
   "execution_count": 39,
   "metadata": {},
   "outputs": [
    {
     "output_type": "execute_result",
     "data": {
      "text/plain": [
       "[2, 1, 9]"
      ]
     },
     "metadata": {},
     "execution_count": 39
    }
   ],
   "source": [
    "import numpy as np\n",
    "def add_vectors(u, v):\n",
    "  l=[]\n",
    "  for i in range(len(u)):\n",
    "    l.append(u[i] + v[i])\n",
    "  return l\n",
    "\n",
    "add_vectors([1, 0,3], [1, 1, 6])\n",
    "\n",
    "\n"
   ]
  },
  {
   "cell_type": "code",
   "execution_count": 40,
   "metadata": {},
   "outputs": [
    {
     "output_type": "execute_result",
     "data": {
      "text/plain": [
       "array([2, 1])"
      ]
     },
     "metadata": {},
     "execution_count": 40
    }
   ],
   "source": [
    "def add_vectors_np(u, v):\n",
    "    return np.add(u,v)\n",
    "add_vectors_np([1, 0], [1, 1])    "
   ]
  },
  {
   "cell_type": "markdown",
   "metadata": {},
   "source": [
    "Write a function scalar_mult(s, v) that takes a number, s, and a list, v and returns the [scalar multiple](https://en.wikipedia.org/wiki/Scalar_multiplication) of v by s."
   ]
  },
  {
   "cell_type": "code",
   "execution_count": 2,
   "metadata": {},
   "outputs": [],
   "source": [
    "def scalar_mult(s, v):\n",
    "  \n",
    "    \"\"\"\n",
    "      >>> scalar_mult(5, [1, 2])\n",
    "      [5, 10]\n",
    "      >>> scalar_mult(3, [1, 0, -1])\n",
    "      [3, 0, -3]\n",
    "      >>> scalar_mult(7, [3, 0, 5, 11, 2])\n",
    "      [21, 0, 35, 77, 14]\n",
    "      >>> a = [1, 2, 3]\n",
    "      >>> scalar_mult(4, a)\n",
    "      [4, 8, 12]\n",
    "      >>> a\n",
    "      [1, 2, 3]\n",
    "    \"\"\""
   ]
  },
  {
   "cell_type": "markdown",
   "metadata": {},
   "source": [
    "Write a function dot_product(u, v) that takes two lists of numbers of the same length, and returns the sum of the products of the corresponding elements of each (the [dot_product](https://en.wikipedia.org/wiki/Dot_product)."
   ]
  },
  {
   "cell_type": "code",
   "execution_count": 67,
   "metadata": {},
   "outputs": [
    {
     "output_type": "execute_result",
     "data": {
      "text/plain": [
       "[5, 10]"
      ]
     },
     "metadata": {},
     "execution_count": 67
    }
   ],
   "source": [
    "def scalar_mult(s, v):\n",
    "    l=[]\n",
    "    for i in range(len(v)):\n",
    "        l.append(s*(v[i]))\n",
    "    return l\n",
    "\n",
    "scalar_mult(5, [1, 2])\n",
    "\n",
    "\n"
   ]
  },
  {
   "cell_type": "code",
   "execution_count": 71,
   "metadata": {},
   "outputs": [
    {
     "output_type": "execute_result",
     "data": {
      "text/plain": [
       "[5, 10]"
      ]
     },
     "metadata": {},
     "execution_count": 71
    }
   ],
   "source": [
    "\"\"\"shorter version\"\"\"\n",
    "def scalar_short(s,v):\n",
    "    l = []\n",
    "    for i in v:\n",
    "        l.append(s*i)\n",
    "    return l    \n",
    "scalar_short(5, [1, 2])"
   ]
  },
  {
   "cell_type": "code",
   "execution_count": 66,
   "metadata": {},
   "outputs": [
    {
     "output_type": "execute_result",
     "data": {
      "text/plain": [
       "array([ 5, 10])"
      ]
     },
     "metadata": {},
     "execution_count": 66
    }
   ],
   "source": [
    "def scalar_mult_np(s, v):\n",
    "    return np.array(v)*s\n",
    "\n",
    "scalar_mult_np(5, [1, 2])\n",
    "    "
   ]
  },
  {
   "cell_type": "code",
   "execution_count": 69,
   "metadata": {},
   "outputs": [],
   "source": [
    "def dot_product(u, v):\n",
    "    \n",
    "assert dot_product([1, 1], [1, 1])\n",
    "2>>> 4])\n",
    "9\n",
    ">>> dot_product([1, 2, 1], [1, 4, 3])\n",
    "12\n",
    ">>> dot_product([2, 0, -1, 1], [1, 5, 2, 0])\n",
    "0\n",
    "    "
   ]
  },
  {
   "cell_type": "code",
   "execution_count": 108,
   "metadata": {},
   "outputs": [],
   "source": [
    "def dot_product(u,v):\n",
    "    c=[x*y for x,y in zip(u,v)]\n",
    "    return sum(c)\n",
    "#dot_product([1, 1], [1, 1])\n",
    "\n",
    "assert dot_product([1, 2], [1,4]) == 9\n",
    "assert dot_product([1, 2, 1], [1, 4, 3]) == 12\n",
    "assert dot_product([2, 0, -1, 1], [1, 5, 2, 0]) == 0"
   ]
  },
  {
   "cell_type": "code",
   "execution_count": 102,
   "metadata": {},
   "outputs": [
    {
     "output_type": "execute_result",
     "data": {
      "text/plain": [
       "2"
      ]
     },
     "metadata": {},
     "execution_count": 102
    }
   ],
   "source": [
    "def dot_product(u,v):\n",
    "   return sum(u[i]*v[i] for i in u)\n",
    "    \n",
    "dot_product([1, 1], [1, 1])"
   ]
  },
  {
   "cell_type": "code",
   "execution_count": 80,
   "metadata": {},
   "outputs": [],
   "source": [
    "def dot_product_np(u,v):\n",
    "    return np.dot(u,v)"
   ]
  },
  {
   "cell_type": "code",
   "execution_count": 127,
   "metadata": {},
   "outputs": [
    {
     "output_type": "execute_result",
     "data": {
      "text/plain": [
       "2"
      ]
     },
     "metadata": {},
     "execution_count": 127
    }
   ],
   "source": [
    "dot_product_np([1, 1], [1, 1])"
   ]
  },
  {
   "cell_type": "markdown",
   "metadata": {},
   "source": [
    "## Matrices"
   ]
  },
  {
   "cell_type": "markdown",
   "metadata": {},
   "source": [
    "Create a new module named matrices.py or *use the Jupyter notebook provided* and add the following function, which returns a copy of nested lists of numbers such that the lists are not aliases:"
   ]
  },
  {
   "cell_type": "code",
   "execution_count": 6,
   "metadata": {},
   "outputs": [],
   "source": [
    "def copy_matrix(matrix):\n",
    "    \"\"\"\n",
    "      >>> copy_matrix([[1, 2], [3, 4]])\n",
    "      [[1, 2], [3, 4]]\n",
    "      >>> copy_matrix([[1, 2, 3], [4, 5, 6]])\n",
    "      [[1, 2, 3], [4, 5, 6]]\n",
    "      >>> copy_matrix([[1, 2], [3, 4], [5, 6], [7, 8]])\n",
    "      [[1, 2], [3, 4], [5, 6], [7, 8]]\n",
    "      >>> m = [[1, 0, 0], [0, 2, 0], [0, 0, 3]]\n",
    "      >>> copyofm = copy_matrix(m)\n",
    "      >>> copyofm\n",
    "      [[1, 0, 0], [0, 2, 0], [0, 0, 3]]\n",
    "      >>> for row_num, row in enumerate(copyofm):\n",
    "      ...     for col_num, col_val in enumerate(row):\n",
    "      ...         copyofm[row_num][col_num] = 42\n",
    "      ...\n",
    "      >>> copyofm\n",
    "      [[42, 42, 42], [42, 42, 42], [42, 42, 42]]\n",
    "      >>> m\n",
    "      [[1, 0, 0], [0, 2, 0], [0, 0, 3]]\n",
    "    \"\"\""
   ]
  },
  {
   "cell_type": "code",
   "execution_count": 120,
   "metadata": {},
   "outputs": [
    {
     "output_type": "execute_result",
     "data": {
      "text/plain": [
       "True"
      ]
     },
     "metadata": {},
     "execution_count": 120
    }
   ],
   "source": [
    "m =[[2,3],[4,2]]\n",
    "def copy_matrix(matrix):\n",
    "    \n",
    "    return matrix.copy()\n",
    "\n",
    "\n",
    "copy_matrix(m) is m \n",
    "copy_matrix(m) == m      "
   ]
  },
  {
   "cell_type": "code",
   "execution_count": null,
   "metadata": {},
   "outputs": [],
   "source": [
    "def add_row(matrix):\n",
    "    \"\"\"\n",
    "      >>> m = [[0, 0], [0, 0]]\n",
    "      >>> add_row(m)\n",
    "      [[0, 0], [0, 0], [0, 0]]\n",
    "      >>> n = [[3, 2, 5], [1, 4, 7]]\n",
    "      >>> add_row(n)\n",
    "      [[3, 2, 5], [1, 4, 7], [0, 0, 0]]\n",
    "      >>> n\n",
    "      [[3, 2, 5], [1, 4, 7]]\n",
    "    \"\"\""
   ]
  },
  {
   "cell_type": "code",
   "execution_count": 9,
   "metadata": {},
   "outputs": [
    {
     "output_type": "execute_result",
     "data": {
      "text/plain": [
       "array([[0, 0],\n",
       "       [0, 0],\n",
       "       [1, 2]])"
      ]
     },
     "metadata": {},
     "execution_count": 9
    }
   ],
   "source": [
    "def add_row(matrix,r):\n",
    "    return np.vstack([matrix,r])\n",
    "\n",
    "m = [[0, 0], [0, 0]]\n",
    "add_row(m, [1,2])   "
   ]
  },
  {
   "cell_type": "code",
   "execution_count": null,
   "metadata": {},
   "outputs": [],
   "source": [
    "def add_column(matrix):\n",
    "    \"\"\"\n",
    "      >>> m = [[0, 0], [0, 0]]\n",
    "      >>> add_column(m)\n",
    "      [[0, 0, 0], [0, 0, 0]]\n",
    "      >>> n = [[3, 2], [5, 1], [4, 7]]\n",
    "      >>> add_column(n)\n",
    "      [[3, 2, 0], [5, 1, 0], [4, 7, 0]]\n",
    "      >>> n\n",
    "      [[3, 2], [5, 1], [4, 7]]\n",
    "    \"\"\""
   ]
  },
  {
   "cell_type": "markdown",
   "metadata": {},
   "source": [
    "Write a function add_matrices(m1, m2) that adds m1 and m2 and returns a new matrix containing their sum. You can assume that m1 and m2 are the same size. You add two matrices by adding their corresponding values."
   ]
  },
  {
   "cell_type": "code",
   "execution_count": 56,
   "metadata": {},
   "outputs": [
    {
     "output_type": "execute_result",
     "data": {
      "text/plain": [
       "array([[3, 2, 0],\n",
       "       [5, 1, 0],\n",
       "       [4, 7, 0]])"
      ]
     },
     "metadata": {},
     "execution_count": 56
    }
   ],
   "source": [
    "def add_column(matrix):\n",
    "    m=[]\n",
    "    \n",
    "    for i in range(len(matrix)):\n",
    "        m.append(0)\n",
    "    return np.column_stack([matrix,m])\n",
    "\n",
    "n = [[3, 2], [5, 1], [4, 7]]\n",
    "add_column(n)  "
   ]
  },
  {
   "cell_type": "code",
   "execution_count": 18,
   "metadata": {},
   "outputs": [],
   "source": [
    "def add_column_np(n, col):\n",
    "    return np.column_stack([n,col])\n",
    "\n",
    "n = [[3, 2], [5, 1], [4, 7]]\n",
    "add_column_np(n, [8,5,3])    "
   ]
  },
  {
   "cell_type": "code",
   "execution_count": 58,
   "metadata": {},
   "outputs": [
    {
     "output_type": "execute_result",
     "data": {
      "text/plain": [
       "array([[3, 2, 8],\n",
       "       [5, 1, 5],\n",
       "       [4, 7, 3]])"
      ]
     },
     "metadata": {},
     "execution_count": 58
    }
   ],
   "source": [
    "def add_matrices(m1, m2):\n",
    "    \"\"\"\n",
    "      >>> a = [[1, 2], [3, 4]]\n",
    "      >>> b = [[2, 2], [2, 2]]\n",
    "      >>> add_matrices(a, b)\n",
    "      [[3, 4], [5, 6]]\n",
    "      >>> c = [[8, 2], [3, 4], [5, 7]]\n",
    "      >>> d = [[3, 2], [9, 2], [10, 12]]\n",
    "      >>> add_matrices(c, d)\n",
    "      [[11, 4], [12, 6], [15, 19]]\n",
    "      >>> c\n",
    "      [[8, 2], [3, 4], [5, 7]]\n",
    "      >>> d\n",
    "      [[3, 2], [9, 2], [10, 12]]\n",
    "   \"\"\""
   ]
  },
  {
   "cell_type": "markdown",
   "metadata": {},
   "source": [
    "Write a function scalar_mult(s, m) that multiplies a matrix, m, by a scalar, s."
   ]
  },
  {
   "cell_type": "code",
   "execution_count": 137,
   "metadata": {},
   "outputs": [
    {
     "output_type": "execute_result",
     "data": {
      "text/plain": [
       "matrix([[3, 4],\n",
       "        [5, 6]])"
      ]
     },
     "metadata": {},
     "execution_count": 137
    }
   ],
   "source": [
    "def add_matrices(m1, m2):\n",
    "    m3 =[]\n",
    "    for x,y in zip(m1,m2):\n",
    "        m3.append(np.add(x,y))\n",
    "    return np.asmatrix(m3)    \n",
    "        \n",
    "a = [[1, 2], [3, 4]]\n",
    "b = [[2, 2], [2, 2]]\n",
    "add_matrices(a, b)       "
   ]
  },
  {
   "cell_type": "code",
   "execution_count": 150,
   "metadata": {},
   "outputs": [
    {
     "output_type": "stream",
     "name": "stdout",
     "text": [
      "[[1 2]\n [3 4]]\n[[2 2]\n [2 2]]\n"
     ]
    },
    {
     "output_type": "execute_result",
     "data": {
      "text/plain": [
       "matrix([[3, 4],\n",
       "        [5, 6]])"
      ]
     },
     "metadata": {},
     "execution_count": 150
    }
   ],
   "source": [
    "def add_matrices_np(m1, m2):\n",
    "    \n",
    "    m1 = np.matrix(m1)\n",
    "    m2 = np.matrix(m2)\n",
    "    \n",
    "    print(m1)\n",
    "    print(m2)\n",
    "    return m1 + m2\n",
    "\n",
    "\n",
    "a = [[1, 2], [3, 4]]\n",
    "b = [[2, 2], [2, 2]]\n",
    "add_matrices_np(a, b)    "
   ]
  },
  {
   "cell_type": "code",
   "execution_count": 8,
   "metadata": {},
   "outputs": [],
   "source": [
    "def scalar_mult(s, m):\n",
    "    \"\"\"\n",
    "      >>> a = [[1, 2], [3, 4]]\n",
    "      >>> scalar_mult(3, a)\n",
    "      [[3, 6], [9, 12]]\n",
    "      >>> b = [[3, 5, 7], [1, 1, 1], [0, 2, 0], [2, 2, 3]]\n",
    "      >>> scalar_mult(10, b)\n",
    "      [[30, 50, 70], [10, 10, 10], [0, 20, 0], [20, 20, 30]]\n",
    "      >>> b\n",
    "      [[3, 5, 7], [1, 1, 1], [0, 2, 0], [2, 2, 3]]\n",
    "    \"\"\""
   ]
  },
  {
   "cell_type": "code",
   "execution_count": 151,
   "metadata": {},
   "outputs": [
    {
     "output_type": "stream",
     "name": "stdout",
     "text": [
      "[[1 2]\n [3 4]]\n"
     ]
    },
    {
     "output_type": "execute_result",
     "data": {
      "text/plain": [
       "matrix([[ 3,  6],\n",
       "        [ 9, 12]])"
      ]
     },
     "metadata": {},
     "execution_count": 151
    }
   ],
   "source": [
    "def scalar_mult(s, m):\n",
    "    m = np.matrix(m)\n",
    "    print(m)\n",
    "    return m*s\n",
    "    \n",
    "a = [[1, 2], [3, 4]]\n",
    "scalar_mult(3, a)"
   ]
  },
  {
   "cell_type": "code",
   "execution_count": 156,
   "metadata": {},
   "outputs": [
    {
     "output_type": "execute_result",
     "data": {
      "text/plain": [
       "matrix([[ 3,  6],\n",
       "        [ 9, 12],\n",
       "        [15, 18]])"
      ]
     },
     "metadata": {},
     "execution_count": 156
    }
   ],
   "source": [
    "def scalar_mult(s, m):\n",
    "    m = np.matrix(m)    # trasfer vectors to matrix\n",
    "    shape = np.shape(m) # set columns and rows\n",
    "    flat = m.flatten()   # flat vectors\n",
    "    vector_muliplied = flat*s             #vector mulitplied\n",
    "    return np.matrix(vector_muliplied.reshape(shape)) #reshape vector into matrix\n",
    "\n",
    "a = [[1, 2], [3, 4], [5,6]]    \n",
    "scalar_mult(3, a)                "
   ]
  },
  {
   "cell_type": "markdown",
   "metadata": {},
   "source": [
    "Write functions row_times_column and matrix_mult:"
   ]
  },
  {
   "cell_type": "code",
   "execution_count": 9,
   "metadata": {},
   "outputs": [],
   "source": [
    "def row_times_column(m1, row, m2, column):\n",
    "    \"\"\"\n",
    "      >>> row_times_column([[1, 2], [3, 4]], 0, [[5, 6], [7, 8]], 0)\n",
    "      19\n",
    "      >>> row_times_column([[1, 2], [3, 4]], 0, [[5, 6], [7, 8]], 1)\n",
    "      22\n",
    "      >>> row_times_column([[1, 2], [3, 4]], 1, [[5, 6], [7, 8]], 0)\n",
    "      43\n",
    "      >>> row_times_column([[1, 2], [3, 4]], 1, [[5, 6], [7, 8]], 1)\n",
    "      50\n",
    "    \"\"\""
   ]
  },
  {
   "cell_type": "code",
   "execution_count": 161,
   "metadata": {},
   "outputs": [
    {
     "output_type": "execute_result",
     "data": {
      "text/plain": [
       "19"
      ]
     },
     "metadata": {},
     "execution_count": 161
    }
   ],
   "source": [
    "def row_times_column(m1, row, m2, column):\n",
    "    a=np.matmul(m1, m2)\n",
    "    return  a[row][column]\n",
    "    \n",
    "row_times_column([[1, 2], [3, 4]], 0, [[5, 6], [7, 8]], 0)    "
   ]
  },
  {
   "cell_type": "code",
   "execution_count": 10,
   "metadata": {},
   "outputs": [],
   "source": [
    "def matrix_mult(m1, m2):\n",
    "   \"\"\"\n",
    "      >>> matrix_mult([[1, 2], [3,  4]], [[5, 6], [7, 8]])\n",
    "      [[19, 22], [43, 50]]\n",
    "      >>> matrix_mult([[1, 2, 3], [4,  5, 6]], [[7, 8], [9, 1], [2, 3]])\n",
    "      [[31, 19], [85, 55]]\n",
    "      >>> matrix_mult([[7, 8], [9, 1], [2, 3]], [[1, 2, 3], [4, 5, 6]])\n",
    "      [[39, 54, 69], [13, 23, 33], [14, 19, 24]]\n",
    "    \"\"\""
   ]
  },
  {
   "cell_type": "code",
   "execution_count": 159,
   "metadata": {},
   "outputs": [
    {
     "output_type": "execute_result",
     "data": {
      "text/plain": [
       "array([[31, 19],\n",
       "       [85, 55]])"
      ]
     },
     "metadata": {},
     "execution_count": 159
    }
   ],
   "source": [
    "def matrix_mult(m1, m2):\n",
    "    a=np.matmul(m1, m2)\n",
    "    return  a\n",
    "\n",
    "matrix_mult([[1, 2, 3], [4,  5, 6]], [[7, 8], [9, 1], [2, 3]])\n",
    "        "
   ]
  },
  {
   "cell_type": "markdown",
   "metadata": {},
   "source": [
    "Write a function transpose that takes a matrix as an argument and returns is transpose:"
   ]
  },
  {
   "cell_type": "code",
   "execution_count": 179,
   "metadata": {},
   "outputs": [
    {
     "output_type": "error",
     "ename": "NameError",
     "evalue": "name 'name' is not defined",
     "traceback": [
      "\u001b[1;31m---------------------------------------------------------------------------\u001b[0m",
      "\u001b[1;31mNameError\u001b[0m                                 Traceback (most recent call last)",
      "\u001b[1;32m<ipython-input-179-eeabf4a7f1b6>\u001b[0m in \u001b[0;36m<module>\u001b[1;34m\u001b[0m\n\u001b[0;32m     11\u001b[0m \u001b[1;33m[\u001b[0m\u001b[1;33m[\u001b[0m\u001b[1;36m3\u001b[0m\u001b[1;33m,\u001b[0m \u001b[1;36m1\u001b[0m\u001b[1;33m]\u001b[0m\u001b[1;33m,\u001b[0m \u001b[1;33m[\u001b[0m\u001b[1;36m4\u001b[0m\u001b[1;33m,\u001b[0m \u001b[1;36m5\u001b[0m\u001b[1;33m]\u001b[0m\u001b[1;33m,\u001b[0m \u001b[1;33m[\u001b[0m\u001b[1;36m6\u001b[0m\u001b[1;33m,\u001b[0m \u001b[1;36m9\u001b[0m\u001b[1;33m]\u001b[0m\u001b[1;33m]\u001b[0m\u001b[1;33m\u001b[0m\u001b[1;33m\u001b[0m\u001b[0m\n\u001b[0;32m     12\u001b[0m \u001b[1;33m\u001b[0m\u001b[0m\n\u001b[1;32m---> 13\u001b[1;33m \u001b[1;32mif\u001b[0m \u001b[0mname\u001b[0m \u001b[1;33m==\u001b[0m \u001b[1;34m'main'\u001b[0m\u001b[1;33m:\u001b[0m\u001b[1;33m\u001b[0m\u001b[1;33m\u001b[0m\u001b[0m\n\u001b[0m\u001b[0;32m     14\u001b[0m   \u001b[1;32mimport\u001b[0m \u001b[0mdoctest\u001b[0m\u001b[1;33m\u001b[0m\u001b[1;33m\u001b[0m\u001b[0m\n\u001b[0;32m     15\u001b[0m   \u001b[0mprint\u001b[0m\u001b[1;33m(\u001b[0m\u001b[0mdoctest\u001b[0m\u001b[1;33m.\u001b[0m\u001b[0mtestmod\u001b[0m\u001b[1;33m(\u001b[0m\u001b[0mverbose\u001b[0m\u001b[1;33m=\u001b[0m\u001b[1;32mTrue\u001b[0m\u001b[1;33m)\u001b[0m\u001b[1;33m)\u001b[0m\u001b[1;33m\u001b[0m\u001b[1;33m\u001b[0m\u001b[0m\n",
      "\u001b[1;31mNameError\u001b[0m: name 'name' is not defined"
     ]
    }
   ],
   "source": [
    "def transpose(m):\n",
    "    return np.transpose(m)\n",
    "   \n",
    "m = [[3, 4, 6]]\n",
    "transpose(m)\n",
    "[[3], [4], [6]]\n",
    "m\n",
    "[3, 4, 6]\n",
    "m = [[3, 4, 6], [1, 5, 9]]\n",
    "transpose(m)\n",
    "[[3, 1], [4, 5], [6, 9]]\n",
    "   \n",
    "if name == 'main':\n",
    "  import doctest\n",
    "  print(doctest.testmod(verbose=True))   "
   ]
  },
  {
   "cell_type": "code",
   "execution_count": 169,
   "metadata": {},
   "outputs": [
    {
     "output_type": "error",
     "ename": "ValueError",
     "evalue": "too many values to unpack (expected 2)",
     "traceback": [
      "\u001b[1;31m---------------------------------------------------------------------------\u001b[0m",
      "\u001b[1;31mValueError\u001b[0m                                Traceback (most recent call last)",
      "\u001b[1;32m<ipython-input-169-2f3be44e7440>\u001b[0m in \u001b[0;36m<module>\u001b[1;34m\u001b[0m\n\u001b[0;32m      4\u001b[0m \u001b[1;33m\u001b[0m\u001b[0m\n\u001b[0;32m      5\u001b[0m \u001b[0mm\u001b[0m \u001b[1;33m=\u001b[0m \u001b[1;33m[\u001b[0m\u001b[1;33m[\u001b[0m\u001b[1;36m3\u001b[0m\u001b[1;33m,\u001b[0m \u001b[1;36m4\u001b[0m\u001b[1;33m,\u001b[0m \u001b[1;36m6\u001b[0m\u001b[1;33m]\u001b[0m\u001b[1;33m]\u001b[0m\u001b[1;33m\u001b[0m\u001b[1;33m\u001b[0m\u001b[0m\n\u001b[1;32m----> 6\u001b[1;33m \u001b[0mtranspose\u001b[0m\u001b[1;33m(\u001b[0m\u001b[0mm\u001b[0m\u001b[1;33m)\u001b[0m\u001b[1;33m\u001b[0m\u001b[1;33m\u001b[0m\u001b[0m\n\u001b[0m",
      "\u001b[1;32m<ipython-input-169-2f3be44e7440>\u001b[0m in \u001b[0;36mtranspose\u001b[1;34m(m)\u001b[0m\n\u001b[0;32m      1\u001b[0m \u001b[1;32mdef\u001b[0m \u001b[0mtranspose\u001b[0m\u001b[1;33m(\u001b[0m\u001b[0mm\u001b[0m\u001b[1;33m)\u001b[0m\u001b[1;33m:\u001b[0m\u001b[1;33m\u001b[0m\u001b[1;33m\u001b[0m\u001b[0m\n\u001b[1;32m----> 2\u001b[1;33m     \u001b[1;32mfor\u001b[0m \u001b[0mx\u001b[0m\u001b[1;33m,\u001b[0m\u001b[0my\u001b[0m \u001b[1;32min\u001b[0m \u001b[0mm\u001b[0m\u001b[1;33m:\u001b[0m\u001b[1;33m\u001b[0m\u001b[1;33m\u001b[0m\u001b[0m\n\u001b[0m\u001b[0;32m      3\u001b[0m         \u001b[1;32mreturn\u001b[0m \u001b[0my\u001b[0m\u001b[1;33m,\u001b[0m\u001b[0mx\u001b[0m\u001b[1;33m\u001b[0m\u001b[1;33m\u001b[0m\u001b[0m\n\u001b[0;32m      4\u001b[0m \u001b[1;33m\u001b[0m\u001b[0m\n\u001b[0;32m      5\u001b[0m \u001b[0mm\u001b[0m \u001b[1;33m=\u001b[0m \u001b[1;33m[\u001b[0m\u001b[1;33m[\u001b[0m\u001b[1;36m3\u001b[0m\u001b[1;33m,\u001b[0m \u001b[1;36m4\u001b[0m\u001b[1;33m,\u001b[0m \u001b[1;36m6\u001b[0m\u001b[1;33m]\u001b[0m\u001b[1;33m]\u001b[0m\u001b[1;33m\u001b[0m\u001b[1;33m\u001b[0m\u001b[0m\n",
      "\u001b[1;31mValueError\u001b[0m: too many values to unpack (expected 2)"
     ]
    }
   ],
   "source": [
    "def transpose(m):\n",
    "    for x,y in m:\n",
    "        return y,x\n",
    "\n",
    "m = [[3, 4, 6]]\n",
    "transpose(m)"
   ]
  },
  {
   "cell_type": "code",
   "execution_count": 164,
   "metadata": {},
   "outputs": [
    {
     "output_type": "execute_result",
     "data": {
      "text/plain": [
       "array([[3],\n",
       "       [4],\n",
       "       [6]])"
      ]
     },
     "metadata": {},
     "execution_count": 164
    }
   ],
   "source": [
    "def transpose(m):\n",
    "  return np.transpose(m)\n",
    "\n",
    "\n",
    "m = [[3, 4, 6]]\n",
    "transpose(m)"
   ]
  },
  {
   "cell_type": "code",
   "execution_count": null,
   "metadata": {},
   "outputs": [],
   "source": []
  }
 ],
 "metadata": {
  "kernelspec": {
   "name": "python3810jvsc74a57bd0273e4cd330c9365d0d8fc6d704b08084cf297120c969e21fb6416b510b92ba85",
   "display_name": "Python 3.8.10 64-bit ('wojtek': conda)"
  },
  "language_info": {
   "codemirror_mode": {
    "name": "ipython",
    "version": 3
   },
   "file_extension": ".py",
   "mimetype": "text/x-python",
   "name": "python",
   "nbconvert_exporter": "python",
   "pygments_lexer": "ipython3",
   "version": "3.8.10"
  }
 },
 "nbformat": 4,
 "nbformat_minor": 2
}