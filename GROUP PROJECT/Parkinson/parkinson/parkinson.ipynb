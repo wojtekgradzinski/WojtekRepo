{
    "cells": [
        {
            "cell_type": "code",
            "execution_count": 1,
            "source": [
                "import time\r\n",
                "from IPython.display import clear_output\r\n",
                "import numpy    as np\r\n",
                "import pandas   as pd\r\n",
                "import seaborn  as sb\r\n",
                "import matplotlib.pyplot as plt\r\n",
                "import sklearn  as skl\r\n",
                "import pandas as pd\r\n",
                "import seaborn as sns\r\n",
                "import IPython\r\n",
                "import numpy as np\r\n",
                "import sweetviz as sv\r\n",
                "\r\n",
                "import sklearn\r\n",
                "from sklearn import pipeline      # Pipeline\r\n",
                "from sklearn import preprocessing # OrdinalEncoder, LabelEncoder\r\n",
                "from sklearn import impute\r\n",
                "from sklearn import compose\r\n",
                "from sklearn import model_selection # train_test_split\r\n",
                "from sklearn import metrics         # accuracy_score, balanced_accuracy_score, plot_confusion_matrix\r\n",
                "from sklearn import set_config\r\n",
                "\r\n",
                "from sklearn.preprocessing import MinMaxScaler\r\n",
                "from sklearn.preprocessing import MaxAbsScaler\r\n",
                "from sklearn.preprocessing import StandardScaler\r\n",
                "from sklearn.preprocessing import RobustScaler\r\n",
                "from sklearn.preprocessing import Normalizer\r\n",
                "from sklearn.preprocessing import QuantileTransformer\r\n",
                "from sklearn.preprocessing import PowerTransformer\r\n",
                "\r\n",
                "from sklearn.tree          import DecisionTreeRegressor\r\n",
                "from sklearn.ensemble      import RandomForestRegressor\r\n",
                "from sklearn.ensemble      import ExtraTreesRegressor\r\n",
                "from sklearn.ensemble      import AdaBoostRegressor\r\n",
                "from sklearn.ensemble      import GradientBoostingRegressor\r\n",
                "from xgboost               import XGBRegressor\r\n",
                "from lightgbm              import LGBMRegressor\r\n",
                "from catboost              import CatBoostRegressor\r\n",
                "\r\n",
                "from sklearn.tree          import DecisionTreeClassifier\r\n",
                "from sklearn.ensemble      import RandomForestClassifier\r\n",
                "from sklearn.ensemble      import ExtraTreesClassifier\r\n",
                "from sklearn.ensemble      import AdaBoostClassifier\r\n",
                "from sklearn.ensemble      import GradientBoostingClassifier\r\n",
                "from sklearn.experimental  import enable_hist_gradient_boosting # Necesary for HistGradientBoostingClassifier\r\n",
                "from sklearn.ensemble      import HistGradientBoostingClassifier\r\n",
                "from xgboost               import XGBClassifier\r\n",
                "from lightgbm              import LGBMClassifier\r\n",
                "from catboost              import CatBoostClassifier\r\n",
                "\r\n",
                "\r\n",
                "set_config(display='diagram') # Useful for display the pipeline\r\n",
                "\r\n",
                "print(\"Pandas  \", pd.__version__)\r\n",
                "print(\"Sklearn \", skl.__version__) # Try to use 0.24\r\n",
                "\r\n",
                "\r\n",
                "\r\n",
                "\r\n",
                "\r\n",
                "\r\n",
                "\r\n"
            ],
            "outputs": [
                {
                    "output_type": "stream",
                    "name": "stdout",
                    "text": [
                        "Pandas   1.2.5\n",
                        "Sklearn  0.24.2\n"
                    ]
                }
            ],
            "metadata": {}
        },
        {
            "cell_type": "code",
            "execution_count": 2,
            "source": [
                "control_data = pd.DataFrame()\r\n",
                "control_file = glob.glob(\"/work/parkinson/control/*.txt\")\r\n",
                "for file in control_file:\r\n",
                "    data = pd.read_csv(file, delimiter=\";\")\r\n",
                "    print(data)\r\n",
                "    # control_data.append(data)\r\n"
            ],
            "outputs": [
                {
                    "output_type": "error",
                    "ename": "NameError",
                    "evalue": "name 'glob' is not defined",
                    "traceback": [
                        "\u001b[1;31m---------------------------------------------------------------------------\u001b[0m",
                        "\u001b[1;31mNameError\u001b[0m                                 Traceback (most recent call last)",
                        "\u001b[1;32m<ipython-input-2-c718b7a9393a>\u001b[0m in \u001b[0;36m<module>\u001b[1;34m\u001b[0m\n\u001b[0;32m      1\u001b[0m \u001b[0mcontrol_data\u001b[0m \u001b[1;33m=\u001b[0m \u001b[0mpd\u001b[0m\u001b[1;33m.\u001b[0m\u001b[0mDataFrame\u001b[0m\u001b[1;33m(\u001b[0m\u001b[1;33m)\u001b[0m\u001b[1;33m\u001b[0m\u001b[1;33m\u001b[0m\u001b[0m\n\u001b[1;32m----> 2\u001b[1;33m \u001b[0mcontrol_file\u001b[0m \u001b[1;33m=\u001b[0m \u001b[0mglob\u001b[0m\u001b[1;33m.\u001b[0m\u001b[0mglob\u001b[0m\u001b[1;33m(\u001b[0m\u001b[1;34m\"/work/parkinson/control/*.txt\"\u001b[0m\u001b[1;33m)\u001b[0m\u001b[1;33m\u001b[0m\u001b[1;33m\u001b[0m\u001b[0m\n\u001b[0m\u001b[0;32m      3\u001b[0m \u001b[1;32mfor\u001b[0m \u001b[0mfile\u001b[0m \u001b[1;32min\u001b[0m \u001b[0mcontrol_file\u001b[0m\u001b[1;33m:\u001b[0m\u001b[1;33m\u001b[0m\u001b[1;33m\u001b[0m\u001b[0m\n\u001b[0;32m      4\u001b[0m     \u001b[0mdata\u001b[0m \u001b[1;33m=\u001b[0m \u001b[0mpd\u001b[0m\u001b[1;33m.\u001b[0m\u001b[0mread_csv\u001b[0m\u001b[1;33m(\u001b[0m\u001b[0mfile\u001b[0m\u001b[1;33m,\u001b[0m \u001b[0mdelimiter\u001b[0m\u001b[1;33m=\u001b[0m\u001b[1;34m\";\"\u001b[0m\u001b[1;33m)\u001b[0m\u001b[1;33m\u001b[0m\u001b[1;33m\u001b[0m\u001b[0m\n\u001b[0;32m      5\u001b[0m     \u001b[0mprint\u001b[0m\u001b[1;33m(\u001b[0m\u001b[0mdata\u001b[0m\u001b[1;33m)\u001b[0m\u001b[1;33m\u001b[0m\u001b[1;33m\u001b[0m\u001b[0m\n",
                        "\u001b[1;31mNameError\u001b[0m: name 'glob' is not defined"
                    ]
                }
            ],
            "metadata": {}
        }
    ],
    "metadata": {
        "orig_nbformat": 4,
        "language_info": {
            "name": "python",
            "version": "3.8.10",
            "mimetype": "text/x-python",
            "codemirror_mode": {
                "name": "ipython",
                "version": 3
            },
            "pygments_lexer": "ipython3",
            "nbconvert_exporter": "python",
            "file_extension": ".py"
        },
        "kernelspec": {
            "name": "python3",
            "display_name": "Python 3.8.10 64-bit ('dl': conda)"
        },
        "interpreter": {
            "hash": "6afb89b99e84bee04d6330a29f1bb71213540d48d5fe88c31e05e7f9706c13f1"
        }
    },
    "nbformat": 4,
    "nbformat_minor": 2
}