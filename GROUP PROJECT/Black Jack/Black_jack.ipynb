{
 "cells": [
  {
   "cell_type": "markdown",
   "source": [
    "RULES:\r\n",
    "\r\n",
    "Playing Cards\r\n",
    "A standard deck of playing cards has four suits (Hearts, Diamonds, Spades and Clubs) and thirteen ranks (2 through 10, then the face cards Jack, Queen, King and Ace) for a total of 52 cards per deck. Jacks, Queens and Kings all have a rank of 10. Aces have a rank of either 11 or 1 as needed to reach 21 without busting. As a starting point in your program, you may want to assign variables to store a list of suits, ranks, and then use a dictionary to map ranks to values."
   ],
   "metadata": {}
  },
  {
   "cell_type": "code",
   "execution_count": 28,
   "source": [
    "import random\r\n",
    "\r\n",
    "\r\n",
    "#creating dictionary of card deck\r\n",
    "\r\n",
    "suits = ('Hearts', 'Diamonds', 'Spades', 'Clubs')\r\n",
    "ranks = ('Two', 'Three', 'Four', 'Five', 'Six', 'Seven', 'Eight', 'Nine', 'Ten', 'Jack', 'Queen', 'King', 'Ace')\r\n",
    "values = {'Two':2, 'Three':3, 'Four':4, 'Five':5, 'Six':6, 'Seven':7, 'Eight':8, 'Nine':9, 'Ten':10, 'Jack':10,\r\n",
    "         'Queen':10, 'King':10, 'Ace':11}\r\n",
    "\r\n",
    "playing = True"
   ],
   "outputs": [],
   "metadata": {}
  },
  {
   "cell_type": "markdown",
   "source": [
    "\r\n",
    "Step 2: Create a Card Class\r\n",
    "A Card object really only needs two attributes: suit and rank. You might add an attribute for \"value\" - we chose to handle value later when developing our Hand class.\r\n",
    "In addition to the Card's __init__ method, consider adding a __str__ method that, when asked to print a Card, returns a string in the form \"Two of Hearts\""
   ],
   "metadata": {}
  },
  {
   "cell_type": "code",
   "execution_count": 3,
   "source": [
    "class Card:\r\n",
    "    \r\n",
    "    def __init__(self,suit,rank):\r\n",
    "        self.suit = suit\r\n",
    "        self.rank = rank\r\n",
    "        \r\n",
    "    def __str__(self):\r\n",
    "        return self.rank + ' of ' + self.suit"
   ],
   "outputs": [],
   "metadata": {}
  },
  {
   "cell_type": "markdown",
   "source": [
    "Step 3: Create a Deck Class\r\n",
    "Here we might store 52 card objects in a list that can later be shuffled. First, though, we need to instantiate all 52 unique card objects and add them to our list. So long as the Card class definition appears in our code, we can build Card objects inside our Deck __init__ method. Consider iterating over sequences of suits and ranks to build out each card. This might appear inside a Deck class __init__ method:"
   ],
   "metadata": {}
  },
  {
   "cell_type": "code",
   "execution_count": 2,
   "source": [
    "class Deck:\r\n",
    "    \r\n",
    "    def __init__(self):\r\n",
    "        self.deck = []  # start with an empty list\r\n",
    "        for suit in suits:\r\n",
    "            for rank in ranks:\r\n",
    "                self.deck.append(Card(suit,rank))  # build Card objects and add them to the list\r\n",
    "    \r\n",
    "    def __str__(self):\r\n",
    "        deck_comp = ''  # start with an empty string\r\n",
    "        for card in self.deck:\r\n",
    "            deck_comp += '\\n '+card.__str__() # add each Card object's print string\r\n",
    "        return 'The deck has:' + deck_comp\r\n",
    "\r\n",
    "    def shuffle(self):\r\n",
    "        random.shuffle(self.deck)\r\n",
    "        \r\n",
    "    def deal(self):\r\n",
    "        single_card = self.deck.pop()\r\n",
    "        return single_card"
   ],
   "outputs": [],
   "metadata": {}
  },
  {
   "cell_type": "markdown",
   "source": [
    "\r\n",
    "TESTING: Just to see that everything works so far, let's see what our Deck looks like!"
   ],
   "metadata": {}
  },
  {
   "cell_type": "code",
   "execution_count": 6,
   "source": [
    "test_deck = Deck()\r\n",
    "#print(test_deck)"
   ],
   "outputs": [],
   "metadata": {}
  },
  {
   "cell_type": "markdown",
   "source": [
    "\r\n",
    "Step 4: Create a Hand Class\r\n",
    "In addition to holding Card objects dealt from the Deck, the Hand class may be used to calculate the value of those cards using the values dictionary defined above. It may also need to adjust for the value of Aces when appropriate."
   ],
   "metadata": {}
  },
  {
   "cell_type": "code",
   "execution_count": 7,
   "source": [
    "class Hand:\r\n",
    "    def __init__(self):\r\n",
    "        self.cards = []  # start with an empty list as we did in the Deck class\r\n",
    "        self.value = 0   # start with zero value\r\n",
    "        self.aces = 0    # add an attribute to keep track of aces\r\n",
    "    \r\n",
    "    def add_card(self,card):\r\n",
    "        self.cards.append(card)\r\n",
    "        self.value += values[card.rank]\r\n",
    "    \r\n",
    "    def adjust_for_ace(self):\r\n",
    "        pass"
   ],
   "outputs": [],
   "metadata": {}
  },
  {
   "cell_type": "markdown",
   "source": [
    "\r\n",
    "TESTING: Before we tackle the issue of changing Aces, let's make sure we can add two cards to a player's hand and obtain their value:"
   ],
   "metadata": {}
  },
  {
   "cell_type": "code",
   "execution_count": 17,
   "source": [
    "\r\n",
    "test_deck = Deck()\r\n",
    "test_deck.shuffle()\r\n",
    "test_player = Hand()\r\n",
    "test_player.add_card(test_deck.deal())\r\n",
    "test_player.add_card(test_deck.deal())\r\n",
    "print(f'Your score is {test_player.value}')"
   ],
   "outputs": [
    {
     "output_type": "stream",
     "name": "stdout",
     "text": [
      "Your score is 15\n"
     ]
    }
   ],
   "metadata": {}
  },
  {
   "cell_type": "markdown",
   "source": [
    "\r\n",
    "Let's see what these two cards are:"
   ],
   "metadata": {}
  },
  {
   "cell_type": "code",
   "execution_count": 19,
   "source": [
    "for card in test_player.cards:\r\n",
    "    print(card)"
   ],
   "outputs": [
    {
     "output_type": "stream",
     "name": "stdout",
     "text": [
      "Five of Clubs\n",
      "Queen of Clubs\n"
     ]
    }
   ],
   "metadata": {}
  },
  {
   "cell_type": "markdown",
   "source": [
    "Great! Now let's tackle the Aces issue. If a hand's value exceeds 21 but it contains an Ace, we can reduce the Ace's value from 11 to 1 and continue playing."
   ],
   "metadata": {}
  },
  {
   "cell_type": "code",
   "execution_count": 20,
   "source": [
    "class Hand:\r\n",
    "    \r\n",
    "    def __init__(self):\r\n",
    "        self.cards = []  # start with an empty list as we did in the Deck class\r\n",
    "        self.value = 0   # start with zero value\r\n",
    "        self.aces = 0    # add an attribute to keep track of aces\r\n",
    "    \r\n",
    "    def add_card(self,card):\r\n",
    "        self.cards.append(card)\r\n",
    "        self.value += values[card.rank]\r\n",
    "        if card.rank == 'Ace':\r\n",
    "            self.aces += 1  # add to self.aces\r\n",
    "    \r\n",
    "    def adjust_for_ace(self):\r\n",
    "        while self.value > 21 and self.aces:\r\n",
    "            self.value -= 10\r\n",
    "            self.aces -= 1"
   ],
   "outputs": [],
   "metadata": {}
  },
  {
   "cell_type": "markdown",
   "source": [
    "We added code to the add_card method to bump self.aces whenever an ace is brought into the hand, and added code to the adjust_for_aces method that decreases the number of aces any time we make an adjustment to stay under 21.\r\n",
    "\r\n",
    "Step 5: Create a Chips Class\r\n",
    "In addition to decks of cards and hands, we need to keep track of a Player's starting chips, bets, and ongoing winnings. This could be done using global variables, but in the spirit of object oriented programming, let's make a Chips class instead!"
   ],
   "metadata": {}
  },
  {
   "cell_type": "code",
   "execution_count": 21,
   "source": [
    "class Chips:\r\n",
    "    \r\n",
    "    def __init__(self):\r\n",
    "        self.total = 100  # This can be set to a default value or supplied by a user input\r\n",
    "        self.bet = 0\r\n",
    "        \r\n",
    "    def win_bet(self):\r\n",
    "        self.total += self.bet\r\n",
    "    \r\n",
    "    def lose_bet(self):\r\n",
    "        self.total -= self.bet"
   ],
   "outputs": [],
   "metadata": {}
  },
  {
   "cell_type": "markdown",
   "source": [
    "Step 6: Write a function for taking bets\r\n",
    "Since we're asking the user for an integer value, this would be a good place to use try/except. Remember to check that a Player's bet can be covered by their available chips."
   ],
   "metadata": {}
  },
  {
   "cell_type": "code",
   "execution_count": 22,
   "source": [
    "def take_bet(chips):\r\n",
    "    \r\n",
    "    while True:\r\n",
    "        try:\r\n",
    "            chips.bet = int(input('How many chips would you like to bet? '))\r\n",
    "        except ValueError:\r\n",
    "            print('Sorry, a bet must be an integer!')\r\n",
    "        else:\r\n",
    "            if chips.bet > chips.total:\r\n",
    "                print(\"Sorry, your bet can't exceed\",chips.total)\r\n",
    "            else:\r\n",
    "                break"
   ],
   "outputs": [],
   "metadata": {}
  },
  {
   "cell_type": "markdown",
   "source": [
    "Step 7: Write a function for taking hits\r\n",
    "Either player can take hits until they bust. This function will be called during gameplay anytime a Player requests a hit, or a Dealer's hand is less than 17. It should take in Deck and Hand objects as arguments, and deal one card off the deck and add it to the Hand. You may want it to check for aces in the event that a player's hand exceeds 21."
   ],
   "metadata": {}
  },
  {
   "cell_type": "code",
   "execution_count": 23,
   "source": [
    "def hit(deck,hand):\r\n",
    "    \r\n",
    "    hand.add_card(deck.deal())\r\n",
    "    hand.adjust_for_ace()"
   ],
   "outputs": [],
   "metadata": {}
  },
  {
   "cell_type": "markdown",
   "source": [
    "Step 8: Write a function prompting the Player to Hit or Stand\r\n",
    "This function should accept the deck and the player's hand as arguments, and assign playing as a global variable.\r\n",
    "If the Player Hits, employ the hit() function above. If the Player Stands, set the playing variable to False - this will control the behavior of a while loop later on in our code."
   ],
   "metadata": {}
  },
  {
   "cell_type": "code",
   "execution_count": 24,
   "source": [
    "def hit_or_stand(deck,hand):\r\n",
    "    global playing  # to control an upcoming while loop\r\n",
    "    \r\n",
    "    while True:\r\n",
    "        x = input(\"Would you like to Hit or Stand? Enter 'h' or 's' \")\r\n",
    "        \r\n",
    "        if x[0].lower() == 'h':\r\n",
    "            hit(deck,hand)  # hit() function defined above\r\n",
    "\r\n",
    "        elif x[0].lower() == 's':\r\n",
    "            print(\"Player stands. Dealer is playing.\")\r\n",
    "            playing = False\r\n",
    "\r\n",
    "        else:\r\n",
    "            print(\"Sorry, please try again.\")\r\n",
    "            continue\r\n",
    "        break\r\n"
   ],
   "outputs": [],
   "metadata": {}
  },
  {
   "cell_type": "markdown",
   "source": [
    "Step 9: Write functions to display cards\r\n",
    "When the game starts, and after each time Player takes a card, the dealer's first card is hidden and all of Player's cards are visible. At the end of the hand all cards are shown, and you may want to show each hand's total value. Write a function for each of these scenarios."
   ],
   "metadata": {}
  },
  {
   "cell_type": "code",
   "execution_count": 25,
   "source": [
    "def show_some(player,dealer):\r\n",
    "    print(\"\\nDealer's Hand:\")\r\n",
    "    print(\" <card hidden>\")\r\n",
    "    print('',dealer.cards[1])  \r\n",
    "    print(\"\\nPlayer's Hand:\", *player.cards, sep='\\n ')\r\n",
    "    \r\n",
    "def show_all(player,dealer):\r\n",
    "    print(\"\\nDealer's Hand:\", *dealer.cards, sep='\\n ')\r\n",
    "    print(\"Dealer's Hand =\",dealer.value)\r\n",
    "    print(\"\\nPlayer's Hand:\", *player.cards, sep='\\n ')\r\n",
    "    print(\"Player's Hand =\",player.value)"
   ],
   "outputs": [],
   "metadata": {}
  },
  {
   "cell_type": "markdown",
   "source": [
    "Step 10: Write functions to handle end of game scenarios\r\n",
    "Remember to pass player's hand, dealer's hand and chips as needed."
   ],
   "metadata": {}
  },
  {
   "cell_type": "code",
   "execution_count": 26,
   "source": [
    "def player_busts(player,dealer,chips):\r\n",
    "    print(\"Player busts!\")\r\n",
    "    chips.lose_bet()\r\n",
    "\r\n",
    "def player_wins(player,dealer,chips):\r\n",
    "    print(\"Player wins!\")\r\n",
    "    chips.win_bet()\r\n",
    "\r\n",
    "def dealer_busts(player,dealer,chips):\r\n",
    "    print(\"Dealer busts!\")\r\n",
    "    chips.win_bet()\r\n",
    "    \r\n",
    "def dealer_wins(player,dealer,chips):\r\n",
    "    print(\"Dealer wins!\")\r\n",
    "    chips.lose_bet()\r\n",
    "    \r\n",
    "def push(player,dealer):\r\n",
    "    print(\"Dealer and Player tie! It's a push.\")"
   ],
   "outputs": [],
   "metadata": {}
  },
  {
   "cell_type": "markdown",
   "source": [
    "START THE GAME!!!!!!!!!!!!!!!"
   ],
   "metadata": {}
  },
  {
   "cell_type": "code",
   "execution_count": 29,
   "source": [
    "while True:\r\n",
    "    # Print an opening statement\r\n",
    "    print('Welcome to BlackJack! Get as close to 21 as you can without going over!\\n\\\r\n",
    "    Dealer hits until she reaches 17. Aces count as 1 or 11.')\r\n",
    "    \r\n",
    "    # Create & shuffle the deck, deal two cards to each player\r\n",
    "    deck = Deck()\r\n",
    "    deck.shuffle()\r\n",
    "    \r\n",
    "    player_hand = Hand()\r\n",
    "    player_hand.add_card(deck.deal())\r\n",
    "    player_hand.add_card(deck.deal())\r\n",
    "    \r\n",
    "    dealer_hand = Hand()\r\n",
    "    dealer_hand.add_card(deck.deal())\r\n",
    "    dealer_hand.add_card(deck.deal())\r\n",
    "            \r\n",
    "    # Set up the Player's chips\r\n",
    "    player_chips = Chips()  # remember the default value is 100    \r\n",
    "    \r\n",
    "    # Prompt the Player for their bet\r\n",
    "    take_bet(player_chips)\r\n",
    "    \r\n",
    "    # Show cards (but keep one dealer card hidden)\r\n",
    "    show_some(player_hand,dealer_hand)\r\n",
    "    \r\n",
    "    while playing:  # recall this variable from our hit_or_stand function\r\n",
    "        \r\n",
    "        # Prompt for Player to Hit or Stand\r\n",
    "        hit_or_stand(deck,player_hand) \r\n",
    "        \r\n",
    "        # Show cards (but keep one dealer card hidden)\r\n",
    "        show_some(player_hand,dealer_hand)  \r\n",
    "        \r\n",
    "        # If player's hand exceeds 21, run player_busts() and break out of loop\r\n",
    "        if player_hand.value > 21:\r\n",
    "            player_busts(player_hand,dealer_hand,player_chips)\r\n",
    "            break        \r\n",
    "\r\n",
    "\r\n",
    "    # If Player hasn't busted, play Dealer's hand until Dealer reaches 17 \r\n",
    "    if player_hand.value <= 21:\r\n",
    "        \r\n",
    "        while dealer_hand.value < 17:\r\n",
    "            hit(deck,dealer_hand)    \r\n",
    "    \r\n",
    "        # Show all cards\r\n",
    "        show_all(player_hand,dealer_hand)\r\n",
    "        \r\n",
    "        # Run different winning scenarios\r\n",
    "        if dealer_hand.value > 21:\r\n",
    "            dealer_busts(player_hand,dealer_hand,player_chips)\r\n",
    "\r\n",
    "        elif dealer_hand.value > player_hand.value:\r\n",
    "            dealer_wins(player_hand,dealer_hand,player_chips)\r\n",
    "\r\n",
    "        elif dealer_hand.value < player_hand.value:\r\n",
    "            player_wins(player_hand,dealer_hand,player_chips)\r\n",
    "\r\n",
    "        else:\r\n",
    "            push(player_hand,dealer_hand)        \r\n",
    "    \r\n",
    "    # Inform Player of their chips total \r\n",
    "    print(\"\\nPlayer's winnings stand at\",player_chips.total)\r\n",
    "    \r\n",
    "    # Ask to play again\r\n",
    "    new_game = input(\"Would you like to play another hand? Enter 'y' or 'n' \")\r\n",
    "    \r\n",
    "    if new_game[0].lower()=='y':\r\n",
    "        playing=True\r\n",
    "        continue\r\n",
    "    else:\r\n",
    "        print(\"Thanks for playing!\")\r\n",
    "        break"
   ],
   "outputs": [
    {
     "output_type": "stream",
     "name": "stdout",
     "text": [
      "Welcome to BlackJack! Get as close to 21 as you can without going over!\n",
      "    Dealer hits until she reaches 17. Aces count as 1 or 11.\n",
      "\n",
      "Dealer's Hand:\n",
      " <card hidden>\n",
      " Jack of Clubs\n",
      "\n",
      "Player's Hand:\n",
      " Ace of Spades\n",
      " Eight of Diamonds\n",
      "Player stands. Dealer is playing.\n",
      "\n",
      "Dealer's Hand:\n",
      " <card hidden>\n",
      " Jack of Clubs\n",
      "\n",
      "Player's Hand:\n",
      " Ace of Spades\n",
      " Eight of Diamonds\n",
      "\n",
      "Dealer's Hand:\n",
      " Six of Spades\n",
      " Jack of Clubs\n",
      " Ace of Hearts\n",
      "Dealer's Hand = 17\n",
      "\n",
      "Player's Hand:\n",
      " Ace of Spades\n",
      " Eight of Diamonds\n",
      "Player's Hand = 19\n",
      "Player wins!\n",
      "\n",
      "Player's winnings stand at 160\n",
      "Thanks for playing!\n"
     ]
    }
   ],
   "metadata": {}
  }
 ],
 "metadata": {
  "orig_nbformat": 4,
  "language_info": {
   "name": "python",
   "version": "3.8.8",
   "mimetype": "text/x-python",
   "codemirror_mode": {
    "name": "ipython",
    "version": 3
   },
   "pygments_lexer": "ipython3",
   "nbconvert_exporter": "python",
   "file_extension": ".py"
  },
  "kernelspec": {
   "name": "python3",
   "display_name": "Python 3.8.8 64-bit ('base': conda)"
  },
  "interpreter": {
   "hash": "0c49cde67c9110c377b85774f48ff0fb8d9905162e9d31e616ccb3386ade4209"
  }
 },
 "nbformat": 4,
 "nbformat_minor": 2
}