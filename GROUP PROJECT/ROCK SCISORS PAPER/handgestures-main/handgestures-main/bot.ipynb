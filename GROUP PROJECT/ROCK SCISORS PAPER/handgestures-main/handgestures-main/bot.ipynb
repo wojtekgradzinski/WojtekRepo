{
    "cells": [
        {
            "cell_type": "code",
            "execution_count": 1,
            "source": [
                "import os\r\n",
                "import telebot"
            ],
            "outputs": [],
            "metadata": {}
        },
        {
            "cell_type": "code",
            "execution_count": 22,
            "source": [
                "with open(\"api_key\", \"r\") as f:\r\n",
                "    API_KEY = f.read().strip()\r\n",
                "bot = telebot.TeleBot(API_KEY)\r\n",
                "\r\n",
                "@bot.message_handler(command=['game'])\r\n",
                "def start_game(message):\r\n",
                "    bot.reply_to(message, 'Starting a new game...')\r\n",
                "\r\n",
                "bot.polling()"
            ],
            "outputs": [
                {
                    "output_type": "error",
                    "ename": "FileNotFoundError",
                    "evalue": "[Errno 2] No such file or directory: 'api_key'",
                    "traceback": [
                        "\u001b[1;31m---------------------------------------------------------------------------\u001b[0m",
                        "\u001b[1;31mFileNotFoundError\u001b[0m                         Traceback (most recent call last)",
                        "\u001b[1;32m<ipython-input-22-a3335cebee21>\u001b[0m in \u001b[0;36m<module>\u001b[1;34m\u001b[0m\n\u001b[1;32m----> 1\u001b[1;33m \u001b[1;32mwith\u001b[0m \u001b[0mopen\u001b[0m\u001b[1;33m(\u001b[0m\u001b[1;34m\"api_key\"\u001b[0m\u001b[1;33m,\u001b[0m \u001b[1;34m\"r\"\u001b[0m\u001b[1;33m)\u001b[0m \u001b[1;32mas\u001b[0m \u001b[0mf\u001b[0m\u001b[1;33m:\u001b[0m\u001b[1;33m\u001b[0m\u001b[1;33m\u001b[0m\u001b[0m\n\u001b[0m\u001b[0;32m      2\u001b[0m     \u001b[0mAPI_KEY\u001b[0m \u001b[1;33m=\u001b[0m \u001b[0mf\u001b[0m\u001b[1;33m.\u001b[0m\u001b[0mread\u001b[0m\u001b[1;33m(\u001b[0m\u001b[1;33m)\u001b[0m\u001b[1;33m.\u001b[0m\u001b[0mstrip\u001b[0m\u001b[1;33m(\u001b[0m\u001b[1;33m)\u001b[0m\u001b[1;33m\u001b[0m\u001b[1;33m\u001b[0m\u001b[0m\n\u001b[0;32m      3\u001b[0m \u001b[0mbot\u001b[0m \u001b[1;33m=\u001b[0m \u001b[0mtelebot\u001b[0m\u001b[1;33m.\u001b[0m\u001b[0mTeleBot\u001b[0m\u001b[1;33m(\u001b[0m\u001b[0mAPI_KEY\u001b[0m\u001b[1;33m)\u001b[0m\u001b[1;33m\u001b[0m\u001b[1;33m\u001b[0m\u001b[0m\n\u001b[0;32m      4\u001b[0m \u001b[1;33m\u001b[0m\u001b[0m\n\u001b[0;32m      5\u001b[0m \u001b[1;33m@\u001b[0m\u001b[0mbot\u001b[0m\u001b[1;33m.\u001b[0m\u001b[0mmessage_handler\u001b[0m\u001b[1;33m(\u001b[0m\u001b[0mcommand\u001b[0m\u001b[1;33m=\u001b[0m\u001b[1;33m[\u001b[0m\u001b[1;34m'game'\u001b[0m\u001b[1;33m]\u001b[0m\u001b[1;33m)\u001b[0m\u001b[1;33m\u001b[0m\u001b[1;33m\u001b[0m\u001b[0m\n",
                        "\u001b[1;31mFileNotFoundError\u001b[0m: [Errno 2] No such file or directory: 'api_key'"
                    ]
                }
            ],
            "metadata": {}
        },
        {
            "cell_type": "code",
            "execution_count": 16,
            "source": [
                "\r\n",
                "with open(\"api_key\", \"r\") as f:\r\n",
                "    API_KEY = f.read().strip()\r\n",
                "print(API_KEY)\r\n",
                "bot = telebot.TeleBot(API_KEY, parse_mode=None)\r\n",
                "\r\n",
                "@bot.message_handler(command=['Greetings'])\r\n",
                "def greet(message):\r\n",
                "    bot.reply_to(message, 'wassup')\r\n",
                "    \r\n",
                "bot.polling()"
            ],
            "outputs": [
                {
                    "output_type": "error",
                    "ename": "FileNotFoundError",
                    "evalue": "[Errno 2] No such file or directory: 'api_key'",
                    "traceback": [
                        "\u001b[1;31m---------------------------------------------------------------------------\u001b[0m",
                        "\u001b[1;31mFileNotFoundError\u001b[0m                         Traceback (most recent call last)",
                        "\u001b[1;32m<ipython-input-16-731018c03a36>\u001b[0m in \u001b[0;36m<module>\u001b[1;34m\u001b[0m\n\u001b[1;32m----> 1\u001b[1;33m \u001b[1;32mwith\u001b[0m \u001b[0mopen\u001b[0m\u001b[1;33m(\u001b[0m\u001b[1;34m\"api_key\"\u001b[0m\u001b[1;33m,\u001b[0m \u001b[1;34m\"r\"\u001b[0m\u001b[1;33m)\u001b[0m \u001b[1;32mas\u001b[0m \u001b[0mf\u001b[0m\u001b[1;33m:\u001b[0m\u001b[1;33m\u001b[0m\u001b[1;33m\u001b[0m\u001b[0m\n\u001b[0m\u001b[0;32m      2\u001b[0m     \u001b[0mAPI_KEY\u001b[0m \u001b[1;33m=\u001b[0m \u001b[0mf\u001b[0m\u001b[1;33m.\u001b[0m\u001b[0mread\u001b[0m\u001b[1;33m(\u001b[0m\u001b[1;33m)\u001b[0m\u001b[1;33m.\u001b[0m\u001b[0mstrip\u001b[0m\u001b[1;33m(\u001b[0m\u001b[1;33m)\u001b[0m\u001b[1;33m\u001b[0m\u001b[1;33m\u001b[0m\u001b[0m\n\u001b[0;32m      3\u001b[0m \u001b[0mprint\u001b[0m\u001b[1;33m(\u001b[0m\u001b[0mAPI_KEY\u001b[0m\u001b[1;33m)\u001b[0m\u001b[1;33m\u001b[0m\u001b[1;33m\u001b[0m\u001b[0m\n\u001b[0;32m      4\u001b[0m \u001b[0mbot\u001b[0m \u001b[1;33m=\u001b[0m \u001b[0mtelebot\u001b[0m\u001b[1;33m.\u001b[0m\u001b[0mTeleBot\u001b[0m\u001b[1;33m(\u001b[0m\u001b[0mAPI_KEY\u001b[0m\u001b[1;33m,\u001b[0m \u001b[0mparse_mode\u001b[0m\u001b[1;33m=\u001b[0m\u001b[1;32mNone\u001b[0m\u001b[1;33m)\u001b[0m\u001b[1;33m\u001b[0m\u001b[1;33m\u001b[0m\u001b[0m\n\u001b[0;32m      5\u001b[0m \u001b[1;33m\u001b[0m\u001b[0m\n",
                        "\u001b[1;31mFileNotFoundError\u001b[0m: [Errno 2] No such file or directory: 'api_key'"
                    ]
                }
            ],
            "metadata": {}
        },
        {
            "cell_type": "code",
            "execution_count": 18,
            "source": [
                "import random\r\n",
                "\r\n",
                "CHOICES = 'rps'\r\n",
                "\r\n",
                "\r\n",
                "def get_player_choice():\r\n",
                "    \"\"\"Get user input and validate it is one of the choices above\"\"\"\r\n",
                "    player_choice = None\r\n",
                "    while player_choice is None:\r\n",
                "        player_choice = input('Choices: \\n(R)ock \\n(P)aper \\n(S)cissors \\n\\nPick: ')\r\n",
                "        if player_choice.lower() not in CHOICES:\r\n",
                "            player_choice = None\r\n",
                "    return player_choice.lower()\r\n",
                "\r\n",
                "\r\n",
                "def get_computer_choice():\r\n",
                "    \"\"\"Have the computer pick one of the valid choices at random\"\"\"\r\n",
                "    computer_choice = random.randint(0, 2)\r\n",
                "    computer_choice = CHOICES[computer_choice]\r\n",
                "    return computer_choice\r\n",
                "\r\n",
                "\r\n",
                "def is_draw(player_choice, computer_choice):\r\n",
                "    \"\"\"Check if game was a draw\"\"\"\r\n",
                "    if player_choice == computer_choice:\r\n",
                "        return True\r\n",
                "\r\n",
                "\r\n",
                "def print_winner(player_choice, computer_choice):\r\n",
                "    \"\"\"Check to see who won\"\"\"\r\n",
                "    if player_choice == 'r' and computer_choice == 's':\r\n",
                "        print('Player wins!')\r\n",
                "    elif player_choice == 's' and computer_choice == 'p':\r\n",
                "        print('Player wins!')\r\n",
                "    elif player_choice == 'p' and computer_choice == 'r':\r\n",
                "        print('Player wins!')\r\n",
                "    else:\r\n",
                "        print('Computer wins!')\r\n",
                "        print('%s beats %s' % (computer_choice, player_choice))\r\n",
                "\r\n",
                "\r\n",
                "def play_game():\r\n",
                "    \"\"\"play the game\"\"\"\r\n",
                "    player_choice = get_player_choice()\r\n",
                "    computer_choice = get_computer_choice()\r\n",
                "    if is_draw(player_choice, computer_choice):\r\n",
                "        print(\"It's a draw, both players picked %s: \" % player_choice)\r\n",
                "    else:\r\n",
                "        print(\"Computer picked: %s\" % computer_choice)\r\n",
                "        print(\"Player picked: %s\" % player_choice)\r\n",
                "        print_winner(player_choice, computer_choice)\r\n",
                "\r\n",
                "\r\n",
                "if __name__ == \"__main__\":\r\n",
                "    play_game()"
            ],
            "outputs": [],
            "metadata": {}
        }
    ],
    "metadata": {
        "orig_nbformat": 4,
        "language_info": {
            "name": "python",
            "version": "3.8.10",
            "mimetype": "text/x-python",
            "codemirror_mode": {
                "name": "ipython",
                "version": 3
            },
            "pygments_lexer": "ipython3",
            "nbconvert_exporter": "python",
            "file_extension": ".py"
        },
        "kernelspec": {
            "name": "python3",
            "display_name": "Python 3.8.10 64-bit ('wojtek': conda)"
        },
        "interpreter": {
            "hash": "273e4cd330c9365d0d8fc6d704b08084cf297120c969e21fb6416b510b92ba85"
        }
    },
    "nbformat": 4,
    "nbformat_minor": 2
}