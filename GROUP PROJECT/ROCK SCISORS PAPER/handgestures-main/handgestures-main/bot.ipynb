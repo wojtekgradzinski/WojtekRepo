{
    "cells": [
        {
            "cell_type": "code",
            "execution_count": 15,
            "source": [
                "import os\r\n",
                "import telebot"
            ],
            "outputs": [],
            "metadata": {}
        },
        {
            "cell_type": "code",
            "execution_count": 22,
            "source": [
                "with open(\"api_key\", \"r\") as f:\r\n",
                "    API_KEY = f.read().strip()\r\n",
                "bot = telebot.TeleBot(API_KEY)\r\n",
                "\r\n",
                "@bot.message_handler(command=['game'])\r\n",
                "def start_game(message):\r\n",
                "    bot.reply_to(message, 'Starting a new game...')\r\n",
                "\r\n",
                "bot.polling()"
            ],
            "outputs": [
                {
                    "output_type": "error",
                    "ename": "FileNotFoundError",
                    "evalue": "[Errno 2] No such file or directory: 'api_key'",
                    "traceback": [
                        "\u001b[1;31m---------------------------------------------------------------------------\u001b[0m",
                        "\u001b[1;31mFileNotFoundError\u001b[0m                         Traceback (most recent call last)",
                        "\u001b[1;32m<ipython-input-22-a3335cebee21>\u001b[0m in \u001b[0;36m<module>\u001b[1;34m\u001b[0m\n\u001b[1;32m----> 1\u001b[1;33m \u001b[1;32mwith\u001b[0m \u001b[0mopen\u001b[0m\u001b[1;33m(\u001b[0m\u001b[1;34m\"api_key\"\u001b[0m\u001b[1;33m,\u001b[0m \u001b[1;34m\"r\"\u001b[0m\u001b[1;33m)\u001b[0m \u001b[1;32mas\u001b[0m \u001b[0mf\u001b[0m\u001b[1;33m:\u001b[0m\u001b[1;33m\u001b[0m\u001b[1;33m\u001b[0m\u001b[0m\n\u001b[0m\u001b[0;32m      2\u001b[0m     \u001b[0mAPI_KEY\u001b[0m \u001b[1;33m=\u001b[0m \u001b[0mf\u001b[0m\u001b[1;33m.\u001b[0m\u001b[0mread\u001b[0m\u001b[1;33m(\u001b[0m\u001b[1;33m)\u001b[0m\u001b[1;33m.\u001b[0m\u001b[0mstrip\u001b[0m\u001b[1;33m(\u001b[0m\u001b[1;33m)\u001b[0m\u001b[1;33m\u001b[0m\u001b[1;33m\u001b[0m\u001b[0m\n\u001b[0;32m      3\u001b[0m \u001b[0mbot\u001b[0m \u001b[1;33m=\u001b[0m \u001b[0mtelebot\u001b[0m\u001b[1;33m.\u001b[0m\u001b[0mTeleBot\u001b[0m\u001b[1;33m(\u001b[0m\u001b[0mAPI_KEY\u001b[0m\u001b[1;33m)\u001b[0m\u001b[1;33m\u001b[0m\u001b[1;33m\u001b[0m\u001b[0m\n\u001b[0;32m      4\u001b[0m \u001b[1;33m\u001b[0m\u001b[0m\n\u001b[0;32m      5\u001b[0m \u001b[1;33m@\u001b[0m\u001b[0mbot\u001b[0m\u001b[1;33m.\u001b[0m\u001b[0mmessage_handler\u001b[0m\u001b[1;33m(\u001b[0m\u001b[0mcommand\u001b[0m\u001b[1;33m=\u001b[0m\u001b[1;33m[\u001b[0m\u001b[1;34m'game'\u001b[0m\u001b[1;33m]\u001b[0m\u001b[1;33m)\u001b[0m\u001b[1;33m\u001b[0m\u001b[1;33m\u001b[0m\u001b[0m\n",
                        "\u001b[1;31mFileNotFoundError\u001b[0m: [Errno 2] No such file or directory: 'api_key'"
                    ]
                }
            ],
            "metadata": {}
        },
        {
            "cell_type": "code",
            "execution_count": null,
            "source": [],
            "outputs": [],
            "metadata": {}
        }
    ],
    "metadata": {
        "orig_nbformat": 4,
        "language_info": {
            "name": "python",
            "version": "3.8.10",
            "mimetype": "text/x-python",
            "codemirror_mode": {
                "name": "ipython",
                "version": 3
            },
            "pygments_lexer": "ipython3",
            "nbconvert_exporter": "python",
            "file_extension": ".py"
        },
        "kernelspec": {
            "name": "python3",
            "display_name": "Python 3.8.10 64-bit ('wojtek': conda)"
        },
        "interpreter": {
            "hash": "273e4cd330c9365d0d8fc6d704b08084cf297120c969e21fb6416b510b92ba85"
        }
    },
    "nbformat": 4,
    "nbformat_minor": 2
}