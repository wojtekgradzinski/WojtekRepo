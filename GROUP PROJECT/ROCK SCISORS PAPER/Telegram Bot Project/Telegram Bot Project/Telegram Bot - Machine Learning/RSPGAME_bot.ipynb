{
 "cells": [
  {
   "cell_type": "code",
   "execution_count": 2,
   "source": [
    "import os\r\n",
    "import telebot"
   ],
   "outputs": [],
   "metadata": {
    "tags": [],
    "cell_id": "00000-e01094b0-7000-47eb-bdbd-e3c7b216260c",
    "deepnote_to_be_reexecuted": false,
    "source_hash": "e6c72b9d",
    "execution_start": 1628672784667,
    "execution_millis": 1,
    "deepnote_cell_type": "code"
   }
  },
  {
   "cell_type": "code",
   "execution_count": 3,
   "source": [
    "with open(\"api_key\", \"r\") as f:\r\n",
    "    API_KEY = f.read().strip()\r\n",
    "bot = telebot.TeleBot(API_KEY)\r\n",
    "\r\n",
    "@bot.message_handler(command=['game'])\r\n",
    "def start_game(message):\r\n",
    "    bot.reply_to(message, 'Starting a new game...')\r\n",
    "\r\n",
    "bot.polling()"
   ],
   "outputs": [
    {
     "output_type": "stream",
     "name": "stderr",
     "text": [
      "2021-08-12 08:56:34,944 (__init__.py:647 MainThread) ERROR - TeleBot: \"A request to the Telegram API was unsuccessful. Error code: 404. Description: Not Found\"\n"
     ]
    }
   ],
   "metadata": {
    "tags": [],
    "cell_id": "00001-3e18e222-4c19-49d0-b267-b3ea591d7817",
    "deepnote_to_be_reexecuted": false,
    "source_hash": "dec3074e",
    "execution_start": 1628688098185,
    "execution_millis": 248,
    "deepnote_cell_type": "code"
   }
  },
  {
   "cell_type": "code",
   "execution_count": null,
   "source": [],
   "outputs": [],
   "metadata": {
    "tags": [],
    "cell_id": "00002-15c29c91-90ba-4ef1-814d-b6cba985fed9",
    "deepnote_to_be_reexecuted": false,
    "source_hash": "df8f3155",
    "execution_start": 1628605957629,
    "execution_millis": 2,
    "deepnote_cell_type": "code"
   }
  },
  {
   "cell_type": "markdown",
   "source": [
    "Is it okay for me to write the classifier here in the meanwhile? :GZL"
   ],
   "metadata": {
    "tags": [],
    "cell_id": "00003-249bf7c3-b9cd-4c09-bbb5-597d0b632fd8",
    "deepnote_cell_type": "markdown"
   }
  },
  {
   "cell_type": "code",
   "execution_count": 4,
   "source": [
    "# Importing the Classifier\r\n",
    "# Chosen Classifer : Extra Trees\r\n",
    "\r\n",
    "from sklearn.ensemble      import ExtraTreesClassifier\r\n",
    "from sklearn.preprocessing import StandardScaler\r\n",
    "import pandas as pd\r\n",
    "\r\n",
    "#Use test_game.csv & train_game.csv\r\n",
    "train_df = pd.read_csv('train_game.csv')\r\n",
    "test_df = pd.read_csv('test_game.csv')\r\n",
    "\r\n",
    "\r\n"
   ],
   "outputs": [],
   "metadata": {
    "tags": [],
    "cell_id": "00002-2a4629f8-d88d-42e6-937d-0a0df5d5f0a3",
    "deepnote_to_be_reexecuted": false,
    "source_hash": "8ab2531e",
    "execution_start": 1628606026349,
    "execution_millis": 591,
    "deepnote_cell_type": "code"
   }
  },
  {
   "cell_type": "code",
   "execution_count": 5,
   "source": [
    "X_tr = train_df.iloc[:,:1024]\r\n",
    "Y_tr = train_df.iloc[:,1024]\r\n",
    "\r\n",
    "X_val = test_df.iloc[:,:1024]\r\n",
    "Y_val = test_df.iloc[:,1024]"
   ],
   "outputs": [],
   "metadata": {
    "tags": [],
    "cell_id": "00004-e0fd697d-c640-452c-9e26-3a8d6bc4e901",
    "deepnote_to_be_reexecuted": false,
    "source_hash": "233e2acb",
    "execution_start": 1628606346830,
    "execution_millis": 0,
    "deepnote_cell_type": "code"
   }
  },
  {
   "cell_type": "code",
   "execution_count": 6,
   "source": [
    "#Receive Image from Telegram Chat then Classify\r\n"
   ],
   "outputs": [],
   "metadata": {
    "tags": [],
    "cell_id": "00003-adfb4ce1-6b92-41f1-8fd1-d19c8eead2e3",
    "deepnote_to_be_reexecuted": false,
    "source_hash": "2a495762",
    "execution_start": 1628605960096,
    "execution_millis": 2,
    "deepnote_cell_type": "code"
   }
  },
  {
   "cell_type": "markdown",
   "source": [
    "<a style='text-decoration:none;line-height:16px;display:flex;color:#5B5B62;padding:10px;justify-content:end;' href='https://deepnote.com?utm_source=created-in-deepnote-cell&projectId=94e431f8-42fe-427d-ad9d-8b943b5f884e' target=\"_blank\">\n",
    "<img alt='Created in deepnote.com' style='display:inline;max-height:16px;margin:0px;margin-right:7.5px;' src='data:image/svg+xml;base64,PD94bWwgdmVyc2lvbj0iMS4wIiBlbmNvZGluZz0iVVRGLTgiPz4KPHN2ZyB3aWR0aD0iODBweCIgaGVpZ2h0PSI4MHB4IiB2aWV3Qm94PSIwIDAgODAgODAiIHZlcnNpb249IjEuMSIgeG1sbnM9Imh0dHA6Ly93d3cudzMub3JnLzIwMDAvc3ZnIiB4bWxuczp4bGluaz0iaHR0cDovL3d3dy53My5vcmcvMTk5OS94bGluayI+CiAgICA8IS0tIEdlbmVyYXRvcjogU2tldGNoIDU0LjEgKDc2NDkwKSAtIGh0dHBzOi8vc2tldGNoYXBwLmNvbSAtLT4KICAgIDx0aXRsZT5Hcm91cCAzPC90aXRsZT4KICAgIDxkZXNjPkNyZWF0ZWQgd2l0aCBTa2V0Y2guPC9kZXNjPgogICAgPGcgaWQ9IkxhbmRpbmciIHN0cm9rZT0ibm9uZSIgc3Ryb2tlLXdpZHRoPSIxIiBmaWxsPSJub25lIiBmaWxsLXJ1bGU9ImV2ZW5vZGQiPgogICAgICAgIDxnIGlkPSJBcnRib2FyZCIgdHJhbnNmb3JtPSJ0cmFuc2xhdGUoLTEyMzUuMDAwMDAwLCAtNzkuMDAwMDAwKSI+CiAgICAgICAgICAgIDxnIGlkPSJHcm91cC0zIiB0cmFuc2Zvcm09InRyYW5zbGF0ZSgxMjM1LjAwMDAwMCwgNzkuMDAwMDAwKSI+CiAgICAgICAgICAgICAgICA8cG9seWdvbiBpZD0iUGF0aC0yMCIgZmlsbD0iIzAyNjVCNCIgcG9pbnRzPSIyLjM3NjIzNzYyIDgwIDM4LjA0NzY2NjcgODAgNTcuODIxNzgyMiA3My44MDU3NTkyIDU3LjgyMTc4MjIgMzIuNzU5MjczOSAzOS4xNDAyMjc4IDMxLjY4MzE2ODMiPjwvcG9seWdvbj4KICAgICAgICAgICAgICAgIDxwYXRoIGQ9Ik0zNS4wMDc3MTgsODAgQzQyLjkwNjIwMDcsNzYuNDU0OTM1OCA0Ny41NjQ5MTY3LDcxLjU0MjI2NzEgNDguOTgzODY2LDY1LjI2MTk5MzkgQzUxLjExMjI4OTksNTUuODQxNTg0MiA0MS42NzcxNzk1LDQ5LjIxMjIyODQgMjUuNjIzOTg0Niw0OS4yMTIyMjg0IEMyNS40ODQ5Mjg5LDQ5LjEyNjg0NDggMjkuODI2MTI5Niw0My4yODM4MjQ4IDM4LjY0NzU4NjksMzEuNjgzMTY4MyBMNzIuODcxMjg3MSwzMi41NTQ0MjUgTDY1LjI4MDk3Myw2Ny42NzYzNDIxIEw1MS4xMTIyODk5LDc3LjM3NjE0NCBMMzUuMDA3NzE4LDgwIFoiIGlkPSJQYXRoLTIyIiBmaWxsPSIjMDAyODY4Ij48L3BhdGg+CiAgICAgICAgICAgICAgICA8cGF0aCBkPSJNMCwzNy43MzA0NDA1IEwyNy4xMTQ1MzcsMC4yNTcxMTE0MzYgQzYyLjM3MTUxMjMsLTEuOTkwNzE3MDEgODAsMTAuNTAwMzkyNyA4MCwzNy43MzA0NDA1IEM4MCw2NC45NjA0ODgyIDY0Ljc3NjUwMzgsNzkuMDUwMzQxNCAzNC4zMjk1MTEzLDgwIEM0Ny4wNTUzNDg5LDc3LjU2NzA4MDggNTMuNDE4MjY3Nyw3MC4zMTM2MTAzIDUzLjQxODI2NzcsNTguMjM5NTg4NSBDNTMuNDE4MjY3Nyw0MC4xMjg1NTU3IDM2LjMwMzk1NDQsMzcuNzMwNDQwNSAyNS4yMjc0MTcsMzcuNzMwNDQwNSBDMTcuODQzMDU4NiwzNy43MzA0NDA1IDkuNDMzOTE5NjYsMzcuNzMwNDQwNSAwLDM3LjczMDQ0MDUgWiIgaWQ9IlBhdGgtMTkiIGZpbGw9IiMzNzkzRUYiPjwvcGF0aD4KICAgICAgICAgICAgPC9nPgogICAgICAgIDwvZz4KICAgIDwvZz4KPC9zdmc+' > </img>\n",
    "Created in <span style='font-weight:600;margin-left:4px;'>Deepnote</span></a>"
   ],
   "metadata": {
    "tags": [],
    "created_in_deepnote_cell": true,
    "deepnote_cell_type": "markdown"
   }
  }
 ],
 "nbformat": 4,
 "nbformat_minor": 2,
 "metadata": {
  "orig_nbformat": 2,
  "deepnote": {
   "is_reactive": false
  },
  "deepnote_notebook_id": "c08d7949-81be-47af-bbc8-4caa8fe431ce",
  "deepnote_execution_queue": [],
  "language_info": {
   "name": "python",
   "version": "3.8.10",
   "mimetype": "text/x-python",
   "codemirror_mode": {
    "name": "ipython",
    "version": 3
   },
   "pygments_lexer": "ipython3",
   "nbconvert_exporter": "python",
   "file_extension": ".py"
  },
  "kernelspec": {
   "name": "python3",
   "display_name": "Python 3.8.10 64-bit ('myenv': conda)"
  },
  "interpreter": {
   "hash": "850c152f8f84f3548ed5f09fd834180be13dced819bcdf283d955f3afcab8cf5"
  }
 }
}