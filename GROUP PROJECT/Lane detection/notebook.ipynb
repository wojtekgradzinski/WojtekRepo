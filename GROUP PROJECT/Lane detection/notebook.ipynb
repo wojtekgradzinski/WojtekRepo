{
 "cells": [
  {
   "cell_type": "code",
   "execution_count": 1,
   "source": [
    "import math\r\n",
    "import numpy as np\r\n",
    "import matplotlib.pyplot as plt\r\n",
    "import cv2\r\n",
    "\r\n",
    "def imshow(img):\r\n",
    "    img = cv2.cvtColor(img, cv2.COLOR_BGR2RGB)\r\n",
    "    plt.figure(figsize=(15,15))\r\n",
    "    plt.imshow(img)\r\n",
    "\r\n",
    "\r\n",
    "def grayscale(img):\r\n",
    "    \r\n",
    "    return cv2.cvtColor(img, cv2.COLOR_BGR2GRAY)\r\n",
    "    \r\n",
    "    \r\n",
    "def canny(img):\r\n",
    "    img_blur = cv2.GaussianBlur(img, (5,5), cv2.BORDER_DEFAULT)\r\n",
    "    canny = cv2.Canny(img_blur,100,255)\r\n",
    "    return canny\r\n",
    "\r\n",
    "\r\n",
    "def gaussian_blur(img, kernel_size):\r\n",
    "    return cv2.GaussianBlur(img, (kernel_size, kernel_size), cv2.BORDER_DEFAULT)\r\n",
    "\r\n",
    "def region_of_interest(img, vertices):\r\n",
    "    mask_zeros = np.zeros_like(img)\r\n",
    "    cv2.fillPoly(mask_zeros, np.int32([vertices]), 255)\r\n",
    "    img_masked = cv2.bitwise_and(img, mask_zeros)\r\n",
    "    return img_masked\r\n",
    "\r\n",
    "\r\n",
    "def draw_lines(img, lines, color=[0, 0, 255], thickness=6):\r\n",
    "    line_img = np.zeros_like(img)\r\n",
    "    if lines is not None:\r\n",
    "        for line in lines:\r\n",
    "            x1, y1, x2, y2 = line.reshape(4)\r\n",
    "            cv2.line(line_img, (x1, y1), (x2, y2), color, thickness)\r\n",
    "    return line_img\r\n",
    "\r\n",
    "\r\n",
    "def hough_lines(img, rho, theta, threshold, lines_array, min_line_len, max_line_gap):\r\n",
    "    return cv2.HoughLinesP(img, rho, theta, threshold, lines_array, min_line_len, max_line_gap)\r\n",
    "\r\n",
    "# Python 3 has support for cool math symbols.\r\n",
    "\r\n",
    "def weighted_img(img, line_img, α=0.8, β=1., γ=1.):\r\n",
    "    return cv2.addWeighted(img, α, line_img, β, γ)\r\n",
    "\r\n",
    "def make_coordinates(image, line_parameters):\r\n",
    "    slope, intercept = line_parameters\r\n",
    "    y1 = image.shape[0]\r\n",
    "    y2 = int(y1*(3/5))\r\n",
    "    x1 = ((y1 - intercept)/slope)\r\n",
    "    x2 = ((y2 - intercept)/slope)\r\n",
    "    return np.array([x1, y1, x2, y2])\r\n",
    "\r\n",
    "def average_slope_intercept(image, lines):\r\n",
    "    left_fit = []\r\n",
    "    right_fit = []\r\n",
    "    for x1, y1, x2, y2 in lines:\r\n",
    "        parameters = np.polyfit((x1, x2), (y1, y2), 1)\r\n",
    "        slope = parameters[0]\r\n",
    "        intercept = parameters[1]\r\n",
    "        if slope < 0:\r\n",
    "            left_fit.append((slope, intercept))\r\n",
    "        else:\r\n",
    "            right_fit.append((slope, intercept))\r\n",
    "    left_fit_average = np.average(left_fit, axis=0)\r\n",
    "    right_fit_average = np.average(right_fit, axis=0)\r\n",
    "    left_line = make_coordinates(image, left_fit_average)\r\n",
    "    right_line = make_coordinates(image, right_fit_average)\r\n",
    "    return np.array([left_line, right_line])"
   ],
   "outputs": [],
   "metadata": {
    "tags": [],
    "cell_id": "00000-ff4e9654-9c06-4919-9611-5a99cb150528",
    "deepnote_to_be_reexecuted": false,
    "source_hash": "a328d8f5",
    "execution_start": 1631285216790,
    "execution_millis": 3,
    "deepnote_cell_type": "code"
   }
  },
  {
   "cell_type": "code",
   "execution_count": 10,
   "source": [
    "test_image = cv2.imread('test_images/solidWhiteCurve.jpg')\r\n",
    "def main(image_img):\r\n",
    "    lane_img = np.copy(image_img)\r\n",
    "\r\n",
    "    height = lane_img.shape[0]\r\n",
    "    width = lane_img.shape[1]\r\n",
    "\r\n",
    "    vertices = np.array([\r\n",
    "        [150, height],\r\n",
    "        [500, 290],\r\n",
    "        [width,height]]\r\n",
    "    )\r\n",
    "\r\n",
    "    lane_img_gray = grayscale(lane_img)\r\n",
    "\r\n",
    "    can = canny(lane_img_gray)\r\n",
    "    masked_img = region_of_interest(can, vertices)\r\n",
    "    lines = hough_lines(masked_img, 2, np.pi/180, 100, np.array([]), min_line_len=40, max_line_gap=53)\r\n",
    "    line_img = draw_lines(lane_img, lines)\r\n",
    "    final_img = weighted_img(lane_img, line_img)\r\n",
    "    return (final_img)"
   ],
   "outputs": [],
   "metadata": {
    "tags": [],
    "cell_id": "00001-e961c3e5-e32d-4d4b-b84a-bce63122f1dd",
    "deepnote_to_be_reexecuted": false,
    "source_hash": "2c2244c2",
    "execution_start": 1631285369993,
    "execution_millis": 676,
    "deepnote_cell_type": "code"
   }
  },
  {
   "cell_type": "code",
   "execution_count": null,
   "source": [
    "2vertices"
   ],
   "outputs": [
    {
     "output_type": "execute_result",
     "data": {
      "text/plain": [
       "array([[150, 540],\n",
       "       [700, 150],\n",
       "       [960, 540]])"
      ]
     },
     "metadata": {},
     "execution_count": 39
    }
   ],
   "metadata": {
    "tags": [],
    "cell_id": "00002-3090c141-52b6-437d-8aba-d43b618f3138",
    "deepnote_to_be_reexecuted": false,
    "source_hash": "e3aeb313",
    "execution_start": 1631283424275,
    "execution_millis": 15,
    "deepnote_cell_type": "code"
   }
  },
  {
   "cell_type": "code",
   "execution_count": null,
   "source": [],
   "outputs": [],
   "metadata": {
    "tags": [],
    "cell_id": "00003-0bb65967-c7dd-4a11-85c2-4f1410157d14",
    "deepnote_cell_type": "code"
   }
  },
  {
   "cell_type": "code",
   "execution_count": null,
   "source": [],
   "outputs": [],
   "metadata": {
    "tags": [],
    "cell_id": "00005-bd411f20-6add-4b98-926c-4b5e22deae50",
    "deepnote_cell_type": "code"
   }
  },
  {
   "cell_type": "code",
   "execution_count": 13,
   "source": [
    "cap = cv2.VideoCapture('test_videos/solidYellowLeft.mp4')\r\n",
    "\r\n",
    "while(cap.isOpened()):\r\n",
    "\r\n",
    "    ret, frame = cap.read() \r\n",
    "    #cv2.namedWindow(\"window\", cv2.WND_PROP_FULLSCREEN)\r\n",
    "    #cv2.setWindowProperty(\"window\",cv2.WND_PROP_FULLSCREEN,cv2.WINDOW_FULLSCREEN)\r\n",
    "\r\n",
    "    if ret:\r\n",
    "        cv2.imshow('image',main(frame))\r\n",
    "    else:\r\n",
    "       print('no video')\r\n",
    "       cap.set(cv2.CAP_PROP_POS_FRAMES, 0)\r\n",
    "\r\n",
    "    if cv2.waitKey(1) & 0xFF == ord('q'):\r\n",
    "        break\r\n",
    "\r\n",
    "\r\n",
    "cap.release()\r\n",
    "cv2.destroyAllWindows()\r\n"
   ],
   "outputs": [
    {
     "output_type": "stream",
     "name": "stdout",
     "text": [
      "no video\n",
      "no video\n",
      "no video\n"
     ]
    }
   ],
   "metadata": {
    "tags": [],
    "cell_id": "00006-bb0cb3cb-eeb9-44fe-8e6f-b1f59216b216",
    "deepnote_cell_type": "code"
   }
  },
  {
   "cell_type": "markdown",
   "source": [
    "<a style='text-decoration:none;line-height:16px;display:flex;color:#5B5B62;padding:10px;justify-content:end;' href='https://deepnote.com?utm_source=created-in-deepnote-cell&projectId=d8a5706f-9d65-4b4a-b1ff-67585e6d2b20' target=\"_blank\">\n",
    "<img alt='Created in deepnote.com' style='display:inline;max-height:16px;margin:0px;margin-right:7.5px;' src='data:image/svg+xml;base64,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' > </img>\n",
    "Created in <span style='font-weight:600;margin-left:4px;'>Deepnote</span></a>"
   ],
   "metadata": {
    "tags": [],
    "created_in_deepnote_cell": true,
    "deepnote_cell_type": "markdown"
   }
  }
 ],
 "nbformat": 4,
 "nbformat_minor": 2,
 "metadata": {
  "orig_nbformat": 2,
  "deepnote": {
   "is_reactive": false
  },
  "deepnote_notebook_id": "3368c21f-15cf-4c1c-bb26-9ffdac47468c",
  "deepnote_execution_queue": [],
  "language_info": {
   "name": "python",
   "version": "3.8.11",
   "mimetype": "text/x-python",
   "codemirror_mode": {
    "name": "ipython",
    "version": 3
   },
   "pygments_lexer": "ipython3",
   "nbconvert_exporter": "python",
   "file_extension": ".py"
  },
  "kernelspec": {
   "name": "python3",
   "display_name": "Python 3.8.11 64-bit ('cv': conda)"
  },
  "interpreter": {
   "hash": "1c5fa964adacad1a748d85cbae08cf2374ebb924ae513411bb4d5c6ebb03aa36"
  }
 }
}