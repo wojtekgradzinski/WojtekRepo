{
 "cells": [
  {
   "cell_type": "code",
   "execution_count": 9,
   "metadata": {},
   "outputs": [
    {
     "output_type": "error",
     "ename": "SyntaxError",
     "evalue": "invalid syntax (<ipython-input-9-642637a4434e>, line 6)",
     "traceback": [
      "\u001b[1;36m  File \u001b[1;32m\"<ipython-input-9-642637a4434e>\"\u001b[1;36m, line \u001b[1;32m6\u001b[0m\n\u001b[1;33m    i+ =1\u001b[0m\n\u001b[1;37m       ^\u001b[0m\n\u001b[1;31mSyntaxError\u001b[0m\u001b[1;31m:\u001b[0m invalid syntax\n"
     ]
    }
   ],
   "source": [
    "i = 1\n",
    "while True: \n",
    "    if i%3 == 0:\n",
    "        break\n",
    "    print(i)\n",
    "    i+ =1   "
   ]
  },
  {
   "cell_type": "code",
   "execution_count": null,
   "metadata": {},
   "outputs": [],
   "source": [
    "import requests\n",
    "import pandas as pd\n",
    "from bs4 import BeautifulSoup\n",
    "import bs4\n",
    "from time import sleep\n",
    "import time\n",
    "import random\n",
    "import matplotlib.pyplot as plt\n",
    "import numpy as np"
   ]
  },
  {
   "cell_type": "code",
   "execution_count": null,
   "metadata": {},
   "outputs": [],
   "source": [
    "pub_ratings = []\n",
    "pub_reviews = []\n",
    "pub_names = []\n",
    "num_reviews = []\n",
    "price_range = []\n"
   ]
  },
  {
   "cell_type": "code",
   "execution_count": null,
   "metadata": {
    "tags": []
   },
   "outputs": [],
   "source": [
    "#header to avoid to get blocked from the webside\n",
    "headers = {\n",
    "    'User-Agent':'Mozilla/5.0 (Windows NT 10.0; Win64; x64) AppleWebKit/537.36 (KHTML, like Gecko) Chrome/90.0.4430.212 Safari/537.36'\n",
    "}\n",
    "\n",
    "#for loop for all pages\n",
    "\n",
    "for i in range(1,25):      # Number of pages plus one \n",
    "    url = \"https://www.yelp.ie/search?find_desc=Pubs+%26+Bars&find_loc=london&ns=1&start={}\".format(i)\n",
    "    r = requests.get(url)\n",
    "    soup_240 = BeautifulSoup(r.content, 'html.parser')\n",
    "    \n",
    "\n",
    "#data filtering main container\n",
    "     \n",
    "    all_data = soup_240.findAll('div', class_=\"container__09f24__21w3G hoverable__09f24__2nTf3 margin-t3__09f24__5bM2Z margin-b3__09f24__1DQ9x padding-t3__09f24__-R_5x padding-r3__09f24__1pBFG padding-b3__09f24__1vW6j padding-l3__09f24__1yCJf border--top__09f24__8W8ca border--right__09f24__1u7Gt border--bottom__09f24__xdij8 border--left__09f24__rwKIa border-color--default__09f24__1eOdn\")\n",
    "\n",
    "\n",
    "\n",
    "#filling lists with data\n",
    "\n",
    "    for data in all_data:\n",
    "       \n",
    "        pub_names.append(data.find('a', class_='css-166la90').get_text(separator=' '))  \n",
    "\n",
    "        try:\n",
    "            num_reviews.append(data.find('span',class_='reviewCount__09f24__EUXPN').get_text(separator=' '))\n",
    "        except Exception as e:\n",
    "            num_reviews.append(None)\n",
    "\n",
    "        try:\n",
    "            pub_reviews.append(data.find('p', class_='css-e81eai').get_text(separator=' '))\n",
    "        except Exception as e:\n",
    "            pub_reviews.append(None)\n",
    "        try:    \n",
    "\n",
    "            price_range.append(data.find('span', class_='priceRange__09f24__2O6le').get_text(separator=' '))\n",
    "        except Exception as e:\n",
    "            price_range.append(None) \n",
    "\n",
    "        try:\n",
    "            a = data.select(\".overflow--hidden__09f24__3z7CX\")[0]\n",
    "            rating = a[\"aria-label\"]\n",
    "            rating = rating.split(\" \")[0]\n",
    "            rating = float(rating)\n",
    "            pub_ratings.append(rating)\n",
    "        except Exception as e:\n",
    "            pub_ratings.append(None)   \n",
    "\n",
    "\n",
    "\n",
    "\n",
    "\n",
    "    "
   ]
  },
  {
   "cell_type": "code",
   "execution_count": 15,
   "metadata": {},
   "outputs": [
    {
     "output_type": "error",
     "ename": "NameError",
     "evalue": "name 'requests' is not defined",
     "traceback": [
      "\u001b[1;31m---------------------------------------------------------------------------\u001b[0m",
      "\u001b[1;31mNameError\u001b[0m                                 Traceback (most recent call last)",
      "\u001b[1;32m<ipython-input-15-853472a11fd7>\u001b[0m in \u001b[0;36m<module>\u001b[1;34m\u001b[0m\n\u001b[0;32m      5\u001b[0m \u001b[1;32mfor\u001b[0m \u001b[0mx\u001b[0m \u001b[1;32min\u001b[0m \u001b[0mrange\u001b[0m\u001b[1;33m(\u001b[0m\u001b[1;36m0\u001b[0m\u001b[1;33m,\u001b[0m\u001b[1;36m241\u001b[0m\u001b[1;33m,\u001b[0m\u001b[1;36m10\u001b[0m\u001b[1;33m)\u001b[0m\u001b[1;33m:\u001b[0m\u001b[1;33m\u001b[0m\u001b[1;33m\u001b[0m\u001b[0m\n\u001b[0;32m      6\u001b[0m \u001b[1;33m\u001b[0m\u001b[0m\n\u001b[1;32m----> 7\u001b[1;33m     \u001b[0mr\u001b[0m \u001b[1;33m=\u001b[0m \u001b[0mrequests\u001b[0m\u001b[1;33m.\u001b[0m\u001b[0mget\u001b[0m\u001b[1;33m(\u001b[0m\u001b[1;34mf'https://www.yelp.ie/search?find_desc=pubs&find_loc=london&ns={x}'\u001b[0m\u001b[1;33m)\u001b[0m\u001b[1;33m\u001b[0m\u001b[1;33m\u001b[0m\u001b[0m\n\u001b[0m\u001b[0;32m      8\u001b[0m \u001b[1;33m\u001b[0m\u001b[0m\n\u001b[0;32m      9\u001b[0m     \u001b[0msoup\u001b[0m \u001b[1;33m=\u001b[0m \u001b[0mBeautifulSoup\u001b[0m\u001b[1;33m(\u001b[0m\u001b[0mr\u001b[0m\u001b[1;33m.\u001b[0m\u001b[0mcontent\u001b[0m\u001b[1;33m,\u001b[0m \u001b[1;34m'html.parser'\u001b[0m\u001b[1;33m)\u001b[0m\u001b[1;33m\u001b[0m\u001b[1;33m\u001b[0m\u001b[0m\n",
      "\u001b[1;31mNameError\u001b[0m: name 'requests' is not defined"
     ]
    }
   ],
   "source": [
    "baseurl = 'https://www.yelp.ie/dublin'\n",
    "itemslinks = []\n",
    "#forlooping over 24 pages\n",
    "\n",
    "for x in range(0,241,10):\n",
    "     \n",
    "    r = requests.get(f'https://www.yelp.ie/search?find_desc=pubs&find_loc=london&ns={x}')\n",
    "    \n",
    "    soup = BeautifulSoup(r.content, 'html.parser')\n",
    "    \n",
    "    \n",
    "\n",
    "     #the main container\n",
    "    items = soup.find_all('span', class_='css-ardur')\n",
    "\n",
    "    #getting the links from all the elements of the first page\n",
    "    for item in items:\n",
    "         for link in item.find_all('a', href = True):\n",
    "             itemslinks.append(baseurl + link['href'])\n",
    "\n",
    "#print(len(itemslinks))"
   ]
  },
  {
   "cell_type": "code",
   "execution_count": 14,
   "metadata": {},
   "outputs": [],
   "source": [
    "#product informations \n",
    "\n",
    "el_lists = []\n",
    "for link in itemslinks:\n",
    "    r = requests.get(link, headers=headers)\n",
    "    soup = BeautifulSoup(r.content, 'html.parser')\n",
    "    \n",
    "    # handling none values and scraping the content\n",
    "    try:\n",
    "        \n",
    "        london_area = soup.find('div', class_=' css-1vhakgw border--top__373c0__19Owr border-color--default__373c0__2oFDT').text.strip()\n",
    "        #photos_num = soup.find('span', class_=' css-ardur').text.strip()\n",
    "    except:\n",
    "        london_area = np.nan\n",
    "        photos_num = np.nan\n",
    "        \n",
    "    \n",
    "    element_dic = {\n",
    "    'london_area': london_area,\n",
    "    'photos_num': photos_num,\n",
    "     }\n",
    "\n",
    "    el_lists.append(element_dic)\n",
    "    #print('Saving: ',element_dic['photos_num'])\n",
    "    \n"
   ]
  },
  {
   "cell_type": "code",
   "execution_count": null,
   "metadata": {},
   "outputs": [],
   "source": [
    "url = \"https://data.london.gov.uk/london-area-profiles/\"\n",
    "r = requests.get(url)\n",
    "soup = BeautifulSoup(r.content, 'html.parser')\n",
    "all_data = soup.findAll('div', class_='ia-table-scrollbox')\n"
   ]
  },
  {
   "cell_type": "code",
   "execution_count": null,
   "metadata": {},
   "outputs": [],
   "source": [
    "all_data"
   ]
  },
  {
   "cell_type": "code",
   "execution_count": null,
   "metadata": {},
   "outputs": [],
   "source": [
    "soup"
   ]
  },
  {
   "cell_type": "code",
   "execution_count": 12,
   "metadata": {},
   "outputs": [
    {
     "output_type": "error",
     "ename": "NameError",
     "evalue": "name 'pd' is not defined",
     "traceback": [
      "\u001b[1;31m---------------------------------------------------------------------------\u001b[0m",
      "\u001b[1;31mNameError\u001b[0m                                 Traceback (most recent call last)",
      "\u001b[1;32m<ipython-input-12-acc24bfe1e70>\u001b[0m in \u001b[0;36m<module>\u001b[1;34m\u001b[0m\n\u001b[1;32m----> 1\u001b[1;33m \u001b[0mdf\u001b[0m \u001b[1;33m=\u001b[0m \u001b[0mpd\u001b[0m\u001b[1;33m.\u001b[0m\u001b[0mDataFrame\u001b[0m\u001b[1;33m(\u001b[0m\u001b[0mel_lists\u001b[0m\u001b[1;33m)\u001b[0m\u001b[1;33m\u001b[0m\u001b[1;33m\u001b[0m\u001b[0m\n\u001b[0m\u001b[0;32m      2\u001b[0m \u001b[0mdf\u001b[0m\u001b[1;33m.\u001b[0m\u001b[0mhead\u001b[0m\u001b[1;33m(\u001b[0m\u001b[1;33m)\u001b[0m\u001b[1;33m\u001b[0m\u001b[1;33m\u001b[0m\u001b[0m\n",
      "\u001b[1;31mNameError\u001b[0m: name 'pd' is not defined"
     ]
    }
   ],
   "source": [
    "df = pd.DataFrame(el_lists)\n",
    "df.head()"
   ]
  },
  {
   "cell_type": "code",
   "execution_count": null,
   "metadata": {},
   "outputs": [],
   "source": [
    "data_touples = zip(pub_names, num_reviews, pub_ratings, price_range,pub_reviews)\n",
    "df = pd.DataFrame(data_touples, columns=['pub_names', 'num_reviews','pub_ratings','price_range','pub_reviews'])\n",
    "\n",
    "df.drop(columns ='pub_reviews', inplace= True)\n",
    "df"
   ]
  },
  {
   "cell_type": "code",
   "execution_count": null,
   "metadata": {},
   "outputs": [],
   "source": [
    "\n",
    "#df.to_excel('LondonPubs.xlsx', engine='xlsxwriter', index=False)  "
   ]
  },
  {
   "cell_type": "code",
   "execution_count": null,
   "metadata": {},
   "outputs": [],
   "source": [
    "#a['aria-label']\n",
    "\n",
    "#a['aria-label'].split(' ')[0]"
   ]
  },
  {
   "cell_type": "code",
   "execution_count": 11,
   "metadata": {},
   "outputs": [
    {
     "output_type": "error",
     "ename": "NameError",
     "evalue": "name 'df' is not defined",
     "traceback": [
      "\u001b[1;31m---------------------------------------------------------------------------\u001b[0m",
      "\u001b[1;31mNameError\u001b[0m                                 Traceback (most recent call last)",
      "\u001b[1;32m<ipython-input-11-2f0c4a764cfa>\u001b[0m in \u001b[0;36m<module>\u001b[1;34m\u001b[0m\n\u001b[0;32m      1\u001b[0m \u001b[1;31m# probabliliies\u001b[0m\u001b[1;33m\u001b[0m\u001b[1;33m\u001b[0m\u001b[1;33m\u001b[0m\u001b[0m\n\u001b[1;32m----> 2\u001b[1;33m \u001b[0mdf\u001b[0m\u001b[1;33m\u001b[0m\u001b[1;33m\u001b[0m\u001b[0m\n\u001b[0m\u001b[0;32m      3\u001b[0m \u001b[1;33m\u001b[0m\u001b[0m\n",
      "\u001b[1;31mNameError\u001b[0m: name 'df' is not defined"
     ]
    }
   ],
   "source": [
    "# probabliliies\n",
    "df\n",
    "\n"
   ]
  },
  {
   "cell_type": "code",
   "execution_count": null,
   "metadata": {},
   "outputs": [],
   "source": []
  }
 ],
 "metadata": {
  "interpreter": {
   "hash": "273e4cd330c9365d0d8fc6d704b08084cf297120c969e21fb6416b510b92ba85"
  },
  "kernelspec": {
   "name": "python3",
   "display_name": "Python 3.8.10 64-bit ('wojtek': conda)"
  },
  "language_info": {
   "name": "python",
   "version": "3.8.10"
  },
  "orig_nbformat": 4
 },
 "nbformat": 4,
 "nbformat_minor": 2
}