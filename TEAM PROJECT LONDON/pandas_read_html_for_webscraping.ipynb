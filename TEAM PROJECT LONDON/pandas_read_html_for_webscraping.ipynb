{
  "nbformat": 4,
  "nbformat_minor": 0,
  "metadata": {
    "colab": {
      "name": "pandas-read-html-for-webscraping.ipynb",
      "provenance": [],
      "collapsed_sections": []
    },
    "kernelspec": {
      "name": "python3",
      "display_name": "Python 3.8.10 64-bit ('wojtek': conda)"
    },
    "interpreter": {
      "hash": "273e4cd330c9365d0d8fc6d704b08084cf297120c969e21fb6416b510b92ba85"
    }
  },
  "cells": [
    {
      "cell_type": "markdown",
      "metadata": {
        "id": "5WNm0Jm7Sg_B",
        "colab_type": "text"
      },
      "source": [
        "# **Using pandas read_html to Web Scrape Data for Data Science** \n",
        "\n",
        "Chanin Nantasenamat\n",
        "\n",
        "<i>[Data Professor YouTube channel](http://youtube.com/dataprofessor), http://youtube.com/dataprofessor </i>\n",
        "\n",
        "In this Jupyter notebook, I will be showing you how to easily web scrape data using pandas read_html() function for your data science project. We will be web scraping NBA player stats data and perform a quick data exploration."
      ]
    },
    {
      "cell_type": "markdown",
      "metadata": {
        "id": "jsGSzqADSa0o",
        "colab_type": "text"
      },
      "source": [
        "## **URL to the webpage \"2018-19 NBA Player Stats: Per Game\"**"
      ]
    },
    {
      "cell_type": "markdown",
      "metadata": {
        "id": "-AQZU0n4StVq",
        "colab_type": "text"
      },
      "source": [
        "### Method 1\n",
        "\n",
        "We could modularize the URL and year strings of text that may be useful for programmatic access (in the subsequent code cell)."
      ]
    },
    {
      "cell_type": "code",
      "metadata": {
        "id": "pGkHgtANQ4b2",
        "colab_type": "code",
        "outputId": "ff2ecd23-f31c-4b41-ab47-fa85bbfc04b3",
        "colab": {
          "base_uri": "https://localhost:8080/",
          "height": 35
        }
      },
      "source": [
        "# The Building Blocks\n",
        "year = '2019'\n",
        "url_link = 'https://www.basketball-reference.com/leagues/NBA_{}_per_game.html'\n",
        "\n",
        "# Combining the URL + year strings together\n",
        "url = url_link.format(year)\n",
        "url"
      ],
      "execution_count": 1,
      "outputs": [
        {
          "output_type": "execute_result",
          "data": {
            "text/plain": [
              "'https://www.basketball-reference.com/leagues/NBA_2019_per_game.html'"
            ]
          },
          "metadata": {},
          "execution_count": 1
        }
      ]
    },
    {
      "cell_type": "markdown",
      "metadata": {
        "id": "ySZux1-hWLbX",
        "colab_type": "text"
      },
      "source": [
        "Now, let's programmatically return a list of URL given a list of years (e.g. 2015,2016,2017,2018,2019)."
      ]
    },
    {
      "cell_type": "code",
      "metadata": {
        "id": "JSw9Q7s7VQyd",
        "colab_type": "code",
        "outputId": "405110a8-72a6-4172-eb17-1c229a2e9341",
        "colab": {
          "base_uri": "https://localhost:8080/",
          "height": 107
        }
      },
      "source": [
        "years = [2015,2016,2017,2018,2019]\n",
        "url_link = 'https://www.basketball-reference.com/leagues/NBA_{}_per_game.html'\n",
        "\n",
        "for year in years:\n",
        "  url = url_link.format(year)\n",
        "  print(url)"
      ],
      "execution_count": 17,
      "outputs": [
        {
          "output_type": "stream",
          "name": "stdout",
          "text": [
            "https://www.basketball-reference.com/leagues/NBA_2015_per_game.html\nhttps://www.basketball-reference.com/leagues/NBA_2016_per_game.html\nhttps://www.basketball-reference.com/leagues/NBA_2017_per_game.html\nhttps://www.basketball-reference.com/leagues/NBA_2018_per_game.html\nhttps://www.basketball-reference.com/leagues/NBA_2019_per_game.html\n"
          ]
        }
      ]
    },
    {
      "cell_type": "markdown",
      "metadata": {
        "id": "wlDt8TTxSvEz",
        "colab_type": "text"
      },
      "source": [
        "Method 2"
      ]
    },
    {
      "cell_type": "code",
      "metadata": {
        "id": "-x78Rt_iRmCa",
        "colab_type": "code",
        "colab": {}
      },
      "source": [
        "url = 'https://www.basketball-reference.com/leagues/NBA_2019_per_game.html'"
      ],
      "execution_count": 3,
      "outputs": []
    },
    {
      "cell_type": "markdown",
      "metadata": {
        "id": "fhVY2xJJS0FU",
        "colab_type": "text"
      },
      "source": [
        "## **Read HTML webpage into pandas**"
      ]
    },
    {
      "cell_type": "code",
      "metadata": {
        "id": "yE_EfE-gPW1a",
        "colab_type": "code",
        "colab": {}
      },
      "source": [
        "import pandas as pd"
      ],
      "execution_count": 4,
      "outputs": []
    },
    {
      "cell_type": "markdown",
      "metadata": {
        "id": "Sk1EUVeFUXPq",
        "colab_type": "text"
      },
      "source": [
        "### Using pd.read_html() function to read HTML webpage"
      ]
    },
    {
      "cell_type": "code",
      "metadata": {
        "id": "4sLS78K-S-r2",
        "colab_type": "code",
        "outputId": "7c98cfe0-d520-4752-b000-bb76fa43347b",
        "colab": {
          "base_uri": "https://localhost:8080/",
          "height": 269
        }
      },
      "source": [
        "df = pd.read_html(url, header = 0)\n",
        "df"
      ],
      "execution_count": 5,
      "outputs": [
        {
          "output_type": "execute_result",
          "data": {
            "text/plain": [
              "[      Rk        Player Pos Age   Tm   G  GS    MP   FG   FGA  ...   FT%  ORB  \\\n",
              " 0      1  Álex Abrines  SG  25  OKC  31   2  19.0  1.8   5.1  ...  .923  0.2   \n",
              " 1      2    Quincy Acy  PF  28  PHO  10   0  12.3  0.4   1.8  ...  .700  0.3   \n",
              " 2      3  Jaylen Adams  PG  22  ATL  34   1  12.6  1.1   3.2  ...  .778  0.3   \n",
              " 3      4  Steven Adams   C  25  OKC  80  80  33.4  6.0  10.1  ...  .500  4.9   \n",
              " 4      5   Bam Adebayo   C  21  MIA  82  28  23.3  3.4   5.9  ...  .735  2.0   \n",
              " ..   ...           ...  ..  ..  ...  ..  ..   ...  ...   ...  ...   ...  ...   \n",
              " 729  528  Tyler Zeller   C  29  MEM   4   1  20.5  4.0   7.0  ...  .778  2.3   \n",
              " 730  529    Ante Žižić   C  22  CLE  59  25  18.3  3.1   5.6  ...  .705  1.8   \n",
              " 731  530   Ivica Zubac   C  21  TOT  59  37  17.6  3.6   6.4  ...  .802  1.9   \n",
              " 732  530   Ivica Zubac   C  21  LAL  33  12  15.6  3.4   5.8  ...  .864  1.6   \n",
              " 733  530   Ivica Zubac   C  21  LAC  26  25  20.2  3.8   7.2  ...  .733  2.3   \n",
              " \n",
              "      DRB  TRB  AST  STL  BLK  TOV   PF   PTS  \n",
              " 0    1.4  1.5  0.6  0.5  0.2  0.5  1.7   5.3  \n",
              " 1    2.2  2.5  0.8  0.1  0.4  0.4  2.4   1.7  \n",
              " 2    1.4  1.8  1.9  0.4  0.1  0.8  1.3   3.2  \n",
              " 3    4.6  9.5  1.6  1.5  1.0  1.7  2.6  13.9  \n",
              " 4    5.3  7.3  2.2  0.9  0.8  1.5  2.5   8.9  \n",
              " ..   ...  ...  ...  ...  ...  ...  ...   ...  \n",
              " 729  2.3  4.5  0.8  0.3  0.8  1.0  4.0  11.5  \n",
              " 730  3.6  5.4  0.9  0.2  0.4  1.0  1.9   7.8  \n",
              " 731  4.2  6.1  1.1  0.2  0.9  1.2  2.3   8.9  \n",
              " 732  3.3  4.9  0.8  0.1  0.8  1.0  2.2   8.5  \n",
              " 733  5.3  7.7  1.5  0.4  0.9  1.4  2.5   9.4  \n",
              " \n",
              " [734 rows x 30 columns]]"
            ]
          },
          "metadata": {},
          "execution_count": 5
        }
      ]
    },
    {
      "cell_type": "markdown",
      "metadata": {
        "id": "iVtWB7zuUWIp",
        "colab_type": "text"
      },
      "source": [
        "### How many tables are there in the webpage?"
      ]
    },
    {
      "cell_type": "code",
      "metadata": {
        "id": "BdIXrthuTApH",
        "colab_type": "code",
        "outputId": "07350119-b55a-49fb-c62d-7d2a680f6248",
        "colab": {
          "base_uri": "https://localhost:8080/",
          "height": 35
        }
      },
      "source": [
        "len(df)"
      ],
      "execution_count": 6,
      "outputs": [
        {
          "output_type": "execute_result",
          "data": {
            "text/plain": [
              "1"
            ]
          },
          "metadata": {},
          "execution_count": 6
        }
      ]
    },
    {
      "cell_type": "markdown",
      "metadata": {
        "id": "glCMVlkWU6ik",
        "colab_type": "text"
      },
      "source": [
        "### Select the first table"
      ]
    },
    {
      "cell_type": "code",
      "metadata": {
        "id": "Pv0NHbFeTrEp",
        "colab_type": "code",
        "outputId": "f54f309e-6321-4267-9bb1-d0a9c6c050a9",
        "colab": {
          "base_uri": "https://localhost:8080/",
          "height": 609
        }
      },
      "source": [
        "df[0]"
      ],
      "execution_count": 7,
      "outputs": [
        {
          "output_type": "execute_result",
          "data": {
            "text/plain": [
              "      Rk        Player Pos Age   Tm   G  GS    MP   FG   FGA  ...   FT%  ORB  \\\n",
              "0      1  Álex Abrines  SG  25  OKC  31   2  19.0  1.8   5.1  ...  .923  0.2   \n",
              "1      2    Quincy Acy  PF  28  PHO  10   0  12.3  0.4   1.8  ...  .700  0.3   \n",
              "2      3  Jaylen Adams  PG  22  ATL  34   1  12.6  1.1   3.2  ...  .778  0.3   \n",
              "3      4  Steven Adams   C  25  OKC  80  80  33.4  6.0  10.1  ...  .500  4.9   \n",
              "4      5   Bam Adebayo   C  21  MIA  82  28  23.3  3.4   5.9  ...  .735  2.0   \n",
              "..   ...           ...  ..  ..  ...  ..  ..   ...  ...   ...  ...   ...  ...   \n",
              "729  528  Tyler Zeller   C  29  MEM   4   1  20.5  4.0   7.0  ...  .778  2.3   \n",
              "730  529    Ante Žižić   C  22  CLE  59  25  18.3  3.1   5.6  ...  .705  1.8   \n",
              "731  530   Ivica Zubac   C  21  TOT  59  37  17.6  3.6   6.4  ...  .802  1.9   \n",
              "732  530   Ivica Zubac   C  21  LAL  33  12  15.6  3.4   5.8  ...  .864  1.6   \n",
              "733  530   Ivica Zubac   C  21  LAC  26  25  20.2  3.8   7.2  ...  .733  2.3   \n",
              "\n",
              "     DRB  TRB  AST  STL  BLK  TOV   PF   PTS  \n",
              "0    1.4  1.5  0.6  0.5  0.2  0.5  1.7   5.3  \n",
              "1    2.2  2.5  0.8  0.1  0.4  0.4  2.4   1.7  \n",
              "2    1.4  1.8  1.9  0.4  0.1  0.8  1.3   3.2  \n",
              "3    4.6  9.5  1.6  1.5  1.0  1.7  2.6  13.9  \n",
              "4    5.3  7.3  2.2  0.9  0.8  1.5  2.5   8.9  \n",
              "..   ...  ...  ...  ...  ...  ...  ...   ...  \n",
              "729  2.3  4.5  0.8  0.3  0.8  1.0  4.0  11.5  \n",
              "730  3.6  5.4  0.9  0.2  0.4  1.0  1.9   7.8  \n",
              "731  4.2  6.1  1.1  0.2  0.9  1.2  2.3   8.9  \n",
              "732  3.3  4.9  0.8  0.1  0.8  1.0  2.2   8.5  \n",
              "733  5.3  7.7  1.5  0.4  0.9  1.4  2.5   9.4  \n",
              "\n",
              "[734 rows x 30 columns]"
            ],
            "text/html": "<div>\n<style scoped>\n    .dataframe tbody tr th:only-of-type {\n        vertical-align: middle;\n    }\n\n    .dataframe tbody tr th {\n        vertical-align: top;\n    }\n\n    .dataframe thead th {\n        text-align: right;\n    }\n</style>\n<table border=\"1\" class=\"dataframe\">\n  <thead>\n    <tr style=\"text-align: right;\">\n      <th></th>\n      <th>Rk</th>\n      <th>Player</th>\n      <th>Pos</th>\n      <th>Age</th>\n      <th>Tm</th>\n      <th>G</th>\n      <th>GS</th>\n      <th>MP</th>\n      <th>FG</th>\n      <th>FGA</th>\n      <th>...</th>\n      <th>FT%</th>\n      <th>ORB</th>\n      <th>DRB</th>\n      <th>TRB</th>\n      <th>AST</th>\n      <th>STL</th>\n      <th>BLK</th>\n      <th>TOV</th>\n      <th>PF</th>\n      <th>PTS</th>\n    </tr>\n  </thead>\n  <tbody>\n    <tr>\n      <th>0</th>\n      <td>1</td>\n      <td>Álex Abrines</td>\n      <td>SG</td>\n      <td>25</td>\n      <td>OKC</td>\n      <td>31</td>\n      <td>2</td>\n      <td>19.0</td>\n      <td>1.8</td>\n      <td>5.1</td>\n      <td>...</td>\n      <td>.923</td>\n      <td>0.2</td>\n      <td>1.4</td>\n      <td>1.5</td>\n      <td>0.6</td>\n      <td>0.5</td>\n      <td>0.2</td>\n      <td>0.5</td>\n      <td>1.7</td>\n      <td>5.3</td>\n    </tr>\n    <tr>\n      <th>1</th>\n      <td>2</td>\n      <td>Quincy Acy</td>\n      <td>PF</td>\n      <td>28</td>\n      <td>PHO</td>\n      <td>10</td>\n      <td>0</td>\n      <td>12.3</td>\n      <td>0.4</td>\n      <td>1.8</td>\n      <td>...</td>\n      <td>.700</td>\n      <td>0.3</td>\n      <td>2.2</td>\n      <td>2.5</td>\n      <td>0.8</td>\n      <td>0.1</td>\n      <td>0.4</td>\n      <td>0.4</td>\n      <td>2.4</td>\n      <td>1.7</td>\n    </tr>\n    <tr>\n      <th>2</th>\n      <td>3</td>\n      <td>Jaylen Adams</td>\n      <td>PG</td>\n      <td>22</td>\n      <td>ATL</td>\n      <td>34</td>\n      <td>1</td>\n      <td>12.6</td>\n      <td>1.1</td>\n      <td>3.2</td>\n      <td>...</td>\n      <td>.778</td>\n      <td>0.3</td>\n      <td>1.4</td>\n      <td>1.8</td>\n      <td>1.9</td>\n      <td>0.4</td>\n      <td>0.1</td>\n      <td>0.8</td>\n      <td>1.3</td>\n      <td>3.2</td>\n    </tr>\n    <tr>\n      <th>3</th>\n      <td>4</td>\n      <td>Steven Adams</td>\n      <td>C</td>\n      <td>25</td>\n      <td>OKC</td>\n      <td>80</td>\n      <td>80</td>\n      <td>33.4</td>\n      <td>6.0</td>\n      <td>10.1</td>\n      <td>...</td>\n      <td>.500</td>\n      <td>4.9</td>\n      <td>4.6</td>\n      <td>9.5</td>\n      <td>1.6</td>\n      <td>1.5</td>\n      <td>1.0</td>\n      <td>1.7</td>\n      <td>2.6</td>\n      <td>13.9</td>\n    </tr>\n    <tr>\n      <th>4</th>\n      <td>5</td>\n      <td>Bam Adebayo</td>\n      <td>C</td>\n      <td>21</td>\n      <td>MIA</td>\n      <td>82</td>\n      <td>28</td>\n      <td>23.3</td>\n      <td>3.4</td>\n      <td>5.9</td>\n      <td>...</td>\n      <td>.735</td>\n      <td>2.0</td>\n      <td>5.3</td>\n      <td>7.3</td>\n      <td>2.2</td>\n      <td>0.9</td>\n      <td>0.8</td>\n      <td>1.5</td>\n      <td>2.5</td>\n      <td>8.9</td>\n    </tr>\n    <tr>\n      <th>...</th>\n      <td>...</td>\n      <td>...</td>\n      <td>...</td>\n      <td>...</td>\n      <td>...</td>\n      <td>...</td>\n      <td>...</td>\n      <td>...</td>\n      <td>...</td>\n      <td>...</td>\n      <td>...</td>\n      <td>...</td>\n      <td>...</td>\n      <td>...</td>\n      <td>...</td>\n      <td>...</td>\n      <td>...</td>\n      <td>...</td>\n      <td>...</td>\n      <td>...</td>\n      <td>...</td>\n    </tr>\n    <tr>\n      <th>729</th>\n      <td>528</td>\n      <td>Tyler Zeller</td>\n      <td>C</td>\n      <td>29</td>\n      <td>MEM</td>\n      <td>4</td>\n      <td>1</td>\n      <td>20.5</td>\n      <td>4.0</td>\n      <td>7.0</td>\n      <td>...</td>\n      <td>.778</td>\n      <td>2.3</td>\n      <td>2.3</td>\n      <td>4.5</td>\n      <td>0.8</td>\n      <td>0.3</td>\n      <td>0.8</td>\n      <td>1.0</td>\n      <td>4.0</td>\n      <td>11.5</td>\n    </tr>\n    <tr>\n      <th>730</th>\n      <td>529</td>\n      <td>Ante Žižić</td>\n      <td>C</td>\n      <td>22</td>\n      <td>CLE</td>\n      <td>59</td>\n      <td>25</td>\n      <td>18.3</td>\n      <td>3.1</td>\n      <td>5.6</td>\n      <td>...</td>\n      <td>.705</td>\n      <td>1.8</td>\n      <td>3.6</td>\n      <td>5.4</td>\n      <td>0.9</td>\n      <td>0.2</td>\n      <td>0.4</td>\n      <td>1.0</td>\n      <td>1.9</td>\n      <td>7.8</td>\n    </tr>\n    <tr>\n      <th>731</th>\n      <td>530</td>\n      <td>Ivica Zubac</td>\n      <td>C</td>\n      <td>21</td>\n      <td>TOT</td>\n      <td>59</td>\n      <td>37</td>\n      <td>17.6</td>\n      <td>3.6</td>\n      <td>6.4</td>\n      <td>...</td>\n      <td>.802</td>\n      <td>1.9</td>\n      <td>4.2</td>\n      <td>6.1</td>\n      <td>1.1</td>\n      <td>0.2</td>\n      <td>0.9</td>\n      <td>1.2</td>\n      <td>2.3</td>\n      <td>8.9</td>\n    </tr>\n    <tr>\n      <th>732</th>\n      <td>530</td>\n      <td>Ivica Zubac</td>\n      <td>C</td>\n      <td>21</td>\n      <td>LAL</td>\n      <td>33</td>\n      <td>12</td>\n      <td>15.6</td>\n      <td>3.4</td>\n      <td>5.8</td>\n      <td>...</td>\n      <td>.864</td>\n      <td>1.6</td>\n      <td>3.3</td>\n      <td>4.9</td>\n      <td>0.8</td>\n      <td>0.1</td>\n      <td>0.8</td>\n      <td>1.0</td>\n      <td>2.2</td>\n      <td>8.5</td>\n    </tr>\n    <tr>\n      <th>733</th>\n      <td>530</td>\n      <td>Ivica Zubac</td>\n      <td>C</td>\n      <td>21</td>\n      <td>LAC</td>\n      <td>26</td>\n      <td>25</td>\n      <td>20.2</td>\n      <td>3.8</td>\n      <td>7.2</td>\n      <td>...</td>\n      <td>.733</td>\n      <td>2.3</td>\n      <td>5.3</td>\n      <td>7.7</td>\n      <td>1.5</td>\n      <td>0.4</td>\n      <td>0.9</td>\n      <td>1.4</td>\n      <td>2.5</td>\n      <td>9.4</td>\n    </tr>\n  </tbody>\n</table>\n<p>734 rows × 30 columns</p>\n</div>"
          },
          "metadata": {},
          "execution_count": 7
        }
      ]
    },
    {
      "cell_type": "code",
      "metadata": {
        "id": "owwSCuZYU-sT",
        "colab_type": "code",
        "colab": {}
      },
      "source": [
        "df2019 = df[0]"
      ],
      "execution_count": 8,
      "outputs": []
    },
    {
      "cell_type": "code",
      "metadata": {
        "id": "LnK9JHQ9VFkq",
        "colab_type": "code",
        "colab": {}
      },
      "source": [],
      "execution_count": 0,
      "outputs": []
    },
    {
      "cell_type": "markdown",
      "metadata": {
        "id": "laW205ykvn0S",
        "colab_type": "text"
      },
      "source": [
        "## Data cleaning"
      ]
    },
    {
      "cell_type": "markdown",
      "metadata": {
        "id": "b-cH41xd54Tw",
        "colab_type": "text"
      },
      "source": [
        "We can see that the table header is presented multiple times in several rows."
      ]
    },
    {
      "cell_type": "code",
      "metadata": {
        "id": "6St9yeuZg9rf",
        "colab_type": "code",
        "outputId": "52413e55-62b5-4d5d-9f20-b32d9b60dc7e",
        "colab": {
          "base_uri": "https://localhost:8080/",
          "height": 875
        }
      },
      "source": [
        "df2019[df2019.Age == 'Age']"
      ],
      "execution_count": 9,
      "outputs": [
        {
          "output_type": "execute_result",
          "data": {
            "text/plain": [
              "     Rk  Player  Pos  Age  Tm  G  GS  MP  FG  FGA  ...  FT%  ORB  DRB  TRB  \\\n",
              "22   Rk  Player  Pos  Age  Tm  G  GS  MP  FG  FGA  ...  FT%  ORB  DRB  TRB   \n",
              "49   Rk  Player  Pos  Age  Tm  G  GS  MP  FG  FGA  ...  FT%  ORB  DRB  TRB   \n",
              "70   Rk  Player  Pos  Age  Tm  G  GS  MP  FG  FGA  ...  FT%  ORB  DRB  TRB   \n",
              "97   Rk  Player  Pos  Age  Tm  G  GS  MP  FG  FGA  ...  FT%  ORB  DRB  TRB   \n",
              "132  Rk  Player  Pos  Age  Tm  G  GS  MP  FG  FGA  ...  FT%  ORB  DRB  TRB   \n",
              "161  Rk  Player  Pos  Age  Tm  G  GS  MP  FG  FGA  ...  FT%  ORB  DRB  TRB   \n",
              "186  Rk  Player  Pos  Age  Tm  G  GS  MP  FG  FGA  ...  FT%  ORB  DRB  TRB   \n",
              "217  Rk  Player  Pos  Age  Tm  G  GS  MP  FG  FGA  ...  FT%  ORB  DRB  TRB   \n",
              "244  Rk  Player  Pos  Age  Tm  G  GS  MP  FG  FGA  ...  FT%  ORB  DRB  TRB   \n",
              "269  Rk  Player  Pos  Age  Tm  G  GS  MP  FG  FGA  ...  FT%  ORB  DRB  TRB   \n",
              "297  Rk  Player  Pos  Age  Tm  G  GS  MP  FG  FGA  ...  FT%  ORB  DRB  TRB   \n",
              "324  Rk  Player  Pos  Age  Tm  G  GS  MP  FG  FGA  ...  FT%  ORB  DRB  TRB   \n",
              "349  Rk  Player  Pos  Age  Tm  G  GS  MP  FG  FGA  ...  FT%  ORB  DRB  TRB   \n",
              "382  Rk  Player  Pos  Age  Tm  G  GS  MP  FG  FGA  ...  FT%  ORB  DRB  TRB   \n",
              "411  Rk  Player  Pos  Age  Tm  G  GS  MP  FG  FGA  ...  FT%  ORB  DRB  TRB   \n",
              "438  Rk  Player  Pos  Age  Tm  G  GS  MP  FG  FGA  ...  FT%  ORB  DRB  TRB   \n",
              "468  Rk  Player  Pos  Age  Tm  G  GS  MP  FG  FGA  ...  FT%  ORB  DRB  TRB   \n",
              "498  Rk  Player  Pos  Age  Tm  G  GS  MP  FG  FGA  ...  FT%  ORB  DRB  TRB   \n",
              "527  Rk  Player  Pos  Age  Tm  G  GS  MP  FG  FGA  ...  FT%  ORB  DRB  TRB   \n",
              "554  Rk  Player  Pos  Age  Tm  G  GS  MP  FG  FGA  ...  FT%  ORB  DRB  TRB   \n",
              "579  Rk  Player  Pos  Age  Tm  G  GS  MP  FG  FGA  ...  FT%  ORB  DRB  TRB   \n",
              "604  Rk  Player  Pos  Age  Tm  G  GS  MP  FG  FGA  ...  FT%  ORB  DRB  TRB   \n",
              "642  Rk  Player  Pos  Age  Tm  G  GS  MP  FG  FGA  ...  FT%  ORB  DRB  TRB   \n",
              "671  Rk  Player  Pos  Age  Tm  G  GS  MP  FG  FGA  ...  FT%  ORB  DRB  TRB   \n",
              "694  Rk  Player  Pos  Age  Tm  G  GS  MP  FG  FGA  ...  FT%  ORB  DRB  TRB   \n",
              "715  Rk  Player  Pos  Age  Tm  G  GS  MP  FG  FGA  ...  FT%  ORB  DRB  TRB   \n",
              "\n",
              "     AST  STL  BLK  TOV  PF  PTS  \n",
              "22   AST  STL  BLK  TOV  PF  PTS  \n",
              "49   AST  STL  BLK  TOV  PF  PTS  \n",
              "70   AST  STL  BLK  TOV  PF  PTS  \n",
              "97   AST  STL  BLK  TOV  PF  PTS  \n",
              "132  AST  STL  BLK  TOV  PF  PTS  \n",
              "161  AST  STL  BLK  TOV  PF  PTS  \n",
              "186  AST  STL  BLK  TOV  PF  PTS  \n",
              "217  AST  STL  BLK  TOV  PF  PTS  \n",
              "244  AST  STL  BLK  TOV  PF  PTS  \n",
              "269  AST  STL  BLK  TOV  PF  PTS  \n",
              "297  AST  STL  BLK  TOV  PF  PTS  \n",
              "324  AST  STL  BLK  TOV  PF  PTS  \n",
              "349  AST  STL  BLK  TOV  PF  PTS  \n",
              "382  AST  STL  BLK  TOV  PF  PTS  \n",
              "411  AST  STL  BLK  TOV  PF  PTS  \n",
              "438  AST  STL  BLK  TOV  PF  PTS  \n",
              "468  AST  STL  BLK  TOV  PF  PTS  \n",
              "498  AST  STL  BLK  TOV  PF  PTS  \n",
              "527  AST  STL  BLK  TOV  PF  PTS  \n",
              "554  AST  STL  BLK  TOV  PF  PTS  \n",
              "579  AST  STL  BLK  TOV  PF  PTS  \n",
              "604  AST  STL  BLK  TOV  PF  PTS  \n",
              "642  AST  STL  BLK  TOV  PF  PTS  \n",
              "671  AST  STL  BLK  TOV  PF  PTS  \n",
              "694  AST  STL  BLK  TOV  PF  PTS  \n",
              "715  AST  STL  BLK  TOV  PF  PTS  \n",
              "\n",
              "[26 rows x 30 columns]"
            ],
            "text/html": "<div>\n<style scoped>\n    .dataframe tbody tr th:only-of-type {\n        vertical-align: middle;\n    }\n\n    .dataframe tbody tr th {\n        vertical-align: top;\n    }\n\n    .dataframe thead th {\n        text-align: right;\n    }\n</style>\n<table border=\"1\" class=\"dataframe\">\n  <thead>\n    <tr style=\"text-align: right;\">\n      <th></th>\n      <th>Rk</th>\n      <th>Player</th>\n      <th>Pos</th>\n      <th>Age</th>\n      <th>Tm</th>\n      <th>G</th>\n      <th>GS</th>\n      <th>MP</th>\n      <th>FG</th>\n      <th>FGA</th>\n      <th>...</th>\n      <th>FT%</th>\n      <th>ORB</th>\n      <th>DRB</th>\n      <th>TRB</th>\n      <th>AST</th>\n      <th>STL</th>\n      <th>BLK</th>\n      <th>TOV</th>\n      <th>PF</th>\n      <th>PTS</th>\n    </tr>\n  </thead>\n  <tbody>\n    <tr>\n      <th>22</th>\n      <td>Rk</td>\n      <td>Player</td>\n      <td>Pos</td>\n      <td>Age</td>\n      <td>Tm</td>\n      <td>G</td>\n      <td>GS</td>\n      <td>MP</td>\n      <td>FG</td>\n      <td>FGA</td>\n      <td>...</td>\n      <td>FT%</td>\n      <td>ORB</td>\n      <td>DRB</td>\n      <td>TRB</td>\n      <td>AST</td>\n      <td>STL</td>\n      <td>BLK</td>\n      <td>TOV</td>\n      <td>PF</td>\n      <td>PTS</td>\n    </tr>\n    <tr>\n      <th>49</th>\n      <td>Rk</td>\n      <td>Player</td>\n      <td>Pos</td>\n      <td>Age</td>\n      <td>Tm</td>\n      <td>G</td>\n      <td>GS</td>\n      <td>MP</td>\n      <td>FG</td>\n      <td>FGA</td>\n      <td>...</td>\n      <td>FT%</td>\n      <td>ORB</td>\n      <td>DRB</td>\n      <td>TRB</td>\n      <td>AST</td>\n      <td>STL</td>\n      <td>BLK</td>\n      <td>TOV</td>\n      <td>PF</td>\n      <td>PTS</td>\n    </tr>\n    <tr>\n      <th>70</th>\n      <td>Rk</td>\n      <td>Player</td>\n      <td>Pos</td>\n      <td>Age</td>\n      <td>Tm</td>\n      <td>G</td>\n      <td>GS</td>\n      <td>MP</td>\n      <td>FG</td>\n      <td>FGA</td>\n      <td>...</td>\n      <td>FT%</td>\n      <td>ORB</td>\n      <td>DRB</td>\n      <td>TRB</td>\n      <td>AST</td>\n      <td>STL</td>\n      <td>BLK</td>\n      <td>TOV</td>\n      <td>PF</td>\n      <td>PTS</td>\n    </tr>\n    <tr>\n      <th>97</th>\n      <td>Rk</td>\n      <td>Player</td>\n      <td>Pos</td>\n      <td>Age</td>\n      <td>Tm</td>\n      <td>G</td>\n      <td>GS</td>\n      <td>MP</td>\n      <td>FG</td>\n      <td>FGA</td>\n      <td>...</td>\n      <td>FT%</td>\n      <td>ORB</td>\n      <td>DRB</td>\n      <td>TRB</td>\n      <td>AST</td>\n      <td>STL</td>\n      <td>BLK</td>\n      <td>TOV</td>\n      <td>PF</td>\n      <td>PTS</td>\n    </tr>\n    <tr>\n      <th>132</th>\n      <td>Rk</td>\n      <td>Player</td>\n      <td>Pos</td>\n      <td>Age</td>\n      <td>Tm</td>\n      <td>G</td>\n      <td>GS</td>\n      <td>MP</td>\n      <td>FG</td>\n      <td>FGA</td>\n      <td>...</td>\n      <td>FT%</td>\n      <td>ORB</td>\n      <td>DRB</td>\n      <td>TRB</td>\n      <td>AST</td>\n      <td>STL</td>\n      <td>BLK</td>\n      <td>TOV</td>\n      <td>PF</td>\n      <td>PTS</td>\n    </tr>\n    <tr>\n      <th>161</th>\n      <td>Rk</td>\n      <td>Player</td>\n      <td>Pos</td>\n      <td>Age</td>\n      <td>Tm</td>\n      <td>G</td>\n      <td>GS</td>\n      <td>MP</td>\n      <td>FG</td>\n      <td>FGA</td>\n      <td>...</td>\n      <td>FT%</td>\n      <td>ORB</td>\n      <td>DRB</td>\n      <td>TRB</td>\n      <td>AST</td>\n      <td>STL</td>\n      <td>BLK</td>\n      <td>TOV</td>\n      <td>PF</td>\n      <td>PTS</td>\n    </tr>\n    <tr>\n      <th>186</th>\n      <td>Rk</td>\n      <td>Player</td>\n      <td>Pos</td>\n      <td>Age</td>\n      <td>Tm</td>\n      <td>G</td>\n      <td>GS</td>\n      <td>MP</td>\n      <td>FG</td>\n      <td>FGA</td>\n      <td>...</td>\n      <td>FT%</td>\n      <td>ORB</td>\n      <td>DRB</td>\n      <td>TRB</td>\n      <td>AST</td>\n      <td>STL</td>\n      <td>BLK</td>\n      <td>TOV</td>\n      <td>PF</td>\n      <td>PTS</td>\n    </tr>\n    <tr>\n      <th>217</th>\n      <td>Rk</td>\n      <td>Player</td>\n      <td>Pos</td>\n      <td>Age</td>\n      <td>Tm</td>\n      <td>G</td>\n      <td>GS</td>\n      <td>MP</td>\n      <td>FG</td>\n      <td>FGA</td>\n      <td>...</td>\n      <td>FT%</td>\n      <td>ORB</td>\n      <td>DRB</td>\n      <td>TRB</td>\n      <td>AST</td>\n      <td>STL</td>\n      <td>BLK</td>\n      <td>TOV</td>\n      <td>PF</td>\n      <td>PTS</td>\n    </tr>\n    <tr>\n      <th>244</th>\n      <td>Rk</td>\n      <td>Player</td>\n      <td>Pos</td>\n      <td>Age</td>\n      <td>Tm</td>\n      <td>G</td>\n      <td>GS</td>\n      <td>MP</td>\n      <td>FG</td>\n      <td>FGA</td>\n      <td>...</td>\n      <td>FT%</td>\n      <td>ORB</td>\n      <td>DRB</td>\n      <td>TRB</td>\n      <td>AST</td>\n      <td>STL</td>\n      <td>BLK</td>\n      <td>TOV</td>\n      <td>PF</td>\n      <td>PTS</td>\n    </tr>\n    <tr>\n      <th>269</th>\n      <td>Rk</td>\n      <td>Player</td>\n      <td>Pos</td>\n      <td>Age</td>\n      <td>Tm</td>\n      <td>G</td>\n      <td>GS</td>\n      <td>MP</td>\n      <td>FG</td>\n      <td>FGA</td>\n      <td>...</td>\n      <td>FT%</td>\n      <td>ORB</td>\n      <td>DRB</td>\n      <td>TRB</td>\n      <td>AST</td>\n      <td>STL</td>\n      <td>BLK</td>\n      <td>TOV</td>\n      <td>PF</td>\n      <td>PTS</td>\n    </tr>\n    <tr>\n      <th>297</th>\n      <td>Rk</td>\n      <td>Player</td>\n      <td>Pos</td>\n      <td>Age</td>\n      <td>Tm</td>\n      <td>G</td>\n      <td>GS</td>\n      <td>MP</td>\n      <td>FG</td>\n      <td>FGA</td>\n      <td>...</td>\n      <td>FT%</td>\n      <td>ORB</td>\n      <td>DRB</td>\n      <td>TRB</td>\n      <td>AST</td>\n      <td>STL</td>\n      <td>BLK</td>\n      <td>TOV</td>\n      <td>PF</td>\n      <td>PTS</td>\n    </tr>\n    <tr>\n      <th>324</th>\n      <td>Rk</td>\n      <td>Player</td>\n      <td>Pos</td>\n      <td>Age</td>\n      <td>Tm</td>\n      <td>G</td>\n      <td>GS</td>\n      <td>MP</td>\n      <td>FG</td>\n      <td>FGA</td>\n      <td>...</td>\n      <td>FT%</td>\n      <td>ORB</td>\n      <td>DRB</td>\n      <td>TRB</td>\n      <td>AST</td>\n      <td>STL</td>\n      <td>BLK</td>\n      <td>TOV</td>\n      <td>PF</td>\n      <td>PTS</td>\n    </tr>\n    <tr>\n      <th>349</th>\n      <td>Rk</td>\n      <td>Player</td>\n      <td>Pos</td>\n      <td>Age</td>\n      <td>Tm</td>\n      <td>G</td>\n      <td>GS</td>\n      <td>MP</td>\n      <td>FG</td>\n      <td>FGA</td>\n      <td>...</td>\n      <td>FT%</td>\n      <td>ORB</td>\n      <td>DRB</td>\n      <td>TRB</td>\n      <td>AST</td>\n      <td>STL</td>\n      <td>BLK</td>\n      <td>TOV</td>\n      <td>PF</td>\n      <td>PTS</td>\n    </tr>\n    <tr>\n      <th>382</th>\n      <td>Rk</td>\n      <td>Player</td>\n      <td>Pos</td>\n      <td>Age</td>\n      <td>Tm</td>\n      <td>G</td>\n      <td>GS</td>\n      <td>MP</td>\n      <td>FG</td>\n      <td>FGA</td>\n      <td>...</td>\n      <td>FT%</td>\n      <td>ORB</td>\n      <td>DRB</td>\n      <td>TRB</td>\n      <td>AST</td>\n      <td>STL</td>\n      <td>BLK</td>\n      <td>TOV</td>\n      <td>PF</td>\n      <td>PTS</td>\n    </tr>\n    <tr>\n      <th>411</th>\n      <td>Rk</td>\n      <td>Player</td>\n      <td>Pos</td>\n      <td>Age</td>\n      <td>Tm</td>\n      <td>G</td>\n      <td>GS</td>\n      <td>MP</td>\n      <td>FG</td>\n      <td>FGA</td>\n      <td>...</td>\n      <td>FT%</td>\n      <td>ORB</td>\n      <td>DRB</td>\n      <td>TRB</td>\n      <td>AST</td>\n      <td>STL</td>\n      <td>BLK</td>\n      <td>TOV</td>\n      <td>PF</td>\n      <td>PTS</td>\n    </tr>\n    <tr>\n      <th>438</th>\n      <td>Rk</td>\n      <td>Player</td>\n      <td>Pos</td>\n      <td>Age</td>\n      <td>Tm</td>\n      <td>G</td>\n      <td>GS</td>\n      <td>MP</td>\n      <td>FG</td>\n      <td>FGA</td>\n      <td>...</td>\n      <td>FT%</td>\n      <td>ORB</td>\n      <td>DRB</td>\n      <td>TRB</td>\n      <td>AST</td>\n      <td>STL</td>\n      <td>BLK</td>\n      <td>TOV</td>\n      <td>PF</td>\n      <td>PTS</td>\n    </tr>\n    <tr>\n      <th>468</th>\n      <td>Rk</td>\n      <td>Player</td>\n      <td>Pos</td>\n      <td>Age</td>\n      <td>Tm</td>\n      <td>G</td>\n      <td>GS</td>\n      <td>MP</td>\n      <td>FG</td>\n      <td>FGA</td>\n      <td>...</td>\n      <td>FT%</td>\n      <td>ORB</td>\n      <td>DRB</td>\n      <td>TRB</td>\n      <td>AST</td>\n      <td>STL</td>\n      <td>BLK</td>\n      <td>TOV</td>\n      <td>PF</td>\n      <td>PTS</td>\n    </tr>\n    <tr>\n      <th>498</th>\n      <td>Rk</td>\n      <td>Player</td>\n      <td>Pos</td>\n      <td>Age</td>\n      <td>Tm</td>\n      <td>G</td>\n      <td>GS</td>\n      <td>MP</td>\n      <td>FG</td>\n      <td>FGA</td>\n      <td>...</td>\n      <td>FT%</td>\n      <td>ORB</td>\n      <td>DRB</td>\n      <td>TRB</td>\n      <td>AST</td>\n      <td>STL</td>\n      <td>BLK</td>\n      <td>TOV</td>\n      <td>PF</td>\n      <td>PTS</td>\n    </tr>\n    <tr>\n      <th>527</th>\n      <td>Rk</td>\n      <td>Player</td>\n      <td>Pos</td>\n      <td>Age</td>\n      <td>Tm</td>\n      <td>G</td>\n      <td>GS</td>\n      <td>MP</td>\n      <td>FG</td>\n      <td>FGA</td>\n      <td>...</td>\n      <td>FT%</td>\n      <td>ORB</td>\n      <td>DRB</td>\n      <td>TRB</td>\n      <td>AST</td>\n      <td>STL</td>\n      <td>BLK</td>\n      <td>TOV</td>\n      <td>PF</td>\n      <td>PTS</td>\n    </tr>\n    <tr>\n      <th>554</th>\n      <td>Rk</td>\n      <td>Player</td>\n      <td>Pos</td>\n      <td>Age</td>\n      <td>Tm</td>\n      <td>G</td>\n      <td>GS</td>\n      <td>MP</td>\n      <td>FG</td>\n      <td>FGA</td>\n      <td>...</td>\n      <td>FT%</td>\n      <td>ORB</td>\n      <td>DRB</td>\n      <td>TRB</td>\n      <td>AST</td>\n      <td>STL</td>\n      <td>BLK</td>\n      <td>TOV</td>\n      <td>PF</td>\n      <td>PTS</td>\n    </tr>\n    <tr>\n      <th>579</th>\n      <td>Rk</td>\n      <td>Player</td>\n      <td>Pos</td>\n      <td>Age</td>\n      <td>Tm</td>\n      <td>G</td>\n      <td>GS</td>\n      <td>MP</td>\n      <td>FG</td>\n      <td>FGA</td>\n      <td>...</td>\n      <td>FT%</td>\n      <td>ORB</td>\n      <td>DRB</td>\n      <td>TRB</td>\n      <td>AST</td>\n      <td>STL</td>\n      <td>BLK</td>\n      <td>TOV</td>\n      <td>PF</td>\n      <td>PTS</td>\n    </tr>\n    <tr>\n      <th>604</th>\n      <td>Rk</td>\n      <td>Player</td>\n      <td>Pos</td>\n      <td>Age</td>\n      <td>Tm</td>\n      <td>G</td>\n      <td>GS</td>\n      <td>MP</td>\n      <td>FG</td>\n      <td>FGA</td>\n      <td>...</td>\n      <td>FT%</td>\n      <td>ORB</td>\n      <td>DRB</td>\n      <td>TRB</td>\n      <td>AST</td>\n      <td>STL</td>\n      <td>BLK</td>\n      <td>TOV</td>\n      <td>PF</td>\n      <td>PTS</td>\n    </tr>\n    <tr>\n      <th>642</th>\n      <td>Rk</td>\n      <td>Player</td>\n      <td>Pos</td>\n      <td>Age</td>\n      <td>Tm</td>\n      <td>G</td>\n      <td>GS</td>\n      <td>MP</td>\n      <td>FG</td>\n      <td>FGA</td>\n      <td>...</td>\n      <td>FT%</td>\n      <td>ORB</td>\n      <td>DRB</td>\n      <td>TRB</td>\n      <td>AST</td>\n      <td>STL</td>\n      <td>BLK</td>\n      <td>TOV</td>\n      <td>PF</td>\n      <td>PTS</td>\n    </tr>\n    <tr>\n      <th>671</th>\n      <td>Rk</td>\n      <td>Player</td>\n      <td>Pos</td>\n      <td>Age</td>\n      <td>Tm</td>\n      <td>G</td>\n      <td>GS</td>\n      <td>MP</td>\n      <td>FG</td>\n      <td>FGA</td>\n      <td>...</td>\n      <td>FT%</td>\n      <td>ORB</td>\n      <td>DRB</td>\n      <td>TRB</td>\n      <td>AST</td>\n      <td>STL</td>\n      <td>BLK</td>\n      <td>TOV</td>\n      <td>PF</td>\n      <td>PTS</td>\n    </tr>\n    <tr>\n      <th>694</th>\n      <td>Rk</td>\n      <td>Player</td>\n      <td>Pos</td>\n      <td>Age</td>\n      <td>Tm</td>\n      <td>G</td>\n      <td>GS</td>\n      <td>MP</td>\n      <td>FG</td>\n      <td>FGA</td>\n      <td>...</td>\n      <td>FT%</td>\n      <td>ORB</td>\n      <td>DRB</td>\n      <td>TRB</td>\n      <td>AST</td>\n      <td>STL</td>\n      <td>BLK</td>\n      <td>TOV</td>\n      <td>PF</td>\n      <td>PTS</td>\n    </tr>\n    <tr>\n      <th>715</th>\n      <td>Rk</td>\n      <td>Player</td>\n      <td>Pos</td>\n      <td>Age</td>\n      <td>Tm</td>\n      <td>G</td>\n      <td>GS</td>\n      <td>MP</td>\n      <td>FG</td>\n      <td>FGA</td>\n      <td>...</td>\n      <td>FT%</td>\n      <td>ORB</td>\n      <td>DRB</td>\n      <td>TRB</td>\n      <td>AST</td>\n      <td>STL</td>\n      <td>BLK</td>\n      <td>TOV</td>\n      <td>PF</td>\n      <td>PTS</td>\n    </tr>\n  </tbody>\n</table>\n<p>26 rows × 30 columns</p>\n</div>"
          },
          "metadata": {},
          "execution_count": 9
        }
      ]
    },
    {
      "cell_type": "code",
      "metadata": {
        "id": "rdRg9UDI5lus",
        "colab_type": "code",
        "outputId": "ef54c243-cf5b-4695-f780-7a8483ec7b51",
        "colab": {
          "base_uri": "https://localhost:8080/",
          "height": 35
        }
      },
      "source": [
        "len(df2019[df2019.Age == 'Age'])"
      ],
      "execution_count": 10,
      "outputs": [
        {
          "output_type": "execute_result",
          "data": {
            "text/plain": [
              "26"
            ]
          },
          "metadata": {},
          "execution_count": 10
        }
      ]
    },
    {
      "cell_type": "code",
      "metadata": {
        "id": "lG34yiD5e_Cs",
        "colab_type": "code",
        "colab": {}
      },
      "source": [
        "df = df2019.drop(df2019[df2019.Age == 'Age'].index)"
      ],
      "execution_count": 11,
      "outputs": []
    },
    {
      "cell_type": "code",
      "metadata": {
        "id": "1DwL0sq-u7wF",
        "colab_type": "code",
        "outputId": "6b159909-d654-46da-fc54-cdeab3dd5703",
        "colab": {
          "base_uri": "https://localhost:8080/",
          "height": 35
        }
      },
      "source": [
        "df.shape"
      ],
      "execution_count": 12,
      "outputs": [
        {
          "output_type": "execute_result",
          "data": {
            "text/plain": [
              "(708, 30)"
            ]
          },
          "metadata": {},
          "execution_count": 12
        }
      ]
    },
    {
      "cell_type": "markdown",
      "metadata": {
        "id": "o4x9M9ArXl7l",
        "colab_type": "text"
      },
      "source": [
        "## Quick Exploratory Data Analysis"
      ]
    },
    {
      "cell_type": "code",
      "metadata": {
        "id": "Vw0kwGHNgSMS",
        "colab_type": "code",
        "colab": {}
      },
      "source": [
        "import seaborn as sns"
      ],
      "execution_count": 13,
      "outputs": []
    },
    {
      "cell_type": "markdown",
      "metadata": {
        "id": "Vw77h9jPEd2z",
        "colab_type": "text"
      },
      "source": [
        "Making the histogram"
      ]
    },
    {
      "cell_type": "code",
      "metadata": {
        "id": "NqU0tBcuh-5V",
        "colab_type": "code",
        "outputId": "5dee0c28-2fff-4394-d464-e3fba3e58462",
        "colab": {
          "base_uri": "https://localhost:8080/",
          "height": 297
        }
      },
      "source": [
        "sns.distplot(df.PTS, \n",
        "             kde=False)"
      ],
      "execution_count": 14,
      "outputs": [
        {
          "output_type": "stream",
          "name": "stderr",
          "text": [
            "C:\\Users\\Wojtek\\anaconda3\\envs\\wojtek\\lib\\site-packages\\seaborn\\distributions.py:2557: FutureWarning: `distplot` is a deprecated function and will be removed in a future version. Please adapt your code to use either `displot` (a figure-level function with similar flexibility) or `histplot` (an axes-level function for histograms).\n  warnings.warn(msg, FutureWarning)\n"
          ]
        },
        {
          "output_type": "execute_result",
          "data": {
            "text/plain": [
              "<AxesSubplot:xlabel='PTS'>"
            ]
          },
          "metadata": {},
          "execution_count": 14
        },
        {
          "output_type": "display_data",
          "data": {
            "text/plain": "<Figure size 432x288 with 1 Axes>",
            "image/svg+xml": "<?xml version=\"1.0\" encoding=\"utf-8\" standalone=\"no\"?>\r\n<!DOCTYPE svg PUBLIC \"-//W3C//DTD SVG 1.1//EN\"\r\n  \"http://www.w3.org/Graphics/SVG/1.1/DTD/svg11.dtd\">\r\n<!-- Created with matplotlib (https://matplotlib.org/) -->\r\n<svg height=\"262.19625pt\" version=\"1.1\" viewBox=\"0 0 375.2875 262.19625\" width=\"375.2875pt\" xmlns=\"http://www.w3.org/2000/svg\" xmlns:xlink=\"http://www.w3.org/1999/xlink\">\r\n <metadata>\r\n  <rdf:RDF xmlns:cc=\"http://creativecommons.org/ns#\" xmlns:dc=\"http://purl.org/dc/elements/1.1/\" xmlns:rdf=\"http://www.w3.org/1999/02/22-rdf-syntax-ns#\">\r\n   <cc:Work>\r\n    <dc:type rdf:resource=\"http://purl.org/dc/dcmitype/StillImage\"/>\r\n    <dc:date>2021-06-21T10:14:36.163085</dc:date>\r\n    <dc:format>image/svg+xml</dc:format>\r\n    <dc:creator>\r\n     <cc:Agent>\r\n      <dc:title>Matplotlib v3.3.4, https://matplotlib.org/</dc:title>\r\n     </cc:Agent>\r\n    </dc:creator>\r\n   </cc:Work>\r\n  </rdf:RDF>\r\n </metadata>\r\n <defs>\r\n  <style type=\"text/css\">*{stroke-linecap:butt;stroke-linejoin:round;}</style>\r\n </defs>\r\n <g id=\"figure_1\">\r\n  <g id=\"patch_1\">\r\n   <path d=\"M 0 262.19625 \r\nL 375.2875 262.19625 \r\nL 375.2875 0 \r\nL 0 0 \r\nz\r\n\" style=\"fill:none;\"/>\r\n  </g>\r\n  <g id=\"axes_1\">\r\n   <g id=\"patch_2\">\r\n    <path d=\"M 33.2875 224.64 \r\nL 368.0875 224.64 \r\nL 368.0875 7.2 \r\nL 33.2875 7.2 \r\nz\r\n\" style=\"fill:#ffffff;\"/>\r\n   </g>\r\n   <g id=\"patch_3\">\r\n    <path clip-path=\"url(#p3811da4ef8)\" d=\"M 48.505682 224.64 \r\nL 62.340393 224.64 \r\nL 62.340393 134.772615 \r\nL 48.505682 134.772615 \r\nz\r\n\" style=\"fill:#1f77b4;opacity:0.4;\"/>\r\n   </g>\r\n   <g id=\"patch_4\">\r\n    <path clip-path=\"url(#p3811da4ef8)\" d=\"M 62.340393 224.64 \r\nL 76.175103 224.64 \r\nL 76.175103 74.209811 \r\nL 62.340393 74.209811 \r\nz\r\n\" style=\"fill:#1f77b4;opacity:0.4;\"/>\r\n   </g>\r\n   <g id=\"patch_5\">\r\n    <path clip-path=\"url(#p3811da4ef8)\" d=\"M 76.175103 224.64 \r\nL 90.009814 224.64 \r\nL 90.009814 17.554286 \r\nL 76.175103 17.554286 \r\nz\r\n\" style=\"fill:#1f77b4;opacity:0.4;\"/>\r\n   </g>\r\n   <g id=\"patch_6\">\r\n    <path clip-path=\"url(#p3811da4ef8)\" d=\"M 90.009814 224.64 \r\nL 103.844525 224.64 \r\nL 103.844525 39.044313 \r\nL 90.009814 39.044313 \r\nz\r\n\" style=\"fill:#1f77b4;opacity:0.4;\"/>\r\n   </g>\r\n   <g id=\"patch_7\">\r\n    <path clip-path=\"url(#p3811da4ef8)\" d=\"M 103.844525 224.64 \r\nL 117.679236 224.64 \r\nL 117.679236 40.997951 \r\nL 103.844525 40.997951 \r\nz\r\n\" style=\"fill:#1f77b4;opacity:0.4;\"/>\r\n   </g>\r\n   <g id=\"patch_8\">\r\n    <path clip-path=\"url(#p3811da4ef8)\" d=\"M 117.679236 224.64 \r\nL 131.513946 224.64 \r\nL 131.513946 107.421671 \r\nL 117.679236 107.421671 \r\nz\r\n\" style=\"fill:#1f77b4;opacity:0.4;\"/>\r\n   </g>\r\n   <g id=\"patch_9\">\r\n    <path clip-path=\"url(#p3811da4ef8)\" d=\"M 131.513946 224.64 \r\nL 145.348657 224.64 \r\nL 145.348657 123.050782 \r\nL 131.513946 123.050782 \r\nz\r\n\" style=\"fill:#1f77b4;opacity:0.4;\"/>\r\n   </g>\r\n   <g id=\"patch_10\">\r\n    <path clip-path=\"url(#p3811da4ef8)\" d=\"M 145.348657 224.64 \r\nL 159.183368 224.64 \r\nL 159.183368 136.726253 \r\nL 145.348657 136.726253 \r\nz\r\n\" style=\"fill:#1f77b4;opacity:0.4;\"/>\r\n   </g>\r\n   <g id=\"patch_11\">\r\n    <path clip-path=\"url(#p3811da4ef8)\" d=\"M 159.183368 224.64 \r\nL 173.018079 224.64 \r\nL 173.018079 162.123558 \r\nL 159.183368 162.123558 \r\nz\r\n\" style=\"fill:#1f77b4;opacity:0.4;\"/>\r\n   </g>\r\n   <g id=\"patch_12\">\r\n    <path clip-path=\"url(#p3811da4ef8)\" d=\"M 173.018079 224.64 \r\nL 186.852789 224.64 \r\nL 186.852789 171.891752 \r\nL 173.018079 171.891752 \r\nz\r\n\" style=\"fill:#1f77b4;opacity:0.4;\"/>\r\n   </g>\r\n   <g id=\"patch_13\">\r\n    <path clip-path=\"url(#p3811da4ef8)\" d=\"M 186.852789 224.64 \r\nL 200.6875 224.64 \r\nL 200.6875 185.567224 \r\nL 186.852789 185.567224 \r\nz\r\n\" style=\"fill:#1f77b4;opacity:0.4;\"/>\r\n   </g>\r\n   <g id=\"patch_14\">\r\n    <path clip-path=\"url(#p3811da4ef8)\" d=\"M 200.6875 224.64 \r\nL 214.522211 224.64 \r\nL 214.522211 195.335418 \r\nL 200.6875 195.335418 \r\nz\r\n\" style=\"fill:#1f77b4;opacity:0.4;\"/>\r\n   </g>\r\n   <g id=\"patch_15\">\r\n    <path clip-path=\"url(#p3811da4ef8)\" d=\"M 214.522211 224.64 \r\nL 228.356921 224.64 \r\nL 228.356921 189.474501 \r\nL 214.522211 189.474501 \r\nz\r\n\" style=\"fill:#1f77b4;opacity:0.4;\"/>\r\n   </g>\r\n   <g id=\"patch_16\">\r\n    <path clip-path=\"url(#p3811da4ef8)\" d=\"M 228.356921 224.64 \r\nL 242.191632 224.64 \r\nL 242.191632 218.779084 \r\nL 228.356921 218.779084 \r\nz\r\n\" style=\"fill:#1f77b4;opacity:0.4;\"/>\r\n   </g>\r\n   <g id=\"patch_17\">\r\n    <path clip-path=\"url(#p3811da4ef8)\" d=\"M 242.191632 224.64 \r\nL 256.026343 224.64 \r\nL 256.026343 214.871806 \r\nL 242.191632 214.871806 \r\nz\r\n\" style=\"fill:#1f77b4;opacity:0.4;\"/>\r\n   </g>\r\n   <g id=\"patch_18\">\r\n    <path clip-path=\"url(#p3811da4ef8)\" d=\"M 256.026343 224.64 \r\nL 269.861054 224.64 \r\nL 269.861054 214.871806 \r\nL 256.026343 214.871806 \r\nz\r\n\" style=\"fill:#1f77b4;opacity:0.4;\"/>\r\n   </g>\r\n   <g id=\"patch_19\">\r\n    <path clip-path=\"url(#p3811da4ef8)\" d=\"M 269.861054 224.64 \r\nL 283.695764 224.64 \r\nL 283.695764 212.918167 \r\nL 269.861054 212.918167 \r\nz\r\n\" style=\"fill:#1f77b4;opacity:0.4;\"/>\r\n   </g>\r\n   <g id=\"patch_20\">\r\n    <path clip-path=\"url(#p3811da4ef8)\" d=\"M 283.695764 224.64 \r\nL 297.530475 224.64 \r\nL 297.530475 222.686361 \r\nL 283.695764 222.686361 \r\nz\r\n\" style=\"fill:#1f77b4;opacity:0.4;\"/>\r\n   </g>\r\n   <g id=\"patch_21\">\r\n    <path clip-path=\"url(#p3811da4ef8)\" d=\"M 297.530475 224.64 \r\nL 311.365186 224.64 \r\nL 311.365186 224.64 \r\nL 297.530475 224.64 \r\nz\r\n\" style=\"fill:#1f77b4;opacity:0.4;\"/>\r\n   </g>\r\n   <g id=\"patch_22\">\r\n    <path clip-path=\"url(#p3811da4ef8)\" d=\"M 311.365186 224.64 \r\nL 325.199897 224.64 \r\nL 325.199897 224.64 \r\nL 311.365186 224.64 \r\nz\r\n\" style=\"fill:#1f77b4;opacity:0.4;\"/>\r\n   </g>\r\n   <g id=\"patch_23\">\r\n    <path clip-path=\"url(#p3811da4ef8)\" d=\"M 325.199897 224.64 \r\nL 339.034607 224.64 \r\nL 339.034607 224.64 \r\nL 325.199897 224.64 \r\nz\r\n\" style=\"fill:#1f77b4;opacity:0.4;\"/>\r\n   </g>\r\n   <g id=\"patch_24\">\r\n    <path clip-path=\"url(#p3811da4ef8)\" d=\"M 339.034607 224.64 \r\nL 352.869318 224.64 \r\nL 352.869318 222.686361 \r\nL 339.034607 222.686361 \r\nz\r\n\" style=\"fill:#1f77b4;opacity:0.4;\"/>\r\n   </g>\r\n   <g id=\"matplotlib.axis_1\">\r\n    <g id=\"xtick_1\">\r\n     <g id=\"line2d_1\">\r\n      <defs>\r\n       <path d=\"M 0 0 \r\nL 0 3.5 \r\n\" id=\"m431192234d\" style=\"stroke:#000000;stroke-width:0.8;\"/>\r\n      </defs>\r\n      <g>\r\n       <use style=\"stroke:#000000;stroke-width:0.8;\" x=\"48.505682\" xlink:href=\"#m431192234d\" y=\"224.64\"/>\r\n      </g>\r\n     </g>\r\n     <g id=\"text_1\">\r\n      <!-- 0 -->\r\n      <g transform=\"translate(45.324432 239.238438)scale(0.1 -0.1)\">\r\n       <defs>\r\n        <path d=\"M 31.78125 66.40625 \r\nQ 24.171875 66.40625 20.328125 58.90625 \r\nQ 16.5 51.421875 16.5 36.375 \r\nQ 16.5 21.390625 20.328125 13.890625 \r\nQ 24.171875 6.390625 31.78125 6.390625 \r\nQ 39.453125 6.390625 43.28125 13.890625 \r\nQ 47.125 21.390625 47.125 36.375 \r\nQ 47.125 51.421875 43.28125 58.90625 \r\nQ 39.453125 66.40625 31.78125 66.40625 \r\nz\r\nM 31.78125 74.21875 \r\nQ 44.046875 74.21875 50.515625 64.515625 \r\nQ 56.984375 54.828125 56.984375 36.375 \r\nQ 56.984375 17.96875 50.515625 8.265625 \r\nQ 44.046875 -1.421875 31.78125 -1.421875 \r\nQ 19.53125 -1.421875 13.0625 8.265625 \r\nQ 6.59375 17.96875 6.59375 36.375 \r\nQ 6.59375 54.828125 13.0625 64.515625 \r\nQ 19.53125 74.21875 31.78125 74.21875 \r\nz\r\n\" id=\"DejaVuSans-48\"/>\r\n       </defs>\r\n       <use xlink:href=\"#DejaVuSans-48\"/>\r\n      </g>\r\n     </g>\r\n    </g>\r\n    <g id=\"xtick_2\">\r\n     <g id=\"line2d_2\">\r\n      <g>\r\n       <use style=\"stroke:#000000;stroke-width:0.8;\" x=\"90.66131\" xlink:href=\"#m431192234d\" y=\"224.64\"/>\r\n      </g>\r\n     </g>\r\n     <g id=\"text_2\">\r\n      <!-- 5 -->\r\n      <g transform=\"translate(87.48006 239.238438)scale(0.1 -0.1)\">\r\n       <defs>\r\n        <path d=\"M 10.796875 72.90625 \r\nL 49.515625 72.90625 \r\nL 49.515625 64.59375 \r\nL 19.828125 64.59375 \r\nL 19.828125 46.734375 \r\nQ 21.96875 47.46875 24.109375 47.828125 \r\nQ 26.265625 48.1875 28.421875 48.1875 \r\nQ 40.625 48.1875 47.75 41.5 \r\nQ 54.890625 34.8125 54.890625 23.390625 \r\nQ 54.890625 11.625 47.5625 5.09375 \r\nQ 40.234375 -1.421875 26.90625 -1.421875 \r\nQ 22.3125 -1.421875 17.546875 -0.640625 \r\nQ 12.796875 0.140625 7.71875 1.703125 \r\nL 7.71875 11.625 \r\nQ 12.109375 9.234375 16.796875 8.0625 \r\nQ 21.484375 6.890625 26.703125 6.890625 \r\nQ 35.15625 6.890625 40.078125 11.328125 \r\nQ 45.015625 15.765625 45.015625 23.390625 \r\nQ 45.015625 31 40.078125 35.4375 \r\nQ 35.15625 39.890625 26.703125 39.890625 \r\nQ 22.75 39.890625 18.8125 39.015625 \r\nQ 14.890625 38.140625 10.796875 36.28125 \r\nz\r\n\" id=\"DejaVuSans-53\"/>\r\n       </defs>\r\n       <use xlink:href=\"#DejaVuSans-53\"/>\r\n      </g>\r\n     </g>\r\n    </g>\r\n    <g id=\"xtick_3\">\r\n     <g id=\"line2d_3\">\r\n      <g>\r\n       <use style=\"stroke:#000000;stroke-width:0.8;\" x=\"132.816938\" xlink:href=\"#m431192234d\" y=\"224.64\"/>\r\n      </g>\r\n     </g>\r\n     <g id=\"text_3\">\r\n      <!-- 10 -->\r\n      <g transform=\"translate(126.454438 239.238438)scale(0.1 -0.1)\">\r\n       <defs>\r\n        <path d=\"M 12.40625 8.296875 \r\nL 28.515625 8.296875 \r\nL 28.515625 63.921875 \r\nL 10.984375 60.40625 \r\nL 10.984375 69.390625 \r\nL 28.421875 72.90625 \r\nL 38.28125 72.90625 \r\nL 38.28125 8.296875 \r\nL 54.390625 8.296875 \r\nL 54.390625 0 \r\nL 12.40625 0 \r\nz\r\n\" id=\"DejaVuSans-49\"/>\r\n       </defs>\r\n       <use xlink:href=\"#DejaVuSans-49\"/>\r\n       <use x=\"63.623047\" xlink:href=\"#DejaVuSans-48\"/>\r\n      </g>\r\n     </g>\r\n    </g>\r\n    <g id=\"xtick_4\">\r\n     <g id=\"line2d_4\">\r\n      <g>\r\n       <use style=\"stroke:#000000;stroke-width:0.8;\" x=\"174.972567\" xlink:href=\"#m431192234d\" y=\"224.64\"/>\r\n      </g>\r\n     </g>\r\n     <g id=\"text_4\">\r\n      <!-- 15 -->\r\n      <g transform=\"translate(168.610067 239.238438)scale(0.1 -0.1)\">\r\n       <use xlink:href=\"#DejaVuSans-49\"/>\r\n       <use x=\"63.623047\" xlink:href=\"#DejaVuSans-53\"/>\r\n      </g>\r\n     </g>\r\n    </g>\r\n    <g id=\"xtick_5\">\r\n     <g id=\"line2d_5\">\r\n      <g>\r\n       <use style=\"stroke:#000000;stroke-width:0.8;\" x=\"217.128195\" xlink:href=\"#m431192234d\" y=\"224.64\"/>\r\n      </g>\r\n     </g>\r\n     <g id=\"text_5\">\r\n      <!-- 20 -->\r\n      <g transform=\"translate(210.765695 239.238438)scale(0.1 -0.1)\">\r\n       <defs>\r\n        <path d=\"M 19.1875 8.296875 \r\nL 53.609375 8.296875 \r\nL 53.609375 0 \r\nL 7.328125 0 \r\nL 7.328125 8.296875 \r\nQ 12.9375 14.109375 22.625 23.890625 \r\nQ 32.328125 33.6875 34.8125 36.53125 \r\nQ 39.546875 41.84375 41.421875 45.53125 \r\nQ 43.3125 49.21875 43.3125 52.78125 \r\nQ 43.3125 58.59375 39.234375 62.25 \r\nQ 35.15625 65.921875 28.609375 65.921875 \r\nQ 23.96875 65.921875 18.8125 64.3125 \r\nQ 13.671875 62.703125 7.8125 59.421875 \r\nL 7.8125 69.390625 \r\nQ 13.765625 71.78125 18.9375 73 \r\nQ 24.125 74.21875 28.421875 74.21875 \r\nQ 39.75 74.21875 46.484375 68.546875 \r\nQ 53.21875 62.890625 53.21875 53.421875 \r\nQ 53.21875 48.921875 51.53125 44.890625 \r\nQ 49.859375 40.875 45.40625 35.40625 \r\nQ 44.1875 33.984375 37.640625 27.21875 \r\nQ 31.109375 20.453125 19.1875 8.296875 \r\nz\r\n\" id=\"DejaVuSans-50\"/>\r\n       </defs>\r\n       <use xlink:href=\"#DejaVuSans-50\"/>\r\n       <use x=\"63.623047\" xlink:href=\"#DejaVuSans-48\"/>\r\n      </g>\r\n     </g>\r\n    </g>\r\n    <g id=\"xtick_6\">\r\n     <g id=\"line2d_6\">\r\n      <g>\r\n       <use style=\"stroke:#000000;stroke-width:0.8;\" x=\"259.283823\" xlink:href=\"#m431192234d\" y=\"224.64\"/>\r\n      </g>\r\n     </g>\r\n     <g id=\"text_6\">\r\n      <!-- 25 -->\r\n      <g transform=\"translate(252.921323 239.238438)scale(0.1 -0.1)\">\r\n       <use xlink:href=\"#DejaVuSans-50\"/>\r\n       <use x=\"63.623047\" xlink:href=\"#DejaVuSans-53\"/>\r\n      </g>\r\n     </g>\r\n    </g>\r\n    <g id=\"xtick_7\">\r\n     <g id=\"line2d_7\">\r\n      <g>\r\n       <use style=\"stroke:#000000;stroke-width:0.8;\" x=\"301.439452\" xlink:href=\"#m431192234d\" y=\"224.64\"/>\r\n      </g>\r\n     </g>\r\n     <g id=\"text_7\">\r\n      <!-- 30 -->\r\n      <g transform=\"translate(295.076952 239.238438)scale(0.1 -0.1)\">\r\n       <defs>\r\n        <path d=\"M 40.578125 39.3125 \r\nQ 47.65625 37.796875 51.625 33 \r\nQ 55.609375 28.21875 55.609375 21.1875 \r\nQ 55.609375 10.40625 48.1875 4.484375 \r\nQ 40.765625 -1.421875 27.09375 -1.421875 \r\nQ 22.515625 -1.421875 17.65625 -0.515625 \r\nQ 12.796875 0.390625 7.625 2.203125 \r\nL 7.625 11.71875 \r\nQ 11.71875 9.328125 16.59375 8.109375 \r\nQ 21.484375 6.890625 26.8125 6.890625 \r\nQ 36.078125 6.890625 40.9375 10.546875 \r\nQ 45.796875 14.203125 45.796875 21.1875 \r\nQ 45.796875 27.640625 41.28125 31.265625 \r\nQ 36.765625 34.90625 28.71875 34.90625 \r\nL 20.21875 34.90625 \r\nL 20.21875 43.015625 \r\nL 29.109375 43.015625 \r\nQ 36.375 43.015625 40.234375 45.921875 \r\nQ 44.09375 48.828125 44.09375 54.296875 \r\nQ 44.09375 59.90625 40.109375 62.90625 \r\nQ 36.140625 65.921875 28.71875 65.921875 \r\nQ 24.65625 65.921875 20.015625 65.03125 \r\nQ 15.375 64.15625 9.8125 62.3125 \r\nL 9.8125 71.09375 \r\nQ 15.4375 72.65625 20.34375 73.4375 \r\nQ 25.25 74.21875 29.59375 74.21875 \r\nQ 40.828125 74.21875 47.359375 69.109375 \r\nQ 53.90625 64.015625 53.90625 55.328125 \r\nQ 53.90625 49.265625 50.4375 45.09375 \r\nQ 46.96875 40.921875 40.578125 39.3125 \r\nz\r\n\" id=\"DejaVuSans-51\"/>\r\n       </defs>\r\n       <use xlink:href=\"#DejaVuSans-51\"/>\r\n       <use x=\"63.623047\" xlink:href=\"#DejaVuSans-48\"/>\r\n      </g>\r\n     </g>\r\n    </g>\r\n    <g id=\"xtick_8\">\r\n     <g id=\"line2d_8\">\r\n      <g>\r\n       <use style=\"stroke:#000000;stroke-width:0.8;\" x=\"343.59508\" xlink:href=\"#m431192234d\" y=\"224.64\"/>\r\n      </g>\r\n     </g>\r\n     <g id=\"text_8\">\r\n      <!-- 35 -->\r\n      <g transform=\"translate(337.23258 239.238438)scale(0.1 -0.1)\">\r\n       <use xlink:href=\"#DejaVuSans-51\"/>\r\n       <use x=\"63.623047\" xlink:href=\"#DejaVuSans-53\"/>\r\n      </g>\r\n     </g>\r\n    </g>\r\n    <g id=\"text_9\">\r\n     <!-- PTS -->\r\n     <g transform=\"translate(191.444531 252.916563)scale(0.1 -0.1)\">\r\n      <defs>\r\n       <path d=\"M 19.671875 64.796875 \r\nL 19.671875 37.40625 \r\nL 32.078125 37.40625 \r\nQ 38.96875 37.40625 42.71875 40.96875 \r\nQ 46.484375 44.53125 46.484375 51.125 \r\nQ 46.484375 57.671875 42.71875 61.234375 \r\nQ 38.96875 64.796875 32.078125 64.796875 \r\nz\r\nM 9.8125 72.90625 \r\nL 32.078125 72.90625 \r\nQ 44.34375 72.90625 50.609375 67.359375 \r\nQ 56.890625 61.8125 56.890625 51.125 \r\nQ 56.890625 40.328125 50.609375 34.8125 \r\nQ 44.34375 29.296875 32.078125 29.296875 \r\nL 19.671875 29.296875 \r\nL 19.671875 0 \r\nL 9.8125 0 \r\nz\r\n\" id=\"DejaVuSans-80\"/>\r\n       <path d=\"M -0.296875 72.90625 \r\nL 61.375 72.90625 \r\nL 61.375 64.59375 \r\nL 35.5 64.59375 \r\nL 35.5 0 \r\nL 25.59375 0 \r\nL 25.59375 64.59375 \r\nL -0.296875 64.59375 \r\nz\r\n\" id=\"DejaVuSans-84\"/>\r\n       <path d=\"M 53.515625 70.515625 \r\nL 53.515625 60.890625 \r\nQ 47.90625 63.578125 42.921875 64.890625 \r\nQ 37.9375 66.21875 33.296875 66.21875 \r\nQ 25.25 66.21875 20.875 63.09375 \r\nQ 16.5 59.96875 16.5 54.203125 \r\nQ 16.5 49.359375 19.40625 46.890625 \r\nQ 22.3125 44.4375 30.421875 42.921875 \r\nL 36.375 41.703125 \r\nQ 47.40625 39.59375 52.65625 34.296875 \r\nQ 57.90625 29 57.90625 20.125 \r\nQ 57.90625 9.515625 50.796875 4.046875 \r\nQ 43.703125 -1.421875 29.984375 -1.421875 \r\nQ 24.8125 -1.421875 18.96875 -0.25 \r\nQ 13.140625 0.921875 6.890625 3.21875 \r\nL 6.890625 13.375 \r\nQ 12.890625 10.015625 18.65625 8.296875 \r\nQ 24.421875 6.59375 29.984375 6.59375 \r\nQ 38.421875 6.59375 43.015625 9.90625 \r\nQ 47.609375 13.234375 47.609375 19.390625 \r\nQ 47.609375 24.75 44.3125 27.78125 \r\nQ 41.015625 30.8125 33.5 32.328125 \r\nL 27.484375 33.5 \r\nQ 16.453125 35.6875 11.515625 40.375 \r\nQ 6.59375 45.0625 6.59375 53.421875 \r\nQ 6.59375 63.09375 13.40625 68.65625 \r\nQ 20.21875 74.21875 32.171875 74.21875 \r\nQ 37.3125 74.21875 42.625 73.28125 \r\nQ 47.953125 72.359375 53.515625 70.515625 \r\nz\r\n\" id=\"DejaVuSans-83\"/>\r\n      </defs>\r\n      <use xlink:href=\"#DejaVuSans-80\"/>\r\n      <use x=\"60.302734\" xlink:href=\"#DejaVuSans-84\"/>\r\n      <use x=\"121.386719\" xlink:href=\"#DejaVuSans-83\"/>\r\n     </g>\r\n    </g>\r\n   </g>\r\n   <g id=\"matplotlib.axis_2\">\r\n    <g id=\"ytick_1\">\r\n     <g id=\"line2d_9\">\r\n      <defs>\r\n       <path d=\"M 0 0 \r\nL -3.5 0 \r\n\" id=\"m0508718742\" style=\"stroke:#000000;stroke-width:0.8;\"/>\r\n      </defs>\r\n      <g>\r\n       <use style=\"stroke:#000000;stroke-width:0.8;\" x=\"33.2875\" xlink:href=\"#m0508718742\" y=\"224.64\"/>\r\n      </g>\r\n     </g>\r\n     <g id=\"text_10\">\r\n      <!-- 0 -->\r\n      <g transform=\"translate(19.925 228.439219)scale(0.1 -0.1)\">\r\n       <use xlink:href=\"#DejaVuSans-48\"/>\r\n      </g>\r\n     </g>\r\n    </g>\r\n    <g id=\"ytick_2\">\r\n     <g id=\"line2d_10\">\r\n      <g>\r\n       <use style=\"stroke:#000000;stroke-width:0.8;\" x=\"33.2875\" xlink:href=\"#m0508718742\" y=\"185.567224\"/>\r\n      </g>\r\n     </g>\r\n     <g id=\"text_11\">\r\n      <!-- 20 -->\r\n      <g transform=\"translate(13.5625 189.366442)scale(0.1 -0.1)\">\r\n       <use xlink:href=\"#DejaVuSans-50\"/>\r\n       <use x=\"63.623047\" xlink:href=\"#DejaVuSans-48\"/>\r\n      </g>\r\n     </g>\r\n    </g>\r\n    <g id=\"ytick_3\">\r\n     <g id=\"line2d_11\">\r\n      <g>\r\n       <use style=\"stroke:#000000;stroke-width:0.8;\" x=\"33.2875\" xlink:href=\"#m0508718742\" y=\"146.494447\"/>\r\n      </g>\r\n     </g>\r\n     <g id=\"text_12\">\r\n      <!-- 40 -->\r\n      <g transform=\"translate(13.5625 150.293666)scale(0.1 -0.1)\">\r\n       <defs>\r\n        <path d=\"M 37.796875 64.3125 \r\nL 12.890625 25.390625 \r\nL 37.796875 25.390625 \r\nz\r\nM 35.203125 72.90625 \r\nL 47.609375 72.90625 \r\nL 47.609375 25.390625 \r\nL 58.015625 25.390625 \r\nL 58.015625 17.1875 \r\nL 47.609375 17.1875 \r\nL 47.609375 0 \r\nL 37.796875 0 \r\nL 37.796875 17.1875 \r\nL 4.890625 17.1875 \r\nL 4.890625 26.703125 \r\nz\r\n\" id=\"DejaVuSans-52\"/>\r\n       </defs>\r\n       <use xlink:href=\"#DejaVuSans-52\"/>\r\n       <use x=\"63.623047\" xlink:href=\"#DejaVuSans-48\"/>\r\n      </g>\r\n     </g>\r\n    </g>\r\n    <g id=\"ytick_4\">\r\n     <g id=\"line2d_12\">\r\n      <g>\r\n       <use style=\"stroke:#000000;stroke-width:0.8;\" x=\"33.2875\" xlink:href=\"#m0508718742\" y=\"107.421671\"/>\r\n      </g>\r\n     </g>\r\n     <g id=\"text_13\">\r\n      <!-- 60 -->\r\n      <g transform=\"translate(13.5625 111.22089)scale(0.1 -0.1)\">\r\n       <defs>\r\n        <path d=\"M 33.015625 40.375 \r\nQ 26.375 40.375 22.484375 35.828125 \r\nQ 18.609375 31.296875 18.609375 23.390625 \r\nQ 18.609375 15.53125 22.484375 10.953125 \r\nQ 26.375 6.390625 33.015625 6.390625 \r\nQ 39.65625 6.390625 43.53125 10.953125 \r\nQ 47.40625 15.53125 47.40625 23.390625 \r\nQ 47.40625 31.296875 43.53125 35.828125 \r\nQ 39.65625 40.375 33.015625 40.375 \r\nz\r\nM 52.59375 71.296875 \r\nL 52.59375 62.3125 \r\nQ 48.875 64.0625 45.09375 64.984375 \r\nQ 41.3125 65.921875 37.59375 65.921875 \r\nQ 27.828125 65.921875 22.671875 59.328125 \r\nQ 17.53125 52.734375 16.796875 39.40625 \r\nQ 19.671875 43.65625 24.015625 45.921875 \r\nQ 28.375 48.1875 33.59375 48.1875 \r\nQ 44.578125 48.1875 50.953125 41.515625 \r\nQ 57.328125 34.859375 57.328125 23.390625 \r\nQ 57.328125 12.15625 50.6875 5.359375 \r\nQ 44.046875 -1.421875 33.015625 -1.421875 \r\nQ 20.359375 -1.421875 13.671875 8.265625 \r\nQ 6.984375 17.96875 6.984375 36.375 \r\nQ 6.984375 53.65625 15.1875 63.9375 \r\nQ 23.390625 74.21875 37.203125 74.21875 \r\nQ 40.921875 74.21875 44.703125 73.484375 \r\nQ 48.484375 72.75 52.59375 71.296875 \r\nz\r\n\" id=\"DejaVuSans-54\"/>\r\n       </defs>\r\n       <use xlink:href=\"#DejaVuSans-54\"/>\r\n       <use x=\"63.623047\" xlink:href=\"#DejaVuSans-48\"/>\r\n      </g>\r\n     </g>\r\n    </g>\r\n    <g id=\"ytick_5\">\r\n     <g id=\"line2d_13\">\r\n      <g>\r\n       <use style=\"stroke:#000000;stroke-width:0.8;\" x=\"33.2875\" xlink:href=\"#m0508718742\" y=\"68.348895\"/>\r\n      </g>\r\n     </g>\r\n     <g id=\"text_14\">\r\n      <!-- 80 -->\r\n      <g transform=\"translate(13.5625 72.148114)scale(0.1 -0.1)\">\r\n       <defs>\r\n        <path d=\"M 31.78125 34.625 \r\nQ 24.75 34.625 20.71875 30.859375 \r\nQ 16.703125 27.09375 16.703125 20.515625 \r\nQ 16.703125 13.921875 20.71875 10.15625 \r\nQ 24.75 6.390625 31.78125 6.390625 \r\nQ 38.8125 6.390625 42.859375 10.171875 \r\nQ 46.921875 13.96875 46.921875 20.515625 \r\nQ 46.921875 27.09375 42.890625 30.859375 \r\nQ 38.875 34.625 31.78125 34.625 \r\nz\r\nM 21.921875 38.8125 \r\nQ 15.578125 40.375 12.03125 44.71875 \r\nQ 8.5 49.078125 8.5 55.328125 \r\nQ 8.5 64.0625 14.71875 69.140625 \r\nQ 20.953125 74.21875 31.78125 74.21875 \r\nQ 42.671875 74.21875 48.875 69.140625 \r\nQ 55.078125 64.0625 55.078125 55.328125 \r\nQ 55.078125 49.078125 51.53125 44.71875 \r\nQ 48 40.375 41.703125 38.8125 \r\nQ 48.828125 37.15625 52.796875 32.3125 \r\nQ 56.78125 27.484375 56.78125 20.515625 \r\nQ 56.78125 9.90625 50.3125 4.234375 \r\nQ 43.84375 -1.421875 31.78125 -1.421875 \r\nQ 19.734375 -1.421875 13.25 4.234375 \r\nQ 6.78125 9.90625 6.78125 20.515625 \r\nQ 6.78125 27.484375 10.78125 32.3125 \r\nQ 14.796875 37.15625 21.921875 38.8125 \r\nz\r\nM 18.3125 54.390625 \r\nQ 18.3125 48.734375 21.84375 45.5625 \r\nQ 25.390625 42.390625 31.78125 42.390625 \r\nQ 38.140625 42.390625 41.71875 45.5625 \r\nQ 45.3125 48.734375 45.3125 54.390625 \r\nQ 45.3125 60.0625 41.71875 63.234375 \r\nQ 38.140625 66.40625 31.78125 66.40625 \r\nQ 25.390625 66.40625 21.84375 63.234375 \r\nQ 18.3125 60.0625 18.3125 54.390625 \r\nz\r\n\" id=\"DejaVuSans-56\"/>\r\n       </defs>\r\n       <use xlink:href=\"#DejaVuSans-56\"/>\r\n       <use x=\"63.623047\" xlink:href=\"#DejaVuSans-48\"/>\r\n      </g>\r\n     </g>\r\n    </g>\r\n    <g id=\"ytick_6\">\r\n     <g id=\"line2d_14\">\r\n      <g>\r\n       <use style=\"stroke:#000000;stroke-width:0.8;\" x=\"33.2875\" xlink:href=\"#m0508718742\" y=\"29.276119\"/>\r\n      </g>\r\n     </g>\r\n     <g id=\"text_15\">\r\n      <!-- 100 -->\r\n      <g transform=\"translate(7.2 33.075337)scale(0.1 -0.1)\">\r\n       <use xlink:href=\"#DejaVuSans-49\"/>\r\n       <use x=\"63.623047\" xlink:href=\"#DejaVuSans-48\"/>\r\n       <use x=\"127.246094\" xlink:href=\"#DejaVuSans-48\"/>\r\n      </g>\r\n     </g>\r\n    </g>\r\n   </g>\r\n   <g id=\"patch_25\">\r\n    <path d=\"M 33.2875 224.64 \r\nL 33.2875 7.2 \r\n\" style=\"fill:none;stroke:#000000;stroke-linecap:square;stroke-linejoin:miter;stroke-width:0.8;\"/>\r\n   </g>\r\n   <g id=\"patch_26\">\r\n    <path d=\"M 368.0875 224.64 \r\nL 368.0875 7.2 \r\n\" style=\"fill:none;stroke:#000000;stroke-linecap:square;stroke-linejoin:miter;stroke-width:0.8;\"/>\r\n   </g>\r\n   <g id=\"patch_27\">\r\n    <path d=\"M 33.2875 224.64 \r\nL 368.0875 224.64 \r\n\" style=\"fill:none;stroke:#000000;stroke-linecap:square;stroke-linejoin:miter;stroke-width:0.8;\"/>\r\n   </g>\r\n   <g id=\"patch_28\">\r\n    <path d=\"M 33.2875 7.2 \r\nL 368.0875 7.2 \r\n\" style=\"fill:none;stroke:#000000;stroke-linecap:square;stroke-linejoin:miter;stroke-width:0.8;\"/>\r\n   </g>\r\n  </g>\r\n </g>\r\n <defs>\r\n  <clipPath id=\"p3811da4ef8\">\r\n   <rect height=\"217.44\" width=\"334.8\" x=\"33.2875\" y=\"7.2\"/>\r\n  </clipPath>\r\n </defs>\r\n</svg>\r\n",
            "image/png": "[encoded data removed]"
          },
          "metadata": {
            "needs_background": "light"
          }
        }
      ]
    },
    {
      "cell_type": "markdown",
      "metadata": {
        "id": "aXcBxnrBEWGj",
        "colab_type": "text"
      },
      "source": [
        "Change bar line color"
      ]
    },
    {
      "cell_type": "code",
      "metadata": {
        "id": "ImyO9mMGkkTm",
        "colab_type": "code",
        "outputId": "f49041de-56a2-4c3f-a6f3-da321b092c3d",
        "colab": {
          "base_uri": "https://localhost:8080/",
          "height": 297
        }
      },
      "source": [
        "sns.distplot(df.PTS, \n",
        "             kde=False,\n",
        "             hist_kws=dict(edgecolor=\"black\", linewidth=2))"
      ],
      "execution_count": 15,
      "outputs": [
        {
          "output_type": "execute_result",
          "data": {
            "text/plain": [
              "<AxesSubplot:xlabel='PTS'>"
            ]
          },
          "metadata": {},
          "execution_count": 15
        },
        {
          "output_type": "display_data",
          "data": {
            "text/plain": "<Figure size 432x288 with 1 Axes>",
            "image/svg+xml": "<?xml version=\"1.0\" encoding=\"utf-8\" standalone=\"no\"?>\r\n<!DOCTYPE svg PUBLIC \"-//W3C//DTD SVG 1.1//EN\"\r\n  \"http://www.w3.org/Graphics/SVG/1.1/DTD/svg11.dtd\">\r\n<!-- Created with matplotlib (https://matplotlib.org/) -->\r\n<svg height=\"262.19625pt\" version=\"1.1\" viewBox=\"0 0 375.2875 262.19625\" width=\"375.2875pt\" xmlns=\"http://www.w3.org/2000/svg\" xmlns:xlink=\"http://www.w3.org/1999/xlink\">\r\n <metadata>\r\n  <rdf:RDF xmlns:cc=\"http://creativecommons.org/ns#\" xmlns:dc=\"http://purl.org/dc/elements/1.1/\" xmlns:rdf=\"http://www.w3.org/1999/02/22-rdf-syntax-ns#\">\r\n   <cc:Work>\r\n    <dc:type rdf:resource=\"http://purl.org/dc/dcmitype/StillImage\"/>\r\n    <dc:date>2021-06-21T10:14:36.452334</dc:date>\r\n    <dc:format>image/svg+xml</dc:format>\r\n    <dc:creator>\r\n     <cc:Agent>\r\n      <dc:title>Matplotlib v3.3.4, https://matplotlib.org/</dc:title>\r\n     </cc:Agent>\r\n    </dc:creator>\r\n   </cc:Work>\r\n  </rdf:RDF>\r\n </metadata>\r\n <defs>\r\n  <style type=\"text/css\">*{stroke-linecap:butt;stroke-linejoin:round;}</style>\r\n </defs>\r\n <g id=\"figure_1\">\r\n  <g id=\"patch_1\">\r\n   <path d=\"M 0 262.19625 \r\nL 375.2875 262.19625 \r\nL 375.2875 0 \r\nL 0 0 \r\nz\r\n\" style=\"fill:none;\"/>\r\n  </g>\r\n  <g id=\"axes_1\">\r\n   <g id=\"patch_2\">\r\n    <path d=\"M 33.2875 224.64 \r\nL 368.0875 224.64 \r\nL 368.0875 7.2 \r\nL 33.2875 7.2 \r\nz\r\n\" style=\"fill:#ffffff;\"/>\r\n   </g>\r\n   <g id=\"patch_3\">\r\n    <path clip-path=\"url(#p7179a81258)\" d=\"M 48.505682 224.64 \r\nL 62.340393 224.64 \r\nL 62.340393 134.772615 \r\nL 48.505682 134.772615 \r\nz\r\n\" style=\"fill:#1f77b4;opacity:0.4;stroke:#000000;stroke-linejoin:miter;stroke-width:2;\"/>\r\n   </g>\r\n   <g id=\"patch_4\">\r\n    <path clip-path=\"url(#p7179a81258)\" d=\"M 62.340393 224.64 \r\nL 76.175103 224.64 \r\nL 76.175103 74.209811 \r\nL 62.340393 74.209811 \r\nz\r\n\" style=\"fill:#1f77b4;opacity:0.4;stroke:#000000;stroke-linejoin:miter;stroke-width:2;\"/>\r\n   </g>\r\n   <g id=\"patch_5\">\r\n    <path clip-path=\"url(#p7179a81258)\" d=\"M 76.175103 224.64 \r\nL 90.009814 224.64 \r\nL 90.009814 17.554286 \r\nL 76.175103 17.554286 \r\nz\r\n\" style=\"fill:#1f77b4;opacity:0.4;stroke:#000000;stroke-linejoin:miter;stroke-width:2;\"/>\r\n   </g>\r\n   <g id=\"patch_6\">\r\n    <path clip-path=\"url(#p7179a81258)\" d=\"M 90.009814 224.64 \r\nL 103.844525 224.64 \r\nL 103.844525 39.044313 \r\nL 90.009814 39.044313 \r\nz\r\n\" style=\"fill:#1f77b4;opacity:0.4;stroke:#000000;stroke-linejoin:miter;stroke-width:2;\"/>\r\n   </g>\r\n   <g id=\"patch_7\">\r\n    <path clip-path=\"url(#p7179a81258)\" d=\"M 103.844525 224.64 \r\nL 117.679236 224.64 \r\nL 117.679236 40.997951 \r\nL 103.844525 40.997951 \r\nz\r\n\" style=\"fill:#1f77b4;opacity:0.4;stroke:#000000;stroke-linejoin:miter;stroke-width:2;\"/>\r\n   </g>\r\n   <g id=\"patch_8\">\r\n    <path clip-path=\"url(#p7179a81258)\" d=\"M 117.679236 224.64 \r\nL 131.513946 224.64 \r\nL 131.513946 107.421671 \r\nL 117.679236 107.421671 \r\nz\r\n\" style=\"fill:#1f77b4;opacity:0.4;stroke:#000000;stroke-linejoin:miter;stroke-width:2;\"/>\r\n   </g>\r\n   <g id=\"patch_9\">\r\n    <path clip-path=\"url(#p7179a81258)\" d=\"M 131.513946 224.64 \r\nL 145.348657 224.64 \r\nL 145.348657 123.050782 \r\nL 131.513946 123.050782 \r\nz\r\n\" style=\"fill:#1f77b4;opacity:0.4;stroke:#000000;stroke-linejoin:miter;stroke-width:2;\"/>\r\n   </g>\r\n   <g id=\"patch_10\">\r\n    <path clip-path=\"url(#p7179a81258)\" d=\"M 145.348657 224.64 \r\nL 159.183368 224.64 \r\nL 159.183368 136.726253 \r\nL 145.348657 136.726253 \r\nz\r\n\" style=\"fill:#1f77b4;opacity:0.4;stroke:#000000;stroke-linejoin:miter;stroke-width:2;\"/>\r\n   </g>\r\n   <g id=\"patch_11\">\r\n    <path clip-path=\"url(#p7179a81258)\" d=\"M 159.183368 224.64 \r\nL 173.018079 224.64 \r\nL 173.018079 162.123558 \r\nL 159.183368 162.123558 \r\nz\r\n\" style=\"fill:#1f77b4;opacity:0.4;stroke:#000000;stroke-linejoin:miter;stroke-width:2;\"/>\r\n   </g>\r\n   <g id=\"patch_12\">\r\n    <path clip-path=\"url(#p7179a81258)\" d=\"M 173.018079 224.64 \r\nL 186.852789 224.64 \r\nL 186.852789 171.891752 \r\nL 173.018079 171.891752 \r\nz\r\n\" style=\"fill:#1f77b4;opacity:0.4;stroke:#000000;stroke-linejoin:miter;stroke-width:2;\"/>\r\n   </g>\r\n   <g id=\"patch_13\">\r\n    <path clip-path=\"url(#p7179a81258)\" d=\"M 186.852789 224.64 \r\nL 200.6875 224.64 \r\nL 200.6875 185.567224 \r\nL 186.852789 185.567224 \r\nz\r\n\" style=\"fill:#1f77b4;opacity:0.4;stroke:#000000;stroke-linejoin:miter;stroke-width:2;\"/>\r\n   </g>\r\n   <g id=\"patch_14\">\r\n    <path clip-path=\"url(#p7179a81258)\" d=\"M 200.6875 224.64 \r\nL 214.522211 224.64 \r\nL 214.522211 195.335418 \r\nL 200.6875 195.335418 \r\nz\r\n\" style=\"fill:#1f77b4;opacity:0.4;stroke:#000000;stroke-linejoin:miter;stroke-width:2;\"/>\r\n   </g>\r\n   <g id=\"patch_15\">\r\n    <path clip-path=\"url(#p7179a81258)\" d=\"M 214.522211 224.64 \r\nL 228.356921 224.64 \r\nL 228.356921 189.474501 \r\nL 214.522211 189.474501 \r\nz\r\n\" style=\"fill:#1f77b4;opacity:0.4;stroke:#000000;stroke-linejoin:miter;stroke-width:2;\"/>\r\n   </g>\r\n   <g id=\"patch_16\">\r\n    <path clip-path=\"url(#p7179a81258)\" d=\"M 228.356921 224.64 \r\nL 242.191632 224.64 \r\nL 242.191632 218.779084 \r\nL 228.356921 218.779084 \r\nz\r\n\" style=\"fill:#1f77b4;opacity:0.4;stroke:#000000;stroke-linejoin:miter;stroke-width:2;\"/>\r\n   </g>\r\n   <g id=\"patch_17\">\r\n    <path clip-path=\"url(#p7179a81258)\" d=\"M 242.191632 224.64 \r\nL 256.026343 224.64 \r\nL 256.026343 214.871806 \r\nL 242.191632 214.871806 \r\nz\r\n\" style=\"fill:#1f77b4;opacity:0.4;stroke:#000000;stroke-linejoin:miter;stroke-width:2;\"/>\r\n   </g>\r\n   <g id=\"patch_18\">\r\n    <path clip-path=\"url(#p7179a81258)\" d=\"M 256.026343 224.64 \r\nL 269.861054 224.64 \r\nL 269.861054 214.871806 \r\nL 256.026343 214.871806 \r\nz\r\n\" style=\"fill:#1f77b4;opacity:0.4;stroke:#000000;stroke-linejoin:miter;stroke-width:2;\"/>\r\n   </g>\r\n   <g id=\"patch_19\">\r\n    <path clip-path=\"url(#p7179a81258)\" d=\"M 269.861054 224.64 \r\nL 283.695764 224.64 \r\nL 283.695764 212.918167 \r\nL 269.861054 212.918167 \r\nz\r\n\" style=\"fill:#1f77b4;opacity:0.4;stroke:#000000;stroke-linejoin:miter;stroke-width:2;\"/>\r\n   </g>\r\n   <g id=\"patch_20\">\r\n    <path clip-path=\"url(#p7179a81258)\" d=\"M 283.695764 224.64 \r\nL 297.530475 224.64 \r\nL 297.530475 222.686361 \r\nL 283.695764 222.686361 \r\nz\r\n\" style=\"fill:#1f77b4;opacity:0.4;stroke:#000000;stroke-linejoin:miter;stroke-width:2;\"/>\r\n   </g>\r\n   <g id=\"patch_21\">\r\n    <path clip-path=\"url(#p7179a81258)\" d=\"M 297.530475 224.64 \r\nL 311.365186 224.64 \r\nL 311.365186 224.64 \r\nL 297.530475 224.64 \r\nz\r\n\" style=\"fill:#1f77b4;opacity:0.4;stroke:#000000;stroke-linejoin:miter;stroke-width:2;\"/>\r\n   </g>\r\n   <g id=\"patch_22\">\r\n    <path clip-path=\"url(#p7179a81258)\" d=\"M 311.365186 224.64 \r\nL 325.199897 224.64 \r\nL 325.199897 224.64 \r\nL 311.365186 224.64 \r\nz\r\n\" style=\"fill:#1f77b4;opacity:0.4;stroke:#000000;stroke-linejoin:miter;stroke-width:2;\"/>\r\n   </g>\r\n   <g id=\"patch_23\">\r\n    <path clip-path=\"url(#p7179a81258)\" d=\"M 325.199897 224.64 \r\nL 339.034607 224.64 \r\nL 339.034607 224.64 \r\nL 325.199897 224.64 \r\nz\r\n\" style=\"fill:#1f77b4;opacity:0.4;stroke:#000000;stroke-linejoin:miter;stroke-width:2;\"/>\r\n   </g>\r\n   <g id=\"patch_24\">\r\n    <path clip-path=\"url(#p7179a81258)\" d=\"M 339.034607 224.64 \r\nL 352.869318 224.64 \r\nL 352.869318 222.686361 \r\nL 339.034607 222.686361 \r\nz\r\n\" style=\"fill:#1f77b4;opacity:0.4;stroke:#000000;stroke-linejoin:miter;stroke-width:2;\"/>\r\n   </g>\r\n   <g id=\"matplotlib.axis_1\">\r\n    <g id=\"xtick_1\">\r\n     <g id=\"line2d_1\">\r\n      <defs>\r\n       <path d=\"M 0 0 \r\nL 0 3.5 \r\n\" id=\"m5faeb03c8b\" style=\"stroke:#000000;stroke-width:0.8;\"/>\r\n      </defs>\r\n      <g>\r\n       <use style=\"stroke:#000000;stroke-width:0.8;\" x=\"48.505682\" xlink:href=\"#m5faeb03c8b\" y=\"224.64\"/>\r\n      </g>\r\n     </g>\r\n     <g id=\"text_1\">\r\n      <!-- 0 -->\r\n      <g transform=\"translate(45.324432 239.238438)scale(0.1 -0.1)\">\r\n       <defs>\r\n        <path d=\"M 31.78125 66.40625 \r\nQ 24.171875 66.40625 20.328125 58.90625 \r\nQ 16.5 51.421875 16.5 36.375 \r\nQ 16.5 21.390625 20.328125 13.890625 \r\nQ 24.171875 6.390625 31.78125 6.390625 \r\nQ 39.453125 6.390625 43.28125 13.890625 \r\nQ 47.125 21.390625 47.125 36.375 \r\nQ 47.125 51.421875 43.28125 58.90625 \r\nQ 39.453125 66.40625 31.78125 66.40625 \r\nz\r\nM 31.78125 74.21875 \r\nQ 44.046875 74.21875 50.515625 64.515625 \r\nQ 56.984375 54.828125 56.984375 36.375 \r\nQ 56.984375 17.96875 50.515625 8.265625 \r\nQ 44.046875 -1.421875 31.78125 -1.421875 \r\nQ 19.53125 -1.421875 13.0625 8.265625 \r\nQ 6.59375 17.96875 6.59375 36.375 \r\nQ 6.59375 54.828125 13.0625 64.515625 \r\nQ 19.53125 74.21875 31.78125 74.21875 \r\nz\r\n\" id=\"DejaVuSans-48\"/>\r\n       </defs>\r\n       <use xlink:href=\"#DejaVuSans-48\"/>\r\n      </g>\r\n     </g>\r\n    </g>\r\n    <g id=\"xtick_2\">\r\n     <g id=\"line2d_2\">\r\n      <g>\r\n       <use style=\"stroke:#000000;stroke-width:0.8;\" x=\"90.66131\" xlink:href=\"#m5faeb03c8b\" y=\"224.64\"/>\r\n      </g>\r\n     </g>\r\n     <g id=\"text_2\">\r\n      <!-- 5 -->\r\n      <g transform=\"translate(87.48006 239.238438)scale(0.1 -0.1)\">\r\n       <defs>\r\n        <path d=\"M 10.796875 72.90625 \r\nL 49.515625 72.90625 \r\nL 49.515625 64.59375 \r\nL 19.828125 64.59375 \r\nL 19.828125 46.734375 \r\nQ 21.96875 47.46875 24.109375 47.828125 \r\nQ 26.265625 48.1875 28.421875 48.1875 \r\nQ 40.625 48.1875 47.75 41.5 \r\nQ 54.890625 34.8125 54.890625 23.390625 \r\nQ 54.890625 11.625 47.5625 5.09375 \r\nQ 40.234375 -1.421875 26.90625 -1.421875 \r\nQ 22.3125 -1.421875 17.546875 -0.640625 \r\nQ 12.796875 0.140625 7.71875 1.703125 \r\nL 7.71875 11.625 \r\nQ 12.109375 9.234375 16.796875 8.0625 \r\nQ 21.484375 6.890625 26.703125 6.890625 \r\nQ 35.15625 6.890625 40.078125 11.328125 \r\nQ 45.015625 15.765625 45.015625 23.390625 \r\nQ 45.015625 31 40.078125 35.4375 \r\nQ 35.15625 39.890625 26.703125 39.890625 \r\nQ 22.75 39.890625 18.8125 39.015625 \r\nQ 14.890625 38.140625 10.796875 36.28125 \r\nz\r\n\" id=\"DejaVuSans-53\"/>\r\n       </defs>\r\n       <use xlink:href=\"#DejaVuSans-53\"/>\r\n      </g>\r\n     </g>\r\n    </g>\r\n    <g id=\"xtick_3\">\r\n     <g id=\"line2d_3\">\r\n      <g>\r\n       <use style=\"stroke:#000000;stroke-width:0.8;\" x=\"132.816938\" xlink:href=\"#m5faeb03c8b\" y=\"224.64\"/>\r\n      </g>\r\n     </g>\r\n     <g id=\"text_3\">\r\n      <!-- 10 -->\r\n      <g transform=\"translate(126.454438 239.238438)scale(0.1 -0.1)\">\r\n       <defs>\r\n        <path d=\"M 12.40625 8.296875 \r\nL 28.515625 8.296875 \r\nL 28.515625 63.921875 \r\nL 10.984375 60.40625 \r\nL 10.984375 69.390625 \r\nL 28.421875 72.90625 \r\nL 38.28125 72.90625 \r\nL 38.28125 8.296875 \r\nL 54.390625 8.296875 \r\nL 54.390625 0 \r\nL 12.40625 0 \r\nz\r\n\" id=\"DejaVuSans-49\"/>\r\n       </defs>\r\n       <use xlink:href=\"#DejaVuSans-49\"/>\r\n       <use x=\"63.623047\" xlink:href=\"#DejaVuSans-48\"/>\r\n      </g>\r\n     </g>\r\n    </g>\r\n    <g id=\"xtick_4\">\r\n     <g id=\"line2d_4\">\r\n      <g>\r\n       <use style=\"stroke:#000000;stroke-width:0.8;\" x=\"174.972567\" xlink:href=\"#m5faeb03c8b\" y=\"224.64\"/>\r\n      </g>\r\n     </g>\r\n     <g id=\"text_4\">\r\n      <!-- 15 -->\r\n      <g transform=\"translate(168.610067 239.238438)scale(0.1 -0.1)\">\r\n       <use xlink:href=\"#DejaVuSans-49\"/>\r\n       <use x=\"63.623047\" xlink:href=\"#DejaVuSans-53\"/>\r\n      </g>\r\n     </g>\r\n    </g>\r\n    <g id=\"xtick_5\">\r\n     <g id=\"line2d_5\">\r\n      <g>\r\n       <use style=\"stroke:#000000;stroke-width:0.8;\" x=\"217.128195\" xlink:href=\"#m5faeb03c8b\" y=\"224.64\"/>\r\n      </g>\r\n     </g>\r\n     <g id=\"text_5\">\r\n      <!-- 20 -->\r\n      <g transform=\"translate(210.765695 239.238438)scale(0.1 -0.1)\">\r\n       <defs>\r\n        <path d=\"M 19.1875 8.296875 \r\nL 53.609375 8.296875 \r\nL 53.609375 0 \r\nL 7.328125 0 \r\nL 7.328125 8.296875 \r\nQ 12.9375 14.109375 22.625 23.890625 \r\nQ 32.328125 33.6875 34.8125 36.53125 \r\nQ 39.546875 41.84375 41.421875 45.53125 \r\nQ 43.3125 49.21875 43.3125 52.78125 \r\nQ 43.3125 58.59375 39.234375 62.25 \r\nQ 35.15625 65.921875 28.609375 65.921875 \r\nQ 23.96875 65.921875 18.8125 64.3125 \r\nQ 13.671875 62.703125 7.8125 59.421875 \r\nL 7.8125 69.390625 \r\nQ 13.765625 71.78125 18.9375 73 \r\nQ 24.125 74.21875 28.421875 74.21875 \r\nQ 39.75 74.21875 46.484375 68.546875 \r\nQ 53.21875 62.890625 53.21875 53.421875 \r\nQ 53.21875 48.921875 51.53125 44.890625 \r\nQ 49.859375 40.875 45.40625 35.40625 \r\nQ 44.1875 33.984375 37.640625 27.21875 \r\nQ 31.109375 20.453125 19.1875 8.296875 \r\nz\r\n\" id=\"DejaVuSans-50\"/>\r\n       </defs>\r\n       <use xlink:href=\"#DejaVuSans-50\"/>\r\n       <use x=\"63.623047\" xlink:href=\"#DejaVuSans-48\"/>\r\n      </g>\r\n     </g>\r\n    </g>\r\n    <g id=\"xtick_6\">\r\n     <g id=\"line2d_6\">\r\n      <g>\r\n       <use style=\"stroke:#000000;stroke-width:0.8;\" x=\"259.283823\" xlink:href=\"#m5faeb03c8b\" y=\"224.64\"/>\r\n      </g>\r\n     </g>\r\n     <g id=\"text_6\">\r\n      <!-- 25 -->\r\n      <g transform=\"translate(252.921323 239.238438)scale(0.1 -0.1)\">\r\n       <use xlink:href=\"#DejaVuSans-50\"/>\r\n       <use x=\"63.623047\" xlink:href=\"#DejaVuSans-53\"/>\r\n      </g>\r\n     </g>\r\n    </g>\r\n    <g id=\"xtick_7\">\r\n     <g id=\"line2d_7\">\r\n      <g>\r\n       <use style=\"stroke:#000000;stroke-width:0.8;\" x=\"301.439452\" xlink:href=\"#m5faeb03c8b\" y=\"224.64\"/>\r\n      </g>\r\n     </g>\r\n     <g id=\"text_7\">\r\n      <!-- 30 -->\r\n      <g transform=\"translate(295.076952 239.238438)scale(0.1 -0.1)\">\r\n       <defs>\r\n        <path d=\"M 40.578125 39.3125 \r\nQ 47.65625 37.796875 51.625 33 \r\nQ 55.609375 28.21875 55.609375 21.1875 \r\nQ 55.609375 10.40625 48.1875 4.484375 \r\nQ 40.765625 -1.421875 27.09375 -1.421875 \r\nQ 22.515625 -1.421875 17.65625 -0.515625 \r\nQ 12.796875 0.390625 7.625 2.203125 \r\nL 7.625 11.71875 \r\nQ 11.71875 9.328125 16.59375 8.109375 \r\nQ 21.484375 6.890625 26.8125 6.890625 \r\nQ 36.078125 6.890625 40.9375 10.546875 \r\nQ 45.796875 14.203125 45.796875 21.1875 \r\nQ 45.796875 27.640625 41.28125 31.265625 \r\nQ 36.765625 34.90625 28.71875 34.90625 \r\nL 20.21875 34.90625 \r\nL 20.21875 43.015625 \r\nL 29.109375 43.015625 \r\nQ 36.375 43.015625 40.234375 45.921875 \r\nQ 44.09375 48.828125 44.09375 54.296875 \r\nQ 44.09375 59.90625 40.109375 62.90625 \r\nQ 36.140625 65.921875 28.71875 65.921875 \r\nQ 24.65625 65.921875 20.015625 65.03125 \r\nQ 15.375 64.15625 9.8125 62.3125 \r\nL 9.8125 71.09375 \r\nQ 15.4375 72.65625 20.34375 73.4375 \r\nQ 25.25 74.21875 29.59375 74.21875 \r\nQ 40.828125 74.21875 47.359375 69.109375 \r\nQ 53.90625 64.015625 53.90625 55.328125 \r\nQ 53.90625 49.265625 50.4375 45.09375 \r\nQ 46.96875 40.921875 40.578125 39.3125 \r\nz\r\n\" id=\"DejaVuSans-51\"/>\r\n       </defs>\r\n       <use xlink:href=\"#DejaVuSans-51\"/>\r\n       <use x=\"63.623047\" xlink:href=\"#DejaVuSans-48\"/>\r\n      </g>\r\n     </g>\r\n    </g>\r\n    <g id=\"xtick_8\">\r\n     <g id=\"line2d_8\">\r\n      <g>\r\n       <use style=\"stroke:#000000;stroke-width:0.8;\" x=\"343.59508\" xlink:href=\"#m5faeb03c8b\" y=\"224.64\"/>\r\n      </g>\r\n     </g>\r\n     <g id=\"text_8\">\r\n      <!-- 35 -->\r\n      <g transform=\"translate(337.23258 239.238438)scale(0.1 -0.1)\">\r\n       <use xlink:href=\"#DejaVuSans-51\"/>\r\n       <use x=\"63.623047\" xlink:href=\"#DejaVuSans-53\"/>\r\n      </g>\r\n     </g>\r\n    </g>\r\n    <g id=\"text_9\">\r\n     <!-- PTS -->\r\n     <g transform=\"translate(191.444531 252.916563)scale(0.1 -0.1)\">\r\n      <defs>\r\n       <path d=\"M 19.671875 64.796875 \r\nL 19.671875 37.40625 \r\nL 32.078125 37.40625 \r\nQ 38.96875 37.40625 42.71875 40.96875 \r\nQ 46.484375 44.53125 46.484375 51.125 \r\nQ 46.484375 57.671875 42.71875 61.234375 \r\nQ 38.96875 64.796875 32.078125 64.796875 \r\nz\r\nM 9.8125 72.90625 \r\nL 32.078125 72.90625 \r\nQ 44.34375 72.90625 50.609375 67.359375 \r\nQ 56.890625 61.8125 56.890625 51.125 \r\nQ 56.890625 40.328125 50.609375 34.8125 \r\nQ 44.34375 29.296875 32.078125 29.296875 \r\nL 19.671875 29.296875 \r\nL 19.671875 0 \r\nL 9.8125 0 \r\nz\r\n\" id=\"DejaVuSans-80\"/>\r\n       <path d=\"M -0.296875 72.90625 \r\nL 61.375 72.90625 \r\nL 61.375 64.59375 \r\nL 35.5 64.59375 \r\nL 35.5 0 \r\nL 25.59375 0 \r\nL 25.59375 64.59375 \r\nL -0.296875 64.59375 \r\nz\r\n\" id=\"DejaVuSans-84\"/>\r\n       <path d=\"M 53.515625 70.515625 \r\nL 53.515625 60.890625 \r\nQ 47.90625 63.578125 42.921875 64.890625 \r\nQ 37.9375 66.21875 33.296875 66.21875 \r\nQ 25.25 66.21875 20.875 63.09375 \r\nQ 16.5 59.96875 16.5 54.203125 \r\nQ 16.5 49.359375 19.40625 46.890625 \r\nQ 22.3125 44.4375 30.421875 42.921875 \r\nL 36.375 41.703125 \r\nQ 47.40625 39.59375 52.65625 34.296875 \r\nQ 57.90625 29 57.90625 20.125 \r\nQ 57.90625 9.515625 50.796875 4.046875 \r\nQ 43.703125 -1.421875 29.984375 -1.421875 \r\nQ 24.8125 -1.421875 18.96875 -0.25 \r\nQ 13.140625 0.921875 6.890625 3.21875 \r\nL 6.890625 13.375 \r\nQ 12.890625 10.015625 18.65625 8.296875 \r\nQ 24.421875 6.59375 29.984375 6.59375 \r\nQ 38.421875 6.59375 43.015625 9.90625 \r\nQ 47.609375 13.234375 47.609375 19.390625 \r\nQ 47.609375 24.75 44.3125 27.78125 \r\nQ 41.015625 30.8125 33.5 32.328125 \r\nL 27.484375 33.5 \r\nQ 16.453125 35.6875 11.515625 40.375 \r\nQ 6.59375 45.0625 6.59375 53.421875 \r\nQ 6.59375 63.09375 13.40625 68.65625 \r\nQ 20.21875 74.21875 32.171875 74.21875 \r\nQ 37.3125 74.21875 42.625 73.28125 \r\nQ 47.953125 72.359375 53.515625 70.515625 \r\nz\r\n\" id=\"DejaVuSans-83\"/>\r\n      </defs>\r\n      <use xlink:href=\"#DejaVuSans-80\"/>\r\n      <use x=\"60.302734\" xlink:href=\"#DejaVuSans-84\"/>\r\n      <use x=\"121.386719\" xlink:href=\"#DejaVuSans-83\"/>\r\n     </g>\r\n    </g>\r\n   </g>\r\n   <g id=\"matplotlib.axis_2\">\r\n    <g id=\"ytick_1\">\r\n     <g id=\"line2d_9\">\r\n      <defs>\r\n       <path d=\"M 0 0 \r\nL -3.5 0 \r\n\" id=\"m018b20ca66\" style=\"stroke:#000000;stroke-width:0.8;\"/>\r\n      </defs>\r\n      <g>\r\n       <use style=\"stroke:#000000;stroke-width:0.8;\" x=\"33.2875\" xlink:href=\"#m018b20ca66\" y=\"224.64\"/>\r\n      </g>\r\n     </g>\r\n     <g id=\"text_10\">\r\n      <!-- 0 -->\r\n      <g transform=\"translate(19.925 228.439219)scale(0.1 -0.1)\">\r\n       <use xlink:href=\"#DejaVuSans-48\"/>\r\n      </g>\r\n     </g>\r\n    </g>\r\n    <g id=\"ytick_2\">\r\n     <g id=\"line2d_10\">\r\n      <g>\r\n       <use style=\"stroke:#000000;stroke-width:0.8;\" x=\"33.2875\" xlink:href=\"#m018b20ca66\" y=\"185.567224\"/>\r\n      </g>\r\n     </g>\r\n     <g id=\"text_11\">\r\n      <!-- 20 -->\r\n      <g transform=\"translate(13.5625 189.366442)scale(0.1 -0.1)\">\r\n       <use xlink:href=\"#DejaVuSans-50\"/>\r\n       <use x=\"63.623047\" xlink:href=\"#DejaVuSans-48\"/>\r\n      </g>\r\n     </g>\r\n    </g>\r\n    <g id=\"ytick_3\">\r\n     <g id=\"line2d_11\">\r\n      <g>\r\n       <use style=\"stroke:#000000;stroke-width:0.8;\" x=\"33.2875\" xlink:href=\"#m018b20ca66\" y=\"146.494447\"/>\r\n      </g>\r\n     </g>\r\n     <g id=\"text_12\">\r\n      <!-- 40 -->\r\n      <g transform=\"translate(13.5625 150.293666)scale(0.1 -0.1)\">\r\n       <defs>\r\n        <path d=\"M 37.796875 64.3125 \r\nL 12.890625 25.390625 \r\nL 37.796875 25.390625 \r\nz\r\nM 35.203125 72.90625 \r\nL 47.609375 72.90625 \r\nL 47.609375 25.390625 \r\nL 58.015625 25.390625 \r\nL 58.015625 17.1875 \r\nL 47.609375 17.1875 \r\nL 47.609375 0 \r\nL 37.796875 0 \r\nL 37.796875 17.1875 \r\nL 4.890625 17.1875 \r\nL 4.890625 26.703125 \r\nz\r\n\" id=\"DejaVuSans-52\"/>\r\n       </defs>\r\n       <use xlink:href=\"#DejaVuSans-52\"/>\r\n       <use x=\"63.623047\" xlink:href=\"#DejaVuSans-48\"/>\r\n      </g>\r\n     </g>\r\n    </g>\r\n    <g id=\"ytick_4\">\r\n     <g id=\"line2d_12\">\r\n      <g>\r\n       <use style=\"stroke:#000000;stroke-width:0.8;\" x=\"33.2875\" xlink:href=\"#m018b20ca66\" y=\"107.421671\"/>\r\n      </g>\r\n     </g>\r\n     <g id=\"text_13\">\r\n      <!-- 60 -->\r\n      <g transform=\"translate(13.5625 111.22089)scale(0.1 -0.1)\">\r\n       <defs>\r\n        <path d=\"M 33.015625 40.375 \r\nQ 26.375 40.375 22.484375 35.828125 \r\nQ 18.609375 31.296875 18.609375 23.390625 \r\nQ 18.609375 15.53125 22.484375 10.953125 \r\nQ 26.375 6.390625 33.015625 6.390625 \r\nQ 39.65625 6.390625 43.53125 10.953125 \r\nQ 47.40625 15.53125 47.40625 23.390625 \r\nQ 47.40625 31.296875 43.53125 35.828125 \r\nQ 39.65625 40.375 33.015625 40.375 \r\nz\r\nM 52.59375 71.296875 \r\nL 52.59375 62.3125 \r\nQ 48.875 64.0625 45.09375 64.984375 \r\nQ 41.3125 65.921875 37.59375 65.921875 \r\nQ 27.828125 65.921875 22.671875 59.328125 \r\nQ 17.53125 52.734375 16.796875 39.40625 \r\nQ 19.671875 43.65625 24.015625 45.921875 \r\nQ 28.375 48.1875 33.59375 48.1875 \r\nQ 44.578125 48.1875 50.953125 41.515625 \r\nQ 57.328125 34.859375 57.328125 23.390625 \r\nQ 57.328125 12.15625 50.6875 5.359375 \r\nQ 44.046875 -1.421875 33.015625 -1.421875 \r\nQ 20.359375 -1.421875 13.671875 8.265625 \r\nQ 6.984375 17.96875 6.984375 36.375 \r\nQ 6.984375 53.65625 15.1875 63.9375 \r\nQ 23.390625 74.21875 37.203125 74.21875 \r\nQ 40.921875 74.21875 44.703125 73.484375 \r\nQ 48.484375 72.75 52.59375 71.296875 \r\nz\r\n\" id=\"DejaVuSans-54\"/>\r\n       </defs>\r\n       <use xlink:href=\"#DejaVuSans-54\"/>\r\n       <use x=\"63.623047\" xlink:href=\"#DejaVuSans-48\"/>\r\n      </g>\r\n     </g>\r\n    </g>\r\n    <g id=\"ytick_5\">\r\n     <g id=\"line2d_13\">\r\n      <g>\r\n       <use style=\"stroke:#000000;stroke-width:0.8;\" x=\"33.2875\" xlink:href=\"#m018b20ca66\" y=\"68.348895\"/>\r\n      </g>\r\n     </g>\r\n     <g id=\"text_14\">\r\n      <!-- 80 -->\r\n      <g transform=\"translate(13.5625 72.148114)scale(0.1 -0.1)\">\r\n       <defs>\r\n        <path d=\"M 31.78125 34.625 \r\nQ 24.75 34.625 20.71875 30.859375 \r\nQ 16.703125 27.09375 16.703125 20.515625 \r\nQ 16.703125 13.921875 20.71875 10.15625 \r\nQ 24.75 6.390625 31.78125 6.390625 \r\nQ 38.8125 6.390625 42.859375 10.171875 \r\nQ 46.921875 13.96875 46.921875 20.515625 \r\nQ 46.921875 27.09375 42.890625 30.859375 \r\nQ 38.875 34.625 31.78125 34.625 \r\nz\r\nM 21.921875 38.8125 \r\nQ 15.578125 40.375 12.03125 44.71875 \r\nQ 8.5 49.078125 8.5 55.328125 \r\nQ 8.5 64.0625 14.71875 69.140625 \r\nQ 20.953125 74.21875 31.78125 74.21875 \r\nQ 42.671875 74.21875 48.875 69.140625 \r\nQ 55.078125 64.0625 55.078125 55.328125 \r\nQ 55.078125 49.078125 51.53125 44.71875 \r\nQ 48 40.375 41.703125 38.8125 \r\nQ 48.828125 37.15625 52.796875 32.3125 \r\nQ 56.78125 27.484375 56.78125 20.515625 \r\nQ 56.78125 9.90625 50.3125 4.234375 \r\nQ 43.84375 -1.421875 31.78125 -1.421875 \r\nQ 19.734375 -1.421875 13.25 4.234375 \r\nQ 6.78125 9.90625 6.78125 20.515625 \r\nQ 6.78125 27.484375 10.78125 32.3125 \r\nQ 14.796875 37.15625 21.921875 38.8125 \r\nz\r\nM 18.3125 54.390625 \r\nQ 18.3125 48.734375 21.84375 45.5625 \r\nQ 25.390625 42.390625 31.78125 42.390625 \r\nQ 38.140625 42.390625 41.71875 45.5625 \r\nQ 45.3125 48.734375 45.3125 54.390625 \r\nQ 45.3125 60.0625 41.71875 63.234375 \r\nQ 38.140625 66.40625 31.78125 66.40625 \r\nQ 25.390625 66.40625 21.84375 63.234375 \r\nQ 18.3125 60.0625 18.3125 54.390625 \r\nz\r\n\" id=\"DejaVuSans-56\"/>\r\n       </defs>\r\n       <use xlink:href=\"#DejaVuSans-56\"/>\r\n       <use x=\"63.623047\" xlink:href=\"#DejaVuSans-48\"/>\r\n      </g>\r\n     </g>\r\n    </g>\r\n    <g id=\"ytick_6\">\r\n     <g id=\"line2d_14\">\r\n      <g>\r\n       <use style=\"stroke:#000000;stroke-width:0.8;\" x=\"33.2875\" xlink:href=\"#m018b20ca66\" y=\"29.276119\"/>\r\n      </g>\r\n     </g>\r\n     <g id=\"text_15\">\r\n      <!-- 100 -->\r\n      <g transform=\"translate(7.2 33.075337)scale(0.1 -0.1)\">\r\n       <use xlink:href=\"#DejaVuSans-49\"/>\r\n       <use x=\"63.623047\" xlink:href=\"#DejaVuSans-48\"/>\r\n       <use x=\"127.246094\" xlink:href=\"#DejaVuSans-48\"/>\r\n      </g>\r\n     </g>\r\n    </g>\r\n   </g>\r\n   <g id=\"patch_25\">\r\n    <path d=\"M 33.2875 224.64 \r\nL 33.2875 7.2 \r\n\" style=\"fill:none;stroke:#000000;stroke-linecap:square;stroke-linejoin:miter;stroke-width:0.8;\"/>\r\n   </g>\r\n   <g id=\"patch_26\">\r\n    <path d=\"M 368.0875 224.64 \r\nL 368.0875 7.2 \r\n\" style=\"fill:none;stroke:#000000;stroke-linecap:square;stroke-linejoin:miter;stroke-width:0.8;\"/>\r\n   </g>\r\n   <g id=\"patch_27\">\r\n    <path d=\"M 33.2875 224.64 \r\nL 368.0875 224.64 \r\n\" style=\"fill:none;stroke:#000000;stroke-linecap:square;stroke-linejoin:miter;stroke-width:0.8;\"/>\r\n   </g>\r\n   <g id=\"patch_28\">\r\n    <path d=\"M 33.2875 7.2 \r\nL 368.0875 7.2 \r\n\" style=\"fill:none;stroke:#000000;stroke-linecap:square;stroke-linejoin:miter;stroke-width:0.8;\"/>\r\n   </g>\r\n  </g>\r\n </g>\r\n <defs>\r\n  <clipPath id=\"p7179a81258\">\r\n   <rect height=\"217.44\" width=\"334.8\" x=\"33.2875\" y=\"7.2\"/>\r\n  </clipPath>\r\n </defs>\r\n</svg>\r\n",
            "image/png": "[encoded data removed]"
          },
          "metadata": {
            "needs_background": "light"
          }
        }
      ]
    },
    {
      "cell_type": "markdown",
      "metadata": {
        "id": "uqkKFD4LEjoH",
        "colab_type": "text"
      },
      "source": [
        "Change bar fill colors"
      ]
    },
    {
      "cell_type": "code",
      "metadata": {
        "id": "RtdOAqjL34Vl",
        "colab_type": "code",
        "outputId": "4c8ebb7d-b4d1-41da-c460-bebd9ab4a33b",
        "colab": {
          "base_uri": "https://localhost:8080/",
          "height": 297
        }
      },
      "source": [
        "sns.distplot(df.PTS,\n",
        "             kde=False,\n",
        "             hist_kws=dict(edgecolor=\"black\", linewidth=2),\n",
        "             color='#00BFC4')"
      ],
      "execution_count": 16,
      "outputs": [
        {
          "output_type": "execute_result",
          "data": {
            "text/plain": [
              "<AxesSubplot:xlabel='PTS'>"
            ]
          },
          "metadata": {},
          "execution_count": 16
        },
        {
          "output_type": "display_data",
          "data": {
            "text/plain": "<Figure size 432x288 with 1 Axes>",
            "image/svg+xml": "<?xml version=\"1.0\" encoding=\"utf-8\" standalone=\"no\"?>\r\n<!DOCTYPE svg PUBLIC \"-//W3C//DTD SVG 1.1//EN\"\r\n  \"http://www.w3.org/Graphics/SVG/1.1/DTD/svg11.dtd\">\r\n<!-- Created with matplotlib (https://matplotlib.org/) -->\r\n<svg height=\"262.19625pt\" version=\"1.1\" viewBox=\"0 0 375.2875 262.19625\" width=\"375.2875pt\" xmlns=\"http://www.w3.org/2000/svg\" xmlns:xlink=\"http://www.w3.org/1999/xlink\">\r\n <metadata>\r\n  <rdf:RDF xmlns:cc=\"http://creativecommons.org/ns#\" xmlns:dc=\"http://purl.org/dc/elements/1.1/\" xmlns:rdf=\"http://www.w3.org/1999/02/22-rdf-syntax-ns#\">\r\n   <cc:Work>\r\n    <dc:type rdf:resource=\"http://purl.org/dc/dcmitype/StillImage\"/>\r\n    <dc:date>2021-06-21T10:14:36.731564</dc:date>\r\n    <dc:format>image/svg+xml</dc:format>\r\n    <dc:creator>\r\n     <cc:Agent>\r\n      <dc:title>Matplotlib v3.3.4, https://matplotlib.org/</dc:title>\r\n     </cc:Agent>\r\n    </dc:creator>\r\n   </cc:Work>\r\n  </rdf:RDF>\r\n </metadata>\r\n <defs>\r\n  <style type=\"text/css\">*{stroke-linecap:butt;stroke-linejoin:round;}</style>\r\n </defs>\r\n <g id=\"figure_1\">\r\n  <g id=\"patch_1\">\r\n   <path d=\"M 0 262.19625 \r\nL 375.2875 262.19625 \r\nL 375.2875 0 \r\nL 0 0 \r\nz\r\n\" style=\"fill:none;\"/>\r\n  </g>\r\n  <g id=\"axes_1\">\r\n   <g id=\"patch_2\">\r\n    <path d=\"M 33.2875 224.64 \r\nL 368.0875 224.64 \r\nL 368.0875 7.2 \r\nL 33.2875 7.2 \r\nz\r\n\" style=\"fill:#ffffff;\"/>\r\n   </g>\r\n   <g id=\"patch_3\">\r\n    <path clip-path=\"url(#p628a8945df)\" d=\"M 48.505682 224.64 \r\nL 62.340393 224.64 \r\nL 62.340393 134.772615 \r\nL 48.505682 134.772615 \r\nz\r\n\" style=\"fill:#00bfc4;opacity:0.4;stroke:#000000;stroke-linejoin:miter;stroke-width:2;\"/>\r\n   </g>\r\n   <g id=\"patch_4\">\r\n    <path clip-path=\"url(#p628a8945df)\" d=\"M 62.340393 224.64 \r\nL 76.175103 224.64 \r\nL 76.175103 74.209811 \r\nL 62.340393 74.209811 \r\nz\r\n\" style=\"fill:#00bfc4;opacity:0.4;stroke:#000000;stroke-linejoin:miter;stroke-width:2;\"/>\r\n   </g>\r\n   <g id=\"patch_5\">\r\n    <path clip-path=\"url(#p628a8945df)\" d=\"M 76.175103 224.64 \r\nL 90.009814 224.64 \r\nL 90.009814 17.554286 \r\nL 76.175103 17.554286 \r\nz\r\n\" style=\"fill:#00bfc4;opacity:0.4;stroke:#000000;stroke-linejoin:miter;stroke-width:2;\"/>\r\n   </g>\r\n   <g id=\"patch_6\">\r\n    <path clip-path=\"url(#p628a8945df)\" d=\"M 90.009814 224.64 \r\nL 103.844525 224.64 \r\nL 103.844525 39.044313 \r\nL 90.009814 39.044313 \r\nz\r\n\" style=\"fill:#00bfc4;opacity:0.4;stroke:#000000;stroke-linejoin:miter;stroke-width:2;\"/>\r\n   </g>\r\n   <g id=\"patch_7\">\r\n    <path clip-path=\"url(#p628a8945df)\" d=\"M 103.844525 224.64 \r\nL 117.679236 224.64 \r\nL 117.679236 40.997951 \r\nL 103.844525 40.997951 \r\nz\r\n\" style=\"fill:#00bfc4;opacity:0.4;stroke:#000000;stroke-linejoin:miter;stroke-width:2;\"/>\r\n   </g>\r\n   <g id=\"patch_8\">\r\n    <path clip-path=\"url(#p628a8945df)\" d=\"M 117.679236 224.64 \r\nL 131.513946 224.64 \r\nL 131.513946 107.421671 \r\nL 117.679236 107.421671 \r\nz\r\n\" style=\"fill:#00bfc4;opacity:0.4;stroke:#000000;stroke-linejoin:miter;stroke-width:2;\"/>\r\n   </g>\r\n   <g id=\"patch_9\">\r\n    <path clip-path=\"url(#p628a8945df)\" d=\"M 131.513946 224.64 \r\nL 145.348657 224.64 \r\nL 145.348657 123.050782 \r\nL 131.513946 123.050782 \r\nz\r\n\" style=\"fill:#00bfc4;opacity:0.4;stroke:#000000;stroke-linejoin:miter;stroke-width:2;\"/>\r\n   </g>\r\n   <g id=\"patch_10\">\r\n    <path clip-path=\"url(#p628a8945df)\" d=\"M 145.348657 224.64 \r\nL 159.183368 224.64 \r\nL 159.183368 136.726253 \r\nL 145.348657 136.726253 \r\nz\r\n\" style=\"fill:#00bfc4;opacity:0.4;stroke:#000000;stroke-linejoin:miter;stroke-width:2;\"/>\r\n   </g>\r\n   <g id=\"patch_11\">\r\n    <path clip-path=\"url(#p628a8945df)\" d=\"M 159.183368 224.64 \r\nL 173.018079 224.64 \r\nL 173.018079 162.123558 \r\nL 159.183368 162.123558 \r\nz\r\n\" style=\"fill:#00bfc4;opacity:0.4;stroke:#000000;stroke-linejoin:miter;stroke-width:2;\"/>\r\n   </g>\r\n   <g id=\"patch_12\">\r\n    <path clip-path=\"url(#p628a8945df)\" d=\"M 173.018079 224.64 \r\nL 186.852789 224.64 \r\nL 186.852789 171.891752 \r\nL 173.018079 171.891752 \r\nz\r\n\" style=\"fill:#00bfc4;opacity:0.4;stroke:#000000;stroke-linejoin:miter;stroke-width:2;\"/>\r\n   </g>\r\n   <g id=\"patch_13\">\r\n    <path clip-path=\"url(#p628a8945df)\" d=\"M 186.852789 224.64 \r\nL 200.6875 224.64 \r\nL 200.6875 185.567224 \r\nL 186.852789 185.567224 \r\nz\r\n\" style=\"fill:#00bfc4;opacity:0.4;stroke:#000000;stroke-linejoin:miter;stroke-width:2;\"/>\r\n   </g>\r\n   <g id=\"patch_14\">\r\n    <path clip-path=\"url(#p628a8945df)\" d=\"M 200.6875 224.64 \r\nL 214.522211 224.64 \r\nL 214.522211 195.335418 \r\nL 200.6875 195.335418 \r\nz\r\n\" style=\"fill:#00bfc4;opacity:0.4;stroke:#000000;stroke-linejoin:miter;stroke-width:2;\"/>\r\n   </g>\r\n   <g id=\"patch_15\">\r\n    <path clip-path=\"url(#p628a8945df)\" d=\"M 214.522211 224.64 \r\nL 228.356921 224.64 \r\nL 228.356921 189.474501 \r\nL 214.522211 189.474501 \r\nz\r\n\" style=\"fill:#00bfc4;opacity:0.4;stroke:#000000;stroke-linejoin:miter;stroke-width:2;\"/>\r\n   </g>\r\n   <g id=\"patch_16\">\r\n    <path clip-path=\"url(#p628a8945df)\" d=\"M 228.356921 224.64 \r\nL 242.191632 224.64 \r\nL 242.191632 218.779084 \r\nL 228.356921 218.779084 \r\nz\r\n\" style=\"fill:#00bfc4;opacity:0.4;stroke:#000000;stroke-linejoin:miter;stroke-width:2;\"/>\r\n   </g>\r\n   <g id=\"patch_17\">\r\n    <path clip-path=\"url(#p628a8945df)\" d=\"M 242.191632 224.64 \r\nL 256.026343 224.64 \r\nL 256.026343 214.871806 \r\nL 242.191632 214.871806 \r\nz\r\n\" style=\"fill:#00bfc4;opacity:0.4;stroke:#000000;stroke-linejoin:miter;stroke-width:2;\"/>\r\n   </g>\r\n   <g id=\"patch_18\">\r\n    <path clip-path=\"url(#p628a8945df)\" d=\"M 256.026343 224.64 \r\nL 269.861054 224.64 \r\nL 269.861054 214.871806 \r\nL 256.026343 214.871806 \r\nz\r\n\" style=\"fill:#00bfc4;opacity:0.4;stroke:#000000;stroke-linejoin:miter;stroke-width:2;\"/>\r\n   </g>\r\n   <g id=\"patch_19\">\r\n    <path clip-path=\"url(#p628a8945df)\" d=\"M 269.861054 224.64 \r\nL 283.695764 224.64 \r\nL 283.695764 212.918167 \r\nL 269.861054 212.918167 \r\nz\r\n\" style=\"fill:#00bfc4;opacity:0.4;stroke:#000000;stroke-linejoin:miter;stroke-width:2;\"/>\r\n   </g>\r\n   <g id=\"patch_20\">\r\n    <path clip-path=\"url(#p628a8945df)\" d=\"M 283.695764 224.64 \r\nL 297.530475 224.64 \r\nL 297.530475 222.686361 \r\nL 283.695764 222.686361 \r\nz\r\n\" style=\"fill:#00bfc4;opacity:0.4;stroke:#000000;stroke-linejoin:miter;stroke-width:2;\"/>\r\n   </g>\r\n   <g id=\"patch_21\">\r\n    <path clip-path=\"url(#p628a8945df)\" d=\"M 297.530475 224.64 \r\nL 311.365186 224.64 \r\nL 311.365186 224.64 \r\nL 297.530475 224.64 \r\nz\r\n\" style=\"fill:#00bfc4;opacity:0.4;stroke:#000000;stroke-linejoin:miter;stroke-width:2;\"/>\r\n   </g>\r\n   <g id=\"patch_22\">\r\n    <path clip-path=\"url(#p628a8945df)\" d=\"M 311.365186 224.64 \r\nL 325.199897 224.64 \r\nL 325.199897 224.64 \r\nL 311.365186 224.64 \r\nz\r\n\" style=\"fill:#00bfc4;opacity:0.4;stroke:#000000;stroke-linejoin:miter;stroke-width:2;\"/>\r\n   </g>\r\n   <g id=\"patch_23\">\r\n    <path clip-path=\"url(#p628a8945df)\" d=\"M 325.199897 224.64 \r\nL 339.034607 224.64 \r\nL 339.034607 224.64 \r\nL 325.199897 224.64 \r\nz\r\n\" style=\"fill:#00bfc4;opacity:0.4;stroke:#000000;stroke-linejoin:miter;stroke-width:2;\"/>\r\n   </g>\r\n   <g id=\"patch_24\">\r\n    <path clip-path=\"url(#p628a8945df)\" d=\"M 339.034607 224.64 \r\nL 352.869318 224.64 \r\nL 352.869318 222.686361 \r\nL 339.034607 222.686361 \r\nz\r\n\" style=\"fill:#00bfc4;opacity:0.4;stroke:#000000;stroke-linejoin:miter;stroke-width:2;\"/>\r\n   </g>\r\n   <g id=\"matplotlib.axis_1\">\r\n    <g id=\"xtick_1\">\r\n     <g id=\"line2d_1\">\r\n      <defs>\r\n       <path d=\"M 0 0 \r\nL 0 3.5 \r\n\" id=\"mb26cbf41bb\" style=\"stroke:#000000;stroke-width:0.8;\"/>\r\n      </defs>\r\n      <g>\r\n       <use style=\"stroke:#000000;stroke-width:0.8;\" x=\"48.505682\" xlink:href=\"#mb26cbf41bb\" y=\"224.64\"/>\r\n      </g>\r\n     </g>\r\n     <g id=\"text_1\">\r\n      <!-- 0 -->\r\n      <g transform=\"translate(45.324432 239.238438)scale(0.1 -0.1)\">\r\n       <defs>\r\n        <path d=\"M 31.78125 66.40625 \r\nQ 24.171875 66.40625 20.328125 58.90625 \r\nQ 16.5 51.421875 16.5 36.375 \r\nQ 16.5 21.390625 20.328125 13.890625 \r\nQ 24.171875 6.390625 31.78125 6.390625 \r\nQ 39.453125 6.390625 43.28125 13.890625 \r\nQ 47.125 21.390625 47.125 36.375 \r\nQ 47.125 51.421875 43.28125 58.90625 \r\nQ 39.453125 66.40625 31.78125 66.40625 \r\nz\r\nM 31.78125 74.21875 \r\nQ 44.046875 74.21875 50.515625 64.515625 \r\nQ 56.984375 54.828125 56.984375 36.375 \r\nQ 56.984375 17.96875 50.515625 8.265625 \r\nQ 44.046875 -1.421875 31.78125 -1.421875 \r\nQ 19.53125 -1.421875 13.0625 8.265625 \r\nQ 6.59375 17.96875 6.59375 36.375 \r\nQ 6.59375 54.828125 13.0625 64.515625 \r\nQ 19.53125 74.21875 31.78125 74.21875 \r\nz\r\n\" id=\"DejaVuSans-48\"/>\r\n       </defs>\r\n       <use xlink:href=\"#DejaVuSans-48\"/>\r\n      </g>\r\n     </g>\r\n    </g>\r\n    <g id=\"xtick_2\">\r\n     <g id=\"line2d_2\">\r\n      <g>\r\n       <use style=\"stroke:#000000;stroke-width:0.8;\" x=\"90.66131\" xlink:href=\"#mb26cbf41bb\" y=\"224.64\"/>\r\n      </g>\r\n     </g>\r\n     <g id=\"text_2\">\r\n      <!-- 5 -->\r\n      <g transform=\"translate(87.48006 239.238438)scale(0.1 -0.1)\">\r\n       <defs>\r\n        <path d=\"M 10.796875 72.90625 \r\nL 49.515625 72.90625 \r\nL 49.515625 64.59375 \r\nL 19.828125 64.59375 \r\nL 19.828125 46.734375 \r\nQ 21.96875 47.46875 24.109375 47.828125 \r\nQ 26.265625 48.1875 28.421875 48.1875 \r\nQ 40.625 48.1875 47.75 41.5 \r\nQ 54.890625 34.8125 54.890625 23.390625 \r\nQ 54.890625 11.625 47.5625 5.09375 \r\nQ 40.234375 -1.421875 26.90625 -1.421875 \r\nQ 22.3125 -1.421875 17.546875 -0.640625 \r\nQ 12.796875 0.140625 7.71875 1.703125 \r\nL 7.71875 11.625 \r\nQ 12.109375 9.234375 16.796875 8.0625 \r\nQ 21.484375 6.890625 26.703125 6.890625 \r\nQ 35.15625 6.890625 40.078125 11.328125 \r\nQ 45.015625 15.765625 45.015625 23.390625 \r\nQ 45.015625 31 40.078125 35.4375 \r\nQ 35.15625 39.890625 26.703125 39.890625 \r\nQ 22.75 39.890625 18.8125 39.015625 \r\nQ 14.890625 38.140625 10.796875 36.28125 \r\nz\r\n\" id=\"DejaVuSans-53\"/>\r\n       </defs>\r\n       <use xlink:href=\"#DejaVuSans-53\"/>\r\n      </g>\r\n     </g>\r\n    </g>\r\n    <g id=\"xtick_3\">\r\n     <g id=\"line2d_3\">\r\n      <g>\r\n       <use style=\"stroke:#000000;stroke-width:0.8;\" x=\"132.816938\" xlink:href=\"#mb26cbf41bb\" y=\"224.64\"/>\r\n      </g>\r\n     </g>\r\n     <g id=\"text_3\">\r\n      <!-- 10 -->\r\n      <g transform=\"translate(126.454438 239.238438)scale(0.1 -0.1)\">\r\n       <defs>\r\n        <path d=\"M 12.40625 8.296875 \r\nL 28.515625 8.296875 \r\nL 28.515625 63.921875 \r\nL 10.984375 60.40625 \r\nL 10.984375 69.390625 \r\nL 28.421875 72.90625 \r\nL 38.28125 72.90625 \r\nL 38.28125 8.296875 \r\nL 54.390625 8.296875 \r\nL 54.390625 0 \r\nL 12.40625 0 \r\nz\r\n\" id=\"DejaVuSans-49\"/>\r\n       </defs>\r\n       <use xlink:href=\"#DejaVuSans-49\"/>\r\n       <use x=\"63.623047\" xlink:href=\"#DejaVuSans-48\"/>\r\n      </g>\r\n     </g>\r\n    </g>\r\n    <g id=\"xtick_4\">\r\n     <g id=\"line2d_4\">\r\n      <g>\r\n       <use style=\"stroke:#000000;stroke-width:0.8;\" x=\"174.972567\" xlink:href=\"#mb26cbf41bb\" y=\"224.64\"/>\r\n      </g>\r\n     </g>\r\n     <g id=\"text_4\">\r\n      <!-- 15 -->\r\n      <g transform=\"translate(168.610067 239.238438)scale(0.1 -0.1)\">\r\n       <use xlink:href=\"#DejaVuSans-49\"/>\r\n       <use x=\"63.623047\" xlink:href=\"#DejaVuSans-53\"/>\r\n      </g>\r\n     </g>\r\n    </g>\r\n    <g id=\"xtick_5\">\r\n     <g id=\"line2d_5\">\r\n      <g>\r\n       <use style=\"stroke:#000000;stroke-width:0.8;\" x=\"217.128195\" xlink:href=\"#mb26cbf41bb\" y=\"224.64\"/>\r\n      </g>\r\n     </g>\r\n     <g id=\"text_5\">\r\n      <!-- 20 -->\r\n      <g transform=\"translate(210.765695 239.238438)scale(0.1 -0.1)\">\r\n       <defs>\r\n        <path d=\"M 19.1875 8.296875 \r\nL 53.609375 8.296875 \r\nL 53.609375 0 \r\nL 7.328125 0 \r\nL 7.328125 8.296875 \r\nQ 12.9375 14.109375 22.625 23.890625 \r\nQ 32.328125 33.6875 34.8125 36.53125 \r\nQ 39.546875 41.84375 41.421875 45.53125 \r\nQ 43.3125 49.21875 43.3125 52.78125 \r\nQ 43.3125 58.59375 39.234375 62.25 \r\nQ 35.15625 65.921875 28.609375 65.921875 \r\nQ 23.96875 65.921875 18.8125 64.3125 \r\nQ 13.671875 62.703125 7.8125 59.421875 \r\nL 7.8125 69.390625 \r\nQ 13.765625 71.78125 18.9375 73 \r\nQ 24.125 74.21875 28.421875 74.21875 \r\nQ 39.75 74.21875 46.484375 68.546875 \r\nQ 53.21875 62.890625 53.21875 53.421875 \r\nQ 53.21875 48.921875 51.53125 44.890625 \r\nQ 49.859375 40.875 45.40625 35.40625 \r\nQ 44.1875 33.984375 37.640625 27.21875 \r\nQ 31.109375 20.453125 19.1875 8.296875 \r\nz\r\n\" id=\"DejaVuSans-50\"/>\r\n       </defs>\r\n       <use xlink:href=\"#DejaVuSans-50\"/>\r\n       <use x=\"63.623047\" xlink:href=\"#DejaVuSans-48\"/>\r\n      </g>\r\n     </g>\r\n    </g>\r\n    <g id=\"xtick_6\">\r\n     <g id=\"line2d_6\">\r\n      <g>\r\n       <use style=\"stroke:#000000;stroke-width:0.8;\" x=\"259.283823\" xlink:href=\"#mb26cbf41bb\" y=\"224.64\"/>\r\n      </g>\r\n     </g>\r\n     <g id=\"text_6\">\r\n      <!-- 25 -->\r\n      <g transform=\"translate(252.921323 239.238438)scale(0.1 -0.1)\">\r\n       <use xlink:href=\"#DejaVuSans-50\"/>\r\n       <use x=\"63.623047\" xlink:href=\"#DejaVuSans-53\"/>\r\n      </g>\r\n     </g>\r\n    </g>\r\n    <g id=\"xtick_7\">\r\n     <g id=\"line2d_7\">\r\n      <g>\r\n       <use style=\"stroke:#000000;stroke-width:0.8;\" x=\"301.439452\" xlink:href=\"#mb26cbf41bb\" y=\"224.64\"/>\r\n      </g>\r\n     </g>\r\n     <g id=\"text_7\">\r\n      <!-- 30 -->\r\n      <g transform=\"translate(295.076952 239.238438)scale(0.1 -0.1)\">\r\n       <defs>\r\n        <path d=\"M 40.578125 39.3125 \r\nQ 47.65625 37.796875 51.625 33 \r\nQ 55.609375 28.21875 55.609375 21.1875 \r\nQ 55.609375 10.40625 48.1875 4.484375 \r\nQ 40.765625 -1.421875 27.09375 -1.421875 \r\nQ 22.515625 -1.421875 17.65625 -0.515625 \r\nQ 12.796875 0.390625 7.625 2.203125 \r\nL 7.625 11.71875 \r\nQ 11.71875 9.328125 16.59375 8.109375 \r\nQ 21.484375 6.890625 26.8125 6.890625 \r\nQ 36.078125 6.890625 40.9375 10.546875 \r\nQ 45.796875 14.203125 45.796875 21.1875 \r\nQ 45.796875 27.640625 41.28125 31.265625 \r\nQ 36.765625 34.90625 28.71875 34.90625 \r\nL 20.21875 34.90625 \r\nL 20.21875 43.015625 \r\nL 29.109375 43.015625 \r\nQ 36.375 43.015625 40.234375 45.921875 \r\nQ 44.09375 48.828125 44.09375 54.296875 \r\nQ 44.09375 59.90625 40.109375 62.90625 \r\nQ 36.140625 65.921875 28.71875 65.921875 \r\nQ 24.65625 65.921875 20.015625 65.03125 \r\nQ 15.375 64.15625 9.8125 62.3125 \r\nL 9.8125 71.09375 \r\nQ 15.4375 72.65625 20.34375 73.4375 \r\nQ 25.25 74.21875 29.59375 74.21875 \r\nQ 40.828125 74.21875 47.359375 69.109375 \r\nQ 53.90625 64.015625 53.90625 55.328125 \r\nQ 53.90625 49.265625 50.4375 45.09375 \r\nQ 46.96875 40.921875 40.578125 39.3125 \r\nz\r\n\" id=\"DejaVuSans-51\"/>\r\n       </defs>\r\n       <use xlink:href=\"#DejaVuSans-51\"/>\r\n       <use x=\"63.623047\" xlink:href=\"#DejaVuSans-48\"/>\r\n      </g>\r\n     </g>\r\n    </g>\r\n    <g id=\"xtick_8\">\r\n     <g id=\"line2d_8\">\r\n      <g>\r\n       <use style=\"stroke:#000000;stroke-width:0.8;\" x=\"343.59508\" xlink:href=\"#mb26cbf41bb\" y=\"224.64\"/>\r\n      </g>\r\n     </g>\r\n     <g id=\"text_8\">\r\n      <!-- 35 -->\r\n      <g transform=\"translate(337.23258 239.238438)scale(0.1 -0.1)\">\r\n       <use xlink:href=\"#DejaVuSans-51\"/>\r\n       <use x=\"63.623047\" xlink:href=\"#DejaVuSans-53\"/>\r\n      </g>\r\n     </g>\r\n    </g>\r\n    <g id=\"text_9\">\r\n     <!-- PTS -->\r\n     <g transform=\"translate(191.444531 252.916563)scale(0.1 -0.1)\">\r\n      <defs>\r\n       <path d=\"M 19.671875 64.796875 \r\nL 19.671875 37.40625 \r\nL 32.078125 37.40625 \r\nQ 38.96875 37.40625 42.71875 40.96875 \r\nQ 46.484375 44.53125 46.484375 51.125 \r\nQ 46.484375 57.671875 42.71875 61.234375 \r\nQ 38.96875 64.796875 32.078125 64.796875 \r\nz\r\nM 9.8125 72.90625 \r\nL 32.078125 72.90625 \r\nQ 44.34375 72.90625 50.609375 67.359375 \r\nQ 56.890625 61.8125 56.890625 51.125 \r\nQ 56.890625 40.328125 50.609375 34.8125 \r\nQ 44.34375 29.296875 32.078125 29.296875 \r\nL 19.671875 29.296875 \r\nL 19.671875 0 \r\nL 9.8125 0 \r\nz\r\n\" id=\"DejaVuSans-80\"/>\r\n       <path d=\"M -0.296875 72.90625 \r\nL 61.375 72.90625 \r\nL 61.375 64.59375 \r\nL 35.5 64.59375 \r\nL 35.5 0 \r\nL 25.59375 0 \r\nL 25.59375 64.59375 \r\nL -0.296875 64.59375 \r\nz\r\n\" id=\"DejaVuSans-84\"/>\r\n       <path d=\"M 53.515625 70.515625 \r\nL 53.515625 60.890625 \r\nQ 47.90625 63.578125 42.921875 64.890625 \r\nQ 37.9375 66.21875 33.296875 66.21875 \r\nQ 25.25 66.21875 20.875 63.09375 \r\nQ 16.5 59.96875 16.5 54.203125 \r\nQ 16.5 49.359375 19.40625 46.890625 \r\nQ 22.3125 44.4375 30.421875 42.921875 \r\nL 36.375 41.703125 \r\nQ 47.40625 39.59375 52.65625 34.296875 \r\nQ 57.90625 29 57.90625 20.125 \r\nQ 57.90625 9.515625 50.796875 4.046875 \r\nQ 43.703125 -1.421875 29.984375 -1.421875 \r\nQ 24.8125 -1.421875 18.96875 -0.25 \r\nQ 13.140625 0.921875 6.890625 3.21875 \r\nL 6.890625 13.375 \r\nQ 12.890625 10.015625 18.65625 8.296875 \r\nQ 24.421875 6.59375 29.984375 6.59375 \r\nQ 38.421875 6.59375 43.015625 9.90625 \r\nQ 47.609375 13.234375 47.609375 19.390625 \r\nQ 47.609375 24.75 44.3125 27.78125 \r\nQ 41.015625 30.8125 33.5 32.328125 \r\nL 27.484375 33.5 \r\nQ 16.453125 35.6875 11.515625 40.375 \r\nQ 6.59375 45.0625 6.59375 53.421875 \r\nQ 6.59375 63.09375 13.40625 68.65625 \r\nQ 20.21875 74.21875 32.171875 74.21875 \r\nQ 37.3125 74.21875 42.625 73.28125 \r\nQ 47.953125 72.359375 53.515625 70.515625 \r\nz\r\n\" id=\"DejaVuSans-83\"/>\r\n      </defs>\r\n      <use xlink:href=\"#DejaVuSans-80\"/>\r\n      <use x=\"60.302734\" xlink:href=\"#DejaVuSans-84\"/>\r\n      <use x=\"121.386719\" xlink:href=\"#DejaVuSans-83\"/>\r\n     </g>\r\n    </g>\r\n   </g>\r\n   <g id=\"matplotlib.axis_2\">\r\n    <g id=\"ytick_1\">\r\n     <g id=\"line2d_9\">\r\n      <defs>\r\n       <path d=\"M 0 0 \r\nL -3.5 0 \r\n\" id=\"m857cbfce10\" style=\"stroke:#000000;stroke-width:0.8;\"/>\r\n      </defs>\r\n      <g>\r\n       <use style=\"stroke:#000000;stroke-width:0.8;\" x=\"33.2875\" xlink:href=\"#m857cbfce10\" y=\"224.64\"/>\r\n      </g>\r\n     </g>\r\n     <g id=\"text_10\">\r\n      <!-- 0 -->\r\n      <g transform=\"translate(19.925 228.439219)scale(0.1 -0.1)\">\r\n       <use xlink:href=\"#DejaVuSans-48\"/>\r\n      </g>\r\n     </g>\r\n    </g>\r\n    <g id=\"ytick_2\">\r\n     <g id=\"line2d_10\">\r\n      <g>\r\n       <use style=\"stroke:#000000;stroke-width:0.8;\" x=\"33.2875\" xlink:href=\"#m857cbfce10\" y=\"185.567224\"/>\r\n      </g>\r\n     </g>\r\n     <g id=\"text_11\">\r\n      <!-- 20 -->\r\n      <g transform=\"translate(13.5625 189.366442)scale(0.1 -0.1)\">\r\n       <use xlink:href=\"#DejaVuSans-50\"/>\r\n       <use x=\"63.623047\" xlink:href=\"#DejaVuSans-48\"/>\r\n      </g>\r\n     </g>\r\n    </g>\r\n    <g id=\"ytick_3\">\r\n     <g id=\"line2d_11\">\r\n      <g>\r\n       <use style=\"stroke:#000000;stroke-width:0.8;\" x=\"33.2875\" xlink:href=\"#m857cbfce10\" y=\"146.494447\"/>\r\n      </g>\r\n     </g>\r\n     <g id=\"text_12\">\r\n      <!-- 40 -->\r\n      <g transform=\"translate(13.5625 150.293666)scale(0.1 -0.1)\">\r\n       <defs>\r\n        <path d=\"M 37.796875 64.3125 \r\nL 12.890625 25.390625 \r\nL 37.796875 25.390625 \r\nz\r\nM 35.203125 72.90625 \r\nL 47.609375 72.90625 \r\nL 47.609375 25.390625 \r\nL 58.015625 25.390625 \r\nL 58.015625 17.1875 \r\nL 47.609375 17.1875 \r\nL 47.609375 0 \r\nL 37.796875 0 \r\nL 37.796875 17.1875 \r\nL 4.890625 17.1875 \r\nL 4.890625 26.703125 \r\nz\r\n\" id=\"DejaVuSans-52\"/>\r\n       </defs>\r\n       <use xlink:href=\"#DejaVuSans-52\"/>\r\n       <use x=\"63.623047\" xlink:href=\"#DejaVuSans-48\"/>\r\n      </g>\r\n     </g>\r\n    </g>\r\n    <g id=\"ytick_4\">\r\n     <g id=\"line2d_12\">\r\n      <g>\r\n       <use style=\"stroke:#000000;stroke-width:0.8;\" x=\"33.2875\" xlink:href=\"#m857cbfce10\" y=\"107.421671\"/>\r\n      </g>\r\n     </g>\r\n     <g id=\"text_13\">\r\n      <!-- 60 -->\r\n      <g transform=\"translate(13.5625 111.22089)scale(0.1 -0.1)\">\r\n       <defs>\r\n        <path d=\"M 33.015625 40.375 \r\nQ 26.375 40.375 22.484375 35.828125 \r\nQ 18.609375 31.296875 18.609375 23.390625 \r\nQ 18.609375 15.53125 22.484375 10.953125 \r\nQ 26.375 6.390625 33.015625 6.390625 \r\nQ 39.65625 6.390625 43.53125 10.953125 \r\nQ 47.40625 15.53125 47.40625 23.390625 \r\nQ 47.40625 31.296875 43.53125 35.828125 \r\nQ 39.65625 40.375 33.015625 40.375 \r\nz\r\nM 52.59375 71.296875 \r\nL 52.59375 62.3125 \r\nQ 48.875 64.0625 45.09375 64.984375 \r\nQ 41.3125 65.921875 37.59375 65.921875 \r\nQ 27.828125 65.921875 22.671875 59.328125 \r\nQ 17.53125 52.734375 16.796875 39.40625 \r\nQ 19.671875 43.65625 24.015625 45.921875 \r\nQ 28.375 48.1875 33.59375 48.1875 \r\nQ 44.578125 48.1875 50.953125 41.515625 \r\nQ 57.328125 34.859375 57.328125 23.390625 \r\nQ 57.328125 12.15625 50.6875 5.359375 \r\nQ 44.046875 -1.421875 33.015625 -1.421875 \r\nQ 20.359375 -1.421875 13.671875 8.265625 \r\nQ 6.984375 17.96875 6.984375 36.375 \r\nQ 6.984375 53.65625 15.1875 63.9375 \r\nQ 23.390625 74.21875 37.203125 74.21875 \r\nQ 40.921875 74.21875 44.703125 73.484375 \r\nQ 48.484375 72.75 52.59375 71.296875 \r\nz\r\n\" id=\"DejaVuSans-54\"/>\r\n       </defs>\r\n       <use xlink:href=\"#DejaVuSans-54\"/>\r\n       <use x=\"63.623047\" xlink:href=\"#DejaVuSans-48\"/>\r\n      </g>\r\n     </g>\r\n    </g>\r\n    <g id=\"ytick_5\">\r\n     <g id=\"line2d_13\">\r\n      <g>\r\n       <use style=\"stroke:#000000;stroke-width:0.8;\" x=\"33.2875\" xlink:href=\"#m857cbfce10\" y=\"68.348895\"/>\r\n      </g>\r\n     </g>\r\n     <g id=\"text_14\">\r\n      <!-- 80 -->\r\n      <g transform=\"translate(13.5625 72.148114)scale(0.1 -0.1)\">\r\n       <defs>\r\n        <path d=\"M 31.78125 34.625 \r\nQ 24.75 34.625 20.71875 30.859375 \r\nQ 16.703125 27.09375 16.703125 20.515625 \r\nQ 16.703125 13.921875 20.71875 10.15625 \r\nQ 24.75 6.390625 31.78125 6.390625 \r\nQ 38.8125 6.390625 42.859375 10.171875 \r\nQ 46.921875 13.96875 46.921875 20.515625 \r\nQ 46.921875 27.09375 42.890625 30.859375 \r\nQ 38.875 34.625 31.78125 34.625 \r\nz\r\nM 21.921875 38.8125 \r\nQ 15.578125 40.375 12.03125 44.71875 \r\nQ 8.5 49.078125 8.5 55.328125 \r\nQ 8.5 64.0625 14.71875 69.140625 \r\nQ 20.953125 74.21875 31.78125 74.21875 \r\nQ 42.671875 74.21875 48.875 69.140625 \r\nQ 55.078125 64.0625 55.078125 55.328125 \r\nQ 55.078125 49.078125 51.53125 44.71875 \r\nQ 48 40.375 41.703125 38.8125 \r\nQ 48.828125 37.15625 52.796875 32.3125 \r\nQ 56.78125 27.484375 56.78125 20.515625 \r\nQ 56.78125 9.90625 50.3125 4.234375 \r\nQ 43.84375 -1.421875 31.78125 -1.421875 \r\nQ 19.734375 -1.421875 13.25 4.234375 \r\nQ 6.78125 9.90625 6.78125 20.515625 \r\nQ 6.78125 27.484375 10.78125 32.3125 \r\nQ 14.796875 37.15625 21.921875 38.8125 \r\nz\r\nM 18.3125 54.390625 \r\nQ 18.3125 48.734375 21.84375 45.5625 \r\nQ 25.390625 42.390625 31.78125 42.390625 \r\nQ 38.140625 42.390625 41.71875 45.5625 \r\nQ 45.3125 48.734375 45.3125 54.390625 \r\nQ 45.3125 60.0625 41.71875 63.234375 \r\nQ 38.140625 66.40625 31.78125 66.40625 \r\nQ 25.390625 66.40625 21.84375 63.234375 \r\nQ 18.3125 60.0625 18.3125 54.390625 \r\nz\r\n\" id=\"DejaVuSans-56\"/>\r\n       </defs>\r\n       <use xlink:href=\"#DejaVuSans-56\"/>\r\n       <use x=\"63.623047\" xlink:href=\"#DejaVuSans-48\"/>\r\n      </g>\r\n     </g>\r\n    </g>\r\n    <g id=\"ytick_6\">\r\n     <g id=\"line2d_14\">\r\n      <g>\r\n       <use style=\"stroke:#000000;stroke-width:0.8;\" x=\"33.2875\" xlink:href=\"#m857cbfce10\" y=\"29.276119\"/>\r\n      </g>\r\n     </g>\r\n     <g id=\"text_15\">\r\n      <!-- 100 -->\r\n      <g transform=\"translate(7.2 33.075337)scale(0.1 -0.1)\">\r\n       <use xlink:href=\"#DejaVuSans-49\"/>\r\n       <use x=\"63.623047\" xlink:href=\"#DejaVuSans-48\"/>\r\n       <use x=\"127.246094\" xlink:href=\"#DejaVuSans-48\"/>\r\n      </g>\r\n     </g>\r\n    </g>\r\n   </g>\r\n   <g id=\"patch_25\">\r\n    <path d=\"M 33.2875 224.64 \r\nL 33.2875 7.2 \r\n\" style=\"fill:none;stroke:#000000;stroke-linecap:square;stroke-linejoin:miter;stroke-width:0.8;\"/>\r\n   </g>\r\n   <g id=\"patch_26\">\r\n    <path d=\"M 368.0875 224.64 \r\nL 368.0875 7.2 \r\n\" style=\"fill:none;stroke:#000000;stroke-linecap:square;stroke-linejoin:miter;stroke-width:0.8;\"/>\r\n   </g>\r\n   <g id=\"patch_27\">\r\n    <path d=\"M 33.2875 224.64 \r\nL 368.0875 224.64 \r\n\" style=\"fill:none;stroke:#000000;stroke-linecap:square;stroke-linejoin:miter;stroke-width:0.8;\"/>\r\n   </g>\r\n   <g id=\"patch_28\">\r\n    <path d=\"M 33.2875 7.2 \r\nL 368.0875 7.2 \r\n\" style=\"fill:none;stroke:#000000;stroke-linecap:square;stroke-linejoin:miter;stroke-width:0.8;\"/>\r\n   </g>\r\n  </g>\r\n </g>\r\n <defs>\r\n  <clipPath id=\"p628a8945df\">\r\n   <rect height=\"217.44\" width=\"334.8\" x=\"33.2875\" y=\"7.2\"/>\r\n  </clipPath>\r\n </defs>\r\n</svg>\r\n",
            "image/png": "[encoded data removed]"
          },
          "metadata": {
            "needs_background": "light"
          }
        }
      ]
    }
  ]
}