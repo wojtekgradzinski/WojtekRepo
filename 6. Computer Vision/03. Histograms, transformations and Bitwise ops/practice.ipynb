{
 "cells": [
  {
   "cell_type": "code",
   "execution_count": 2,
   "source": [
    "import cv2\r\n",
    "import random"
   ],
   "outputs": [],
   "metadata": {}
  },
  {
   "cell_type": "code",
   "execution_count": null,
   "source": [
    "img = cv2.imread('Green_lion.jpg',1)\r\n"
   ],
   "outputs": [],
   "metadata": {}
  },
  {
   "cell_type": "code",
   "execution_count": null,
   "source": [
    "img = cv2.resize(img,(0,0), fx= 0.5 , fy= 0.5)\r\n",
    "cv2.imshow('image',img)\r\n",
    "cv2.waitKey(0)\r\n",
    "cv2.destroyAllWindows()"
   ],
   "outputs": [],
   "metadata": {}
  },
  {
   "cell_type": "code",
   "execution_count": null,
   "source": [
    "#save the image\r\n",
    "cv2.imwrite('wojtek.jpg', img)"
   ],
   "outputs": [],
   "metadata": {}
  },
  {
   "cell_type": "code",
   "execution_count": null,
   "source": [
    "#rotate the image\r\n",
    "\r\n",
    "img_rotate = cv2.rotate(img,cv2.cv2.ROTATE_90_CLOCKWISE)\r\n",
    "cv2.imshow('image',img_rotate)\r\n",
    "cv2.waitKey(0)\r\n",
    "cv2.destroyAllWindows()"
   ],
   "outputs": [],
   "metadata": {}
  },
  {
   "cell_type": "code",
   "execution_count": null,
   "source": [
    "#slicing image\r\n",
    "cv2.imshow('image',img[100:250][50:450])\r\n",
    "cv2.waitKey(0)\r\n",
    "cv2.destroyAllWindows()"
   ],
   "outputs": [],
   "metadata": {}
  },
  {
   "cell_type": "code",
   "execution_count": null,
   "source": [
    "#adding random pixels\r\n",
    "img_c = img.copy()\r\n",
    "\r\n",
    "for i in range(200):\r\n",
    "    for j in range(img.shape[0]):\r\n",
    "        img_c[i][j] = [random.randint(0,255), random.randint(0,255), random.randint(0,255)]"
   ],
   "outputs": [],
   "metadata": {}
  },
  {
   "cell_type": "code",
   "execution_count": null,
   "source": [
    "cv2.imshow('image',img_c)\r\n",
    "cv2.waitKey(0)\r\n",
    "cv2.destroyAllWindows()"
   ],
   "outputs": [],
   "metadata": {}
  },
  {
   "cell_type": "code",
   "execution_count": null,
   "source": [
    "print(img.shape)\r\n",
    "print(img.shape[1])"
   ],
   "outputs": [],
   "metadata": {}
  },
  {
   "cell_type": "code",
   "execution_count": null,
   "source": [
    "#copy part of an image to an image\r\n",
    "img = cv2.imread('Green_lion.jpg',1)\r\n",
    "tag = img[200:400, 750:950]    #mi has to be the same rang betwwen numbers i.e between 200:400 is the smame range as 100:300 czyli 200 pixels\r\n",
    "img[100:300, 750:950] = tag\r\n",
    "\r\n",
    "cv2.imshow('Image', img)\r\n",
    "cv2.waitKey(0)\r\n",
    "cv2.destroyAllWindows()"
   ],
   "outputs": [],
   "metadata": {}
  },
  {
   "cell_type": "code",
   "execution_count": null,
   "source": [
    "print(img.shape)"
   ],
   "outputs": [],
   "metadata": {}
  },
  {
   "cell_type": "code",
   "execution_count": 2,
   "source": [
    "import numpy as np\r\n",
    "import cv2"
   ],
   "outputs": [],
   "metadata": {}
  },
  {
   "cell_type": "code",
   "execution_count": 16,
   "source": [
    "\r\n",
    "#capture video\r\n",
    "\r\n",
    "cap = cv2.VideoCapture(0)\r\n",
    "\r\n",
    "while True:\r\n",
    "  ret,frame = cap.read()\r\n",
    "  \r\n",
    "  #3 is width 4 is height this code get the frame measurments\r\n",
    "  width  =int(cap.get(3))\r\n",
    "  height  =int(cap.get(4))\r\n",
    "  \r\n",
    "  \r\n",
    "  image =np.zeros(frame.shape, np.uint8)\r\n",
    "  \r\n",
    "  smaller_frame = cv2.resize(frame,(0,0), fx=0.5, fy=0.5)\r\n",
    "  image[:height//2 , :width//2] = cv2.rotate(smaller_frame, cv2.cv2.ROTATE_180)\r\n",
    "  image[height//2: , :width//2] = smaller_frame\r\n",
    "  image[:height//2 , width//2:] = smaller_frame\r\n",
    "  image[height//2: , width//2:] = cv2.rotate(smaller_frame, cv2.cv2.ROTATE_180)\r\n",
    "  \r\n",
    "  \r\n",
    "  cv2.imshow('frame', image)\r\n",
    "  if cv2.waitKey(1) == ord('q'):\r\n",
    "      break\r\n",
    "  \r\n",
    "cap.release()\r\n",
    "cv2.destroyAllWindows()\r\n",
    "    "
   ],
   "outputs": [],
   "metadata": {}
  },
  {
   "cell_type": "code",
   "execution_count": 19,
   "source": [
    "cap = cv2.VideoCapture(0)\r\n",
    "\r\n",
    "while True:\r\n",
    "  ret,frame = cap.read()\r\n",
    "  \r\n",
    "  #3 is width 4 is height this code get the frame measurments\r\n",
    "  width  =int(cap.get(3))\r\n",
    "  height  =int(cap.get(4))\r\n",
    "  \r\n",
    "  img  = cv2.line(frame, (0,0), (width,height),(255,0,0), 10)\r\n",
    "  img  = cv2.line(img, (0,height),(width,0), (0,0,255), 18)\r\n",
    "  img = cv2.rectangle(img,(100,100), (200,200), (128,128,128), 2)\r\n",
    "  img - cv2.circle(img,(300,300), 150, (25,0,0),5) \r\n",
    "  font = cv2.FONT_HERSHEY_SIMPLEX\r\n",
    "  img = cv2.putText(img, 'WOJTEK', (250, height -20),font,1, (255,255,255), 5, cv2.LINE_AA)\r\n",
    "  \r\n",
    "  cv2.imshow('frame', img)\r\n",
    "  \r\n",
    "  if cv2.waitKey(1) == ord('q'):\r\n",
    "      break\r\n",
    "  \r\n",
    "cap.release()\r\n",
    "cv2.destroyAllWindows()"
   ],
   "outputs": [],
   "metadata": {}
  },
  {
   "cell_type": "code",
   "execution_count": 19,
   "source": [
    "#Tinsae code\r\n",
    "\r\n",
    "import cv2\r\n",
    "import numpy as np \r\n",
    "\r\n",
    "\r\n",
    "image = cv2.imread('Green_lion.jpg')\r\n",
    "background = cv2.imread('night1.jpg')\r\n",
    "\r\n",
    "#background = np.ones(image.shape,dtype=np.uint8)*144\r\n",
    "\r\n",
    "#changing the background size equal to the image\r\n",
    "background = cv2.resize(background, (image.shape[1],image.shape[0]), interpolation = cv2.INTER_AREA)\r\n",
    "background = cv2.cvtColor(background,cv2.COLOR_BGR2HSV)\r\n",
    "\r\n",
    "hsv = cv2.cvtColor(image, cv2.COLOR_BGR2HSV)\r\n",
    "\r\n",
    "lower_green = np.array([36,0,0])\r\n",
    "upper_green = np.array([86, 255,255])\r\n",
    "\r\n",
    "#mask for the background\r\n",
    "mask = cv2.inRange(hsv, lower_green, upper_green)\r\n",
    "\r\n",
    "mask_inv = cv2.bitwise_not(mask)\r\n",
    "\r\n",
    "background = cv2.bitwise_and(background,background, mask=mask)\r\n",
    "target = cv2.bitwise_and(hsv,hsv, mask=mask_inv)\r\n",
    "target = cv2.bitwise_or(target,background)\r\n",
    "print(mask.shape)\r\n",
    "BGR = cv2.cvtColor(target,cv2.COLOR_HSV2BGR)\r\n",
    "cv2.imshow('lion',BGR)\r\n",
    "cv2.waitKey(0)\r\n",
    "cv2.destroyAllWindows()"
   ],
   "outputs": [
    {
     "output_type": "stream",
     "name": "stdout",
     "text": [
      "(720, 1280)\n"
     ]
    }
   ],
   "metadata": {}
  },
  {
   "cell_type": "code",
   "execution_count": 14,
   "source": [
    "cap = cv2.VideoCapture(0)\r\n",
    "\r\n",
    "while True:\r\n",
    "  ret,frame = cap.read()\r\n",
    "  \r\n",
    "  #3 is width 4 is height this code get the frame measurments\r\n",
    "  width  =int(cap.get(3))\r\n",
    "  height  =int(cap.get(4))\r\n",
    "  \r\n",
    "  \r\n",
    "  \r\n",
    "  hsv = cv2.cvtColor(frame, cv2.COLOR_BGR2HSV)\r\n",
    "  lower_blue = np.array([90,50,50])\r\n",
    "  upper_blue = np.array([130,255,255])\r\n",
    "  \r\n",
    "  mask = cv2.inRange(hsv, lower_blue, upper_blue)\r\n",
    "  \r\n",
    "  result = cv2.bitwise_and(frame, frame, mask=mask )\r\n",
    "  \r\n",
    "  cv2.imshow('frame', result)\r\n",
    "  \r\n",
    "  if cv2.waitKey(1) == ord('q'):\r\n",
    "      break\r\n",
    "  \r\n",
    "cap.release()\r\n",
    "cv2.destroyAllWindows()"
   ],
   "outputs": [],
   "metadata": {}
  },
  {
   "cell_type": "code",
   "execution_count": null,
   "source": [],
   "outputs": [],
   "metadata": {}
  }
 ],
 "metadata": {
  "orig_nbformat": 4,
  "language_info": {
   "name": "python",
   "version": "3.8.11",
   "mimetype": "text/x-python",
   "codemirror_mode": {
    "name": "ipython",
    "version": 3
   },
   "pygments_lexer": "ipython3",
   "nbconvert_exporter": "python",
   "file_extension": ".py"
  },
  "kernelspec": {
   "name": "python3",
   "display_name": "Python 3.8.11 64-bit ('cv': conda)"
  },
  "interpreter": {
   "hash": "1c5fa964adacad1a748d85cbae08cf2374ebb924ae513411bb4d5c6ebb03aa36"
  }
 },
 "nbformat": 4,
 "nbformat_minor": 2
}