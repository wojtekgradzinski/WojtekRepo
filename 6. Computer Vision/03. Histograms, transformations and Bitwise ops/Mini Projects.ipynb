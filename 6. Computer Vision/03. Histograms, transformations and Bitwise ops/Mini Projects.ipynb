{
 "cells": [
  {
   "cell_type": "markdown",
   "source": [
    "# Mini projects"
   ],
   "metadata": {}
  },
  {
   "cell_type": "markdown",
   "source": [
    "## Green screen"
   ],
   "metadata": {}
  },
  {
   "cell_type": "markdown",
   "source": [
    "1. Create a method to process an image with a green screen, replace the green screen with a background image\n",
    "\n",
    "1. Adapt it to use your webcam and try it out, you might need to change the green screen to another color that you can use as your backgrouns (for example maybe white if you have a white wall behind you)"
   ],
   "metadata": {}
  },
  {
   "cell_type": "markdown",
   "source": [
    "## Color images to black and white and back!"
   ],
   "metadata": {}
  },
  {
   "cell_type": "markdown",
   "source": [
    "1. Using a color image, load it with openCV then transform it to HSV and make it Grayscale (without transforming it to grayscale!)\n",
    "1. Convert the grayscale image back to color."
   ],
   "metadata": {}
  },
  {
   "cell_type": "markdown",
   "source": [
    "## Day or night?"
   ],
   "metadata": {}
  },
  {
   "cell_type": "markdown",
   "source": [
    "1. Using all you have learned so far about computer vision, implement at least one method (or more!) to check if a certain image corresponds to a day or a night image.\n",
    "1. Use different images to check if your approach is working"
   ],
   "metadata": {}
  },
  {
   "cell_type": "code",
   "execution_count": null,
   "source": [
    "import cv2\r\n",
    "import numpy as np\r\n",
    "import matplotlib.pyplot as plt\r\n",
    "%matplotlib inline\r\n",
    "%config InlineBackend.figure_format = 'retina'"
   ],
   "outputs": [],
   "metadata": {}
  },
  {
   "cell_type": "code",
   "execution_count": null,
   "source": [
    "background = cv2.imread('back.jpg')\r\n",
    "\r\n",
    "background = cv2.cvtColor(background, cv2.COLOR_BGR2RGB)\r\n",
    "\r\n",
    "\r\n",
    "plt.imshow(background)\r\n"
   ],
   "outputs": [],
   "metadata": {}
  },
  {
   "cell_type": "code",
   "execution_count": 1,
   "source": [
    "import numpy as np\r\n",
    "import cv2\r\n",
    "\r\n",
    "#webcam input\r\n",
    "cap = cv2.VideoCapture(0)\r\n",
    "ret, frame = cap.read()\r\n",
    "\r\n",
    "#setting the backround image size equal to the webcam frame size\r\n",
    "background = cv2.imread('img/day2.jpg')\r\n",
    "background = cv2.resize(background, (frame.shape[1],frame.shape[0]), interpolation = cv2.INTER_AREA)\r\n",
    "background = cv2.cvtColor(background,cv2.COLOR_BGR2HSV)\r\n",
    "\r\n",
    "\r\n",
    "\r\n",
    "while True:\r\n",
    "    ret, frame = cap.read()\r\n",
    "\r\n",
    "    hsv = cv2.cvtColor(frame,cv2.COLOR_BGR2HSV)\r\n",
    "    \r\n",
    "    lower_green = np.array([36,0,0])\r\n",
    "    upper_green = np.array([86, 255,255])\r\n",
    "\r\n",
    "    #mask for the background\r\n",
    "    mask = cv2.inRange(hsv, lower_green, upper_green)\r\n",
    "\r\n",
    "    #mask_inv for the webcam input\r\n",
    "    mask_inv = cv2.bitwise_not(mask)\r\n",
    "\r\n",
    "    back = cv2.bitwise_and(background,background, mask=mask)\r\n",
    "    target = cv2.bitwise_and(hsv,hsv, mask=mask_inv)\r\n",
    "    target = cv2.bitwise_or(target,back)\r\n",
    "\r\n",
    "    BGR = cv2.cvtColor(target,cv2.COLOR_HSV2BGR)\r\n",
    "\r\n",
    "\r\n",
    "\r\n",
    "    cv2.imshow('lion',BGR)\r\n",
    "\r\n",
    "    if cv2.waitKey(1) == ord('q'):\r\n",
    "        break\r\n",
    "\r\n",
    "cap.release()\r\n",
    "cv2.destroyAllWindows()"
   ],
   "outputs": [],
   "metadata": {}
  }
 ],
 "metadata": {
  "kernelspec": {
   "name": "python3",
   "display_name": "Python 3.8.11 64-bit ('cv': conda)"
  },
  "language_info": {
   "codemirror_mode": {
    "name": "ipython",
    "version": 3
   },
   "file_extension": ".py",
   "mimetype": "text/x-python",
   "name": "python",
   "nbconvert_exporter": "python",
   "pygments_lexer": "ipython3",
   "version": "3.8.11"
  },
  "interpreter": {
   "hash": "1c5fa964adacad1a748d85cbae08cf2374ebb924ae513411bb4d5c6ebb03aa36"
  }
 },
 "nbformat": 4,
 "nbformat_minor": 4
}