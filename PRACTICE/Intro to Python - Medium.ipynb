{
 "cells": [
  {
   "cell_type": "markdown",
   "metadata": {},
   "source": [
    "Here you have a collection of guided exercises for the first class on Python. <br>\n",
    "The exercises are divided by topic, following the topics reviewed during the theory session, and for each topic you have some mandatory exercises, and other optional exercises, which you are invited to do if you still have time after the mandatory exercises. <br>\n",
    "\n",
    "Remember that you have 5 hours to solve these exercises, after which we will review the most interesting exercises together. If you don't finish all the exercises, you can work on them tonightor tomorrow. \n",
    "\n",
    "At the end of the class, we will upload the code with the solutions of the exercises so that you can review them again if needed. If you still have not finished some exercises, try to do them first by yourself, before taking a look at the solutions: you are doing these exercises for yourself, so it is always the best to do them your way first, as it is the fastest way to learn!"
   ]
  },
  {
   "cell_type": "markdown",
   "metadata": {},
   "source": [
    "**Exercise 1.3 (🌶️):** You look at the clock and see that it is currently 14.00h. You set an alarm to go off 535 hours later. At what time will the alarm go off? Write a program that prints the answer. Hint: for the best solution, you will need the modulo operator. Second hint: The answer is 21.00h, but of course, this exercise is not about the answer, but about how you get it."
   ]
  },
  {
   "cell_type": "code",
   "execution_count": null,
   "metadata": {},
   "outputs": [],
   "source": [
    "#Your Code Here\n",
    "\n",
    "current= int(input('what time is it?'))\n",
    "\n",
    "\n",
    "\n",
    "forward = 535\n",
    "\n",
    "\n",
    "divisor = 535%24\n",
    "\n",
    "time = current + divisor\n",
    "\n",
    "print(f'time in 535 hours is: {time}')\n",
    "\n",
    "\n",
    "\n",
    "\n"
   ]
  },
  {
   "cell_type": "code",
   "execution_count": null,
   "metadata": {},
   "outputs": [],
   "source": []
  },
  {
   "cell_type": "markdown",
   "metadata": {},
   "source": [
    "**Exercise 5.4 (🌶️):** \"99 bottles of beer\" is a traditional song in the United States and Canada. It is popular to sing on long trips, as it has a very repetitive format which is easy to memorize, and can take a long time to sing. The song's simple lyrics are as follows: \"99 bottles of beer on the wall, 99 bottles of beer. Take one down, pass it around, 98 bottles of beer on the wall.\" The same verse is repeated, each time with one fewer bottle. The song is completed when the singer or singers reach zero. Write a function that generates and prints all the verses of the song (though you might start a bit lower, for instance with 10 bottles). Make sure that your loop is not endless, and that you use the proper inflection for the word \"bottle\"."
   ]
  },
  {
   "cell_type": "code",
   "execution_count": 5,
   "metadata": {},
   "outputs": [
    {
     "name": "stdout",
     "output_type": "stream",
     "text": [
      "How many beers do you like? 7\n",
      " 7 bottles of beer on the wall, 7 bottles of beer. Take one down, pass it around,6 bottles of beer in the wall\n",
      " 6 bottles of beer on the wall, 6 bottles of beer. Take one down, pass it around,5 bottles of beer in the wall\n",
      " 5 bottles of beer on the wall, 5 bottles of beer. Take one down, pass it around,4 bottles of beer in the wall\n",
      " 4 bottles of beer on the wall, 4 bottles of beer. Take one down, pass it around,3 bottles of beer in the wall\n",
      " 3 bottles of beer on the wall, 3 bottles of beer. Take one down, pass it around,2 bottles of beer in the wall\n",
      " 2 bottles of beer on the wall, 2 bottles of beer. Take one down, pass it around,1 bottles of beer in the wall\n",
      " 1 bottles of beer on the wall, 1 bottles of beer. Take one down, pass it around,0 bottles of beer in the wall\n"
     ]
    }
   ],
   "source": [
    "#Your Code Here\n",
    "\n",
    "num = int(input('How many beers do you like? '))\n",
    "\n",
    "\n",
    "def beersong():\n",
    "    \n",
    "     \n",
    "    for i in range(num,0,-1):\n",
    "        print(f' {i} bottles of beer on the wall, {i} bottles of beer. Take one down, pass it around,{i -1} bottles of beer in the wall')\n",
    "        \n",
    "    \n",
    "   \n",
    "  \n",
    "    \n",
    "    \"\"\"\n",
    "    5 bottles of beer on the wall, 5 bottles of beer. Take one down, pass it around, 4 bottles of beer in the wall\n",
    "    4 bottles of beer on the wall, 4 bottles of beer. Take one down, pass it around, 3 bottles of beer in the wall\n",
    "    3 bottles of beer on the wall, 3 bottles of beer. Take one down, pass it around, 2 bottles of beer in the wall\n",
    "    2 bottles of beer on the wall, 2 bottles of beer. Take one down, pass it around, 1 bottle of beer in the wall\n",
    "    1 bottle of beer on the wall, 1 bottle of beer. Take one down, pass it around, 0 bottles of beer in the wall\n",
    "    \"\"\"\n",
    "beersong()   \n",
    "\n"
   ]
  },
  {
   "cell_type": "code",
   "execution_count": null,
   "metadata": {},
   "outputs": [],
   "source": []
  },
  {
   "cell_type": "markdown",
   "metadata": {},
   "source": [
    "**Exercise 5.5 (🌶️):** The Fibonacci sequence is a sequence of numbers that starts with 1, followed by 1 again. Every next number is the sum of the two previous numbers. I.e., the sequence starts with 1, 1, 2, 3, 5, 8, 13, 21,... Write a function that calculates and prints the Fibonacci sequence until the numbers get higher than a `maximum`."
   ]
  },
  {
   "cell_type": "code",
   "execution_count": 11,
   "metadata": {},
   "outputs": [
    {
     "name": "stdout",
     "output_type": "stream",
     "text": [
      "How many fibo would you like to generate?  6\n",
      "0\n",
      "1\n",
      "1\n",
      "2\n",
      "3\n",
      "5\n"
     ]
    }
   ],
   "source": [
    "#Your Code Here\n",
    "def fibonacci(i):\n",
    "    \n",
    "    if i == 0:\n",
    "        return 0\n",
    "    elif i == 1:\n",
    "        return 1\n",
    "    else:\n",
    "        \n",
    "        return fibonacci(i-2) + fibonacci(i-1)\n",
    "    \n",
    "num = int(input('How many fibo would you like to generate?  '))\n",
    "    \n",
    "for x in range(num):\n",
    "    print(fibonacci(x))\n",
    "        \n",
    "    \n",
    "    \n",
    "    \n",
    "    \n",
    "    \"\"\"\n",
    "    Fibonacci sequence up to 22 :\n",
    "    0 , 1 , 1 , 2 , 3 , 5 , 8 , 13 , 21\n",
    "    \"\"\"\n",
    "   \n",
    "\n"
   ]
  },
  {
   "cell_type": "markdown",
   "metadata": {},
   "source": [
    "**Exercise 5.8 (🌶️):** A, B, C, and D are all different digits. The number DCBA is equal to 4 times the number ABCD. What are the digits? Note: to make ABCD and DCBA conventional numbers, neither A nor D can be zero. Use a quadruple-nested loop."
   ]
  },
  {
   "cell_type": "code",
   "execution_count": null,
   "metadata": {},
   "outputs": [],
   "source": [
    "#Your Code Here\n",
    "# Solve 4*ABCD == DCBA\n",
    "def nested_nest():\n",
    "    \n",
    "    \"\"\"\n",
    "    A = 2\n",
    "    B = 1\n",
    "    C = 7\n",
    "    D = 8\n",
    "    \"\"\"\n",
    "    return\n",
    "    "
   ]
  }
 ],
 "metadata": {
  "kernelspec": {
   "display_name": "Python 3",
   "language": "python",
   "name": "python3"
  }
 },
 "nbformat": 4,
 "nbformat_minor": 4
}
