{
 "metadata": {
  "language_info": {
   "codemirror_mode": {
    "name": "ipython",
    "version": 3
   },
   "file_extension": ".py",
   "mimetype": "text/x-python",
   "name": "python",
   "nbconvert_exporter": "python",
   "pygments_lexer": "ipython3",
   "version": "3.8.10"
  },
  "orig_nbformat": 2,
  "kernelspec": {
   "name": "python3810jvsc74a57bd0273e4cd330c9365d0d8fc6d704b08084cf297120c969e21fb6416b510b92ba85",
   "display_name": "Python 3.8.10 64-bit ('wojtek': conda)"
  }
 },
 "nbformat": 4,
 "nbformat_minor": 2,
 "cells": [
  {
   "cell_type": "code",
   "execution_count": 60,
   "metadata": {
    "tags": []
   },
   "outputs": [
    {
     "output_type": "error",
     "ename": "ValueError",
     "evalue": "Could not interpret input 'project_names'",
     "traceback": [
      "\u001b[1;31m---------------------------------------------------------------------------\u001b[0m",
      "\u001b[1;31mValueError\u001b[0m                                Traceback (most recent call last)",
      "\u001b[1;32m<ipython-input-60-c2a8c73d5cc5>\u001b[0m in \u001b[0;36m<module>\u001b[1;34m\u001b[0m\n\u001b[0;32m     54\u001b[0m \u001b[0mdf\u001b[0m \u001b[1;33m=\u001b[0m \u001b[0mpd\u001b[0m\u001b[1;33m.\u001b[0m\u001b[0mDataFrame\u001b[0m\u001b[1;33m(\u001b[0m\u001b[0mdf\u001b[0m\u001b[1;33m,\u001b[0m \u001b[0mcolumns\u001b[0m \u001b[1;33m=\u001b[0m \u001b[1;33m[\u001b[0m \u001b[1;34m\"DeFi Name:\"\u001b[0m\u001b[1;33m,\u001b[0m  \u001b[1;34m\"Values Locekd in $ Billions\"\u001b[0m\u001b[1;33m]\u001b[0m\u001b[1;33m)\u001b[0m\u001b[1;33m\u001b[0m\u001b[1;33m\u001b[0m\u001b[0m\n\u001b[0;32m     55\u001b[0m \u001b[1;33m\u001b[0m\u001b[0m\n\u001b[1;32m---> 56\u001b[1;33m \u001b[0msns\u001b[0m\u001b[1;33m.\u001b[0m\u001b[0mbarplot\u001b[0m\u001b[1;33m(\u001b[0m\u001b[0mx\u001b[0m\u001b[1;33m=\u001b[0m \u001b[1;34m'project_names'\u001b[0m\u001b[1;33m,\u001b[0m \u001b[0my\u001b[0m\u001b[1;33m=\u001b[0m\u001b[1;34m'values'\u001b[0m\u001b[1;33m,\u001b[0m \u001b[0mdata\u001b[0m \u001b[1;33m=\u001b[0m \u001b[0mdf\u001b[0m\u001b[1;33m,\u001b[0m \u001b[0mcolor\u001b[0m\u001b[1;33m=\u001b[0m \u001b[1;34m'blue'\u001b[0m \u001b[1;33m)\u001b[0m\u001b[1;33m\u001b[0m\u001b[1;33m\u001b[0m\u001b[0m\n\u001b[0m\u001b[0;32m     57\u001b[0m \u001b[1;33m\u001b[0m\u001b[0m\n\u001b[0;32m     58\u001b[0m \u001b[1;33m\u001b[0m\u001b[0m\n",
      "\u001b[1;32m~\\anaconda3\\envs\\wojtek\\lib\\site-packages\\seaborn\\_decorators.py\u001b[0m in \u001b[0;36minner_f\u001b[1;34m(*args, **kwargs)\u001b[0m\n\u001b[0;32m     44\u001b[0m             )\n\u001b[0;32m     45\u001b[0m         \u001b[0mkwargs\u001b[0m\u001b[1;33m.\u001b[0m\u001b[0mupdate\u001b[0m\u001b[1;33m(\u001b[0m\u001b[1;33m{\u001b[0m\u001b[0mk\u001b[0m\u001b[1;33m:\u001b[0m \u001b[0marg\u001b[0m \u001b[1;32mfor\u001b[0m \u001b[0mk\u001b[0m\u001b[1;33m,\u001b[0m \u001b[0marg\u001b[0m \u001b[1;32min\u001b[0m \u001b[0mzip\u001b[0m\u001b[1;33m(\u001b[0m\u001b[0msig\u001b[0m\u001b[1;33m.\u001b[0m\u001b[0mparameters\u001b[0m\u001b[1;33m,\u001b[0m \u001b[0margs\u001b[0m\u001b[1;33m)\u001b[0m\u001b[1;33m}\u001b[0m\u001b[1;33m)\u001b[0m\u001b[1;33m\u001b[0m\u001b[1;33m\u001b[0m\u001b[0m\n\u001b[1;32m---> 46\u001b[1;33m         \u001b[1;32mreturn\u001b[0m \u001b[0mf\u001b[0m\u001b[1;33m(\u001b[0m\u001b[1;33m**\u001b[0m\u001b[0mkwargs\u001b[0m\u001b[1;33m)\u001b[0m\u001b[1;33m\u001b[0m\u001b[1;33m\u001b[0m\u001b[0m\n\u001b[0m\u001b[0;32m     47\u001b[0m     \u001b[1;32mreturn\u001b[0m \u001b[0minner_f\u001b[0m\u001b[1;33m\u001b[0m\u001b[1;33m\u001b[0m\u001b[0m\n\u001b[0;32m     48\u001b[0m \u001b[1;33m\u001b[0m\u001b[0m\n",
      "\u001b[1;32m~\\anaconda3\\envs\\wojtek\\lib\\site-packages\\seaborn\\categorical.py\u001b[0m in \u001b[0;36mbarplot\u001b[1;34m(x, y, hue, data, order, hue_order, estimator, ci, n_boot, units, seed, orient, color, palette, saturation, errcolor, errwidth, capsize, dodge, ax, **kwargs)\u001b[0m\n\u001b[0;32m   3177\u001b[0m ):\n\u001b[0;32m   3178\u001b[0m \u001b[1;33m\u001b[0m\u001b[0m\n\u001b[1;32m-> 3179\u001b[1;33m     plotter = _BarPlotter(x, y, hue, data, order, hue_order,\n\u001b[0m\u001b[0;32m   3180\u001b[0m                           \u001b[0mestimator\u001b[0m\u001b[1;33m,\u001b[0m \u001b[0mci\u001b[0m\u001b[1;33m,\u001b[0m \u001b[0mn_boot\u001b[0m\u001b[1;33m,\u001b[0m \u001b[0munits\u001b[0m\u001b[1;33m,\u001b[0m \u001b[0mseed\u001b[0m\u001b[1;33m,\u001b[0m\u001b[1;33m\u001b[0m\u001b[1;33m\u001b[0m\u001b[0m\n\u001b[0;32m   3181\u001b[0m                           \u001b[0morient\u001b[0m\u001b[1;33m,\u001b[0m \u001b[0mcolor\u001b[0m\u001b[1;33m,\u001b[0m \u001b[0mpalette\u001b[0m\u001b[1;33m,\u001b[0m \u001b[0msaturation\u001b[0m\u001b[1;33m,\u001b[0m\u001b[1;33m\u001b[0m\u001b[1;33m\u001b[0m\u001b[0m\n",
      "\u001b[1;32m~\\anaconda3\\envs\\wojtek\\lib\\site-packages\\seaborn\\categorical.py\u001b[0m in \u001b[0;36m__init__\u001b[1;34m(self, x, y, hue, data, order, hue_order, estimator, ci, n_boot, units, seed, orient, color, palette, saturation, errcolor, errwidth, capsize, dodge)\u001b[0m\n\u001b[0;32m   1582\u001b[0m                  errwidth, capsize, dodge):\n\u001b[0;32m   1583\u001b[0m         \u001b[1;34m\"\"\"Initialize the plotter.\"\"\"\u001b[0m\u001b[1;33m\u001b[0m\u001b[1;33m\u001b[0m\u001b[0m\n\u001b[1;32m-> 1584\u001b[1;33m         self.establish_variables(x, y, hue, data, orient,\n\u001b[0m\u001b[0;32m   1585\u001b[0m                                  order, hue_order, units)\n\u001b[0;32m   1586\u001b[0m         \u001b[0mself\u001b[0m\u001b[1;33m.\u001b[0m\u001b[0mestablish_colors\u001b[0m\u001b[1;33m(\u001b[0m\u001b[0mcolor\u001b[0m\u001b[1;33m,\u001b[0m \u001b[0mpalette\u001b[0m\u001b[1;33m,\u001b[0m \u001b[0msaturation\u001b[0m\u001b[1;33m)\u001b[0m\u001b[1;33m\u001b[0m\u001b[1;33m\u001b[0m\u001b[0m\n",
      "\u001b[1;32m~\\anaconda3\\envs\\wojtek\\lib\\site-packages\\seaborn\\categorical.py\u001b[0m in \u001b[0;36mestablish_variables\u001b[1;34m(self, x, y, hue, data, orient, order, hue_order, units)\u001b[0m\n\u001b[0;32m    151\u001b[0m                 \u001b[1;32mif\u001b[0m \u001b[0misinstance\u001b[0m\u001b[1;33m(\u001b[0m\u001b[0mvar\u001b[0m\u001b[1;33m,\u001b[0m \u001b[0mstr\u001b[0m\u001b[1;33m)\u001b[0m\u001b[1;33m:\u001b[0m\u001b[1;33m\u001b[0m\u001b[1;33m\u001b[0m\u001b[0m\n\u001b[0;32m    152\u001b[0m                     \u001b[0merr\u001b[0m \u001b[1;33m=\u001b[0m \u001b[1;34m\"Could not interpret input '{}'\"\u001b[0m\u001b[1;33m.\u001b[0m\u001b[0mformat\u001b[0m\u001b[1;33m(\u001b[0m\u001b[0mvar\u001b[0m\u001b[1;33m)\u001b[0m\u001b[1;33m\u001b[0m\u001b[1;33m\u001b[0m\u001b[0m\n\u001b[1;32m--> 153\u001b[1;33m                     \u001b[1;32mraise\u001b[0m \u001b[0mValueError\u001b[0m\u001b[1;33m(\u001b[0m\u001b[0merr\u001b[0m\u001b[1;33m)\u001b[0m\u001b[1;33m\u001b[0m\u001b[1;33m\u001b[0m\u001b[0m\n\u001b[0m\u001b[0;32m    154\u001b[0m \u001b[1;33m\u001b[0m\u001b[0m\n\u001b[0;32m    155\u001b[0m             \u001b[1;31m# Figure out the plotting orientation\u001b[0m\u001b[1;33m\u001b[0m\u001b[1;33m\u001b[0m\u001b[1;33m\u001b[0m\u001b[0m\n",
      "\u001b[1;31mValueError\u001b[0m: Could not interpret input 'project_names'"
     ]
    }
   ],
   "source": [
    "import pandas as pd\n",
    "import matplotlib.pyplot as plt\n",
    "import requests\n",
    "import re\n",
    "from bs4 import BeautifulSoup\n",
    "import seaborn as sns\n",
    "from sklearn.preprocessing import MinMaxScaler\n",
    "#get data first\n",
    "\n",
    "data = requests.get('https://defipulse.com/')\n",
    "\n",
    "\n",
    "#Making so nice tasty soup!\n",
    "\n",
    "soup = BeautifulSoup(data.text, 'html.parser')\n",
    "\n",
    "\n",
    "names = soup.find_all('td', class_ = \"defi-name\")\n",
    "\n",
    "change_daily = soup.find_all('td', class_ = 'defi-1day defi-1day-neg' )\n",
    "\n",
    "value_locked = soup.find_all('td',class_ = 'defi-locked' )\n",
    "\n",
    "# set up empty lists\n",
    "\n",
    "project_names = [] \n",
    "changes = []\n",
    "values = []\n",
    "\n",
    "# Looping through the list\n",
    "\n",
    "for name in names:\n",
    "    project_names.append(name.text)\n",
    "\n",
    "for change in change_daily:\n",
    "    changes.append(change.text)\n",
    "        \n",
    "for value in value_locked:\n",
    "    values.append(value.text) \n",
    "\n",
    "\n",
    "\n",
    "defi_soretd = sorted(defi, reverse=False)\n",
    "\n",
    "#print(defi_soretd)\n",
    "\n",
    "\n",
    "#Creating lovely tuple\n",
    "\n",
    "df = zip(project_names, values)\n",
    "\n",
    "#Pandas time frame set\n",
    "\n",
    "df = pd.DataFrame(df, columns = [ \"DeFi Name:\",  \"Values Locekd in $ Billions\"])\n",
    "\n",
    "sns.barplot(x= 'project_names', y='values', data = df, color= 'blue' )\n",
    "\n",
    "\n",
    "\n",
    "\"\"\"\n",
    "#Plotting chart \n",
    "plt.bar(project_names,values_sorted,label = 'Defi $ Distribution') \n",
    "names = project_names\n",
    "plt.xlabel('Defi Name')\n",
    "plt.ylabel('Value Locked')\n",
    "plt.title('Defi $ Distribution')\n",
    "plt.xticks(rotation=90)\n",
    "plt.xlim(1,11)\n",
    "plt.ylim(1,11)\n",
    "plt.show()\"\"\"\n",
    "\n",
    "print(project_names)\n",
    "\n",
    "\n",
    "\n",
    "\n",
    "\n",
    "\n",
    "\n",
    "\n",
    "\n",
    "\n"
   ]
  },
  {
   "cell_type": "code",
   "execution_count": null,
   "metadata": {},
   "outputs": [],
   "source": []
  },
  {
   "cell_type": "code",
   "execution_count": 27,
   "metadata": {},
   "outputs": [
    {
     "output_type": "execute_result",
     "data": {
      "text/plain": [
       "       DeFi Name: Daily Change Values Locekd in $ Billions\n",
       "count          76           76                          76\n",
       "unique         76           63                          76\n",
       "top          Aave       -0.72%                      $16.0M\n",
       "freq            1            2                           1"
      ],
      "text/html": "<div>\n<style scoped>\n    .dataframe tbody tr th:only-of-type {\n        vertical-align: middle;\n    }\n\n    .dataframe tbody tr th {\n        vertical-align: top;\n    }\n\n    .dataframe thead th {\n        text-align: right;\n    }\n</style>\n<table border=\"1\" class=\"dataframe\">\n  <thead>\n    <tr style=\"text-align: right;\">\n      <th></th>\n      <th>DeFi Name:</th>\n      <th>Daily Change</th>\n      <th>Values Locekd in $ Billions</th>\n    </tr>\n  </thead>\n  <tbody>\n    <tr>\n      <th>count</th>\n      <td>76</td>\n      <td>76</td>\n      <td>76</td>\n    </tr>\n    <tr>\n      <th>unique</th>\n      <td>76</td>\n      <td>63</td>\n      <td>76</td>\n    </tr>\n    <tr>\n      <th>top</th>\n      <td>Aave</td>\n      <td>-0.72%</td>\n      <td>$16.0M</td>\n    </tr>\n    <tr>\n      <th>freq</th>\n      <td>1</td>\n      <td>2</td>\n      <td>1</td>\n    </tr>\n  </tbody>\n</table>\n</div>"
     },
     "metadata": {},
     "execution_count": 27
    }
   ],
   "source": [
    "df.describe()"
   ]
  },
  {
   "cell_type": "code",
   "execution_count": 19,
   "metadata": {},
   "outputs": [
    {
     "output_type": "stream",
     "name": "stdout",
     "text": [
      "['$1.17B', '$1.28B', '$1.38B', '$1.41B', '$1.42B', '$1.5M', '$1.8M', '$1.9M', '$10.5M', '$11.8M', '$111.2M', '$129.9M', '$13.4M', '$13.5M', '$13.6K', '$143.7M', '$147.4M', '$152.2M', '$16.3M', '$16.6M', '$16.7M', '$169.1M', '$17.6M', '$18.3M', '$180.5M', '$181.2M', '$182.6M', '$196.0M', '$2.0M', '$2.2M', '$2.8M', '$2.8M', '$20.2M', '$205.0M', '$21.4M', '$21.6M', '$216.5M', '$22.3M', '$23.2M', '$24.0M', '$24.3M', '$240.2K', '$25.1M', '$25.8M', '$25.8M', '$27.2M', '$3.1M', '$3.21B', '$3.2M', '$3.2M', '$3.3M', '$3.4M', '$3.52B', '$3.7M', '$3.93B', '$31.8M', '$32.7M', '$33.1M', '$359.7M', '$36.5M', '$36.6M', '$38.0M', '$386.1M', '$4.6M', '$4.7M', '$4.80B', '$427.4K', '$427.6M', '$44.3M', '$440.3K', '$47.4M', '$493.0M', '$50.7M', '$506.6M', '$51.9M', '$537.5M', '$54.0M', '$551.9M', '$552.2K', '$58.7M', '$6.1M', '$6.61B', '$6.6M', '$607.3M', '$619.7M', '$619.9K', '$63.1M', '$65.1M', '$67.5M', '$671.9K', '$7.19B', '$7.30B', '$7.49B', '$8.0M', '$8.54B', '$8.7M', '$8.8M', '$80.3M', '$9.1M', '$9.2M', '$9.59B', '$918.9K', '$99.4K', '-']\n"
     ]
    }
   ],
   "source": [
    "print(values)\n",
    "               "
   ]
  },
  {
   "cell_type": "code",
   "execution_count": 50,
   "metadata": {},
   "outputs": [
    {
     "output_type": "stream",
     "name": "stdout",
     "text": [
      "[1.17, 1.28, 1.38, 1.41, 1.42, 3.21, 3.52, 3.93, 4.8, 6.61, 7.19, 7.3, 7.49, 8.54, 9.59, 1.5, 1.8, 1.9, 10.5, 11.8, 111.2, 129.9, 13.4, 13.5, 143.7, 147.4, 152.2, 16.3, 16.6, 16.7, 169.1, 17.6, 18.3, 180.5, 181.2, 182.6, 196.0, 2.0, 2.2, 2.8, 2.8, 20.2, 205.0, 21.4, 21.6, 216.5, 22.3, 23.2, 24.0, 24.3, 25.1, 25.8, 25.8, 27.2, 3.1, 3.2, 3.2, 3.3, 3.4, 3.7, 31.8, 32.7, 33.1, 359.7, 36.5, 36.6, 38.0, 386.1, 4.6, 4.7, 427.6, 44.3, 47.4, 493.0, 50.7, 506.6, 51.9, 537.5, 54.0, 551.9, 58.7, 6.1, 6.6, 607.3, 619.7, 63.1, 65.1, 67.5, 8.0, 8.7, 8.8, 80.3, 9.1, 9.2]\n"
     ]
    }
   ],
   "source": [
    "#values_sorted = values.sort()\n",
    "#print(values_sorted)\n",
    "#print(values)\n",
    "#print(values.sort())\n",
    "#print(type(values))\n",
    "\"\"\"new_list = []\n",
    "for el in range(len(values)):\n",
    "    print(values[el].rfind('B'))\"\"\"\n",
    "\n",
    "defi = []\n",
    "for el in values:\n",
    "    x = el.replace('$', \"\")\n",
    "    if 'B'  in x:\n",
    "        defi.append(float(x.replace('B', \"\")))\n",
    "\n",
    "\n",
    "#print(new_list)    \n",
    "\n",
    "for el in values:\n",
    "    x = el.replace(\"$\", \"\")\n",
    "    if 'M' in x:\n",
    "        defi.append(float(x.replace('M', \"\")))\n",
    "print(defi)       \n"
   ]
  },
  {
   "cell_type": "code",
   "execution_count": null,
   "metadata": {},
   "outputs": [],
   "source": []
  }
 ]
}