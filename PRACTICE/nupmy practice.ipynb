{
 "metadata": {
  "language_info": {
   "codemirror_mode": {
    "name": "ipython",
    "version": 3
   },
   "file_extension": ".py",
   "mimetype": "text/x-python",
   "name": "python",
   "nbconvert_exporter": "python",
   "pygments_lexer": "ipython3",
   "version": "3.8.10"
  },
  "orig_nbformat": 2,
  "kernelspec": {
   "name": "python3810jvsc74a57bd0273e4cd330c9365d0d8fc6d704b08084cf297120c969e21fb6416b510b92ba85",
   "display_name": "Python 3.8.10 64-bit ('wojtek': conda)"
  }
 },
 "nbformat": 4,
 "nbformat_minor": 2,
 "cells": [
  {
   "cell_type": "code",
   "execution_count": 1,
   "metadata": {},
   "outputs": [
    {
     "output_type": "stream",
     "name": "stdout",
     "text": [
      "[0.8507571  0.2777729  0.48046749 0.97753375 0.29219286 0.31460208\n 0.22731959 0.65887317 0.32237157 0.2395173 ]\n80 bytes\n"
     ]
    }
   ],
   "source": [
    "import numpy as np\n",
    "\n",
    "wojtek_array = np.random.random(10)\n",
    "\n",
    "print(wojtek_array)\n",
    "\n",
    "print(wojtek_array.size*wojtek_array.itemsize, \"bytes\")"
   ]
  },
  {
   "cell_type": "code",
   "execution_count": 2,
   "metadata": {},
   "outputs": [
    {
     "output_type": "stream",
     "name": "stdout",
     "text": [
      "[1 2 3 4]\n[900   2   3]\n"
     ]
    }
   ],
   "source": [
    "arr = np.array([1,2,3,4])\n",
    "new_arr = arr[0:3].copy()\n",
    "new_arr[0:1] = 900\n",
    "print(arr)\n",
    "print(new_arr)"
   ]
  },
  {
   "cell_type": "code",
   "execution_count": 3,
   "metadata": {},
   "outputs": [
    {
     "output_type": "execute_result",
     "data": {
      "text/plain": [
       "2"
      ]
     },
     "metadata": {},
     "execution_count": 3
    }
   ],
   "source": [
    "arr = np.array([[1,2], [3,4]])\n",
    "arr[0,1]"
   ]
  },
  {
   "cell_type": "code",
   "execution_count": 15,
   "metadata": {},
   "outputs": [
    {
     "output_type": "execute_result",
     "data": {
      "text/plain": [
       "array([1, 3, 5])"
      ]
     },
     "metadata": {},
     "execution_count": 15
    }
   ],
   "source": [
    "arr = np.array([[1,2], [3,4], [5,6]])\n",
    "arr[:,0]\n",
    "\n",
    "#ze wszystkich 3 wziety kazdy pierwszy element"
   ]
  },
  {
   "cell_type": "code",
   "execution_count": 17,
   "metadata": {},
   "outputs": [
    {
     "output_type": "execute_result",
     "data": {
      "text/plain": [
       "array([False,  True, False,  True, False,  True, False,  True, False,\n",
       "        True])"
      ]
     },
     "metadata": {},
     "execution_count": 17
    }
   ],
   "source": [
    "arr = np.array([1,2,3,4,5,6,7,8,9,10])\n",
    "arr % 2 == 0"
   ]
  },
  {
   "cell_type": "code",
   "execution_count": 28,
   "metadata": {},
   "outputs": [
    {
     "output_type": "execute_result",
     "data": {
      "text/plain": [
       "array([ 2,  4,  6,  8, 10])"
      ]
     },
     "metadata": {},
     "execution_count": 28
    }
   ],
   "source": [
    "arr2 = np.array([1,2,3,4,5,6,7,8,9,10])\n",
    "arr2[arr2 % 2 ==0]\n"
   ]
  },
  {
   "cell_type": "code",
   "execution_count": 4,
   "metadata": {},
   "outputs": [
    {
     "output_type": "stream",
     "name": "stdout",
     "text": [
      "a\nc\nd\n"
     ]
    }
   ],
   "source": [
    "for ch in ['a', 'b', 'c', 'd']:\n",
    "    if ch == 'b':\n",
    "        continue\n",
    "    print(ch)"
   ]
  },
  {
   "cell_type": "code",
   "execution_count": 18,
   "metadata": {},
   "outputs": [
    {
     "output_type": "stream",
     "name": "stdout",
     "text": [
      "59 in neither a multiplier of 2 or 3\n"
     ]
    }
   ],
   "source": [
    "def multiplier(a):\n",
    "  \n",
    "\n",
    "    if a % 2 ==0:\n",
    "        print(f'{a}is multiplier by of 2')\n",
    "    elif a % 3 == 0:\n",
    "        print(f'{a} is a multiplier of 3')\n",
    "    else:\n",
    "        print(f'{a} in neither a multiplier of 2 or 3')\n",
    "\n",
    "multiplier(59)\n",
    "        "
   ]
  },
  {
   "cell_type": "code",
   "execution_count": 25,
   "metadata": {
    "tags": []
   },
   "outputs": [
    {
     "output_type": "stream",
     "name": "stdout",
     "text": [
      "18\n17\n16\n15\n14\n13\n12\n11\n10\n9\n8\n7\n6\n"
     ]
    }
   ],
   "source": [
    "a = 18\n",
    "\n",
    "while True:\n",
    "    if  a == 5:\n",
    "        break\n",
    "   \n",
    "    print(a)\n",
    "    a -=1"
   ]
  },
  {
   "cell_type": "code",
   "execution_count": 35,
   "metadata": {},
   "outputs": [
    {
     "output_type": "stream",
     "name": "stdout",
     "text": [
      "[100, 89, 7]\n"
     ]
    }
   ],
   "source": [
    "#last 3 elements taken \n",
    "\n",
    "l1 = [ 1,2,3,4,5,6,6,7,89,100]\n",
    "l2 = l[-1:-4:-1]\n",
    "\n",
    "\n",
    "\n",
    "print(l2)\n"
   ]
  },
  {
   "cell_type": "code",
   "execution_count": 37,
   "metadata": {},
   "outputs": [
    {
     "output_type": "stream",
     "name": "stdout",
     "text": [
      "[1, 2, 3, 4, 5, 6, 6, 7, 89, 100, 100, 89, 7]\n"
     ]
    }
   ],
   "source": [
    "#add lists\n",
    "l1l2 = l1 + l2\n",
    "\n",
    "print(l1l2)"
   ]
  },
  {
   "cell_type": "code",
   "execution_count": 48,
   "metadata": {},
   "outputs": [
    {
     "output_type": "stream",
     "name": "stdout",
     "text": [
      " d= {'a': 2, 'b': 3, 'c': 5, 'd': 40}\ndict_values([2, 3, 5, 40])\ndict_keys(['a', 'b', 'c', 'd'])\ndict_items([('a', 2), ('b', 3), ('c', 5), ('d', 40)])\n"
     ]
    }
   ],
   "source": [
    "d ={ \n",
    "    'a': 2,\n",
    "    'b': 3,\n",
    "    'c': 5\n",
    "}\n",
    "\n",
    "d['d'] = 40\n",
    "\n",
    "print(f' d= {d}')\n",
    "\n",
    "print(d.values())\n",
    "print(d.keys())\n",
    "print(d.items())"
   ]
  },
  {
   "cell_type": "code",
   "execution_count": 52,
   "metadata": {},
   "outputs": [
    {
     "output_type": "stream",
     "name": "stdout",
     "text": [
      "{1, 2, 3, 4, 5}\n{2, 3}\n"
     ]
    }
   ],
   "source": [
    "#set only prints unique elements\n",
    "\n",
    "a = set ([1,2,3])\n",
    "b = {2,3,4,3,5,}\n",
    "\n",
    "print(a.union(b))\n",
    "print(a.intersection(b))"
   ]
  },
  {
   "cell_type": "code",
   "execution_count": 58,
   "metadata": {},
   "outputs": [
    {
     "output_type": "execute_result",
     "data": {
      "text/plain": [
       "'a is 1'"
      ]
     },
     "metadata": {},
     "execution_count": 58
    }
   ],
   "source": [
    "#concatenate int to str\n",
    " a = 1 \n",
    " s = f'a is {a}'\n",
    " s = 'a is '+ str(a)\n",
    " s"
   ]
  },
  {
   "cell_type": "code",
   "execution_count": 67,
   "metadata": {},
   "outputs": [
    {
     "output_type": "stream",
     "name": "stdout",
     "text": [
      "['hello', 'world']\nhello world\n['hello', 'world']\n"
     ]
    }
   ],
   "source": [
    "s = 'hello world'\n",
    "print(s.split(\" \")) # jak zrobi liste to nie mozna zrobic sptrip dlatego strip robimy zawsze wczesniej\n",
    "print(s.strip())\n",
    "print(s.strip().split(' '))"
   ]
  },
  {
   "cell_type": "code",
   "execution_count": 68,
   "metadata": {},
   "outputs": [
    {
     "output_type": "stream",
     "name": "stdout",
     "text": [
      "0 a\n1 b\n"
     ]
    }
   ],
   "source": [
    "for index, value in enumerate(['a', 'b']):\n",
    "    print(index, value)"
   ]
  },
  {
   "cell_type": "code",
   "execution_count": 70,
   "metadata": {},
   "outputs": [
    {
     "output_type": "error",
     "ename": "NameError",
     "evalue": "name 'ask' is not defined",
     "traceback": [
      "\u001b[1;31m---------------------------------------------------------------------------\u001b[0m",
      "\u001b[1;31mNameError\u001b[0m                                 Traceback (most recent call last)",
      "\u001b[1;32m<ipython-input-70-6e426f45de8b>\u001b[0m in \u001b[0;36m<module>\u001b[1;34m\u001b[0m\n\u001b[1;32m----> 1\u001b[1;33m \u001b[0mhelp\u001b[0m\u001b[1;33m(\u001b[0m\u001b[0mask\u001b[0m\u001b[1;33m)\u001b[0m\u001b[1;33m\u001b[0m\u001b[1;33m\u001b[0m\u001b[0m\n\u001b[0m",
      "\u001b[1;31mNameError\u001b[0m: name 'ask' is not defined"
     ]
    }
   ],
   "source": [
    "help(set)"
   ]
  },
  {
   "cell_type": "code",
   "execution_count": 73,
   "metadata": {},
   "outputs": [],
   "source": [
    "import math"
   ]
  },
  {
   "cell_type": "code",
   "execution_count": 74,
   "metadata": {},
   "outputs": [
    {
     "output_type": "stream",
     "name": "stdout",
     "text": [
      "['__doc__', '__loader__', '__name__', '__package__', '__spec__', 'acos', 'acosh', 'asin', 'asinh', 'atan', 'atan2', 'atanh', 'ceil', 'comb', 'copysign', 'cos', 'cosh', 'degrees', 'dist', 'e', 'erf', 'erfc', 'exp', 'expm1', 'fabs', 'factorial', 'floor', 'fmod', 'frexp', 'fsum', 'gamma', 'gcd', 'hypot', 'inf', 'isclose', 'isfinite', 'isinf', 'isnan', 'isqrt', 'ldexp', 'lgamma', 'log', 'log10', 'log1p', 'log2', 'modf', 'nan', 'perm', 'pi', 'pow', 'prod', 'radians', 'remainder', 'sin', 'sinh', 'sqrt', 'tan', 'tanh', 'tau', 'trunc']\n"
     ]
    }
   ],
   "source": [
    "print(dir(math))"
   ]
  },
  {
   "cell_type": "code",
   "execution_count": 75,
   "metadata": {},
   "outputs": [
    {
     "output_type": "stream",
     "name": "stdout",
     "text": [
      "Help on built-in function log in module math:\n\nlog(...)\n    log(x, [base=math.e])\n    Return the logarithm of x to the given base.\n    \n    If the base not specified, returns the natural logarithm (base e) of x.\n\n"
     ]
    }
   ],
   "source": [
    "help(math.log)"
   ]
  },
  {
   "cell_type": "code",
   "execution_count": 83,
   "metadata": {},
   "outputs": [
    {
     "output_type": "stream",
     "name": "stdout",
     "text": [
      "4.499809670330265\n"
     ]
    }
   ],
   "source": [
    "print(math.log(90))"
   ]
  },
  {
   "cell_type": "code",
   "execution_count": 86,
   "metadata": {},
   "outputs": [
    {
     "output_type": "error",
     "ename": "SyntaxError",
     "evalue": "(unicode error) 'unicodeescape' codec can't decode bytes in position 2-3: truncated \\UXXXXXXXX escape (<ipython-input-86-a06f001f2c7a>, line 1)",
     "traceback": [
      "\u001b[1;36m  File \u001b[1;32m\"<ipython-input-86-a06f001f2c7a>\"\u001b[1;36m, line \u001b[1;32m1\u001b[0m\n\u001b[1;33m    with open ('C:\\Users\\Wojtek\\OneDrive\\Desktop\\STRIVE SCHOOL\\WojtekRepo\\1. Python\\04. Strings and Files\\exercises\\text-files', 'blakepoems' ) as file_handler:\u001b[0m\n\u001b[1;37m               ^\u001b[0m\n\u001b[1;31mSyntaxError\u001b[0m\u001b[1;31m:\u001b[0m (unicode error) 'unicodeescape' codec can't decode bytes in position 2-3: truncated \\UXXXXXXXX escape\n"
     ]
    }
   ],
   "source": [
    "with open ('C:\\Users\\Wojtek\\OneDrive\\Desktop\\STRIVE SCHOOL\\WojtekRepo\\1. Python\\04. Strings and Files\\exercises\\text-files',\"r\" 'blakepoems' ) as file_handler: \n",
    "    file_handler.readline()    "
   ]
  },
  {
   "cell_type": "code",
   "execution_count": null,
   "metadata": {},
   "outputs": [],
   "source": []
  }
 ]
}