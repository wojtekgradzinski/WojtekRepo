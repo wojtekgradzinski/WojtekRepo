{
 "metadata": {
  "language_info": {
   "codemirror_mode": {
    "name": "ipython",
    "version": 3
   },
   "file_extension": ".py",
   "mimetype": "text/x-python",
   "name": "python",
   "nbconvert_exporter": "python",
   "pygments_lexer": "ipython3",
   "version": "3.8.10"
  },
  "orig_nbformat": 4,
  "kernelspec": {
   "name": "python3",
   "display_name": "Python 3.8.10 64-bit ('wojtek': conda)"
  },
  "interpreter": {
   "hash": "273e4cd330c9365d0d8fc6d704b08084cf297120c969e21fb6416b510b92ba85"
  }
 },
 "nbformat": 4,
 "nbformat_minor": 2,
 "cells": [
  {
   "cell_type": "code",
   "execution_count": 6,
   "metadata": {},
   "outputs": [],
   "source": [
    "# Import needed packages\n",
    "# You may add or remove packages should you need them\n",
    "import numpy as np\n",
    "import matplotlib\n",
    "import matplotlib.pyplot as plt\n",
    "import seaborn as sns\n",
    "import pandas as pd\n",
    "from sklearn.datasets import load_iris\n",
    "from sklearn import model_selection\n",
    "from sklearn.preprocessing import StandardScaler\n",
    "from sklearn import preprocessing\n",
    "from sklearn.model_selection import KFold, LeaveOneOut, cross_val_score\n",
    "\n",
    "# Set random seed\n",
    "np.random.seed(0)\n",
    "\n",
    "# Display plots inline and change plot resolution to retina\n",
    "%matplotlib inline\n",
    "%config InlineBackend.figure_format = 'retina'\n",
    "# Set Seaborn aesthetic parameters to defaults\n",
    "sns.set()"
   ]
  },
  {
   "cell_type": "code",
   "execution_count": 152,
   "metadata": {},
   "outputs": [],
   "source": [
    "#load_iris()"
   ]
  },
  {
   "cell_type": "code",
   "execution_count": 125,
   "metadata": {},
   "outputs": [],
   "source": [
    "df = load_iris()"
   ]
  },
  {
   "cell_type": "code",
   "execution_count": 126,
   "metadata": {},
   "outputs": [],
   "source": [
    "df_iris = pd.DataFrame(df.data, columns= df.feature_names)"
   ]
  },
  {
   "cell_type": "code",
   "execution_count": 136,
   "metadata": {},
   "outputs": [],
   "source": [
    "df_iris[\"target\"] = df.target\n",
    "df_iris[\"class\"]  = df.target_names[df.target]\n",
    "df_iris.columns = [col.replace(\"(cm)\", \"\").strip() for col in df_iris.columns]"
   ]
  },
  {
   "cell_type": "code",
   "execution_count": 134,
   "metadata": {},
   "outputs": [],
   "source": [
    "# for col in df_iris.columns:\n",
    "#    col.replace(\"(cm)\", \"\").strip()\n",
    "    \n",
    "\n",
    "    "
   ]
  },
  {
   "cell_type": "code",
   "execution_count": 137,
   "metadata": {},
   "outputs": [
    {
     "output_type": "execute_result",
     "data": {
      "text/plain": [
       "Index(['sepal length', 'sepal width', 'petal length', 'petal width', 'target',\n",
       "       'class'],\n",
       "      dtype='object')"
      ]
     },
     "metadata": {},
     "execution_count": 137
    }
   ],
   "source": [
    "df_iris.columns"
   ]
  },
  {
   "cell_type": "code",
   "execution_count": 138,
   "metadata": {},
   "outputs": [
    {
     "output_type": "execute_result",
     "data": {
      "text/plain": [
       "     sepal length  sepal width  petal length  petal width  target      class\n",
       "0             5.1          3.5           1.4          0.2       0     setosa\n",
       "1             4.9          3.0           1.4          0.2       0     setosa\n",
       "2             4.7          3.2           1.3          0.2       0     setosa\n",
       "3             4.6          3.1           1.5          0.2       0     setosa\n",
       "4             5.0          3.6           1.4          0.2       0     setosa\n",
       "..            ...          ...           ...          ...     ...        ...\n",
       "145           6.7          3.0           5.2          2.3       2  virginica\n",
       "146           6.3          2.5           5.0          1.9       2  virginica\n",
       "147           6.5          3.0           5.2          2.0       2  virginica\n",
       "148           6.2          3.4           5.4          2.3       2  virginica\n",
       "149           5.9          3.0           5.1          1.8       2  virginica\n",
       "\n",
       "[150 rows x 6 columns]"
      ],
      "text/html": "<div>\n<style scoped>\n    .dataframe tbody tr th:only-of-type {\n        vertical-align: middle;\n    }\n\n    .dataframe tbody tr th {\n        vertical-align: top;\n    }\n\n    .dataframe thead th {\n        text-align: right;\n    }\n</style>\n<table border=\"1\" class=\"dataframe\">\n  <thead>\n    <tr style=\"text-align: right;\">\n      <th></th>\n      <th>sepal length</th>\n      <th>sepal width</th>\n      <th>petal length</th>\n      <th>petal width</th>\n      <th>target</th>\n      <th>class</th>\n    </tr>\n  </thead>\n  <tbody>\n    <tr>\n      <th>0</th>\n      <td>5.1</td>\n      <td>3.5</td>\n      <td>1.4</td>\n      <td>0.2</td>\n      <td>0</td>\n      <td>setosa</td>\n    </tr>\n    <tr>\n      <th>1</th>\n      <td>4.9</td>\n      <td>3.0</td>\n      <td>1.4</td>\n      <td>0.2</td>\n      <td>0</td>\n      <td>setosa</td>\n    </tr>\n    <tr>\n      <th>2</th>\n      <td>4.7</td>\n      <td>3.2</td>\n      <td>1.3</td>\n      <td>0.2</td>\n      <td>0</td>\n      <td>setosa</td>\n    </tr>\n    <tr>\n      <th>3</th>\n      <td>4.6</td>\n      <td>3.1</td>\n      <td>1.5</td>\n      <td>0.2</td>\n      <td>0</td>\n      <td>setosa</td>\n    </tr>\n    <tr>\n      <th>4</th>\n      <td>5.0</td>\n      <td>3.6</td>\n      <td>1.4</td>\n      <td>0.2</td>\n      <td>0</td>\n      <td>setosa</td>\n    </tr>\n    <tr>\n      <th>...</th>\n      <td>...</td>\n      <td>...</td>\n      <td>...</td>\n      <td>...</td>\n      <td>...</td>\n      <td>...</td>\n    </tr>\n    <tr>\n      <th>145</th>\n      <td>6.7</td>\n      <td>3.0</td>\n      <td>5.2</td>\n      <td>2.3</td>\n      <td>2</td>\n      <td>virginica</td>\n    </tr>\n    <tr>\n      <th>146</th>\n      <td>6.3</td>\n      <td>2.5</td>\n      <td>5.0</td>\n      <td>1.9</td>\n      <td>2</td>\n      <td>virginica</td>\n    </tr>\n    <tr>\n      <th>147</th>\n      <td>6.5</td>\n      <td>3.0</td>\n      <td>5.2</td>\n      <td>2.0</td>\n      <td>2</td>\n      <td>virginica</td>\n    </tr>\n    <tr>\n      <th>148</th>\n      <td>6.2</td>\n      <td>3.4</td>\n      <td>5.4</td>\n      <td>2.3</td>\n      <td>2</td>\n      <td>virginica</td>\n    </tr>\n    <tr>\n      <th>149</th>\n      <td>5.9</td>\n      <td>3.0</td>\n      <td>5.1</td>\n      <td>1.8</td>\n      <td>2</td>\n      <td>virginica</td>\n    </tr>\n  </tbody>\n</table>\n<p>150 rows × 6 columns</p>\n</div>"
     },
     "metadata": {},
     "execution_count": 138
    }
   ],
   "source": [
    "df_iris"
   ]
  },
  {
   "cell_type": "code",
   "execution_count": 149,
   "metadata": {},
   "outputs": [],
   "source": [
    "X = df_iris.iloc[:,:4]\n",
    "y = df_iris['target']"
   ]
  },
  {
   "cell_type": "code",
   "execution_count": 155,
   "metadata": {},
   "outputs": [],
   "source": [
    "from sklearn.model_selection import train_test_split\n",
    "X_train, X_test, y_train , y_test = train_test_split(X,y , test_size =0.2, random_state = 42) "
   ]
  },
  {
   "cell_type": "code",
   "execution_count": 172,
   "metadata": {},
   "outputs": [
    {
     "output_type": "stream",
     "name": "stderr",
     "text": [
      "C:\\Users\\Wojtek\\anaconda3\\envs\\wojtek\\lib\\site-packages\\pandas\\core\\indexing.py:1637: SettingWithCopyWarning: \nA value is trying to be set on a copy of a slice from a DataFrame\n\nSee the caveats in the documentation: https://pandas.pydata.org/pandas-docs/stable/user_guide/indexing.html#returning-a-view-versus-a-copy\n  self._setitem_single_block(indexer, value, name)\nC:\\Users\\Wojtek\\anaconda3\\envs\\wojtek\\lib\\site-packages\\pandas\\core\\indexing.py:692: SettingWithCopyWarning: \nA value is trying to be set on a copy of a slice from a DataFrame\n\nSee the caveats in the documentation: https://pandas.pydata.org/pandas-docs/stable/user_guide/indexing.html#returning-a-view-versus-a-copy\n  iloc._setitem_with_indexer(indexer, value, self.name)\nC:\\Users\\Wojtek\\anaconda3\\envs\\wojtek\\lib\\site-packages\\pandas\\core\\indexing.py:1637: SettingWithCopyWarning: \nA value is trying to be set on a copy of a slice from a DataFrame\n\nSee the caveats in the documentation: https://pandas.pydata.org/pandas-docs/stable/user_guide/indexing.html#returning-a-view-versus-a-copy\n  self._setitem_single_block(indexer, value, name)\nC:\\Users\\Wojtek\\anaconda3\\envs\\wojtek\\lib\\site-packages\\pandas\\core\\indexing.py:692: SettingWithCopyWarning: \nA value is trying to be set on a copy of a slice from a DataFrame\n\nSee the caveats in the documentation: https://pandas.pydata.org/pandas-docs/stable/user_guide/indexing.html#returning-a-view-versus-a-copy\n  iloc._setitem_with_indexer(indexer, value, self.name)\n"
     ]
    }
   ],
   "source": [
    "scalar = StandardScaler()\n",
    "\n",
    "X_train.loc[:,:] = scalar.fit_transform(X_train)\n",
    "X_test.loc[:,:] = scalar.transform(X_test)"
   ]
  },
  {
   "cell_type": "code",
   "execution_count": 187,
   "metadata": {},
   "outputs": [
    {
     "output_type": "execute_result",
     "data": {
      "text/plain": [
       "     sepal length  sepal width  petal length  petal width\n",
       "73       0.354517    -0.585060      0.557775     0.022248\n",
       "18      -0.133071     1.650837     -1.161395    -1.179118\n",
       "118      2.304867    -1.032239      1.818500     1.490583\n",
       "78       0.232620    -0.361470      0.443164     0.422703\n",
       "76       1.207795    -0.585060      0.615081     0.289218\n",
       "31      -0.498762     0.756479     -1.276006    -1.045633\n",
       "64      -0.254968    -0.361470     -0.072587     0.155733\n",
       "141      1.329692     0.085709      0.786998     1.490583\n",
       "68       0.476414    -1.926598      0.443164     0.422703\n",
       "82      -0.011174    -0.808649      0.099330     0.022248\n",
       "110      0.842104     0.309299      0.786998     1.090128\n",
       "12      -1.230143    -0.137880     -1.333312    -1.446088\n",
       "36      -0.376865     0.980068     -1.390618    -1.312603\n",
       "9       -1.108246     0.085709     -1.276006    -1.446088\n",
       "19      -0.864452     1.650837     -1.276006    -1.179118\n",
       "56       0.598311     0.532889      0.557775     0.556188\n",
       "104      0.842104    -0.137880      1.188138     1.357098\n",
       "69      -0.254968    -1.255829      0.099330    -0.111238\n",
       "55      -0.133071    -0.585060      0.443164     0.155733\n",
       "132      0.720208    -0.585060      1.073526     1.357098\n",
       "29      -1.352040     0.309299     -1.218701    -1.312603\n",
       "127      0.354517    -0.137880      0.672387     0.823158\n",
       "26      -0.986349     0.756479     -1.218701    -1.045633\n",
       "128      0.720208    -0.585060      1.073526     1.223613\n",
       "131      2.548661     1.650837      1.531972     1.090128\n",
       "145      1.085898    -0.137880      0.844304     1.490583\n",
       "108      1.085898    -1.255829      1.188138     0.823158\n",
       "143      1.207795     0.309299      1.245443     1.490583\n",
       "45      -1.230143    -0.137880     -1.333312    -1.179118\n",
       "30      -1.230143     0.085709     -1.218701    -1.312603"
      ],
      "text/html": "<div>\n<style scoped>\n    .dataframe tbody tr th:only-of-type {\n        vertical-align: middle;\n    }\n\n    .dataframe tbody tr th {\n        vertical-align: top;\n    }\n\n    .dataframe thead th {\n        text-align: right;\n    }\n</style>\n<table border=\"1\" class=\"dataframe\">\n  <thead>\n    <tr style=\"text-align: right;\">\n      <th></th>\n      <th>sepal length</th>\n      <th>sepal width</th>\n      <th>petal length</th>\n      <th>petal width</th>\n    </tr>\n  </thead>\n  <tbody>\n    <tr>\n      <th>73</th>\n      <td>0.354517</td>\n      <td>-0.585060</td>\n      <td>0.557775</td>\n      <td>0.022248</td>\n    </tr>\n    <tr>\n      <th>18</th>\n      <td>-0.133071</td>\n      <td>1.650837</td>\n      <td>-1.161395</td>\n      <td>-1.179118</td>\n    </tr>\n    <tr>\n      <th>118</th>\n      <td>2.304867</td>\n      <td>-1.032239</td>\n      <td>1.818500</td>\n      <td>1.490583</td>\n    </tr>\n    <tr>\n      <th>78</th>\n      <td>0.232620</td>\n      <td>-0.361470</td>\n      <td>0.443164</td>\n      <td>0.422703</td>\n    </tr>\n    <tr>\n      <th>76</th>\n      <td>1.207795</td>\n      <td>-0.585060</td>\n      <td>0.615081</td>\n      <td>0.289218</td>\n    </tr>\n    <tr>\n      <th>31</th>\n      <td>-0.498762</td>\n      <td>0.756479</td>\n      <td>-1.276006</td>\n      <td>-1.045633</td>\n    </tr>\n    <tr>\n      <th>64</th>\n      <td>-0.254968</td>\n      <td>-0.361470</td>\n      <td>-0.072587</td>\n      <td>0.155733</td>\n    </tr>\n    <tr>\n      <th>141</th>\n      <td>1.329692</td>\n      <td>0.085709</td>\n      <td>0.786998</td>\n      <td>1.490583</td>\n    </tr>\n    <tr>\n      <th>68</th>\n      <td>0.476414</td>\n      <td>-1.926598</td>\n      <td>0.443164</td>\n      <td>0.422703</td>\n    </tr>\n    <tr>\n      <th>82</th>\n      <td>-0.011174</td>\n      <td>-0.808649</td>\n      <td>0.099330</td>\n      <td>0.022248</td>\n    </tr>\n    <tr>\n      <th>110</th>\n      <td>0.842104</td>\n      <td>0.309299</td>\n      <td>0.786998</td>\n      <td>1.090128</td>\n    </tr>\n    <tr>\n      <th>12</th>\n      <td>-1.230143</td>\n      <td>-0.137880</td>\n      <td>-1.333312</td>\n      <td>-1.446088</td>\n    </tr>\n    <tr>\n      <th>36</th>\n      <td>-0.376865</td>\n      <td>0.980068</td>\n      <td>-1.390618</td>\n      <td>-1.312603</td>\n    </tr>\n    <tr>\n      <th>9</th>\n      <td>-1.108246</td>\n      <td>0.085709</td>\n      <td>-1.276006</td>\n      <td>-1.446088</td>\n    </tr>\n    <tr>\n      <th>19</th>\n      <td>-0.864452</td>\n      <td>1.650837</td>\n      <td>-1.276006</td>\n      <td>-1.179118</td>\n    </tr>\n    <tr>\n      <th>56</th>\n      <td>0.598311</td>\n      <td>0.532889</td>\n      <td>0.557775</td>\n      <td>0.556188</td>\n    </tr>\n    <tr>\n      <th>104</th>\n      <td>0.842104</td>\n      <td>-0.137880</td>\n      <td>1.188138</td>\n      <td>1.357098</td>\n    </tr>\n    <tr>\n      <th>69</th>\n      <td>-0.254968</td>\n      <td>-1.255829</td>\n      <td>0.099330</td>\n      <td>-0.111238</td>\n    </tr>\n    <tr>\n      <th>55</th>\n      <td>-0.133071</td>\n      <td>-0.585060</td>\n      <td>0.443164</td>\n      <td>0.155733</td>\n    </tr>\n    <tr>\n      <th>132</th>\n      <td>0.720208</td>\n      <td>-0.585060</td>\n      <td>1.073526</td>\n      <td>1.357098</td>\n    </tr>\n    <tr>\n      <th>29</th>\n      <td>-1.352040</td>\n      <td>0.309299</td>\n      <td>-1.218701</td>\n      <td>-1.312603</td>\n    </tr>\n    <tr>\n      <th>127</th>\n      <td>0.354517</td>\n      <td>-0.137880</td>\n      <td>0.672387</td>\n      <td>0.823158</td>\n    </tr>\n    <tr>\n      <th>26</th>\n      <td>-0.986349</td>\n      <td>0.756479</td>\n      <td>-1.218701</td>\n      <td>-1.045633</td>\n    </tr>\n    <tr>\n      <th>128</th>\n      <td>0.720208</td>\n      <td>-0.585060</td>\n      <td>1.073526</td>\n      <td>1.223613</td>\n    </tr>\n    <tr>\n      <th>131</th>\n      <td>2.548661</td>\n      <td>1.650837</td>\n      <td>1.531972</td>\n      <td>1.090128</td>\n    </tr>\n    <tr>\n      <th>145</th>\n      <td>1.085898</td>\n      <td>-0.137880</td>\n      <td>0.844304</td>\n      <td>1.490583</td>\n    </tr>\n    <tr>\n      <th>108</th>\n      <td>1.085898</td>\n      <td>-1.255829</td>\n      <td>1.188138</td>\n      <td>0.823158</td>\n    </tr>\n    <tr>\n      <th>143</th>\n      <td>1.207795</td>\n      <td>0.309299</td>\n      <td>1.245443</td>\n      <td>1.490583</td>\n    </tr>\n    <tr>\n      <th>45</th>\n      <td>-1.230143</td>\n      <td>-0.137880</td>\n      <td>-1.333312</td>\n      <td>-1.179118</td>\n    </tr>\n    <tr>\n      <th>30</th>\n      <td>-1.230143</td>\n      <td>0.085709</td>\n      <td>-1.218701</td>\n      <td>-1.312603</td>\n    </tr>\n  </tbody>\n</table>\n</div>"
     },
     "metadata": {},
     "execution_count": 187
    }
   ],
   "source": [
    "X_test"
   ]
  },
  {
   "cell_type": "code",
   "execution_count": 176,
   "metadata": {},
   "outputs": [],
   "source": [
    "from sklearn.tree import DecisionTreeClassifier"
   ]
  },
  {
   "cell_type": "code",
   "execution_count": 177,
   "metadata": {},
   "outputs": [],
   "source": [
    "model = DecisionTreeClassifier()"
   ]
  },
  {
   "cell_type": "code",
   "execution_count": 178,
   "metadata": {},
   "outputs": [
    {
     "output_type": "execute_result",
     "data": {
      "text/plain": [
       "DecisionTreeClassifier()"
      ]
     },
     "metadata": {},
     "execution_count": 178
    }
   ],
   "source": [
    "model.fit(X_train, y_train)"
   ]
  },
  {
   "cell_type": "code",
   "execution_count": 185,
   "metadata": {},
   "outputs": [
    {
     "output_type": "execute_result",
     "data": {
      "text/plain": [
       "array([1, 0, 2, 1, 1, 0, 1, 2, 1, 1, 2, 0, 0, 0, 0, 1, 2, 1, 1, 2, 0, 2,\n",
       "       0, 2, 2, 2, 2, 2, 0, 0])"
      ]
     },
     "metadata": {},
     "execution_count": 185
    }
   ],
   "source": [
    "predictions = model.predict(X_test)\n",
    "predictions\n",
    "#X_test"
   ]
  },
  {
   "cell_type": "code",
   "execution_count": 191,
   "metadata": {},
   "outputs": [
    {
     "output_type": "execute_result",
     "data": {
      "text/plain": [
       "73     1\n",
       "18     0\n",
       "118    2\n",
       "78     1\n",
       "76     1\n",
       "31     0\n",
       "64     1\n",
       "141    2\n",
       "68     1\n",
       "82     1\n",
       "110    2\n",
       "12     0\n",
       "36     0\n",
       "9      0\n",
       "19     0\n",
       "56     1\n",
       "104    2\n",
       "69     1\n",
       "55     1\n",
       "132    2\n",
       "29     0\n",
       "127    2\n",
       "26     0\n",
       "128    2\n",
       "131    2\n",
       "145    2\n",
       "108    2\n",
       "143    2\n",
       "45     0\n",
       "30     0\n",
       "Name: target, dtype: int32"
      ]
     },
     "metadata": {},
     "execution_count": 191
    }
   ],
   "source": [
    "y_test"
   ]
  },
  {
   "cell_type": "code",
   "execution_count": 193,
   "metadata": {},
   "outputs": [
    {
     "output_type": "execute_result",
     "data": {
      "text/plain": [
       "1.0"
      ]
     },
     "metadata": {},
     "execution_count": 193
    }
   ],
   "source": [
    "from sklearn.metrics import accuracy_score\n",
    "score = accuracy_score(y_test, predictions)\n",
    "score"
   ]
  },
  {
   "cell_type": "code",
   "execution_count": 199,
   "metadata": {},
   "outputs": [
    {
     "output_type": "execute_result",
     "data": {
      "text/plain": [
       "     sepal length  sepal width  petal length  petal width  target\n",
       "73       0.354517    -0.585060      0.557775     0.022248       1\n",
       "18      -0.133071     1.650837     -1.161395    -1.179118       0\n",
       "118      2.304867    -1.032239      1.818500     1.490583       2\n",
       "78       0.232620    -0.361470      0.443164     0.422703       1\n",
       "76       1.207795    -0.585060      0.615081     0.289218       1\n",
       "31      -0.498762     0.756479     -1.276006    -1.045633       0\n",
       "64      -0.254968    -0.361470     -0.072587     0.155733       1\n",
       "141      1.329692     0.085709      0.786998     1.490583       2\n",
       "68       0.476414    -1.926598      0.443164     0.422703       1\n",
       "82      -0.011174    -0.808649      0.099330     0.022248       1\n",
       "110      0.842104     0.309299      0.786998     1.090128       2\n",
       "12      -1.230143    -0.137880     -1.333312    -1.446088       0\n",
       "36      -0.376865     0.980068     -1.390618    -1.312603       0\n",
       "9       -1.108246     0.085709     -1.276006    -1.446088       0\n",
       "19      -0.864452     1.650837     -1.276006    -1.179118       0\n",
       "56       0.598311     0.532889      0.557775     0.556188       1\n",
       "104      0.842104    -0.137880      1.188138     1.357098       2\n",
       "69      -0.254968    -1.255829      0.099330    -0.111238       1\n",
       "55      -0.133071    -0.585060      0.443164     0.155733       1\n",
       "132      0.720208    -0.585060      1.073526     1.357098       2\n",
       "29      -1.352040     0.309299     -1.218701    -1.312603       0\n",
       "127      0.354517    -0.137880      0.672387     0.823158       2\n",
       "26      -0.986349     0.756479     -1.218701    -1.045633       0\n",
       "128      0.720208    -0.585060      1.073526     1.223613       2\n",
       "131      2.548661     1.650837      1.531972     1.090128       2\n",
       "145      1.085898    -0.137880      0.844304     1.490583       2\n",
       "108      1.085898    -1.255829      1.188138     0.823158       2\n",
       "143      1.207795     0.309299      1.245443     1.490583       2\n",
       "45      -1.230143    -0.137880     -1.333312    -1.179118       0\n",
       "30      -1.230143     0.085709     -1.218701    -1.312603       0"
      ],
      "text/html": "<div>\n<style scoped>\n    .dataframe tbody tr th:only-of-type {\n        vertical-align: middle;\n    }\n\n    .dataframe tbody tr th {\n        vertical-align: top;\n    }\n\n    .dataframe thead th {\n        text-align: right;\n    }\n</style>\n<table border=\"1\" class=\"dataframe\">\n  <thead>\n    <tr style=\"text-align: right;\">\n      <th></th>\n      <th>sepal length</th>\n      <th>sepal width</th>\n      <th>petal length</th>\n      <th>petal width</th>\n      <th>target</th>\n    </tr>\n  </thead>\n  <tbody>\n    <tr>\n      <th>73</th>\n      <td>0.354517</td>\n      <td>-0.585060</td>\n      <td>0.557775</td>\n      <td>0.022248</td>\n      <td>1</td>\n    </tr>\n    <tr>\n      <th>18</th>\n      <td>-0.133071</td>\n      <td>1.650837</td>\n      <td>-1.161395</td>\n      <td>-1.179118</td>\n      <td>0</td>\n    </tr>\n    <tr>\n      <th>118</th>\n      <td>2.304867</td>\n      <td>-1.032239</td>\n      <td>1.818500</td>\n      <td>1.490583</td>\n      <td>2</td>\n    </tr>\n    <tr>\n      <th>78</th>\n      <td>0.232620</td>\n      <td>-0.361470</td>\n      <td>0.443164</td>\n      <td>0.422703</td>\n      <td>1</td>\n    </tr>\n    <tr>\n      <th>76</th>\n      <td>1.207795</td>\n      <td>-0.585060</td>\n      <td>0.615081</td>\n      <td>0.289218</td>\n      <td>1</td>\n    </tr>\n    <tr>\n      <th>31</th>\n      <td>-0.498762</td>\n      <td>0.756479</td>\n      <td>-1.276006</td>\n      <td>-1.045633</td>\n      <td>0</td>\n    </tr>\n    <tr>\n      <th>64</th>\n      <td>-0.254968</td>\n      <td>-0.361470</td>\n      <td>-0.072587</td>\n      <td>0.155733</td>\n      <td>1</td>\n    </tr>\n    <tr>\n      <th>141</th>\n      <td>1.329692</td>\n      <td>0.085709</td>\n      <td>0.786998</td>\n      <td>1.490583</td>\n      <td>2</td>\n    </tr>\n    <tr>\n      <th>68</th>\n      <td>0.476414</td>\n      <td>-1.926598</td>\n      <td>0.443164</td>\n      <td>0.422703</td>\n      <td>1</td>\n    </tr>\n    <tr>\n      <th>82</th>\n      <td>-0.011174</td>\n      <td>-0.808649</td>\n      <td>0.099330</td>\n      <td>0.022248</td>\n      <td>1</td>\n    </tr>\n    <tr>\n      <th>110</th>\n      <td>0.842104</td>\n      <td>0.309299</td>\n      <td>0.786998</td>\n      <td>1.090128</td>\n      <td>2</td>\n    </tr>\n    <tr>\n      <th>12</th>\n      <td>-1.230143</td>\n      <td>-0.137880</td>\n      <td>-1.333312</td>\n      <td>-1.446088</td>\n      <td>0</td>\n    </tr>\n    <tr>\n      <th>36</th>\n      <td>-0.376865</td>\n      <td>0.980068</td>\n      <td>-1.390618</td>\n      <td>-1.312603</td>\n      <td>0</td>\n    </tr>\n    <tr>\n      <th>9</th>\n      <td>-1.108246</td>\n      <td>0.085709</td>\n      <td>-1.276006</td>\n      <td>-1.446088</td>\n      <td>0</td>\n    </tr>\n    <tr>\n      <th>19</th>\n      <td>-0.864452</td>\n      <td>1.650837</td>\n      <td>-1.276006</td>\n      <td>-1.179118</td>\n      <td>0</td>\n    </tr>\n    <tr>\n      <th>56</th>\n      <td>0.598311</td>\n      <td>0.532889</td>\n      <td>0.557775</td>\n      <td>0.556188</td>\n      <td>1</td>\n    </tr>\n    <tr>\n      <th>104</th>\n      <td>0.842104</td>\n      <td>-0.137880</td>\n      <td>1.188138</td>\n      <td>1.357098</td>\n      <td>2</td>\n    </tr>\n    <tr>\n      <th>69</th>\n      <td>-0.254968</td>\n      <td>-1.255829</td>\n      <td>0.099330</td>\n      <td>-0.111238</td>\n      <td>1</td>\n    </tr>\n    <tr>\n      <th>55</th>\n      <td>-0.133071</td>\n      <td>-0.585060</td>\n      <td>0.443164</td>\n      <td>0.155733</td>\n      <td>1</td>\n    </tr>\n    <tr>\n      <th>132</th>\n      <td>0.720208</td>\n      <td>-0.585060</td>\n      <td>1.073526</td>\n      <td>1.357098</td>\n      <td>2</td>\n    </tr>\n    <tr>\n      <th>29</th>\n      <td>-1.352040</td>\n      <td>0.309299</td>\n      <td>-1.218701</td>\n      <td>-1.312603</td>\n      <td>0</td>\n    </tr>\n    <tr>\n      <th>127</th>\n      <td>0.354517</td>\n      <td>-0.137880</td>\n      <td>0.672387</td>\n      <td>0.823158</td>\n      <td>2</td>\n    </tr>\n    <tr>\n      <th>26</th>\n      <td>-0.986349</td>\n      <td>0.756479</td>\n      <td>-1.218701</td>\n      <td>-1.045633</td>\n      <td>0</td>\n    </tr>\n    <tr>\n      <th>128</th>\n      <td>0.720208</td>\n      <td>-0.585060</td>\n      <td>1.073526</td>\n      <td>1.223613</td>\n      <td>2</td>\n    </tr>\n    <tr>\n      <th>131</th>\n      <td>2.548661</td>\n      <td>1.650837</td>\n      <td>1.531972</td>\n      <td>1.090128</td>\n      <td>2</td>\n    </tr>\n    <tr>\n      <th>145</th>\n      <td>1.085898</td>\n      <td>-0.137880</td>\n      <td>0.844304</td>\n      <td>1.490583</td>\n      <td>2</td>\n    </tr>\n    <tr>\n      <th>108</th>\n      <td>1.085898</td>\n      <td>-1.255829</td>\n      <td>1.188138</td>\n      <td>0.823158</td>\n      <td>2</td>\n    </tr>\n    <tr>\n      <th>143</th>\n      <td>1.207795</td>\n      <td>0.309299</td>\n      <td>1.245443</td>\n      <td>1.490583</td>\n      <td>2</td>\n    </tr>\n    <tr>\n      <th>45</th>\n      <td>-1.230143</td>\n      <td>-0.137880</td>\n      <td>-1.333312</td>\n      <td>-1.179118</td>\n      <td>0</td>\n    </tr>\n    <tr>\n      <th>30</th>\n      <td>-1.230143</td>\n      <td>0.085709</td>\n      <td>-1.218701</td>\n      <td>-1.312603</td>\n      <td>0</td>\n    </tr>\n  </tbody>\n</table>\n</div>"
     },
     "metadata": {},
     "execution_count": 199
    }
   ],
   "source": [
    "pd.concat([X_test, y_test], axis = 1)"
   ]
  },
  {
   "cell_type": "code",
   "execution_count": 197,
   "metadata": {},
   "outputs": [
    {
     "output_type": "execute_result",
     "data": {
      "text/plain": [
       "['BooleanDtype',\n",
       " 'Categorical',\n",
       " 'CategoricalDtype',\n",
       " 'CategoricalIndex',\n",
       " 'DataFrame',\n",
       " 'DateOffset',\n",
       " 'DatetimeIndex',\n",
       " 'DatetimeTZDtype',\n",
       " 'ExcelFile',\n",
       " 'ExcelWriter',\n",
       " 'Flags',\n",
       " 'Float32Dtype',\n",
       " 'Float64Dtype',\n",
       " 'Float64Index',\n",
       " 'Grouper',\n",
       " 'HDFStore',\n",
       " 'Index',\n",
       " 'IndexSlice',\n",
       " 'Int16Dtype',\n",
       " 'Int32Dtype',\n",
       " 'Int64Dtype',\n",
       " 'Int64Index',\n",
       " 'Int8Dtype',\n",
       " 'Interval',\n",
       " 'IntervalDtype',\n",
       " 'IntervalIndex',\n",
       " 'MultiIndex',\n",
       " 'NA',\n",
       " 'NaT',\n",
       " 'NamedAgg',\n",
       " 'Period',\n",
       " 'PeriodDtype',\n",
       " 'PeriodIndex',\n",
       " 'RangeIndex',\n",
       " 'Series',\n",
       " 'SparseDtype',\n",
       " 'StringDtype',\n",
       " 'Timedelta',\n",
       " 'TimedeltaIndex',\n",
       " 'Timestamp',\n",
       " 'UInt16Dtype',\n",
       " 'UInt32Dtype',\n",
       " 'UInt64Dtype',\n",
       " 'UInt64Index',\n",
       " 'UInt8Dtype',\n",
       " '__builtins__',\n",
       " '__cached__',\n",
       " '__doc__',\n",
       " '__docformat__',\n",
       " '__file__',\n",
       " '__getattr__',\n",
       " '__git_version__',\n",
       " '__loader__',\n",
       " '__name__',\n",
       " '__package__',\n",
       " '__path__',\n",
       " '__spec__',\n",
       " '__version__',\n",
       " '_config',\n",
       " '_hashtable',\n",
       " '_is_numpy_dev',\n",
       " '_lib',\n",
       " '_libs',\n",
       " '_np_version_under1p17',\n",
       " '_np_version_under1p18',\n",
       " '_testing',\n",
       " '_tslib',\n",
       " '_typing',\n",
       " '_version',\n",
       " 'api',\n",
       " 'array',\n",
       " 'arrays',\n",
       " 'bdate_range',\n",
       " 'compat',\n",
       " 'concat',\n",
       " 'core',\n",
       " 'crosstab',\n",
       " 'cut',\n",
       " 'date_range',\n",
       " 'describe_option',\n",
       " 'errors',\n",
       " 'eval',\n",
       " 'factorize',\n",
       " 'get_dummies',\n",
       " 'get_option',\n",
       " 'infer_freq',\n",
       " 'interval_range',\n",
       " 'io',\n",
       " 'isna',\n",
       " 'isnull',\n",
       " 'json_normalize',\n",
       " 'lreshape',\n",
       " 'melt',\n",
       " 'merge',\n",
       " 'merge_asof',\n",
       " 'merge_ordered',\n",
       " 'notna',\n",
       " 'notnull',\n",
       " 'offsets',\n",
       " 'option_context',\n",
       " 'options',\n",
       " 'pandas',\n",
       " 'period_range',\n",
       " 'pivot',\n",
       " 'pivot_table',\n",
       " 'plotting',\n",
       " 'qcut',\n",
       " 'read_clipboard',\n",
       " 'read_csv',\n",
       " 'read_excel',\n",
       " 'read_feather',\n",
       " 'read_fwf',\n",
       " 'read_gbq',\n",
       " 'read_hdf',\n",
       " 'read_html',\n",
       " 'read_json',\n",
       " 'read_orc',\n",
       " 'read_parquet',\n",
       " 'read_pickle',\n",
       " 'read_sas',\n",
       " 'read_spss',\n",
       " 'read_sql',\n",
       " 'read_sql_query',\n",
       " 'read_sql_table',\n",
       " 'read_stata',\n",
       " 'read_table',\n",
       " 'reset_option',\n",
       " 'set_eng_float_format',\n",
       " 'set_option',\n",
       " 'show_versions',\n",
       " 'test',\n",
       " 'testing',\n",
       " 'timedelta_range',\n",
       " 'to_datetime',\n",
       " 'to_numeric',\n",
       " 'to_pickle',\n",
       " 'to_timedelta',\n",
       " 'tseries',\n",
       " 'unique',\n",
       " 'util',\n",
       " 'value_counts',\n",
       " 'wide_to_long']"
      ]
     },
     "metadata": {},
     "execution_count": 197
    }
   ],
   "source": [
    "dir(pd)"
   ]
  },
  {
   "cell_type": "code",
   "execution_count": 18,
   "metadata": {},
   "outputs": [],
   "source": [
    "X = np.random.rand(100)\n",
    "y = np.zeros(100)"
   ]
  },
  {
   "cell_type": "code",
   "execution_count": 19,
   "metadata": {},
   "outputs": [
    {
     "output_type": "execute_result",
     "data": {
      "text/plain": [
       "array([0., 0., 0., 0., 0., 0., 0., 0., 0., 0., 0., 0., 0., 0., 0., 0., 0.,\n",
       "       0., 0., 0., 0., 0., 0., 0., 0., 0., 0., 0., 0., 0., 0., 0., 0., 0.,\n",
       "       0., 0., 0., 0., 0., 0., 0., 0., 0., 0., 0., 0., 0., 0., 0., 0., 0.,\n",
       "       0., 0., 0., 0., 0., 0., 0., 0., 0., 0., 0., 0., 0., 0., 0., 0., 0.,\n",
       "       0., 0., 0., 0., 0., 0., 0., 0., 0., 0., 0., 0., 0., 0., 0., 0., 0.,\n",
       "       0., 0., 0., 0., 0., 0., 0., 0., 0., 0., 0., 0., 0., 0., 0.])"
      ]
     },
     "metadata": {},
     "execution_count": 19
    }
   ],
   "source": [
    "y"
   ]
  },
  {
   "cell_type": "code",
   "execution_count": 20,
   "metadata": {},
   "outputs": [],
   "source": [
    "y[np.random.randint(0,50, size = [5])] = 1"
   ]
  },
  {
   "cell_type": "code",
   "execution_count": 21,
   "metadata": {
    "tags": []
   },
   "outputs": [
    {
     "output_type": "execute_result",
     "data": {
      "text/plain": [
       "array([0., 0., 0., 0., 0., 0., 0., 0., 1., 0., 0., 0., 0., 0., 0., 0., 0.,\n",
       "       0., 0., 1., 0., 0., 0., 1., 0., 0., 0., 0., 0., 0., 0., 0., 1., 0.,\n",
       "       0., 0., 0., 0., 0., 0., 0., 0., 0., 0., 0., 0., 1., 0., 0., 0., 0.,\n",
       "       0., 0., 0., 0., 0., 0., 0., 0., 0., 0., 0., 0., 0., 0., 0., 0., 0.,\n",
       "       0., 0., 0., 0., 0., 0., 0., 0., 0., 0., 0., 0., 0., 0., 0., 0., 0.,\n",
       "       0., 0., 0., 0., 0., 0., 0., 0., 0., 0., 0., 0., 0., 0., 0.])"
      ]
     },
     "metadata": {},
     "execution_count": 21
    }
   ],
   "source": [
    "y"
   ]
  },
  {
   "cell_type": "code",
   "execution_count": 23,
   "metadata": {},
   "outputs": [
    {
     "output_type": "execute_result",
     "data": {
      "text/plain": [
       "0.0    95\n",
       "1.0     5\n",
       "dtype: int64"
      ]
     },
     "metadata": {},
     "execution_count": 23
    }
   ],
   "source": [
    "pd.Series(y).value_counts()"
   ]
  },
  {
   "cell_type": "code",
   "execution_count": null,
   "metadata": {},
   "outputs": [],
   "source": []
  }
 ]
}