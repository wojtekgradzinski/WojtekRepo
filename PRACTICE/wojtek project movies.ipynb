{
 "metadata": {
  "language_info": {
   "codemirror_mode": {
    "name": "ipython",
    "version": 3
   },
   "file_extension": ".py",
   "mimetype": "text/x-python",
   "name": "python",
   "nbconvert_exporter": "python",
   "pygments_lexer": "ipython3",
   "version": "3.8.10"
  },
  "orig_nbformat": 2,
  "kernelspec": {
   "name": "python3810jvsc74a57bd0273e4cd330c9365d0d8fc6d704b08084cf297120c969e21fb6416b510b92ba85",
   "display_name": "Python 3.8.10 64-bit ('wojtek': conda)"
  }
 },
 "nbformat": 4,
 "nbformat_minor": 2,
 "cells": [
  {
   "cell_type": "code",
   "execution_count": 22,
   "metadata": {
    "tags": []
   },
   "outputs": [
    {
     "output_type": "stream",
     "name": "stdout",
     "text": [
      "                       Movie Title Movie Duration  Ratings  \\\n0         The Silence of the Lambs        118 min      8.6   \n1                     Resurrection        108 min      6.1   \n2                    The Rainmaker        135 min      7.2   \n3            Män som hatar kvinnor        152 min      7.8   \n4               The Bone Collector        118 min      6.7   \n..                             ...            ...      ...   \n95                         Bin-jip         88 min      8.0   \n96                    Hung fan kui        104 min      6.8   \n97  The Chant of Jimmie Blacksmith        122 min      7.3   \n98                La chambre bleue         76 min      6.3   \n99                 Sherlock Holmes        128 min      7.6   \n\n                                          Description  \n0   A young F.B.I. cadet must receive the help of ...  \n1   Chicago homicide detectives Prudhome and Holli...  \n2   An underdog lawyer takes on a fraudulent insur...  \n3   A journalist is aided by a young female hacker...  \n4   A quadriplegic ex-homicide detective and his p...  \n..                                                ...  \n95  A transient young man breaks into empty homes ...  \n96  A young man visiting and helping his uncle in ...  \n97  Jimmie Blacksmith, the son of an Aboriginal mo...  \n98  In their blue hotel room, a clandestine couple...  \n99  Detective Sherlock Holmes and his stalwart par...  \n\n[100 rows x 4 columns]\n"
     ]
    }
   ],
   "source": [
    "import requests\n",
    "import pandas as pd\n",
    "from bs4 import BeautifulSoup\n",
    "import re\n",
    "\n",
    "page = requests.get(\"https://www.imdb.com/list/ls064287418/\")\n",
    "\n",
    "soup = BeautifulSoup(page.content, 'html.parser')\n",
    "\n",
    "\n",
    "#Fetsching data\n",
    "\n",
    "\n",
    "description = soup.findAll(\"p\", class_ = \"\")\n",
    "\n",
    "movie_title = soup.findAll(\"a\", class_ = \"lister-item-header\", href= True)\n",
    "\n",
    "film_duration = soup.find_all('span', class_= 'runtime')\n",
    "\n",
    "rating = soup.find_all('span', class_ = \"ipl-rating-star__rating\")\n",
    "\n",
    "\n",
    "#set mpty lists\n",
    "\n",
    "film_duration_txt = []\n",
    "movie_title = []\n",
    "movie_descriptions = []\n",
    "ratings = []\n",
    "\n",
    "#description\n",
    "\n",
    "desc = str(description)\n",
    "pattern = r'[0-9]'\n",
    "desc = re.sub(pattern, '', desc)\n",
    "desc1 = desc.strip('[\\'[<p>These are the top  movies from the Crime genre (as per indicated by IMDb, even though I may disagree with some movies being classed as such) that I have watched &amp; rated since joining IMDb in July , well at least according to me anyway. This is not a complete list of everything I have watched ever as my memory isn\\'t that good but is a complete list since joining and thus keeping track. I have them listed in order from my favourite down.</p>, <p class=\"\">\\n    ').replace('</p>, <p>/','').replace('<a href=\"/name/nm\">','').replace('</a>','').replace('</p>]','')\n",
    "#print(desc1)\n",
    "movie_description = desc1.split('</p>, <p class=\"\">\\n    ')\n",
    "\n",
    "#ratings\n",
    "string = str(rating)\n",
    "string = string.replace('<span class=\"ipl-rating-star__rating\">','rat').replace('</span>, ratRate</span>, rat','').replace('</span>, rat012345678910','rat').replace('</span>, ratRate</span>]','').strip('[').strip('')\n",
    "#print(string)\n",
    "strings = string.split('rat')\n",
    "del strings[-1]\n",
    "del strings[0]\n",
    "#print(strings)\n",
    "rating_list = list(map(float, strings))\n",
    "\n",
    "for t in film_duration:\n",
    "    film_duration_txt.append(t.text)\n",
    "\n",
    "for title in soup.findAll('h3', {'class':'lister-item-header'}):\n",
    "    titles = title.find('a', href = True).get_text()\n",
    "    movie_title.append(titles)\n",
    "\n",
    "\n",
    "\n",
    "\n",
    "#for el in description:\n",
    "    #descriptions.append(el.text)\n",
    "\n",
    "#for el in movies_ratings:\n",
    "    #ratings.append(el.text)\n",
    "#zip data into tuples\n",
    "\n",
    "data_zipped_in_tuples = zip( movie_title, film_duration_txt,rating_list, movie_description) \n",
    "\n",
    "#Putting data into pandas\n",
    "\n",
    "data_table = pd.DataFrame(data_zipped_in_tuples, columns= ['Movie Title', 'Movie Duration', 'Ratings', \"Description\"])\n",
    "\n",
    "#data_in_tuples = zip(escription)\n",
    "\n",
    "#putting data into panda data frame\n",
    "\n",
    "#movies_data = pd.DataFrame(data_in_tuples, columns=['ratings', 'description'])\n",
    "#for description in soup.findAll('p', {'class':''}):\n",
    "    #descriptions = description.find('p').get_text()\n",
    "    #movie_descriptions.append(descriptions)\n",
    "\n",
    "\n",
    "\n",
    "print(data_table)\n",
    "\n",
    "#print(ratings)\n",
    "#print(descriptions)\n",
    "#print(movie_title)\n",
    "#print(film_duration_txt)\n"
   ]
  },
  {
   "cell_type": "code",
   "execution_count": null,
   "metadata": {},
   "outputs": [],
   "source": []
  },
  {
   "cell_type": "code",
   "execution_count": null,
   "metadata": {},
   "outputs": [],
   "source": []
  }
 ]
}