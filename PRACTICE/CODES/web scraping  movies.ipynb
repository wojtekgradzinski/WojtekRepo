{
 "metadata": {
  "language_info": {
   "codemirror_mode": {
    "name": "ipython",
    "version": 3
   },
   "file_extension": ".py",
   "mimetype": "text/x-python",
   "name": "python",
   "nbconvert_exporter": "python",
   "pygments_lexer": "ipython3",
   "version": "3.8.10"
  },
  "orig_nbformat": 2,
  "kernelspec": {
   "name": "python3810jvsc74a57bd0273e4cd330c9365d0d8fc6d704b08084cf297120c969e21fb6416b510b92ba85",
   "display_name": "Python 3.8.10 64-bit ('wojtek': conda)"
  }
 },
 "nbformat": 4,
 "nbformat_minor": 2,
 "cells": [
  {
   "cell_type": "code",
   "execution_count": 3,
   "metadata": {},
   "outputs": [
    {
     "output_type": "stream",
     "name": "stdout",
     "text": [
      "      period-name                                 short-desc         temp\n0       Overnight                              Mostly Cloudy   Low: 54 °F\n1          Friday         Partly Sunny then Sunny and Breezy  High: 65 °F\n2    Friday Night  Mostly Clear and Breezy then Mostly Clear   Low: 53 °F\n3        Saturday                                      Sunny  High: 68 °F\n4  Saturday Night                               Mostly Clear   Low: 52 °F\n5          Sunday                                      Sunny  High: 68 °F\n6    Sunday Night                               Mostly Clear   Low: 52 °F\n7          Monday                                      Sunny  High: 64 °F\n8    Monday Night                              Partly Cloudy   Low: 51 °F\n\n      period-name                                 short-desc           temp\n0       Overnight                              Mostly Cloudy   Low: 12.2 °C\n1          Friday         Partly Sunny then Sunny and Breezy  High: 18.3 °C\n2    Friday Night  Mostly Clear and Breezy then Mostly Clear   Low: 11.7 °C\n3        Saturday                                      Sunny  High: 20.0 °C\n4  Saturday Night                               Mostly Clear   Low: 11.1 °C\n5          Sunday                                      Sunny  High: 20.0 °C\n6    Sunday Night                               Mostly Clear   Low: 11.1 °C\n7          Monday                                      Sunny  High: 17.8 °C\n8    Monday Night                              Partly Cloudy   Low: 10.6 °C\n"
     ]
    }
   ],
   "source": [
    "# I decided to beat the exercise from the workbook!\n",
    "\n",
    "import requests\n",
    "import pandas as pd\n",
    "from bs4 import BeautifulSoup\n",
    "\n",
    "page = requests.get(\"https://forecast.weather.gov/MapClick.php?lat=37.777120000000025&lon=-122.41963999999996#.X9DVpBakolQ\")\n",
    "soup = BeautifulSoup(page.content, 'html.parser')\n",
    "\n",
    "# first filtering we do over <div class=\"tombstone-container\"> because it suits our needs\n",
    "all_data = soup.findAll('div', class_=\"tombstone-container\")\n",
    "\n",
    "# lists for storage\n",
    "period_names = []\n",
    "short_descriptions = []\n",
    "temperatures = []\n",
    "\n",
    "# fill them with data :)\n",
    "for data in all_data:\n",
    "    period_names.append(data.find('p', class_='period-name').get_text(separator=' '))\n",
    "    short_descriptions.append(data.find('p', class_='short-desc').get_text(separator=' '))    \n",
    "    temperatures.append(data.find('p', class_='temp').get_text())\n",
    "\n",
    "# let's zip them into touples!\n",
    "data_touples = zip(period_names, short_descriptions, temperatures)\n",
    "\n",
    "# and create a nice data frame :)\n",
    "weather_data = pd.DataFrame(data_touples, columns=['period-name', 'short-desc', 'temp'])\n",
    "\n",
    "\n",
    "#################################\n",
    "# and with dedication for Wojtek:\n",
    "def to_celsius(fahrenheit):\n",
    "    i_fahr = int(fahrenheit)\n",
    "    d_cels = round((i_fahr - 32) * 5/9, 1)\n",
    "    return str(d_cels)\n",
    "\n",
    "\n",
    "temperatures_c = []\n",
    "for t in temperatures:\n",
    "    t_splitted = t.split()\n",
    "    t_splitted[1] = to_celsius(t_splitted[1])\n",
    "    t_splitted[2] = t_splitted[2].replace('F', 'C')\n",
    "    t_joined = \" \".join(t_splitted)\n",
    "    temperatures_c.append(t_joined)\n",
    "\n",
    "data_touples = zip(period_names, short_descriptions, temperatures_c)\n",
    "weather_data_c = pd.DataFrame(data_touples, columns=['period-name', 'short-desc', 'temp'])\n",
    "\n",
    "\n",
    "print(weather_data)\n",
    "print()\n",
    "print(weather_data_c)"
   ]
  },
  {
   "cell_type": "code",
   "execution_count": null,
   "metadata": {},
   "outputs": [],
   "source": [
    "page = requests.get(\"https://www.imdb.com/list/ls009668704/\")\n",
    "\n",
    "soup"
   ]
  },
  {
   "cell_type": "code",
   "execution_count": null,
   "metadata": {},
   "outputs": [],
   "source": []
  },
  {
   "cell_type": "code",
   "execution_count": 2,
   "metadata": {},
   "outputs": [
    {
     "output_type": "stream",
     "name": "stdout",
     "text": [
      "     0            1\n0  cow       fluffy\n1  dog     obedient\n2  cat  mischevious\n3  hog       smelly\n"
     ]
    }
   ],
   "source": [
    "\n",
    "import pandas as pd\n",
    "\n",
    "lista1 = [11, 12, 13, 14]\n",
    "lista2 = ['cow', 'dog', 'cat', 'hog']\n",
    "lista3 = ['fluffy', 'obedient', 'mischevious', 'smelly']\n",
    "\n",
    "triplets = zip(lista2, lista3)\n",
    "\n",
    "# for t in triplets:\n",
    "#     print(t)\n",
    "\n",
    "\n",
    "frame = pd.DataFrame(triplets)\n",
    "print(frame)\n"
   ]
  },
  {
   "cell_type": "code",
   "execution_count": 2,
   "metadata": {},
   "outputs": [
    {
     "output_type": "execute_result",
     "data": {
      "text/plain": [
       "           period                                description           temp\n",
       "0  This Afternoon                           Sunny and Breezy  High: 20.0 °C\n",
       "1         Tonight                          Increasing Clouds   Low: 12.2 °C\n",
       "2          Friday         Mostly Sunny then Sunny and Breezy  High: 20.0 °C\n",
       "3    Friday Night  Mostly Clear and Breezy then Mostly Clear   Low: 11.1 °C\n",
       "4        Saturday                                      Sunny  High: 20.0 °C\n",
       "5  Saturday Night                               Mostly Clear   Low: 11.1 °C\n",
       "6          Sunday                                      Sunny  High: 19.4 °C\n",
       "7    Sunday Night                               Mostly Clear   Low: 11.1 °C\n",
       "8          Monday                                      Sunny  High: 17.8 °C"
      ],
      "text/html": "<div>\n<style scoped>\n    .dataframe tbody tr th:only-of-type {\n        vertical-align: middle;\n    }\n\n    .dataframe tbody tr th {\n        vertical-align: top;\n    }\n\n    .dataframe thead th {\n        text-align: right;\n    }\n</style>\n<table border=\"1\" class=\"dataframe\">\n  <thead>\n    <tr style=\"text-align: right;\">\n      <th></th>\n      <th>period</th>\n      <th>description</th>\n      <th>temp</th>\n    </tr>\n  </thead>\n  <tbody>\n    <tr>\n      <th>0</th>\n      <td>This Afternoon</td>\n      <td>Sunny and Breezy</td>\n      <td>High: 20.0 °C</td>\n    </tr>\n    <tr>\n      <th>1</th>\n      <td>Tonight</td>\n      <td>Increasing Clouds</td>\n      <td>Low: 12.2 °C</td>\n    </tr>\n    <tr>\n      <th>2</th>\n      <td>Friday</td>\n      <td>Mostly Sunny then Sunny and Breezy</td>\n      <td>High: 20.0 °C</td>\n    </tr>\n    <tr>\n      <th>3</th>\n      <td>Friday Night</td>\n      <td>Mostly Clear and Breezy then Mostly Clear</td>\n      <td>Low: 11.1 °C</td>\n    </tr>\n    <tr>\n      <th>4</th>\n      <td>Saturday</td>\n      <td>Sunny</td>\n      <td>High: 20.0 °C</td>\n    </tr>\n    <tr>\n      <th>5</th>\n      <td>Saturday Night</td>\n      <td>Mostly Clear</td>\n      <td>Low: 11.1 °C</td>\n    </tr>\n    <tr>\n      <th>6</th>\n      <td>Sunday</td>\n      <td>Sunny</td>\n      <td>High: 19.4 °C</td>\n    </tr>\n    <tr>\n      <th>7</th>\n      <td>Sunday Night</td>\n      <td>Mostly Clear</td>\n      <td>Low: 11.1 °C</td>\n    </tr>\n    <tr>\n      <th>8</th>\n      <td>Monday</td>\n      <td>Sunny</td>\n      <td>High: 17.8 °C</td>\n    </tr>\n  </tbody>\n</table>\n</div>"
     },
     "metadata": {},
     "execution_count": 2
    }
   ],
   "source": [
    "#Step 1 - import stuff\n",
    "\n",
    "import requests\n",
    "import pandas as pd\n",
    "from bs4 import BeautifulSoup as bs\n",
    "\n",
    "#Step 2 - request content, parse it and soupify it\n",
    "\n",
    "soup = bs(\n",
    "    requests.get('https://forecast.weather.gov/MapClick.php?lat=37.777120000000025&lon=-122.41963999999996').content,\n",
    "    'html.parser'\n",
    ")\n",
    "\n",
    "#Step 3 - create a farenheit to celcius text parser\n",
    "\n",
    "def to_cels(fahr_txt):\n",
    "    ft_splitted = fahr_txt.split()\n",
    "    ft_splitted[1] = str(round((int(ft_splitted[1])-32)*5/9, 1))\n",
    "    ft_splitted[2] = ft_splitted[2].replace('F', 'C')\n",
    "    return ' '.join(ft_splitted)\n",
    "\n",
    "\n",
    "#Step 4 - create a data frame\n",
    "\n",
    "frame = pd.DataFrame(\n",
    "    zip(\n",
    "        [pn_s.get_text(separator=' ') for pn_s in soup.find_all('p', class_='period-name')],\n",
    "        [sd_s.get_text(separator=' ') for sd_s in soup.find_all('p', class_='short-desc')],\n",
    "        [to_cels(t_s.get_text(separator=' ')) for t_s in soup.find_all('p', class_='temp')]\n",
    "    ),\n",
    "    columns = (\n",
    "        'period',\n",
    "        'description',\n",
    "        'temp'\n",
    "    )\n",
    ")\n",
    "\n",
    "#Step 5 - profit\n",
    "\n",
    "\n",
    "frame\n"
   ]
  },
  {
   "cell_type": "code",
   "execution_count": null,
   "metadata": {},
   "outputs": [],
   "source": [
    "import requests\n",
    "import pandas as pd\n",
    "from bs4 import BeautifulSoup as bs\n",
    "\n",
    "soup = bs(\n",
    "    requests.get('https://forecast.weather.gov/MapClick.php?lat=37.777120000000025&lon=-122.41963999999996').content,\n",
    "    'html.parser'\n",
    ")\n",
    "frame = pd.DataFrame(\n",
    "    zip(\n",
    "        [pn_s.get_text(separator=' ') for pn_s in soup.find_all('p', class_='period-name')],\n",
    "        [sd_s.get_text(separator=' ') for sd_s in soup.find_all('p', class_='short-desc')],\n",
    "        [to_cels(t_s.get_text(separator=' ')) for t_s in soup.find_all('p', class_='temp')]\n",
    "    ),\n",
    "    columns = (\n",
    "        'period',\n",
    "        'description',\n",
    "        'temp'\n",
    "    )\n",
    ")\n"
   ]
  }
 ]
}