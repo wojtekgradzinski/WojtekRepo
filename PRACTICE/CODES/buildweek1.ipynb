{
 "cells": [
  {
   "cell_type": "code",
   "execution_count": 1,
   "metadata": {},
   "outputs": [],
   "source": [
    "import requests\n",
    "import pandas as pd\n",
    "from bs4 import BeautifulSoup\n",
    "import bs4\n",
    "from time import sleep\n",
    "import time\n",
    "import random\n",
    "import matplotlib.pyplot as plt"
   ]
  },
  {
   "cell_type": "code",
   "execution_count": 2,
   "metadata": {},
   "outputs": [],
   "source": [
    "pub_ratings = []\n",
    "pub_reviews = []\n",
    "pub_names = []\n",
    "num_reviews = []\n",
    "price_range = []\n"
   ]
  },
  {
   "cell_type": "code",
   "execution_count": 3,
   "metadata": {
    "tags": []
   },
   "outputs": [],
   "source": [
    "\n",
    "\n",
    "#for loop for all pages\n",
    "\n",
    "for i in range(0,240,10):      # Number of pages plus one \n",
    "    url = \"https://www.yelp.ie/search?find_desc=Pubs+%26+Bars&find_loc=london&ns=1&start={}\".format(i)\n",
    "    r = requests.get(url)\n",
    "    soup_240 = BeautifulSoup(r.content, 'html.parser')\n",
    "    time.sleep(random.randint(1,5))\n",
    "\n",
    "#data filtering\n",
    "     \n",
    "    all_data = soup_240.findAll('div', class_=\"container__09f24__21w3G hoverable__09f24__2nTf3 margin-t3__09f24__5bM2Z margin-b3__09f24__1DQ9x padding-t3__09f24__-R_5x padding-r3__09f24__1pBFG padding-b3__09f24__1vW6j padding-l3__09f24__1yCJf border--top__09f24__8W8ca border--right__09f24__1u7Gt border--bottom__09f24__xdij8 border--left__09f24__rwKIa border-color--default__09f24__1eOdn\")\n",
    "\n",
    "\n",
    "\n",
    "#filling them with data\n",
    "\n",
    "    for data in all_data:\n",
    "       \n",
    "        pub_names.append(data.find('a', class_='css-166la90').get_text(separator=' '))  \n",
    "\n",
    "        try:\n",
    "            num_reviews.append(data.find('span',class_='reviewCount__09f24__EUXPN').get_text(separator=' '))\n",
    "        except Exception as e:\n",
    "            num_reviews.append(None)\n",
    "\n",
    "        try:\n",
    "            pub_reviews.append(data.find('p', class_='css-e81eai').get_text(separator=' '))\n",
    "        except Exception as e:\n",
    "            pub_reviews.append(None)\n",
    "        try:    \n",
    "\n",
    "            price_range.append(data.find('span', class_='priceRange__09f24__2O6le').get_text(separator=' '))\n",
    "        except Exception as e:\n",
    "            price_range.append(None) \n",
    "\n",
    "        try:\n",
    "            a = data.select(\".overflow--hidden__09f24__3z7CX\")[0]\n",
    "            rating = a[\"aria-label\"]\n",
    "            rating = rating.split(\" \")[0]\n",
    "            rating = float(rating)\n",
    "            pub_ratings.append(rating)\n",
    "        except Exception as e:\n",
    "            pub_ratings.append(None)   \n",
    "\n",
    "\n",
    "\n",
    "\n",
    "\n",
    "    "
   ]
  },
  {
   "cell_type": "code",
   "execution_count": 4,
   "metadata": {},
   "outputs": [
    {
     "output_type": "execute_result",
     "data": {
      "text/plain": [
       "'4'"
      ]
     },
     "metadata": {},
     "execution_count": 4
    }
   ],
   "source": [
    "a['aria-label']\r\n",
    "a['aria-label'].split(' ')[0]"
   ]
  },
  {
   "cell_type": "code",
   "execution_count": 5,
   "metadata": {},
   "outputs": [
    {
     "output_type": "execute_result",
     "data": {
      "text/plain": [
       "                      pub_names num_reviews  pub_ratings price_range  \\\n",
       "0                      The Harp         135          4.5           £   \n",
       "1                   Cahoots Bar         106          4.5          ££   \n",
       "2             The Monkey Puzzle          53          4.5          ££   \n",
       "3                    The Crobar          43          4.5           £   \n",
       "4              The Queen’s Head          47          4.0          ££   \n",
       "5                  The Cauldron          10          4.5        None   \n",
       "6               The Queens Arms         120          4.5          ££   \n",
       "7                  The Ordnance           9          4.0           £   \n",
       "8              Coach and Horses          26          4.0          ££   \n",
       "9                    Heist Bank           8          4.5        None   \n",
       "10              Princess Louise         131          4.5          ££   \n",
       "11                 The Cauldron          10          4.5        None   \n",
       "12             Coach and Horses          26          4.0          ££   \n",
       "13                 The Victoria         217          4.5          ££   \n",
       "14           The Churchill Arms         356          4.0          ££   \n",
       "15  The Grazing Goat Marylebone         240          4.0          ££   \n",
       "16                 The Red Lion          77          4.0          ££   \n",
       "17               Cleveland Arms           8          5.0          ££   \n",
       "18    The Walrus Bar and Hostel          23          4.0           £   \n",
       "19              The King’s Head          21          4.0          ££   \n",
       "\n",
       "                                          pub_reviews  \n",
       "0   “One of my favorite  pubs  in London. It was a...  \n",
       "1   “I loved my experience at Cahoots  Bar ! Go to...  \n",
       "2   “Very chill English proper  pub  close to the ...  \n",
       "3   “ to the Chameleons \"Script of the Bridge.\" We...  \n",
       "4   “Good little spot but I don't really get why t...  \n",
       "5   “ that there was a magic themed  bar  where yo...  \n",
       "6   “ to the food....all really lovely and I will ...  \n",
       "7   “Traditional British  pub , with local and som...  \n",
       "8   “ and horses pup. Nice old  pub , seating very...  \n",
       "9   “This is my goto  bar ! Beers a great, always ...  \n",
       "10  “ the  bar . They serve Samuel Smith beer, a s...  \n",
       "11  “ that there was a magic themed  bar  where yo...  \n",
       "12  “ and horses pup. Nice old  pub , seating very...  \n",
       "13  “I started a review for this  pub  in February...  \n",
       "14  “! The inside holds an eclectic collection of ...  \n",
       "15  “) to the Grazing Goat. The food is excellent,...  \n",
       "16  “ even referenced the place in some of his wor...  \n",
       "17  “Excellent service and cozy  pub . Do not miss...  \n",
       "18  “An ok  pub . The beer was cold and service qu...  \n",
       "19  “The steak and mushroom pie is absolute aces. ...  "
      ],
      "text/html": "<div>\n<style scoped>\n    .dataframe tbody tr th:only-of-type {\n        vertical-align: middle;\n    }\n\n    .dataframe tbody tr th {\n        vertical-align: top;\n    }\n\n    .dataframe thead th {\n        text-align: right;\n    }\n</style>\n<table border=\"1\" class=\"dataframe\">\n  <thead>\n    <tr style=\"text-align: right;\">\n      <th></th>\n      <th>pub_names</th>\n      <th>num_reviews</th>\n      <th>pub_ratings</th>\n      <th>price_range</th>\n      <th>pub_reviews</th>\n    </tr>\n  </thead>\n  <tbody>\n    <tr>\n      <th>0</th>\n      <td>The Harp</td>\n      <td>135</td>\n      <td>4.5</td>\n      <td>£</td>\n      <td>“One of my favorite  pubs  in London. It was a...</td>\n    </tr>\n    <tr>\n      <th>1</th>\n      <td>Cahoots Bar</td>\n      <td>106</td>\n      <td>4.5</td>\n      <td>££</td>\n      <td>“I loved my experience at Cahoots  Bar ! Go to...</td>\n    </tr>\n    <tr>\n      <th>2</th>\n      <td>The Monkey Puzzle</td>\n      <td>53</td>\n      <td>4.5</td>\n      <td>££</td>\n      <td>“Very chill English proper  pub  close to the ...</td>\n    </tr>\n    <tr>\n      <th>3</th>\n      <td>The Crobar</td>\n      <td>43</td>\n      <td>4.5</td>\n      <td>£</td>\n      <td>“ to the Chameleons \"Script of the Bridge.\" We...</td>\n    </tr>\n    <tr>\n      <th>4</th>\n      <td>The Queen’s Head</td>\n      <td>47</td>\n      <td>4.0</td>\n      <td>££</td>\n      <td>“Good little spot but I don't really get why t...</td>\n    </tr>\n    <tr>\n      <th>5</th>\n      <td>The Cauldron</td>\n      <td>10</td>\n      <td>4.5</td>\n      <td>None</td>\n      <td>“ that there was a magic themed  bar  where yo...</td>\n    </tr>\n    <tr>\n      <th>6</th>\n      <td>The Queens Arms</td>\n      <td>120</td>\n      <td>4.5</td>\n      <td>££</td>\n      <td>“ to the food....all really lovely and I will ...</td>\n    </tr>\n    <tr>\n      <th>7</th>\n      <td>The Ordnance</td>\n      <td>9</td>\n      <td>4.0</td>\n      <td>£</td>\n      <td>“Traditional British  pub , with local and som...</td>\n    </tr>\n    <tr>\n      <th>8</th>\n      <td>Coach and Horses</td>\n      <td>26</td>\n      <td>4.0</td>\n      <td>££</td>\n      <td>“ and horses pup. Nice old  pub , seating very...</td>\n    </tr>\n    <tr>\n      <th>9</th>\n      <td>Heist Bank</td>\n      <td>8</td>\n      <td>4.5</td>\n      <td>None</td>\n      <td>“This is my goto  bar ! Beers a great, always ...</td>\n    </tr>\n    <tr>\n      <th>10</th>\n      <td>Princess Louise</td>\n      <td>131</td>\n      <td>4.5</td>\n      <td>££</td>\n      <td>“ the  bar . They serve Samuel Smith beer, a s...</td>\n    </tr>\n    <tr>\n      <th>11</th>\n      <td>The Cauldron</td>\n      <td>10</td>\n      <td>4.5</td>\n      <td>None</td>\n      <td>“ that there was a magic themed  bar  where yo...</td>\n    </tr>\n    <tr>\n      <th>12</th>\n      <td>Coach and Horses</td>\n      <td>26</td>\n      <td>4.0</td>\n      <td>££</td>\n      <td>“ and horses pup. Nice old  pub , seating very...</td>\n    </tr>\n    <tr>\n      <th>13</th>\n      <td>The Victoria</td>\n      <td>217</td>\n      <td>4.5</td>\n      <td>££</td>\n      <td>“I started a review for this  pub  in February...</td>\n    </tr>\n    <tr>\n      <th>14</th>\n      <td>The Churchill Arms</td>\n      <td>356</td>\n      <td>4.0</td>\n      <td>££</td>\n      <td>“! The inside holds an eclectic collection of ...</td>\n    </tr>\n    <tr>\n      <th>15</th>\n      <td>The Grazing Goat Marylebone</td>\n      <td>240</td>\n      <td>4.0</td>\n      <td>££</td>\n      <td>“) to the Grazing Goat. The food is excellent,...</td>\n    </tr>\n    <tr>\n      <th>16</th>\n      <td>The Red Lion</td>\n      <td>77</td>\n      <td>4.0</td>\n      <td>££</td>\n      <td>“ even referenced the place in some of his wor...</td>\n    </tr>\n    <tr>\n      <th>17</th>\n      <td>Cleveland Arms</td>\n      <td>8</td>\n      <td>5.0</td>\n      <td>££</td>\n      <td>“Excellent service and cozy  pub . Do not miss...</td>\n    </tr>\n    <tr>\n      <th>18</th>\n      <td>The Walrus Bar and Hostel</td>\n      <td>23</td>\n      <td>4.0</td>\n      <td>£</td>\n      <td>“An ok  pub . The beer was cold and service qu...</td>\n    </tr>\n    <tr>\n      <th>19</th>\n      <td>The King’s Head</td>\n      <td>21</td>\n      <td>4.0</td>\n      <td>££</td>\n      <td>“The steak and mushroom pie is absolute aces. ...</td>\n    </tr>\n  </tbody>\n</table>\n</div>"
     },
     "metadata": {},
     "execution_count": 5
    }
   ],
   "source": [
    "data_touples = zip(pub_names, num_reviews, pub_ratings, price_range,pub_reviews)\n",
    "df = pd.DataFrame(data_touples, columns=['pub_names', 'num_reviews','pub_ratings','price_range','pub_reviews'])\n",
    "\n",
    "df.head(20)"
   ]
  },
  {
   "cell_type": "code",
   "execution_count": 8,
   "metadata": {},
   "outputs": [
    {
     "output_type": "stream",
     "name": "stdout",
     "text": [
      "<class 'pandas.core.frame.DataFrame'>\nRangeIndex: 230 entries, 0 to 229\nData columns (total 5 columns):\n #   Column       Non-Null Count  Dtype  \n---  ------       --------------  -----  \n 0   pub_names    230 non-null    object \n 1   num_reviews  230 non-null    object \n 2   pub_ratings  230 non-null    float64\n 3   price_range  221 non-null    object \n 4   pub_reviews  230 non-null    object \ndtypes: float64(1), object(4)\nmemory usage: 9.1+ KB\n"
     ]
    }
   ],
   "source": [
    "df.info()\n",
    "\n"
   ]
  },
  {
   "cell_type": "code",
   "execution_count": 9,
   "metadata": {},
   "outputs": [],
   "source": [
    "\n",
    "#df.to_excel('LondonPubs.xlsx', engine='xlsxwriter')  "
   ]
  },
  {
   "cell_type": "code",
   "execution_count": null,
   "metadata": {},
   "outputs": [],
   "source": []
  }
 ],
 "metadata": {
  "interpreter": {
   "hash": "273e4cd330c9365d0d8fc6d704b08084cf297120c969e21fb6416b510b92ba85"
  },
  "kernelspec": {
   "name": "python3",
   "display_name": "Python 3.8.10 64-bit ('wojtek': conda)"
  },
  "language_info": {
   "name": "python",
   "version": "3.8.10"
  },
  "orig_nbformat": 4
 },
 "nbformat": 4,
 "nbformat_minor": 2
}