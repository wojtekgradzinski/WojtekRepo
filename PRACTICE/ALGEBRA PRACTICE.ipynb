{
 "metadata": {
  "language_info": {
   "codemirror_mode": {
    "name": "ipython",
    "version": 3
   },
   "file_extension": ".py",
   "mimetype": "text/x-python",
   "name": "python",
   "nbconvert_exporter": "python",
   "pygments_lexer": "ipython3",
   "version": "3.8.10"
  },
  "orig_nbformat": 2,
  "kernelspec": {
   "name": "python3",
   "display_name": "Python 3.8.10 64-bit ('wojtek': conda)"
  },
  "interpreter": {
   "hash": "273e4cd330c9365d0d8fc6d704b08084cf297120c969e21fb6416b510b92ba85"
  }
 },
 "nbformat": 4,
 "nbformat_minor": 2,
 "cells": [
  {
   "cell_type": "code",
   "execution_count": 2,
   "metadata": {},
   "outputs": [],
   "source": [
    "import numpy as np"
   ]
  },
  {
   "cell_type": "code",
   "execution_count": 2,
   "metadata": {},
   "outputs": [
    {
     "output_type": "execute_result",
     "data": {
      "text/plain": [
       "3.7416573867739413"
      ]
     },
     "metadata": {},
     "execution_count": 2
    }
   ],
   "source": [
    "\n",
    "def magnitude_3(a,b,c):\n",
    "\n",
    "    v = [a,b,c]\n",
    "     \n",
    "    return np.linalg.norm(v)\n",
    "    \n",
    "magnitude_3(1,2,3) "
   ]
  },
  {
   "cell_type": "code",
   "execution_count": 4,
   "metadata": {},
   "outputs": [
    {
     "output_type": "stream",
     "name": "stdout",
     "text": [
      "[1]\n[1, 2]\n[1, 2, 3]\n"
     ]
    },
    {
     "output_type": "execute_result",
     "data": {
      "text/plain": [
       "3.7416573867739413"
      ]
     },
     "metadata": {},
     "execution_count": 4
    }
   ],
   "source": [
    "def magnitude_complete(*args):               \n",
    "\n",
    "       \n",
    "    x = []\n",
    "\n",
    "    for arg in args:\n",
    "        x.append(arg)\n",
    "        print(x)\n",
    "    return np.linalg.norm(x)\n",
    "\n",
    "magnitude_complete(1,2,3)       \n"
   ]
  },
  {
   "cell_type": "code",
   "execution_count": 5,
   "metadata": {},
   "outputs": [
    {
     "output_type": "stream",
     "name": "stdout",
     "text": [
      "[[ 1 -2]\n [ 1  3]]\n\n[2.+1.j 2.-1.j]\n\n[[ 0.81649658+0.j          0.81649658-0.j        ]\n [-0.40824829-0.40824829j -0.40824829+0.40824829j]]\n"
     ]
    }
   ],
   "source": [
    "mat = np.mat('1 -2;1 3')\n",
    "  \n",
    "# Original matrix\n",
    "print(mat)\n",
    "print(\"\")\n",
    "evalue, evect = np.linalg.eig(mat)\n",
    "  \n",
    "# Eigenvalues of the said matrix\"\n",
    "print(evalue)\n",
    "print(\"\")\n",
    "  \n",
    "# Eigenvectors of the said matrix\n",
    "print(evect)"
   ]
  },
  {
   "cell_type": "code",
   "execution_count": null,
   "metadata": {},
   "outputs": [],
   "source": [
    "x = np.array([1, 2, 3, 4])\n",
    "m = np.mat(x)\n",
    "m = m.shape[0]\n",
    "m"
   ]
  },
  {
   "cell_type": "code",
   "execution_count": 7,
   "metadata": {},
   "outputs": [
    {
     "output_type": "execute_result",
     "data": {
      "text/plain": [
       "array([10, 82, 10, 11, 10,  7])"
      ]
     },
     "metadata": {},
     "execution_count": 7
    }
   ],
   "source": [
    "def add_vectors(u, v):\n",
    "    return np.add(u, v)\n",
    "\n",
    "a = np.array([1,2,3,4,5,6])\n",
    "b = np.array([9,80,7,7,5,1])\n",
    "\n",
    "add_vectors(a,b)\n",
    " "
   ]
  },
  {
   "cell_type": "code",
   "execution_count": 15,
   "metadata": {},
   "outputs": [
    {
     "output_type": "execute_result",
     "data": {
      "text/plain": [
       "[10, 82, 10, 11, 10, 7]"
      ]
     },
     "metadata": {},
     "execution_count": 15
    }
   ],
   "source": [
    "def add_vectors_manualy(u,v):\n",
    "\n",
    "    l =[]\n",
    "    for i in range(len(u)):\n",
    "        l.append(u[i] + v[i])\n",
    "    return l\n",
    "\n",
    "a = np.array([1,2,3,4,5,6])\n",
    "b = np.array([9,80,7,7,5,1])\n",
    "\n",
    "add_vectors_manualy(a,b)"
   ]
  },
  {
   "cell_type": "code",
   "execution_count": 16,
   "metadata": {},
   "outputs": [
    {
     "output_type": "execute_result",
     "data": {
      "text/plain": [
       "array([12, 16])"
      ]
     },
     "metadata": {},
     "execution_count": 16
    }
   ],
   "source": [
    "def scalar_function(scalar,vector):\n",
    "    \n",
    "    return np.array(vector) * scalar\n",
    "\n",
    "scalar_function(4,[3,4])\n"
   ]
  },
  {
   "cell_type": "code",
   "execution_count": 5,
   "metadata": {},
   "outputs": [
    {
     "output_type": "execute_result",
     "data": {
      "text/plain": [
       "41"
      ]
     },
     "metadata": {},
     "execution_count": 5
    }
   ],
   "source": [
    "def dot_product(u, v):\n",
    "    return np.dot(u,v)\n",
    "\n",
    "\n",
    "\n",
    "\n",
    "\n",
    "dot_product([1,2,3],[8,6,7])   "
   ]
  },
  {
   "cell_type": "code",
   "execution_count": 6,
   "metadata": {},
   "outputs": [
    {
     "output_type": "execute_result",
     "data": {
      "text/plain": [
       "[[1, 2], [3, 4]]"
      ]
     },
     "metadata": {},
     "execution_count": 6
    }
   ],
   "source": [
    "def copy_matrix(matrix):\n",
    "    return matrix.copy()\n",
    "\n",
    "copy_matrix([[1, 2], [3, 4]])    "
   ]
  },
  {
   "cell_type": "code",
   "execution_count": 11,
   "metadata": {},
   "outputs": [
    {
     "output_type": "execute_result",
     "data": {
      "text/plain": [
       "array([[1, 7],\n",
       "       [8, 5],\n",
       "       [9, 9]])"
      ]
     },
     "metadata": {},
     "execution_count": 11
    }
   ],
   "source": [
    "def add_row(matrix,row):\n",
    "    return np.vstack([matrix,row])\n",
    "\n",
    "m = [[1, 7], [8, 5]]\n",
    "add_row(m, [9, 9])"
   ]
  },
  {
   "cell_type": "code",
   "execution_count": 12,
   "metadata": {},
   "outputs": [],
   "source": [
    "def add_row(matrix):\n",
    "    new_row=[]\n",
    "    for row in matrix:\n",
    "        n_columns=len(row)\n",
    "        \n",
    "    for i in range(n_columns):\n",
    "        new_row.append(0)\n",
    "    return np.vstack([matrix,new_row])\n",
    "    "
   ]
  },
  {
   "cell_type": "code",
   "execution_count": 14,
   "metadata": {},
   "outputs": [
    {
     "output_type": "execute_result",
     "data": {
      "text/plain": [
       "array([[3, 2, 5],\n",
       "       [1, 4, 7],\n",
       "       [0, 0, 0]])"
      ]
     },
     "metadata": {},
     "execution_count": 14
    }
   ],
   "source": [
    "n = [[3, 2, 5], [1, 4, 7]]\n",
    "add_row(n)"
   ]
  },
  {
   "cell_type": "code",
   "execution_count": 20,
   "metadata": {},
   "outputs": [
    {
     "output_type": "execute_result",
     "data": {
      "text/plain": [
       "array([[3, 2, 2],\n",
       "       [5, 1, 6],\n",
       "       [4, 7, 2]])"
      ]
     },
     "metadata": {},
     "execution_count": 20
    }
   ],
   "source": [
    "def add_column(matrix,column):\n",
    "    return np.column_stack([matrix,column])\n",
    "\n",
    "matrix= [[3, 2], [5, 1], [4, 7]]\n",
    "add_column(matrix,[2, 6,2])\n"
   ]
  },
  {
   "cell_type": "code",
   "execution_count": 27,
   "metadata": {},
   "outputs": [
    {
     "output_type": "execute_result",
     "data": {
      "text/plain": [
       "matrix([[11,  4],\n",
       "        [12,  6],\n",
       "        [15, 19]])"
      ]
     },
     "metadata": {},
     "execution_count": 27
    }
   ],
   "source": [
    "def add_matrices(m1, m2):\n",
    "    m3 = []\n",
    "    for x,y in zip(m1,m2):\n",
    "        m3.append(np.add(x,y))\n",
    "    return np.asmatrix(m3)\n",
    "\n",
    "c = [[8, 2], [3, 4], [5, 7]]\n",
    "d = [[3, 2], [9, 2], [10, 12]]\n",
    "\n",
    "add_matrices(c, d)    \n"
   ]
  },
  {
   "cell_type": "code",
   "execution_count": 30,
   "metadata": {},
   "outputs": [
    {
     "output_type": "execute_result",
     "data": {
      "text/plain": [
       "matrix([[11,  4],\n",
       "        [12,  6],\n",
       "        [15, 19]])"
      ]
     },
     "metadata": {},
     "execution_count": 30
    }
   ],
   "source": [
    "def add_matrices(m1, m2):\n",
    "\n",
    "    m1 = np.matrix(m1)\n",
    "    m2 = np.matrix(m2)\n",
    "    return m1+m2\n",
    "\n",
    "c = [[8, 2], [3, 4], [5, 7]]\n",
    "d = [[3, 2], [9, 2], [10, 12]]\n",
    "\n",
    "add_matrices(c, d)\n",
    "\n",
    "\n"
   ]
  },
  {
   "cell_type": "code",
   "execution_count": 32,
   "metadata": {},
   "outputs": [
    {
     "output_type": "execute_result",
     "data": {
      "text/plain": [
       "array([[11,  4],\n",
       "       [12,  6],\n",
       "       [15, 19]])"
      ]
     },
     "metadata": {},
     "execution_count": 32
    }
   ],
   "source": [
    "\"\"\"daje ten sam wynik co matrix\"\"\"\n",
    "\n",
    "c = [[8, 2], [3, 4], [5, 7]]\n",
    "d = [[3, 2], [9, 2], [10, 12]]\n",
    "\n",
    "c = np.array(c)\n",
    "d = np.array(d)\n",
    "result = c+d\n",
    "result  \n"
   ]
  },
  {
   "cell_type": "code",
   "execution_count": 35,
   "metadata": {},
   "outputs": [],
   "source": [
    "def scalar_mult(s, m):\n",
    "    m= np.matrix(m)*s\n",
    "    return m\n"
   ]
  },
  {
   "cell_type": "code",
   "execution_count": 36,
   "metadata": {},
   "outputs": [
    {
     "output_type": "execute_result",
     "data": {
      "text/plain": [
       "matrix([[ 3,  6],\n",
       "        [ 9, 12]])"
      ]
     },
     "metadata": {},
     "execution_count": 36
    }
   ],
   "source": [
    "a = [[1, 2], [3, 4]]\n",
    "scalar_mult(3, a)"
   ]
  },
  {
   "cell_type": "code",
   "execution_count": 42,
   "metadata": {},
   "outputs": [
    {
     "output_type": "stream",
     "name": "stdout",
     "text": [
      "original matrix [[1 2]\n [3 4]\n [5 6]]\nshape (3, 2)\nflatten [[1 2 3 4 5 6]]\nscalar * flatten [[ 3  6  9 12 15 18]]\n"
     ]
    },
    {
     "output_type": "execute_result",
     "data": {
      "text/plain": [
       "matrix([[ 3,  6],\n",
       "        [ 9, 12],\n",
       "        [15, 18]])"
      ]
     },
     "metadata": {},
     "execution_count": 42
    }
   ],
   "source": [
    "def scalar_mult_flt(s, m):\n",
    "    m = np.matrix(m)\n",
    "    dim = np.shape(m)\n",
    "    v = m.flatten()\n",
    "    nv = v*s\n",
    "    print(f'original matrix {m}')\n",
    "    print(f'shape {dim}')\n",
    "    print(f'flatten {v}')\n",
    "    print(f'scalar * flatten {nv}')\n",
    "    return np.matrix(nv.reshape(dim))\n",
    "a = [[1, 2], [3, 4], [5,6]]    \n",
    "scalar_mult_flt(3, a)\n",
    "# [1, 2, 3, 4]"
   ]
  },
  {
   "cell_type": "code",
   "execution_count": 45,
   "metadata": {},
   "outputs": [
    {
     "output_type": "execute_result",
     "data": {
      "text/plain": [
       "array([[19, 22],\n",
       "       [43, 50]])"
      ]
     },
     "metadata": {},
     "execution_count": 45
    }
   ],
   "source": [
    "def matrix_mult(m1, m2):\n",
    "    a = np.matmul(m1,m2)\n",
    "    return a\n",
    "\n",
    "matrix_mult([[1, 2], [3,  4]], [[5, 6], [7, 8]])"
   ]
  },
  {
   "cell_type": "code",
   "execution_count": 46,
   "metadata": {},
   "outputs": [
    {
     "output_type": "execute_result",
     "data": {
      "text/plain": [
       "array([[3],\n",
       "       [4],\n",
       "       [6]])"
      ]
     },
     "metadata": {},
     "execution_count": 46
    }
   ],
   "source": [
    "def transpose(m):\n",
    "    return np.transpose(m)\n",
    "    \"\"\"\n",
    "     >>> m = [[3, 4, 6]]\n",
    "     >>> transpose(m)\n",
    "     [[3], [4], [6]]\n",
    "     >>> m\n",
    "     [3, 4, 6]\n",
    "     >>> m = [[3, 4, 6], [1, 5, 9]]\n",
    "     >>> transpose(m)\n",
    "     [[3, 1], [4, 5], [6, 9]]\n",
    "    \"\"\"\n",
    "    \n",
    "m = [[3, 4, 6]]\n",
    "transpose(m)"
   ]
  },
  {
   "cell_type": "code",
   "execution_count": 47,
   "metadata": {},
   "outputs": [],
   "source": [
    "def transpose_np(m):\n",
    "    m = np.array(m)\n",
    "    return m.T"
   ]
  },
  {
   "cell_type": "code",
   "execution_count": null,
   "metadata": {},
   "outputs": [],
   "source": []
  }
 ]
}